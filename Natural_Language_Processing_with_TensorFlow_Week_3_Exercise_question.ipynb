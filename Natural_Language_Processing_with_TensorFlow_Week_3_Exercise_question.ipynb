{
  "nbformat": 4,
  "nbformat_minor": 0,
  "metadata": {
    "accelerator": "GPU",
    "colab": {
      "name": "Natural_Language_Processing_with_TensorFlow_Week_3_Exercise_question.ipynb",
      "provenance": []
    },
    "kernelspec": {
      "display_name": "Python 3",
      "name": "python3"
    }
  },
  "cells": [
    {
      "cell_type": "markdown",
      "metadata": {
        "id": "MV9LhVkq1vrM",
        "colab_type": "text"
      },
      "source": [
        "#Exercise 3- Exploring overfitting in NLP\n",
        "\n",
        "When looking at a number of different types of layer for text classification this week you saw many examples of overfitting -- with one of the major reasons for the overfitting being that your training dataset was quite small, and with a small number of words. Embeddings derived from this may be over generalized also. So for this week’s exercise you’re going to train on a large dataset, as well as using transfer learning of an existing set of embeddings.\n",
        "\n",
        "The dataset is from:  https://www.kaggle.com/kazanova/sentiment140. I’ve cleaned it up a little, in particular to make the file encoding work with Python CSV reader.\n",
        "\n",
        "The embeddings that you will transfer learn from are called the GloVe, also known as Global Vectors for Word Representation, available at: https://nlp.stanford.edu/projects/glove/"
      ]
    },
    {
      "cell_type": "code",
      "metadata": {
        "id": "zX4Kg8DUTKWO",
        "colab_type": "code",
        "colab": {}
      },
      "source": [
        "#@title Licensed under the Apache License, Version 2.0 (the \"License\");\n",
        "# you may not use this file except in compliance with the License.\n",
        "# You may obtain a copy of the License at\n",
        "#\n",
        "# https://www.apache.org/licenses/LICENSE-2.0\n",
        "#\n",
        "# Unless required by applicable law or agreed to in writing, software\n",
        "# distributed under the License is distributed on an \"AS IS\" BASIS,\n",
        "# WITHOUT WARRANTIES OR CONDITIONS OF ANY KIND, either express or implied.\n",
        "# See the License for the specific language governing permissions and\n",
        "# limitations under the License."
      ],
      "execution_count": 0,
      "outputs": []
    },
    {
      "cell_type": "code",
      "metadata": {
        "colab_type": "code",
        "id": "hmA6EzkQJ5jt",
        "colab": {}
      },
      "source": [
        "import json\n",
        "import tensorflow as tf\n",
        "import csv\n",
        "import random\n",
        "import numpy as np\n",
        "\n",
        "from tensorflow.keras.preprocessing.text import Tokenizer\n",
        "from tensorflow.keras.preprocessing.sequence import pad_sequences\n",
        "from tensorflow.keras.utils import to_categorical\n",
        "from tensorflow.keras import regularizers\n",
        "\n",
        "\n",
        "embedding_dim = 100\n",
        "max_length = 16\n",
        "trunc_type='post'\n",
        "padding_type='post'\n",
        "oov_tok = \"<OOV>\"\n",
        "training_size=160000#Your dataset size here. Experiment using smaller values (i.e. 16000), but don't forget to train on at least 160000 to see the best effects\n",
        "test_portion=.1\n",
        "\n",
        "corpus = []\n"
      ],
      "execution_count": 0,
      "outputs": []
    },
    {
      "cell_type": "code",
      "metadata": {
        "colab_type": "code",
        "id": "bM0l_dORKqE0",
        "outputId": "249c7d2c-a6dc-4bb7-f8e6-49c020aa1981",
        "colab": {
          "base_uri": "https://localhost:8080/",
          "height": 208
        }
      },
      "source": [
        "# Note that I cleaned the Stanford dataset to remove LATIN1 encoding to make it easier for Python CSV reader\n",
        "# You can do that yourself with:\n",
        "# iconv -f LATIN1 -t UTF8 training.1600000.processed.noemoticon.csv -o training_cleaned.csv\n",
        "# I then hosted it on my site to make it easier to use in this notebook\n",
        "\n",
        "!wget --no-check-certificate \\\n",
        "    https://storage.googleapis.com/laurencemoroney-blog.appspot.com/training_cleaned.csv \\\n",
        "    -O /tmp/training_cleaned.csv\n",
        "\n",
        "num_sentences = 0\n",
        "\n",
        "with open(\"/tmp/training_cleaned.csv\") as csvfile:\n",
        "    reader = csv.reader(csvfile, delimiter=',')\n",
        "    for row in reader:\n",
        "      # Your Code here. Create list items where the first item is the text, found in row[5], and the second is the label. Note that the label is a '0' or a '4' in the text. When it's the former, make\n",
        "      # your label to be 0, otherwise 1. Keep a count of the number of sentences in num_sentences\n",
        "        list_item=[]\n",
        "        # YOUR CODE HERE\n",
        "        list_item.append(row[5])\n",
        "        list_item.append(0 if row[0] == \"0\" else 1)\n",
        "        num_sentences = num_sentences + 1\n",
        "        corpus.append(list_item)\n"
      ],
      "execution_count": 13,
      "outputs": [
        {
          "output_type": "stream",
          "text": [
            "--2020-06-04 19:46:34--  https://storage.googleapis.com/laurencemoroney-blog.appspot.com/training_cleaned.csv\n",
            "Resolving storage.googleapis.com (storage.googleapis.com)... 172.217.214.128, 2607:f8b0:4001:c05::80\n",
            "Connecting to storage.googleapis.com (storage.googleapis.com)|172.217.214.128|:443... connected.\n",
            "HTTP request sent, awaiting response... 200 OK\n",
            "Length: 238942690 (228M) [application/octet-stream]\n",
            "Saving to: ‘/tmp/training_cleaned.csv’\n",
            "\n",
            "/tmp/training_clean 100%[===================>] 227.87M  94.7MB/s    in 2.4s    \n",
            "\n",
            "2020-06-04 19:46:37 (94.7 MB/s) - ‘/tmp/training_cleaned.csv’ saved [238942690/238942690]\n",
            "\n"
          ],
          "name": "stdout"
        }
      ]
    },
    {
      "cell_type": "code",
      "metadata": {
        "colab_type": "code",
        "id": "3kxblBUjEUX-",
        "outputId": "afb985c8-fbcc-4e36-f9c6-4b32ed1d5b06",
        "colab": {
          "base_uri": "https://localhost:8080/",
          "height": 69
        }
      },
      "source": [
        "print(num_sentences)\n",
        "print(len(corpus))\n",
        "print(corpus[1])\n",
        "\n",
        "# Expected Output:\n",
        "# 1600000\n",
        "# 1600000\n",
        "# [\"is upset that he can't update his Facebook by texting it... and might cry as a result  School today also. Blah!\", 0]"
      ],
      "execution_count": 14,
      "outputs": [
        {
          "output_type": "stream",
          "text": [
            "1600000\n",
            "1600000\n",
            "[\"is upset that he can't update his Facebook by texting it... and might cry as a result  School today also. Blah!\", 0]\n"
          ],
          "name": "stdout"
        }
      ]
    },
    {
      "cell_type": "code",
      "metadata": {
        "colab_type": "code",
        "id": "ohOGz24lsNAD",
        "colab": {}
      },
      "source": [
        "sentences=[]\n",
        "labels=[]\n",
        "random.shuffle(corpus)\n",
        "for x in range(training_size):\n",
        "    sentences.append(corpus[x][0])# YOUR CODE HERE)\n",
        "    labels.append(corpus[x][1])# YOUR CODE HERE)\n",
        "\n",
        "\n",
        "tokenizer = Tokenizer()\n",
        "tokenizer.fit_on_texts(sentences)# YOUR CODE HERE)\n",
        "\n",
        "word_index = tokenizer.word_index\n",
        "vocab_size=len(word_index)# YOUR CODE HERE)\n",
        "\n",
        "sequences = tokenizer.texts_to_sequences(sentences)# YOUR CODE HERE)\n",
        "padded = pad_sequences(sequences, maxlen=max_length, padding=padding_type, truncating=trunc_type)# YOUR CODE HERE)\n",
        "\n",
        "split = int(test_portion * training_size)\n",
        "\n",
        "test_sequences = padded[0:split]# YOUR CODE HERE]\n",
        "training_sequences = padded[split:training_size]# YOUR CODE HERE]\n",
        "test_labels = np.array(labels[0:split])# YOUR CODE HERE]\n",
        "training_labels = np.array(labels[split:training_size])# YOUR CODE HERE]"
      ],
      "execution_count": 0,
      "outputs": []
    },
    {
      "cell_type": "code",
      "metadata": {
        "colab_type": "code",
        "id": "gIrtRem1En3N",
        "outputId": "5933cd0d-7855-4175-8c21-de6ac11ec17d",
        "colab": {
          "base_uri": "https://localhost:8080/",
          "height": 52
        }
      },
      "source": [
        "print(vocab_size)\n",
        "print(word_index['i'])\n",
        "# Expected Output\n",
        "# 138858\n",
        "# 1"
      ],
      "execution_count": 16,
      "outputs": [
        {
          "output_type": "stream",
          "text": [
            "137943\n",
            "1\n"
          ],
          "name": "stdout"
        }
      ]
    },
    {
      "cell_type": "code",
      "metadata": {
        "colab_type": "code",
        "id": "C1zdgJkusRh0",
        "outputId": "49d2c551-0a7a-4aeb-95be-9bc126505663",
        "colab": {
          "base_uri": "https://localhost:8080/",
          "height": 208
        }
      },
      "source": [
        "# Note this is the 100 dimension version of GloVe from Stanford\n",
        "# I unzipped and hosted it on my site to make this notebook easier\n",
        "!wget --no-check-certificate \\\n",
        "    https://storage.googleapis.com/laurencemoroney-blog.appspot.com/glove.6B.100d.txt \\\n",
        "    -O /tmp/glove.6B.100d.txt\n",
        "embeddings_index = {};\n",
        "with open('/tmp/glove.6B.100d.txt') as f:\n",
        "    for line in f:\n",
        "        values = line.split();\n",
        "        word = values[0];\n",
        "        coefs = np.asarray(values[1:], dtype='float32');\n",
        "        embeddings_index[word] = coefs;\n",
        "\n",
        "embeddings_matrix = np.zeros((vocab_size+1, embedding_dim));\n",
        "for word, i in word_index.items():\n",
        "    embedding_vector = embeddings_index.get(word);\n",
        "    if embedding_vector is not None:\n",
        "        embeddings_matrix[i] = embedding_vector;"
      ],
      "execution_count": 17,
      "outputs": [
        {
          "output_type": "stream",
          "text": [
            "--2020-06-04 19:51:35--  https://storage.googleapis.com/laurencemoroney-blog.appspot.com/glove.6B.100d.txt\n",
            "Resolving storage.googleapis.com (storage.googleapis.com)... 108.177.112.128, 2607:f8b0:4001:c19::80\n",
            "Connecting to storage.googleapis.com (storage.googleapis.com)|108.177.112.128|:443... connected.\n",
            "HTTP request sent, awaiting response... 200 OK\n",
            "Length: 347116733 (331M) [text/plain]\n",
            "Saving to: ‘/tmp/glove.6B.100d.txt’\n",
            "\n",
            "/tmp/glove.6B.100d. 100%[===================>] 331.04M  24.4MB/s    in 15s     \n",
            "\n",
            "2020-06-04 19:51:49 (22.7 MB/s) - ‘/tmp/glove.6B.100d.txt’ saved [347116733/347116733]\n",
            "\n"
          ],
          "name": "stdout"
        }
      ]
    },
    {
      "cell_type": "code",
      "metadata": {
        "colab_type": "code",
        "id": "71NLk_lpFLNt",
        "outputId": "b06070ce-d603-4906-9543-ff33820bc61b",
        "colab": {
          "base_uri": "https://localhost:8080/",
          "height": 34
        }
      },
      "source": [
        "print(len(embeddings_matrix))\n",
        "# Expected Output\n",
        "# 138859"
      ],
      "execution_count": 18,
      "outputs": [
        {
          "output_type": "stream",
          "text": [
            "137944\n"
          ],
          "name": "stdout"
        }
      ]
    },
    {
      "cell_type": "code",
      "metadata": {
        "colab_type": "code",
        "id": "iKKvbuEBOGFz",
        "outputId": "fac64ce5-e856-4983-c33c-d4a3913ba0f6",
        "colab": {
          "base_uri": "https://localhost:8080/",
          "height": 1000
        }
      },
      "source": [
        "model = tf.keras.Sequential([\n",
        "    tf.keras.layers.Embedding(vocab_size+1, embedding_dim, input_length=max_length, weights=[embeddings_matrix], trainable=False), #by default weights are initializated as random matrix\n",
        "    tf.keras.layers.Dropout(0.2),\n",
        "    tf.keras.layers.Conv1D(64,5,activation=\"relu\"),\n",
        "    tf.keras.layers.MaxPooling1D(pool_size=4),\n",
        "    tf.keras.layers.LSTM(64),\n",
        "    tf.keras.layers.Dense(1, activation=\"sigmoid\")\n",
        "    # YOUR CODE HERE - experiment with combining different types, such as convolutions and LSTMs\n",
        "])\n",
        "model.compile(loss=\"binary_crossentropy\",optimizer=\"adam\", metrics=[\"accuracy\"])# YOUR CODE HERE)\n",
        "model.summary()\n",
        "\n",
        "num_epochs = 50\n",
        "history = model.fit(training_sequences, training_labels, epochs=num_epochs, validation_data=(test_sequences, test_labels), verbose=2)\n",
        "\n",
        "print(\"Training Complete\")\n"
      ],
      "execution_count": 19,
      "outputs": [
        {
          "output_type": "stream",
          "text": [
            "Model: \"sequential_1\"\n",
            "_________________________________________________________________\n",
            "Layer (type)                 Output Shape              Param #   \n",
            "=================================================================\n",
            "embedding_1 (Embedding)      (None, 16, 100)           13794400  \n",
            "_________________________________________________________________\n",
            "dropout_1 (Dropout)          (None, 16, 100)           0         \n",
            "_________________________________________________________________\n",
            "conv1d_1 (Conv1D)            (None, 12, 64)            32064     \n",
            "_________________________________________________________________\n",
            "max_pooling1d_1 (MaxPooling1 (None, 3, 64)             0         \n",
            "_________________________________________________________________\n",
            "lstm_1 (LSTM)                (None, 64)                33024     \n",
            "_________________________________________________________________\n",
            "dense_1 (Dense)              (None, 1)                 65        \n",
            "=================================================================\n",
            "Total params: 13,859,553\n",
            "Trainable params: 65,153\n",
            "Non-trainable params: 13,794,400\n",
            "_________________________________________________________________\n",
            "Epoch 1/50\n",
            "4500/4500 - 15s - loss: 0.5688 - accuracy: 0.6976 - val_loss: 0.5177 - val_accuracy: 0.7392\n",
            "Epoch 2/50\n",
            "4500/4500 - 14s - loss: 0.5287 - accuracy: 0.7303 - val_loss: 0.5068 - val_accuracy: 0.7458\n",
            "Epoch 3/50\n",
            "4500/4500 - 15s - loss: 0.5124 - accuracy: 0.7426 - val_loss: 0.4982 - val_accuracy: 0.7537\n",
            "Epoch 4/50\n",
            "4500/4500 - 14s - loss: 0.5014 - accuracy: 0.7509 - val_loss: 0.4947 - val_accuracy: 0.7578\n",
            "Epoch 5/50\n",
            "4500/4500 - 15s - loss: 0.4932 - accuracy: 0.7550 - val_loss: 0.4970 - val_accuracy: 0.7554\n",
            "Epoch 6/50\n",
            "4500/4500 - 14s - loss: 0.4862 - accuracy: 0.7600 - val_loss: 0.4897 - val_accuracy: 0.7603\n",
            "Epoch 7/50\n",
            "4500/4500 - 14s - loss: 0.4809 - accuracy: 0.7627 - val_loss: 0.4951 - val_accuracy: 0.7548\n",
            "Epoch 8/50\n",
            "4500/4500 - 14s - loss: 0.4751 - accuracy: 0.7673 - val_loss: 0.4966 - val_accuracy: 0.7579\n",
            "Epoch 9/50\n",
            "4500/4500 - 15s - loss: 0.4722 - accuracy: 0.7686 - val_loss: 0.4948 - val_accuracy: 0.7576\n",
            "Epoch 10/50\n",
            "4500/4500 - 14s - loss: 0.4667 - accuracy: 0.7722 - val_loss: 0.5001 - val_accuracy: 0.7549\n",
            "Epoch 11/50\n",
            "4500/4500 - 14s - loss: 0.4638 - accuracy: 0.7728 - val_loss: 0.5008 - val_accuracy: 0.7569\n",
            "Epoch 12/50\n",
            "4500/4500 - 14s - loss: 0.4604 - accuracy: 0.7769 - val_loss: 0.4955 - val_accuracy: 0.7551\n",
            "Epoch 13/50\n",
            "4500/4500 - 14s - loss: 0.4579 - accuracy: 0.7772 - val_loss: 0.4970 - val_accuracy: 0.7545\n",
            "Epoch 14/50\n",
            "4500/4500 - 14s - loss: 0.4562 - accuracy: 0.7778 - val_loss: 0.5002 - val_accuracy: 0.7538\n",
            "Epoch 15/50\n",
            "4500/4500 - 14s - loss: 0.4535 - accuracy: 0.7809 - val_loss: 0.5037 - val_accuracy: 0.7501\n",
            "Epoch 16/50\n",
            "4500/4500 - 14s - loss: 0.4520 - accuracy: 0.7809 - val_loss: 0.4960 - val_accuracy: 0.7562\n",
            "Epoch 17/50\n",
            "4500/4500 - 14s - loss: 0.4495 - accuracy: 0.7834 - val_loss: 0.5016 - val_accuracy: 0.7556\n",
            "Epoch 18/50\n",
            "4500/4500 - 14s - loss: 0.4479 - accuracy: 0.7843 - val_loss: 0.4991 - val_accuracy: 0.7588\n",
            "Epoch 19/50\n",
            "4500/4500 - 14s - loss: 0.4447 - accuracy: 0.7847 - val_loss: 0.4997 - val_accuracy: 0.7527\n",
            "Epoch 20/50\n",
            "4500/4500 - 14s - loss: 0.4445 - accuracy: 0.7857 - val_loss: 0.4992 - val_accuracy: 0.7544\n",
            "Epoch 21/50\n",
            "4500/4500 - 14s - loss: 0.4443 - accuracy: 0.7873 - val_loss: 0.5025 - val_accuracy: 0.7521\n",
            "Epoch 22/50\n",
            "4500/4500 - 14s - loss: 0.4422 - accuracy: 0.7868 - val_loss: 0.5060 - val_accuracy: 0.7530\n",
            "Epoch 23/50\n",
            "4500/4500 - 14s - loss: 0.4408 - accuracy: 0.7880 - val_loss: 0.5062 - val_accuracy: 0.7542\n",
            "Epoch 24/50\n",
            "4500/4500 - 14s - loss: 0.4406 - accuracy: 0.7875 - val_loss: 0.5051 - val_accuracy: 0.7561\n",
            "Epoch 25/50\n",
            "4500/4500 - 14s - loss: 0.4387 - accuracy: 0.7903 - val_loss: 0.5029 - val_accuracy: 0.7543\n",
            "Epoch 26/50\n",
            "4500/4500 - 15s - loss: 0.4393 - accuracy: 0.7896 - val_loss: 0.5023 - val_accuracy: 0.7551\n",
            "Epoch 27/50\n",
            "4500/4500 - 14s - loss: 0.4377 - accuracy: 0.7908 - val_loss: 0.5135 - val_accuracy: 0.7534\n",
            "Epoch 28/50\n",
            "4500/4500 - 14s - loss: 0.4377 - accuracy: 0.7898 - val_loss: 0.5054 - val_accuracy: 0.7559\n",
            "Epoch 29/50\n",
            "4500/4500 - 14s - loss: 0.4374 - accuracy: 0.7900 - val_loss: 0.5082 - val_accuracy: 0.7542\n",
            "Epoch 30/50\n",
            "4500/4500 - 15s - loss: 0.4364 - accuracy: 0.7907 - val_loss: 0.5067 - val_accuracy: 0.7561\n",
            "Epoch 31/50\n",
            "4500/4500 - 15s - loss: 0.4368 - accuracy: 0.7905 - val_loss: 0.5034 - val_accuracy: 0.7594\n",
            "Epoch 32/50\n",
            "4500/4500 - 14s - loss: 0.4351 - accuracy: 0.7920 - val_loss: 0.5099 - val_accuracy: 0.7546\n",
            "Epoch 33/50\n",
            "4500/4500 - 14s - loss: 0.4345 - accuracy: 0.7928 - val_loss: 0.5077 - val_accuracy: 0.7556\n",
            "Epoch 34/50\n",
            "4500/4500 - 14s - loss: 0.4337 - accuracy: 0.7939 - val_loss: 0.5156 - val_accuracy: 0.7523\n",
            "Epoch 35/50\n",
            "4500/4500 - 14s - loss: 0.4336 - accuracy: 0.7930 - val_loss: 0.5078 - val_accuracy: 0.7524\n",
            "Epoch 36/50\n",
            "4500/4500 - 14s - loss: 0.4317 - accuracy: 0.7938 - val_loss: 0.5160 - val_accuracy: 0.7561\n",
            "Epoch 37/50\n",
            "4500/4500 - 14s - loss: 0.4319 - accuracy: 0.7945 - val_loss: 0.5131 - val_accuracy: 0.7564\n",
            "Epoch 38/50\n",
            "4500/4500 - 14s - loss: 0.4333 - accuracy: 0.7931 - val_loss: 0.5135 - val_accuracy: 0.7557\n",
            "Epoch 39/50\n",
            "4500/4500 - 14s - loss: 0.4320 - accuracy: 0.7938 - val_loss: 0.5109 - val_accuracy: 0.7568\n",
            "Epoch 40/50\n",
            "4500/4500 - 14s - loss: 0.4299 - accuracy: 0.7955 - val_loss: 0.5210 - val_accuracy: 0.7524\n",
            "Epoch 41/50\n",
            "4500/4500 - 14s - loss: 0.4312 - accuracy: 0.7939 - val_loss: 0.5155 - val_accuracy: 0.7534\n",
            "Epoch 42/50\n",
            "4500/4500 - 15s - loss: 0.4294 - accuracy: 0.7959 - val_loss: 0.5189 - val_accuracy: 0.7524\n",
            "Epoch 43/50\n",
            "4500/4500 - 14s - loss: 0.4291 - accuracy: 0.7946 - val_loss: 0.5163 - val_accuracy: 0.7529\n",
            "Epoch 44/50\n",
            "4500/4500 - 14s - loss: 0.4299 - accuracy: 0.7947 - val_loss: 0.5115 - val_accuracy: 0.7517\n",
            "Epoch 45/50\n",
            "4500/4500 - 14s - loss: 0.4312 - accuracy: 0.7951 - val_loss: 0.5152 - val_accuracy: 0.7516\n",
            "Epoch 46/50\n",
            "4500/4500 - 14s - loss: 0.4283 - accuracy: 0.7967 - val_loss: 0.5084 - val_accuracy: 0.7541\n",
            "Epoch 47/50\n",
            "4500/4500 - 15s - loss: 0.4268 - accuracy: 0.7970 - val_loss: 0.5155 - val_accuracy: 0.7527\n",
            "Epoch 48/50\n",
            "4500/4500 - 15s - loss: 0.4287 - accuracy: 0.7960 - val_loss: 0.5194 - val_accuracy: 0.7503\n",
            "Epoch 49/50\n",
            "4500/4500 - 14s - loss: 0.4292 - accuracy: 0.7949 - val_loss: 0.5168 - val_accuracy: 0.7526\n",
            "Epoch 50/50\n",
            "4500/4500 - 14s - loss: 0.4274 - accuracy: 0.7975 - val_loss: 0.5147 - val_accuracy: 0.7541\n",
            "Training Complete\n"
          ],
          "name": "stdout"
        }
      ]
    },
    {
      "cell_type": "code",
      "metadata": {
        "colab_type": "code",
        "id": "qxju4ItJKO8F",
        "outputId": "c58bfffe-0cef-4d07-accb-58e710b6b139",
        "colab": {
          "base_uri": "https://localhost:8080/",
          "height": 608
        }
      },
      "source": [
        "import matplotlib.image  as mpimg\n",
        "import matplotlib.pyplot as plt\n",
        "\n",
        "#-----------------------------------------------------------\n",
        "# Retrieve a list of list results on training and test data\n",
        "# sets for each training epoch\n",
        "#-----------------------------------------------------------\n",
        "acc=history.history['accuracy']\n",
        "val_acc=history.history['val_accuracy']\n",
        "loss=history.history['loss']\n",
        "val_loss=history.history['val_loss']\n",
        "\n",
        "epochs=range(len(acc)) # Get number of epochs\n",
        "\n",
        "#------------------------------------------------\n",
        "# Plot training and validation accuracy per epoch\n",
        "#------------------------------------------------\n",
        "plt.plot(epochs, acc, 'r')\n",
        "plt.plot(epochs, val_acc, 'b')\n",
        "plt.title('Training and validation accuracy')\n",
        "plt.xlabel(\"Epochs\")\n",
        "plt.ylabel(\"Accuracy\")\n",
        "plt.legend([\"Accuracy\", \"Validation Accuracy\"])\n",
        "\n",
        "plt.figure()\n",
        "\n",
        "#------------------------------------------------\n",
        "# Plot training and validation loss per epoch\n",
        "#------------------------------------------------\n",
        "plt.plot(epochs, loss, 'r')\n",
        "plt.plot(epochs, val_loss, 'b')\n",
        "plt.title('Training and validation loss')\n",
        "plt.xlabel(\"Epochs\")\n",
        "plt.ylabel(\"Loss\")\n",
        "plt.legend([\"Loss\", \"Validation Loss\"])\n",
        "\n",
        "plt.figure()\n",
        "\n",
        "\n",
        "# Expected Output\n",
        "# A chart where the validation loss does not increase sharply!"
      ],
      "execution_count": 20,
      "outputs": [
        {
          "output_type": "execute_result",
          "data": {
            "text/plain": [
              "<Figure size 432x288 with 0 Axes>"
            ]
          },
          "metadata": {
            "tags": []
          },
          "execution_count": 20
        },
        {
          "output_type": "display_data",
          "data": {
            "image/png": "[encoded data removed]",
            "text/plain": [
              "<Figure size 432x288 with 1 Axes>"
            ]
          },
          "metadata": {
            "tags": [],
            "needs_background": "light"
          }
        },
        {
          "output_type": "display_data",
          "data": {
            "image/png": "[encoded data removed]",
            "text/plain": [
              "<Figure size 432x288 with 1 Axes>"
            ]
          },
          "metadata": {
            "tags": [],
            "needs_background": "light"
          }
        },
        {
          "output_type": "display_data",
          "data": {
            "text/plain": [
              "<Figure size 432x288 with 0 Axes>"
            ]
          },
          "metadata": {
            "tags": []
          }
        }
      ]
    },
    {
      "cell_type": "code",
      "metadata": {
        "id": "F4G85PGJrtdJ",
        "colab_type": "code",
        "colab": {}
      },
      "source": [
        ""
      ],
      "execution_count": 0,
      "outputs": []
    }
  ]
}