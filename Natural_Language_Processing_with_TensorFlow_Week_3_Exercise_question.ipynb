{
  "nbformat": 4,
  "nbformat_minor": 0,
  "metadata": {
    "accelerator": "GPU",
    "colab": {
      "name": "Natural_Language_Processing_with_TensorFlow_Week_3_Exercise_question.ipynb",
      "provenance": []
    },
    "kernelspec": {
      "display_name": "Python 3",
      "name": "python3"
    }
  },
  "cells": [
    {
      "cell_type": "code",
      "metadata": {
        "id": "zX4Kg8DUTKWO",
        "colab_type": "code",
        "colab": {}
      },
      "source": [
        "#@title Licensed under the Apache License, Version 2.0 (the \"License\");\n",
        "# you may not use this file except in compliance with the License.\n",
        "# You may obtain a copy of the License at\n",
        "#\n",
        "# https://www.apache.org/licenses/LICENSE-2.0\n",
        "#\n",
        "# Unless required by applicable law or agreed to in writing, software\n",
        "# distributed under the License is distributed on an \"AS IS\" BASIS,\n",
        "# WITHOUT WARRANTIES OR CONDITIONS OF ANY KIND, either express or implied.\n",
        "# See the License for the specific language governing permissions and\n",
        "# limitations under the License."
      ],
      "execution_count": 0,
      "outputs": []
    },
    {
      "cell_type": "code",
      "metadata": {
        "colab_type": "code",
        "id": "hmA6EzkQJ5jt",
        "colab": {}
      },
      "source": [
        "import json\n",
        "import tensorflow as tf\n",
        "import csv\n",
        "import random\n",
        "import numpy as np\n",
        "\n",
        "from tensorflow.keras.preprocessing.text import Tokenizer\n",
        "from tensorflow.keras.preprocessing.sequence import pad_sequences\n",
        "from tensorflow.keras.utils import to_categorical\n",
        "from tensorflow.keras import regularizers\n",
        "\n",
        "\n",
        "embedding_dim = 100\n",
        "max_length = 16\n",
        "trunc_type='post'\n",
        "padding_type='post'\n",
        "oov_tok = \"<OOV>\"\n",
        "training_size=160000#Your dataset size here. Experiment using smaller values (i.e. 16000), but don't forget to train on at least 160000 to see the best effects\n",
        "test_portion=.1\n",
        "\n",
        "corpus = []\n"
      ],
      "execution_count": 0,
      "outputs": []
    },
    {
      "cell_type": "code",
      "metadata": {
        "colab_type": "code",
        "id": "bM0l_dORKqE0",
        "outputId": "cd9049a0-9d1b-437a-9999-d49019bd6bb5",
        "colab": {
          "base_uri": "https://localhost:8080/",
          "height": 208
        }
      },
      "source": [
        "# Note that I cleaned the Stanford dataset to remove LATIN1 encoding to make it easier for Python CSV reader\n",
        "# You can do that yourself with:\n",
        "# iconv -f LATIN1 -t UTF8 training.1600000.processed.noemoticon.csv -o training_cleaned.csv\n",
        "# I then hosted it on my site to make it easier to use in this notebook\n",
        "\n",
        "!wget --no-check-certificate \\\n",
        "    https://storage.googleapis.com/laurencemoroney-blog.appspot.com/training_cleaned.csv \\\n",
        "    -O /tmp/training_cleaned.csv\n",
        "\n",
        "num_sentences = 0\n",
        "\n",
        "with open(\"/tmp/training_cleaned.csv\") as csvfile:\n",
        "    reader = csv.reader(csvfile, delimiter=',')\n",
        "    for row in reader:\n",
        "      # Your Code here. Create list items where the first item is the text, found in row[5], and the second is the label. Note that the label is a '0' or a '4' in the text. When it's the former, make\n",
        "      # your label to be 0, otherwise 1. Keep a count of the number of sentences in num_sentences\n",
        "        list_item=[]\n",
        "        # YOUR CODE HERE\n",
        "        list_item.append(row[5])\n",
        "        list_item.append(0 if row[0] == \"0\" else 1)\n",
        "        num_sentences = num_sentences + 1\n",
        "        corpus.append(list_item)\n"
      ],
      "execution_count": 3,
      "outputs": [
        {
          "output_type": "stream",
          "text": [
            "--2020-06-04 18:56:15--  https://storage.googleapis.com/laurencemoroney-blog.appspot.com/training_cleaned.csv\n",
            "Resolving storage.googleapis.com (storage.googleapis.com)... 173.194.197.128, 2607:f8b0:4001:c03::80\n",
            "Connecting to storage.googleapis.com (storage.googleapis.com)|173.194.197.128|:443... connected.\n",
            "HTTP request sent, awaiting response... 200 OK\n",
            "Length: 238942690 (228M) [application/octet-stream]\n",
            "Saving to: ‘/tmp/training_cleaned.csv’\n",
            "\n",
            "/tmp/training_clean 100%[===================>] 227.87M   133MB/s    in 1.7s    \n",
            "\n",
            "2020-06-04 18:56:16 (133 MB/s) - ‘/tmp/training_cleaned.csv’ saved [238942690/238942690]\n",
            "\n"
          ],
          "name": "stdout"
        }
      ]
    },
    {
      "cell_type": "code",
      "metadata": {
        "colab_type": "code",
        "id": "3kxblBUjEUX-",
        "outputId": "fdf4aa0a-b6ea-483e-c44c-edf6a20063cb",
        "colab": {
          "base_uri": "https://localhost:8080/",
          "height": 69
        }
      },
      "source": [
        "print(num_sentences)\n",
        "print(len(corpus))\n",
        "print(corpus[1])\n",
        "\n",
        "# Expected Output:\n",
        "# 1600000\n",
        "# 1600000\n",
        "# [\"is upset that he can't update his Facebook by texting it... and might cry as a result  School today also. Blah!\", 0]"
      ],
      "execution_count": 4,
      "outputs": [
        {
          "output_type": "stream",
          "text": [
            "1600000\n",
            "1600000\n",
            "[\"is upset that he can't update his Facebook by texting it... and might cry as a result  School today also. Blah!\", 0]\n"
          ],
          "name": "stdout"
        }
      ]
    },
    {
      "cell_type": "code",
      "metadata": {
        "colab_type": "code",
        "id": "ohOGz24lsNAD",
        "colab": {}
      },
      "source": [
        "sentences=[]\n",
        "labels=[]\n",
        "random.shuffle(corpus)\n",
        "for x in range(training_size):\n",
        "    sentences.append(corpus[x][0])# YOUR CODE HERE)\n",
        "    labels.append(corpus[x][1])# YOUR CODE HERE)\n",
        "\n",
        "\n",
        "tokenizer = Tokenizer()\n",
        "tokenizer.fit_on_texts(sentences)# YOUR CODE HERE)\n",
        "\n",
        "word_index = tokenizer.word_index\n",
        "vocab_size=len(word_index)# YOUR CODE HERE)\n",
        "\n",
        "sequences = tokenizer.texts_to_sequences(sentences)# YOUR CODE HERE)\n",
        "padded = pad_sequences(sequences, maxlen=max_length, padding=padding_type, truncating=trunc_type)# YOUR CODE HERE)\n",
        "\n",
        "split = int(test_portion * training_size)\n",
        "\n",
        "test_sequences = padded[0:split]# YOUR CODE HERE]\n",
        "training_sequences = padded[split:training_size]# YOUR CODE HERE]\n",
        "test_labels = np.array(labels[0:split])# YOUR CODE HERE]\n",
        "training_labels = np.array(labels[split:training_size])# YOUR CODE HERE]"
      ],
      "execution_count": 0,
      "outputs": []
    },
    {
      "cell_type": "code",
      "metadata": {
        "colab_type": "code",
        "id": "gIrtRem1En3N",
        "outputId": "c63455f5-5c3f-45d7-fea0-dcffae90d47e",
        "colab": {
          "base_uri": "https://localhost:8080/",
          "height": 52
        }
      },
      "source": [
        "print(vocab_size)\n",
        "print(word_index['i'])\n",
        "# Expected Output\n",
        "# 138858\n",
        "# 1"
      ],
      "execution_count": 6,
      "outputs": [
        {
          "output_type": "stream",
          "text": [
            "138728\n",
            "1\n"
          ],
          "name": "stdout"
        }
      ]
    },
    {
      "cell_type": "code",
      "metadata": {
        "colab_type": "code",
        "id": "C1zdgJkusRh0",
        "outputId": "3c3e5a5e-4f1b-4fd9-e5ed-6aee34588b7f",
        "colab": {
          "base_uri": "https://localhost:8080/",
          "height": 208
        }
      },
      "source": [
        "# Note this is the 100 dimension version of GloVe from Stanford\n",
        "# I unzipped and hosted it on my site to make this notebook easier\n",
        "!wget --no-check-certificate \\\n",
        "    https://storage.googleapis.com/laurencemoroney-blog.appspot.com/glove.6B.100d.txt \\\n",
        "    -O /tmp/glove.6B.100d.txt\n",
        "embeddings_index = {};\n",
        "with open('/tmp/glove.6B.100d.txt') as f:\n",
        "    for line in f:\n",
        "        values = line.split();\n",
        "        word = values[0];\n",
        "        coefs = np.asarray(values[1:], dtype='float32');\n",
        "        embeddings_index[word] = coefs;\n",
        "\n",
        "embeddings_matrix = np.zeros((vocab_size+1, embedding_dim));\n",
        "for word, i in word_index.items():\n",
        "    embedding_vector = embeddings_index.get(word);\n",
        "    if embedding_vector is not None:\n",
        "        embeddings_matrix[i] = embedding_vector;"
      ],
      "execution_count": 7,
      "outputs": [
        {
          "output_type": "stream",
          "text": [
            "--2020-06-04 18:56:50--  https://storage.googleapis.com/laurencemoroney-blog.appspot.com/glove.6B.100d.txt\n",
            "Resolving storage.googleapis.com (storage.googleapis.com)... 173.194.197.128, 2607:f8b0:4001:c05::80\n",
            "Connecting to storage.googleapis.com (storage.googleapis.com)|173.194.197.128|:443... connected.\n",
            "HTTP request sent, awaiting response... 200 OK\n",
            "Length: 347116733 (331M) [text/plain]\n",
            "Saving to: ‘/tmp/glove.6B.100d.txt’\n",
            "\n",
            "/tmp/glove.6B.100d. 100%[===================>] 331.04M  47.3MB/s    in 6.9s    \n",
            "\n",
            "2020-06-04 18:56:57 (47.9 MB/s) - ‘/tmp/glove.6B.100d.txt’ saved [347116733/347116733]\n",
            "\n"
          ],
          "name": "stdout"
        }
      ]
    },
    {
      "cell_type": "code",
      "metadata": {
        "colab_type": "code",
        "id": "71NLk_lpFLNt",
        "outputId": "bc65f8bb-1b99-4bea-9076-ca265b04a7fa",
        "colab": {
          "base_uri": "https://localhost:8080/",
          "height": 34
        }
      },
      "source": [
        "print(len(embeddings_matrix))\n",
        "# Expected Output\n",
        "# 138859"
      ],
      "execution_count": 8,
      "outputs": [
        {
          "output_type": "stream",
          "text": [
            "138729\n"
          ],
          "name": "stdout"
        }
      ]
    },
    {
      "cell_type": "code",
      "metadata": {
        "colab_type": "code",
        "id": "iKKvbuEBOGFz",
        "outputId": "4f9454d0-8304-4aef-e933-1b9822190748",
        "colab": {
          "base_uri": "https://localhost:8080/",
          "height": 1000
        }
      },
      "source": [
        "model = tf.keras.Sequential([\n",
        "    tf.keras.layers.Embedding(vocab_size+1, embedding_dim, input_length=max_length, weights=[embeddings_matrix], trainable=False),\n",
        "    tf.keras.layers.Dropout(0.2),\n",
        "    tf.keras.layers.Conv1D(64,5,activation=\"relu\"),\n",
        "    tf.keras.layers.MaxPooling1D(pool_size=4),\n",
        "    tf.keras.layers.LSTM(64),\n",
        "    tf.keras.layers.Dense(1, activation=\"sigmoid\")\n",
        "    # YOUR CODE HERE - experiment with combining different types, such as convolutions and LSTMs\n",
        "])\n",
        "model.compile(loss=\"binary_crossentropy\",optimizer=\"adam\", metrics=[\"accuracy\"])# YOUR CODE HERE)\n",
        "model.summary()\n",
        "\n",
        "num_epochs = 50\n",
        "history = model.fit(training_sequences, training_labels, epochs=num_epochs, validation_data=(test_sequences, test_labels), verbose=2)\n",
        "\n",
        "print(\"Training Complete\")\n"
      ],
      "execution_count": 9,
      "outputs": [
        {
          "output_type": "stream",
          "text": [
            "Model: \"sequential\"\n",
            "_________________________________________________________________\n",
            "Layer (type)                 Output Shape              Param #   \n",
            "=================================================================\n",
            "embedding (Embedding)        (None, 16, 100)           13872900  \n",
            "_________________________________________________________________\n",
            "dropout (Dropout)            (None, 16, 100)           0         \n",
            "_________________________________________________________________\n",
            "conv1d (Conv1D)              (None, 12, 64)            32064     \n",
            "_________________________________________________________________\n",
            "max_pooling1d (MaxPooling1D) (None, 3, 64)             0         \n",
            "_________________________________________________________________\n",
            "lstm (LSTM)                  (None, 64)                33024     \n",
            "_________________________________________________________________\n",
            "dense (Dense)                (None, 1)                 65        \n",
            "=================================================================\n",
            "Total params: 13,938,053\n",
            "Trainable params: 65,153\n",
            "Non-trainable params: 13,872,900\n",
            "_________________________________________________________________\n",
            "Epoch 1/50\n",
            "4500/4500 - 15s - loss: 0.5654 - accuracy: 0.7028 - val_loss: 0.5329 - val_accuracy: 0.7344\n",
            "Epoch 2/50\n",
            "4500/4500 - 14s - loss: 0.5255 - accuracy: 0.7341 - val_loss: 0.5142 - val_accuracy: 0.7434\n",
            "Epoch 3/50\n",
            "4500/4500 - 14s - loss: 0.5095 - accuracy: 0.7443 - val_loss: 0.5142 - val_accuracy: 0.7432\n",
            "Epoch 4/50\n",
            "4500/4500 - 14s - loss: 0.4971 - accuracy: 0.7542 - val_loss: 0.5006 - val_accuracy: 0.7522\n",
            "Epoch 5/50\n",
            "4500/4500 - 14s - loss: 0.4875 - accuracy: 0.7605 - val_loss: 0.5172 - val_accuracy: 0.7426\n",
            "Epoch 6/50\n",
            "4500/4500 - 14s - loss: 0.4810 - accuracy: 0.7653 - val_loss: 0.4950 - val_accuracy: 0.7556\n",
            "Epoch 7/50\n",
            "4500/4500 - 14s - loss: 0.4761 - accuracy: 0.7674 - val_loss: 0.4970 - val_accuracy: 0.7536\n",
            "Epoch 8/50\n",
            "4500/4500 - 14s - loss: 0.4712 - accuracy: 0.7709 - val_loss: 0.4991 - val_accuracy: 0.7598\n",
            "Epoch 9/50\n",
            "4500/4500 - 15s - loss: 0.4674 - accuracy: 0.7722 - val_loss: 0.4963 - val_accuracy: 0.7597\n",
            "Epoch 10/50\n",
            "4500/4500 - 15s - loss: 0.4631 - accuracy: 0.7773 - val_loss: 0.4977 - val_accuracy: 0.7589\n",
            "Epoch 11/50\n",
            "4500/4500 - 15s - loss: 0.4580 - accuracy: 0.7788 - val_loss: 0.4982 - val_accuracy: 0.7587\n",
            "Epoch 12/50\n",
            "4500/4500 - 14s - loss: 0.4561 - accuracy: 0.7805 - val_loss: 0.4991 - val_accuracy: 0.7581\n",
            "Epoch 13/50\n",
            "4500/4500 - 14s - loss: 0.4534 - accuracy: 0.7822 - val_loss: 0.5010 - val_accuracy: 0.7591\n",
            "Epoch 14/50\n",
            "4500/4500 - 14s - loss: 0.4508 - accuracy: 0.7828 - val_loss: 0.5027 - val_accuracy: 0.7598\n",
            "Epoch 15/50\n",
            "4500/4500 - 14s - loss: 0.4498 - accuracy: 0.7833 - val_loss: 0.5003 - val_accuracy: 0.7567\n",
            "Epoch 16/50\n",
            "4500/4500 - 14s - loss: 0.4466 - accuracy: 0.7870 - val_loss: 0.4994 - val_accuracy: 0.7557\n",
            "Epoch 17/50\n",
            "4500/4500 - 15s - loss: 0.4456 - accuracy: 0.7860 - val_loss: 0.5060 - val_accuracy: 0.7566\n",
            "Epoch 18/50\n",
            "4500/4500 - 14s - loss: 0.4437 - accuracy: 0.7871 - val_loss: 0.5052 - val_accuracy: 0.7550\n",
            "Epoch 19/50\n",
            "4500/4500 - 14s - loss: 0.4419 - accuracy: 0.7878 - val_loss: 0.5055 - val_accuracy: 0.7537\n",
            "Epoch 20/50\n",
            "4500/4500 - 14s - loss: 0.4419 - accuracy: 0.7880 - val_loss: 0.5098 - val_accuracy: 0.7524\n",
            "Epoch 21/50\n",
            "4500/4500 - 14s - loss: 0.4413 - accuracy: 0.7884 - val_loss: 0.5040 - val_accuracy: 0.7527\n",
            "Epoch 22/50\n",
            "4500/4500 - 14s - loss: 0.4397 - accuracy: 0.7897 - val_loss: 0.5136 - val_accuracy: 0.7575\n",
            "Epoch 23/50\n",
            "4500/4500 - 14s - loss: 0.4385 - accuracy: 0.7902 - val_loss: 0.5079 - val_accuracy: 0.7550\n",
            "Epoch 24/50\n",
            "4500/4500 - 14s - loss: 0.4380 - accuracy: 0.7897 - val_loss: 0.5061 - val_accuracy: 0.7530\n",
            "Epoch 25/50\n",
            "4500/4500 - 14s - loss: 0.4352 - accuracy: 0.7920 - val_loss: 0.5130 - val_accuracy: 0.7528\n",
            "Epoch 26/50\n",
            "4500/4500 - 14s - loss: 0.4361 - accuracy: 0.7916 - val_loss: 0.5080 - val_accuracy: 0.7508\n",
            "Epoch 27/50\n",
            "4500/4500 - 14s - loss: 0.4352 - accuracy: 0.7924 - val_loss: 0.5138 - val_accuracy: 0.7542\n",
            "Epoch 28/50\n",
            "4500/4500 - 14s - loss: 0.4339 - accuracy: 0.7932 - val_loss: 0.5087 - val_accuracy: 0.7558\n",
            "Epoch 29/50\n",
            "4500/4500 - 14s - loss: 0.4333 - accuracy: 0.7932 - val_loss: 0.5099 - val_accuracy: 0.7499\n",
            "Epoch 30/50\n",
            "4500/4500 - 14s - loss: 0.4314 - accuracy: 0.7943 - val_loss: 0.5083 - val_accuracy: 0.7524\n",
            "Epoch 31/50\n",
            "4500/4500 - 15s - loss: 0.4313 - accuracy: 0.7951 - val_loss: 0.5141 - val_accuracy: 0.7547\n",
            "Epoch 32/50\n",
            "4500/4500 - 14s - loss: 0.4318 - accuracy: 0.7942 - val_loss: 0.5131 - val_accuracy: 0.7500\n",
            "Epoch 33/50\n",
            "4500/4500 - 14s - loss: 0.4303 - accuracy: 0.7951 - val_loss: 0.5181 - val_accuracy: 0.7525\n",
            "Epoch 34/50\n",
            "4500/4500 - 14s - loss: 0.4304 - accuracy: 0.7966 - val_loss: 0.5111 - val_accuracy: 0.7516\n",
            "Epoch 35/50\n",
            "4500/4500 - 14s - loss: 0.4297 - accuracy: 0.7944 - val_loss: 0.5157 - val_accuracy: 0.7544\n",
            "Epoch 36/50\n",
            "4500/4500 - 14s - loss: 0.4278 - accuracy: 0.7968 - val_loss: 0.5159 - val_accuracy: 0.7481\n",
            "Epoch 37/50\n",
            "4500/4500 - 14s - loss: 0.4289 - accuracy: 0.7963 - val_loss: 0.5175 - val_accuracy: 0.7521\n",
            "Epoch 38/50\n",
            "4500/4500 - 14s - loss: 0.4281 - accuracy: 0.7954 - val_loss: 0.5155 - val_accuracy: 0.7524\n",
            "Epoch 39/50\n",
            "4500/4500 - 14s - loss: 0.4290 - accuracy: 0.7964 - val_loss: 0.5192 - val_accuracy: 0.7512\n",
            "Epoch 40/50\n",
            "4500/4500 - 14s - loss: 0.4290 - accuracy: 0.7957 - val_loss: 0.5153 - val_accuracy: 0.7523\n",
            "Epoch 41/50\n",
            "4500/4500 - 14s - loss: 0.4266 - accuracy: 0.7972 - val_loss: 0.5159 - val_accuracy: 0.7523\n",
            "Epoch 42/50\n",
            "4500/4500 - 14s - loss: 0.4262 - accuracy: 0.7984 - val_loss: 0.5146 - val_accuracy: 0.7520\n",
            "Epoch 43/50\n",
            "4500/4500 - 14s - loss: 0.4260 - accuracy: 0.7986 - val_loss: 0.5123 - val_accuracy: 0.7508\n",
            "Epoch 44/50\n",
            "4500/4500 - 14s - loss: 0.4274 - accuracy: 0.7962 - val_loss: 0.5153 - val_accuracy: 0.7524\n",
            "Epoch 45/50\n",
            "4500/4500 - 14s - loss: 0.4268 - accuracy: 0.7976 - val_loss: 0.5123 - val_accuracy: 0.7550\n",
            "Epoch 46/50\n",
            "4500/4500 - 14s - loss: 0.4268 - accuracy: 0.7973 - val_loss: 0.5153 - val_accuracy: 0.7549\n",
            "Epoch 47/50\n",
            "4500/4500 - 14s - loss: 0.4257 - accuracy: 0.7987 - val_loss: 0.5141 - val_accuracy: 0.7528\n",
            "Epoch 48/50\n",
            "4500/4500 - 14s - loss: 0.4256 - accuracy: 0.7988 - val_loss: 0.5228 - val_accuracy: 0.7528\n",
            "Epoch 49/50\n",
            "4500/4500 - 14s - loss: 0.4250 - accuracy: 0.7991 - val_loss: 0.5145 - val_accuracy: 0.7538\n",
            "Epoch 50/50\n",
            "4500/4500 - 14s - loss: 0.4264 - accuracy: 0.7979 - val_loss: 0.5126 - val_accuracy: 0.7546\n",
            "Training Complete\n"
          ],
          "name": "stdout"
        }
      ]
    },
    {
      "cell_type": "code",
      "metadata": {
        "colab_type": "code",
        "id": "qxju4ItJKO8F",
        "outputId": "bc9f3ce4-192a-4667-8b5f-82089b439882",
        "colab": {
          "base_uri": "https://localhost:8080/",
          "height": 608
        }
      },
      "source": [
        "import matplotlib.image  as mpimg\n",
        "import matplotlib.pyplot as plt\n",
        "\n",
        "#-----------------------------------------------------------\n",
        "# Retrieve a list of list results on training and test data\n",
        "# sets for each training epoch\n",
        "#-----------------------------------------------------------\n",
        "acc=history.history['accuracy']\n",
        "val_acc=history.history['val_accuracy']\n",
        "loss=history.history['loss']\n",
        "val_loss=history.history['val_loss']\n",
        "\n",
        "epochs=range(len(acc)) # Get number of epochs\n",
        "\n",
        "#------------------------------------------------\n",
        "# Plot training and validation accuracy per epoch\n",
        "#------------------------------------------------\n",
        "plt.plot(epochs, acc, 'r')\n",
        "plt.plot(epochs, val_acc, 'b')\n",
        "plt.title('Training and validation accuracy')\n",
        "plt.xlabel(\"Epochs\")\n",
        "plt.ylabel(\"Accuracy\")\n",
        "plt.legend([\"Accuracy\", \"Validation Accuracy\"])\n",
        "\n",
        "plt.figure()\n",
        "\n",
        "#------------------------------------------------\n",
        "# Plot training and validation loss per epoch\n",
        "#------------------------------------------------\n",
        "plt.plot(epochs, loss, 'r')\n",
        "plt.plot(epochs, val_loss, 'b')\n",
        "plt.title('Training and validation loss')\n",
        "plt.xlabel(\"Epochs\")\n",
        "plt.ylabel(\"Loss\")\n",
        "plt.legend([\"Loss\", \"Validation Loss\"])\n",
        "\n",
        "plt.figure()\n",
        "\n",
        "\n",
        "# Expected Output\n",
        "# A chart where the validation loss does not increase sharply!"
      ],
      "execution_count": 10,
      "outputs": [
        {
          "output_type": "execute_result",
          "data": {
            "text/plain": [
              "<Figure size 432x288 with 0 Axes>"
            ]
          },
          "metadata": {
            "tags": []
          },
          "execution_count": 10
        },
        {
          "output_type": "display_data",
          "data": {
            "image/png": "[encoded data removed]",
            "text/plain": [
              "<Figure size 432x288 with 1 Axes>"
            ]
          },
          "metadata": {
            "tags": [],
            "needs_background": "light"
          }
        },
        {
          "output_type": "display_data",
          "data": {
            "image/png": "[encoded data removed]",
            "text/plain": [
              "<Figure size 432x288 with 1 Axes>"
            ]
          },
          "metadata": {
            "tags": [],
            "needs_background": "light"
          }
        },
        {
          "output_type": "display_data",
          "data": {
            "text/plain": [
              "<Figure size 432x288 with 0 Axes>"
            ]
          },
          "metadata": {
            "tags": []
          }
        }
      ]
    },
    {
      "cell_type": "code",
      "metadata": {
        "id": "F4G85PGJrtdJ",
        "colab_type": "code",
        "colab": {}
      },
      "source": [
        ""
      ],
      "execution_count": 0,
      "outputs": []
    }
  ]
}