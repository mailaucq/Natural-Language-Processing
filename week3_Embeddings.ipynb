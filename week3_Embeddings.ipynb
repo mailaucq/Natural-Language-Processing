{
  "nbformat": 4,
  "nbformat_minor": 0,
  "metadata": {
    "kernelspec": {
      "display_name": "Python 3",
      "language": "python",
      "name": "python3"
    },
    "language_info": {
      "codemirror_mode": {
        "name": "ipython",
        "version": 3
      },
      "file_extension": ".py",
      "mimetype": "text/x-python",
      "name": "python",
      "nbconvert_exporter": "python",
      "pygments_lexer": "ipython3",
      "version": "3.4.3"
    },
    "colab": {
      "name": "week3-Embeddings.ipynb",
      "provenance": [],
      "toc_visible": true
    },
    "accelerator": "GPU",
    "widgets": {
      "application/vnd.jupyter.widget-state+json": {
        "68390a3faa614abba08b80b9f01201ff": {
          "model_module": "@jupyter-widgets/controls",
          "model_name": "HBoxModel",
          "state": {
            "_view_name": "HBoxView",
            "_dom_classes": [],
            "_model_name": "HBoxModel",
            "_view_module": "@jupyter-widgets/controls",
            "_model_module_version": "1.5.0",
            "_view_count": null,
            "_view_module_version": "1.5.0",
            "box_style": "",
            "layout": "IPY_MODEL_98d83c0264bd45dba27fe95e008aaf84",
            "_model_module": "@jupyter-widgets/controls",
            "children": [
              "IPY_MODEL_cfdc3c739d9f4f5c941f6d6693ba98a4",
              "IPY_MODEL_b79282bc9b444864982a6532cda7b3c4"
            ]
          }
        },
        "98d83c0264bd45dba27fe95e008aaf84": {
          "model_module": "@jupyter-widgets/base",
          "model_name": "LayoutModel",
          "state": {
            "_view_name": "LayoutView",
            "grid_template_rows": null,
            "right": null,
            "justify_content": null,
            "_view_module": "@jupyter-widgets/base",
            "overflow": null,
            "_model_module_version": "1.2.0",
            "_view_count": null,
            "flex_flow": null,
            "width": null,
            "min_width": null,
            "border": null,
            "align_items": null,
            "bottom": null,
            "_model_module": "@jupyter-widgets/base",
            "top": null,
            "grid_column": null,
            "overflow_y": null,
            "overflow_x": null,
            "grid_auto_flow": null,
            "grid_area": null,
            "grid_template_columns": null,
            "flex": null,
            "_model_name": "LayoutModel",
            "justify_items": null,
            "grid_row": null,
            "max_height": null,
            "align_content": null,
            "visibility": null,
            "align_self": null,
            "height": null,
            "min_height": null,
            "padding": null,
            "grid_auto_rows": null,
            "grid_gap": null,
            "max_width": null,
            "order": null,
            "_view_module_version": "1.2.0",
            "grid_template_areas": null,
            "object_position": null,
            "object_fit": null,
            "grid_auto_columns": null,
            "margin": null,
            "display": null,
            "left": null
          }
        },
        "cfdc3c739d9f4f5c941f6d6693ba98a4": {
          "model_module": "@jupyter-widgets/controls",
          "model_name": "FloatProgressModel",
          "state": {
            "_view_name": "ProgressView",
            "style": "IPY_MODEL_20e824dd3c8d4f8e9ebe50e6360552ef",
            "_dom_classes": [],
            "description": "train.tsv: 100%",
            "_model_name": "FloatProgressModel",
            "bar_style": "success",
            "max": 119127793,
            "_view_module": "@jupyter-widgets/controls",
            "_model_module_version": "1.5.0",
            "value": 119127793,
            "_view_count": null,
            "_view_module_version": "1.5.0",
            "orientation": "horizontal",
            "min": 0,
            "description_tooltip": null,
            "_model_module": "@jupyter-widgets/controls",
            "layout": "IPY_MODEL_3f5b92406c854eaca2a4eb0823b110e9"
          }
        },
        "b79282bc9b444864982a6532cda7b3c4": {
          "model_module": "@jupyter-widgets/controls",
          "model_name": "HTMLModel",
          "state": {
            "_view_name": "HTMLView",
            "style": "IPY_MODEL_4e57970fadd349e78ccac8ad12dcd6b0",
            "_dom_classes": [],
            "description": "",
            "_model_name": "HTMLModel",
            "placeholder": "​",
            "_view_module": "@jupyter-widgets/controls",
            "_model_module_version": "1.5.0",
            "value": " 119M/119M [10:44&lt;00:00, 185kB/s]",
            "_view_count": null,
            "_view_module_version": "1.5.0",
            "description_tooltip": null,
            "_model_module": "@jupyter-widgets/controls",
            "layout": "IPY_MODEL_d709b7529f2c472f893c7c39c9bf4108"
          }
        },
        "20e824dd3c8d4f8e9ebe50e6360552ef": {
          "model_module": "@jupyter-widgets/controls",
          "model_name": "ProgressStyleModel",
          "state": {
            "_view_name": "StyleView",
            "_model_name": "ProgressStyleModel",
            "description_width": "initial",
            "_view_module": "@jupyter-widgets/base",
            "_model_module_version": "1.5.0",
            "_view_count": null,
            "_view_module_version": "1.2.0",
            "bar_color": null,
            "_model_module": "@jupyter-widgets/controls"
          }
        },
        "3f5b92406c854eaca2a4eb0823b110e9": {
          "model_module": "@jupyter-widgets/base",
          "model_name": "LayoutModel",
          "state": {
            "_view_name": "LayoutView",
            "grid_template_rows": null,
            "right": null,
            "justify_content": null,
            "_view_module": "@jupyter-widgets/base",
            "overflow": null,
            "_model_module_version": "1.2.0",
            "_view_count": null,
            "flex_flow": null,
            "width": null,
            "min_width": null,
            "border": null,
            "align_items": null,
            "bottom": null,
            "_model_module": "@jupyter-widgets/base",
            "top": null,
            "grid_column": null,
            "overflow_y": null,
            "overflow_x": null,
            "grid_auto_flow": null,
            "grid_area": null,
            "grid_template_columns": null,
            "flex": null,
            "_model_name": "LayoutModel",
            "justify_items": null,
            "grid_row": null,
            "max_height": null,
            "align_content": null,
            "visibility": null,
            "align_self": null,
            "height": null,
            "min_height": null,
            "padding": null,
            "grid_auto_rows": null,
            "grid_gap": null,
            "max_width": null,
            "order": null,
            "_view_module_version": "1.2.0",
            "grid_template_areas": null,
            "object_position": null,
            "object_fit": null,
            "grid_auto_columns": null,
            "margin": null,
            "display": null,
            "left": null
          }
        },
        "4e57970fadd349e78ccac8ad12dcd6b0": {
          "model_module": "@jupyter-widgets/controls",
          "model_name": "DescriptionStyleModel",
          "state": {
            "_view_name": "StyleView",
            "_model_name": "DescriptionStyleModel",
            "description_width": "",
            "_view_module": "@jupyter-widgets/base",
            "_model_module_version": "1.5.0",
            "_view_count": null,
            "_view_module_version": "1.2.0",
            "_model_module": "@jupyter-widgets/controls"
          }
        },
        "d709b7529f2c472f893c7c39c9bf4108": {
          "model_module": "@jupyter-widgets/base",
          "model_name": "LayoutModel",
          "state": {
            "_view_name": "LayoutView",
            "grid_template_rows": null,
            "right": null,
            "justify_content": null,
            "_view_module": "@jupyter-widgets/base",
            "overflow": null,
            "_model_module_version": "1.2.0",
            "_view_count": null,
            "flex_flow": null,
            "width": null,
            "min_width": null,
            "border": null,
            "align_items": null,
            "bottom": null,
            "_model_module": "@jupyter-widgets/base",
            "top": null,
            "grid_column": null,
            "overflow_y": null,
            "overflow_x": null,
            "grid_auto_flow": null,
            "grid_area": null,
            "grid_template_columns": null,
            "flex": null,
            "_model_name": "LayoutModel",
            "justify_items": null,
            "grid_row": null,
            "max_height": null,
            "align_content": null,
            "visibility": null,
            "align_self": null,
            "height": null,
            "min_height": null,
            "padding": null,
            "grid_auto_rows": null,
            "grid_gap": null,
            "max_width": null,
            "order": null,
            "_view_module_version": "1.2.0",
            "grid_template_areas": null,
            "object_position": null,
            "object_fit": null,
            "grid_auto_columns": null,
            "margin": null,
            "display": null,
            "left": null
          }
        },
        "84c8577787cd4258b0e92cb2493c18dd": {
          "model_module": "@jupyter-widgets/controls",
          "model_name": "HBoxModel",
          "state": {
            "_view_name": "HBoxView",
            "_dom_classes": [],
            "_model_name": "HBoxModel",
            "_view_module": "@jupyter-widgets/controls",
            "_model_module_version": "1.5.0",
            "_view_count": null,
            "_view_module_version": "1.5.0",
            "box_style": "",
            "layout": "IPY_MODEL_47435e914fc94e6fa40395b5eb52ec5f",
            "_model_module": "@jupyter-widgets/controls",
            "children": [
              "IPY_MODEL_1dc4655d5da64a61b1ff9d5786e02cae",
              "IPY_MODEL_58817e3a97c94001a53c3b289ac16e65"
            ]
          }
        },
        "47435e914fc94e6fa40395b5eb52ec5f": {
          "model_module": "@jupyter-widgets/base",
          "model_name": "LayoutModel",
          "state": {
            "_view_name": "LayoutView",
            "grid_template_rows": null,
            "right": null,
            "justify_content": null,
            "_view_module": "@jupyter-widgets/base",
            "overflow": null,
            "_model_module_version": "1.2.0",
            "_view_count": null,
            "flex_flow": null,
            "width": null,
            "min_width": null,
            "border": null,
            "align_items": null,
            "bottom": null,
            "_model_module": "@jupyter-widgets/base",
            "top": null,
            "grid_column": null,
            "overflow_y": null,
            "overflow_x": null,
            "grid_auto_flow": null,
            "grid_area": null,
            "grid_template_columns": null,
            "flex": null,
            "_model_name": "LayoutModel",
            "justify_items": null,
            "grid_row": null,
            "max_height": null,
            "align_content": null,
            "visibility": null,
            "align_self": null,
            "height": null,
            "min_height": null,
            "padding": null,
            "grid_auto_rows": null,
            "grid_gap": null,
            "max_width": null,
            "order": null,
            "_view_module_version": "1.2.0",
            "grid_template_areas": null,
            "object_position": null,
            "object_fit": null,
            "grid_auto_columns": null,
            "margin": null,
            "display": null,
            "left": null
          }
        },
        "1dc4655d5da64a61b1ff9d5786e02cae": {
          "model_module": "@jupyter-widgets/controls",
          "model_name": "FloatProgressModel",
          "state": {
            "_view_name": "ProgressView",
            "style": "IPY_MODEL_b7701cb59a404ef193b56cb40123ecd9",
            "_dom_classes": [],
            "description": "validation.tsv: 100%",
            "_model_name": "FloatProgressModel",
            "bar_style": "success",
            "max": 535543630,
            "_view_module": "@jupyter-widgets/controls",
            "_model_module_version": "1.5.0",
            "value": 535543630,
            "_view_count": null,
            "_view_module_version": "1.5.0",
            "orientation": "horizontal",
            "min": 0,
            "description_tooltip": null,
            "_model_module": "@jupyter-widgets/controls",
            "layout": "IPY_MODEL_b65e3f38596048ae889b8040fa1d29c6"
          }
        },
        "58817e3a97c94001a53c3b289ac16e65": {
          "model_module": "@jupyter-widgets/controls",
          "model_name": "HTMLModel",
          "state": {
            "_view_name": "HTMLView",
            "style": "IPY_MODEL_079129a662d3400a8acf0d771aea0e4c",
            "_dom_classes": [],
            "description": "",
            "_model_name": "HTMLModel",
            "placeholder": "​",
            "_view_module": "@jupyter-widgets/controls",
            "_model_module_version": "1.5.0",
            "value": " 536M/536M [00:17&lt;00:00, 29.9MB/s]",
            "_view_count": null,
            "_view_module_version": "1.5.0",
            "description_tooltip": null,
            "_model_module": "@jupyter-widgets/controls",
            "layout": "IPY_MODEL_e1da197a8ff84936b74077a97f844a2d"
          }
        },
        "b7701cb59a404ef193b56cb40123ecd9": {
          "model_module": "@jupyter-widgets/controls",
          "model_name": "ProgressStyleModel",
          "state": {
            "_view_name": "StyleView",
            "_model_name": "ProgressStyleModel",
            "description_width": "initial",
            "_view_module": "@jupyter-widgets/base",
            "_model_module_version": "1.5.0",
            "_view_count": null,
            "_view_module_version": "1.2.0",
            "bar_color": null,
            "_model_module": "@jupyter-widgets/controls"
          }
        },
        "b65e3f38596048ae889b8040fa1d29c6": {
          "model_module": "@jupyter-widgets/base",
          "model_name": "LayoutModel",
          "state": {
            "_view_name": "LayoutView",
            "grid_template_rows": null,
            "right": null,
            "justify_content": null,
            "_view_module": "@jupyter-widgets/base",
            "overflow": null,
            "_model_module_version": "1.2.0",
            "_view_count": null,
            "flex_flow": null,
            "width": null,
            "min_width": null,
            "border": null,
            "align_items": null,
            "bottom": null,
            "_model_module": "@jupyter-widgets/base",
            "top": null,
            "grid_column": null,
            "overflow_y": null,
            "overflow_x": null,
            "grid_auto_flow": null,
            "grid_area": null,
            "grid_template_columns": null,
            "flex": null,
            "_model_name": "LayoutModel",
            "justify_items": null,
            "grid_row": null,
            "max_height": null,
            "align_content": null,
            "visibility": null,
            "align_self": null,
            "height": null,
            "min_height": null,
            "padding": null,
            "grid_auto_rows": null,
            "grid_gap": null,
            "max_width": null,
            "order": null,
            "_view_module_version": "1.2.0",
            "grid_template_areas": null,
            "object_position": null,
            "object_fit": null,
            "grid_auto_columns": null,
            "margin": null,
            "display": null,
            "left": null
          }
        },
        "079129a662d3400a8acf0d771aea0e4c": {
          "model_module": "@jupyter-widgets/controls",
          "model_name": "DescriptionStyleModel",
          "state": {
            "_view_name": "StyleView",
            "_model_name": "DescriptionStyleModel",
            "description_width": "",
            "_view_module": "@jupyter-widgets/base",
            "_model_module_version": "1.5.0",
            "_view_count": null,
            "_view_module_version": "1.2.0",
            "_model_module": "@jupyter-widgets/controls"
          }
        },
        "e1da197a8ff84936b74077a97f844a2d": {
          "model_module": "@jupyter-widgets/base",
          "model_name": "LayoutModel",
          "state": {
            "_view_name": "LayoutView",
            "grid_template_rows": null,
            "right": null,
            "justify_content": null,
            "_view_module": "@jupyter-widgets/base",
            "overflow": null,
            "_model_module_version": "1.2.0",
            "_view_count": null,
            "flex_flow": null,
            "width": null,
            "min_width": null,
            "border": null,
            "align_items": null,
            "bottom": null,
            "_model_module": "@jupyter-widgets/base",
            "top": null,
            "grid_column": null,
            "overflow_y": null,
            "overflow_x": null,
            "grid_auto_flow": null,
            "grid_area": null,
            "grid_template_columns": null,
            "flex": null,
            "_model_name": "LayoutModel",
            "justify_items": null,
            "grid_row": null,
            "max_height": null,
            "align_content": null,
            "visibility": null,
            "align_self": null,
            "height": null,
            "min_height": null,
            "padding": null,
            "grid_auto_rows": null,
            "grid_gap": null,
            "max_width": null,
            "order": null,
            "_view_module_version": "1.2.0",
            "grid_template_areas": null,
            "object_position": null,
            "object_fit": null,
            "grid_auto_columns": null,
            "margin": null,
            "display": null,
            "left": null
          }
        },
        "21f740a0ca024093a4b51576242895e3": {
          "model_module": "@jupyter-widgets/controls",
          "model_name": "HBoxModel",
          "state": {
            "_view_name": "HBoxView",
            "_dom_classes": [],
            "_model_name": "HBoxModel",
            "_view_module": "@jupyter-widgets/controls",
            "_model_module_version": "1.5.0",
            "_view_count": null,
            "_view_module_version": "1.5.0",
            "box_style": "",
            "layout": "IPY_MODEL_42408d2c832741d8989ad878e59c1bf6",
            "_model_module": "@jupyter-widgets/controls",
            "children": [
              "IPY_MODEL_0244306a6a0d4527a01cd2e863341a12",
              "IPY_MODEL_67466c33366544689ef6368303f7050a"
            ]
          }
        },
        "42408d2c832741d8989ad878e59c1bf6": {
          "model_module": "@jupyter-widgets/base",
          "model_name": "LayoutModel",
          "state": {
            "_view_name": "LayoutView",
            "grid_template_rows": null,
            "right": null,
            "justify_content": null,
            "_view_module": "@jupyter-widgets/base",
            "overflow": null,
            "_model_module_version": "1.2.0",
            "_view_count": null,
            "flex_flow": null,
            "width": null,
            "min_width": null,
            "border": null,
            "align_items": null,
            "bottom": null,
            "_model_module": "@jupyter-widgets/base",
            "top": null,
            "grid_column": null,
            "overflow_y": null,
            "overflow_x": null,
            "grid_auto_flow": null,
            "grid_area": null,
            "grid_template_columns": null,
            "flex": null,
            "_model_name": "LayoutModel",
            "justify_items": null,
            "grid_row": null,
            "max_height": null,
            "align_content": null,
            "visibility": null,
            "align_self": null,
            "height": null,
            "min_height": null,
            "padding": null,
            "grid_auto_rows": null,
            "grid_gap": null,
            "max_width": null,
            "order": null,
            "_view_module_version": "1.2.0",
            "grid_template_areas": null,
            "object_position": null,
            "object_fit": null,
            "grid_auto_columns": null,
            "margin": null,
            "display": null,
            "left": null
          }
        },
        "0244306a6a0d4527a01cd2e863341a12": {
          "model_module": "@jupyter-widgets/controls",
          "model_name": "FloatProgressModel",
          "state": {
            "_view_name": "ProgressView",
            "style": "IPY_MODEL_86dfee8b0c204860983568c6b2799260",
            "_dom_classes": [],
            "description": "test.tsv: 100%",
            "_model_name": "FloatProgressModel",
            "bar_style": "success",
            "max": 46408910,
            "_view_module": "@jupyter-widgets/controls",
            "_model_module_version": "1.5.0",
            "value": 46408910,
            "_view_count": null,
            "_view_module_version": "1.5.0",
            "orientation": "horizontal",
            "min": 0,
            "description_tooltip": null,
            "_model_module": "@jupyter-widgets/controls",
            "layout": "IPY_MODEL_414a6d8635f74ed6a00edee5d12e9921"
          }
        },
        "67466c33366544689ef6368303f7050a": {
          "model_module": "@jupyter-widgets/controls",
          "model_name": "HTMLModel",
          "state": {
            "_view_name": "HTMLView",
            "style": "IPY_MODEL_53832d9649d741ac94188447588d2ee3",
            "_dom_classes": [],
            "description": "",
            "_model_name": "HTMLModel",
            "placeholder": "​",
            "_view_module": "@jupyter-widgets/controls",
            "_model_module_version": "1.5.0",
            "value": " 46.4M/46.4M [10:21&lt;00:00, 74.7kB/s]",
            "_view_count": null,
            "_view_module_version": "1.5.0",
            "description_tooltip": null,
            "_model_module": "@jupyter-widgets/controls",
            "layout": "IPY_MODEL_8bc826cff07b43e290b1325456b6629e"
          }
        },
        "86dfee8b0c204860983568c6b2799260": {
          "model_module": "@jupyter-widgets/controls",
          "model_name": "ProgressStyleModel",
          "state": {
            "_view_name": "StyleView",
            "_model_name": "ProgressStyleModel",
            "description_width": "initial",
            "_view_module": "@jupyter-widgets/base",
            "_model_module_version": "1.5.0",
            "_view_count": null,
            "_view_module_version": "1.2.0",
            "bar_color": null,
            "_model_module": "@jupyter-widgets/controls"
          }
        },
        "414a6d8635f74ed6a00edee5d12e9921": {
          "model_module": "@jupyter-widgets/base",
          "model_name": "LayoutModel",
          "state": {
            "_view_name": "LayoutView",
            "grid_template_rows": null,
            "right": null,
            "justify_content": null,
            "_view_module": "@jupyter-widgets/base",
            "overflow": null,
            "_model_module_version": "1.2.0",
            "_view_count": null,
            "flex_flow": null,
            "width": null,
            "min_width": null,
            "border": null,
            "align_items": null,
            "bottom": null,
            "_model_module": "@jupyter-widgets/base",
            "top": null,
            "grid_column": null,
            "overflow_y": null,
            "overflow_x": null,
            "grid_auto_flow": null,
            "grid_area": null,
            "grid_template_columns": null,
            "flex": null,
            "_model_name": "LayoutModel",
            "justify_items": null,
            "grid_row": null,
            "max_height": null,
            "align_content": null,
            "visibility": null,
            "align_self": null,
            "height": null,
            "min_height": null,
            "padding": null,
            "grid_auto_rows": null,
            "grid_gap": null,
            "max_width": null,
            "order": null,
            "_view_module_version": "1.2.0",
            "grid_template_areas": null,
            "object_position": null,
            "object_fit": null,
            "grid_auto_columns": null,
            "margin": null,
            "display": null,
            "left": null
          }
        },
        "53832d9649d741ac94188447588d2ee3": {
          "model_module": "@jupyter-widgets/controls",
          "model_name": "DescriptionStyleModel",
          "state": {
            "_view_name": "StyleView",
            "_model_name": "DescriptionStyleModel",
            "description_width": "",
            "_view_module": "@jupyter-widgets/base",
            "_model_module_version": "1.5.0",
            "_view_count": null,
            "_view_module_version": "1.2.0",
            "_model_module": "@jupyter-widgets/controls"
          }
        },
        "8bc826cff07b43e290b1325456b6629e": {
          "model_module": "@jupyter-widgets/base",
          "model_name": "LayoutModel",
          "state": {
            "_view_name": "LayoutView",
            "grid_template_rows": null,
            "right": null,
            "justify_content": null,
            "_view_module": "@jupyter-widgets/base",
            "overflow": null,
            "_model_module_version": "1.2.0",
            "_view_count": null,
            "flex_flow": null,
            "width": null,
            "min_width": null,
            "border": null,
            "align_items": null,
            "bottom": null,
            "_model_module": "@jupyter-widgets/base",
            "top": null,
            "grid_column": null,
            "overflow_y": null,
            "overflow_x": null,
            "grid_auto_flow": null,
            "grid_area": null,
            "grid_template_columns": null,
            "flex": null,
            "_model_name": "LayoutModel",
            "justify_items": null,
            "grid_row": null,
            "max_height": null,
            "align_content": null,
            "visibility": null,
            "align_self": null,
            "height": null,
            "min_height": null,
            "padding": null,
            "grid_auto_rows": null,
            "grid_gap": null,
            "max_width": null,
            "order": null,
            "_view_module_version": "1.2.0",
            "grid_template_areas": null,
            "object_position": null,
            "object_fit": null,
            "grid_auto_columns": null,
            "margin": null,
            "display": null,
            "left": null
          }
        },
        "ea90111b3ce34eb490aff0728a5a0033": {
          "model_module": "@jupyter-widgets/controls",
          "model_name": "HBoxModel",
          "state": {
            "_view_name": "HBoxView",
            "_dom_classes": [],
            "_model_name": "HBoxModel",
            "_view_module": "@jupyter-widgets/controls",
            "_model_module_version": "1.5.0",
            "_view_count": null,
            "_view_module_version": "1.5.0",
            "box_style": "",
            "layout": "IPY_MODEL_3e75fafc5f4f483e8f48986ae7f3326b",
            "_model_module": "@jupyter-widgets/controls",
            "children": [
              "IPY_MODEL_15b63715559542ecb933a556831420e5",
              "IPY_MODEL_369536e0608649528848a086aedd9ee4"
            ]
          }
        },
        "3e75fafc5f4f483e8f48986ae7f3326b": {
          "model_module": "@jupyter-widgets/base",
          "model_name": "LayoutModel",
          "state": {
            "_view_name": "LayoutView",
            "grid_template_rows": null,
            "right": null,
            "justify_content": null,
            "_view_module": "@jupyter-widgets/base",
            "overflow": null,
            "_model_module_version": "1.2.0",
            "_view_count": null,
            "flex_flow": null,
            "width": null,
            "min_width": null,
            "border": null,
            "align_items": null,
            "bottom": null,
            "_model_module": "@jupyter-widgets/base",
            "top": null,
            "grid_column": null,
            "overflow_y": null,
            "overflow_x": null,
            "grid_auto_flow": null,
            "grid_area": null,
            "grid_template_columns": null,
            "flex": null,
            "_model_name": "LayoutModel",
            "justify_items": null,
            "grid_row": null,
            "max_height": null,
            "align_content": null,
            "visibility": null,
            "align_self": null,
            "height": null,
            "min_height": null,
            "padding": null,
            "grid_auto_rows": null,
            "grid_gap": null,
            "max_width": null,
            "order": null,
            "_view_module_version": "1.2.0",
            "grid_template_areas": null,
            "object_position": null,
            "object_fit": null,
            "grid_auto_columns": null,
            "margin": null,
            "display": null,
            "left": null
          }
        },
        "15b63715559542ecb933a556831420e5": {
          "model_module": "@jupyter-widgets/controls",
          "model_name": "FloatProgressModel",
          "state": {
            "_view_name": "ProgressView",
            "style": "IPY_MODEL_bf956ac1f34c4f95a583a0f1ddc14216",
            "_dom_classes": [],
            "description": "test_embeddings.tsv: 100%",
            "_model_name": "FloatProgressModel",
            "bar_style": "success",
            "max": 5333,
            "_view_module": "@jupyter-widgets/controls",
            "_model_module_version": "1.5.0",
            "value": 5333,
            "_view_count": null,
            "_view_module_version": "1.5.0",
            "orientation": "horizontal",
            "min": 0,
            "description_tooltip": null,
            "_model_module": "@jupyter-widgets/controls",
            "layout": "IPY_MODEL_6e0580843c99450584c5ce6b1b93f5f9"
          }
        },
        "369536e0608649528848a086aedd9ee4": {
          "model_module": "@jupyter-widgets/controls",
          "model_name": "HTMLModel",
          "state": {
            "_view_name": "HTMLView",
            "style": "IPY_MODEL_37cfcb9a577d4302a696330b4464521a",
            "_dom_classes": [],
            "description": "",
            "_model_name": "HTMLModel",
            "placeholder": "​",
            "_view_module": "@jupyter-widgets/controls",
            "_model_module_version": "1.5.0",
            "value": " 5.33k/5.33k [10:18&lt;00:00, 8.63B/s]",
            "_view_count": null,
            "_view_module_version": "1.5.0",
            "description_tooltip": null,
            "_model_module": "@jupyter-widgets/controls",
            "layout": "IPY_MODEL_2fdcc89b83a540869e24b14d3fed6d7b"
          }
        },
        "bf956ac1f34c4f95a583a0f1ddc14216": {
          "model_module": "@jupyter-widgets/controls",
          "model_name": "ProgressStyleModel",
          "state": {
            "_view_name": "StyleView",
            "_model_name": "ProgressStyleModel",
            "description_width": "initial",
            "_view_module": "@jupyter-widgets/base",
            "_model_module_version": "1.5.0",
            "_view_count": null,
            "_view_module_version": "1.2.0",
            "bar_color": null,
            "_model_module": "@jupyter-widgets/controls"
          }
        },
        "6e0580843c99450584c5ce6b1b93f5f9": {
          "model_module": "@jupyter-widgets/base",
          "model_name": "LayoutModel",
          "state": {
            "_view_name": "LayoutView",
            "grid_template_rows": null,
            "right": null,
            "justify_content": null,
            "_view_module": "@jupyter-widgets/base",
            "overflow": null,
            "_model_module_version": "1.2.0",
            "_view_count": null,
            "flex_flow": null,
            "width": null,
            "min_width": null,
            "border": null,
            "align_items": null,
            "bottom": null,
            "_model_module": "@jupyter-widgets/base",
            "top": null,
            "grid_column": null,
            "overflow_y": null,
            "overflow_x": null,
            "grid_auto_flow": null,
            "grid_area": null,
            "grid_template_columns": null,
            "flex": null,
            "_model_name": "LayoutModel",
            "justify_items": null,
            "grid_row": null,
            "max_height": null,
            "align_content": null,
            "visibility": null,
            "align_self": null,
            "height": null,
            "min_height": null,
            "padding": null,
            "grid_auto_rows": null,
            "grid_gap": null,
            "max_width": null,
            "order": null,
            "_view_module_version": "1.2.0",
            "grid_template_areas": null,
            "object_position": null,
            "object_fit": null,
            "grid_auto_columns": null,
            "margin": null,
            "display": null,
            "left": null
          }
        },
        "37cfcb9a577d4302a696330b4464521a": {
          "model_module": "@jupyter-widgets/controls",
          "model_name": "DescriptionStyleModel",
          "state": {
            "_view_name": "StyleView",
            "_model_name": "DescriptionStyleModel",
            "description_width": "",
            "_view_module": "@jupyter-widgets/base",
            "_model_module_version": "1.5.0",
            "_view_count": null,
            "_view_module_version": "1.2.0",
            "_model_module": "@jupyter-widgets/controls"
          }
        },
        "2fdcc89b83a540869e24b14d3fed6d7b": {
          "model_module": "@jupyter-widgets/base",
          "model_name": "LayoutModel",
          "state": {
            "_view_name": "LayoutView",
            "grid_template_rows": null,
            "right": null,
            "justify_content": null,
            "_view_module": "@jupyter-widgets/base",
            "overflow": null,
            "_model_module_version": "1.2.0",
            "_view_count": null,
            "flex_flow": null,
            "width": null,
            "min_width": null,
            "border": null,
            "align_items": null,
            "bottom": null,
            "_model_module": "@jupyter-widgets/base",
            "top": null,
            "grid_column": null,
            "overflow_y": null,
            "overflow_x": null,
            "grid_auto_flow": null,
            "grid_area": null,
            "grid_template_columns": null,
            "flex": null,
            "_model_name": "LayoutModel",
            "justify_items": null,
            "grid_row": null,
            "max_height": null,
            "align_content": null,
            "visibility": null,
            "align_self": null,
            "height": null,
            "min_height": null,
            "padding": null,
            "grid_auto_rows": null,
            "grid_gap": null,
            "max_width": null,
            "order": null,
            "_view_module_version": "1.2.0",
            "grid_template_areas": null,
            "object_position": null,
            "object_fit": null,
            "grid_auto_columns": null,
            "margin": null,
            "display": null,
            "left": null
          }
        },
        "3df0341c4b72451da39db03070320a46": {
          "model_module": "@jupyter-widgets/controls",
          "model_name": "HBoxModel",
          "state": {
            "_view_name": "HBoxView",
            "_dom_classes": [],
            "_model_name": "HBoxModel",
            "_view_module": "@jupyter-widgets/controls",
            "_model_module_version": "1.5.0",
            "_view_count": null,
            "_view_module_version": "1.5.0",
            "box_style": "",
            "layout": "IPY_MODEL_2985548e55cd4c259988f781fe8de8e3",
            "_model_module": "@jupyter-widgets/controls",
            "children": [
              "IPY_MODEL_7026c3c3b238403288bb441c5a592e12",
              "IPY_MODEL_192f3deb114841cfb0fa21ed73a3019d"
            ]
          }
        },
        "2985548e55cd4c259988f781fe8de8e3": {
          "model_module": "@jupyter-widgets/base",
          "model_name": "LayoutModel",
          "state": {
            "_view_name": "LayoutView",
            "grid_template_rows": null,
            "right": null,
            "justify_content": null,
            "_view_module": "@jupyter-widgets/base",
            "overflow": null,
            "_model_module_version": "1.2.0",
            "_view_count": null,
            "flex_flow": null,
            "width": null,
            "min_width": null,
            "border": null,
            "align_items": null,
            "bottom": null,
            "_model_module": "@jupyter-widgets/base",
            "top": null,
            "grid_column": null,
            "overflow_y": null,
            "overflow_x": null,
            "grid_auto_flow": null,
            "grid_area": null,
            "grid_template_columns": null,
            "flex": null,
            "_model_name": "LayoutModel",
            "justify_items": null,
            "grid_row": null,
            "max_height": null,
            "align_content": null,
            "visibility": null,
            "align_self": null,
            "height": null,
            "min_height": null,
            "padding": null,
            "grid_auto_rows": null,
            "grid_gap": null,
            "max_width": null,
            "order": null,
            "_view_module_version": "1.2.0",
            "grid_template_areas": null,
            "object_position": null,
            "object_fit": null,
            "grid_auto_columns": null,
            "margin": null,
            "display": null,
            "left": null
          }
        },
        "7026c3c3b238403288bb441c5a592e12": {
          "model_module": "@jupyter-widgets/controls",
          "model_name": "FloatProgressModel",
          "state": {
            "_view_name": "ProgressView",
            "style": "IPY_MODEL_2d2ad612b96f4b4b9873f3946afe1db8",
            "_dom_classes": [],
            "description": "GoogleNews-vectors-negative300.bin.gz: 100%",
            "_model_name": "FloatProgressModel",
            "bar_style": "success",
            "max": 1647046227,
            "_view_module": "@jupyter-widgets/controls",
            "_model_module_version": "1.5.0",
            "value": 1647046227,
            "_view_count": null,
            "_view_module_version": "1.5.0",
            "orientation": "horizontal",
            "min": 0,
            "description_tooltip": null,
            "_model_module": "@jupyter-widgets/controls",
            "layout": "IPY_MODEL_4d56992802ca43e69b25cad59701b646"
          }
        },
        "192f3deb114841cfb0fa21ed73a3019d": {
          "model_module": "@jupyter-widgets/controls",
          "model_name": "HTMLModel",
          "state": {
            "_view_name": "HTMLView",
            "style": "IPY_MODEL_119274acb9e04fe3b1629db372f813e8",
            "_dom_classes": [],
            "description": "",
            "_model_name": "HTMLModel",
            "placeholder": "​",
            "_view_module": "@jupyter-widgets/controls",
            "_model_module_version": "1.5.0",
            "value": " 1.65G/1.65G [10:17&lt;00:00, 2.67MB/s]",
            "_view_count": null,
            "_view_module_version": "1.5.0",
            "description_tooltip": null,
            "_model_module": "@jupyter-widgets/controls",
            "layout": "IPY_MODEL_b5a8d617deb64984b8f1255c013a27f2"
          }
        },
        "2d2ad612b96f4b4b9873f3946afe1db8": {
          "model_module": "@jupyter-widgets/controls",
          "model_name": "ProgressStyleModel",
          "state": {
            "_view_name": "StyleView",
            "_model_name": "ProgressStyleModel",
            "description_width": "initial",
            "_view_module": "@jupyter-widgets/base",
            "_model_module_version": "1.5.0",
            "_view_count": null,
            "_view_module_version": "1.2.0",
            "bar_color": null,
            "_model_module": "@jupyter-widgets/controls"
          }
        },
        "4d56992802ca43e69b25cad59701b646": {
          "model_module": "@jupyter-widgets/base",
          "model_name": "LayoutModel",
          "state": {
            "_view_name": "LayoutView",
            "grid_template_rows": null,
            "right": null,
            "justify_content": null,
            "_view_module": "@jupyter-widgets/base",
            "overflow": null,
            "_model_module_version": "1.2.0",
            "_view_count": null,
            "flex_flow": null,
            "width": null,
            "min_width": null,
            "border": null,
            "align_items": null,
            "bottom": null,
            "_model_module": "@jupyter-widgets/base",
            "top": null,
            "grid_column": null,
            "overflow_y": null,
            "overflow_x": null,
            "grid_auto_flow": null,
            "grid_area": null,
            "grid_template_columns": null,
            "flex": null,
            "_model_name": "LayoutModel",
            "justify_items": null,
            "grid_row": null,
            "max_height": null,
            "align_content": null,
            "visibility": null,
            "align_self": null,
            "height": null,
            "min_height": null,
            "padding": null,
            "grid_auto_rows": null,
            "grid_gap": null,
            "max_width": null,
            "order": null,
            "_view_module_version": "1.2.0",
            "grid_template_areas": null,
            "object_position": null,
            "object_fit": null,
            "grid_auto_columns": null,
            "margin": null,
            "display": null,
            "left": null
          }
        },
        "119274acb9e04fe3b1629db372f813e8": {
          "model_module": "@jupyter-widgets/controls",
          "model_name": "DescriptionStyleModel",
          "state": {
            "_view_name": "StyleView",
            "_model_name": "DescriptionStyleModel",
            "description_width": "",
            "_view_module": "@jupyter-widgets/base",
            "_model_module_version": "1.5.0",
            "_view_count": null,
            "_view_module_version": "1.2.0",
            "_model_module": "@jupyter-widgets/controls"
          }
        },
        "b5a8d617deb64984b8f1255c013a27f2": {
          "model_module": "@jupyter-widgets/base",
          "model_name": "LayoutModel",
          "state": {
            "_view_name": "LayoutView",
            "grid_template_rows": null,
            "right": null,
            "justify_content": null,
            "_view_module": "@jupyter-widgets/base",
            "overflow": null,
            "_model_module_version": "1.2.0",
            "_view_count": null,
            "flex_flow": null,
            "width": null,
            "min_width": null,
            "border": null,
            "align_items": null,
            "bottom": null,
            "_model_module": "@jupyter-widgets/base",
            "top": null,
            "grid_column": null,
            "overflow_y": null,
            "overflow_x": null,
            "grid_auto_flow": null,
            "grid_area": null,
            "grid_template_columns": null,
            "flex": null,
            "_model_name": "LayoutModel",
            "justify_items": null,
            "grid_row": null,
            "max_height": null,
            "align_content": null,
            "visibility": null,
            "align_self": null,
            "height": null,
            "min_height": null,
            "padding": null,
            "grid_auto_rows": null,
            "grid_gap": null,
            "max_width": null,
            "order": null,
            "_view_module_version": "1.2.0",
            "grid_template_areas": null,
            "object_position": null,
            "object_fit": null,
            "grid_auto_columns": null,
            "margin": null,
            "display": null,
            "left": null
          }
        }
      }
    }
  },
  "cells": [
    {
      "cell_type": "markdown",
      "metadata": {
        "id": "4uLb0ywmDka3",
        "colab_type": "text"
      },
      "source": [
        "# Find duplicate questions on StackOverflow by their embeddings\n",
        "\n",
        "In this assignment you will learn how to calculate a similarity for pieces of text. Using this approach you will know how to find duplicate questions from [StackOverflow](https://stackoverflow.com)."
      ]
    },
    {
      "cell_type": "markdown",
      "metadata": {
        "id": "-W_mx1ONDka5",
        "colab_type": "text"
      },
      "source": [
        "### Libraries\n",
        "\n",
        "In this task you will you will need the following libraries:\n",
        "- [StarSpace](https://github.com/facebookresearch/StarSpace) — a general-purpose model for efficient learning of entity embeddings from Facebook\n",
        "- [Gensim](https://radimrehurek.com/gensim/) — a tool for solving various NLP-related tasks (topic modeling, text representation, ...)\n",
        "- [Numpy](http://www.numpy.org) — a package for scientific computing.\n",
        "- [scikit-learn](http://scikit-learn.org/stable/index.html) — a tool for data mining and data analysis.\n",
        "- [Nltk](http://www.nltk.org) — a platform to work with human language data."
      ]
    },
    {
      "cell_type": "markdown",
      "metadata": {
        "id": "sEOrPVfIDka7",
        "colab_type": "text"
      },
      "source": [
        "### Data\n",
        "\n",
        "The following cell will download all data required for this assignment into the folder `week3/data`."
      ]
    },
    {
      "cell_type": "code",
      "metadata": {
        "id": "nYvcylpBGIna",
        "colab_type": "code",
        "colab": {
          "base_uri": "https://localhost:8080/",
          "height": 124
        },
        "outputId": "28933a65-e340-4aad-efa7-b9c5bf73a24f"
      },
      "source": [
        "from google.colab import drive\n",
        "\n",
        "drive.mount('/content/gdrive')"
      ],
      "execution_count": 1,
      "outputs": [
        {
          "output_type": "stream",
          "text": [
            "Go to this URL in a browser: https://accounts.google.com/o/oauth2/auth?client_id=947318989803-6bn6qk8qdgf4n4g3pfee6491hc0brc4i.apps.googleusercontent.com&redirect_uri=urn%3aietf%3awg%3aoauth%3a2.0%3aoob&response_type=code&scope=email%20https%3a%2f%2fwww.googleapis.com%2fauth%2fdocs.test%20https%3a%2f%2fwww.googleapis.com%2fauth%2fdrive%20https%3a%2f%2fwww.googleapis.com%2fauth%2fdrive.photos.readonly%20https%3a%2f%2fwww.googleapis.com%2fauth%2fpeopleapi.readonly\n",
            "\n",
            "Enter your authorization code:\n",
            "··········\n",
            "Mounted at /content/gdrive\n"
          ],
          "name": "stdout"
        }
      ]
    },
    {
      "cell_type": "code",
      "metadata": {
        "id": "4tfNuE1ZDka8",
        "colab_type": "code",
        "colab": {
          "base_uri": "https://localhost:8080/",
          "height": 281,
          "referenced_widgets": [
            "68390a3faa614abba08b80b9f01201ff",
            "98d83c0264bd45dba27fe95e008aaf84",
            "cfdc3c739d9f4f5c941f6d6693ba98a4",
            "b79282bc9b444864982a6532cda7b3c4",
            "20e824dd3c8d4f8e9ebe50e6360552ef",
            "3f5b92406c854eaca2a4eb0823b110e9",
            "4e57970fadd349e78ccac8ad12dcd6b0",
            "d709b7529f2c472f893c7c39c9bf4108",
            "84c8577787cd4258b0e92cb2493c18dd",
            "47435e914fc94e6fa40395b5eb52ec5f",
            "1dc4655d5da64a61b1ff9d5786e02cae",
            "58817e3a97c94001a53c3b289ac16e65",
            "b7701cb59a404ef193b56cb40123ecd9",
            "b65e3f38596048ae889b8040fa1d29c6",
            "079129a662d3400a8acf0d771aea0e4c",
            "e1da197a8ff84936b74077a97f844a2d",
            "21f740a0ca024093a4b51576242895e3",
            "42408d2c832741d8989ad878e59c1bf6",
            "0244306a6a0d4527a01cd2e863341a12",
            "67466c33366544689ef6368303f7050a",
            "86dfee8b0c204860983568c6b2799260",
            "414a6d8635f74ed6a00edee5d12e9921",
            "53832d9649d741ac94188447588d2ee3",
            "8bc826cff07b43e290b1325456b6629e",
            "ea90111b3ce34eb490aff0728a5a0033",
            "3e75fafc5f4f483e8f48986ae7f3326b",
            "15b63715559542ecb933a556831420e5",
            "369536e0608649528848a086aedd9ee4",
            "bf956ac1f34c4f95a583a0f1ddc14216",
            "6e0580843c99450584c5ce6b1b93f5f9",
            "37cfcb9a577d4302a696330b4464521a",
            "2fdcc89b83a540869e24b14d3fed6d7b",
            "3df0341c4b72451da39db03070320a46",
            "2985548e55cd4c259988f781fe8de8e3",
            "7026c3c3b238403288bb441c5a592e12",
            "192f3deb114841cfb0fa21ed73a3019d",
            "2d2ad612b96f4b4b9873f3946afe1db8",
            "4d56992802ca43e69b25cad59701b646",
            "119274acb9e04fe3b1629db372f813e8",
            "b5a8d617deb64984b8f1255c013a27f2"
          ]
        },
        "outputId": "1216e33d-3dcc-4034-c391-62970aec3075"
      },
      "source": [
        "import sys\n",
        "sys.path.append(\"/content/gdrive/My Drive/Colab Notebooks/natural-language-processing/\")\n",
        "\n",
        "from common.download_utils import download_week3_resources\n",
        "\n",
        "download_week3_resources()"
      ],
      "execution_count": 2,
      "outputs": [
        {
          "output_type": "display_data",
          "data": {
            "application/vnd.jupyter.widget-view+json": {
              "model_id": "68390a3faa614abba08b80b9f01201ff",
              "version_minor": 0,
              "version_major": 2
            },
            "text/plain": [
              "HBox(children=(FloatProgress(value=0.0, max=119127793.0), HTML(value='')))"
            ]
          },
          "metadata": {
            "tags": []
          }
        },
        {
          "output_type": "stream",
          "text": [
            "\n"
          ],
          "name": "stdout"
        },
        {
          "output_type": "display_data",
          "data": {
            "application/vnd.jupyter.widget-view+json": {
              "model_id": "84c8577787cd4258b0e92cb2493c18dd",
              "version_minor": 0,
              "version_major": 2
            },
            "text/plain": [
              "HBox(children=(FloatProgress(value=0.0, max=535543630.0), HTML(value='')))"
            ]
          },
          "metadata": {
            "tags": []
          }
        },
        {
          "output_type": "stream",
          "text": [
            "\n"
          ],
          "name": "stdout"
        },
        {
          "output_type": "display_data",
          "data": {
            "application/vnd.jupyter.widget-view+json": {
              "model_id": "21f740a0ca024093a4b51576242895e3",
              "version_minor": 0,
              "version_major": 2
            },
            "text/plain": [
              "HBox(children=(FloatProgress(value=0.0, max=46408910.0), HTML(value='')))"
            ]
          },
          "metadata": {
            "tags": []
          }
        },
        {
          "output_type": "stream",
          "text": [
            "\n"
          ],
          "name": "stdout"
        },
        {
          "output_type": "display_data",
          "data": {
            "application/vnd.jupyter.widget-view+json": {
              "model_id": "ea90111b3ce34eb490aff0728a5a0033",
              "version_minor": 0,
              "version_major": 2
            },
            "text/plain": [
              "HBox(children=(FloatProgress(value=0.0, max=5333.0), HTML(value='')))"
            ]
          },
          "metadata": {
            "tags": []
          }
        },
        {
          "output_type": "stream",
          "text": [
            "\n",
            "Downloading GoogleNews-vectors-negative300.bin.gz (1.5G) for you, it will take a while...\n"
          ],
          "name": "stdout"
        },
        {
          "output_type": "display_data",
          "data": {
            "application/vnd.jupyter.widget-view+json": {
              "model_id": "3df0341c4b72451da39db03070320a46",
              "version_minor": 0,
              "version_major": 2
            },
            "text/plain": [
              "HBox(children=(FloatProgress(value=0.0, max=1647046227.0), HTML(value='')))"
            ]
          },
          "metadata": {
            "tags": []
          }
        },
        {
          "output_type": "stream",
          "text": [
            "\n"
          ],
          "name": "stdout"
        }
      ]
    },
    {
      "cell_type": "markdown",
      "metadata": {
        "id": "FwesobNrDkbH",
        "colab_type": "text"
      },
      "source": [
        "### Grading\n",
        "We will create a grader instace below and use it to collect your answers. Note that these outputs will be stored locally inside grader and will be uploaded to platform only after running submiting function in the last part of this assignment. If you want to make partial submission, you can run that cell any time you want."
      ]
    },
    {
      "cell_type": "code",
      "metadata": {
        "id": "VgkRawWADkbI",
        "colab_type": "code",
        "colab": {}
      },
      "source": [
        "sys.path.append(\"/content/gdrive/My Drive/Colab Notebooks/natural-language-processing/week3/\")\n",
        "\n",
        "from grader import Grader"
      ],
      "execution_count": 0,
      "outputs": []
    },
    {
      "cell_type": "code",
      "metadata": {
        "id": "8OM4cr-VDkbP",
        "colab_type": "code",
        "colab": {}
      },
      "source": [
        "grader = Grader()"
      ],
      "execution_count": 0,
      "outputs": []
    },
    {
      "cell_type": "markdown",
      "metadata": {
        "id": "8JE3ps6rDkbT",
        "colab_type": "text"
      },
      "source": [
        "## Word embedding\n",
        "\n",
        "To solve the problem, you will use two different models of embeddings:\n",
        "\n",
        " - [Pre-trained word vectors](https://code.google.com/archive/p/word2vec/) from Google which were trained on a part of Google News dataset (about 100 billion words). The model contains 300-dimensional vectors for 3 million words and phrases. `GoogleNews-vectors-negative300.bin.gz` will be downloaded in `download_week3_resources()`.\n",
        " - Representations using StarSpace on StackOverflow data sample. You will need to train them from scratch."
      ]
    },
    {
      "cell_type": "markdown",
      "metadata": {
        "id": "z0jRrKMPDkbU",
        "colab_type": "text"
      },
      "source": [
        "It's always easier to start with pre-trained embeddings. Unpack the pre-trained Goggle's vectors and upload them using the function [KeyedVectors.load_word2vec_format](https://radimrehurek.com/gensim/models/keyedvectors.html) from gensim library with the parameter *binary=True*. If the size of the embeddings is larger than the avaliable memory, you could load only a part of the embeddings by defining the parameter *limit* (recommended: 500000)."
      ]
    },
    {
      "cell_type": "code",
      "metadata": {
        "id": "oZgBsvH-DkbW",
        "colab_type": "code",
        "colab": {}
      },
      "source": [
        "import gensim"
      ],
      "execution_count": 0,
      "outputs": []
    },
    {
      "cell_type": "code",
      "metadata": {
        "id": "KeIRbiaDDkbb",
        "colab_type": "code",
        "colab": {
          "base_uri": "https://localhost:8080/",
          "height": 72
        },
        "outputId": "4d1a524d-abdc-4aa2-cfec-8a63e714e5b7"
      },
      "source": [
        "from gensim.models import KeyedVectors\n",
        "wv_embeddings = KeyedVectors.load_word2vec_format(\"GoogleNews-vectors-negative300.bin.gz\", binary=True)######### YOUR CODE HERE #############"
      ],
      "execution_count": 6,
      "outputs": [
        {
          "output_type": "stream",
          "text": [
            "/usr/local/lib/python3.6/dist-packages/smart_open/smart_open_lib.py:253: UserWarning: This function is deprecated, use smart_open.open instead. See the migration notes for details: https://github.com/RaRe-Technologies/smart_open/blob/master/README.rst#migrating-to-the-new-open-function\n",
            "  'See the migration notes for details: %s' % _MIGRATION_NOTES_URL\n"
          ],
          "name": "stderr"
        }
      ]
    },
    {
      "cell_type": "markdown",
      "metadata": {
        "id": "eoEGQQmmDkbh",
        "colab_type": "text"
      },
      "source": [
        "### How to work with Google's word2vec embeddings?\n",
        "\n",
        "Once you have loaded the representations, make sure you can access them. First, you can check if the loaded embeddings contain a word:\n",
        "    \n",
        "    'word' in wv_embeddings\n",
        "    \n",
        "Second, to get the corresponding embedding you can use the square brackets:\n",
        "\n",
        "    wv_embeddings['word']\n",
        " \n",
        "### Checking that the embeddings are correct \n",
        " \n",
        "To prevent any errors during the first stage, we can check that the loaded embeddings are correct. You can call the function *check_embeddings*, implemented below, which runs 3 tests:\n",
        "1. Find the most similar word for provided \"positive\" and \"negative\" words.\n",
        "2. Find which word from the given list doesn’t go with the others.\n",
        "3. Find the most similar word for the provided one.\n",
        "\n",
        "In the right case the function will return the string *These embeddings look good*. Othervise, you need to validate the previous steps."
      ]
    },
    {
      "cell_type": "code",
      "metadata": {
        "id": "atUZC77vDkbh",
        "colab_type": "code",
        "colab": {}
      },
      "source": [
        "def check_embeddings(embeddings):\n",
        "    error_text = \"Something wrong with your embeddings ('%s test isn't correct).\"\n",
        "    most_similar = embeddings.most_similar(positive=['woman', 'king'], negative=['man'])\n",
        "    if len(most_similar) < 1 or most_similar[0][0] != 'queen':\n",
        "        return error_text % \"Most similar\"\n",
        "\n",
        "    doesnt_match = embeddings.doesnt_match(['breakfast', 'cereal', 'dinner', 'lunch'])\n",
        "    if doesnt_match != 'cereal':\n",
        "        return error_text % \"Doesn't match\"\n",
        "    \n",
        "    most_similar_to_given = embeddings.most_similar_to_given('music', ['water', 'sound', 'backpack', 'mouse'])\n",
        "    if most_similar_to_given != 'sound':\n",
        "        return error_text % \"Most similar to given\"\n",
        "    \n",
        "    return \"These embeddings look good.\""
      ],
      "execution_count": 0,
      "outputs": []
    },
    {
      "cell_type": "code",
      "metadata": {
        "id": "OvfuH5KqDkbm",
        "colab_type": "code",
        "colab": {
          "base_uri": "https://localhost:8080/",
          "height": 124
        },
        "outputId": "43516ac9-d065-48cf-eabb-4b2551fed97b"
      },
      "source": [
        "print(check_embeddings(wv_embeddings))"
      ],
      "execution_count": 8,
      "outputs": [
        {
          "output_type": "stream",
          "text": [
            "/usr/local/lib/python3.6/dist-packages/gensim/matutils.py:737: FutureWarning: Conversion of the second argument of issubdtype from `int` to `np.signedinteger` is deprecated. In future, it will be treated as `np.int64 == np.dtype(int).type`.\n",
            "  if np.issubdtype(vec.dtype, np.int):\n"
          ],
          "name": "stderr"
        },
        {
          "output_type": "stream",
          "text": [
            "These embeddings look good.\n"
          ],
          "name": "stdout"
        },
        {
          "output_type": "stream",
          "text": [
            "/usr/local/lib/python3.6/dist-packages/gensim/models/keyedvectors.py:895: FutureWarning: arrays to stack must be passed as a \"sequence\" type such as list or tuple. Support for non-sequence iterables such as generators is deprecated as of NumPy 1.16 and will raise an error in the future.\n",
            "  vectors = vstack(self.word_vec(word, use_norm=True) for word in used_words).astype(REAL)\n"
          ],
          "name": "stderr"
        }
      ]
    },
    {
      "cell_type": "markdown",
      "metadata": {
        "id": "d8CmPL6MDkbq",
        "colab_type": "text"
      },
      "source": [
        "## From word to text embeddings\n",
        "\n",
        "**Task 1 (Question2Vec).** Usually, we have word-based embeddings, but for the task we need to create a representation for the whole question. It could be done in different ways. In our case we will use a **mean** of all word vectors in the question. Now you need to implement the function *question_to_vec*, which calculates the question representation described above. This function should work with the input text as is without any preprocessing.\n",
        "\n",
        "Note that there could be words without the corresponding embeddings. In this case, you can just skip these words and don't take them into account during calculating the result. If the question doesn't contain any known word with embedding, the function should return a zero vector."
      ]
    },
    {
      "cell_type": "code",
      "metadata": {
        "id": "8-i17vfIDkbr",
        "colab_type": "code",
        "colab": {}
      },
      "source": [
        "import numpy as np"
      ],
      "execution_count": 0,
      "outputs": []
    },
    {
      "cell_type": "code",
      "metadata": {
        "id": "-2hrCo3uDkbv",
        "colab_type": "code",
        "colab": {}
      },
      "source": [
        "def question_to_vec(question, embeddings, dim=300):\n",
        "    \"\"\"\n",
        "        question: a string\n",
        "        embeddings: dict where the key is a word and a value is its' embedding\n",
        "        dim: size of the representation\n",
        "\n",
        "        result: vector representation for the question\n",
        "    \"\"\"\n",
        "    ######################################\n",
        "    ######### YOUR CODE HERE #############\n",
        "    ######################################\n",
        "    embedding_matrix = np.zeros((dim,), dtype=np.float32)\n",
        "    for w in question.split():\n",
        "      if w in embeddings:\n",
        "        embedding_matrix += embeddings[w]\n",
        "    return embedding_matrix"
      ],
      "execution_count": 0,
      "outputs": []
    },
    {
      "cell_type": "markdown",
      "metadata": {
        "id": "yfXaboc1Dkb0",
        "colab_type": "text"
      },
      "source": [
        "To check the basic correctness of your implementation, run the function *question_to_vec_tests*."
      ]
    },
    {
      "cell_type": "code",
      "metadata": {
        "id": "wGrdU9QFDkb0",
        "colab_type": "code",
        "colab": {}
      },
      "source": [
        "def question_to_vec_tests():\n",
        "    if (np.zeros(300) != question_to_vec('', wv_embeddings)).any():\n",
        "        return \"You need to return zero vector for empty question.\"\n",
        "    if (np.zeros(300) != question_to_vec('thereisnosuchword', wv_embeddings)).any():\n",
        "        return \"You need to return zero vector for the question, which consists only unknown words.\"\n",
        "    if (wv_embeddings['word'] != question_to_vec('word', wv_embeddings)).any():\n",
        "        return \"You need to check the corectness of your function.\"\n",
        "    if ((wv_embeddings['I'] + wv_embeddings['am']) / 2 != question_to_vec('I am', wv_embeddings)).any():\n",
        "        return \"Your function should calculate a mean of word vectors.\"\n",
        "    if (wv_embeddings['word'] != question_to_vec('thereisnosuchword word', wv_embeddings)).any():\n",
        "        return \"You should not consider words which embeddings are unknown.\"\n",
        "    return \"Basic tests are passed.\""
      ],
      "execution_count": 0,
      "outputs": []
    },
    {
      "cell_type": "code",
      "metadata": {
        "id": "0KE5lpgzDkb6",
        "colab_type": "code",
        "colab": {
          "base_uri": "https://localhost:8080/",
          "height": 34
        },
        "outputId": "7722cb76-68f3-4bb4-a847-eeb446f5e55d"
      },
      "source": [
        "print(question_to_vec_tests())"
      ],
      "execution_count": 12,
      "outputs": [
        {
          "output_type": "stream",
          "text": [
            "Your function should calculate a mean of word vectors.\n"
          ],
          "name": "stdout"
        }
      ]
    },
    {
      "cell_type": "markdown",
      "metadata": {
        "id": "4yZerdbDDkb-",
        "colab_type": "text"
      },
      "source": [
        "You can submit embeddings for the questions from the file *test_embeddings.tsv* to earn the points. In this task you don't need to transform the text of a question somehow."
      ]
    },
    {
      "cell_type": "code",
      "metadata": {
        "id": "A6OTI-4ADkb-",
        "colab_type": "code",
        "colab": {
          "base_uri": "https://localhost:8080/",
          "height": 52
        },
        "outputId": "909cd98e-3cb1-4b69-a5da-82d3309cc82f"
      },
      "source": [
        "import nltk\n",
        "nltk.download('stopwords')\n",
        "from util import array_to_string"
      ],
      "execution_count": 13,
      "outputs": [
        {
          "output_type": "stream",
          "text": [
            "[nltk_data] Downloading package stopwords to /root/nltk_data...\n",
            "[nltk_data]   Unzipping corpora/stopwords.zip.\n"
          ],
          "name": "stdout"
        }
      ]
    },
    {
      "cell_type": "code",
      "metadata": {
        "id": "x4zbtBnuDkcC",
        "colab_type": "code",
        "colab": {
          "base_uri": "https://localhost:8080/",
          "height": 139
        },
        "outputId": "f3f338b0-9ce2-41eb-8f36-fa57a959e374"
      },
      "source": [
        "question2vec_result = []\n",
        "for question in open('data/test_embeddings.tsv'):\n",
        "    question = question.strip()\n",
        "    answer = question_to_vec(question, wv_embeddings)\n",
        "    question2vec_result = np.append(question2vec_result, answer)\n",
        "\n",
        "grader.submit_tag('Question2Vec', array_to_string(question2vec_result))"
      ],
      "execution_count": 14,
      "outputs": [
        {
          "output_type": "stream",
          "text": [
            "Current answer for task Question2Vec is: 0.17364501953125\n",
            "-0.258544921875\n",
            "0.4145050048828125\n",
            "0.767333984375\n",
            "0.21875\n",
            "-0.6561279296875\n",
            "0.120849...\n"
          ],
          "name": "stdout"
        }
      ]
    },
    {
      "cell_type": "markdown",
      "metadata": {
        "id": "SeJvlucQDkcG",
        "colab_type": "text"
      },
      "source": [
        "Now we have a method to create a representation of any sentence and we are ready for the first evaluation. So, let's check how well our solution (Google's vectors + *question_to_vec*) will work.\n",
        "\n",
        "## Evaluation of text similarity\n",
        "\n",
        "We can imagine that if we use good embeddings, the cosine similarity between the duplicate sentences should be less than for the random ones. Overall, for each pair of duplicate sentences we can generate *R* random negative examples and find out the position of the correct duplicate.  \n",
        "\n",
        "For example, we have the question *\"Exceptions What really happens\"* and we are sure that another question *\"How does the catch keyword determine the type of exception that was thrown\"* is a duplicate. But our model doesn't know it and tries to find out the best option also among questions like *\"How Can I Make These Links Rotate in PHP\"*, *\"NSLog array description not memory address\"* and *\"PECL_HTTP not recognised php ubuntu\"*. The goal of the model is to rank all these 4 questions (1 *positive* and *R* = 3 *negative*) in the way that the correct one is in the first place.\n",
        "\n",
        "However, it is unnatural to count on that the best candidate will be always in the first place. So let us consider the place of the best candidate in the sorted list of candidates and formulate a metric based on it. We can fix some *K* — a reasonalble number of top-ranked elements and *N* — a number of queries (size of the sample).\n",
        "\n",
        "### Hits@K\n",
        "\n",
        "The first simple metric will be a number of correct hits for some *K*:\n",
        "$$ \\text{Hits@K} = \\frac{1}{N}\\sum_{i=1}^N \\, [dup_i \\in topK(q_i)]$$\n",
        "\n",
        "where $q_i$ is the i-th query, $dup_i$ is its duplicate, $topK(q_i)$ is the top K elements of the ranked sentences provided by our model and the operation $[dup_i \\in topK(q_i)]$ equals 1 if the condition is true and 0 otherwise (more details about this operation could be found [here](https://en.wikipedia.org/wiki/Iverson_bracket)).\n",
        "\n",
        "\n",
        "### DCG@K\n",
        "The second one is a simplified [DCG metric](https://en.wikipedia.org/wiki/Discounted_cumulative_gain):\n",
        "\n",
        "$$ \\text{DCG@K} = \\frac{1}{N} \\sum_{i=1}^N\\frac{1}{\\log_2(1+rank_{dup_i})}\\cdot[rank_{dup_i} \\le K] $$\n",
        "\n",
        "where $rank_{dup_i}$ is a position of the duplicate in the sorted list of the nearest sentences for the query $q_i$. According to this metric, the model gets a higher reward for a higher position of the correct answer. If the answer does not appear in topK at all, the reward is zero. "
      ]
    },
    {
      "cell_type": "markdown",
      "metadata": {
        "id": "abmQPn3LDkcH",
        "colab_type": "text"
      },
      "source": [
        "### Evaluation examples\n",
        "\n",
        "Let's calculate the described metrics for the toy example introduced above. In this case $N$ = 1 and the correct candidate for $q_1$ is *\"How does the catch keyword determine the type of exception that was thrown\"*. Consider the following ranking of the candidates:\n",
        "1. *\"How Can I Make These Links Rotate in PHP\"*\n",
        "2. *\"How does the catch keyword determine the type of exception that was thrown\"*\n",
        "3. *\"NSLog array description not memory address\"*\n",
        "4. *\"PECL_HTTP not recognised php ubuntu\"*\n",
        "\n",
        "Using the ranking above, calculate *Hits@K* metric for *K = 1, 2, 4*: \n",
        " \n",
        "- [K = 1] $\\text{Hits@1} = \\frac{1}{1}\\sum_{i=1}^1 \\, [dup_i \\in top1(q_i)] = [dup_1 \\in top1(q_1)] = 0$ because the correct answer doesn't appear in the *top1* list.\n",
        "- [K = 2] $\\text{Hits@2} = \\frac{1}{1}\\sum_{i=1}^1 \\, [dup_i \\in top2(q_i)] = [dup_1 \\in top2(q_1)] = 1$ because $rank_{dup_1} = 2$.\n",
        "- [K = 4] $\\text{Hits@4} = \\frac{1}{1}\\sum_{i=1}^1 \\, [dup_i \\in top4(q_i)] = [dup_1 \\in top4(q_1)] = 1$\n",
        "\n",
        "Using the ranking above, calculate *DCG@K* metric for *K = 1, 2, 4*:\n",
        "\n",
        "- [K = 1] $\\text{DCG@1} = \\frac{1}{1} \\sum_{i=1}^1\\frac{1}{\\log_2(1+rank_{dup_i})}\\cdot[rank_{dup_i} \\le 1] = \\frac{1}{\\log_2(1+rank_{dup_i})}\\cdot[rank_{dup_i} \\le 1] = 0$ because the correct answer doesn't appear in the top1 list.\n",
        "- [K = 2] $\\text{DCG@2} = \\frac{1}{1} \\sum_{i=1}^1\\frac{1}{\\log_2(1+rank_{dup_i})}\\cdot[rank_{dup_i} \\le 2] = \\frac{1}{\\log_2{3}}$, because $rank_{dup_1} = 2$.\n",
        "- [K = 4] $\\text{DCG@4} = \\frac{1}{1} \\sum_{i=1}^1\\frac{1}{\\log_2(1+rank_{dup_i})}\\cdot[rank_{dup_i} \\le 4] = \\frac{1}{\\log_2{3}}$.\n"
      ]
    },
    {
      "cell_type": "markdown",
      "metadata": {
        "id": "2IFx6y71DkcH",
        "colab_type": "text"
      },
      "source": [
        "**Tasks 2 and 3 (HitsCount and DCGScore).** Implement the functions *hits_count* and *dcg_score* as described above. Each function has two arguments: *dup_ranks* and *k*. *dup_ranks* is a list which contains *values of ranks* of duplicates. For example, *dup_ranks* is *[2]* for the example provided above."
      ]
    },
    {
      "cell_type": "code",
      "metadata": {
        "id": "v7zapnJcDkcI",
        "colab_type": "code",
        "colab": {}
      },
      "source": [
        "def hits_count(dup_ranks, k):\n",
        "    \"\"\"\n",
        "        dup_ranks: list of duplicates' ranks; one rank per question; \n",
        "                   length is a number of questions which we are looking for duplicates; \n",
        "                   rank is a number from 1 to len(candidates of the question); \n",
        "                   e.g. [2, 3] means that the first duplicate has the rank 2, the second one — 3.\n",
        "        k: number of top-ranked elements (k in Hits@k metric)\n",
        "\n",
        "        result: return Hits@k value for current ranking\n",
        "    \"\"\"\n",
        "    ######################################\n",
        "    ######### YOUR CODE HERE #############\n",
        "    ######################################\n",
        "    count = 0\n",
        "    for rank in dup_ranks:\n",
        "      if rank <=k:\n",
        "        count += 1\n",
        "    return count/len(dup_ranks)"
      ],
      "execution_count": 0,
      "outputs": []
    },
    {
      "cell_type": "markdown",
      "metadata": {
        "id": "R7uR4Sm5DkcL",
        "colab_type": "text"
      },
      "source": [
        "Test your code on the tiny examples:"
      ]
    },
    {
      "cell_type": "code",
      "metadata": {
        "id": "IdB5UcrpDkcM",
        "colab_type": "code",
        "colab": {}
      },
      "source": [
        "def test_hits():\n",
        "    # *Evaluation example*\n",
        "    # answers — dup_i\n",
        "    answers = [\"How does the catch keyword determine the type of exception that was thrown\"]\n",
        "    \n",
        "    # candidates_ranking — the ranked sentences provided by our model\n",
        "    candidates_ranking = [[\"How Can I Make These Links Rotate in PHP\", \n",
        "                           \"How does the catch keyword determine the type of exception that was thrown\",\n",
        "                           \"NSLog array description not memory address\",\n",
        "                           \"PECL_HTTP not recognised php ubuntu\"]]\n",
        "    # dup_ranks — position of the dup_i in the list of ranks +1\n",
        "    dup_ranks = [candidates_ranking[i].index(answers[i]) + 1 for i in range(len(answers))]\n",
        "    \n",
        "    # correct_answers — the expected values of the result for each k from 1 to 4\n",
        "    correct_answers = [0, 1, 1, 1]\n",
        "    for k, correct in enumerate(correct_answers, 1):\n",
        "        if not np.isclose(hits_count(dup_ranks, k), correct):\n",
        "            return \"Check the function.\"\n",
        "    \n",
        "    # Other tests\n",
        "    answers = [\"How does the catch keyword determine the type of exception that was thrown\", \n",
        "               \"Convert Google results object (pure js) to Python object\"]\n",
        "    \n",
        "    # The first test: both duplicates on the first position in ranked list\n",
        "    candidates_ranking = [[\"How does the catch keyword determine the type of exception that was thrown\",\n",
        "                           \"How Can I Make These Links Rotate in PHP\"], \n",
        "                          [\"Convert Google results object (pure js) to Python object\",\n",
        "                           \"WPF- How to update the changes in list item of a list\"]]\n",
        "    dup_ranks = [candidates_ranking[i].index(answers[i]) + 1 for i in range(len(answers))]\n",
        "    correct_answers = [1, 1]\n",
        "    for k, correct in enumerate(correct_answers, 1):\n",
        "        if not np.isclose(hits_count(dup_ranks, k), correct):\n",
        "            return \"Check the function (test: both duplicates on the first position in ranked list).\"\n",
        "        \n",
        "    # The second test: one candidate on the first position, another — on the second\n",
        "    candidates_ranking = [[\"How Can I Make These Links Rotate in PHP\", \n",
        "                           \"How does the catch keyword determine the type of exception that was thrown\"], \n",
        "                          [\"Convert Google results object (pure js) to Python object\",\n",
        "                           \"WPF- How to update the changes in list item of a list\"]]\n",
        "    dup_ranks = [candidates_ranking[i].index(answers[i]) + 1 for i in range(len(answers))]\n",
        "    correct_answers = [0.5, 1]\n",
        "    for k, correct in enumerate(correct_answers, 1):\n",
        "        if not np.isclose(hits_count(dup_ranks, k), correct):\n",
        "            return \"Check the function (test: one candidate on the first position, another — on the second).\"\n",
        "\n",
        "    # The third test: both candidates on the second position\n",
        "    candidates_ranking = [[\"How Can I Make These Links Rotate in PHP\", \n",
        "                           \"How does the catch keyword determine the type of exception that was thrown\"], \n",
        "                          [\"WPF- How to update the changes in list item of a list\",\n",
        "                           \"Convert Google results object (pure js) to Python object\"]]\n",
        "    dup_ranks = [candidates_ranking[i].index(answers[i]) + 1 for i in range(len(answers))]\n",
        "    correct_answers = [0, 1]\n",
        "    for k, correct in enumerate(correct_answers, 1):\n",
        "        if not np.isclose(hits_count(dup_ranks, k), correct):\n",
        "            return \"Check the function (test: both candidates on the second position).\"\n",
        "\n",
        "    return \"Basic test are passed.\""
      ],
      "execution_count": 0,
      "outputs": []
    },
    {
      "cell_type": "code",
      "metadata": {
        "id": "w82oXrYKDkcP",
        "colab_type": "code",
        "colab": {
          "base_uri": "https://localhost:8080/",
          "height": 34
        },
        "outputId": "7eca26de-a64a-4ffd-8b77-804637f4c36a"
      },
      "source": [
        "print(test_hits())"
      ],
      "execution_count": 17,
      "outputs": [
        {
          "output_type": "stream",
          "text": [
            "Basic test are passed.\n"
          ],
          "name": "stdout"
        }
      ]
    },
    {
      "cell_type": "code",
      "metadata": {
        "id": "AhP56FQ3DkcT",
        "colab_type": "code",
        "colab": {}
      },
      "source": [
        "def dcg_score(dup_ranks, k):\n",
        "    \"\"\"\n",
        "        dup_ranks: list of duplicates' ranks; one rank per question; \n",
        "                   length is a number of questions which we are looking for duplicates; \n",
        "                   rank is a number from 1 to len(candidates of the question); \n",
        "                   e.g. [2, 3] means that the first duplicate has the rank 2, the second one — 3.\n",
        "        k: number of top-ranked elements (k in DCG@k metric)\n",
        "\n",
        "        result: return DCG@k value for current ranking\n",
        "    \"\"\"\n",
        "    ######################################\n",
        "    ######### YOUR CODE HERE #############\n",
        "    ######################################\n",
        "    count = 0\n",
        "    for rank in dup_ranks:\n",
        "      count += 1/np.log2(1+rank)*(1 if rank <= k else 0)\n",
        "    return count/len(dup_ranks)"
      ],
      "execution_count": 0,
      "outputs": []
    },
    {
      "cell_type": "code",
      "metadata": {
        "id": "FMBdXzvKDkcX",
        "colab_type": "code",
        "colab": {}
      },
      "source": [
        "def test_dcg():\n",
        "    # *Evaluation example*\n",
        "    # answers — dup_i\n",
        "    answers = [\"How does the catch keyword determine the type of exception that was thrown\"]\n",
        "    \n",
        "    # candidates_ranking — the ranked sentences provided by our model\n",
        "    candidates_ranking = [[\"How Can I Make These Links Rotate in PHP\", \n",
        "                           \"How does the catch keyword determine the type of exception that was thrown\",\n",
        "                           \"NSLog array description not memory address\",\n",
        "                           \"PECL_HTTP not recognised php ubuntu\"]]\n",
        "    # dup_ranks — position of the dup_i in the list of ranks +1\n",
        "    dup_ranks = [candidates_ranking[i].index(answers[i]) + 1 for i in range(len(answers))]\n",
        "    \n",
        "    # correct_answers — the expected values of the result for each k from 1 to 4\n",
        "    correct_answers = [0, 1 / (np.log2(3)), 1 / (np.log2(3)), 1 / (np.log2(3))]\n",
        "    for k, correct in enumerate(correct_answers, 1):\n",
        "        if not np.isclose(dcg_score(dup_ranks, k), correct):\n",
        "            return \"Check the function.\"\n",
        "    \n",
        "    # Other tests\n",
        "    answers = [\"How does the catch keyword determine the type of exception that was thrown\", \n",
        "               \"Convert Google results object (pure js) to Python object\"]\n",
        "\n",
        "    # The first test: both duplicates on the first position in ranked list\n",
        "    candidates_ranking = [[\"How does the catch keyword determine the type of exception that was thrown\",\n",
        "                           \"How Can I Make These Links Rotate in PHP\"], \n",
        "                          [\"Convert Google results object (pure js) to Python object\",\n",
        "                           \"WPF- How to update the changes in list item of a list\"]]\n",
        "    dup_ranks = [candidates_ranking[i].index(answers[i]) + 1 for i in range(len(answers))]\n",
        "    correct_answers = [1, 1]\n",
        "    for k, correct in enumerate(correct_answers, 1):\n",
        "        if not np.isclose(dcg_score(dup_ranks, k), correct):\n",
        "            return \"Check the function (test: both duplicates on the first position in ranked list).\"\n",
        "        \n",
        "    # The second test: one candidate on the first position, another — on the second\n",
        "    candidates_ranking = [[\"How Can I Make These Links Rotate in PHP\", \n",
        "                           \"How does the catch keyword determine the type of exception that was thrown\"], \n",
        "                          [\"Convert Google results object (pure js) to Python object\",\n",
        "                           \"WPF- How to update the changes in list item of a list\"]]\n",
        "    dup_ranks = [candidates_ranking[i].index(answers[i]) + 1 for i in range(len(answers))]\n",
        "    correct_answers = [0.5, (1 + (1 / (np.log2(3)))) / 2]\n",
        "    for k, correct in enumerate(correct_answers, 1):\n",
        "        if not np.isclose(dcg_score(dup_ranks, k), correct):\n",
        "            return \"Check the function (test: one candidate on the first position, another — on the second).\"\n",
        "        \n",
        "    # The third test: both candidates on the second position\n",
        "    candidates_ranking = [[\"How Can I Make These Links Rotate in PHP\",\n",
        "                           \"How does the catch keyword determine the type of exception that was thrown\"], \n",
        "                          [\"WPF- How to update the changes in list item of a list\",\n",
        "                           \"Convert Google results object (pure js) to Python object\"]]\n",
        "    dup_ranks = [candidates_ranking[i].index(answers[i]) + 1 for i in range(len(answers))]\n",
        "    correct_answers = [0, 1 / (np.log2(3))]\n",
        "    for k, correct in enumerate(correct_answers, 1):\n",
        "        if not np.isclose(dcg_score(dup_ranks, k), correct):\n",
        "            return \"Check the function (test: both candidates on the second position).\"\n",
        "\n",
        "    return \"Basic test are passed.\""
      ],
      "execution_count": 0,
      "outputs": []
    },
    {
      "cell_type": "code",
      "metadata": {
        "id": "A-swJsj3Dkcb",
        "colab_type": "code",
        "colab": {
          "base_uri": "https://localhost:8080/",
          "height": 34
        },
        "outputId": "40b47b6a-f193-4822-b663-b6c0ad144625"
      },
      "source": [
        "print(test_dcg())"
      ],
      "execution_count": 20,
      "outputs": [
        {
          "output_type": "stream",
          "text": [
            "Basic test are passed.\n"
          ],
          "name": "stdout"
        }
      ]
    },
    {
      "cell_type": "markdown",
      "metadata": {
        "id": "4iR9_R20Dkce",
        "colab_type": "text"
      },
      "source": [
        "Submit results of the functions *hits_count* and *dcg_score* for the following examples to earn the points."
      ]
    },
    {
      "cell_type": "code",
      "metadata": {
        "id": "wD6wKgnVDkce",
        "colab_type": "code",
        "colab": {}
      },
      "source": [
        "test_examples = [\n",
        "    [1],\n",
        "    [1, 2],\n",
        "    [2, 1],\n",
        "    [1, 2, 3],\n",
        "    [1, 2, 3, 4, 5, 6, 7, 8, 9, 10],\n",
        "    [9, 5, 4, 2, 8, 10, 7, 6, 1, 3],\n",
        "    [4, 3, 5, 1, 9, 10, 7, 8, 2, 6],\n",
        "    [5, 1, 7, 6, 2, 3, 8, 9, 10, 4],\n",
        "    [6, 3, 1, 4, 7, 2, 9, 8, 10, 5],\n",
        "    [10, 9, 8, 7, 6, 5, 4, 3, 2, 1],\n",
        "]"
      ],
      "execution_count": 0,
      "outputs": []
    },
    {
      "cell_type": "code",
      "metadata": {
        "id": "Dla3IxixDkci",
        "colab_type": "code",
        "colab": {
          "base_uri": "https://localhost:8080/",
          "height": 330
        },
        "outputId": "d4753656-f05f-4206-8970-946de9b7a8d3"
      },
      "source": [
        "hits_results = []\n",
        "for example in test_examples:\n",
        "    for k in range(len(example)):\n",
        "        hits_results.append(hits_count(example, k + 1))\n",
        "grader.submit_tag('HitsCount', array_to_string(hits_results))"
      ],
      "execution_count": 22,
      "outputs": [
        {
          "output_type": "stream",
          "text": [
            "Current answer for task HitsCount is: 1.0\n",
            "0.5\n",
            "1.0\n",
            "0.5\n",
            "1.0\n",
            "0.3333333333333333\n",
            "0.6666666666666666\n",
            "1.0\n",
            "0.1\n",
            "0.2\n",
            "0.3\n",
            "0.4\n",
            "0.5\n",
            "0.6\n",
            "0.7\n",
            "0.8\n",
            "0.9\n",
            "1....\n"
          ],
          "name": "stdout"
        }
      ]
    },
    {
      "cell_type": "code",
      "metadata": {
        "id": "E2cHS_mQDkcm",
        "colab_type": "code",
        "colab": {
          "base_uri": "https://localhost:8080/",
          "height": 156
        },
        "outputId": "d53a4230-4961-4bdc-b6f3-01ee4d2c24c2"
      },
      "source": [
        "dcg_results = []\n",
        "for example in test_examples:\n",
        "    for k in range(len(example)):\n",
        "        dcg_results.append(dcg_score(example, k + 1))\n",
        "grader.submit_tag('DCGScore', array_to_string(dcg_results))"
      ],
      "execution_count": 23,
      "outputs": [
        {
          "output_type": "stream",
          "text": [
            "Current answer for task DCGScore is: 1.0\n",
            "0.5\n",
            "0.8154648767857288\n",
            "0.5\n",
            "0.8154648767857288\n",
            "0.3333333333333333\n",
            "0.5436432511904858\n",
            "0.7103099178...\n"
          ],
          "name": "stdout"
        }
      ]
    },
    {
      "cell_type": "markdown",
      "metadata": {
        "id": "SFPaG-cGDkcq",
        "colab_type": "text"
      },
      "source": [
        "##  First solution: pre-trained embeddings"
      ]
    },
    {
      "cell_type": "markdown",
      "metadata": {
        "id": "QTuSvZv8Dkcr",
        "colab_type": "text"
      },
      "source": [
        "We will work with predefined train, validation and test corpora. All the files are tab-separated, but have a different format:\n",
        " - *train* corpus contains similar sentences at the same row.\n",
        " - *validation* corpus contains the following columns: *question*, *similar question*, *negative example 1*, *negative example 2*, ... \n",
        " - *test* corpus contains the following columns: *question*, *example 1*, *example 2*, ...\n",
        "\n",
        "Validation corpus will be used for the intermediate validation of models. The test data will be necessary for submitting the quality of your model in the system."
      ]
    },
    {
      "cell_type": "markdown",
      "metadata": {
        "id": "oQJMYYiwDkcr",
        "colab_type": "text"
      },
      "source": [
        "Now you should read *validation* corpus, located at `data/validation.tsv`. You will use it later to evaluate current solution."
      ]
    },
    {
      "cell_type": "code",
      "metadata": {
        "id": "z9poi3iJDkcr",
        "colab_type": "code",
        "colab": {}
      },
      "source": [
        "def read_corpus(filename):\n",
        "    data = []\n",
        "    for line in open(filename, encoding='utf-8'):\n",
        "        data.append(line.strip().split('\\t'))\n",
        "    return data"
      ],
      "execution_count": 0,
      "outputs": []
    },
    {
      "cell_type": "code",
      "metadata": {
        "id": "ic5yUZl6Dkcu",
        "colab_type": "code",
        "colab": {}
      },
      "source": [
        "validation = read_corpus(\"data/validation.tsv\")######### YOUR CODE HERE #############"
      ],
      "execution_count": 0,
      "outputs": []
    },
    {
      "cell_type": "code",
      "metadata": {
        "id": "kZrK_97VDkcx",
        "colab_type": "code",
        "colab": {}
      },
      "source": [
        "from sklearn.metrics.pairwise import cosine_similarity"
      ],
      "execution_count": 0,
      "outputs": []
    },
    {
      "cell_type": "markdown",
      "metadata": {
        "id": "C2n-3zeRDkc0",
        "colab_type": "text"
      },
      "source": [
        "We will use cosine distance to rank candidate questions which you need to implement in the function *rank_candidates*. The function should return a sorted list of pairs *(initial position in candidates list, candidate)*. Index of some pair corresponds to its rank (the first is the best). For example, if the list of candidates was *[a, b, c]* and the most similar is *c*, then *a* and *b*, the function should return a list *[(2, c), (0, a), (1, b)]*.\n",
        "\n",
        "Pay attention, if you use the function *cosine_similarity* from *sklearn.metrics.pairwise* to calculate similarity because it works in a different way: most similar objects has greatest similarity. It's preferable to use a vectorized version of *cosine_similarity* function. Try to compute similarity at once and not use list comprehension. It should speed up your computations significantly."
      ]
    },
    {
      "cell_type": "code",
      "metadata": {
        "id": "CuSwhSHVDkc1",
        "colab_type": "code",
        "colab": {}
      },
      "source": [
        "def rank_candidates(question, candidates, embeddings, dim=300):\n",
        "    \"\"\"\n",
        "        question: a string\n",
        "        candidates: a list of strings (candidates) which we want to rank\n",
        "        embeddings: some embeddings\n",
        "        dim: dimension of the current embeddings\n",
        "        \n",
        "        result: a list of pairs (initial position in the list, question)\n",
        "    \"\"\"\n",
        "    \n",
        "    ######################################\n",
        "    ######### YOUR CODE HERE #############\n",
        "    ######################################\n",
        "    vecq = np.array([np.array(question_to_vec(question, embeddings, dim))])\n",
        "    vecc = np.array([np.array(question_to_vec(can, embeddings, dim)) for can in candidates])\n",
        "    scores = list(cosine_similarity(vecq, vecc)[0])\n",
        "    tl = [(i, candidates[i], scores[i]) for i in range(len(candidates))]\n",
        "    stl = sorted(tl, key=lambda x:x[2], reverse=True)\n",
        "    return [(t[0], t[1]) for t in stl]"
      ],
      "execution_count": 0,
      "outputs": []
    },
    {
      "cell_type": "markdown",
      "metadata": {
        "id": "eTUG6ZASDkc5",
        "colab_type": "text"
      },
      "source": [
        "Test your code on the tiny examples:"
      ]
    },
    {
      "cell_type": "code",
      "metadata": {
        "id": "78yHOOWqDkc5",
        "colab_type": "code",
        "colab": {}
      },
      "source": [
        "def test_rank_candidates():\n",
        "    questions = ['converting string to list', 'Sending array via Ajax fails']\n",
        "    candidates = [['Convert Google results object (pure js) to Python object', \n",
        "                   'C# create cookie from string and send it',\n",
        "                   'How to use jQuery AJAX for an outside domain?'], \n",
        "                  ['Getting all list items of an unordered list in PHP', \n",
        "                   'WPF- How to update the changes in list item of a list', \n",
        "                   'select2 not displaying search results']]\n",
        "    results = [[(1, 'C# create cookie from string and send it'), \n",
        "                (0, 'Convert Google results object (pure js) to Python object'), \n",
        "                (2, 'How to use jQuery AJAX for an outside domain?')],\n",
        "               [(0, 'Getting all list items of an unordered list in PHP'), \n",
        "                (2, 'select2 not displaying search results'), \n",
        "                (1, 'WPF- How to update the changes in list item of a list')]]\n",
        "    for question, q_candidates, result in zip(questions, candidates, results):\n",
        "        ranks = rank_candidates(question, q_candidates, wv_embeddings, 300)\n",
        "        if not np.all(ranks == result):\n",
        "            return \"Check the function.\"\n",
        "    return \"Basic tests are passed.\""
      ],
      "execution_count": 0,
      "outputs": []
    },
    {
      "cell_type": "code",
      "metadata": {
        "id": "Dbdd_bGHDkc7",
        "colab_type": "code",
        "colab": {
          "base_uri": "https://localhost:8080/",
          "height": 34
        },
        "outputId": "900793b5-caa2-4797-84a8-c923a37f8431"
      },
      "source": [
        "print(test_rank_candidates())"
      ],
      "execution_count": 29,
      "outputs": [
        {
          "output_type": "stream",
          "text": [
            "Basic tests are passed.\n"
          ],
          "name": "stdout"
        }
      ]
    },
    {
      "cell_type": "markdown",
      "metadata": {
        "id": "COyyEJoeDkc-",
        "colab_type": "text"
      },
      "source": [
        "Now we can test the quality of the current approach. Run the next two cells to get the results. Pay attention that calculation of similarity between vectors takes time and this calculation is computed approximately in 10 minutes."
      ]
    },
    {
      "cell_type": "code",
      "metadata": {
        "id": "g8OuPD-VDkc_",
        "colab_type": "code",
        "colab": {}
      },
      "source": [
        "wv_ranking = []\n",
        "for line in validation:\n",
        "    q, *ex = line\n",
        "    ranks = rank_candidates(q, ex, wv_embeddings)\n",
        "    wv_ranking.append([r[0] for r in ranks].index(0) + 1)"
      ],
      "execution_count": 0,
      "outputs": []
    },
    {
      "cell_type": "code",
      "metadata": {
        "id": "fs7iwrWDDkdE",
        "colab_type": "code",
        "colab": {
          "base_uri": "https://localhost:8080/",
          "height": 121
        },
        "outputId": "e12c36b4-0bde-4df8-ad67-d8e3fd7b481f"
      },
      "source": [
        "for k in [1, 5, 10, 100, 500, 1000]:\n",
        "    print(\"DCG@%4d: %.3f | Hits@%4d: %.3f\" % (k, dcg_score(wv_ranking, k), k, hits_count(wv_ranking, k)))"
      ],
      "execution_count": 31,
      "outputs": [
        {
          "output_type": "stream",
          "text": [
            "DCG@   1: 0.217 | Hits@   1: 0.217\n",
            "DCG@   5: 0.271 | Hits@   5: 0.319\n",
            "DCG@  10: 0.288 | Hits@  10: 0.370\n",
            "DCG@ 100: 0.326 | Hits@ 100: 0.560\n",
            "DCG@ 500: 0.358 | Hits@ 500: 0.818\n",
            "DCG@1000: 0.378 | Hits@1000: 1.000\n"
          ],
          "name": "stdout"
        }
      ]
    },
    {
      "cell_type": "markdown",
      "metadata": {
        "id": "Z8181jyaDkdH",
        "colab_type": "text"
      },
      "source": [
        "If you did all the steps correctly, you should be frustrated by the received results. Let's try to understand why the quality is so low. First of all, when you work with some data it is necessary to have an idea how the data looks like. Print several questions from the data:"
      ]
    },
    {
      "cell_type": "code",
      "metadata": {
        "id": "Xyqr4D8DDkdH",
        "colab_type": "code",
        "colab": {
          "base_uri": "https://localhost:8080/",
          "height": 89
        },
        "outputId": "e036ddb6-33fe-48f2-b58a-1e0675f0d936"
      },
      "source": [
        "for line in validation[:3]:\n",
        "    q, *examples = line\n",
        "    print(q, *examples[:3])"
      ],
      "execution_count": 32,
      "outputs": [
        {
          "output_type": "stream",
          "text": [
            "How to print a binary heap tree without recursion? How do you best convert a recursive function to an iterative one? How can i use ng-model with directive in angular js flash: drawing and erasing\n",
            "How to start PhoneStateListener programmatically? PhoneStateListener and service Java cast object[] to model WCF and What does this mean?\n",
            "jQuery: Show a div2 when mousenter over div1 is over when hover on div1 depenting on if it is on div2 or not it should act differently How to run selenium in google app engine/cloud? Python Comparing two lists of strings for similarities\n"
          ],
          "name": "stdout"
        }
      ]
    },
    {
      "cell_type": "markdown",
      "metadata": {
        "id": "R7ajmNg-DkdJ",
        "colab_type": "text"
      },
      "source": [
        "As you can see, we deal with the raw data. It means that we have many punctuation marks, special characters and unlowercased letters. In our case, it could lead to the situation where we can't find some embeddings, e.g. for the word \"grid?\". \n",
        "\n",
        "To solve this problem you should use the functions *text_prepare* from the previous assignments to prepare the data."
      ]
    },
    {
      "cell_type": "code",
      "metadata": {
        "id": "rDyLlEwUDkdK",
        "colab_type": "code",
        "colab": {}
      },
      "source": [
        "from util import text_prepare"
      ],
      "execution_count": 0,
      "outputs": []
    },
    {
      "cell_type": "markdown",
      "metadata": {
        "id": "XEkDy7M9DkdN",
        "colab_type": "text"
      },
      "source": [
        "Now transform all the questions from the validation set:"
      ]
    },
    {
      "cell_type": "code",
      "metadata": {
        "id": "HaLJAcbRDkdO",
        "colab_type": "code",
        "colab": {}
      },
      "source": [
        "prepared_validation = []\n",
        "for line in validation:\n",
        "    ######### YOUR CODE HERE #############\n",
        "    q, *ex = line\n",
        "    q = text_prepare(q)\n",
        "    for i,e in enumerate(ex):\n",
        "      ex[i] = text_prepare(e)\n",
        "    prepared_validation.append([q,*ex])"
      ],
      "execution_count": 0,
      "outputs": []
    },
    {
      "cell_type": "markdown",
      "metadata": {
        "id": "0H397y4aDkdQ",
        "colab_type": "text"
      },
      "source": [
        "Let's evaluate the approach again after the preparation:"
      ]
    },
    {
      "cell_type": "code",
      "metadata": {
        "id": "mvtMe0J8DkdQ",
        "colab_type": "code",
        "colab": {}
      },
      "source": [
        "wv_prepared_ranking = []\n",
        "for line in prepared_validation:\n",
        "    q, *ex = line\n",
        "    ranks = rank_candidates(q, ex, wv_embeddings)\n",
        "    wv_prepared_ranking.append([r[0] for r in ranks].index(0) + 1)"
      ],
      "execution_count": 0,
      "outputs": []
    },
    {
      "cell_type": "code",
      "metadata": {
        "id": "N_PZcB93DkdT",
        "colab_type": "code",
        "colab": {
          "base_uri": "https://localhost:8080/",
          "height": 121
        },
        "outputId": "d35dbe37-eee1-4651-93d7-7f206b878e31"
      },
      "source": [
        "for k in [1, 5, 10, 100, 500, 1000]:\n",
        "    print(\"DCG@%4d: %.3f | Hits@%4d: %.3f\" % (k, dcg_score(wv_prepared_ranking, k), \n",
        "                                              k, hits_count(wv_prepared_ranking, k)))"
      ],
      "execution_count": 36,
      "outputs": [
        {
          "output_type": "stream",
          "text": [
            "DCG@   1: 0.320 | Hits@   1: 0.320\n",
            "DCG@   5: 0.387 | Hits@   5: 0.448\n",
            "DCG@  10: 0.404 | Hits@  10: 0.500\n",
            "DCG@ 100: 0.438 | Hits@ 100: 0.669\n",
            "DCG@ 500: 0.460 | Hits@ 500: 0.844\n",
            "DCG@1000: 0.477 | Hits@1000: 1.000\n"
          ],
          "name": "stdout"
        }
      ]
    },
    {
      "cell_type": "markdown",
      "metadata": {
        "id": "wDMv86OjDkdW",
        "colab_type": "text"
      },
      "source": [
        "Now, prepare also train and test data, because you will need it in the future:"
      ]
    },
    {
      "cell_type": "code",
      "metadata": {
        "id": "q714EPVBDkdW",
        "colab_type": "code",
        "colab": {}
      },
      "source": [
        "def prepare_file(in_, out_):\n",
        "    out = open(out_, 'w')\n",
        "    for line in open(in_, encoding='utf8'):\n",
        "        line = line.strip().split('\\t')\n",
        "        new_line = [text_prepare(q) for q in line]\n",
        "        print(*new_line, sep='\\t', file=out)\n",
        "    out.close()"
      ],
      "execution_count": 0,
      "outputs": []
    },
    {
      "cell_type": "code",
      "metadata": {
        "id": "b0Fi3hV8DkdY",
        "colab_type": "code",
        "colab": {}
      },
      "source": [
        "######################################\n",
        "######### YOUR CODE HERE #############\n",
        "######################################\n",
        "prepare_file(\"./data/train.tsv\", \"./data/tp_train.tsv\")\n",
        "prepare_file(\"./data/validation.tsv\", \"./data/tp_v.tsv\")\n",
        "prepare_file(\"./data/test.tsv\", \"./data/tp_t.tsv\")"
      ],
      "execution_count": 0,
      "outputs": []
    },
    {
      "cell_type": "markdown",
      "metadata": {
        "id": "6OO6VuIQDkdb",
        "colab_type": "text"
      },
      "source": [
        "**Task 4 (W2VTokenizedRanks).** For each question from prepared *test.tsv* submit the ranks of the candidates to earn the points. The calculations should take about 3-5 minutes. Pay attention that the function *rank_candidates* returns a ranking, while in this case you should find a position in this ranking. Ranks should start with 1."
      ]
    },
    {
      "cell_type": "code",
      "metadata": {
        "id": "vnPJToIzDkdb",
        "colab_type": "code",
        "colab": {}
      },
      "source": [
        "from util import matrix_to_string"
      ],
      "execution_count": 0,
      "outputs": []
    },
    {
      "cell_type": "code",
      "metadata": {
        "id": "PJgnnHApDkde",
        "colab_type": "code",
        "colab": {
          "base_uri": "https://localhost:8080/",
          "height": 54
        },
        "outputId": "7ccde858-d3e6-46c2-cfcb-43cf32869828"
      },
      "source": [
        "w2v_ranks_results = []\n",
        "prepared_test_data = \"./data/tp_t.tsv\"######### YOUR CODE HERE #############\n",
        "for line in open(prepared_test_data):\n",
        "    q, *ex = line.strip().split('\\t')\n",
        "    ranks = rank_candidates(q, ex, wv_embeddings, 300)\n",
        "    ranked_candidates = [r[0] for r in ranks]\n",
        "    w2v_ranks_results.append([ranked_candidates.index(i) + 1 for i in range(len(ranked_candidates))])\n",
        "    \n",
        "grader.submit_tag('W2VTokenizedRanks', matrix_to_string(w2v_ranks_results))"
      ],
      "execution_count": 40,
      "outputs": [
        {
          "output_type": "stream",
          "text": [
            "Current answer for task W2VTokenizedRanks is: 95\t94\t7\t9\t64\t37\t32\t93\t24\t100\t98\t17\t60\t6\t97\t49\t70\t38\t42\t96\t30\t21\t2\t65\t67\t45\t27\t26\t57\t62\t11\t88\t56\t66\t7...\n"
          ],
          "name": "stdout"
        }
      ]
    },
    {
      "cell_type": "code",
      "metadata": {
        "id": "l2RiB0XfmbEA",
        "colab_type": "code",
        "colab": {
          "base_uri": "https://localhost:8080/",
          "height": 208
        },
        "outputId": "e6002564-e71a-48ec-b7de-d57ab163d2a9"
      },
      "source": [
        "! wget https://raw.githubusercontent.com/hse-aml/natural-language-processing/master/setup_google_colab.py -O setup_google_colab.py\n",
        "import setup_google_colab\n",
        "# please, uncomment the week you're working on\n",
        "# setup_google_colab.setup_week1()  \n",
        "# setup_google_colab.setup_week2()\n",
        "setup_google_colab.setup_week3()\n",
        "# setup_google_colab.setup_week4()\n",
        "# setup_google_colab.setup_project()\n",
        "# setup_google_colab.setup_honor()"
      ],
      "execution_count": 41,
      "outputs": [
        {
          "output_type": "stream",
          "text": [
            "--2020-06-14 16:17:07--  https://raw.githubusercontent.com/hse-aml/natural-language-processing/master/setup_google_colab.py\n",
            "Resolving raw.githubusercontent.com (raw.githubusercontent.com)... 151.101.0.133, 151.101.64.133, 151.101.128.133, ...\n",
            "Connecting to raw.githubusercontent.com (raw.githubusercontent.com)|151.101.0.133|:443... connected.\n",
            "HTTP request sent, awaiting response... 200 OK\n",
            "Length: 1991 (1.9K) [text/plain]\n",
            "Saving to: ‘setup_google_colab.py’\n",
            "\n",
            "\rsetup_google_colab.   0%[                    ]       0  --.-KB/s               \rsetup_google_colab. 100%[===================>]   1.94K  --.-KB/s    in 0s      \n",
            "\n",
            "2020-06-14 16:17:07 (38.6 MB/s) - ‘setup_google_colab.py’ saved [1991/1991]\n",
            "\n"
          ],
          "name": "stdout"
        }
      ]
    },
    {
      "cell_type": "markdown",
      "metadata": {
        "id": "5bavrfPXDkdr",
        "colab_type": "text"
      },
      "source": [
        "## Advanced solution: StarSpace embeddings\n",
        "\n",
        "Now you are ready to train your own word embeddings! In particular, you need to train embeddings specially for our task of duplicates detection. Unfortunately, StarSpace cannot be run on Windows and we recommend to use provided\n",
        "[docker container](https://github.com/hse-aml/natural-language-processing/blob/master/Docker-tutorial.md) or other alternatives. Don't delete results of this task because you will need it in the final project.\n",
        "\n",
        "### How it works and what's the main difference with word2vec?\n",
        "The main point in this section is that StarSpace can be trained specifically for some tasks. In contrast to word2vec model, which tries to train similar embeddings for words in similar contexts, StarSpace uses embeddings for the whole sentence (just as a sum of embeddings of words and phrases). Despite the fact that in both cases we get word embeddings as a result of the training, StarSpace embeddings are trained using some supervised data, e.g. a set of similar sentence pairs, and thus they can better suit the task.\n",
        "\n",
        "In our case, StarSpace should use two types of sentence pairs for training: \"positive\" and \"negative\". \"Positive\" examples are extracted from the train sample (duplicates, high similarity) and the \"negative\" examples are generated randomly (low similarity assumed). \n",
        "\n",
        "### How to choose the best params for the model?\n",
        "Normally, you would start with some default choice and then run extensive experiments to compare different strategies. However, we have some recommendations ready for you to save your time:\n",
        "- Be careful with choosing the suitable training mode. In this task we want to explore texts similarity which corresponds to *trainMode = 3*.\n",
        "- Use adagrad optimization (parameter *adagrad = true*).\n",
        "- Set the length of phrase equal to 1 (parameter *ngrams*), because we need embeddings only for words.\n",
        "- Don't use a large number of *epochs* (we think that 5 should be enough).\n",
        "- Try dimension *dim* equal to 100.\n",
        "- To compare embeddings usually *cosine* *similarity* is used.\n",
        "- Set *minCount* greater than 1 (for example, 2) if you don't want to get embeddings for extremely rare words.\n",
        "- Parameter *verbose = true* could show you the progress of the training process.\n",
        "- Set parameter *fileFormat* equals *labelDoc*.\n",
        "- Parameter *negSearchLimit* is responsible for a number of negative examples which is used during the training. We think that 10 will be enought for this task.\n",
        "- To increase a speed of training we recommend to set *learning rate* to 0.05."
      ]
    },
    {
      "cell_type": "markdown",
      "metadata": {
        "id": "yD3aJtnYDkds",
        "colab_type": "text"
      },
      "source": [
        "Train StarSpace embeddings for unigrams on the train dataset. You don't need to change the format of the input data. Just don't forget to use prepared version of the training data. \n",
        "\n",
        "If you follow the instruction, the training process will take about 1 hour. The size of the embeddings' dictionary should be approximately 100 000 (number of lines in the result file). If you got significantly more than this number, try to check all the instructions above."
      ]
    },
    {
      "cell_type": "code",
      "metadata": {
        "id": "GxlWVYI_Dkds",
        "colab_type": "code",
        "colab": {
          "base_uri": "https://localhost:8080/",
          "height": 972
        },
        "outputId": "e5723b3b-bbdf-4ec5-8fee-62fe35ded68f"
      },
      "source": [
        "######### TRAINING HAPPENING HERE #############\n",
        "%%bash\n",
        "./Starspace/starspace train -trainFile './data/tp_train.tsv' -model \"sodd\" -trainMode 3 -adagrad true -ngrams 1 -epoch 5 -dim 100 -minCount 2 -verbose true -fileFormat \"labelDoc\" -negSearchLimit 10 -similarity \"cosine\" -lr 0.05"
      ],
      "execution_count": 42,
      "outputs": [
        {
          "output_type": "stream",
          "text": [
            "Arguments: \n",
            "lr: 0.05\n",
            "dim: 100\n",
            "epoch: 5\n",
            "maxTrainTime: 8640000\n",
            "validationPatience: 10\n",
            "saveEveryEpoch: 0\n",
            "loss: hinge\n",
            "margin: 0.05\n",
            "similarity: cosine\n",
            "maxNegSamples: 10\n",
            "negSearchLimit: 10\n",
            "batchSize: 5\n",
            "thread: 10\n",
            "minCount: 2\n",
            "minCountLabel: 1\n",
            "label: __label__\n",
            "label: __label__\n",
            "ngrams: 1\n",
            "bucket: 2000000\n",
            "adagrad: 1\n",
            "trainMode: 3\n",
            "fileFormat: labelDoc\n",
            "normalizeText: 0\n",
            "dropoutLHS: 0\n",
            "dropoutRHS: 0\n",
            "useWeight: 0\n",
            "weightSep: :\n",
            "Start to initialize starspace model.\n",
            "Build dict from input file : ./data/tp_train.tsv\n",
            "Loading data from file : ./data/tp_train.tsv\n",
            "Total number of examples loaded : 999740\n",
            "Initialized model weights. Model size :\n",
            "matrix : 95058 100\n",
            "Training epoch 0: 0.05 0.01\n",
            "\n",
            " ---+++                Epoch    0 Train error : 0.04380592 +++--- ☃\n",
            "Training epoch 1: 0.04 0.01\n",
            "\n",
            " ---+++                Epoch    1 Train error : 0.01312415 +++--- ☃\n",
            "Training epoch 2: 0.03 0.01\n",
            "\n",
            " ---+++                Epoch    2 Train error : 0.00936368 +++--- ☃\n",
            "Training epoch 3: 0.02 0.01\n",
            "\n",
            " ---+++                Epoch    3 Train error : 0.00772621 +++--- ☃\n",
            "Training epoch 4: 0.01 0.01\n",
            "\n",
            " ---+++                Epoch    4 Train error : 0.00685252 +++--- ☃\n",
            "Saving model to file : sodd\n",
            "Saving model in tsv format : sodd.tsv\n"
          ],
          "name": "stdout"
        },
        {
          "output_type": "stream",
          "text": [
            "\rRead 1M words\rRead 2M words\rRead 3M words\rRead 4M words\rRead 5M words\rRead 6M words\rRead 7M words\rRead 8M words\rRead 9M words\rRead 10M words\rRead 11M words\rRead 12M words\rRead 12M words\n",
            "Number of words in dictionary:  95058\n",
            "Number of labels in dictionary: 0\n",
            "\rEpoch: 0.1%  lr: 0.050000  loss: 0.412388  eta: 0h18m  tot: 0h0m0s  (0.0%)\rEpoch: 0.2%  lr: 0.050000  loss: 0.350314  eta: 0h18m  tot: 0h0m0s  (0.0%)\rEpoch: 0.3%  lr: 0.050000  loss: 0.331243  eta: 0h18m  tot: 0h0m0s  (0.1%)\rEpoch: 0.4%  lr: 0.050000  loss: 0.331258  eta: 0h18m  tot: 0h0m0s  (0.1%)\rEpoch: 0.4%  lr: 0.050000  loss: 0.320971  eta: 0h18m  tot: 0h0m1s  (0.1%)\rEpoch: 0.5%  lr: 0.049970  loss: 0.299398  eta: 0h18m  tot: 0h0m1s  (0.1%)\rEpoch: 0.6%  lr: 0.049960  loss: 0.282709  eta: 0h17m  tot: 0h0m1s  (0.1%)\rEpoch: 0.7%  lr: 0.049960  loss: 0.269052  eta: 0h17m  tot: 0h0m1s  (0.1%)\rEpoch: 0.8%  lr: 0.049960  loss: 0.261439  eta: 0h17m  tot: 0h0m1s  (0.2%)\rEpoch: 0.9%  lr: 0.049950  loss: 0.254003  eta: 0h17m  tot: 0h0m1s  (0.2%)\rEpoch: 1.0%  lr: 0.049940  loss: 0.246692  eta: 0h17m  tot: 0h0m2s  (0.2%)\rEpoch: 1.1%  lr: 0.049940  loss: 0.239176  eta: 0h17m  tot: 0h0m2s  (0.2%)\rEpoch: 1.2%  lr: 0.049940  loss: 0.235264  eta: 0h17m  tot: 0h0m2s  (0.2%)\rEpoch: 1.3%  lr: 0.049930  loss: 0.230021  eta: 0h17m  tot: 0h0m2s  (0.3%)\rEpoch: 1.3%  lr: 0.049920  loss: 0.225968  eta: 0h17m  tot: 0h0m2s  (0.3%)\rEpoch: 1.4%  lr: 0.049920  loss: 0.220398  eta: 0h17m  tot: 0h0m3s  (0.3%)\rEpoch: 1.5%  lr: 0.049920  loss: 0.215246  eta: 0h17m  tot: 0h0m3s  (0.3%)\rEpoch: 1.6%  lr: 0.049920  loss: 0.208077  eta: 0h17m  tot: 0h0m3s  (0.3%)\rEpoch: 1.7%  lr: 0.049910  loss: 0.203333  eta: 0h16m  tot: 0h0m3s  (0.3%)\rEpoch: 1.8%  lr: 0.049900  loss: 0.199699  eta: 0h16m  tot: 0h0m3s  (0.4%)\rEpoch: 1.9%  lr: 0.049890  loss: 0.196504  eta: 0h16m  tot: 0h0m3s  (0.4%)\rEpoch: 2.0%  lr: 0.049860  loss: 0.193797  eta: 0h16m  tot: 0h0m4s  (0.4%)\rEpoch: 2.1%  lr: 0.049850  loss: 0.190641  eta: 0h16m  tot: 0h0m4s  (0.4%)\rEpoch: 2.2%  lr: 0.049850  loss: 0.187445  eta: 0h16m  tot: 0h0m4s  (0.4%)\rEpoch: 2.2%  lr: 0.049840  loss: 0.184268  eta: 0h16m  tot: 0h0m4s  (0.4%)\rEpoch: 2.3%  lr: 0.049810  loss: 0.181050  eta: 0h16m  tot: 0h0m4s  (0.5%)\rEpoch: 2.4%  lr: 0.049810  loss: 0.178513  eta: 0h16m  tot: 0h0m4s  (0.5%)\rEpoch: 2.5%  lr: 0.049800  loss: 0.175767  eta: 0h16m  tot: 0h0m5s  (0.5%)\rEpoch: 2.6%  lr: 0.049800  loss: 0.173592  eta: 0h16m  tot: 0h0m5s  (0.5%)\rEpoch: 2.7%  lr: 0.049790  loss: 0.173012  eta: 0h16m  tot: 0h0m5s  (0.5%)\rEpoch: 2.8%  lr: 0.049790  loss: 0.170054  eta: 0h16m  tot: 0h0m5s  (0.6%)\rEpoch: 2.9%  lr: 0.049780  loss: 0.167238  eta: 0h16m  tot: 0h0m5s  (0.6%)\rEpoch: 3.0%  lr: 0.049770  loss: 0.165199  eta: 0h16m  tot: 0h0m5s  (0.6%)\rEpoch: 3.1%  lr: 0.049760  loss: 0.163482  eta: 0h16m  tot: 0h0m5s  (0.6%)\rEpoch: 3.1%  lr: 0.049740  loss: 0.161743  eta: 0h16m  tot: 0h0m6s  (0.6%)\rEpoch: 3.2%  lr: 0.049740  loss: 0.160957  eta: 0h16m  tot: 0h0m6s  (0.6%)\rEpoch: 3.3%  lr: 0.049740  loss: 0.159430  eta: 0h16m  tot: 0h0m6s  (0.7%)\rEpoch: 3.4%  lr: 0.049740  loss: 0.157596  eta: 0h16m  tot: 0h0m6s  (0.7%)\rEpoch: 3.5%  lr: 0.049710  loss: 0.156293  eta: 0h16m  tot: 0h0m6s  (0.7%)\rEpoch: 3.6%  lr: 0.049700  loss: 0.155552  eta: 0h16m  tot: 0h0m7s  (0.7%)\rEpoch: 3.7%  lr: 0.049670  loss: 0.153316  eta: 0h16m  tot: 0h0m7s  (0.7%)\rEpoch: 3.8%  lr: 0.049650  loss: 0.151511  eta: 0h15m  tot: 0h0m7s  (0.8%)\rEpoch: 3.9%  lr: 0.049630  loss: 0.149713  eta: 0h15m  tot: 0h0m7s  (0.8%)\rEpoch: 4.0%  lr: 0.049610  loss: 0.147740  eta: 0h15m  tot: 0h0m7s  (0.8%)\rEpoch: 4.1%  lr: 0.049610  loss: 0.147446  eta: 0h15m  tot: 0h0m7s  (0.8%)\rEpoch: 4.1%  lr: 0.049600  loss: 0.146350  eta: 0h15m  tot: 0h0m7s  (0.8%)\rEpoch: 4.2%  lr: 0.049600  loss: 0.145697  eta: 0h15m  tot: 0h0m8s  (0.8%)\rEpoch: 4.3%  lr: 0.049580  loss: 0.144956  eta: 0h15m  tot: 0h0m8s  (0.9%)\rEpoch: 4.4%  lr: 0.049560  loss: 0.143392  eta: 0h15m  tot: 0h0m8s  (0.9%)\rEpoch: 4.5%  lr: 0.049550  loss: 0.142550  eta: 0h15m  tot: 0h0m8s  (0.9%)\rEpoch: 4.6%  lr: 0.049540  loss: 0.141897  eta: 0h15m  tot: 0h0m8s  (0.9%)\rEpoch: 4.7%  lr: 0.049540  loss: 0.140079  eta: 0h15m  tot: 0h0m8s  (0.9%)\rEpoch: 4.8%  lr: 0.049530  loss: 0.138740  eta: 0h15m  tot: 0h0m9s  (1.0%)\rEpoch: 4.9%  lr: 0.049520  loss: 0.137423  eta: 0h15m  tot: 0h0m9s  (1.0%)\rEpoch: 5.0%  lr: 0.049520  loss: 0.136134  eta: 0h15m  tot: 0h0m9s  (1.0%)\rEpoch: 5.0%  lr: 0.049520  loss: 0.135248  eta: 0h15m  tot: 0h0m9s  (1.0%)\rEpoch: 5.1%  lr: 0.049489  loss: 0.134587  eta: 0h15m  tot: 0h0m9s  (1.0%)\rEpoch: 5.2%  lr: 0.049489  loss: 0.132979  eta: 0h15m  tot: 0h0m9s  (1.0%)\rEpoch: 5.3%  lr: 0.049479  loss: 0.131613  eta: 0h15m  tot: 0h0m10s  (1.1%)\rEpoch: 5.4%  lr: 0.049459  loss: 0.130303  eta: 0h15m  tot: 0h0m10s  (1.1%)\rEpoch: 5.5%  lr: 0.049459  loss: 0.129234  eta: 0h15m  tot: 0h0m10s  (1.1%)\rEpoch: 5.6%  lr: 0.049449  loss: 0.128736  eta: 0h15m  tot: 0h0m10s  (1.1%)\rEpoch: 5.7%  lr: 0.049439  loss: 0.128349  eta: 0h15m  tot: 0h0m10s  (1.1%)\rEpoch: 5.8%  lr: 0.049439  loss: 0.128444  eta: 0h15m  tot: 0h0m10s  (1.2%)\rEpoch: 5.9%  lr: 0.049429  loss: 0.128056  eta: 0h15m  tot: 0h0m11s  (1.2%)\rEpoch: 5.9%  lr: 0.049429  loss: 0.127676  eta: 0h15m  tot: 0h0m11s  (1.2%)\rEpoch: 6.0%  lr: 0.049429  loss: 0.127085  eta: 0h15m  tot: 0h0m11s  (1.2%)\rEpoch: 6.1%  lr: 0.049429  loss: 0.126070  eta: 0h15m  tot: 0h0m11s  (1.2%)\rEpoch: 6.2%  lr: 0.049419  loss: 0.125617  eta: 0h15m  tot: 0h0m11s  (1.2%)\rEpoch: 6.3%  lr: 0.049399  loss: 0.124792  eta: 0h15m  tot: 0h0m11s  (1.3%)\rEpoch: 6.4%  lr: 0.049399  loss: 0.124628  eta: 0h15m  tot: 0h0m11s  (1.3%)\rEpoch: 6.5%  lr: 0.049379  loss: 0.123868  eta: 0h15m  tot: 0h0m12s  (1.3%)\rEpoch: 6.6%  lr: 0.049349  loss: 0.123839  eta: 0h15m  tot: 0h0m12s  (1.3%)\rEpoch: 6.7%  lr: 0.049339  loss: 0.122917  eta: 0h15m  tot: 0h0m12s  (1.3%)\rEpoch: 6.8%  lr: 0.049309  loss: 0.121928  eta: 0h15m  tot: 0h0m12s  (1.4%)\rEpoch: 6.8%  lr: 0.049309  loss: 0.121106  eta: 0h15m  tot: 0h0m12s  (1.4%)\rEpoch: 6.9%  lr: 0.049299  loss: 0.120799  eta: 0h15m  tot: 0h0m12s  (1.4%)\rEpoch: 7.0%  lr: 0.049279  loss: 0.119856  eta: 0h15m  tot: 0h0m13s  (1.4%)\rEpoch: 7.1%  lr: 0.049279  loss: 0.119196  eta: 0h15m  tot: 0h0m13s  (1.4%)\rEpoch: 7.2%  lr: 0.049269  loss: 0.118628  eta: 0h15m  tot: 0h0m13s  (1.4%)\rEpoch: 7.3%  lr: 0.049259  loss: 0.117730  eta: 0h15m  tot: 0h0m13s  (1.5%)\rEpoch: 7.4%  lr: 0.049259  loss: 0.116938  eta: 0h15m  tot: 0h0m13s  (1.5%)\rEpoch: 7.5%  lr: 0.049249  loss: 0.116489  eta: 0h15m  tot: 0h0m13s  (1.5%)\rEpoch: 7.6%  lr: 0.049249  loss: 0.116250  eta: 0h15m  tot: 0h0m14s  (1.5%)\rEpoch: 7.7%  lr: 0.049249  loss: 0.115721  eta: 0h15m  tot: 0h0m14s  (1.5%)\rEpoch: 7.7%  lr: 0.049229  loss: 0.114971  eta: 0h15m  tot: 0h0m14s  (1.5%)\rEpoch: 7.8%  lr: 0.049219  loss: 0.114253  eta: 0h15m  tot: 0h0m14s  (1.6%)\rEpoch: 7.9%  lr: 0.049219  loss: 0.114053  eta: 0h15m  tot: 0h0m14s  (1.6%)\rEpoch: 8.0%  lr: 0.049219  loss: 0.113403  eta: 0h15m  tot: 0h0m14s  (1.6%)\rEpoch: 8.1%  lr: 0.049209  loss: 0.112643  eta: 0h15m  tot: 0h0m14s  (1.6%)\rEpoch: 8.2%  lr: 0.049199  loss: 0.112332  eta: 0h15m  tot: 0h0m15s  (1.6%)\rEpoch: 8.3%  lr: 0.049189  loss: 0.111424  eta: 0h15m  tot: 0h0m15s  (1.7%)\rEpoch: 8.4%  lr: 0.049189  loss: 0.110649  eta: 0h15m  tot: 0h0m15s  (1.7%)\rEpoch: 8.5%  lr: 0.049179  loss: 0.109988  eta: 0h15m  tot: 0h0m15s  (1.7%)\rEpoch: 8.6%  lr: 0.049159  loss: 0.109607  eta: 0h15m  tot: 0h0m15s  (1.7%)\rEpoch: 8.6%  lr: 0.049149  loss: 0.109113  eta: 0h14m  tot: 0h0m15s  (1.7%)\rEpoch: 8.7%  lr: 0.049139  loss: 0.108764  eta: 0h14m  tot: 0h0m16s  (1.7%)\rEpoch: 8.8%  lr: 0.049129  loss: 0.108282  eta: 0h14m  tot: 0h0m16s  (1.8%)\rEpoch: 8.9%  lr: 0.049119  loss: 0.107879  eta: 0h14m  tot: 0h0m16s  (1.8%)\rEpoch: 9.0%  lr: 0.049089  loss: 0.107363  eta: 0h14m  tot: 0h0m16s  (1.8%)\rEpoch: 9.1%  lr: 0.049089  loss: 0.107158  eta: 0h14m  tot: 0h0m16s  (1.8%)\rEpoch: 9.2%  lr: 0.049079  loss: 0.106760  eta: 0h14m  tot: 0h0m16s  (1.8%)\rEpoch: 9.3%  lr: 0.049079  loss: 0.106182  eta: 0h14m  tot: 0h0m16s  (1.9%)\rEpoch: 9.4%  lr: 0.049069  loss: 0.105795  eta: 0h14m  tot: 0h0m17s  (1.9%)\rEpoch: 9.5%  lr: 0.049039  loss: 0.105122  eta: 0h14m  tot: 0h0m17s  (1.9%)\rEpoch: 9.5%  lr: 0.049019  loss: 0.104630  eta: 0h14m  tot: 0h0m17s  (1.9%)\rEpoch: 9.6%  lr: 0.049019  loss: 0.104082  eta: 0h14m  tot: 0h0m17s  (1.9%)\rEpoch: 9.7%  lr: 0.048999  loss: 0.103705  eta: 0h14m  tot: 0h0m17s  (1.9%)\rEpoch: 9.8%  lr: 0.048989  loss: 0.103459  eta: 0h14m  tot: 0h0m17s  (2.0%)\rEpoch: 9.9%  lr: 0.048969  loss: 0.102993  eta: 0h14m  tot: 0h0m17s  (2.0%)\rEpoch: 10.0%  lr: 0.048959  loss: 0.102272  eta: 0h14m  tot: 0h0m18s  (2.0%)\rEpoch: 10.1%  lr: 0.048959  loss: 0.101791  eta: 0h14m  tot: 0h0m18s  (2.0%)\rEpoch: 10.2%  lr: 0.048949  loss: 0.101420  eta: 0h14m  tot: 0h0m18s  (2.0%)\rEpoch: 10.3%  lr: 0.048939  loss: 0.101350  eta: 0h14m  tot: 0h0m18s  (2.1%)\rEpoch: 10.4%  lr: 0.048939  loss: 0.101259  eta: 0h14m  tot: 0h0m18s  (2.1%)\rEpoch: 10.4%  lr: 0.048929  loss: 0.100912  eta: 0h14m  tot: 0h0m18s  (2.1%)\rEpoch: 10.5%  lr: 0.048919  loss: 0.100505  eta: 0h14m  tot: 0h0m19s  (2.1%)\rEpoch: 10.6%  lr: 0.048919  loss: 0.100454  eta: 0h14m  tot: 0h0m19s  (2.1%)\rEpoch: 10.7%  lr: 0.048919  loss: 0.100164  eta: 0h14m  tot: 0h0m19s  (2.1%)\rEpoch: 10.8%  lr: 0.048919  loss: 0.099949  eta: 0h14m  tot: 0h0m19s  (2.2%)\rEpoch: 10.9%  lr: 0.048919  loss: 0.099535  eta: 0h14m  tot: 0h0m19s  (2.2%)\rEpoch: 11.0%  lr: 0.048919  loss: 0.099161  eta: 0h14m  tot: 0h0m19s  (2.2%)\rEpoch: 11.1%  lr: 0.048909  loss: 0.098932  eta: 0h14m  tot: 0h0m20s  (2.2%)\rEpoch: 11.2%  lr: 0.048869  loss: 0.098528  eta: 0h14m  tot: 0h0m20s  (2.2%)\rEpoch: 11.3%  lr: 0.048859  loss: 0.098279  eta: 0h14m  tot: 0h0m20s  (2.3%)\rEpoch: 11.3%  lr: 0.048849  loss: 0.098063  eta: 0h14m  tot: 0h0m20s  (2.3%)\rEpoch: 11.4%  lr: 0.048849  loss: 0.097805  eta: 0h14m  tot: 0h0m20s  (2.3%)\rEpoch: 11.5%  lr: 0.048839  loss: 0.097651  eta: 0h14m  tot: 0h0m20s  (2.3%)\rEpoch: 11.6%  lr: 0.048839  loss: 0.097364  eta: 0h14m  tot: 0h0m20s  (2.3%)\rEpoch: 11.7%  lr: 0.048839  loss: 0.097083  eta: 0h14m  tot: 0h0m21s  (2.3%)\rEpoch: 11.8%  lr: 0.048839  loss: 0.096728  eta: 0h14m  tot: 0h0m21s  (2.4%)\rEpoch: 11.9%  lr: 0.048829  loss: 0.096646  eta: 0h14m  tot: 0h0m21s  (2.4%)\rEpoch: 12.0%  lr: 0.048809  loss: 0.096529  eta: 0h14m  tot: 0h0m21s  (2.4%)\rEpoch: 12.1%  lr: 0.048789  loss: 0.096282  eta: 0h14m  tot: 0h0m21s  (2.4%)\rEpoch: 12.2%  lr: 0.048789  loss: 0.095984  eta: 0h14m  tot: 0h0m21s  (2.4%)\rEpoch: 12.2%  lr: 0.048779  loss: 0.095872  eta: 0h14m  tot: 0h0m22s  (2.4%)\rEpoch: 12.3%  lr: 0.048779  loss: 0.095546  eta: 0h14m  tot: 0h0m22s  (2.5%)\rEpoch: 12.4%  lr: 0.048779  loss: 0.095156  eta: 0h14m  tot: 0h0m22s  (2.5%)\rEpoch: 12.5%  lr: 0.048769  loss: 0.094957  eta: 0h14m  tot: 0h0m22s  (2.5%)\rEpoch: 12.6%  lr: 0.048769  loss: 0.094684  eta: 0h14m  tot: 0h0m22s  (2.5%)\rEpoch: 12.7%  lr: 0.048749  loss: 0.094365  eta: 0h14m  tot: 0h0m22s  (2.5%)\rEpoch: 12.8%  lr: 0.048739  loss: 0.094072  eta: 0h14m  tot: 0h0m22s  (2.6%)\rEpoch: 12.9%  lr: 0.048729  loss: 0.093917  eta: 0h14m  tot: 0h0m23s  (2.6%)\rEpoch: 13.0%  lr: 0.048719  loss: 0.093733  eta: 0h14m  tot: 0h0m23s  (2.6%)\rEpoch: 13.1%  lr: 0.048699  loss: 0.093612  eta: 0h14m  tot: 0h0m23s  (2.6%)\rEpoch: 13.1%  lr: 0.048689  loss: 0.093311  eta: 0h14m  tot: 0h0m23s  (2.6%)\rEpoch: 13.2%  lr: 0.048689  loss: 0.093108  eta: 0h14m  tot: 0h0m23s  (2.6%)\rEpoch: 13.3%  lr: 0.048679  loss: 0.093093  eta: 0h14m  tot: 0h0m23s  (2.7%)\rEpoch: 13.4%  lr: 0.048669  loss: 0.092851  eta: 0h14m  tot: 0h0m24s  (2.7%)\rEpoch: 13.5%  lr: 0.048669  loss: 0.092596  eta: 0h14m  tot: 0h0m24s  (2.7%)\rEpoch: 13.6%  lr: 0.048659  loss: 0.092434  eta: 0h14m  tot: 0h0m24s  (2.7%)\rEpoch: 13.7%  lr: 0.048659  loss: 0.092087  eta: 0h14m  tot: 0h0m24s  (2.7%)\rEpoch: 13.8%  lr: 0.048649  loss: 0.091870  eta: 0h14m  tot: 0h0m24s  (2.8%)\rEpoch: 13.9%  lr: 0.048639  loss: 0.091528  eta: 0h14m  tot: 0h0m24s  (2.8%)\rEpoch: 14.0%  lr: 0.048629  loss: 0.091231  eta: 0h14m  tot: 0h0m24s  (2.8%)\rEpoch: 14.0%  lr: 0.048619  loss: 0.091148  eta: 0h14m  tot: 0h0m25s  (2.8%)\rEpoch: 14.1%  lr: 0.048619  loss: 0.091037  eta: 0h14m  tot: 0h0m25s  (2.8%)\rEpoch: 14.2%  lr: 0.048609  loss: 0.090692  eta: 0h14m  tot: 0h0m25s  (2.8%)\rEpoch: 14.3%  lr: 0.048599  loss: 0.090400  eta: 0h14m  tot: 0h0m25s  (2.9%)\rEpoch: 14.4%  lr: 0.048579  loss: 0.090252  eta: 0h14m  tot: 0h0m25s  (2.9%)\rEpoch: 14.5%  lr: 0.048579  loss: 0.090066  eta: 0h14m  tot: 0h0m25s  (2.9%)\rEpoch: 14.6%  lr: 0.048579  loss: 0.089936  eta: 0h14m  tot: 0h0m26s  (2.9%)\rEpoch: 14.7%  lr: 0.048579  loss: 0.089655  eta: 0h14m  tot: 0h0m26s  (2.9%)\rEpoch: 14.8%  lr: 0.048569  loss: 0.089300  eta: 0h14m  tot: 0h0m26s  (3.0%)\rEpoch: 14.9%  lr: 0.048539  loss: 0.088996  eta: 0h14m  tot: 0h0m26s  (3.0%)\rEpoch: 14.9%  lr: 0.048529  loss: 0.088770  eta: 0h14m  tot: 0h0m26s  (3.0%)\rEpoch: 15.0%  lr: 0.048509  loss: 0.088453  eta: 0h14m  tot: 0h0m26s  (3.0%)\rEpoch: 15.1%  lr: 0.048499  loss: 0.088146  eta: 0h14m  tot: 0h0m26s  (3.0%)\rEpoch: 15.2%  lr: 0.048479  loss: 0.087875  eta: 0h14m  tot: 0h0m27s  (3.0%)\rEpoch: 15.3%  lr: 0.048479  loss: 0.087675  eta: 0h14m  tot: 0h0m27s  (3.1%)\rEpoch: 15.4%  lr: 0.048468  loss: 0.087371  eta: 0h14m  tot: 0h0m27s  (3.1%)\rEpoch: 15.5%  lr: 0.048458  loss: 0.087121  eta: 0h14m  tot: 0h0m27s  (3.1%)\rEpoch: 15.6%  lr: 0.048458  loss: 0.087091  eta: 0h14m  tot: 0h0m27s  (3.1%)\rEpoch: 15.7%  lr: 0.048448  loss: 0.086864  eta: 0h14m  tot: 0h0m27s  (3.1%)\rEpoch: 15.8%  lr: 0.048438  loss: 0.086570  eta: 0h14m  tot: 0h0m27s  (3.2%)\rEpoch: 15.8%  lr: 0.048438  loss: 0.086365  eta: 0h14m  tot: 0h0m28s  (3.2%)\rEpoch: 15.9%  lr: 0.048418  loss: 0.086048  eta: 0h14m  tot: 0h0m28s  (3.2%)\rEpoch: 16.0%  lr: 0.048388  loss: 0.085865  eta: 0h14m  tot: 0h0m28s  (3.2%)\rEpoch: 16.1%  lr: 0.048358  loss: 0.085550  eta: 0h14m  tot: 0h0m28s  (3.2%)\rEpoch: 16.2%  lr: 0.048338  loss: 0.085186  eta: 0h14m  tot: 0h0m28s  (3.2%)\rEpoch: 16.3%  lr: 0.048308  loss: 0.085074  eta: 0h14m  tot: 0h0m28s  (3.3%)\rEpoch: 16.4%  lr: 0.048298  loss: 0.084948  eta: 0h14m  tot: 0h0m29s  (3.3%)\rEpoch: 16.5%  lr: 0.048288  loss: 0.084787  eta: 0h14m  tot: 0h0m29s  (3.3%)\rEpoch: 16.6%  lr: 0.048268  loss: 0.084580  eta: 0h14m  tot: 0h0m29s  (3.3%)\rEpoch: 16.7%  lr: 0.048258  loss: 0.084636  eta: 0h14m  tot: 0h0m29s  (3.3%)\rEpoch: 16.7%  lr: 0.048258  loss: 0.084374  eta: 0h14m  tot: 0h0m29s  (3.3%)\rEpoch: 16.8%  lr: 0.048258  loss: 0.084088  eta: 0h14m  tot: 0h0m29s  (3.4%)\rEpoch: 16.9%  lr: 0.048258  loss: 0.083898  eta: 0h14m  tot: 0h0m29s  (3.4%)\rEpoch: 17.0%  lr: 0.048258  loss: 0.083746  eta: 0h14m  tot: 0h0m30s  (3.4%)\rEpoch: 17.1%  lr: 0.048248  loss: 0.083525  eta: 0h14m  tot: 0h0m30s  (3.4%)\rEpoch: 17.2%  lr: 0.048248  loss: 0.083285  eta: 0h14m  tot: 0h0m30s  (3.4%)\rEpoch: 17.3%  lr: 0.048248  loss: 0.083116  eta: 0h14m  tot: 0h0m30s  (3.5%)\rEpoch: 17.4%  lr: 0.048238  loss: 0.083001  eta: 0h14m  tot: 0h0m30s  (3.5%)\rEpoch: 17.5%  lr: 0.048238  loss: 0.082963  eta: 0h14m  tot: 0h0m30s  (3.5%)\rEpoch: 17.6%  lr: 0.048218  loss: 0.082745  eta: 0h14m  tot: 0h0m30s  (3.5%)\rEpoch: 17.6%  lr: 0.048208  loss: 0.082491  eta: 0h14m  tot: 0h0m31s  (3.5%)\rEpoch: 17.7%  lr: 0.048188  loss: 0.082414  eta: 0h14m  tot: 0h0m31s  (3.5%)\rEpoch: 17.8%  lr: 0.048148  loss: 0.082201  eta: 0h14m  tot: 0h0m31s  (3.6%)\rEpoch: 17.9%  lr: 0.048148  loss: 0.082028  eta: 0h14m  tot: 0h0m31s  (3.6%)\rEpoch: 18.0%  lr: 0.048148  loss: 0.081866  eta: 0h14m  tot: 0h0m31s  (3.6%)\rEpoch: 18.1%  lr: 0.048128  loss: 0.081709  eta: 0h14m  tot: 0h0m31s  (3.6%)\rEpoch: 18.2%  lr: 0.048118  loss: 0.081543  eta: 0h14m  tot: 0h0m31s  (3.6%)\rEpoch: 18.3%  lr: 0.048118  loss: 0.081358  eta: 0h14m  tot: 0h0m32s  (3.7%)\rEpoch: 18.4%  lr: 0.048118  loss: 0.081313  eta: 0h14m  tot: 0h0m32s  (3.7%)\rEpoch: 18.5%  lr: 0.048118  loss: 0.081190  eta: 0h14m  tot: 0h0m32s  (3.7%)\rEpoch: 18.5%  lr: 0.048098  loss: 0.081051  eta: 0h14m  tot: 0h0m32s  (3.7%)\rEpoch: 18.6%  lr: 0.048078  loss: 0.080973  eta: 0h14m  tot: 0h0m32s  (3.7%)\rEpoch: 18.7%  lr: 0.048078  loss: 0.080790  eta: 0h14m  tot: 0h0m32s  (3.7%)\rEpoch: 18.8%  lr: 0.048068  loss: 0.080629  eta: 0h14m  tot: 0h0m33s  (3.8%)\rEpoch: 18.9%  lr: 0.048068  loss: 0.080544  eta: 0h14m  tot: 0h0m33s  (3.8%)\rEpoch: 19.0%  lr: 0.048058  loss: 0.080408  eta: 0h14m  tot: 0h0m33s  (3.8%)\rEpoch: 19.1%  lr: 0.048058  loss: 0.080342  eta: 0h14m  tot: 0h0m33s  (3.8%)\rEpoch: 19.2%  lr: 0.048058  loss: 0.080275  eta: 0h14m  tot: 0h0m33s  (3.8%)\rEpoch: 19.3%  lr: 0.048048  loss: 0.080172  eta: 0h14m  tot: 0h0m33s  (3.9%)\rEpoch: 19.4%  lr: 0.048048  loss: 0.079974  eta: 0h14m  tot: 0h0m33s  (3.9%)\rEpoch: 19.4%  lr: 0.048038  loss: 0.079881  eta: 0h14m  tot: 0h0m34s  (3.9%)\rEpoch: 19.5%  lr: 0.048028  loss: 0.079746  eta: 0h14m  tot: 0h0m34s  (3.9%)\rEpoch: 19.6%  lr: 0.048028  loss: 0.079672  eta: 0h14m  tot: 0h0m34s  (3.9%)\rEpoch: 19.7%  lr: 0.048018  loss: 0.079649  eta: 0h14m  tot: 0h0m34s  (3.9%)\rEpoch: 19.8%  lr: 0.048008  loss: 0.079481  eta: 0h14m  tot: 0h0m34s  (4.0%)\rEpoch: 19.9%  lr: 0.047998  loss: 0.079347  eta: 0h14m  tot: 0h0m34s  (4.0%)\rEpoch: 20.0%  lr: 0.047998  loss: 0.079206  eta: 0h14m  tot: 0h0m35s  (4.0%)\rEpoch: 20.1%  lr: 0.047988  loss: 0.079141  eta: 0h14m  tot: 0h0m35s  (4.0%)\rEpoch: 20.2%  lr: 0.047988  loss: 0.079169  eta: 0h14m  tot: 0h0m35s  (4.0%)\rEpoch: 20.3%  lr: 0.047988  loss: 0.078904  eta: 0h13m  tot: 0h0m35s  (4.1%)\rEpoch: 20.3%  lr: 0.047978  loss: 0.078788  eta: 0h13m  tot: 0h0m35s  (4.1%)\rEpoch: 20.4%  lr: 0.047968  loss: 0.078670  eta: 0h13m  tot: 0h0m35s  (4.1%)\rEpoch: 20.5%  lr: 0.047968  loss: 0.078581  eta: 0h13m  tot: 0h0m35s  (4.1%)\rEpoch: 20.6%  lr: 0.047948  loss: 0.078412  eta: 0h13m  tot: 0h0m36s  (4.1%)\rEpoch: 20.7%  lr: 0.047938  loss: 0.078346  eta: 0h13m  tot: 0h0m36s  (4.1%)\rEpoch: 20.8%  lr: 0.047938  loss: 0.078194  eta: 0h13m  tot: 0h0m36s  (4.2%)\rEpoch: 20.9%  lr: 0.047928  loss: 0.078013  eta: 0h13m  tot: 0h0m36s  (4.2%)\rEpoch: 21.0%  lr: 0.047918  loss: 0.077807  eta: 0h13m  tot: 0h0m36s  (4.2%)\rEpoch: 21.1%  lr: 0.047918  loss: 0.077686  eta: 0h13m  tot: 0h0m36s  (4.2%)\rEpoch: 21.2%  lr: 0.047918  loss: 0.077547  eta: 0h13m  tot: 0h0m36s  (4.2%)\rEpoch: 21.2%  lr: 0.047918  loss: 0.077502  eta: 0h13m  tot: 0h0m37s  (4.2%)\rEpoch: 21.3%  lr: 0.047918  loss: 0.077339  eta: 0h13m  tot: 0h0m37s  (4.3%)\rEpoch: 21.4%  lr: 0.047898  loss: 0.077154  eta: 0h13m  tot: 0h0m37s  (4.3%)\rEpoch: 21.5%  lr: 0.047888  loss: 0.076982  eta: 0h13m  tot: 0h0m37s  (4.3%)\rEpoch: 21.6%  lr: 0.047858  loss: 0.076852  eta: 0h13m  tot: 0h0m37s  (4.3%)\rEpoch: 21.7%  lr: 0.047838  loss: 0.076727  eta: 0h13m  tot: 0h0m37s  (4.3%)\rEpoch: 21.8%  lr: 0.047828  loss: 0.076623  eta: 0h13m  tot: 0h0m37s  (4.4%)\rEpoch: 21.9%  lr: 0.047828  loss: 0.076482  eta: 0h13m  tot: 0h0m38s  (4.4%)\rEpoch: 22.0%  lr: 0.047828  loss: 0.076418  eta: 0h13m  tot: 0h0m38s  (4.4%)\rEpoch: 22.1%  lr: 0.047808  loss: 0.076258  eta: 0h13m  tot: 0h0m38s  (4.4%)\rEpoch: 22.1%  lr: 0.047808  loss: 0.076063  eta: 0h13m  tot: 0h0m38s  (4.4%)\rEpoch: 22.2%  lr: 0.047798  loss: 0.076033  eta: 0h13m  tot: 0h0m38s  (4.4%)\rEpoch: 22.3%  lr: 0.047788  loss: 0.075903  eta: 0h13m  tot: 0h0m38s  (4.5%)\rEpoch: 22.4%  lr: 0.047778  loss: 0.075724  eta: 0h13m  tot: 0h0m39s  (4.5%)\rEpoch: 22.5%  lr: 0.047758  loss: 0.075633  eta: 0h13m  tot: 0h0m39s  (4.5%)\rEpoch: 22.6%  lr: 0.047758  loss: 0.075536  eta: 0h13m  tot: 0h0m39s  (4.5%)\rEpoch: 22.7%  lr: 0.047738  loss: 0.075420  eta: 0h13m  tot: 0h0m39s  (4.5%)\rEpoch: 22.8%  lr: 0.047738  loss: 0.075352  eta: 0h13m  tot: 0h0m39s  (4.6%)\rEpoch: 22.9%  lr: 0.047738  loss: 0.075330  eta: 0h13m  tot: 0h0m39s  (4.6%)\rEpoch: 23.0%  lr: 0.047738  loss: 0.075236  eta: 0h13m  tot: 0h0m39s  (4.6%)\rEpoch: 23.0%  lr: 0.047738  loss: 0.075088  eta: 0h13m  tot: 0h0m40s  (4.6%)\rEpoch: 23.1%  lr: 0.047738  loss: 0.074955  eta: 0h13m  tot: 0h0m40s  (4.6%)\rEpoch: 23.2%  lr: 0.047718  loss: 0.074848  eta: 0h13m  tot: 0h0m40s  (4.6%)\rEpoch: 23.3%  lr: 0.047688  loss: 0.074697  eta: 0h13m  tot: 0h0m40s  (4.7%)\rEpoch: 23.4%  lr: 0.047668  loss: 0.074532  eta: 0h13m  tot: 0h0m40s  (4.7%)\rEpoch: 23.5%  lr: 0.047658  loss: 0.074509  eta: 0h13m  tot: 0h0m40s  (4.7%)\rEpoch: 23.6%  lr: 0.047658  loss: 0.074375  eta: 0h13m  tot: 0h0m40s  (4.7%)\rEpoch: 23.7%  lr: 0.047638  loss: 0.074286  eta: 0h13m  tot: 0h0m41s  (4.7%)\rEpoch: 23.8%  lr: 0.047628  loss: 0.074064  eta: 0h13m  tot: 0h0m41s  (4.8%)\rEpoch: 23.9%  lr: 0.047618  loss: 0.073920  eta: 0h13m  tot: 0h0m41s  (4.8%)\rEpoch: 23.9%  lr: 0.047608  loss: 0.073790  eta: 0h13m  tot: 0h0m41s  (4.8%)\rEpoch: 24.0%  lr: 0.047608  loss: 0.073761  eta: 0h13m  tot: 0h0m41s  (4.8%)\rEpoch: 24.1%  lr: 0.047608  loss: 0.073585  eta: 0h13m  tot: 0h0m41s  (4.8%)\rEpoch: 24.2%  lr: 0.047578  loss: 0.073508  eta: 0h13m  tot: 0h0m42s  (4.8%)\rEpoch: 24.3%  lr: 0.047578  loss: 0.073358  eta: 0h13m  tot: 0h0m42s  (4.9%)\rEpoch: 24.4%  lr: 0.047578  loss: 0.073246  eta: 0h13m  tot: 0h0m42s  (4.9%)\rEpoch: 24.5%  lr: 0.047568  loss: 0.073193  eta: 0h13m  tot: 0h0m42s  (4.9%)\rEpoch: 24.6%  lr: 0.047558  loss: 0.073080  eta: 0h13m  tot: 0h0m42s  (4.9%)\rEpoch: 24.7%  lr: 0.047558  loss: 0.073018  eta: 0h13m  tot: 0h0m42s  (4.9%)\rEpoch: 24.8%  lr: 0.047558  loss: 0.072945  eta: 0h13m  tot: 0h0m42s  (5.0%)\rEpoch: 24.8%  lr: 0.047528  loss: 0.072797  eta: 0h13m  tot: 0h0m43s  (5.0%)\rEpoch: 24.9%  lr: 0.047508  loss: 0.072619  eta: 0h13m  tot: 0h0m43s  (5.0%)\rEpoch: 25.0%  lr: 0.047508  loss: 0.072546  eta: 0h13m  tot: 0h0m43s  (5.0%)\rEpoch: 25.1%  lr: 0.047508  loss: 0.072433  eta: 0h13m  tot: 0h0m43s  (5.0%)\rEpoch: 25.2%  lr: 0.047498  loss: 0.072455  eta: 0h13m  tot: 0h0m43s  (5.0%)\rEpoch: 25.3%  lr: 0.047498  loss: 0.072326  eta: 0h13m  tot: 0h0m43s  (5.1%)\rEpoch: 25.4%  lr: 0.047488  loss: 0.072137  eta: 0h13m  tot: 0h0m43s  (5.1%)\rEpoch: 25.5%  lr: 0.047478  loss: 0.072071  eta: 0h13m  tot: 0h0m44s  (5.1%)\rEpoch: 25.6%  lr: 0.047478  loss: 0.071913  eta: 0h13m  tot: 0h0m44s  (5.1%)\rEpoch: 25.7%  lr: 0.047457  loss: 0.071839  eta: 0h13m  tot: 0h0m44s  (5.1%)\rEpoch: 25.7%  lr: 0.047457  loss: 0.071777  eta: 0h13m  tot: 0h0m44s  (5.1%)\rEpoch: 25.8%  lr: 0.047457  loss: 0.071651  eta: 0h13m  tot: 0h0m44s  (5.2%)\rEpoch: 25.9%  lr: 0.047427  loss: 0.071584  eta: 0h13m  tot: 0h0m44s  (5.2%)\rEpoch: 26.0%  lr: 0.047427  loss: 0.071416  eta: 0h13m  tot: 0h0m44s  (5.2%)\rEpoch: 26.1%  lr: 0.047417  loss: 0.071324  eta: 0h13m  tot: 0h0m45s  (5.2%)\rEpoch: 26.2%  lr: 0.047417  loss: 0.071218  eta: 0h13m  tot: 0h0m45s  (5.2%)\rEpoch: 26.3%  lr: 0.047397  loss: 0.071113  eta: 0h13m  tot: 0h0m45s  (5.3%)\rEpoch: 26.4%  lr: 0.047397  loss: 0.070956  eta: 0h13m  tot: 0h0m45s  (5.3%)\rEpoch: 26.5%  lr: 0.047387  loss: 0.070858  eta: 0h13m  tot: 0h0m45s  (5.3%)\rEpoch: 26.6%  lr: 0.047387  loss: 0.070723  eta: 0h13m  tot: 0h0m45s  (5.3%)\rEpoch: 26.6%  lr: 0.047387  loss: 0.070596  eta: 0h13m  tot: 0h0m45s  (5.3%)\rEpoch: 26.7%  lr: 0.047377  loss: 0.070462  eta: 0h13m  tot: 0h0m46s  (5.3%)\rEpoch: 26.8%  lr: 0.047377  loss: 0.070375  eta: 0h13m  tot: 0h0m46s  (5.4%)\rEpoch: 26.9%  lr: 0.047367  loss: 0.070290  eta: 0h13m  tot: 0h0m46s  (5.4%)\rEpoch: 27.0%  lr: 0.047357  loss: 0.070206  eta: 0h13m  tot: 0h0m46s  (5.4%)\rEpoch: 27.1%  lr: 0.047347  loss: 0.070189  eta: 0h13m  tot: 0h0m46s  (5.4%)\rEpoch: 27.2%  lr: 0.047347  loss: 0.070060  eta: 0h13m  tot: 0h0m46s  (5.4%)\rEpoch: 27.3%  lr: 0.047327  loss: 0.069993  eta: 0h13m  tot: 0h0m47s  (5.5%)\rEpoch: 27.4%  lr: 0.047327  loss: 0.069896  eta: 0h13m  tot: 0h0m47s  (5.5%)\rEpoch: 27.5%  lr: 0.047327  loss: 0.069732  eta: 0h13m  tot: 0h0m47s  (5.5%)\rEpoch: 27.5%  lr: 0.047327  loss: 0.069688  eta: 0h13m  tot: 0h0m47s  (5.5%)\rEpoch: 27.6%  lr: 0.047317  loss: 0.069605  eta: 0h13m  tot: 0h0m47s  (5.5%)\rEpoch: 27.7%  lr: 0.047297  loss: 0.069597  eta: 0h13m  tot: 0h0m47s  (5.5%)\rEpoch: 27.8%  lr: 0.047297  loss: 0.069445  eta: 0h13m  tot: 0h0m47s  (5.6%)\rEpoch: 27.9%  lr: 0.047287  loss: 0.069362  eta: 0h13m  tot: 0h0m48s  (5.6%)\rEpoch: 28.0%  lr: 0.047267  loss: 0.069268  eta: 0h13m  tot: 0h0m48s  (5.6%)\rEpoch: 28.1%  lr: 0.047257  loss: 0.069135  eta: 0h13m  tot: 0h0m48s  (5.6%)\rEpoch: 28.2%  lr: 0.047237  loss: 0.069000  eta: 0h13m  tot: 0h0m48s  (5.6%)\rEpoch: 28.3%  lr: 0.047237  loss: 0.068898  eta: 0h13m  tot: 0h0m48s  (5.7%)\rEpoch: 28.4%  lr: 0.047227  loss: 0.068794  eta: 0h13m  tot: 0h0m48s  (5.7%)\rEpoch: 28.4%  lr: 0.047217  loss: 0.068791  eta: 0h13m  tot: 0h0m48s  (5.7%)\rEpoch: 28.5%  lr: 0.047217  loss: 0.068689  eta: 0h13m  tot: 0h0m49s  (5.7%)\rEpoch: 28.6%  lr: 0.047207  loss: 0.068627  eta: 0h13m  tot: 0h0m49s  (5.7%)\rEpoch: 28.7%  lr: 0.047187  loss: 0.068548  eta: 0h13m  tot: 0h0m49s  (5.7%)\rEpoch: 28.8%  lr: 0.047187  loss: 0.068511  eta: 0h13m  tot: 0h0m49s  (5.8%)\rEpoch: 28.9%  lr: 0.047187  loss: 0.068488  eta: 0h13m  tot: 0h0m49s  (5.8%)\rEpoch: 29.0%  lr: 0.047187  loss: 0.068462  eta: 0h13m  tot: 0h0m49s  (5.8%)\rEpoch: 29.1%  lr: 0.047187  loss: 0.068362  eta: 0h13m  tot: 0h0m49s  (5.8%)\rEpoch: 29.2%  lr: 0.047177  loss: 0.068268  eta: 0h13m  tot: 0h0m50s  (5.8%)\rEpoch: 29.3%  lr: 0.047167  loss: 0.068177  eta: 0h13m  tot: 0h0m50s  (5.9%)\rEpoch: 29.3%  lr: 0.047157  loss: 0.068188  eta: 0h13m  tot: 0h0m50s  (5.9%)\rEpoch: 29.4%  lr: 0.047157  loss: 0.068091  eta: 0h13m  tot: 0h0m50s  (5.9%)\rEpoch: 29.5%  lr: 0.047137  loss: 0.068029  eta: 0h13m  tot: 0h0m50s  (5.9%)\rEpoch: 29.6%  lr: 0.047137  loss: 0.067907  eta: 0h13m  tot: 0h0m50s  (5.9%)\rEpoch: 29.7%  lr: 0.047127  loss: 0.067868  eta: 0h13m  tot: 0h0m51s  (5.9%)\rEpoch: 29.8%  lr: 0.047107  loss: 0.067756  eta: 0h13m  tot: 0h0m51s  (6.0%)\rEpoch: 29.9%  lr: 0.047107  loss: 0.067676  eta: 0h13m  tot: 0h0m51s  (6.0%)\rEpoch: 30.0%  lr: 0.047107  loss: 0.067675  eta: 0h13m  tot: 0h0m51s  (6.0%)\rEpoch: 30.1%  lr: 0.047107  loss: 0.067625  eta: 0h13m  tot: 0h0m51s  (6.0%)\rEpoch: 30.2%  lr: 0.047107  loss: 0.067485  eta: 0h13m  tot: 0h0m51s  (6.0%)\rEpoch: 30.2%  lr: 0.047087  loss: 0.067502  eta: 0h13m  tot: 0h0m51s  (6.0%)\rEpoch: 30.3%  lr: 0.047087  loss: 0.067432  eta: 0h13m  tot: 0h0m52s  (6.1%)\rEpoch: 30.4%  lr: 0.047087  loss: 0.067402  eta: 0h13m  tot: 0h0m52s  (6.1%)\rEpoch: 30.5%  lr: 0.047087  loss: 0.067325  eta: 0h13m  tot: 0h0m52s  (6.1%)\rEpoch: 30.6%  lr: 0.047087  loss: 0.067231  eta: 0h13m  tot: 0h0m52s  (6.1%)\rEpoch: 30.7%  lr: 0.047077  loss: 0.067214  eta: 0h13m  tot: 0h0m52s  (6.1%)\rEpoch: 30.8%  lr: 0.047067  loss: 0.067120  eta: 0h13m  tot: 0h0m52s  (6.2%)\rEpoch: 30.9%  lr: 0.047057  loss: 0.067054  eta: 0h13m  tot: 0h0m53s  (6.2%)\rEpoch: 31.0%  lr: 0.047057  loss: 0.066972  eta: 0h13m  tot: 0h0m53s  (6.2%)\rEpoch: 31.1%  lr: 0.047057  loss: 0.066867  eta: 0h13m  tot: 0h0m53s  (6.2%)\rEpoch: 31.1%  lr: 0.047047  loss: 0.066809  eta: 0h13m  tot: 0h0m53s  (6.2%)\rEpoch: 31.2%  lr: 0.047037  loss: 0.066719  eta: 0h13m  tot: 0h0m53s  (6.2%)\rEpoch: 31.3%  lr: 0.047017  loss: 0.066628  eta: 0h13m  tot: 0h0m53s  (6.3%)\rEpoch: 31.4%  lr: 0.047007  loss: 0.066484  eta: 0h13m  tot: 0h0m53s  (6.3%)\rEpoch: 31.5%  lr: 0.047007  loss: 0.066415  eta: 0h13m  tot: 0h0m54s  (6.3%)\rEpoch: 31.6%  lr: 0.047007  loss: 0.066285  eta: 0h13m  tot: 0h0m54s  (6.3%)\rEpoch: 31.7%  lr: 0.047007  loss: 0.066237  eta: 0h13m  tot: 0h0m54s  (6.3%)\rEpoch: 31.8%  lr: 0.046997  loss: 0.066225  eta: 0h13m  tot: 0h0m54s  (6.4%)\rEpoch: 31.9%  lr: 0.046997  loss: 0.066147  eta: 0h13m  tot: 0h0m54s  (6.4%)\rEpoch: 32.0%  lr: 0.046987  loss: 0.066057  eta: 0h13m  tot: 0h0m54s  (6.4%)\rEpoch: 32.0%  lr: 0.046987  loss: 0.065974  eta: 0h13m  tot: 0h0m54s  (6.4%)\rEpoch: 32.1%  lr: 0.046977  loss: 0.065935  eta: 0h13m  tot: 0h0m55s  (6.4%)\rEpoch: 32.2%  lr: 0.046967  loss: 0.065823  eta: 0h13m  tot: 0h0m55s  (6.4%)\rEpoch: 32.3%  lr: 0.046957  loss: 0.065723  eta: 0h13m  tot: 0h0m55s  (6.5%)\rEpoch: 32.4%  lr: 0.046957  loss: 0.065621  eta: 0h13m  tot: 0h0m55s  (6.5%)\rEpoch: 32.5%  lr: 0.046947  loss: 0.065561  eta: 0h13m  tot: 0h0m55s  (6.5%)\rEpoch: 32.6%  lr: 0.046947  loss: 0.065574  eta: 0h13m  tot: 0h0m55s  (6.5%)\rEpoch: 32.7%  lr: 0.046947  loss: 0.065510  eta: 0h13m  tot: 0h0m55s  (6.5%)\rEpoch: 32.8%  lr: 0.046947  loss: 0.065406  eta: 0h13m  tot: 0h0m56s  (6.6%)\rEpoch: 32.9%  lr: 0.046937  loss: 0.065383  eta: 0h13m  tot: 0h0m56s  (6.6%)\rEpoch: 32.9%  lr: 0.046937  loss: 0.065232  eta: 0h13m  tot: 0h0m56s  (6.6%)\rEpoch: 33.0%  lr: 0.046937  loss: 0.065130  eta: 0h13m  tot: 0h0m56s  (6.6%)\rEpoch: 33.1%  lr: 0.046937  loss: 0.065029  eta: 0h13m  tot: 0h0m56s  (6.6%)\rEpoch: 33.2%  lr: 0.046937  loss: 0.064998  eta: 0h13m  tot: 0h0m56s  (6.6%)\rEpoch: 33.3%  lr: 0.046917  loss: 0.064967  eta: 0h13m  tot: 0h0m56s  (6.7%)\rEpoch: 33.4%  lr: 0.046907  loss: 0.064838  eta: 0h13m  tot: 0h0m57s  (6.7%)\rEpoch: 33.5%  lr: 0.046907  loss: 0.064713  eta: 0h13m  tot: 0h0m57s  (6.7%)\rEpoch: 33.6%  lr: 0.046907  loss: 0.064672  eta: 0h13m  tot: 0h0m57s  (6.7%)\rEpoch: 33.7%  lr: 0.046887  loss: 0.064567  eta: 0h13m  tot: 0h0m57s  (6.7%)\rEpoch: 33.8%  lr: 0.046877  loss: 0.064519  eta: 0h13m  tot: 0h0m57s  (6.8%)\rEpoch: 33.8%  lr: 0.046877  loss: 0.064485  eta: 0h13m  tot: 0h0m57s  (6.8%)\rEpoch: 33.9%  lr: 0.046877  loss: 0.064465  eta: 0h13m  tot: 0h0m57s  (6.8%)\rEpoch: 34.0%  lr: 0.046867  loss: 0.064383  eta: 0h13m  tot: 0h0m58s  (6.8%)\rEpoch: 34.1%  lr: 0.046867  loss: 0.064333  eta: 0h13m  tot: 0h0m58s  (6.8%)\rEpoch: 34.2%  lr: 0.046837  loss: 0.064254  eta: 0h13m  tot: 0h0m58s  (6.8%)\rEpoch: 34.3%  lr: 0.046817  loss: 0.064187  eta: 0h13m  tot: 0h0m58s  (6.9%)\rEpoch: 34.4%  lr: 0.046797  loss: 0.064120  eta: 0h13m  tot: 0h0m58s  (6.9%)\rEpoch: 34.5%  lr: 0.046797  loss: 0.064046  eta: 0h13m  tot: 0h0m58s  (6.9%)\rEpoch: 34.6%  lr: 0.046787  loss: 0.063966  eta: 0h13m  tot: 0h0m58s  (6.9%)\rEpoch: 34.7%  lr: 0.046767  loss: 0.063880  eta: 0h13m  tot: 0h0m59s  (6.9%)\rEpoch: 34.7%  lr: 0.046757  loss: 0.063840  eta: 0h13m  tot: 0h0m59s  (6.9%)\rEpoch: 34.8%  lr: 0.046737  loss: 0.063745  eta: 0h13m  tot: 0h0m59s  (7.0%)\rEpoch: 34.9%  lr: 0.046737  loss: 0.063705  eta: 0h13m  tot: 0h0m59s  (7.0%)\rEpoch: 35.0%  lr: 0.046717  loss: 0.063655  eta: 0h13m  tot: 0h0m59s  (7.0%)\rEpoch: 35.1%  lr: 0.046707  loss: 0.063669  eta: 0h13m  tot: 0h0m59s  (7.0%)\rEpoch: 35.2%  lr: 0.046707  loss: 0.063625  eta: 0h13m  tot: 0h1m0s  (7.0%)\rEpoch: 35.3%  lr: 0.046707  loss: 0.063560  eta: 0h13m  tot: 0h1m0s  (7.1%)\rEpoch: 35.4%  lr: 0.046697  loss: 0.063504  eta: 0h13m  tot: 0h1m0s  (7.1%)\rEpoch: 35.5%  lr: 0.046657  loss: 0.063433  eta: 0h13m  tot: 0h1m0s  (7.1%)\rEpoch: 35.6%  lr: 0.046637  loss: 0.063375  eta: 0h13m  tot: 0h1m0s  (7.1%)\rEpoch: 35.6%  lr: 0.046637  loss: 0.063300  eta: 0h13m  tot: 0h1m0s  (7.1%)\rEpoch: 35.7%  lr: 0.046627  loss: 0.063259  eta: 0h13m  tot: 0h1m0s  (7.1%)\rEpoch: 35.8%  lr: 0.046627  loss: 0.063217  eta: 0h13m  tot: 0h1m1s  (7.2%)\rEpoch: 35.9%  lr: 0.046617  loss: 0.063193  eta: 0h13m  tot: 0h1m1s  (7.2%)\rEpoch: 36.0%  lr: 0.046617  loss: 0.063136  eta: 0h13m  tot: 0h1m1s  (7.2%)\rEpoch: 36.1%  lr: 0.046597  loss: 0.063065  eta: 0h13m  tot: 0h1m1s  (7.2%)\rEpoch: 36.2%  lr: 0.046577  loss: 0.063026  eta: 0h13m  tot: 0h1m1s  (7.2%)\rEpoch: 36.3%  lr: 0.046567  loss: 0.063038  eta: 0h13m  tot: 0h1m1s  (7.3%)\rEpoch: 36.4%  lr: 0.046557  loss: 0.062969  eta: 0h13m  tot: 0h1m1s  (7.3%)\rEpoch: 36.5%  lr: 0.046547  loss: 0.062873  eta: 0h13m  tot: 0h1m2s  (7.3%)\rEpoch: 36.5%  lr: 0.046537  loss: 0.062824  eta: 0h13m  tot: 0h1m2s  (7.3%)\rEpoch: 36.6%  lr: 0.046537  loss: 0.062784  eta: 0h13m  tot: 0h1m2s  (7.3%)\rEpoch: 36.7%  lr: 0.046527  loss: 0.062699  eta: 0h13m  tot: 0h1m2s  (7.3%)\rEpoch: 36.8%  lr: 0.046517  loss: 0.062613  eta: 0h13m  tot: 0h1m2s  (7.4%)\rEpoch: 36.9%  lr: 0.046507  loss: 0.062548  eta: 0h13m  tot: 0h1m2s  (7.4%)\rEpoch: 37.0%  lr: 0.046497  loss: 0.062439  eta: 0h13m  tot: 0h1m2s  (7.4%)\rEpoch: 37.1%  lr: 0.046487  loss: 0.062385  eta: 0h13m  tot: 0h1m3s  (7.4%)\rEpoch: 37.2%  lr: 0.046477  loss: 0.062334  eta: 0h13m  tot: 0h1m3s  (7.4%)\rEpoch: 37.3%  lr: 0.046477  loss: 0.062262  eta: 0h13m  tot: 0h1m3s  (7.5%)\rEpoch: 37.4%  lr: 0.046467  loss: 0.062209  eta: 0h13m  tot: 0h1m3s  (7.5%)\rEpoch: 37.4%  lr: 0.046457  loss: 0.062155  eta: 0h13m  tot: 0h1m3s  (7.5%)\rEpoch: 37.5%  lr: 0.046457  loss: 0.062078  eta: 0h13m  tot: 0h1m3s  (7.5%)\rEpoch: 37.6%  lr: 0.046436  loss: 0.062023  eta: 0h13m  tot: 0h1m3s  (7.5%)\rEpoch: 37.7%  lr: 0.046436  loss: 0.062027  eta: 0h13m  tot: 0h1m4s  (7.5%)\rEpoch: 37.8%  lr: 0.046436  loss: 0.061990  eta: 0h13m  tot: 0h1m4s  (7.6%)\rEpoch: 37.9%  lr: 0.046426  loss: 0.061912  eta: 0h13m  tot: 0h1m4s  (7.6%)\rEpoch: 38.0%  lr: 0.046416  loss: 0.061863  eta: 0h13m  tot: 0h1m4s  (7.6%)\rEpoch: 38.1%  lr: 0.046396  loss: 0.061852  eta: 0h13m  tot: 0h1m4s  (7.6%)\rEpoch: 38.2%  lr: 0.046356  loss: 0.061812  eta: 0h13m  tot: 0h1m4s  (7.6%)\rEpoch: 38.3%  lr: 0.046346  loss: 0.061752  eta: 0h13m  tot: 0h1m4s  (7.7%)\rEpoch: 38.3%  lr: 0.046326  loss: 0.061756  eta: 0h13m  tot: 0h1m5s  (7.7%)\rEpoch: 38.4%  lr: 0.046316  loss: 0.061713  eta: 0h13m  tot: 0h1m5s  (7.7%)\rEpoch: 38.5%  lr: 0.046296  loss: 0.061649  eta: 0h13m  tot: 0h1m5s  (7.7%)\rEpoch: 38.6%  lr: 0.046286  loss: 0.061562  eta: 0h13m  tot: 0h1m5s  (7.7%)\rEpoch: 38.7%  lr: 0.046256  loss: 0.061523  eta: 0h13m  tot: 0h1m5s  (7.7%)\rEpoch: 38.8%  lr: 0.046236  loss: 0.061463  eta: 0h13m  tot: 0h1m5s  (7.8%)\rEpoch: 38.9%  lr: 0.046236  loss: 0.061477  eta: 0h13m  tot: 0h1m5s  (7.8%)\rEpoch: 39.0%  lr: 0.046226  loss: 0.061404  eta: 0h13m  tot: 0h1m6s  (7.8%)\rEpoch: 39.1%  lr: 0.046226  loss: 0.061315  eta: 0h13m  tot: 0h1m6s  (7.8%)\rEpoch: 39.2%  lr: 0.046216  loss: 0.061255  eta: 0h13m  tot: 0h1m6s  (7.8%)\rEpoch: 39.2%  lr: 0.046216  loss: 0.061206  eta: 0h13m  tot: 0h1m6s  (7.8%)\rEpoch: 39.3%  lr: 0.046206  loss: 0.061166  eta: 0h13m  tot: 0h1m6s  (7.9%)\rEpoch: 39.4%  lr: 0.046206  loss: 0.061113  eta: 0h13m  tot: 0h1m6s  (7.9%)\rEpoch: 39.5%  lr: 0.046206  loss: 0.061084  eta: 0h13m  tot: 0h1m6s  (7.9%)\rEpoch: 39.6%  lr: 0.046206  loss: 0.061027  eta: 0h13m  tot: 0h1m7s  (7.9%)\rEpoch: 39.7%  lr: 0.046206  loss: 0.060973  eta: 0h12m  tot: 0h1m7s  (7.9%)\rEpoch: 39.8%  lr: 0.046206  loss: 0.060933  eta: 0h12m  tot: 0h1m7s  (8.0%)\rEpoch: 39.9%  lr: 0.046206  loss: 0.060842  eta: 0h12m  tot: 0h1m7s  (8.0%)\rEpoch: 40.0%  lr: 0.046206  loss: 0.060779  eta: 0h12m  tot: 0h1m7s  (8.0%)\rEpoch: 40.1%  lr: 0.046206  loss: 0.060751  eta: 0h12m  tot: 0h1m7s  (8.0%)\rEpoch: 40.1%  lr: 0.046196  loss: 0.060735  eta: 0h12m  tot: 0h1m8s  (8.0%)\rEpoch: 40.2%  lr: 0.046196  loss: 0.060680  eta: 0h12m  tot: 0h1m8s  (8.0%)\rEpoch: 40.3%  lr: 0.046186  loss: 0.060602  eta: 0h12m  tot: 0h1m8s  (8.1%)\rEpoch: 40.4%  lr: 0.046156  loss: 0.060551  eta: 0h12m  tot: 0h1m8s  (8.1%)\rEpoch: 40.5%  lr: 0.046156  loss: 0.060554  eta: 0h12m  tot: 0h1m8s  (8.1%)\rEpoch: 40.6%  lr: 0.046156  loss: 0.060463  eta: 0h12m  tot: 0h1m8s  (8.1%)\rEpoch: 40.7%  lr: 0.046136  loss: 0.060410  eta: 0h12m  tot: 0h1m8s  (8.1%)\rEpoch: 40.8%  lr: 0.046116  loss: 0.060341  eta: 0h12m  tot: 0h1m9s  (8.2%)\rEpoch: 40.9%  lr: 0.046116  loss: 0.060255  eta: 0h12m  tot: 0h1m9s  (8.2%)\rEpoch: 41.0%  lr: 0.046106  loss: 0.060190  eta: 0h12m  tot: 0h1m9s  (8.2%)\rEpoch: 41.0%  lr: 0.046106  loss: 0.060149  eta: 0h12m  tot: 0h1m9s  (8.2%)\rEpoch: 41.1%  lr: 0.046106  loss: 0.060054  eta: 0h12m  tot: 0h1m9s  (8.2%)\rEpoch: 41.2%  lr: 0.046086  loss: 0.060026  eta: 0h12m  tot: 0h1m9s  (8.2%)\rEpoch: 41.3%  lr: 0.046076  loss: 0.059992  eta: 0h12m  tot: 0h1m9s  (8.3%)\rEpoch: 41.4%  lr: 0.046066  loss: 0.059946  eta: 0h12m  tot: 0h1m10s  (8.3%)\rEpoch: 41.5%  lr: 0.046046  loss: 0.059870  eta: 0h12m  tot: 0h1m10s  (8.3%)\rEpoch: 41.6%  lr: 0.046036  loss: 0.059829  eta: 0h12m  tot: 0h1m10s  (8.3%)\rEpoch: 41.7%  lr: 0.046026  loss: 0.059753  eta: 0h12m  tot: 0h1m10s  (8.3%)\rEpoch: 41.8%  lr: 0.046016  loss: 0.059707  eta: 0h12m  tot: 0h1m10s  (8.4%)\rEpoch: 41.9%  lr: 0.046016  loss: 0.059657  eta: 0h12m  tot: 0h1m10s  (8.4%)\rEpoch: 42.0%  lr: 0.046016  loss: 0.059592  eta: 0h12m  tot: 0h1m10s  (8.4%)\rEpoch: 42.0%  lr: 0.045996  loss: 0.059612  eta: 0h12m  tot: 0h1m11s  (8.4%)\rEpoch: 42.1%  lr: 0.045986  loss: 0.059536  eta: 0h12m  tot: 0h1m11s  (8.4%)\rEpoch: 42.2%  lr: 0.045976  loss: 0.059488  eta: 0h12m  tot: 0h1m11s  (8.4%)\rEpoch: 42.3%  lr: 0.045966  loss: 0.059461  eta: 0h12m  tot: 0h1m11s  (8.5%)\rEpoch: 42.4%  lr: 0.045956  loss: 0.059397  eta: 0h12m  tot: 0h1m11s  (8.5%)\rEpoch: 42.5%  lr: 0.045946  loss: 0.059367  eta: 0h12m  tot: 0h1m11s  (8.5%)\rEpoch: 42.6%  lr: 0.045926  loss: 0.059334  eta: 0h12m  tot: 0h1m11s  (8.5%)\rEpoch: 42.7%  lr: 0.045896  loss: 0.059239  eta: 0h12m  tot: 0h1m12s  (8.5%)\rEpoch: 42.8%  lr: 0.045876  loss: 0.059204  eta: 0h12m  tot: 0h1m12s  (8.6%)\rEpoch: 42.9%  lr: 0.045866  loss: 0.059170  eta: 0h12m  tot: 0h1m12s  (8.6%)\rEpoch: 42.9%  lr: 0.045856  loss: 0.059142  eta: 0h12m  tot: 0h1m12s  (8.6%)\rEpoch: 43.0%  lr: 0.045856  loss: 0.059088  eta: 0h12m  tot: 0h1m12s  (8.6%)\rEpoch: 43.1%  lr: 0.045856  loss: 0.059021  eta: 0h12m  tot: 0h1m12s  (8.6%)\rEpoch: 43.2%  lr: 0.045856  loss: 0.058990  eta: 0h12m  tot: 0h1m12s  (8.6%)\rEpoch: 43.3%  lr: 0.045846  loss: 0.058951  eta: 0h12m  tot: 0h1m13s  (8.7%)\rEpoch: 43.4%  lr: 0.045846  loss: 0.058904  eta: 0h12m  tot: 0h1m13s  (8.7%)\rEpoch: 43.5%  lr: 0.045836  loss: 0.058882  eta: 0h12m  tot: 0h1m13s  (8.7%)\rEpoch: 43.6%  lr: 0.045836  loss: 0.058801  eta: 0h12m  tot: 0h1m13s  (8.7%)\rEpoch: 43.7%  lr: 0.045826  loss: 0.058727  eta: 0h12m  tot: 0h1m13s  (8.7%)\rEpoch: 43.8%  lr: 0.045816  loss: 0.058726  eta: 0h12m  tot: 0h1m13s  (8.8%)\rEpoch: 43.8%  lr: 0.045816  loss: 0.058693  eta: 0h12m  tot: 0h1m13s  (8.8%)\rEpoch: 43.9%  lr: 0.045806  loss: 0.058635  eta: 0h12m  tot: 0h1m14s  (8.8%)\rEpoch: 44.0%  lr: 0.045796  loss: 0.058673  eta: 0h12m  tot: 0h1m14s  (8.8%)\rEpoch: 44.1%  lr: 0.045796  loss: 0.058617  eta: 0h12m  tot: 0h1m14s  (8.8%)\rEpoch: 44.2%  lr: 0.045776  loss: 0.058526  eta: 0h12m  tot: 0h1m14s  (8.8%)\rEpoch: 44.3%  lr: 0.045766  loss: 0.058454  eta: 0h12m  tot: 0h1m14s  (8.9%)\rEpoch: 44.4%  lr: 0.045756  loss: 0.058409  eta: 0h12m  tot: 0h1m14s  (8.9%)\rEpoch: 44.5%  lr: 0.045746  loss: 0.058371  eta: 0h12m  tot: 0h1m14s  (8.9%)\rEpoch: 44.6%  lr: 0.045726  loss: 0.058367  eta: 0h12m  tot: 0h1m15s  (8.9%)\rEpoch: 44.7%  lr: 0.045716  loss: 0.058301  eta: 0h12m  tot: 0h1m15s  (8.9%)\rEpoch: 44.7%  lr: 0.045716  loss: 0.058245  eta: 0h12m  tot: 0h1m15s  (8.9%)\rEpoch: 44.8%  lr: 0.045686  loss: 0.058180  eta: 0h12m  tot: 0h1m15s  (9.0%)\rEpoch: 44.9%  lr: 0.045676  loss: 0.058086  eta: 0h12m  tot: 0h1m15s  (9.0%)\rEpoch: 45.0%  lr: 0.045666  loss: 0.058006  eta: 0h12m  tot: 0h1m15s  (9.0%)\rEpoch: 45.1%  lr: 0.045666  loss: 0.057973  eta: 0h12m  tot: 0h1m15s  (9.0%)\rEpoch: 45.2%  lr: 0.045656  loss: 0.057948  eta: 0h12m  tot: 0h1m16s  (9.0%)\rEpoch: 45.3%  lr: 0.045646  loss: 0.057880  eta: 0h12m  tot: 0h1m16s  (9.1%)\rEpoch: 45.4%  lr: 0.045646  loss: 0.057843  eta: 0h12m  tot: 0h1m16s  (9.1%)\rEpoch: 45.5%  lr: 0.045646  loss: 0.057789  eta: 0h12m  tot: 0h1m16s  (9.1%)\rEpoch: 45.6%  lr: 0.045636  loss: 0.057752  eta: 0h12m  tot: 0h1m16s  (9.1%)\rEpoch: 45.6%  lr: 0.045616  loss: 0.057713  eta: 0h12m  tot: 0h1m16s  (9.1%)\rEpoch: 45.7%  lr: 0.045606  loss: 0.057698  eta: 0h12m  tot: 0h1m17s  (9.1%)\rEpoch: 45.8%  lr: 0.045606  loss: 0.057639  eta: 0h12m  tot: 0h1m17s  (9.2%)\rEpoch: 45.9%  lr: 0.045606  loss: 0.057611  eta: 0h12m  tot: 0h1m17s  (9.2%)\rEpoch: 46.0%  lr: 0.045596  loss: 0.057574  eta: 0h12m  tot: 0h1m17s  (9.2%)\rEpoch: 46.1%  lr: 0.045586  loss: 0.057528  eta: 0h12m  tot: 0h1m17s  (9.2%)\rEpoch: 46.2%  lr: 0.045566  loss: 0.057515  eta: 0h12m  tot: 0h1m17s  (9.2%)\rEpoch: 46.3%  lr: 0.045566  loss: 0.057475  eta: 0h12m  tot: 0h1m17s  (9.3%)\rEpoch: 46.4%  lr: 0.045556  loss: 0.057437  eta: 0h12m  tot: 0h1m17s  (9.3%)\rEpoch: 46.5%  lr: 0.045516  loss: 0.057447  eta: 0h12m  tot: 0h1m18s  (9.3%)\rEpoch: 46.5%  lr: 0.045516  loss: 0.057417  eta: 0h12m  tot: 0h1m18s  (9.3%)\rEpoch: 46.6%  lr: 0.045506  loss: 0.057388  eta: 0h12m  tot: 0h1m18s  (9.3%)\rEpoch: 46.7%  lr: 0.045506  loss: 0.057313  eta: 0h12m  tot: 0h1m18s  (9.3%)\rEpoch: 46.8%  lr: 0.045496  loss: 0.057307  eta: 0h12m  tot: 0h1m18s  (9.4%)\rEpoch: 46.9%  lr: 0.045496  loss: 0.057254  eta: 0h12m  tot: 0h1m18s  (9.4%)\rEpoch: 47.0%  lr: 0.045476  loss: 0.057203  eta: 0h12m  tot: 0h1m19s  (9.4%)\rEpoch: 47.1%  lr: 0.045476  loss: 0.057159  eta: 0h12m  tot: 0h1m19s  (9.4%)\rEpoch: 47.2%  lr: 0.045466  loss: 0.057140  eta: 0h12m  tot: 0h1m19s  (9.4%)\rEpoch: 47.3%  lr: 0.045466  loss: 0.057091  eta: 0h12m  tot: 0h1m19s  (9.5%)\rEpoch: 47.4%  lr: 0.045456  loss: 0.057024  eta: 0h12m  tot: 0h1m19s  (9.5%)\rEpoch: 47.4%  lr: 0.045446  loss: 0.056982  eta: 0h12m  tot: 0h1m19s  (9.5%)\rEpoch: 47.5%  lr: 0.045436  loss: 0.056966  eta: 0h12m  tot: 0h1m19s  (9.5%)\rEpoch: 47.6%  lr: 0.045425  loss: 0.056939  eta: 0h12m  tot: 0h1m20s  (9.5%)\rEpoch: 47.7%  lr: 0.045415  loss: 0.056919  eta: 0h12m  tot: 0h1m20s  (9.5%)\rEpoch: 47.8%  lr: 0.045415  loss: 0.056866  eta: 0h12m  tot: 0h1m20s  (9.6%)\rEpoch: 47.9%  lr: 0.045385  loss: 0.056828  eta: 0h12m  tot: 0h1m20s  (9.6%)\rEpoch: 48.0%  lr: 0.045375  loss: 0.056788  eta: 0h12m  tot: 0h1m20s  (9.6%)\rEpoch: 48.1%  lr: 0.045355  loss: 0.056784  eta: 0h12m  tot: 0h1m20s  (9.6%)\rEpoch: 48.2%  lr: 0.045345  loss: 0.056763  eta: 0h12m  tot: 0h1m20s  (9.6%)\rEpoch: 48.3%  lr: 0.045325  loss: 0.056748  eta: 0h12m  tot: 0h1m21s  (9.7%)\rEpoch: 48.3%  lr: 0.045305  loss: 0.056680  eta: 0h12m  tot: 0h1m21s  (9.7%)\rEpoch: 48.4%  lr: 0.045285  loss: 0.056653  eta: 0h12m  tot: 0h1m21s  (9.7%)\rEpoch: 48.5%  lr: 0.045275  loss: 0.056602  eta: 0h12m  tot: 0h1m21s  (9.7%)\rEpoch: 48.6%  lr: 0.045265  loss: 0.056589  eta: 0h12m  tot: 0h1m21s  (9.7%)\rEpoch: 48.7%  lr: 0.045255  loss: 0.056602  eta: 0h12m  tot: 0h1m21s  (9.7%)\rEpoch: 48.8%  lr: 0.045235  loss: 0.056596  eta: 0h12m  tot: 0h1m21s  (9.8%)\rEpoch: 48.9%  lr: 0.045225  loss: 0.056521  eta: 0h12m  tot: 0h1m22s  (9.8%)\rEpoch: 49.0%  lr: 0.045225  loss: 0.056475  eta: 0h12m  tot: 0h1m22s  (9.8%)\rEpoch: 49.1%  lr: 0.045225  loss: 0.056432  eta: 0h12m  tot: 0h1m22s  (9.8%)\rEpoch: 49.2%  lr: 0.045225  loss: 0.056360  eta: 0h12m  tot: 0h1m22s  (9.8%)\rEpoch: 49.2%  lr: 0.045225  loss: 0.056314  eta: 0h12m  tot: 0h1m22s  (9.8%)\rEpoch: 49.3%  lr: 0.045205  loss: 0.056283  eta: 0h12m  tot: 0h1m22s  (9.9%)\rEpoch: 49.4%  lr: 0.045185  loss: 0.056247  eta: 0h12m  tot: 0h1m22s  (9.9%)\rEpoch: 49.5%  lr: 0.045175  loss: 0.056170  eta: 0h12m  tot: 0h1m23s  (9.9%)\rEpoch: 49.6%  lr: 0.045165  loss: 0.056127  eta: 0h12m  tot: 0h1m23s  (9.9%)\rEpoch: 49.7%  lr: 0.045165  loss: 0.056090  eta: 0h12m  tot: 0h1m23s  (9.9%)\rEpoch: 49.8%  lr: 0.045145  loss: 0.056050  eta: 0h12m  tot: 0h1m23s  (10.0%)\rEpoch: 49.9%  lr: 0.045145  loss: 0.056001  eta: 0h12m  tot: 0h1m23s  (10.0%)\rEpoch: 50.0%  lr: 0.045135  loss: 0.055947  eta: 0h12m  tot: 0h1m23s  (10.0%)\rEpoch: 50.1%  lr: 0.045115  loss: 0.055922  eta: 0h12m  tot: 0h1m23s  (10.0%)\rEpoch: 50.1%  lr: 0.045105  loss: 0.055880  eta: 0h12m  tot: 0h1m24s  (10.0%)\rEpoch: 50.2%  lr: 0.045105  loss: 0.055828  eta: 0h12m  tot: 0h1m24s  (10.0%)\rEpoch: 50.3%  lr: 0.045105  loss: 0.055785  eta: 0h12m  tot: 0h1m24s  (10.1%)\rEpoch: 50.4%  lr: 0.045095  loss: 0.055760  eta: 0h12m  tot: 0h1m24s  (10.1%)\rEpoch: 50.5%  lr: 0.045075  loss: 0.055764  eta: 0h12m  tot: 0h1m24s  (10.1%)\rEpoch: 50.6%  lr: 0.045075  loss: 0.055718  eta: 0h12m  tot: 0h1m24s  (10.1%)\rEpoch: 50.7%  lr: 0.045065  loss: 0.055712  eta: 0h12m  tot: 0h1m25s  (10.1%)\rEpoch: 50.8%  lr: 0.045045  loss: 0.055666  eta: 0h12m  tot: 0h1m25s  (10.2%)\rEpoch: 50.9%  lr: 0.045045  loss: 0.055610  eta: 0h12m  tot: 0h1m25s  (10.2%)\rEpoch: 51.0%  lr: 0.045045  loss: 0.055574  eta: 0h12m  tot: 0h1m25s  (10.2%)\rEpoch: 51.0%  lr: 0.045035  loss: 0.055516  eta: 0h12m  tot: 0h1m25s  (10.2%)\rEpoch: 51.1%  lr: 0.045035  loss: 0.055476  eta: 0h12m  tot: 0h1m25s  (10.2%)\rEpoch: 51.2%  lr: 0.045035  loss: 0.055422  eta: 0h12m  tot: 0h1m25s  (10.2%)\rEpoch: 51.3%  lr: 0.045015  loss: 0.055358  eta: 0h12m  tot: 0h1m26s  (10.3%)\rEpoch: 51.4%  lr: 0.045005  loss: 0.055310  eta: 0h12m  tot: 0h1m26s  (10.3%)\rEpoch: 51.5%  lr: 0.045005  loss: 0.055267  eta: 0h12m  tot: 0h1m26s  (10.3%)\rEpoch: 51.6%  lr: 0.045005  loss: 0.055215  eta: 0h12m  tot: 0h1m26s  (10.3%)\rEpoch: 51.7%  lr: 0.044985  loss: 0.055174  eta: 0h12m  tot: 0h1m26s  (10.3%)\rEpoch: 51.8%  lr: 0.044975  loss: 0.055129  eta: 0h12m  tot: 0h1m26s  (10.4%)\rEpoch: 51.9%  lr: 0.044975  loss: 0.055071  eta: 0h12m  tot: 0h1m26s  (10.4%)\rEpoch: 51.9%  lr: 0.044965  loss: 0.055019  eta: 0h12m  tot: 0h1m27s  (10.4%)\rEpoch: 52.0%  lr: 0.044965  loss: 0.054991  eta: 0h12m  tot: 0h1m27s  (10.4%)\rEpoch: 52.1%  lr: 0.044955  loss: 0.054974  eta: 0h12m  tot: 0h1m27s  (10.4%)\rEpoch: 52.2%  lr: 0.044935  loss: 0.054930  eta: 0h12m  tot: 0h1m27s  (10.4%)\rEpoch: 52.3%  lr: 0.044935  loss: 0.054938  eta: 0h12m  tot: 0h1m27s  (10.5%)\rEpoch: 52.4%  lr: 0.044925  loss: 0.054902  eta: 0h12m  tot: 0h1m27s  (10.5%)\rEpoch: 52.5%  lr: 0.044905  loss: 0.054861  eta: 0h12m  tot: 0h1m27s  (10.5%)\rEpoch: 52.6%  lr: 0.044895  loss: 0.054881  eta: 0h12m  tot: 0h1m28s  (10.5%)\rEpoch: 52.7%  lr: 0.044895  loss: 0.054880  eta: 0h12m  tot: 0h1m28s  (10.5%)\rEpoch: 52.8%  lr: 0.044895  loss: 0.054836  eta: 0h12m  tot: 0h1m28s  (10.6%)\rEpoch: 52.8%  lr: 0.044885  loss: 0.054774  eta: 0h12m  tot: 0h1m28s  (10.6%)\rEpoch: 52.9%  lr: 0.044885  loss: 0.054741  eta: 0h12m  tot: 0h1m28s  (10.6%)\rEpoch: 53.0%  lr: 0.044865  loss: 0.054701  eta: 0h12m  tot: 0h1m28s  (10.6%)\rEpoch: 53.1%  lr: 0.044855  loss: 0.054655  eta: 0h12m  tot: 0h1m28s  (10.6%)\rEpoch: 53.2%  lr: 0.044825  loss: 0.054637  eta: 0h12m  tot: 0h1m29s  (10.6%)\rEpoch: 53.3%  lr: 0.044815  loss: 0.054605  eta: 0h12m  tot: 0h1m29s  (10.7%)\rEpoch: 53.4%  lr: 0.044815  loss: 0.054576  eta: 0h12m  tot: 0h1m29s  (10.7%)\rEpoch: 53.5%  lr: 0.044815  loss: 0.054551  eta: 0h12m  tot: 0h1m29s  (10.7%)\rEpoch: 53.6%  lr: 0.044815  loss: 0.054492  eta: 0h12m  tot: 0h1m29s  (10.7%)\rEpoch: 53.7%  lr: 0.044805  loss: 0.054422  eta: 0h12m  tot: 0h1m29s  (10.7%)\rEpoch: 53.7%  lr: 0.044795  loss: 0.054379  eta: 0h12m  tot: 0h1m29s  (10.7%)\rEpoch: 53.8%  lr: 0.044785  loss: 0.054327  eta: 0h12m  tot: 0h1m30s  (10.8%)\rEpoch: 53.9%  lr: 0.044785  loss: 0.054282  eta: 0h12m  tot: 0h1m30s  (10.8%)\rEpoch: 54.0%  lr: 0.044785  loss: 0.054243  eta: 0h12m  tot: 0h1m30s  (10.8%)\rEpoch: 54.1%  lr: 0.044765  loss: 0.054205  eta: 0h12m  tot: 0h1m30s  (10.8%)\rEpoch: 54.2%  lr: 0.044755  loss: 0.054175  eta: 0h12m  tot: 0h1m30s  (10.8%)\rEpoch: 54.3%  lr: 0.044735  loss: 0.054110  eta: 0h12m  tot: 0h1m30s  (10.9%)\rEpoch: 54.4%  lr: 0.044725  loss: 0.054038  eta: 0h12m  tot: 0h1m30s  (10.9%)\rEpoch: 54.5%  lr: 0.044715  loss: 0.054032  eta: 0h12m  tot: 0h1m31s  (10.9%)\rEpoch: 54.6%  lr: 0.044715  loss: 0.053972  eta: 0h12m  tot: 0h1m31s  (10.9%)\rEpoch: 54.6%  lr: 0.044715  loss: 0.053930  eta: 0h12m  tot: 0h1m31s  (10.9%)\rEpoch: 54.7%  lr: 0.044705  loss: 0.053899  eta: 0h12m  tot: 0h1m31s  (10.9%)\rEpoch: 54.8%  lr: 0.044695  loss: 0.053855  eta: 0h12m  tot: 0h1m31s  (11.0%)\rEpoch: 54.9%  lr: 0.044685  loss: 0.053822  eta: 0h12m  tot: 0h1m31s  (11.0%)\rEpoch: 55.0%  lr: 0.044685  loss: 0.053792  eta: 0h12m  tot: 0h1m31s  (11.0%)\rEpoch: 55.1%  lr: 0.044675  loss: 0.053748  eta: 0h12m  tot: 0h1m32s  (11.0%)\rEpoch: 55.2%  lr: 0.044675  loss: 0.053736  eta: 0h12m  tot: 0h1m32s  (11.0%)\rEpoch: 55.3%  lr: 0.044665  loss: 0.053751  eta: 0h12m  tot: 0h1m32s  (11.1%)\rEpoch: 55.4%  lr: 0.044655  loss: 0.053724  eta: 0h12m  tot: 0h1m32s  (11.1%)\rEpoch: 55.5%  lr: 0.044645  loss: 0.053699  eta: 0h12m  tot: 0h1m32s  (11.1%)\rEpoch: 55.5%  lr: 0.044625  loss: 0.053666  eta: 0h12m  tot: 0h1m32s  (11.1%)\rEpoch: 55.6%  lr: 0.044625  loss: 0.053640  eta: 0h12m  tot: 0h1m32s  (11.1%)\rEpoch: 55.7%  lr: 0.044615  loss: 0.053632  eta: 0h12m  tot: 0h1m33s  (11.1%)\rEpoch: 55.8%  lr: 0.044605  loss: 0.053597  eta: 0h12m  tot: 0h1m33s  (11.2%)\rEpoch: 55.9%  lr: 0.044595  loss: 0.053576  eta: 0h12m  tot: 0h1m33s  (11.2%)\rEpoch: 56.0%  lr: 0.044575  loss: 0.053552  eta: 0h12m  tot: 0h1m33s  (11.2%)\rEpoch: 56.1%  lr: 0.044565  loss: 0.053534  eta: 0h12m  tot: 0h1m33s  (11.2%)\rEpoch: 56.2%  lr: 0.044565  loss: 0.053553  eta: 0h12m  tot: 0h1m33s  (11.2%)\rEpoch: 56.3%  lr: 0.044555  loss: 0.053536  eta: 0h12m  tot: 0h1m34s  (11.3%)\rEpoch: 56.4%  lr: 0.044535  loss: 0.053532  eta: 0h12m  tot: 0h1m34s  (11.3%)\rEpoch: 56.4%  lr: 0.044525  loss: 0.053489  eta: 0h12m  tot: 0h1m34s  (11.3%)\rEpoch: 56.5%  lr: 0.044525  loss: 0.053471  eta: 0h12m  tot: 0h1m34s  (11.3%)\rEpoch: 56.6%  lr: 0.044515  loss: 0.053420  eta: 0h12m  tot: 0h1m34s  (11.3%)\rEpoch: 56.7%  lr: 0.044515  loss: 0.053425  eta: 0h12m  tot: 0h1m34s  (11.3%)\rEpoch: 56.8%  lr: 0.044505  loss: 0.053387  eta: 0h12m  tot: 0h1m34s  (11.4%)\rEpoch: 56.9%  lr: 0.044505  loss: 0.053412  eta: 0h12m  tot: 0h1m35s  (11.4%)\rEpoch: 57.0%  lr: 0.044505  loss: 0.053348  eta: 0h12m  tot: 0h1m35s  (11.4%)\rEpoch: 57.1%  lr: 0.044485  loss: 0.053325  eta: 0h12m  tot: 0h1m35s  (11.4%)\rEpoch: 57.2%  lr: 0.044485  loss: 0.053332  eta: 0h12m  tot: 0h1m35s  (11.4%)\rEpoch: 57.3%  lr: 0.044475  loss: 0.053314  eta: 0h12m  tot: 0h1m35s  (11.5%)\rEpoch: 57.3%  lr: 0.044465  loss: 0.053277  eta: 0h12m  tot: 0h1m35s  (11.5%)\rEpoch: 57.4%  lr: 0.044465  loss: 0.053237  eta: 0h12m  tot: 0h1m35s  (11.5%)\rEpoch: 57.5%  lr: 0.044445  loss: 0.053248  eta: 0h12m  tot: 0h1m36s  (11.5%)\rEpoch: 57.6%  lr: 0.044445  loss: 0.053215  eta: 0h12m  tot: 0h1m36s  (11.5%)\rEpoch: 57.7%  lr: 0.044425  loss: 0.053177  eta: 0h12m  tot: 0h1m36s  (11.5%)\rEpoch: 57.8%  lr: 0.044415  loss: 0.053148  eta: 0h12m  tot: 0h1m36s  (11.6%)\rEpoch: 57.9%  lr: 0.044404  loss: 0.053100  eta: 0h12m  tot: 0h1m36s  (11.6%)\rEpoch: 58.0%  lr: 0.044394  loss: 0.053054  eta: 0h12m  tot: 0h1m36s  (11.6%)\rEpoch: 58.1%  lr: 0.044394  loss: 0.052999  eta: 0h12m  tot: 0h1m36s  (11.6%)\rEpoch: 58.2%  lr: 0.044394  loss: 0.052961  eta: 0h12m  tot: 0h1m37s  (11.6%)\rEpoch: 58.2%  lr: 0.044374  loss: 0.052940  eta: 0h12m  tot: 0h1m37s  (11.6%)\rEpoch: 58.3%  lr: 0.044364  loss: 0.052911  eta: 0h12m  tot: 0h1m37s  (11.7%)\rEpoch: 58.4%  lr: 0.044354  loss: 0.052928  eta: 0h12m  tot: 0h1m37s  (11.7%)\rEpoch: 58.5%  lr: 0.044354  loss: 0.052902  eta: 0h12m  tot: 0h1m37s  (11.7%)\rEpoch: 58.6%  lr: 0.044344  loss: 0.052848  eta: 0h12m  tot: 0h1m37s  (11.7%)\rEpoch: 58.7%  lr: 0.044334  loss: 0.052807  eta: 0h12m  tot: 0h1m37s  (11.7%)\rEpoch: 58.8%  lr: 0.044334  loss: 0.052754  eta: 0h12m  tot: 0h1m38s  (11.8%)\rEpoch: 58.9%  lr: 0.044314  loss: 0.052730  eta: 0h12m  tot: 0h1m38s  (11.8%)\rEpoch: 59.0%  lr: 0.044284  loss: 0.052721  eta: 0h12m  tot: 0h1m38s  (11.8%)\rEpoch: 59.1%  lr: 0.044264  loss: 0.052671  eta: 0h12m  tot: 0h1m38s  (11.8%)\rEpoch: 59.1%  lr: 0.044234  loss: 0.052637  eta: 0h12m  tot: 0h1m38s  (11.8%)\rEpoch: 59.2%  lr: 0.044234  loss: 0.052598  eta: 0h12m  tot: 0h1m38s  (11.8%)\rEpoch: 59.3%  lr: 0.044234  loss: 0.052586  eta: 0h12m  tot: 0h1m38s  (11.9%)\rEpoch: 59.4%  lr: 0.044224  loss: 0.052562  eta: 0h12m  tot: 0h1m39s  (11.9%)\rEpoch: 59.5%  lr: 0.044214  loss: 0.052528  eta: 0h12m  tot: 0h1m39s  (11.9%)\rEpoch: 59.6%  lr: 0.044184  loss: 0.052519  eta: 0h12m  tot: 0h1m39s  (11.9%)\rEpoch: 59.7%  lr: 0.044184  loss: 0.052497  eta: 0h12m  tot: 0h1m39s  (11.9%)\rEpoch: 59.8%  lr: 0.044164  loss: 0.052462  eta: 0h12m  tot: 0h1m39s  (12.0%)\rEpoch: 59.9%  lr: 0.044164  loss: 0.052443  eta: 0h12m  tot: 0h1m39s  (12.0%)\rEpoch: 60.0%  lr: 0.044154  loss: 0.052390  eta: 0h12m  tot: 0h1m39s  (12.0%)\rEpoch: 60.0%  lr: 0.044154  loss: 0.052406  eta: 0h12m  tot: 0h1m40s  (12.0%)\rEpoch: 60.1%  lr: 0.044154  loss: 0.052363  eta: 0h12m  tot: 0h1m40s  (12.0%)\rEpoch: 60.2%  lr: 0.044144  loss: 0.052333  eta: 0h12m  tot: 0h1m40s  (12.0%)\rEpoch: 60.3%  lr: 0.044124  loss: 0.052292  eta: 0h12m  tot: 0h1m40s  (12.1%)\rEpoch: 60.4%  lr: 0.044124  loss: 0.052263  eta: 0h12m  tot: 0h1m40s  (12.1%)\rEpoch: 60.5%  lr: 0.044114  loss: 0.052268  eta: 0h12m  tot: 0h1m40s  (12.1%)\rEpoch: 60.6%  lr: 0.044104  loss: 0.052226  eta: 0h12m  tot: 0h1m40s  (12.1%)\rEpoch: 60.7%  lr: 0.044084  loss: 0.052191  eta: 0h12m  tot: 0h1m41s  (12.1%)\rEpoch: 60.8%  lr: 0.044084  loss: 0.052173  eta: 0h12m  tot: 0h1m41s  (12.2%)\rEpoch: 60.9%  lr: 0.044074  loss: 0.052165  eta: 0h12m  tot: 0h1m41s  (12.2%)\rEpoch: 60.9%  lr: 0.044074  loss: 0.052117  eta: 0h12m  tot: 0h1m41s  (12.2%)\rEpoch: 61.0%  lr: 0.044074  loss: 0.052074  eta: 0h12m  tot: 0h1m41s  (12.2%)\rEpoch: 61.1%  lr: 0.044054  loss: 0.052044  eta: 0h12m  tot: 0h1m41s  (12.2%)\rEpoch: 61.2%  lr: 0.044044  loss: 0.052006  eta: 0h12m  tot: 0h1m41s  (12.2%)\rEpoch: 61.3%  lr: 0.044024  loss: 0.051948  eta: 0h12m  tot: 0h1m42s  (12.3%)\rEpoch: 61.4%  lr: 0.044014  loss: 0.051919  eta: 0h12m  tot: 0h1m42s  (12.3%)\rEpoch: 61.5%  lr: 0.044004  loss: 0.051917  eta: 0h12m  tot: 0h1m42s  (12.3%)\rEpoch: 61.6%  lr: 0.043954  loss: 0.051885  eta: 0h12m  tot: 0h1m42s  (12.3%)\rEpoch: 61.7%  lr: 0.043934  loss: 0.051847  eta: 0h12m  tot: 0h1m42s  (12.3%)\rEpoch: 61.8%  lr: 0.043934  loss: 0.051824  eta: 0h12m  tot: 0h1m42s  (12.4%)\rEpoch: 61.8%  lr: 0.043924  loss: 0.051801  eta: 0h12m  tot: 0h1m42s  (12.4%)\rEpoch: 61.9%  lr: 0.043904  loss: 0.051785  eta: 0h12m  tot: 0h1m43s  (12.4%)\rEpoch: 62.0%  lr: 0.043894  loss: 0.051738  eta: 0h12m  tot: 0h1m43s  (12.4%)\rEpoch: 62.1%  lr: 0.043894  loss: 0.051715  eta: 0h12m  tot: 0h1m43s  (12.4%)\rEpoch: 62.2%  lr: 0.043864  loss: 0.051708  eta: 0h12m  tot: 0h1m43s  (12.4%)\rEpoch: 62.3%  lr: 0.043864  loss: 0.051682  eta: 0h12m  tot: 0h1m43s  (12.5%)\rEpoch: 62.4%  lr: 0.043864  loss: 0.051648  eta: 0h12m  tot: 0h1m43s  (12.5%)\rEpoch: 62.5%  lr: 0.043854  loss: 0.051615  eta: 0h12m  tot: 0h1m43s  (12.5%)\rEpoch: 62.6%  lr: 0.043854  loss: 0.051575  eta: 0h12m  tot: 0h1m44s  (12.5%)\rEpoch: 62.7%  lr: 0.043844  loss: 0.051548  eta: 0h12m  tot: 0h1m44s  (12.5%)\rEpoch: 62.7%  lr: 0.043834  loss: 0.051540  eta: 0h12m  tot: 0h1m44s  (12.5%)\rEpoch: 62.8%  lr: 0.043824  loss: 0.051498  eta: 0h12m  tot: 0h1m44s  (12.6%)\rEpoch: 62.9%  lr: 0.043804  loss: 0.051463  eta: 0h12m  tot: 0h1m44s  (12.6%)\rEpoch: 63.0%  lr: 0.043784  loss: 0.051436  eta: 0h12m  tot: 0h1m44s  (12.6%)\rEpoch: 63.1%  lr: 0.043784  loss: 0.051397  eta: 0h12m  tot: 0h1m44s  (12.6%)\rEpoch: 63.2%  lr: 0.043764  loss: 0.051356  eta: 0h12m  tot: 0h1m45s  (12.6%)\rEpoch: 63.3%  lr: 0.043724  loss: 0.051318  eta: 0h12m  tot: 0h1m45s  (12.7%)\rEpoch: 63.4%  lr: 0.043714  loss: 0.051290  eta: 0h12m  tot: 0h1m45s  (12.7%)\rEpoch: 63.5%  lr: 0.043704  loss: 0.051275  eta: 0h12m  tot: 0h1m45s  (12.7%)\rEpoch: 63.6%  lr: 0.043694  loss: 0.051231  eta: 0h12m  tot: 0h1m45s  (12.7%)\rEpoch: 63.6%  lr: 0.043694  loss: 0.051213  eta: 0h12m  tot: 0h1m45s  (12.7%)\rEpoch: 63.7%  lr: 0.043684  loss: 0.051203  eta: 0h12m  tot: 0h1m45s  (12.7%)\rEpoch: 63.8%  lr: 0.043684  loss: 0.051179  eta: 0h12m  tot: 0h1m46s  (12.8%)\rEpoch: 63.9%  lr: 0.043684  loss: 0.051131  eta: 0h12m  tot: 0h1m46s  (12.8%)\rEpoch: 64.0%  lr: 0.043684  loss: 0.051108  eta: 0h12m  tot: 0h1m46s  (12.8%)\rEpoch: 64.1%  lr: 0.043684  loss: 0.051070  eta: 0h12m  tot: 0h1m46s  (12.8%)\rEpoch: 64.2%  lr: 0.043674  loss: 0.051046  eta: 0h12m  tot: 0h1m46s  (12.8%)\rEpoch: 64.3%  lr: 0.043674  loss: 0.051016  eta: 0h12m  tot: 0h1m46s  (12.9%)\rEpoch: 64.4%  lr: 0.043674  loss: 0.050983  eta: 0h12m  tot: 0h1m46s  (12.9%)\rEpoch: 64.5%  lr: 0.043654  loss: 0.050977  eta: 0h12m  tot: 0h1m47s  (12.9%)\rEpoch: 64.5%  lr: 0.043644  loss: 0.050949  eta: 0h12m  tot: 0h1m47s  (12.9%)\rEpoch: 64.6%  lr: 0.043634  loss: 0.050935  eta: 0h12m  tot: 0h1m47s  (12.9%)\rEpoch: 64.7%  lr: 0.043624  loss: 0.050900  eta: 0h12m  tot: 0h1m47s  (12.9%)\rEpoch: 64.8%  lr: 0.043614  loss: 0.050868  eta: 0h12m  tot: 0h1m47s  (13.0%)\rEpoch: 64.9%  lr: 0.043594  loss: 0.050850  eta: 0h12m  tot: 0h1m47s  (13.0%)\rEpoch: 65.0%  lr: 0.043584  loss: 0.050810  eta: 0h12m  tot: 0h1m47s  (13.0%)\rEpoch: 65.1%  lr: 0.043584  loss: 0.050794  eta: 0h12m  tot: 0h1m48s  (13.0%)\rEpoch: 65.2%  lr: 0.043564  loss: 0.050772  eta: 0h12m  tot: 0h1m48s  (13.0%)\rEpoch: 65.3%  lr: 0.043554  loss: 0.050743  eta: 0h12m  tot: 0h1m48s  (13.1%)\rEpoch: 65.4%  lr: 0.043544  loss: 0.050718  eta: 0h12m  tot: 0h1m48s  (13.1%)\rEpoch: 65.4%  lr: 0.043544  loss: 0.050695  eta: 0h12m  tot: 0h1m48s  (13.1%)\rEpoch: 65.5%  lr: 0.043534  loss: 0.050677  eta: 0h12m  tot: 0h1m48s  (13.1%)\rEpoch: 65.6%  lr: 0.043524  loss: 0.050653  eta: 0h12m  tot: 0h1m48s  (13.1%)\rEpoch: 65.7%  lr: 0.043494  loss: 0.050609  eta: 0h12m  tot: 0h1m49s  (13.1%)\rEpoch: 65.8%  lr: 0.043484  loss: 0.050592  eta: 0h12m  tot: 0h1m49s  (13.2%)\rEpoch: 65.9%  lr: 0.043484  loss: 0.050575  eta: 0h12m  tot: 0h1m49s  (13.2%)\rEpoch: 66.0%  lr: 0.043484  loss: 0.050549  eta: 0h12m  tot: 0h1m49s  (13.2%)\rEpoch: 66.1%  lr: 0.043484  loss: 0.050518  eta: 0h11m  tot: 0h1m49s  (13.2%)\rEpoch: 66.2%  lr: 0.043464  loss: 0.050492  eta: 0h11m  tot: 0h1m49s  (13.2%)\rEpoch: 66.3%  lr: 0.043464  loss: 0.050440  eta: 0h11m  tot: 0h1m49s  (13.3%)\rEpoch: 66.3%  lr: 0.043454  loss: 0.050418  eta: 0h11m  tot: 0h1m50s  (13.3%)\rEpoch: 66.4%  lr: 0.043444  loss: 0.050410  eta: 0h11m  tot: 0h1m50s  (13.3%)\rEpoch: 66.5%  lr: 0.043424  loss: 0.050387  eta: 0h11m  tot: 0h1m50s  (13.3%)\rEpoch: 66.6%  lr: 0.043404  loss: 0.050383  eta: 0h11m  tot: 0h1m50s  (13.3%)\rEpoch: 66.7%  lr: 0.043393  loss: 0.050329  eta: 0h11m  tot: 0h1m50s  (13.3%)\rEpoch: 66.8%  lr: 0.043373  loss: 0.050306  eta: 0h11m  tot: 0h1m50s  (13.4%)\rEpoch: 66.9%  lr: 0.043363  loss: 0.050276  eta: 0h11m  tot: 0h1m50s  (13.4%)\rEpoch: 67.0%  lr: 0.043363  loss: 0.050224  eta: 0h11m  tot: 0h1m51s  (13.4%)\rEpoch: 67.1%  lr: 0.043363  loss: 0.050211  eta: 0h11m  tot: 0h1m51s  (13.4%)\rEpoch: 67.2%  lr: 0.043333  loss: 0.050204  eta: 0h11m  tot: 0h1m51s  (13.4%)\rEpoch: 67.2%  lr: 0.043333  loss: 0.050162  eta: 0h11m  tot: 0h1m51s  (13.4%)\rEpoch: 67.3%  lr: 0.043333  loss: 0.050131  eta: 0h11m  tot: 0h1m51s  (13.5%)\rEpoch: 67.4%  lr: 0.043333  loss: 0.050098  eta: 0h11m  tot: 0h1m51s  (13.5%)\rEpoch: 67.5%  lr: 0.043313  loss: 0.050071  eta: 0h11m  tot: 0h1m51s  (13.5%)\rEpoch: 67.6%  lr: 0.043313  loss: 0.050034  eta: 0h11m  tot: 0h1m52s  (13.5%)\rEpoch: 67.7%  lr: 0.043293  loss: 0.050001  eta: 0h11m  tot: 0h1m52s  (13.5%)\rEpoch: 67.8%  lr: 0.043283  loss: 0.049997  eta: 0h11m  tot: 0h1m52s  (13.6%)\rEpoch: 67.9%  lr: 0.043253  loss: 0.049993  eta: 0h11m  tot: 0h1m52s  (13.6%)\rEpoch: 68.0%  lr: 0.043233  loss: 0.050005  eta: 0h11m  tot: 0h1m52s  (13.6%)\rEpoch: 68.1%  lr: 0.043223  loss: 0.049984  eta: 0h11m  tot: 0h1m52s  (13.6%)\rEpoch: 68.1%  lr: 0.043223  loss: 0.049936  eta: 0h11m  tot: 0h1m52s  (13.6%)\rEpoch: 68.2%  lr: 0.043223  loss: 0.049917  eta: 0h11m  tot: 0h1m53s  (13.6%)\rEpoch: 68.3%  lr: 0.043213  loss: 0.049916  eta: 0h11m  tot: 0h1m53s  (13.7%)\rEpoch: 68.4%  lr: 0.043193  loss: 0.049887  eta: 0h11m  tot: 0h1m53s  (13.7%)\rEpoch: 68.5%  lr: 0.043183  loss: 0.049842  eta: 0h11m  tot: 0h1m53s  (13.7%)\rEpoch: 68.6%  lr: 0.043183  loss: 0.049811  eta: 0h11m  tot: 0h1m53s  (13.7%)\rEpoch: 68.7%  lr: 0.043173  loss: 0.049764  eta: 0h11m  tot: 0h1m53s  (13.7%)\rEpoch: 68.8%  lr: 0.043163  loss: 0.049723  eta: 0h11m  tot: 0h1m53s  (13.8%)\rEpoch: 68.9%  lr: 0.043163  loss: 0.049683  eta: 0h11m  tot: 0h1m53s  (13.8%)\rEpoch: 69.0%  lr: 0.043163  loss: 0.049662  eta: 0h11m  tot: 0h1m54s  (13.8%)\rEpoch: 69.0%  lr: 0.043153  loss: 0.049629  eta: 0h11m  tot: 0h1m54s  (13.8%)\rEpoch: 69.1%  lr: 0.043143  loss: 0.049614  eta: 0h11m  tot: 0h1m54s  (13.8%)\rEpoch: 69.2%  lr: 0.043123  loss: 0.049572  eta: 0h11m  tot: 0h1m54s  (13.8%)\rEpoch: 69.3%  lr: 0.043113  loss: 0.049543  eta: 0h11m  tot: 0h1m54s  (13.9%)\rEpoch: 69.4%  lr: 0.043113  loss: 0.049511  eta: 0h11m  tot: 0h1m54s  (13.9%)\rEpoch: 69.5%  lr: 0.043103  loss: 0.049469  eta: 0h11m  tot: 0h1m54s  (13.9%)\rEpoch: 69.6%  lr: 0.043103  loss: 0.049431  eta: 0h11m  tot: 0h1m55s  (13.9%)\rEpoch: 69.7%  lr: 0.043103  loss: 0.049418  eta: 0h11m  tot: 0h1m55s  (13.9%)\rEpoch: 69.8%  lr: 0.043103  loss: 0.049396  eta: 0h11m  tot: 0h1m55s  (14.0%)\rEpoch: 69.9%  lr: 0.043103  loss: 0.049363  eta: 0h11m  tot: 0h1m55s  (14.0%)\rEpoch: 69.9%  lr: 0.043103  loss: 0.049356  eta: 0h11m  tot: 0h1m55s  (14.0%)\rEpoch: 70.0%  lr: 0.043093  loss: 0.049316  eta: 0h11m  tot: 0h1m55s  (14.0%)\rEpoch: 70.1%  lr: 0.043073  loss: 0.049293  eta: 0h11m  tot: 0h1m56s  (14.0%)\rEpoch: 70.2%  lr: 0.043063  loss: 0.049283  eta: 0h11m  tot: 0h1m56s  (14.0%)\rEpoch: 70.3%  lr: 0.043053  loss: 0.049251  eta: 0h11m  tot: 0h1m56s  (14.1%)\rEpoch: 70.4%  lr: 0.043043  loss: 0.049241  eta: 0h11m  tot: 0h1m56s  (14.1%)\rEpoch: 70.5%  lr: 0.043043  loss: 0.049219  eta: 0h11m  tot: 0h1m56s  (14.1%)\rEpoch: 70.6%  lr: 0.043033  loss: 0.049202  eta: 0h11m  tot: 0h1m56s  (14.1%)\rEpoch: 70.7%  lr: 0.043023  loss: 0.049165  eta: 0h11m  tot: 0h1m56s  (14.1%)\rEpoch: 70.8%  lr: 0.042983  loss: 0.049116  eta: 0h11m  tot: 0h1m57s  (14.2%)\rEpoch: 70.8%  lr: 0.042983  loss: 0.049090  eta: 0h11m  tot: 0h1m57s  (14.2%)\rEpoch: 70.9%  lr: 0.042983  loss: 0.049076  eta: 0h11m  tot: 0h1m57s  (14.2%)\rEpoch: 71.0%  lr: 0.042983  loss: 0.049075  eta: 0h11m  tot: 0h1m57s  (14.2%)\rEpoch: 71.1%  lr: 0.042983  loss: 0.049056  eta: 0h11m  tot: 0h1m57s  (14.2%)\rEpoch: 71.2%  lr: 0.042983  loss: 0.049028  eta: 0h11m  tot: 0h1m57s  (14.2%)\rEpoch: 71.3%  lr: 0.042973  loss: 0.049043  eta: 0h11m  tot: 0h1m57s  (14.3%)\rEpoch: 71.4%  lr: 0.042973  loss: 0.049035  eta: 0h11m  tot: 0h1m58s  (14.3%)\rEpoch: 71.5%  lr: 0.042973  loss: 0.049006  eta: 0h11m  tot: 0h1m58s  (14.3%)\rEpoch: 71.6%  lr: 0.042963  loss: 0.048987  eta: 0h11m  tot: 0h1m58s  (14.3%)\rEpoch: 71.7%  lr: 0.042933  loss: 0.048962  eta: 0h11m  tot: 0h1m58s  (14.3%)\rEpoch: 71.7%  lr: 0.042933  loss: 0.048935  eta: 0h11m  tot: 0h1m58s  (14.3%)\rEpoch: 71.8%  lr: 0.042923  loss: 0.048908  eta: 0h11m  tot: 0h1m58s  (14.4%)\rEpoch: 71.9%  lr: 0.042913  loss: 0.048872  eta: 0h11m  tot: 0h1m58s  (14.4%)\rEpoch: 72.0%  lr: 0.042913  loss: 0.048873  eta: 0h11m  tot: 0h1m59s  (14.4%)\rEpoch: 72.1%  lr: 0.042893  loss: 0.048836  eta: 0h11m  tot: 0h1m59s  (14.4%)\rEpoch: 72.2%  lr: 0.042893  loss: 0.048821  eta: 0h11m  tot: 0h1m59s  (14.4%)\rEpoch: 72.3%  lr: 0.042893  loss: 0.048798  eta: 0h11m  tot: 0h1m59s  (14.5%)\rEpoch: 72.4%  lr: 0.042883  loss: 0.048782  eta: 0h11m  tot: 0h1m59s  (14.5%)\rEpoch: 72.5%  lr: 0.042883  loss: 0.048744  eta: 0h11m  tot: 0h1m59s  (14.5%)\rEpoch: 72.6%  lr: 0.042883  loss: 0.048717  eta: 0h11m  tot: 0h1m59s  (14.5%)\rEpoch: 72.6%  lr: 0.042863  loss: 0.048676  eta: 0h11m  tot: 0h2m0s  (14.5%)\rEpoch: 72.7%  lr: 0.042853  loss: 0.048636  eta: 0h11m  tot: 0h2m0s  (14.5%)\rEpoch: 72.8%  lr: 0.042833  loss: 0.048595  eta: 0h11m  tot: 0h2m0s  (14.6%)\rEpoch: 72.9%  lr: 0.042823  loss: 0.048587  eta: 0h11m  tot: 0h2m0s  (14.6%)\rEpoch: 73.0%  lr: 0.042823  loss: 0.048547  eta: 0h11m  tot: 0h2m0s  (14.6%)\rEpoch: 73.1%  lr: 0.042813  loss: 0.048528  eta: 0h11m  tot: 0h2m0s  (14.6%)\rEpoch: 73.2%  lr: 0.042793  loss: 0.048503  eta: 0h11m  tot: 0h2m0s  (14.6%)\rEpoch: 73.3%  lr: 0.042773  loss: 0.048476  eta: 0h11m  tot: 0h2m1s  (14.7%)\rEpoch: 73.4%  lr: 0.042763  loss: 0.048439  eta: 0h11m  tot: 0h2m1s  (14.7%)\rEpoch: 73.5%  lr: 0.042753  loss: 0.048425  eta: 0h11m  tot: 0h2m1s  (14.7%)\rEpoch: 73.5%  lr: 0.042753  loss: 0.048403  eta: 0h11m  tot: 0h2m1s  (14.7%)\rEpoch: 73.6%  lr: 0.042743  loss: 0.048387  eta: 0h11m  tot: 0h2m1s  (14.7%)\rEpoch: 73.7%  lr: 0.042733  loss: 0.048368  eta: 0h11m  tot: 0h2m1s  (14.7%)\rEpoch: 73.8%  lr: 0.042723  loss: 0.048344  eta: 0h11m  tot: 0h2m1s  (14.8%)\rEpoch: 73.9%  lr: 0.042713  loss: 0.048320  eta: 0h11m  tot: 0h2m2s  (14.8%)\rEpoch: 74.0%  lr: 0.042703  loss: 0.048290  eta: 0h11m  tot: 0h2m2s  (14.8%)\rEpoch: 74.1%  lr: 0.042703  loss: 0.048268  eta: 0h11m  tot: 0h2m2s  (14.8%)\rEpoch: 74.2%  lr: 0.042683  loss: 0.048245  eta: 0h11m  tot: 0h2m2s  (14.8%)\rEpoch: 74.3%  lr: 0.042683  loss: 0.048223  eta: 0h11m  tot: 0h2m2s  (14.9%)\rEpoch: 74.4%  lr: 0.042673  loss: 0.048198  eta: 0h11m  tot: 0h2m2s  (14.9%)\rEpoch: 74.4%  lr: 0.042663  loss: 0.048171  eta: 0h11m  tot: 0h2m3s  (14.9%)\rEpoch: 74.5%  lr: 0.042653  loss: 0.048143  eta: 0h11m  tot: 0h2m3s  (14.9%)\rEpoch: 74.6%  lr: 0.042633  loss: 0.048097  eta: 0h11m  tot: 0h2m3s  (14.9%)\rEpoch: 74.7%  lr: 0.042623  loss: 0.048080  eta: 0h11m  tot: 0h2m3s  (14.9%)\rEpoch: 74.8%  lr: 0.042623  loss: 0.048062  eta: 0h11m  tot: 0h2m3s  (15.0%)\rEpoch: 74.9%  lr: 0.042623  loss: 0.048043  eta: 0h11m  tot: 0h2m3s  (15.0%)\rEpoch: 75.0%  lr: 0.042623  loss: 0.048026  eta: 0h11m  tot: 0h2m3s  (15.0%)\rEpoch: 75.1%  lr: 0.042613  loss: 0.048042  eta: 0h11m  tot: 0h2m4s  (15.0%)\rEpoch: 75.2%  lr: 0.042603  loss: 0.048025  eta: 0h11m  tot: 0h2m4s  (15.0%)\rEpoch: 75.3%  lr: 0.042603  loss: 0.047996  eta: 0h11m  tot: 0h2m4s  (15.1%)\rEpoch: 75.3%  lr: 0.042603  loss: 0.047966  eta: 0h11m  tot: 0h2m4s  (15.1%)\rEpoch: 75.4%  lr: 0.042593  loss: 0.047945  eta: 0h11m  tot: 0h2m4s  (15.1%)\rEpoch: 75.5%  lr: 0.042573  loss: 0.047916  eta: 0h11m  tot: 0h2m4s  (15.1%)\rEpoch: 75.6%  lr: 0.042563  loss: 0.047882  eta: 0h11m  tot: 0h2m5s  (15.1%)\rEpoch: 75.7%  lr: 0.042563  loss: 0.047857  eta: 0h11m  tot: 0h2m5s  (15.1%)\rEpoch: 75.8%  lr: 0.042563  loss: 0.047855  eta: 0h11m  tot: 0h2m5s  (15.2%)\rEpoch: 75.9%  lr: 0.042563  loss: 0.047838  eta: 0h11m  tot: 0h2m5s  (15.2%)\rEpoch: 76.0%  lr: 0.042563  loss: 0.047837  eta: 0h11m  tot: 0h2m5s  (15.2%)\rEpoch: 76.1%  lr: 0.042563  loss: 0.047812  eta: 0h11m  tot: 0h2m5s  (15.2%)\rEpoch: 76.2%  lr: 0.042563  loss: 0.047780  eta: 0h11m  tot: 0h2m6s  (15.2%)\rEpoch: 76.2%  lr: 0.042563  loss: 0.047769  eta: 0h11m  tot: 0h2m6s  (15.2%)\rEpoch: 76.3%  lr: 0.042543  loss: 0.047736  eta: 0h11m  tot: 0h2m6s  (15.3%)\rEpoch: 76.4%  lr: 0.042543  loss: 0.047725  eta: 0h11m  tot: 0h2m6s  (15.3%)\rEpoch: 76.5%  lr: 0.042523  loss: 0.047694  eta: 0h11m  tot: 0h2m6s  (15.3%)\rEpoch: 76.6%  lr: 0.042523  loss: 0.047677  eta: 0h11m  tot: 0h2m6s  (15.3%)\rEpoch: 76.7%  lr: 0.042523  loss: 0.047640  eta: 0h11m  tot: 0h2m6s  (15.3%)\rEpoch: 76.8%  lr: 0.042523  loss: 0.047619  eta: 0h11m  tot: 0h2m7s  (15.4%)\rEpoch: 76.9%  lr: 0.042523  loss: 0.047577  eta: 0h11m  tot: 0h2m7s  (15.4%)\rEpoch: 77.0%  lr: 0.042513  loss: 0.047558  eta: 0h11m  tot: 0h2m7s  (15.4%)\rEpoch: 77.1%  lr: 0.042503  loss: 0.047529  eta: 0h11m  tot: 0h2m7s  (15.4%)\rEpoch: 77.1%  lr: 0.042473  loss: 0.047510  eta: 0h11m  tot: 0h2m7s  (15.4%)\rEpoch: 77.2%  lr: 0.042443  loss: 0.047486  eta: 0h11m  tot: 0h2m7s  (15.4%)\rEpoch: 77.3%  lr: 0.042433  loss: 0.047462  eta: 0h11m  tot: 0h2m8s  (15.5%)\rEpoch: 77.4%  lr: 0.042433  loss: 0.047460  eta: 0h11m  tot: 0h2m8s  (15.5%)\rEpoch: 77.5%  lr: 0.042423  loss: 0.047429  eta: 0h11m  tot: 0h2m8s  (15.5%)\rEpoch: 77.6%  lr: 0.042423  loss: 0.047436  eta: 0h11m  tot: 0h2m8s  (15.5%)\rEpoch: 77.7%  lr: 0.042413  loss: 0.047416  eta: 0h11m  tot: 0h2m8s  (15.5%)\rEpoch: 77.8%  lr: 0.042413  loss: 0.047404  eta: 0h11m  tot: 0h2m8s  (15.6%)\rEpoch: 77.9%  lr: 0.042372  loss: 0.047414  eta: 0h11m  tot: 0h2m8s  (15.6%)\rEpoch: 78.0%  lr: 0.042362  loss: 0.047401  eta: 0h11m  tot: 0h2m9s  (15.6%)\rEpoch: 78.0%  lr: 0.042342  loss: 0.047374  eta: 0h11m  tot: 0h2m9s  (15.6%)\rEpoch: 78.1%  lr: 0.042322  loss: 0.047369  eta: 0h11m  tot: 0h2m9s  (15.6%)\rEpoch: 78.2%  lr: 0.042312  loss: 0.047354  eta: 0h11m  tot: 0h2m9s  (15.6%)\rEpoch: 78.3%  lr: 0.042302  loss: 0.047346  eta: 0h11m  tot: 0h2m9s  (15.7%)\rEpoch: 78.4%  lr: 0.042302  loss: 0.047326  eta: 0h11m  tot: 0h2m9s  (15.7%)\rEpoch: 78.5%  lr: 0.042292  loss: 0.047297  eta: 0h11m  tot: 0h2m9s  (15.7%)\rEpoch: 78.6%  lr: 0.042282  loss: 0.047255  eta: 0h11m  tot: 0h2m10s  (15.7%)\rEpoch: 78.7%  lr: 0.042272  loss: 0.047243  eta: 0h11m  tot: 0h2m10s  (15.7%)\rEpoch: 78.8%  lr: 0.042252  loss: 0.047218  eta: 0h11m  tot: 0h2m10s  (15.8%)\rEpoch: 78.9%  lr: 0.042252  loss: 0.047188  eta: 0h11m  tot: 0h2m10s  (15.8%)\rEpoch: 78.9%  lr: 0.042242  loss: 0.047171  eta: 0h11m  tot: 0h2m10s  (15.8%)\rEpoch: 79.0%  lr: 0.042242  loss: 0.047149  eta: 0h11m  tot: 0h2m10s  (15.8%)\rEpoch: 79.1%  lr: 0.042222  loss: 0.047140  eta: 0h11m  tot: 0h2m10s  (15.8%)\rEpoch: 79.2%  lr: 0.042212  loss: 0.047107  eta: 0h11m  tot: 0h2m11s  (15.8%)\rEpoch: 79.3%  lr: 0.042212  loss: 0.047087  eta: 0h11m  tot: 0h2m11s  (15.9%)\rEpoch: 79.4%  lr: 0.042202  loss: 0.047080  eta: 0h11m  tot: 0h2m11s  (15.9%)\rEpoch: 79.5%  lr: 0.042202  loss: 0.047087  eta: 0h11m  tot: 0h2m11s  (15.9%)\rEpoch: 79.6%  lr: 0.042192  loss: 0.047083  eta: 0h11m  tot: 0h2m11s  (15.9%)\rEpoch: 79.7%  lr: 0.042192  loss: 0.047065  eta: 0h11m  tot: 0h2m11s  (15.9%)\rEpoch: 79.8%  lr: 0.042162  loss: 0.047044  eta: 0h11m  tot: 0h2m12s  (16.0%)\rEpoch: 79.9%  lr: 0.042162  loss: 0.047028  eta: 0h11m  tot: 0h2m12s  (16.0%)\rEpoch: 79.9%  lr: 0.042142  loss: 0.047011  eta: 0h11m  tot: 0h2m12s  (16.0%)\rEpoch: 80.0%  lr: 0.042122  loss: 0.046990  eta: 0h11m  tot: 0h2m12s  (16.0%)\rEpoch: 80.1%  lr: 0.042112  loss: 0.046975  eta: 0h11m  tot: 0h2m12s  (16.0%)\rEpoch: 80.2%  lr: 0.042112  loss: 0.046960  eta: 0h11m  tot: 0h2m12s  (16.0%)\rEpoch: 80.3%  lr: 0.042112  loss: 0.046938  eta: 0h11m  tot: 0h2m12s  (16.1%)\rEpoch: 80.4%  lr: 0.042102  loss: 0.046911  eta: 0h11m  tot: 0h2m13s  (16.1%)\rEpoch: 80.5%  lr: 0.042082  loss: 0.046891  eta: 0h11m  tot: 0h2m13s  (16.1%)\rEpoch: 80.6%  lr: 0.042072  loss: 0.046886  eta: 0h11m  tot: 0h2m13s  (16.1%)\rEpoch: 80.7%  lr: 0.042052  loss: 0.046877  eta: 0h11m  tot: 0h2m13s  (16.1%)\rEpoch: 80.8%  lr: 0.042052  loss: 0.046863  eta: 0h11m  tot: 0h2m13s  (16.2%)\rEpoch: 80.8%  lr: 0.042052  loss: 0.046840  eta: 0h11m  tot: 0h2m13s  (16.2%)\rEpoch: 80.9%  lr: 0.042052  loss: 0.046823  eta: 0h11m  tot: 0h2m13s  (16.2%)\rEpoch: 81.0%  lr: 0.042052  loss: 0.046808  eta: 0h11m  tot: 0h2m14s  (16.2%)\rEpoch: 81.1%  lr: 0.042052  loss: 0.046765  eta: 0h11m  tot: 0h2m14s  (16.2%)\rEpoch: 81.2%  lr: 0.042012  loss: 0.046729  eta: 0h11m  tot: 0h2m14s  (16.2%)\rEpoch: 81.3%  lr: 0.042002  loss: 0.046704  eta: 0h11m  tot: 0h2m14s  (16.3%)\rEpoch: 81.4%  lr: 0.042002  loss: 0.046691  eta: 0h11m  tot: 0h2m14s  (16.3%)\rEpoch: 81.5%  lr: 0.041972  loss: 0.046660  eta: 0h11m  tot: 0h2m14s  (16.3%)\rEpoch: 81.6%  lr: 0.041952  loss: 0.046632  eta: 0h11m  tot: 0h2m15s  (16.3%)\rEpoch: 81.7%  lr: 0.041952  loss: 0.046609  eta: 0h11m  tot: 0h2m15s  (16.3%)\rEpoch: 81.7%  lr: 0.041952  loss: 0.046597  eta: 0h11m  tot: 0h2m15s  (16.3%)\rEpoch: 81.8%  lr: 0.041952  loss: 0.046561  eta: 0h11m  tot: 0h2m15s  (16.4%)\rEpoch: 81.9%  lr: 0.041942  loss: 0.046570  eta: 0h11m  tot: 0h2m15s  (16.4%)\rEpoch: 82.0%  lr: 0.041942  loss: 0.046544  eta: 0h11m  tot: 0h2m15s  (16.4%)\rEpoch: 82.1%  lr: 0.041942  loss: 0.046511  eta: 0h11m  tot: 0h2m15s  (16.4%)\rEpoch: 82.2%  lr: 0.041922  loss: 0.046497  eta: 0h11m  tot: 0h2m16s  (16.4%)\rEpoch: 82.3%  lr: 0.041922  loss: 0.046463  eta: 0h11m  tot: 0h2m16s  (16.5%)\rEpoch: 82.4%  lr: 0.041922  loss: 0.046462  eta: 0h11m  tot: 0h2m16s  (16.5%)\rEpoch: 82.5%  lr: 0.041922  loss: 0.046445  eta: 0h11m  tot: 0h2m16s  (16.5%)\rEpoch: 82.6%  lr: 0.041902  loss: 0.046445  eta: 0h11m  tot: 0h2m16s  (16.5%)\rEpoch: 82.6%  lr: 0.041882  loss: 0.046413  eta: 0h11m  tot: 0h2m16s  (16.5%)\rEpoch: 82.7%  lr: 0.041882  loss: 0.046392  eta: 0h11m  tot: 0h2m16s  (16.5%)\rEpoch: 82.8%  lr: 0.041872  loss: 0.046404  eta: 0h11m  tot: 0h2m17s  (16.6%)\rEpoch: 82.9%  lr: 0.041862  loss: 0.046371  eta: 0h11m  tot: 0h2m17s  (16.6%)\rEpoch: 83.0%  lr: 0.041842  loss: 0.046364  eta: 0h11m  tot: 0h2m17s  (16.6%)\rEpoch: 83.1%  lr: 0.041822  loss: 0.046329  eta: 0h11m  tot: 0h2m17s  (16.6%)\rEpoch: 83.2%  lr: 0.041822  loss: 0.046317  eta: 0h11m  tot: 0h2m17s  (16.6%)\rEpoch: 83.3%  lr: 0.041812  loss: 0.046302  eta: 0h11m  tot: 0h2m17s  (16.7%)\rEpoch: 83.4%  lr: 0.041812  loss: 0.046282  eta: 0h11m  tot: 0h2m17s  (16.7%)\rEpoch: 83.5%  lr: 0.041812  loss: 0.046264  eta: 0h11m  tot: 0h2m18s  (16.7%)\rEpoch: 83.5%  lr: 0.041802  loss: 0.046256  eta: 0h11m  tot: 0h2m18s  (16.7%)\rEpoch: 83.6%  lr: 0.041792  loss: 0.046233  eta: 0h11m  tot: 0h2m18s  (16.7%)\rEpoch: 83.7%  lr: 0.041782  loss: 0.046213  eta: 0h11m  tot: 0h2m18s  (16.7%)\rEpoch: 83.8%  lr: 0.041772  loss: 0.046182  eta: 0h11m  tot: 0h2m18s  (16.8%)\rEpoch: 83.9%  lr: 0.041732  loss: 0.046166  eta: 0h11m  tot: 0h2m18s  (16.8%)\rEpoch: 84.0%  lr: 0.041712  loss: 0.046139  eta: 0h11m  tot: 0h2m18s  (16.8%)\rEpoch: 84.1%  lr: 0.041712  loss: 0.046105  eta: 0h11m  tot: 0h2m19s  (16.8%)\rEpoch: 84.2%  lr: 0.041702  loss: 0.046087  eta: 0h11m  tot: 0h2m19s  (16.8%)\rEpoch: 84.3%  lr: 0.041702  loss: 0.046054  eta: 0h11m  tot: 0h2m19s  (16.9%)\rEpoch: 84.4%  lr: 0.041682  loss: 0.046025  eta: 0h11m  tot: 0h2m19s  (16.9%)\rEpoch: 84.4%  lr: 0.041652  loss: 0.045996  eta: 0h11m  tot: 0h2m19s  (16.9%)\rEpoch: 84.5%  lr: 0.041642  loss: 0.045982  eta: 0h11m  tot: 0h2m19s  (16.9%)\rEpoch: 84.6%  lr: 0.041632  loss: 0.045966  eta: 0h11m  tot: 0h2m19s  (16.9%)\rEpoch: 84.7%  lr: 0.041622  loss: 0.045939  eta: 0h11m  tot: 0h2m20s  (16.9%)\rEpoch: 84.8%  lr: 0.041612  loss: 0.045933  eta: 0h11m  tot: 0h2m20s  (17.0%)\rEpoch: 84.9%  lr: 0.041592  loss: 0.045921  eta: 0h11m  tot: 0h2m20s  (17.0%)\rEpoch: 85.0%  lr: 0.041562  loss: 0.045903  eta: 0h11m  tot: 0h2m20s  (17.0%)\rEpoch: 85.1%  lr: 0.041542  loss: 0.045869  eta: 0h11m  tot: 0h2m20s  (17.0%)\rEpoch: 85.2%  lr: 0.041532  loss: 0.045840  eta: 0h11m  tot: 0h2m20s  (17.0%)\rEpoch: 85.3%  lr: 0.041532  loss: 0.045817  eta: 0h11m  tot: 0h2m20s  (17.1%)\rEpoch: 85.3%  lr: 0.041532  loss: 0.045804  eta: 0h11m  tot: 0h2m21s  (17.1%)\rEpoch: 85.4%  lr: 0.041532  loss: 0.045783  eta: 0h11m  tot: 0h2m21s  (17.1%)\rEpoch: 85.5%  lr: 0.041522  loss: 0.045792  eta: 0h11m  tot: 0h2m21s  (17.1%)\rEpoch: 85.6%  lr: 0.041522  loss: 0.045778  eta: 0h11m  tot: 0h2m21s  (17.1%)\rEpoch: 85.7%  lr: 0.041502  loss: 0.045779  eta: 0h11m  tot: 0h2m21s  (17.1%)\rEpoch: 85.8%  lr: 0.041462  loss: 0.045751  eta: 0h11m  tot: 0h2m21s  (17.2%)\rEpoch: 85.9%  lr: 0.041452  loss: 0.045750  eta: 0h11m  tot: 0h2m21s  (17.2%)\rEpoch: 86.0%  lr: 0.041442  loss: 0.045733  eta: 0h11m  tot: 0h2m22s  (17.2%)\rEpoch: 86.1%  lr: 0.041422  loss: 0.045723  eta: 0h11m  tot: 0h2m22s  (17.2%)\rEpoch: 86.2%  lr: 0.041412  loss: 0.045700  eta: 0h11m  tot: 0h2m22s  (17.2%)\rEpoch: 86.2%  lr: 0.041392  loss: 0.045678  eta: 0h11m  tot: 0h2m22s  (17.2%)\rEpoch: 86.3%  lr: 0.041392  loss: 0.045657  eta: 0h11m  tot: 0h2m22s  (17.3%)\rEpoch: 86.4%  lr: 0.041382  loss: 0.045642  eta: 0h11m  tot: 0h2m22s  (17.3%)\rEpoch: 86.5%  lr: 0.041372  loss: 0.045614  eta: 0h11m  tot: 0h2m22s  (17.3%)\rEpoch: 86.6%  lr: 0.041351  loss: 0.045588  eta: 0h11m  tot: 0h2m23s  (17.3%)\rEpoch: 86.7%  lr: 0.041321  loss: 0.045579  eta: 0h11m  tot: 0h2m23s  (17.3%)\rEpoch: 86.8%  lr: 0.041281  loss: 0.045588  eta: 0h11m  tot: 0h2m23s  (17.4%)\rEpoch: 86.9%  lr: 0.041271  loss: 0.045561  eta: 0h11m  tot: 0h2m23s  (17.4%)\rEpoch: 87.0%  lr: 0.041271  loss: 0.045563  eta: 0h11m  tot: 0h2m23s  (17.4%)\rEpoch: 87.1%  lr: 0.041271  loss: 0.045542  eta: 0h11m  tot: 0h2m23s  (17.4%)\rEpoch: 87.1%  lr: 0.041261  loss: 0.045519  eta: 0h11m  tot: 0h2m23s  (17.4%)\rEpoch: 87.2%  lr: 0.041261  loss: 0.045523  eta: 0h11m  tot: 0h2m24s  (17.4%)\rEpoch: 87.3%  lr: 0.041221  loss: 0.045496  eta: 0h11m  tot: 0h2m24s  (17.5%)\rEpoch: 87.4%  lr: 0.041221  loss: 0.045500  eta: 0h11m  tot: 0h2m24s  (17.5%)\rEpoch: 87.5%  lr: 0.041201  loss: 0.045497  eta: 0h11m  tot: 0h2m24s  (17.5%)\rEpoch: 87.6%  lr: 0.041201  loss: 0.045465  eta: 0h11m  tot: 0h2m24s  (17.5%)\rEpoch: 87.7%  lr: 0.041201  loss: 0.045445  eta: 0h11m  tot: 0h2m24s  (17.5%)\rEpoch: 87.8%  lr: 0.041201  loss: 0.045430  eta: 0h11m  tot: 0h2m25s  (17.6%)\rEpoch: 87.9%  lr: 0.041171  loss: 0.045414  eta: 0h11m  tot: 0h2m25s  (17.6%)\rEpoch: 88.0%  lr: 0.041171  loss: 0.045385  eta: 0h11m  tot: 0h2m25s  (17.6%)\rEpoch: 88.0%  lr: 0.041161  loss: 0.045359  eta: 0h11m  tot: 0h2m25s  (17.6%)\rEpoch: 88.1%  lr: 0.041161  loss: 0.045331  eta: 0h11m  tot: 0h2m25s  (17.6%)\rEpoch: 88.2%  lr: 0.041151  loss: 0.045306  eta: 0h11m  tot: 0h2m25s  (17.6%)\rEpoch: 88.3%  lr: 0.041131  loss: 0.045286  eta: 0h11m  tot: 0h2m25s  (17.7%)\rEpoch: 88.4%  lr: 0.041131  loss: 0.045255  eta: 0h11m  tot: 0h2m26s  (17.7%)\rEpoch: 88.5%  lr: 0.041121  loss: 0.045250  eta: 0h11m  tot: 0h2m26s  (17.7%)\rEpoch: 88.6%  lr: 0.041121  loss: 0.045233  eta: 0h11m  tot: 0h2m26s  (17.7%)\rEpoch: 88.7%  lr: 0.041111  loss: 0.045220  eta: 0h11m  tot: 0h2m26s  (17.7%)\rEpoch: 88.8%  lr: 0.041111  loss: 0.045191  eta: 0h11m  tot: 0h2m26s  (17.8%)\rEpoch: 88.9%  lr: 0.041101  loss: 0.045180  eta: 0h11m  tot: 0h2m26s  (17.8%)\rEpoch: 88.9%  lr: 0.041091  loss: 0.045164  eta: 0h11m  tot: 0h2m26s  (17.8%)\rEpoch: 89.0%  lr: 0.041091  loss: 0.045152  eta: 0h11m  tot: 0h2m27s  (17.8%)\rEpoch: 89.1%  lr: 0.041081  loss: 0.045153  eta: 0h11m  tot: 0h2m27s  (17.8%)\rEpoch: 89.2%  lr: 0.041081  loss: 0.045135  eta: 0h11m  tot: 0h2m27s  (17.8%)\rEpoch: 89.3%  lr: 0.041071  loss: 0.045104  eta: 0h11m  tot: 0h2m27s  (17.9%)\rEpoch: 89.4%  lr: 0.041061  loss: 0.045090  eta: 0h11m  tot: 0h2m27s  (17.9%)\rEpoch: 89.5%  lr: 0.041051  loss: 0.045058  eta: 0h11m  tot: 0h2m27s  (17.9%)\rEpoch: 89.6%  lr: 0.041011  loss: 0.045028  eta: 0h11m  tot: 0h2m27s  (17.9%)\rEpoch: 89.7%  lr: 0.040991  loss: 0.045022  eta: 0h11m  tot: 0h2m28s  (17.9%)\rEpoch: 89.8%  lr: 0.040971  loss: 0.045002  eta: 0h11m  tot: 0h2m28s  (18.0%)\rEpoch: 89.8%  lr: 0.040961  loss: 0.044996  eta: 0h11m  tot: 0h2m28s  (18.0%)\rEpoch: 89.9%  lr: 0.040951  loss: 0.044968  eta: 0h11m  tot: 0h2m28s  (18.0%)\rEpoch: 90.0%  lr: 0.040931  loss: 0.044949  eta: 0h11m  tot: 0h2m28s  (18.0%)\rEpoch: 90.1%  lr: 0.040921  loss: 0.044945  eta: 0h11m  tot: 0h2m28s  (18.0%)\rEpoch: 90.2%  lr: 0.040911  loss: 0.044939  eta: 0h11m  tot: 0h2m28s  (18.0%)\rEpoch: 90.3%  lr: 0.040891  loss: 0.044913  eta: 0h11m  tot: 0h2m29s  (18.1%)\rEpoch: 90.4%  lr: 0.040891  loss: 0.044892  eta: 0h11m  tot: 0h2m29s  (18.1%)\rEpoch: 90.5%  lr: 0.040891  loss: 0.044869  eta: 0h11m  tot: 0h2m29s  (18.1%)\rEpoch: 90.6%  lr: 0.040871  loss: 0.044870  eta: 0h11m  tot: 0h2m29s  (18.1%)\rEpoch: 90.7%  lr: 0.040831  loss: 0.044866  eta: 0h11m  tot: 0h2m29s  (18.1%)\rEpoch: 90.7%  lr: 0.040831  loss: 0.044855  eta: 0h11m  tot: 0h2m29s  (18.1%)\rEpoch: 90.8%  lr: 0.040831  loss: 0.044851  eta: 0h11m  tot: 0h2m30s  (18.2%)\rEpoch: 90.9%  lr: 0.040831  loss: 0.044845  eta: 0h11m  tot: 0h2m30s  (18.2%)\rEpoch: 91.0%  lr: 0.040831  loss: 0.044831  eta: 0h11m  tot: 0h2m30s  (18.2%)\rEpoch: 91.1%  lr: 0.040811  loss: 0.044817  eta: 0h11m  tot: 0h2m30s  (18.2%)\rEpoch: 91.2%  lr: 0.040811  loss: 0.044825  eta: 0h11m  tot: 0h2m30s  (18.2%)\rEpoch: 91.3%  lr: 0.040811  loss: 0.044808  eta: 0h11m  tot: 0h2m30s  (18.3%)\rEpoch: 91.4%  lr: 0.040801  loss: 0.044797  eta: 0h11m  tot: 0h2m30s  (18.3%)\rEpoch: 91.5%  lr: 0.040801  loss: 0.044776  eta: 0h11m  tot: 0h2m31s  (18.3%)\rEpoch: 91.6%  lr: 0.040781  loss: 0.044785  eta: 0h11m  tot: 0h2m31s  (18.3%)\rEpoch: 91.6%  lr: 0.040771  loss: 0.044769  eta: 0h11m  tot: 0h2m31s  (18.3%)\rEpoch: 91.7%  lr: 0.040771  loss: 0.044742  eta: 0h11m  tot: 0h2m31s  (18.3%)\rEpoch: 91.8%  lr: 0.040771  loss: 0.044721  eta: 0h11m  tot: 0h2m31s  (18.4%)\rEpoch: 91.9%  lr: 0.040741  loss: 0.044701  eta: 0h11m  tot: 0h2m31s  (18.4%)\rEpoch: 92.0%  lr: 0.040741  loss: 0.044688  eta: 0h11m  tot: 0h2m31s  (18.4%)\rEpoch: 92.1%  lr: 0.040721  loss: 0.044667  eta: 0h11m  tot: 0h2m32s  (18.4%)\rEpoch: 92.2%  lr: 0.040711  loss: 0.044645  eta: 0h11m  tot: 0h2m32s  (18.4%)\rEpoch: 92.3%  lr: 0.040691  loss: 0.044618  eta: 0h11m  tot: 0h2m32s  (18.5%)\rEpoch: 92.4%  lr: 0.040681  loss: 0.044620  eta: 0h11m  tot: 0h2m32s  (18.5%)\rEpoch: 92.5%  lr: 0.040681  loss: 0.044595  eta: 0h11m  tot: 0h2m32s  (18.5%)\rEpoch: 92.5%  lr: 0.040641  loss: 0.044587  eta: 0h11m  tot: 0h2m32s  (18.5%)\rEpoch: 92.6%  lr: 0.040621  loss: 0.044563  eta: 0h11m  tot: 0h2m33s  (18.5%)\rEpoch: 92.7%  lr: 0.040621  loss: 0.044545  eta: 0h11m  tot: 0h2m33s  (18.5%)\rEpoch: 92.8%  lr: 0.040611  loss: 0.044532  eta: 0h11m  tot: 0h2m33s  (18.6%)\rEpoch: 92.9%  lr: 0.040601  loss: 0.044503  eta: 0h11m  tot: 0h2m33s  (18.6%)\rEpoch: 93.0%  lr: 0.040601  loss: 0.044475  eta: 0h11m  tot: 0h2m33s  (18.6%)\rEpoch: 93.1%  lr: 0.040591  loss: 0.044452  eta: 0h11m  tot: 0h2m33s  (18.6%)\rEpoch: 93.2%  lr: 0.040571  loss: 0.044443  eta: 0h11m  tot: 0h2m33s  (18.6%)\rEpoch: 93.3%  lr: 0.040551  loss: 0.044427  eta: 0h11m  tot: 0h2m34s  (18.7%)\rEpoch: 93.4%  lr: 0.040551  loss: 0.044402  eta: 0h11m  tot: 0h2m34s  (18.7%)\rEpoch: 93.4%  lr: 0.040551  loss: 0.044373  eta: 0h11m  tot: 0h2m34s  (18.7%)\rEpoch: 93.5%  lr: 0.040541  loss: 0.044358  eta: 0h11m  tot: 0h2m34s  (18.7%)\rEpoch: 93.6%  lr: 0.040531  loss: 0.044349  eta: 0h11m  tot: 0h2m34s  (18.7%)\rEpoch: 93.7%  lr: 0.040511  loss: 0.044357  eta: 0h11m  tot: 0h2m34s  (18.7%)\rEpoch: 93.8%  lr: 0.040501  loss: 0.044352  eta: 0h11m  tot: 0h2m34s  (18.8%)\rEpoch: 93.9%  lr: 0.040481  loss: 0.044332  eta: 0h11m  tot: 0h2m35s  (18.8%)\rEpoch: 94.0%  lr: 0.040481  loss: 0.044321  eta: 0h11m  tot: 0h2m35s  (18.8%)\rEpoch: 94.1%  lr: 0.040481  loss: 0.044301  eta: 0h11m  tot: 0h2m35s  (18.8%)\rEpoch: 94.2%  lr: 0.040471  loss: 0.044280  eta: 0h11m  tot: 0h2m35s  (18.8%)\rEpoch: 94.3%  lr: 0.040461  loss: 0.044260  eta: 0h11m  tot: 0h2m35s  (18.9%)\rEpoch: 94.3%  lr: 0.040461  loss: 0.044234  eta: 0h11m  tot: 0h2m35s  (18.9%)\rEpoch: 94.4%  lr: 0.040461  loss: 0.044222  eta: 0h11m  tot: 0h2m35s  (18.9%)\rEpoch: 94.5%  lr: 0.040461  loss: 0.044203  eta: 0h11m  tot: 0h2m36s  (18.9%)\rEpoch: 94.6%  lr: 0.040461  loss: 0.044203  eta: 0h11m  tot: 0h2m36s  (18.9%)\rEpoch: 94.7%  lr: 0.040451  loss: 0.044190  eta: 0h11m  tot: 0h2m36s  (18.9%)\rEpoch: 94.8%  lr: 0.040451  loss: 0.044176  eta: 0h11m  tot: 0h2m36s  (19.0%)\rEpoch: 94.9%  lr: 0.040431  loss: 0.044157  eta: 0h11m  tot: 0h2m36s  (19.0%)\rEpoch: 95.0%  lr: 0.040431  loss: 0.044141  eta: 0h11m  tot: 0h2m36s  (19.0%)\rEpoch: 95.1%  lr: 0.040421  loss: 0.044106  eta: 0h11m  tot: 0h2m36s  (19.0%)\rEpoch: 95.2%  lr: 0.040421  loss: 0.044081  eta: 0h11m  tot: 0h2m37s  (19.0%)\rEpoch: 95.2%  lr: 0.040421  loss: 0.044054  eta: 0h11m  tot: 0h2m37s  (19.0%)\rEpoch: 95.3%  lr: 0.040411  loss: 0.044039  eta: 0h11m  tot: 0h2m37s  (19.1%)\rEpoch: 95.4%  lr: 0.040401  loss: 0.044018  eta: 0h11m  tot: 0h2m37s  (19.1%)\rEpoch: 95.5%  lr: 0.040401  loss: 0.043995  eta: 0h11m  tot: 0h2m37s  (19.1%)\rEpoch: 95.6%  lr: 0.040401  loss: 0.043983  eta: 0h11m  tot: 0h2m37s  (19.1%)\rEpoch: 95.7%  lr: 0.040381  loss: 0.043961  eta: 0h11m  tot: 0h2m37s  (19.1%)\rEpoch: 95.8%  lr: 0.040381  loss: 0.043957  eta: 0h11m  tot: 0h2m38s  (19.2%)\rEpoch: 95.9%  lr: 0.040351  loss: 0.043926  eta: 0h11m  tot: 0h2m38s  (19.2%)\rEpoch: 96.0%  lr: 0.040330  loss: 0.043902  eta: 0h11m  tot: 0h2m38s  (19.2%)\rEpoch: 96.1%  lr: 0.040320  loss: 0.043881  eta: 0h11m  tot: 0h2m38s  (19.2%)\rEpoch: 96.1%  lr: 0.040320  loss: 0.043882  eta: 0h11m  tot: 0h2m38s  (19.2%)\rEpoch: 96.2%  lr: 0.040300  loss: 0.043901  eta: 0h11m  tot: 0h2m38s  (19.2%)\rEpoch: 96.3%  lr: 0.040300  loss: 0.043888  eta: 0h11m  tot: 0h2m39s  (19.3%)\rEpoch: 96.4%  lr: 0.040290  loss: 0.043863  eta: 0h11m  tot: 0h2m39s  (19.3%)\rEpoch: 96.5%  lr: 0.040290  loss: 0.043852  eta: 0h11m  tot: 0h2m39s  (19.3%)\rEpoch: 96.6%  lr: 0.040270  loss: 0.043855  eta: 0h11m  tot: 0h2m39s  (19.3%)\rEpoch: 96.7%  lr: 0.040260  loss: 0.043830  eta: 0h11m  tot: 0h2m39s  (19.3%)\rEpoch: 96.8%  lr: 0.040240  loss: 0.043826  eta: 0h11m  tot: 0h2m39s  (19.4%)\rEpoch: 96.9%  lr: 0.040240  loss: 0.043803  eta: 0h11m  tot: 0h2m39s  (19.4%)\rEpoch: 97.0%  lr: 0.040240  loss: 0.043785  eta: 0h11m  tot: 0h2m40s  (19.4%)\rEpoch: 97.0%  lr: 0.040230  loss: 0.043776  eta: 0h11m  tot: 0h2m40s  (19.4%)\rEpoch: 97.1%  lr: 0.040210  loss: 0.043761  eta: 0h11m  tot: 0h2m40s  (19.4%)\rEpoch: 97.2%  lr: 0.040210  loss: 0.043745  eta: 0h11m  tot: 0h2m40s  (19.4%)\rEpoch: 97.3%  lr: 0.040210  loss: 0.043714  eta: 0h11m  tot: 0h2m40s  (19.5%)\rEpoch: 97.4%  lr: 0.040200  loss: 0.043704  eta: 0h11m  tot: 0h2m40s  (19.5%)\rEpoch: 97.5%  lr: 0.040190  loss: 0.043678  eta: 0h11m  tot: 0h2m40s  (19.5%)\rEpoch: 97.6%  lr: 0.040180  loss: 0.043678  eta: 0h11m  tot: 0h2m41s  (19.5%)\rEpoch: 97.7%  lr: 0.040180  loss: 0.043673  eta: 0h11m  tot: 0h2m41s  (19.5%)\rEpoch: 97.8%  lr: 0.040160  loss: 0.043647  eta: 0h11m  tot: 0h2m41s  (19.6%)\rEpoch: 97.9%  lr: 0.040160  loss: 0.043633  eta: 0h11m  tot: 0h2m41s  (19.6%)\rEpoch: 97.9%  lr: 0.040150  loss: 0.043612  eta: 0h11m  tot: 0h2m41s  (19.6%)\rEpoch: 98.0%  lr: 0.040140  loss: 0.043602  eta: 0h11m  tot: 0h2m41s  (19.6%)\rEpoch: 98.1%  lr: 0.040130  loss: 0.043574  eta: 0h11m  tot: 0h2m41s  (19.6%)\rEpoch: 98.2%  lr: 0.040110  loss: 0.043566  eta: 0h11m  tot: 0h2m42s  (19.6%)\rEpoch: 98.3%  lr: 0.040080  loss: 0.043552  eta: 0h11m  tot: 0h2m42s  (19.7%)\rEpoch: 98.4%  lr: 0.040080  loss: 0.043539  eta: 0h11m  tot: 0h2m42s  (19.7%)\rEpoch: 98.5%  lr: 0.040080  loss: 0.043517  eta: 0h11m  tot: 0h2m42s  (19.7%)\rEpoch: 98.6%  lr: 0.040080  loss: 0.043496  eta: 0h11m  tot: 0h2m42s  (19.7%)\rEpoch: 98.7%  lr: 0.040080  loss: 0.043474  eta: 0h11m  tot: 0h2m42s  (19.7%)\rEpoch: 98.8%  lr: 0.040070  loss: 0.043467  eta: 0h11m  tot: 0h2m42s  (19.8%)\rEpoch: 98.8%  lr: 0.040070  loss: 0.043468  eta: 0h11m  tot: 0h2m43s  (19.8%)\rEpoch: 98.9%  lr: 0.040070  loss: 0.043448  eta: 0h11m  tot: 0h2m43s  (19.8%)\rEpoch: 99.0%  lr: 0.040060  loss: 0.043420  eta: 0h11m  tot: 0h2m43s  (19.8%)\rEpoch: 99.1%  lr: 0.040050  loss: 0.043408  eta: 0h11m  tot: 0h2m43s  (19.8%)\rEpoch: 99.2%  lr: 0.040050  loss: 0.043405  eta: 0h11m  tot: 0h2m43s  (19.8%)\rEpoch: 99.3%  lr: 0.040030  loss: 0.043389  eta: 0h11m  tot: 0h2m43s  (19.9%)\rEpoch: 99.4%  lr: 0.040020  loss: 0.043373  eta: 0h11m  tot: 0h2m44s  (19.9%)\rEpoch: 99.5%  lr: 0.040020  loss: 0.043382  eta: 0h11m  tot: 0h2m44s  (19.9%)\rEpoch: 99.6%  lr: 0.040020  loss: 0.043377  eta: 0h11m  tot: 0h2m44s  (19.9%)\rEpoch: 99.7%  lr: 0.040000  loss: 0.043366  eta: 0h11m  tot: 0h2m44s  (19.9%)\rEpoch: 99.7%  lr: 0.040000  loss: 0.043358  eta: 0h11m  tot: 0h2m44s  (19.9%)\rEpoch: 99.8%  lr: 0.040000  loss: 0.043341  eta: 0h10m  tot: 0h2m44s  (20.0%)\rEpoch: 99.9%  lr: 0.040000  loss: 0.043331  eta: 0h10m  tot: 0h2m44s  (20.0%)\rEpoch: 100.0%  lr: 0.040000  loss: 0.043322  eta: 0h10m  tot: 0h2m44s  (20.0%)\rEpoch: 0.1%  lr: 0.040000  loss: 0.011587  eta: 0h2m  tot: 0h2m44s  (20.0%)\rEpoch: 0.2%  lr: 0.040000  loss: 0.011799  eta: 0h2m  tot: 0h2m44s  (20.0%)\rEpoch: 0.3%  lr: 0.039990  loss: 0.010660  eta: 0h1m  tot: 0h2m44s  (20.1%)\rEpoch: 0.4%  lr: 0.039990  loss: 0.013061  eta: 0h1m  tot: 0h2m44s  (20.1%)\rEpoch: 0.4%  lr: 0.039990  loss: 0.012602  eta: 0h3m  tot: 0h2m44s  (20.1%)\rEpoch: 0.5%  lr: 0.039970  loss: 0.013520  eta: 0h4m  tot: 0h2m45s  (20.1%)\rEpoch: 0.6%  lr: 0.039960  loss: 0.012670  eta: 0h5m  tot: 0h2m45s  (20.1%)\rEpoch: 0.7%  lr: 0.039960  loss: 0.011873  eta: 0h5m  tot: 0h2m45s  (20.1%)\rEpoch: 0.8%  lr: 0.039950  loss: 0.011245  eta: 0h6m  tot: 0h2m45s  (20.2%)\rEpoch: 0.9%  lr: 0.039950  loss: 0.013787  eta: 0h6m  tot: 0h2m45s  (20.2%)\rEpoch: 1.0%  lr: 0.039920  loss: 0.013764  eta: 0h6m  tot: 0h2m45s  (20.2%)\rEpoch: 1.1%  lr: 0.039900  loss: 0.013282  eta: 0h7m  tot: 0h2m45s  (20.2%)\rEpoch: 1.2%  lr: 0.039900  loss: 0.013503  eta: 0h7m  tot: 0h2m46s  (20.2%)\rEpoch: 1.3%  lr: 0.039890  loss: 0.013237  eta: 0h7m  tot: 0h2m46s  (20.3%)\rEpoch: 1.3%  lr: 0.039890  loss: 0.013621  eta: 0h7m  tot: 0h2m46s  (20.3%)\rEpoch: 1.4%  lr: 0.039870  loss: 0.013342  eta: 0h7m  tot: 0h2m46s  (20.3%)\rEpoch: 1.5%  lr: 0.039860  loss: 0.013288  eta: 0h8m  tot: 0h2m46s  (20.3%)\rEpoch: 1.6%  lr: 0.039860  loss: 0.012970  eta: 0h8m  tot: 0h2m46s  (20.3%)\rEpoch: 1.7%  lr: 0.039840  loss: 0.012714  eta: 0h8m  tot: 0h2m46s  (20.3%)\rEpoch: 1.8%  lr: 0.039840  loss: 0.012623  eta: 0h8m  tot: 0h2m47s  (20.4%)\rEpoch: 1.9%  lr: 0.039830  loss: 0.012731  eta: 0h8m  tot: 0h2m47s  (20.4%)\rEpoch: 2.0%  lr: 0.039820  loss: 0.012445  eta: 0h8m  tot: 0h2m47s  (20.4%)\rEpoch: 2.1%  lr: 0.039810  loss: 0.012127  eta: 0h8m  tot: 0h2m47s  (20.4%)\rEpoch: 2.2%  lr: 0.039810  loss: 0.011978  eta: 0h8m  tot: 0h2m47s  (20.4%)\rEpoch: 2.2%  lr: 0.039810  loss: 0.012240  eta: 0h8m  tot: 0h2m47s  (20.4%)\rEpoch: 2.3%  lr: 0.039810  loss: 0.011938  eta: 0h8m  tot: 0h2m47s  (20.5%)\rEpoch: 2.4%  lr: 0.039800  loss: 0.011714  eta: 0h8m  tot: 0h2m47s  (20.5%)\rEpoch: 2.5%  lr: 0.039790  loss: 0.011810  eta: 0h8m  tot: 0h2m48s  (20.5%)\rEpoch: 2.6%  lr: 0.039770  loss: 0.011599  eta: 0h8m  tot: 0h2m48s  (20.5%)\rEpoch: 2.7%  lr: 0.039760  loss: 0.011744  eta: 0h8m  tot: 0h2m48s  (20.5%)\rEpoch: 2.8%  lr: 0.039750  loss: 0.012200  eta: 0h8m  tot: 0h2m48s  (20.6%)\rEpoch: 2.9%  lr: 0.039750  loss: 0.012411  eta: 0h8m  tot: 0h2m48s  (20.6%)\rEpoch: 3.0%  lr: 0.039750  loss: 0.012794  eta: 0h8m  tot: 0h2m48s  (20.6%)\rEpoch: 3.1%  lr: 0.039750  loss: 0.012920  eta: 0h8m  tot: 0h2m48s  (20.6%)\rEpoch: 3.1%  lr: 0.039720  loss: 0.012838  eta: 0h9m  tot: 0h2m49s  (20.6%)\rEpoch: 3.2%  lr: 0.039700  loss: 0.012814  eta: 0h9m  tot: 0h2m49s  (20.6%)\rEpoch: 3.3%  lr: 0.039700  loss: 0.013042  eta: 0h9m  tot: 0h2m49s  (20.7%)\rEpoch: 3.4%  lr: 0.039700  loss: 0.013069  eta: 0h9m  tot: 0h2m49s  (20.7%)\rEpoch: 3.5%  lr: 0.039690  loss: 0.013167  eta: 0h9m  tot: 0h2m49s  (20.7%)\rEpoch: 3.6%  lr: 0.039680  loss: 0.013032  eta: 0h9m  tot: 0h2m49s  (20.7%)\rEpoch: 3.7%  lr: 0.039660  loss: 0.012782  eta: 0h9m  tot: 0h2m49s  (20.7%)\rEpoch: 3.8%  lr: 0.039650  loss: 0.013142  eta: 0h9m  tot: 0h2m50s  (20.8%)\rEpoch: 3.9%  lr: 0.039630  loss: 0.012998  eta: 0h9m  tot: 0h2m50s  (20.8%)\rEpoch: 4.0%  lr: 0.039630  loss: 0.012887  eta: 0h9m  tot: 0h2m50s  (20.8%)\rEpoch: 4.1%  lr: 0.039620  loss: 0.012824  eta: 0h9m  tot: 0h2m50s  (20.8%)\rEpoch: 4.1%  lr: 0.039600  loss: 0.012836  eta: 0h9m  tot: 0h2m50s  (20.8%)\rEpoch: 4.2%  lr: 0.039600  loss: 0.012668  eta: 0h9m  tot: 0h2m50s  (20.8%)\rEpoch: 4.3%  lr: 0.039600  loss: 0.012557  eta: 0h9m  tot: 0h2m50s  (20.9%)\rEpoch: 4.4%  lr: 0.039580  loss: 0.012563  eta: 0h9m  tot: 0h2m50s  (20.9%)\rEpoch: 4.5%  lr: 0.039580  loss: 0.012468  eta: 0h9m  tot: 0h2m51s  (20.9%)\rEpoch: 4.6%  lr: 0.039570  loss: 0.012422  eta: 0h9m  tot: 0h2m51s  (20.9%)\rEpoch: 4.7%  lr: 0.039560  loss: 0.012362  eta: 0h9m  tot: 0h2m51s  (20.9%)\rEpoch: 4.8%  lr: 0.039560  loss: 0.012389  eta: 0h9m  tot: 0h2m51s  (21.0%)\rEpoch: 4.9%  lr: 0.039560  loss: 0.012256  eta: 0h9m  tot: 0h2m51s  (21.0%)\rEpoch: 5.0%  lr: 0.039540  loss: 0.012255  eta: 0h9m  tot: 0h2m51s  (21.0%)\rEpoch: 5.0%  lr: 0.039530  loss: 0.012456  eta: 0h9m  tot: 0h2m51s  (21.0%)\rEpoch: 5.1%  lr: 0.039520  loss: 0.012299  eta: 0h9m  tot: 0h2m52s  (21.0%)\rEpoch: 5.2%  lr: 0.039500  loss: 0.012178  eta: 0h9m  tot: 0h2m52s  (21.0%)\rEpoch: 5.3%  lr: 0.039500  loss: 0.012118  eta: 0h9m  tot: 0h2m52s  (21.1%)\rEpoch: 5.4%  lr: 0.039489  loss: 0.012097  eta: 0h9m  tot: 0h2m52s  (21.1%)\rEpoch: 5.5%  lr: 0.039489  loss: 0.012123  eta: 0h9m  tot: 0h2m52s  (21.1%)\rEpoch: 5.6%  lr: 0.039479  loss: 0.012294  eta: 0h9m  tot: 0h2m52s  (21.1%)\rEpoch: 5.7%  lr: 0.039479  loss: 0.012192  eta: 0h9m  tot: 0h2m52s  (21.1%)\rEpoch: 5.8%  lr: 0.039469  loss: 0.012097  eta: 0h9m  tot: 0h2m53s  (21.2%)\rEpoch: 5.9%  lr: 0.039439  loss: 0.012132  eta: 0h9m  tot: 0h2m53s  (21.2%)\rEpoch: 5.9%  lr: 0.039439  loss: 0.012330  eta: 0h9m  tot: 0h2m53s  (21.2%)\rEpoch: 6.0%  lr: 0.039439  loss: 0.012320  eta: 0h9m  tot: 0h2m53s  (21.2%)\rEpoch: 6.1%  lr: 0.039439  loss: 0.012313  eta: 0h9m  tot: 0h2m53s  (21.2%)\rEpoch: 6.2%  lr: 0.039439  loss: 0.012269  eta: 0h9m  tot: 0h2m53s  (21.2%)\rEpoch: 6.3%  lr: 0.039419  loss: 0.012198  eta: 0h9m  tot: 0h2m53s  (21.3%)\rEpoch: 6.4%  lr: 0.039399  loss: 0.012191  eta: 0h9m  tot: 0h2m53s  (21.3%)\rEpoch: 6.5%  lr: 0.039389  loss: 0.012169  eta: 0h9m  tot: 0h2m54s  (21.3%)\rEpoch: 6.6%  lr: 0.039379  loss: 0.012140  eta: 0h9m  tot: 0h2m54s  (21.3%)\rEpoch: 6.7%  lr: 0.039369  loss: 0.012271  eta: 0h9m  tot: 0h2m54s  (21.3%)\rEpoch: 6.8%  lr: 0.039369  loss: 0.012348  eta: 0h9m  tot: 0h2m54s  (21.4%)\rEpoch: 6.8%  lr: 0.039369  loss: 0.012329  eta: 0h9m  tot: 0h2m54s  (21.4%)\rEpoch: 6.9%  lr: 0.039369  loss: 0.012271  eta: 0h9m  tot: 0h2m54s  (21.4%)\rEpoch: 7.0%  lr: 0.039369  loss: 0.012211  eta: 0h9m  tot: 0h2m54s  (21.4%)\rEpoch: 7.1%  lr: 0.039359  loss: 0.012147  eta: 0h9m  tot: 0h2m55s  (21.4%)\rEpoch: 7.2%  lr: 0.039339  loss: 0.012082  eta: 0h9m  tot: 0h2m55s  (21.4%)\rEpoch: 7.3%  lr: 0.039329  loss: 0.012155  eta: 0h9m  tot: 0h2m55s  (21.5%)\rEpoch: 7.4%  lr: 0.039299  loss: 0.012111  eta: 0h9m  tot: 0h2m55s  (21.5%)\rEpoch: 7.5%  lr: 0.039299  loss: 0.012151  eta: 0h9m  tot: 0h2m55s  (21.5%)\rEpoch: 7.6%  lr: 0.039299  loss: 0.012141  eta: 0h9m  tot: 0h2m55s  (21.5%)\rEpoch: 7.7%  lr: 0.039299  loss: 0.012078  eta: 0h9m  tot: 0h2m55s  (21.5%)\rEpoch: 7.7%  lr: 0.039269  loss: 0.012101  eta: 0h9m  tot: 0h2m56s  (21.5%)\rEpoch: 7.8%  lr: 0.039269  loss: 0.012278  eta: 0h9m  tot: 0h2m56s  (21.6%)\rEpoch: 7.9%  lr: 0.039239  loss: 0.012282  eta: 0h9m  tot: 0h2m56s  (21.6%)\rEpoch: 8.0%  lr: 0.039229  loss: 0.012241  eta: 0h9m  tot: 0h2m56s  (21.6%)\rEpoch: 8.1%  lr: 0.039229  loss: 0.012355  eta: 0h9m  tot: 0h2m56s  (21.6%)\rEpoch: 8.2%  lr: 0.039219  loss: 0.012314  eta: 0h9m  tot: 0h2m56s  (21.6%)\rEpoch: 8.3%  lr: 0.039209  loss: 0.012304  eta: 0h9m  tot: 0h2m56s  (21.7%)\rEpoch: 8.4%  lr: 0.039199  loss: 0.012273  eta: 0h9m  tot: 0h2m57s  (21.7%)\rEpoch: 8.5%  lr: 0.039189  loss: 0.012204  eta: 0h9m  tot: 0h2m57s  (21.7%)\rEpoch: 8.6%  lr: 0.039179  loss: 0.012217  eta: 0h9m  tot: 0h2m57s  (21.7%)\rEpoch: 8.6%  lr: 0.039179  loss: 0.012154  eta: 0h9m  tot: 0h2m57s  (21.7%)\rEpoch: 8.7%  lr: 0.039169  loss: 0.012162  eta: 0h9m  tot: 0h2m57s  (21.7%)\rEpoch: 8.8%  lr: 0.039169  loss: 0.012074  eta: 0h9m  tot: 0h2m57s  (21.8%)\rEpoch: 8.9%  lr: 0.039169  loss: 0.012017  eta: 0h9m  tot: 0h2m57s  (21.8%)\rEpoch: 9.0%  lr: 0.039169  loss: 0.012030  eta: 0h9m  tot: 0h2m57s  (21.8%)\rEpoch: 9.1%  lr: 0.039169  loss: 0.012140  eta: 0h9m  tot: 0h2m58s  (21.8%)\rEpoch: 9.2%  lr: 0.039159  loss: 0.012215  eta: 0h9m  tot: 0h2m58s  (21.8%)\rEpoch: 9.3%  lr: 0.039159  loss: 0.012227  eta: 0h9m  tot: 0h2m58s  (21.9%)\rEpoch: 9.4%  lr: 0.039159  loss: 0.012238  eta: 0h9m  tot: 0h2m58s  (21.9%)\rEpoch: 9.5%  lr: 0.039139  loss: 0.012301  eta: 0h9m  tot: 0h2m58s  (21.9%)\rEpoch: 9.5%  lr: 0.039139  loss: 0.012259  eta: 0h9m  tot: 0h2m58s  (21.9%)\rEpoch: 9.6%  lr: 0.039119  loss: 0.012294  eta: 0h9m  tot: 0h2m58s  (21.9%)\rEpoch: 9.7%  lr: 0.039109  loss: 0.012330  eta: 0h9m  tot: 0h2m59s  (21.9%)\rEpoch: 9.8%  lr: 0.039099  loss: 0.012325  eta: 0h9m  tot: 0h2m59s  (22.0%)\rEpoch: 9.9%  lr: 0.039089  loss: 0.012295  eta: 0h9m  tot: 0h2m59s  (22.0%)\rEpoch: 10.0%  lr: 0.039079  loss: 0.012318  eta: 0h9m  tot: 0h2m59s  (22.0%)\rEpoch: 10.1%  lr: 0.039079  loss: 0.012257  eta: 0h9m  tot: 0h2m59s  (22.0%)\rEpoch: 10.2%  lr: 0.039069  loss: 0.012329  eta: 0h9m  tot: 0h2m59s  (22.0%)\rEpoch: 10.3%  lr: 0.039069  loss: 0.012306  eta: 0h9m  tot: 0h2m59s  (22.1%)\rEpoch: 10.4%  lr: 0.039049  loss: 0.012353  eta: 0h9m  tot: 0h3m0s  (22.1%)\rEpoch: 10.4%  lr: 0.039029  loss: 0.012356  eta: 0h9m  tot: 0h3m0s  (22.1%)\rEpoch: 10.5%  lr: 0.039019  loss: 0.012313  eta: 0h9m  tot: 0h3m0s  (22.1%)\rEpoch: 10.6%  lr: 0.039019  loss: 0.012236  eta: 0h9m  tot: 0h3m0s  (22.1%)\rEpoch: 10.7%  lr: 0.038999  loss: 0.012255  eta: 0h9m  tot: 0h3m0s  (22.1%)\rEpoch: 10.8%  lr: 0.038999  loss: 0.012202  eta: 0h9m  tot: 0h3m0s  (22.2%)\rEpoch: 10.9%  lr: 0.038999  loss: 0.012215  eta: 0h9m  tot: 0h3m0s  (22.2%)\rEpoch: 11.0%  lr: 0.038989  loss: 0.012154  eta: 0h9m  tot: 0h3m1s  (22.2%)\rEpoch: 11.1%  lr: 0.038989  loss: 0.012152  eta: 0h9m  tot: 0h3m1s  (22.2%)\rEpoch: 11.2%  lr: 0.038979  loss: 0.012224  eta: 0h9m  tot: 0h3m1s  (22.2%)\rEpoch: 11.3%  lr: 0.038979  loss: 0.012208  eta: 0h9m  tot: 0h3m1s  (22.3%)\rEpoch: 11.3%  lr: 0.038939  loss: 0.012218  eta: 0h9m  tot: 0h3m1s  (22.3%)\rEpoch: 11.4%  lr: 0.038929  loss: 0.012184  eta: 0h9m  tot: 0h3m1s  (22.3%)\rEpoch: 11.5%  lr: 0.038919  loss: 0.012207  eta: 0h9m  tot: 0h3m1s  (22.3%)\rEpoch: 11.6%  lr: 0.038909  loss: 0.012199  eta: 0h9m  tot: 0h3m1s  (22.3%)\rEpoch: 11.7%  lr: 0.038909  loss: 0.012192  eta: 0h9m  tot: 0h3m2s  (22.3%)\rEpoch: 11.8%  lr: 0.038909  loss: 0.012166  eta: 0h9m  tot: 0h3m2s  (22.4%)\rEpoch: 11.9%  lr: 0.038899  loss: 0.012210  eta: 0h9m  tot: 0h3m2s  (22.4%)\rEpoch: 12.0%  lr: 0.038869  loss: 0.012146  eta: 0h9m  tot: 0h3m2s  (22.4%)\rEpoch: 12.1%  lr: 0.038869  loss: 0.012102  eta: 0h9m  tot: 0h3m2s  (22.4%)\rEpoch: 12.2%  lr: 0.038859  loss: 0.012067  eta: 0h9m  tot: 0h3m2s  (22.4%)\rEpoch: 12.2%  lr: 0.038839  loss: 0.012057  eta: 0h9m  tot: 0h3m2s  (22.4%)\rEpoch: 12.3%  lr: 0.038799  loss: 0.012131  eta: 0h9m  tot: 0h3m3s  (22.5%)\rEpoch: 12.4%  lr: 0.038789  loss: 0.012098  eta: 0h9m  tot: 0h3m3s  (22.5%)\rEpoch: 12.5%  lr: 0.038769  loss: 0.012116  eta: 0h9m  tot: 0h3m3s  (22.5%)\rEpoch: 12.6%  lr: 0.038769  loss: 0.012108  eta: 0h9m  tot: 0h3m3s  (22.5%)\rEpoch: 12.7%  lr: 0.038769  loss: 0.012144  eta: 0h9m  tot: 0h3m3s  (22.5%)\rEpoch: 12.8%  lr: 0.038769  loss: 0.012261  eta: 0h9m  tot: 0h3m3s  (22.6%)\rEpoch: 12.9%  lr: 0.038769  loss: 0.012204  eta: 0h9m  tot: 0h3m3s  (22.6%)\rEpoch: 13.0%  lr: 0.038769  loss: 0.012224  eta: 0h9m  tot: 0h3m4s  (22.6%)\rEpoch: 13.1%  lr: 0.038749  loss: 0.012288  eta: 0h9m  tot: 0h3m4s  (22.6%)\rEpoch: 13.1%  lr: 0.038719  loss: 0.012253  eta: 0h9m  tot: 0h3m4s  (22.6%)\rEpoch: 13.2%  lr: 0.038689  loss: 0.012296  eta: 0h9m  tot: 0h3m4s  (22.6%)\rEpoch: 13.3%  lr: 0.038689  loss: 0.012348  eta: 0h9m  tot: 0h3m4s  (22.7%)\rEpoch: 13.4%  lr: 0.038679  loss: 0.012325  eta: 0h9m  tot: 0h3m4s  (22.7%)\rEpoch: 13.5%  lr: 0.038679  loss: 0.012343  eta: 0h9m  tot: 0h3m4s  (22.7%)\rEpoch: 13.6%  lr: 0.038659  loss: 0.012327  eta: 0h9m  tot: 0h3m5s  (22.7%)\rEpoch: 13.7%  lr: 0.038649  loss: 0.012304  eta: 0h9m  tot: 0h3m5s  (22.7%)\rEpoch: 13.8%  lr: 0.038639  loss: 0.012358  eta: 0h9m  tot: 0h3m5s  (22.8%)\rEpoch: 13.9%  lr: 0.038639  loss: 0.012379  eta: 0h9m  tot: 0h3m5s  (22.8%)\rEpoch: 14.0%  lr: 0.038609  loss: 0.012457  eta: 0h9m  tot: 0h3m5s  (22.8%)\rEpoch: 14.0%  lr: 0.038609  loss: 0.012440  eta: 0h9m  tot: 0h3m5s  (22.8%)\rEpoch: 14.1%  lr: 0.038589  loss: 0.012458  eta: 0h9m  tot: 0h3m5s  (22.8%)\rEpoch: 14.2%  lr: 0.038589  loss: 0.012406  eta: 0h9m  tot: 0h3m6s  (22.8%)\rEpoch: 14.3%  lr: 0.038569  loss: 0.012365  eta: 0h9m  tot: 0h3m6s  (22.9%)\rEpoch: 14.4%  lr: 0.038559  loss: 0.012338  eta: 0h9m  tot: 0h3m6s  (22.9%)\rEpoch: 14.5%  lr: 0.038559  loss: 0.012311  eta: 0h9m  tot: 0h3m6s  (22.9%)\rEpoch: 14.6%  lr: 0.038559  loss: 0.012402  eta: 0h9m  tot: 0h3m6s  (22.9%)\rEpoch: 14.7%  lr: 0.038549  loss: 0.012460  eta: 0h9m  tot: 0h3m6s  (22.9%)\rEpoch: 14.8%  lr: 0.038549  loss: 0.012426  eta: 0h9m  tot: 0h3m6s  (23.0%)\rEpoch: 14.9%  lr: 0.038549  loss: 0.012494  eta: 0h9m  tot: 0h3m7s  (23.0%)\rEpoch: 14.9%  lr: 0.038529  loss: 0.012460  eta: 0h9m  tot: 0h3m7s  (23.0%)\rEpoch: 15.0%  lr: 0.038529  loss: 0.012517  eta: 0h9m  tot: 0h3m7s  (23.0%)\rEpoch: 15.1%  lr: 0.038529  loss: 0.012506  eta: 0h9m  tot: 0h3m7s  (23.0%)\rEpoch: 15.2%  lr: 0.038509  loss: 0.012490  eta: 0h9m  tot: 0h3m7s  (23.0%)\rEpoch: 15.3%  lr: 0.038509  loss: 0.012457  eta: 0h9m  tot: 0h3m7s  (23.1%)\rEpoch: 15.4%  lr: 0.038489  loss: 0.012508  eta: 0h9m  tot: 0h3m7s  (23.1%)\rEpoch: 15.5%  lr: 0.038448  loss: 0.012550  eta: 0h9m  tot: 0h3m7s  (23.1%)\rEpoch: 15.6%  lr: 0.038448  loss: 0.012551  eta: 0h9m  tot: 0h3m8s  (23.1%)\rEpoch: 15.7%  lr: 0.038428  loss: 0.012521  eta: 0h9m  tot: 0h3m8s  (23.1%)\rEpoch: 15.8%  lr: 0.038408  loss: 0.012557  eta: 0h9m  tot: 0h3m8s  (23.2%)\rEpoch: 15.8%  lr: 0.038408  loss: 0.012579  eta: 0h9m  tot: 0h3m8s  (23.2%)\rEpoch: 15.9%  lr: 0.038378  loss: 0.012579  eta: 0h9m  tot: 0h3m8s  (23.2%)\rEpoch: 16.0%  lr: 0.038378  loss: 0.012563  eta: 0h9m  tot: 0h3m8s  (23.2%)\rEpoch: 16.1%  lr: 0.038378  loss: 0.012567  eta: 0h9m  tot: 0h3m8s  (23.2%)\rEpoch: 16.2%  lr: 0.038368  loss: 0.012554  eta: 0h9m  tot: 0h3m9s  (23.2%)\rEpoch: 16.3%  lr: 0.038368  loss: 0.012560  eta: 0h9m  tot: 0h3m9s  (23.3%)\rEpoch: 16.4%  lr: 0.038368  loss: 0.012532  eta: 0h9m  tot: 0h3m9s  (23.3%)\rEpoch: 16.5%  lr: 0.038358  loss: 0.012571  eta: 0h9m  tot: 0h3m9s  (23.3%)\rEpoch: 16.6%  lr: 0.038358  loss: 0.012526  eta: 0h9m  tot: 0h3m9s  (23.3%)\rEpoch: 16.7%  lr: 0.038328  loss: 0.012577  eta: 0h9m  tot: 0h3m9s  (23.3%)\rEpoch: 16.7%  lr: 0.038328  loss: 0.012616  eta: 0h9m  tot: 0h3m9s  (23.3%)\rEpoch: 16.8%  lr: 0.038308  loss: 0.012591  eta: 0h9m  tot: 0h3m10s  (23.4%)\rEpoch: 16.9%  lr: 0.038308  loss: 0.012548  eta: 0h9m  tot: 0h3m10s  (23.4%)\rEpoch: 17.0%  lr: 0.038308  loss: 0.012559  eta: 0h9m  tot: 0h3m10s  (23.4%)\rEpoch: 17.1%  lr: 0.038308  loss: 0.012588  eta: 0h9m  tot: 0h3m10s  (23.4%)\rEpoch: 17.2%  lr: 0.038288  loss: 0.012546  eta: 0h9m  tot: 0h3m10s  (23.4%)\rEpoch: 17.3%  lr: 0.038288  loss: 0.012564  eta: 0h9m  tot: 0h3m10s  (23.5%)\rEpoch: 17.4%  lr: 0.038278  loss: 0.012530  eta: 0h9m  tot: 0h3m10s  (23.5%)\rEpoch: 17.5%  lr: 0.038278  loss: 0.012510  eta: 0h9m  tot: 0h3m10s  (23.5%)\rEpoch: 17.6%  lr: 0.038278  loss: 0.012625  eta: 0h9m  tot: 0h3m11s  (23.5%)\rEpoch: 17.6%  lr: 0.038278  loss: 0.012692  eta: 0h9m  tot: 0h3m11s  (23.5%)\rEpoch: 17.7%  lr: 0.038278  loss: 0.012667  eta: 0h9m  tot: 0h3m11s  (23.5%)\rEpoch: 17.8%  lr: 0.038268  loss: 0.012662  eta: 0h9m  tot: 0h3m11s  (23.6%)\rEpoch: 17.9%  lr: 0.038258  loss: 0.012616  eta: 0h9m  tot: 0h3m11s  (23.6%)\rEpoch: 18.0%  lr: 0.038248  loss: 0.012629  eta: 0h9m  tot: 0h3m11s  (23.6%)\rEpoch: 18.1%  lr: 0.038238  loss: 0.012645  eta: 0h9m  tot: 0h3m11s  (23.6%)\rEpoch: 18.2%  lr: 0.038238  loss: 0.012696  eta: 0h9m  tot: 0h3m12s  (23.6%)\rEpoch: 18.3%  lr: 0.038228  loss: 0.012739  eta: 0h9m  tot: 0h3m12s  (23.7%)\rEpoch: 18.4%  lr: 0.038218  loss: 0.012730  eta: 0h9m  tot: 0h3m12s  (23.7%)\rEpoch: 18.5%  lr: 0.038178  loss: 0.012719  eta: 0h9m  tot: 0h3m12s  (23.7%)\rEpoch: 18.5%  lr: 0.038158  loss: 0.012730  eta: 0h9m  tot: 0h3m12s  (23.7%)\rEpoch: 18.6%  lr: 0.038148  loss: 0.012715  eta: 0h9m  tot: 0h3m12s  (23.7%)\rEpoch: 18.7%  lr: 0.038148  loss: 0.012771  eta: 0h9m  tot: 0h3m12s  (23.7%)\rEpoch: 18.8%  lr: 0.038138  loss: 0.012784  eta: 0h9m  tot: 0h3m13s  (23.8%)\rEpoch: 18.9%  lr: 0.038138  loss: 0.012755  eta: 0h9m  tot: 0h3m13s  (23.8%)\rEpoch: 19.0%  lr: 0.038138  loss: 0.012770  eta: 0h9m  tot: 0h3m13s  (23.8%)\rEpoch: 19.1%  lr: 0.038108  loss: 0.012869  eta: 0h9m  tot: 0h3m13s  (23.8%)\rEpoch: 19.2%  lr: 0.038088  loss: 0.012903  eta: 0h9m  tot: 0h3m13s  (23.8%)\rEpoch: 19.3%  lr: 0.038078  loss: 0.012911  eta: 0h9m  tot: 0h3m13s  (23.9%)\rEpoch: 19.4%  lr: 0.038078  loss: 0.012919  eta: 0h9m  tot: 0h3m13s  (23.9%)\rEpoch: 19.4%  lr: 0.038058  loss: 0.012897  eta: 0h9m  tot: 0h3m14s  (23.9%)\rEpoch: 19.5%  lr: 0.038028  loss: 0.012874  eta: 0h9m  tot: 0h3m14s  (23.9%)\rEpoch: 19.6%  lr: 0.038008  loss: 0.012925  eta: 0h9m  tot: 0h3m14s  (23.9%)\rEpoch: 19.7%  lr: 0.038008  loss: 0.012916  eta: 0h9m  tot: 0h3m14s  (23.9%)\rEpoch: 19.8%  lr: 0.037998  loss: 0.012921  eta: 0h9m  tot: 0h3m14s  (24.0%)\rEpoch: 19.9%  lr: 0.037998  loss: 0.012972  eta: 0h9m  tot: 0h3m14s  (24.0%)\rEpoch: 20.0%  lr: 0.037998  loss: 0.012946  eta: 0h9m  tot: 0h3m14s  (24.0%)\rEpoch: 20.1%  lr: 0.037998  loss: 0.012957  eta: 0h9m  tot: 0h3m15s  (24.0%)\rEpoch: 20.2%  lr: 0.037978  loss: 0.012977  eta: 0h9m  tot: 0h3m15s  (24.0%)\rEpoch: 20.3%  lr: 0.037958  loss: 0.012962  eta: 0h9m  tot: 0h3m15s  (24.1%)\rEpoch: 20.3%  lr: 0.037958  loss: 0.012924  eta: 0h9m  tot: 0h3m15s  (24.1%)\rEpoch: 20.4%  lr: 0.037948  loss: 0.012960  eta: 0h9m  tot: 0h3m15s  (24.1%)\rEpoch: 20.5%  lr: 0.037948  loss: 0.012986  eta: 0h9m  tot: 0h3m15s  (24.1%)\rEpoch: 20.6%  lr: 0.037948  loss: 0.013069  eta: 0h9m  tot: 0h3m15s  (24.1%)\rEpoch: 20.7%  lr: 0.037938  loss: 0.013064  eta: 0h9m  tot: 0h3m16s  (24.1%)\rEpoch: 20.8%  lr: 0.037938  loss: 0.013084  eta: 0h9m  tot: 0h3m16s  (24.2%)\rEpoch: 20.9%  lr: 0.037918  loss: 0.013114  eta: 0h9m  tot: 0h3m16s  (24.2%)\rEpoch: 21.0%  lr: 0.037898  loss: 0.013090  eta: 0h9m  tot: 0h3m16s  (24.2%)\rEpoch: 21.1%  lr: 0.037858  loss: 0.013073  eta: 0h9m  tot: 0h3m16s  (24.2%)\rEpoch: 21.2%  lr: 0.037848  loss: 0.013084  eta: 0h9m  tot: 0h3m16s  (24.2%)\rEpoch: 21.2%  lr: 0.037848  loss: 0.013047  eta: 0h9m  tot: 0h3m16s  (24.2%)\rEpoch: 21.3%  lr: 0.037848  loss: 0.013082  eta: 0h9m  tot: 0h3m17s  (24.3%)\rEpoch: 21.4%  lr: 0.037838  loss: 0.013066  eta: 0h9m  tot: 0h3m17s  (24.3%)\rEpoch: 21.5%  lr: 0.037828  loss: 0.013076  eta: 0h9m  tot: 0h3m17s  (24.3%)\rEpoch: 21.6%  lr: 0.037818  loss: 0.013096  eta: 0h9m  tot: 0h3m17s  (24.3%)\rEpoch: 21.7%  lr: 0.037808  loss: 0.013078  eta: 0h9m  tot: 0h3m17s  (24.3%)\rEpoch: 21.8%  lr: 0.037808  loss: 0.013058  eta: 0h9m  tot: 0h3m17s  (24.4%)\rEpoch: 21.9%  lr: 0.037808  loss: 0.013098  eta: 0h9m  tot: 0h3m17s  (24.4%)\rEpoch: 22.0%  lr: 0.037788  loss: 0.013122  eta: 0h9m  tot: 0h3m17s  (24.4%)\rEpoch: 22.1%  lr: 0.037778  loss: 0.013110  eta: 0h9m  tot: 0h3m18s  (24.4%)\rEpoch: 22.1%  lr: 0.037778  loss: 0.013132  eta: 0h9m  tot: 0h3m18s  (24.4%)\rEpoch: 22.2%  lr: 0.037778  loss: 0.013098  eta: 0h9m  tot: 0h3m18s  (24.4%)\rEpoch: 22.3%  lr: 0.037778  loss: 0.013121  eta: 0h9m  tot: 0h3m18s  (24.5%)\rEpoch: 22.4%  lr: 0.037778  loss: 0.013121  eta: 0h9m  tot: 0h3m18s  (24.5%)\rEpoch: 22.5%  lr: 0.037738  loss: 0.013099  eta: 0h9m  tot: 0h3m18s  (24.5%)\rEpoch: 22.6%  lr: 0.037728  loss: 0.013105  eta: 0h9m  tot: 0h3m18s  (24.5%)\rEpoch: 22.7%  lr: 0.037718  loss: 0.013095  eta: 0h9m  tot: 0h3m19s  (24.5%)\rEpoch: 22.8%  lr: 0.037718  loss: 0.013076  eta: 0h9m  tot: 0h3m19s  (24.6%)\rEpoch: 22.9%  lr: 0.037718  loss: 0.013079  eta: 0h9m  tot: 0h3m19s  (24.6%)\rEpoch: 23.0%  lr: 0.037718  loss: 0.013092  eta: 0h9m  tot: 0h3m19s  (24.6%)\rEpoch: 23.0%  lr: 0.037718  loss: 0.013098  eta: 0h9m  tot: 0h3m19s  (24.6%)\rEpoch: 23.1%  lr: 0.037708  loss: 0.013107  eta: 0h9m  tot: 0h3m19s  (24.6%)\rEpoch: 23.2%  lr: 0.037698  loss: 0.013081  eta: 0h9m  tot: 0h3m19s  (24.6%)\rEpoch: 23.3%  lr: 0.037678  loss: 0.013082  eta: 0h9m  tot: 0h3m20s  (24.7%)\rEpoch: 23.4%  lr: 0.037648  loss: 0.013076  eta: 0h9m  tot: 0h3m20s  (24.7%)\rEpoch: 23.5%  lr: 0.037648  loss: 0.013058  eta: 0h9m  tot: 0h3m20s  (24.7%)\rEpoch: 23.6%  lr: 0.037628  loss: 0.013048  eta: 0h9m  tot: 0h3m20s  (24.7%)\rEpoch: 23.7%  lr: 0.037608  loss: 0.013074  eta: 0h9m  tot: 0h3m20s  (24.7%)\rEpoch: 23.8%  lr: 0.037588  loss: 0.013115  eta: 0h9m  tot: 0h3m20s  (24.8%)\rEpoch: 23.9%  lr: 0.037588  loss: 0.013140  eta: 0h9m  tot: 0h3m20s  (24.8%)\rEpoch: 23.9%  lr: 0.037588  loss: 0.013117  eta: 0h9m  tot: 0h3m21s  (24.8%)\rEpoch: 24.0%  lr: 0.037588  loss: 0.013131  eta: 0h9m  tot: 0h3m21s  (24.8%)\rEpoch: 24.1%  lr: 0.037578  loss: 0.013114  eta: 0h9m  tot: 0h3m21s  (24.8%)\rEpoch: 24.2%  lr: 0.037558  loss: 0.013087  eta: 0h9m  tot: 0h3m21s  (24.8%)\rEpoch: 24.3%  lr: 0.037548  loss: 0.013156  eta: 0h9m  tot: 0h3m21s  (24.9%)\rEpoch: 24.4%  lr: 0.037538  loss: 0.013148  eta: 0h9m  tot: 0h3m21s  (24.9%)\rEpoch: 24.5%  lr: 0.037528  loss: 0.013169  eta: 0h9m  tot: 0h3m21s  (24.9%)\rEpoch: 24.6%  lr: 0.037528  loss: 0.013175  eta: 0h9m  tot: 0h3m22s  (24.9%)\rEpoch: 24.7%  lr: 0.037528  loss: 0.013190  eta: 0h9m  tot: 0h3m22s  (24.9%)\rEpoch: 24.8%  lr: 0.037528  loss: 0.013227  eta: 0h9m  tot: 0h3m22s  (25.0%)\rEpoch: 24.8%  lr: 0.037528  loss: 0.013197  eta: 0h9m  tot: 0h3m22s  (25.0%)\rEpoch: 24.9%  lr: 0.037518  loss: 0.013218  eta: 0h9m  tot: 0h3m22s  (25.0%)\rEpoch: 25.0%  lr: 0.037508  loss: 0.013211  eta: 0h9m  tot: 0h3m22s  (25.0%)\rEpoch: 25.1%  lr: 0.037508  loss: 0.013200  eta: 0h9m  tot: 0h3m22s  (25.0%)\rEpoch: 25.2%  lr: 0.037478  loss: 0.013176  eta: 0h9m  tot: 0h3m22s  (25.0%)\rEpoch: 25.3%  lr: 0.037468  loss: 0.013153  eta: 0h9m  tot: 0h3m23s  (25.1%)\rEpoch: 25.4%  lr: 0.037447  loss: 0.013117  eta: 0h9m  tot: 0h3m23s  (25.1%)\rEpoch: 25.5%  lr: 0.037437  loss: 0.013110  eta: 0h9m  tot: 0h3m23s  (25.1%)\rEpoch: 25.6%  lr: 0.037417  loss: 0.013105  eta: 0h9m  tot: 0h3m23s  (25.1%)\rEpoch: 25.7%  lr: 0.037417  loss: 0.013081  eta: 0h9m  tot: 0h3m23s  (25.1%)\rEpoch: 25.7%  lr: 0.037417  loss: 0.013066  eta: 0h9m  tot: 0h3m23s  (25.1%)\rEpoch: 25.8%  lr: 0.037407  loss: 0.013058  eta: 0h9m  tot: 0h3m23s  (25.2%)\rEpoch: 25.9%  lr: 0.037367  loss: 0.013072  eta: 0h9m  tot: 0h3m24s  (25.2%)\rEpoch: 26.0%  lr: 0.037347  loss: 0.013124  eta: 0h9m  tot: 0h3m24s  (25.2%)\rEpoch: 26.1%  lr: 0.037347  loss: 0.013098  eta: 0h9m  tot: 0h3m24s  (25.2%)\rEpoch: 26.2%  lr: 0.037337  loss: 0.013110  eta: 0h9m  tot: 0h3m24s  (25.2%)\rEpoch: 26.3%  lr: 0.037327  loss: 0.013139  eta: 0h9m  tot: 0h3m24s  (25.3%)\rEpoch: 26.4%  lr: 0.037317  loss: 0.013146  eta: 0h9m  tot: 0h3m24s  (25.3%)\rEpoch: 26.5%  lr: 0.037317  loss: 0.013158  eta: 0h9m  tot: 0h3m24s  (25.3%)\rEpoch: 26.6%  lr: 0.037307  loss: 0.013173  eta: 0h9m  tot: 0h3m25s  (25.3%)\rEpoch: 26.6%  lr: 0.037307  loss: 0.013153  eta: 0h9m  tot: 0h3m25s  (25.3%)\rEpoch: 26.7%  lr: 0.037297  loss: 0.013160  eta: 0h9m  tot: 0h3m25s  (25.3%)\rEpoch: 26.8%  lr: 0.037287  loss: 0.013177  eta: 0h9m  tot: 0h3m25s  (25.4%)\rEpoch: 26.9%  lr: 0.037287  loss: 0.013140  eta: 0h9m  tot: 0h3m25s  (25.4%)\rEpoch: 27.0%  lr: 0.037287  loss: 0.013146  eta: 0h9m  tot: 0h3m25s  (25.4%)\rEpoch: 27.1%  lr: 0.037277  loss: 0.013142  eta: 0h9m  tot: 0h3m25s  (25.4%)\rEpoch: 27.2%  lr: 0.037267  loss: 0.013146  eta: 0h9m  tot: 0h3m26s  (25.4%)\rEpoch: 27.3%  lr: 0.037267  loss: 0.013184  eta: 0h9m  tot: 0h3m26s  (25.5%)\rEpoch: 27.4%  lr: 0.037267  loss: 0.013199  eta: 0h9m  tot: 0h3m26s  (25.5%)\rEpoch: 27.5%  lr: 0.037267  loss: 0.013162  eta: 0h9m  tot: 0h3m26s  (25.5%)\rEpoch: 27.5%  lr: 0.037267  loss: 0.013184  eta: 0h9m  tot: 0h3m26s  (25.5%)\rEpoch: 27.6%  lr: 0.037267  loss: 0.013175  eta: 0h9m  tot: 0h3m26s  (25.5%)\rEpoch: 27.7%  lr: 0.037267  loss: 0.013170  eta: 0h9m  tot: 0h3m26s  (25.5%)\rEpoch: 27.8%  lr: 0.037257  loss: 0.013162  eta: 0h9m  tot: 0h3m26s  (25.6%)\rEpoch: 27.9%  lr: 0.037247  loss: 0.013156  eta: 0h9m  tot: 0h3m27s  (25.6%)\rEpoch: 28.0%  lr: 0.037247  loss: 0.013160  eta: 0h9m  tot: 0h3m27s  (25.6%)\rEpoch: 28.1%  lr: 0.037237  loss: 0.013154  eta: 0h9m  tot: 0h3m27s  (25.6%)\rEpoch: 28.2%  lr: 0.037237  loss: 0.013187  eta: 0h9m  tot: 0h3m27s  (25.6%)\rEpoch: 28.3%  lr: 0.037207  loss: 0.013172  eta: 0h9m  tot: 0h3m27s  (25.7%)\rEpoch: 28.4%  lr: 0.037207  loss: 0.013153  eta: 0h9m  tot: 0h3m27s  (25.7%)\rEpoch: 28.4%  lr: 0.037207  loss: 0.013130  eta: 0h9m  tot: 0h3m27s  (25.7%)\rEpoch: 28.5%  lr: 0.037207  loss: 0.013152  eta: 0h9m  tot: 0h3m28s  (25.7%)\rEpoch: 28.6%  lr: 0.037197  loss: 0.013135  eta: 0h9m  tot: 0h3m28s  (25.7%)\rEpoch: 28.7%  lr: 0.037187  loss: 0.013123  eta: 0h9m  tot: 0h3m28s  (25.7%)\rEpoch: 28.8%  lr: 0.037187  loss: 0.013111  eta: 0h9m  tot: 0h3m28s  (25.8%)\rEpoch: 28.9%  lr: 0.037177  loss: 0.013104  eta: 0h9m  tot: 0h3m28s  (25.8%)\rEpoch: 29.0%  lr: 0.037147  loss: 0.013088  eta: 0h9m  tot: 0h3m28s  (25.8%)\rEpoch: 29.1%  lr: 0.037147  loss: 0.013069  eta: 0h9m  tot: 0h3m28s  (25.8%)\rEpoch: 29.2%  lr: 0.037137  loss: 0.013088  eta: 0h9m  tot: 0h3m29s  (25.8%)\rEpoch: 29.3%  lr: 0.037127  loss: 0.013070  eta: 0h9m  tot: 0h3m29s  (25.9%)\rEpoch: 29.3%  lr: 0.037127  loss: 0.013100  eta: 0h9m  tot: 0h3m29s  (25.9%)\rEpoch: 29.4%  lr: 0.037107  loss: 0.013088  eta: 0h9m  tot: 0h3m29s  (25.9%)\rEpoch: 29.5%  lr: 0.037097  loss: 0.013095  eta: 0h9m  tot: 0h3m29s  (25.9%)\rEpoch: 29.6%  lr: 0.037097  loss: 0.013072  eta: 0h9m  tot: 0h3m29s  (25.9%)\rEpoch: 29.7%  lr: 0.037087  loss: 0.013128  eta: 0h9m  tot: 0h3m29s  (25.9%)\rEpoch: 29.8%  lr: 0.037087  loss: 0.013122  eta: 0h9m  tot: 0h3m29s  (26.0%)\rEpoch: 29.9%  lr: 0.037077  loss: 0.013130  eta: 0h9m  tot: 0h3m30s  (26.0%)\rEpoch: 30.0%  lr: 0.037077  loss: 0.013131  eta: 0h9m  tot: 0h3m30s  (26.0%)\rEpoch: 30.1%  lr: 0.037047  loss: 0.013114  eta: 0h9m  tot: 0h3m30s  (26.0%)\rEpoch: 30.2%  lr: 0.037047  loss: 0.013087  eta: 0h9m  tot: 0h3m30s  (26.0%)\rEpoch: 30.2%  lr: 0.037047  loss: 0.013084  eta: 0h9m  tot: 0h3m30s  (26.0%)\rEpoch: 30.3%  lr: 0.037047  loss: 0.013082  eta: 0h9m  tot: 0h3m30s  (26.1%)\rEpoch: 30.4%  lr: 0.037017  loss: 0.013081  eta: 0h9m  tot: 0h3m30s  (26.1%)\rEpoch: 30.5%  lr: 0.037007  loss: 0.013057  eta: 0h9m  tot: 0h3m31s  (26.1%)\rEpoch: 30.6%  lr: 0.037007  loss: 0.013042  eta: 0h9m  tot: 0h3m31s  (26.1%)\rEpoch: 30.7%  lr: 0.037007  loss: 0.013027  eta: 0h9m  tot: 0h3m31s  (26.1%)\rEpoch: 30.8%  lr: 0.037007  loss: 0.013034  eta: 0h9m  tot: 0h3m31s  (26.2%)\rEpoch: 30.9%  lr: 0.036987  loss: 0.013054  eta: 0h9m  tot: 0h3m31s  (26.2%)\rEpoch: 31.0%  lr: 0.036967  loss: 0.013088  eta: 0h9m  tot: 0h3m31s  (26.2%)\rEpoch: 31.1%  lr: 0.036957  loss: 0.013077  eta: 0h9m  tot: 0h3m31s  (26.2%)\rEpoch: 31.1%  lr: 0.036947  loss: 0.013073  eta: 0h9m  tot: 0h3m32s  (26.2%)\rEpoch: 31.2%  lr: 0.036947  loss: 0.013054  eta: 0h9m  tot: 0h3m32s  (26.2%)\rEpoch: 31.3%  lr: 0.036937  loss: 0.013044  eta: 0h9m  tot: 0h3m32s  (26.3%)\rEpoch: 31.4%  lr: 0.036927  loss: 0.013066  eta: 0h9m  tot: 0h3m32s  (26.3%)\rEpoch: 31.5%  lr: 0.036927  loss: 0.013052  eta: 0h9m  tot: 0h3m32s  (26.3%)\rEpoch: 31.6%  lr: 0.036917  loss: 0.013057  eta: 0h9m  tot: 0h3m32s  (26.3%)\rEpoch: 31.7%  lr: 0.036907  loss: 0.013037  eta: 0h9m  tot: 0h3m32s  (26.3%)\rEpoch: 31.8%  lr: 0.036907  loss: 0.013021  eta: 0h9m  tot: 0h3m33s  (26.4%)\rEpoch: 31.9%  lr: 0.036907  loss: 0.013016  eta: 0h9m  tot: 0h3m33s  (26.4%)\rEpoch: 32.0%  lr: 0.036907  loss: 0.013017  eta: 0h9m  tot: 0h3m33s  (26.4%)\rEpoch: 32.0%  lr: 0.036887  loss: 0.013001  eta: 0h9m  tot: 0h3m33s  (26.4%)\rEpoch: 32.1%  lr: 0.036857  loss: 0.013001  eta: 0h9m  tot: 0h3m33s  (26.4%)\rEpoch: 32.2%  lr: 0.036847  loss: 0.012989  eta: 0h9m  tot: 0h3m33s  (26.4%)\rEpoch: 32.3%  lr: 0.036837  loss: 0.012979  eta: 0h9m  tot: 0h3m33s  (26.5%)\rEpoch: 32.4%  lr: 0.036837  loss: 0.012953  eta: 0h9m  tot: 0h3m34s  (26.5%)\rEpoch: 32.5%  lr: 0.036837  loss: 0.012949  eta: 0h9m  tot: 0h3m34s  (26.5%)\rEpoch: 32.6%  lr: 0.036827  loss: 0.012968  eta: 0h9m  tot: 0h3m34s  (26.5%)\rEpoch: 32.7%  lr: 0.036817  loss: 0.012963  eta: 0h9m  tot: 0h3m34s  (26.5%)\rEpoch: 32.8%  lr: 0.036807  loss: 0.012975  eta: 0h9m  tot: 0h3m34s  (26.6%)\rEpoch: 32.9%  lr: 0.036787  loss: 0.012976  eta: 0h9m  tot: 0h3m34s  (26.6%)\rEpoch: 32.9%  lr: 0.036777  loss: 0.012974  eta: 0h9m  tot: 0h3m34s  (26.6%)\rEpoch: 33.0%  lr: 0.036767  loss: 0.012965  eta: 0h9m  tot: 0h3m34s  (26.6%)\rEpoch: 33.1%  lr: 0.036757  loss: 0.012978  eta: 0h9m  tot: 0h3m35s  (26.6%)\rEpoch: 33.2%  lr: 0.036757  loss: 0.012975  eta: 0h9m  tot: 0h3m35s  (26.6%)\rEpoch: 33.3%  lr: 0.036737  loss: 0.012971  eta: 0h9m  tot: 0h3m35s  (26.7%)\rEpoch: 33.4%  lr: 0.036727  loss: 0.012955  eta: 0h9m  tot: 0h3m35s  (26.7%)\rEpoch: 33.5%  lr: 0.036717  loss: 0.012987  eta: 0h9m  tot: 0h3m35s  (26.7%)\rEpoch: 33.6%  lr: 0.036717  loss: 0.012971  eta: 0h9m  tot: 0h3m35s  (26.7%)\rEpoch: 33.7%  lr: 0.036707  loss: 0.012967  eta: 0h9m  tot: 0h3m35s  (26.7%)\rEpoch: 33.8%  lr: 0.036707  loss: 0.012959  eta: 0h9m  tot: 0h3m36s  (26.8%)\rEpoch: 33.8%  lr: 0.036697  loss: 0.012950  eta: 0h9m  tot: 0h3m36s  (26.8%)\rEpoch: 33.9%  lr: 0.036697  loss: 0.012936  eta: 0h9m  tot: 0h3m36s  (26.8%)\rEpoch: 34.0%  lr: 0.036697  loss: 0.012985  eta: 0h9m  tot: 0h3m36s  (26.8%)\rEpoch: 34.1%  lr: 0.036687  loss: 0.012978  eta: 0h9m  tot: 0h3m36s  (26.8%)\rEpoch: 34.2%  lr: 0.036687  loss: 0.012984  eta: 0h9m  tot: 0h3m36s  (26.8%)\rEpoch: 34.3%  lr: 0.036687  loss: 0.012975  eta: 0h9m  tot: 0h3m36s  (26.9%)\rEpoch: 34.4%  lr: 0.036657  loss: 0.012972  eta: 0h9m  tot: 0h3m37s  (26.9%)\rEpoch: 34.5%  lr: 0.036647  loss: 0.012968  eta: 0h9m  tot: 0h3m37s  (26.9%)\rEpoch: 34.6%  lr: 0.036637  loss: 0.012965  eta: 0h9m  tot: 0h3m37s  (26.9%)\rEpoch: 34.7%  lr: 0.036627  loss: 0.012950  eta: 0h9m  tot: 0h3m37s  (26.9%)\rEpoch: 34.7%  lr: 0.036627  loss: 0.012938  eta: 0h9m  tot: 0h3m37s  (26.9%)\rEpoch: 34.8%  lr: 0.036587  loss: 0.012962  eta: 0h9m  tot: 0h3m37s  (27.0%)\rEpoch: 34.9%  lr: 0.036587  loss: 0.013002  eta: 0h9m  tot: 0h3m37s  (27.0%)\rEpoch: 35.0%  lr: 0.036567  loss: 0.012995  eta: 0h9m  tot: 0h3m37s  (27.0%)\rEpoch: 35.1%  lr: 0.036557  loss: 0.012986  eta: 0h9m  tot: 0h3m38s  (27.0%)\rEpoch: 35.2%  lr: 0.036557  loss: 0.013003  eta: 0h9m  tot: 0h3m38s  (27.0%)\rEpoch: 35.3%  lr: 0.036557  loss: 0.013011  eta: 0h9m  tot: 0h3m38s  (27.1%)\rEpoch: 35.4%  lr: 0.036557  loss: 0.013044  eta: 0h9m  tot: 0h3m38s  (27.1%)\rEpoch: 35.5%  lr: 0.036557  loss: 0.013037  eta: 0h9m  tot: 0h3m38s  (27.1%)\rEpoch: 35.6%  lr: 0.036557  loss: 0.013027  eta: 0h9m  tot: 0h3m38s  (27.1%)\rEpoch: 35.6%  lr: 0.036557  loss: 0.013020  eta: 0h9m  tot: 0h3m38s  (27.1%)\rEpoch: 35.7%  lr: 0.036527  loss: 0.013035  eta: 0h9m  tot: 0h3m39s  (27.1%)\rEpoch: 35.8%  lr: 0.036517  loss: 0.013013  eta: 0h9m  tot: 0h3m39s  (27.2%)\rEpoch: 35.9%  lr: 0.036497  loss: 0.013020  eta: 0h9m  tot: 0h3m39s  (27.2%)\rEpoch: 36.0%  lr: 0.036477  loss: 0.013023  eta: 0h9m  tot: 0h3m39s  (27.2%)\rEpoch: 36.1%  lr: 0.036467  loss: 0.013012  eta: 0h9m  tot: 0h3m39s  (27.2%)\rEpoch: 36.2%  lr: 0.036457  loss: 0.013004  eta: 0h9m  tot: 0h3m39s  (27.2%)\rEpoch: 36.3%  lr: 0.036457  loss: 0.012997  eta: 0h9m  tot: 0h3m39s  (27.3%)\rEpoch: 36.4%  lr: 0.036426  loss: 0.012990  eta: 0h9m  tot: 0h3m40s  (27.3%)\rEpoch: 36.5%  lr: 0.036426  loss: 0.012978  eta: 0h9m  tot: 0h3m40s  (27.3%)\rEpoch: 36.5%  lr: 0.036426  loss: 0.012964  eta: 0h9m  tot: 0h3m40s  (27.3%)\rEpoch: 36.6%  lr: 0.036426  loss: 0.012953  eta: 0h9m  tot: 0h3m40s  (27.3%)\rEpoch: 36.7%  lr: 0.036406  loss: 0.012948  eta: 0h9m  tot: 0h3m40s  (27.3%)\rEpoch: 36.8%  lr: 0.036406  loss: 0.012971  eta: 0h9m  tot: 0h3m40s  (27.4%)\rEpoch: 36.9%  lr: 0.036396  loss: 0.012970  eta: 0h9m  tot: 0h3m40s  (27.4%)\rEpoch: 37.0%  lr: 0.036386  loss: 0.012988  eta: 0h9m  tot: 0h3m40s  (27.4%)\rEpoch: 37.1%  lr: 0.036376  loss: 0.012981  eta: 0h9m  tot: 0h3m41s  (27.4%)\rEpoch: 37.2%  lr: 0.036346  loss: 0.012995  eta: 0h9m  tot: 0h3m41s  (27.4%)\rEpoch: 37.3%  lr: 0.036336  loss: 0.013003  eta: 0h9m  tot: 0h3m41s  (27.5%)\rEpoch: 37.4%  lr: 0.036306  loss: 0.012997  eta: 0h9m  tot: 0h3m41s  (27.5%)\rEpoch: 37.4%  lr: 0.036306  loss: 0.012988  eta: 0h9m  tot: 0h3m41s  (27.5%)\rEpoch: 37.5%  lr: 0.036306  loss: 0.012979  eta: 0h9m  tot: 0h3m41s  (27.5%)\rEpoch: 37.6%  lr: 0.036296  loss: 0.012966  eta: 0h9m  tot: 0h3m41s  (27.5%)\rEpoch: 37.7%  lr: 0.036296  loss: 0.012970  eta: 0h9m  tot: 0h3m42s  (27.5%)\rEpoch: 37.8%  lr: 0.036296  loss: 0.012953  eta: 0h9m  tot: 0h3m42s  (27.6%)\rEpoch: 37.9%  lr: 0.036286  loss: 0.012970  eta: 0h9m  tot: 0h3m42s  (27.6%)\rEpoch: 38.0%  lr: 0.036276  loss: 0.012964  eta: 0h9m  tot: 0h3m42s  (27.6%)\rEpoch: 38.1%  lr: 0.036266  loss: 0.012970  eta: 0h9m  tot: 0h3m42s  (27.6%)\rEpoch: 38.2%  lr: 0.036236  loss: 0.012946  eta: 0h9m  tot: 0h3m42s  (27.6%)\rEpoch: 38.3%  lr: 0.036226  loss: 0.012922  eta: 0h9m  tot: 0h3m42s  (27.7%)\rEpoch: 38.3%  lr: 0.036226  loss: 0.012910  eta: 0h9m  tot: 0h3m43s  (27.7%)\rEpoch: 38.4%  lr: 0.036216  loss: 0.012908  eta: 0h9m  tot: 0h3m43s  (27.7%)\rEpoch: 38.5%  lr: 0.036206  loss: 0.012912  eta: 0h9m  tot: 0h3m43s  (27.7%)\rEpoch: 38.6%  lr: 0.036196  loss: 0.012925  eta: 0h9m  tot: 0h3m43s  (27.7%)\rEpoch: 38.7%  lr: 0.036186  loss: 0.012924  eta: 0h9m  tot: 0h3m43s  (27.7%)\rEpoch: 38.8%  lr: 0.036186  loss: 0.012912  eta: 0h9m  tot: 0h3m43s  (27.8%)\rEpoch: 38.9%  lr: 0.036166  loss: 0.012896  eta: 0h9m  tot: 0h3m43s  (27.8%)\rEpoch: 39.0%  lr: 0.036146  loss: 0.012888  eta: 0h9m  tot: 0h3m44s  (27.8%)\rEpoch: 39.1%  lr: 0.036136  loss: 0.012888  eta: 0h9m  tot: 0h3m44s  (27.8%)\rEpoch: 39.2%  lr: 0.036126  loss: 0.012883  eta: 0h9m  tot: 0h3m44s  (27.8%)\rEpoch: 39.2%  lr: 0.036126  loss: 0.012891  eta: 0h9m  tot: 0h3m44s  (27.8%)\rEpoch: 39.3%  lr: 0.036126  loss: 0.012877  eta: 0h9m  tot: 0h3m44s  (27.9%)\rEpoch: 39.4%  lr: 0.036106  loss: 0.012861  eta: 0h9m  tot: 0h3m44s  (27.9%)\rEpoch: 39.5%  lr: 0.036106  loss: 0.012848  eta: 0h9m  tot: 0h3m44s  (27.9%)\rEpoch: 39.6%  lr: 0.036106  loss: 0.012845  eta: 0h9m  tot: 0h3m44s  (27.9%)\rEpoch: 39.7%  lr: 0.036096  loss: 0.012860  eta: 0h9m  tot: 0h3m45s  (27.9%)\rEpoch: 39.8%  lr: 0.036086  loss: 0.012847  eta: 0h9m  tot: 0h3m45s  (28.0%)\rEpoch: 39.9%  lr: 0.036076  loss: 0.012841  eta: 0h9m  tot: 0h3m45s  (28.0%)\rEpoch: 40.0%  lr: 0.036066  loss: 0.012848  eta: 0h9m  tot: 0h3m45s  (28.0%)\rEpoch: 40.1%  lr: 0.036046  loss: 0.012865  eta: 0h9m  tot: 0h3m45s  (28.0%)\rEpoch: 40.1%  lr: 0.036036  loss: 0.012879  eta: 0h9m  tot: 0h3m45s  (28.0%)\rEpoch: 40.2%  lr: 0.036016  loss: 0.012897  eta: 0h9m  tot: 0h3m45s  (28.0%)\rEpoch: 40.3%  lr: 0.036006  loss: 0.012897  eta: 0h9m  tot: 0h3m46s  (28.1%)\rEpoch: 40.4%  lr: 0.035996  loss: 0.012917  eta: 0h9m  tot: 0h3m46s  (28.1%)\rEpoch: 40.5%  lr: 0.035986  loss: 0.012916  eta: 0h9m  tot: 0h3m46s  (28.1%)\rEpoch: 40.6%  lr: 0.035986  loss: 0.012925  eta: 0h9m  tot: 0h3m46s  (28.1%)\rEpoch: 40.7%  lr: 0.035976  loss: 0.012933  eta: 0h9m  tot: 0h3m46s  (28.1%)\rEpoch: 40.8%  lr: 0.035976  loss: 0.012948  eta: 0h9m  tot: 0h3m46s  (28.2%)\rEpoch: 40.9%  lr: 0.035976  loss: 0.012988  eta: 0h9m  tot: 0h3m46s  (28.2%)\rEpoch: 41.0%  lr: 0.035946  loss: 0.013007  eta: 0h9m  tot: 0h3m47s  (28.2%)\rEpoch: 41.0%  lr: 0.035946  loss: 0.012996  eta: 0h9m  tot: 0h3m47s  (28.2%)\rEpoch: 41.1%  lr: 0.035946  loss: 0.012987  eta: 0h9m  tot: 0h3m47s  (28.2%)\rEpoch: 41.2%  lr: 0.035946  loss: 0.012976  eta: 0h9m  tot: 0h3m47s  (28.2%)\rEpoch: 41.3%  lr: 0.035946  loss: 0.012997  eta: 0h9m  tot: 0h3m47s  (28.3%)\rEpoch: 41.4%  lr: 0.035946  loss: 0.013009  eta: 0h9m  tot: 0h3m47s  (28.3%)\rEpoch: 41.5%  lr: 0.035946  loss: 0.012992  eta: 0h9m  tot: 0h3m47s  (28.3%)\rEpoch: 41.6%  lr: 0.035946  loss: 0.012993  eta: 0h9m  tot: 0h3m47s  (28.3%)\rEpoch: 41.7%  lr: 0.035946  loss: 0.013015  eta: 0h9m  tot: 0h3m48s  (28.3%)\rEpoch: 41.8%  lr: 0.035926  loss: 0.013015  eta: 0h9m  tot: 0h3m48s  (28.4%)\rEpoch: 41.9%  lr: 0.035926  loss: 0.013011  eta: 0h9m  tot: 0h3m48s  (28.4%)\rEpoch: 42.0%  lr: 0.035916  loss: 0.013008  eta: 0h9m  tot: 0h3m48s  (28.4%)\rEpoch: 42.0%  lr: 0.035896  loss: 0.013018  eta: 0h9m  tot: 0h3m48s  (28.4%)\rEpoch: 42.1%  lr: 0.035886  loss: 0.013002  eta: 0h9m  tot: 0h3m48s  (28.4%)\rEpoch: 42.2%  lr: 0.035886  loss: 0.013016  eta: 0h9m  tot: 0h3m48s  (28.4%)\rEpoch: 42.3%  lr: 0.035876  loss: 0.013008  eta: 0h9m  tot: 0h3m49s  (28.5%)\rEpoch: 42.4%  lr: 0.035866  loss: 0.012999  eta: 0h9m  tot: 0h3m49s  (28.5%)\rEpoch: 42.5%  lr: 0.035836  loss: 0.013028  eta: 0h9m  tot: 0h3m49s  (28.5%)\rEpoch: 42.6%  lr: 0.035826  loss: 0.013031  eta: 0h9m  tot: 0h3m49s  (28.5%)\rEpoch: 42.7%  lr: 0.035826  loss: 0.013062  eta: 0h9m  tot: 0h3m49s  (28.5%)\rEpoch: 42.8%  lr: 0.035786  loss: 0.013063  eta: 0h9m  tot: 0h3m49s  (28.6%)\rEpoch: 42.9%  lr: 0.035766  loss: 0.013060  eta: 0h9m  tot: 0h3m49s  (28.6%)\rEpoch: 42.9%  lr: 0.035756  loss: 0.013066  eta: 0h9m  tot: 0h3m50s  (28.6%)\rEpoch: 43.0%  lr: 0.035746  loss: 0.013099  eta: 0h9m  tot: 0h3m50s  (28.6%)\rEpoch: 43.1%  lr: 0.035736  loss: 0.013119  eta: 0h9m  tot: 0h3m50s  (28.6%)\rEpoch: 43.2%  lr: 0.035736  loss: 0.013148  eta: 0h9m  tot: 0h3m50s  (28.6%)\rEpoch: 43.3%  lr: 0.035736  loss: 0.013172  eta: 0h9m  tot: 0h3m50s  (28.7%)\rEpoch: 43.4%  lr: 0.035716  loss: 0.013152  eta: 0h9m  tot: 0h3m50s  (28.7%)\rEpoch: 43.5%  lr: 0.035716  loss: 0.013158  eta: 0h9m  tot: 0h3m50s  (28.7%)\rEpoch: 43.6%  lr: 0.035706  loss: 0.013160  eta: 0h9m  tot: 0h3m51s  (28.7%)\rEpoch: 43.7%  lr: 0.035696  loss: 0.013146  eta: 0h9m  tot: 0h3m51s  (28.7%)\rEpoch: 43.8%  lr: 0.035676  loss: 0.013128  eta: 0h9m  tot: 0h3m51s  (28.8%)\rEpoch: 43.8%  lr: 0.035676  loss: 0.013122  eta: 0h9m  tot: 0h3m51s  (28.8%)\rEpoch: 43.9%  lr: 0.035666  loss: 0.013131  eta: 0h9m  tot: 0h3m51s  (28.8%)\rEpoch: 44.0%  lr: 0.035636  loss: 0.013121  eta: 0h9m  tot: 0h3m51s  (28.8%)\rEpoch: 44.1%  lr: 0.035626  loss: 0.013108  eta: 0h9m  tot: 0h3m51s  (28.8%)\rEpoch: 44.2%  lr: 0.035616  loss: 0.013106  eta: 0h9m  tot: 0h3m51s  (28.8%)\rEpoch: 44.3%  lr: 0.035616  loss: 0.013087  eta: 0h9m  tot: 0h3m52s  (28.9%)\rEpoch: 44.4%  lr: 0.035606  loss: 0.013107  eta: 0h9m  tot: 0h3m52s  (28.9%)\rEpoch: 44.5%  lr: 0.035596  loss: 0.013110  eta: 0h9m  tot: 0h3m52s  (28.9%)\rEpoch: 44.6%  lr: 0.035586  loss: 0.013135  eta: 0h9m  tot: 0h3m52s  (28.9%)\rEpoch: 44.7%  lr: 0.035576  loss: 0.013132  eta: 0h9m  tot: 0h3m52s  (28.9%)\rEpoch: 44.7%  lr: 0.035566  loss: 0.013136  eta: 0h9m  tot: 0h3m52s  (28.9%)\rEpoch: 44.8%  lr: 0.035556  loss: 0.013132  eta: 0h8m  tot: 0h3m52s  (29.0%)\rEpoch: 44.9%  lr: 0.035556  loss: 0.013145  eta: 0h8m  tot: 0h3m53s  (29.0%)\rEpoch: 45.0%  lr: 0.035556  loss: 0.013131  eta: 0h8m  tot: 0h3m53s  (29.0%)\rEpoch: 45.1%  lr: 0.035546  loss: 0.013126  eta: 0h8m  tot: 0h3m53s  (29.0%)\rEpoch: 45.2%  lr: 0.035536  loss: 0.013157  eta: 0h8m  tot: 0h3m53s  (29.0%)\rEpoch: 45.3%  lr: 0.035536  loss: 0.013160  eta: 0h8m  tot: 0h3m53s  (29.1%)\rEpoch: 45.4%  lr: 0.035536  loss: 0.013171  eta: 0h8m  tot: 0h3m53s  (29.1%)\rEpoch: 45.5%  lr: 0.035526  loss: 0.013214  eta: 0h8m  tot: 0h3m53s  (29.1%)\rEpoch: 45.6%  lr: 0.035526  loss: 0.013216  eta: 0h8m  tot: 0h3m53s  (29.1%)\rEpoch: 45.6%  lr: 0.035506  loss: 0.013229  eta: 0h8m  tot: 0h3m54s  (29.1%)\rEpoch: 45.7%  lr: 0.035506  loss: 0.013230  eta: 0h8m  tot: 0h3m54s  (29.1%)\rEpoch: 45.8%  lr: 0.035506  loss: 0.013220  eta: 0h8m  tot: 0h3m54s  (29.2%)\rEpoch: 45.9%  lr: 0.035486  loss: 0.013253  eta: 0h8m  tot: 0h3m54s  (29.2%)\rEpoch: 46.0%  lr: 0.035486  loss: 0.013249  eta: 0h8m  tot: 0h3m54s  (29.2%)\rEpoch: 46.1%  lr: 0.035476  loss: 0.013252  eta: 0h8m  tot: 0h3m54s  (29.2%)\rEpoch: 46.2%  lr: 0.035456  loss: 0.013263  eta: 0h8m  tot: 0h3m54s  (29.2%)\rEpoch: 46.3%  lr: 0.035456  loss: 0.013277  eta: 0h8m  tot: 0h3m55s  (29.3%)\rEpoch: 46.4%  lr: 0.035436  loss: 0.013283  eta: 0h8m  tot: 0h3m55s  (29.3%)\rEpoch: 46.5%  lr: 0.035436  loss: 0.013283  eta: 0h8m  tot: 0h3m55s  (29.3%)\rEpoch: 46.5%  lr: 0.035425  loss: 0.013283  eta: 0h8m  tot: 0h3m55s  (29.3%)\rEpoch: 46.6%  lr: 0.035415  loss: 0.013294  eta: 0h8m  tot: 0h3m55s  (29.3%)\rEpoch: 46.7%  lr: 0.035415  loss: 0.013279  eta: 0h8m  tot: 0h3m55s  (29.3%)\rEpoch: 46.8%  lr: 0.035405  loss: 0.013278  eta: 0h8m  tot: 0h3m55s  (29.4%)\rEpoch: 46.9%  lr: 0.035385  loss: 0.013282  eta: 0h8m  tot: 0h3m56s  (29.4%)\rEpoch: 47.0%  lr: 0.035385  loss: 0.013299  eta: 0h8m  tot: 0h3m56s  (29.4%)\rEpoch: 47.1%  lr: 0.035385  loss: 0.013290  eta: 0h8m  tot: 0h3m56s  (29.4%)\rEpoch: 47.2%  lr: 0.035375  loss: 0.013274  eta: 0h8m  tot: 0h3m56s  (29.4%)\rEpoch: 47.3%  lr: 0.035365  loss: 0.013282  eta: 0h8m  tot: 0h3m56s  (29.5%)\rEpoch: 47.4%  lr: 0.035345  loss: 0.013273  eta: 0h8m  tot: 0h3m56s  (29.5%)\rEpoch: 47.4%  lr: 0.035325  loss: 0.013274  eta: 0h8m  tot: 0h3m56s  (29.5%)\rEpoch: 47.5%  lr: 0.035295  loss: 0.013262  eta: 0h8m  tot: 0h3m57s  (29.5%)\rEpoch: 47.6%  lr: 0.035285  loss: 0.013292  eta: 0h8m  tot: 0h3m57s  (29.5%)\rEpoch: 47.7%  lr: 0.035245  loss: 0.013294  eta: 0h8m  tot: 0h3m57s  (29.5%)\rEpoch: 47.8%  lr: 0.035245  loss: 0.013296  eta: 0h8m  tot: 0h3m57s  (29.6%)\rEpoch: 47.9%  lr: 0.035235  loss: 0.013303  eta: 0h8m  tot: 0h3m57s  (29.6%)\rEpoch: 48.0%  lr: 0.035215  loss: 0.013292  eta: 0h8m  tot: 0h3m57s  (29.6%)\rEpoch: 48.1%  lr: 0.035215  loss: 0.013336  eta: 0h8m  tot: 0h3m57s  (29.6%)\rEpoch: 48.2%  lr: 0.035205  loss: 0.013333  eta: 0h8m  tot: 0h3m57s  (29.6%)\rEpoch: 48.3%  lr: 0.035205  loss: 0.013325  eta: 0h8m  tot: 0h3m58s  (29.7%)\rEpoch: 48.3%  lr: 0.035185  loss: 0.013346  eta: 0h8m  tot: 0h3m58s  (29.7%)\rEpoch: 48.4%  lr: 0.035165  loss: 0.013341  eta: 0h8m  tot: 0h3m58s  (29.7%)\rEpoch: 48.5%  lr: 0.035145  loss: 0.013328  eta: 0h8m  tot: 0h3m58s  (29.7%)\rEpoch: 48.6%  lr: 0.035145  loss: 0.013313  eta: 0h8m  tot: 0h3m58s  (29.7%)\rEpoch: 48.7%  lr: 0.035145  loss: 0.013304  eta: 0h8m  tot: 0h3m58s  (29.7%)\rEpoch: 48.8%  lr: 0.035145  loss: 0.013294  eta: 0h8m  tot: 0h3m58s  (29.8%)\rEpoch: 48.9%  lr: 0.035115  loss: 0.013298  eta: 0h8m  tot: 0h3m59s  (29.8%)\rEpoch: 49.0%  lr: 0.035105  loss: 0.013298  eta: 0h8m  tot: 0h3m59s  (29.8%)\rEpoch: 49.1%  lr: 0.035095  loss: 0.013298  eta: 0h8m  tot: 0h3m59s  (29.8%)\rEpoch: 49.2%  lr: 0.035085  loss: 0.013307  eta: 0h8m  tot: 0h3m59s  (29.8%)\rEpoch: 49.2%  lr: 0.035075  loss: 0.013296  eta: 0h8m  tot: 0h3m59s  (29.8%)\rEpoch: 49.3%  lr: 0.035075  loss: 0.013288  eta: 0h8m  tot: 0h3m59s  (29.9%)\rEpoch: 49.4%  lr: 0.035075  loss: 0.013307  eta: 0h8m  tot: 0h3m59s  (29.9%)\rEpoch: 49.5%  lr: 0.035055  loss: 0.013295  eta: 0h8m  tot: 0h4m0s  (29.9%)\rEpoch: 49.6%  lr: 0.035045  loss: 0.013292  eta: 0h8m  tot: 0h4m0s  (29.9%)\rEpoch: 49.7%  lr: 0.035045  loss: 0.013292  eta: 0h8m  tot: 0h4m0s  (29.9%)\rEpoch: 49.8%  lr: 0.035035  loss: 0.013281  eta: 0h8m  tot: 0h4m0s  (30.0%)\rEpoch: 49.9%  lr: 0.035015  loss: 0.013284  eta: 0h8m  tot: 0h4m0s  (30.0%)\rEpoch: 50.0%  lr: 0.035015  loss: 0.013266  eta: 0h8m  tot: 0h4m0s  (30.0%)\rEpoch: 50.1%  lr: 0.035005  loss: 0.013262  eta: 0h8m  tot: 0h4m0s  (30.0%)\rEpoch: 50.1%  lr: 0.034995  loss: 0.013266  eta: 0h8m  tot: 0h4m0s  (30.0%)\rEpoch: 50.2%  lr: 0.034995  loss: 0.013268  eta: 0h8m  tot: 0h4m1s  (30.0%)\rEpoch: 50.3%  lr: 0.034975  loss: 0.013271  eta: 0h8m  tot: 0h4m1s  (30.1%)\rEpoch: 50.4%  lr: 0.034975  loss: 0.013266  eta: 0h8m  tot: 0h4m1s  (30.1%)\rEpoch: 50.5%  lr: 0.034965  loss: 0.013272  eta: 0h8m  tot: 0h4m1s  (30.1%)\rEpoch: 50.6%  lr: 0.034955  loss: 0.013296  eta: 0h8m  tot: 0h4m1s  (30.1%)\rEpoch: 50.7%  lr: 0.034955  loss: 0.013293  eta: 0h8m  tot: 0h4m1s  (30.1%)\rEpoch: 50.8%  lr: 0.034945  loss: 0.013283  eta: 0h8m  tot: 0h4m1s  (30.2%)\rEpoch: 50.9%  lr: 0.034925  loss: 0.013281  eta: 0h8m  tot: 0h4m2s  (30.2%)\rEpoch: 51.0%  lr: 0.034915  loss: 0.013283  eta: 0h8m  tot: 0h4m2s  (30.2%)\rEpoch: 51.0%  lr: 0.034915  loss: 0.013282  eta: 0h8m  tot: 0h4m2s  (30.2%)\rEpoch: 51.1%  lr: 0.034915  loss: 0.013275  eta: 0h8m  tot: 0h4m2s  (30.2%)\rEpoch: 51.2%  lr: 0.034895  loss: 0.013262  eta: 0h8m  tot: 0h4m2s  (30.2%)\rEpoch: 51.3%  lr: 0.034895  loss: 0.013253  eta: 0h8m  tot: 0h4m2s  (30.3%)\rEpoch: 51.4%  lr: 0.034895  loss: 0.013257  eta: 0h8m  tot: 0h4m2s  (30.3%)\rEpoch: 51.5%  lr: 0.034885  loss: 0.013266  eta: 0h8m  tot: 0h4m3s  (30.3%)\rEpoch: 51.6%  lr: 0.034875  loss: 0.013261  eta: 0h8m  tot: 0h4m3s  (30.3%)\rEpoch: 51.7%  lr: 0.034875  loss: 0.013253  eta: 0h8m  tot: 0h4m3s  (30.3%)\rEpoch: 51.8%  lr: 0.034875  loss: 0.013263  eta: 0h8m  tot: 0h4m3s  (30.4%)\rEpoch: 51.9%  lr: 0.034875  loss: 0.013259  eta: 0h8m  tot: 0h4m3s  (30.4%)\rEpoch: 51.9%  lr: 0.034875  loss: 0.013258  eta: 0h8m  tot: 0h4m3s  (30.4%)\rEpoch: 52.0%  lr: 0.034875  loss: 0.013249  eta: 0h8m  tot: 0h4m3s  (30.4%)\rEpoch: 52.1%  lr: 0.034875  loss: 0.013230  eta: 0h8m  tot: 0h4m4s  (30.4%)\rEpoch: 52.2%  lr: 0.034865  loss: 0.013230  eta: 0h8m  tot: 0h4m4s  (30.4%)\rEpoch: 52.3%  lr: 0.034865  loss: 0.013226  eta: 0h8m  tot: 0h4m4s  (30.5%)\rEpoch: 52.4%  lr: 0.034845  loss: 0.013233  eta: 0h8m  tot: 0h4m4s  (30.5%)\rEpoch: 52.5%  lr: 0.034815  loss: 0.013227  eta: 0h8m  tot: 0h4m4s  (30.5%)\rEpoch: 52.6%  lr: 0.034805  loss: 0.013239  eta: 0h8m  tot: 0h4m4s  (30.5%)\rEpoch: 52.7%  lr: 0.034795  loss: 0.013223  eta: 0h8m  tot: 0h4m4s  (30.5%)\rEpoch: 52.8%  lr: 0.034795  loss: 0.013218  eta: 0h8m  tot: 0h4m5s  (30.6%)\rEpoch: 52.8%  lr: 0.034795  loss: 0.013209  eta: 0h8m  tot: 0h4m5s  (30.6%)\rEpoch: 52.9%  lr: 0.034795  loss: 0.013219  eta: 0h8m  tot: 0h4m5s  (30.6%)\rEpoch: 53.0%  lr: 0.034795  loss: 0.013224  eta: 0h8m  tot: 0h4m5s  (30.6%)\rEpoch: 53.1%  lr: 0.034795  loss: 0.013224  eta: 0h8m  tot: 0h4m5s  (30.6%)\rEpoch: 53.2%  lr: 0.034795  loss: 0.013240  eta: 0h8m  tot: 0h4m5s  (30.6%)\rEpoch: 53.3%  lr: 0.034785  loss: 0.013243  eta: 0h8m  tot: 0h4m5s  (30.7%)\rEpoch: 53.4%  lr: 0.034765  loss: 0.013239  eta: 0h8m  tot: 0h4m5s  (30.7%)\rEpoch: 53.5%  lr: 0.034735  loss: 0.013238  eta: 0h8m  tot: 0h4m6s  (30.7%)\rEpoch: 53.6%  lr: 0.034725  loss: 0.013240  eta: 0h8m  tot: 0h4m6s  (30.7%)\rEpoch: 53.7%  lr: 0.034725  loss: 0.013253  eta: 0h8m  tot: 0h4m6s  (30.7%)\rEpoch: 53.7%  lr: 0.034715  loss: 0.013258  eta: 0h8m  tot: 0h4m6s  (30.7%)\rEpoch: 53.8%  lr: 0.034715  loss: 0.013260  eta: 0h8m  tot: 0h4m6s  (30.8%)\rEpoch: 53.9%  lr: 0.034705  loss: 0.013263  eta: 0h8m  tot: 0h4m6s  (30.8%)\rEpoch: 54.0%  lr: 0.034685  loss: 0.013258  eta: 0h8m  tot: 0h4m6s  (30.8%)\rEpoch: 54.1%  lr: 0.034685  loss: 0.013258  eta: 0h8m  tot: 0h4m7s  (30.8%)\rEpoch: 54.2%  lr: 0.034685  loss: 0.013257  eta: 0h8m  tot: 0h4m7s  (30.8%)\rEpoch: 54.3%  lr: 0.034675  loss: 0.013245  eta: 0h8m  tot: 0h4m7s  (30.9%)\rEpoch: 54.4%  lr: 0.034655  loss: 0.013251  eta: 0h8m  tot: 0h4m7s  (30.9%)\rEpoch: 54.5%  lr: 0.034635  loss: 0.013264  eta: 0h8m  tot: 0h4m7s  (30.9%)\rEpoch: 54.6%  lr: 0.034625  loss: 0.013256  eta: 0h8m  tot: 0h4m7s  (30.9%)\rEpoch: 54.6%  lr: 0.034595  loss: 0.013246  eta: 0h8m  tot: 0h4m7s  (30.9%)\rEpoch: 54.7%  lr: 0.034585  loss: 0.013244  eta: 0h8m  tot: 0h4m8s  (30.9%)\rEpoch: 54.8%  lr: 0.034555  loss: 0.013237  eta: 0h8m  tot: 0h4m8s  (31.0%)\rEpoch: 54.9%  lr: 0.034555  loss: 0.013225  eta: 0h8m  tot: 0h4m8s  (31.0%)\rEpoch: 55.0%  lr: 0.034555  loss: 0.013232  eta: 0h8m  tot: 0h4m8s  (31.0%)\rEpoch: 55.1%  lr: 0.034545  loss: 0.013226  eta: 0h8m  tot: 0h4m8s  (31.0%)\rEpoch: 55.2%  lr: 0.034525  loss: 0.013238  eta: 0h8m  tot: 0h4m8s  (31.0%)\rEpoch: 55.3%  lr: 0.034515  loss: 0.013224  eta: 0h8m  tot: 0h4m8s  (31.1%)\rEpoch: 55.4%  lr: 0.034515  loss: 0.013218  eta: 0h8m  tot: 0h4m8s  (31.1%)\rEpoch: 55.5%  lr: 0.034515  loss: 0.013210  eta: 0h8m  tot: 0h4m9s  (31.1%)\rEpoch: 55.5%  lr: 0.034505  loss: 0.013199  eta: 0h8m  tot: 0h4m9s  (31.1%)\rEpoch: 55.6%  lr: 0.034485  loss: 0.013196  eta: 0h8m  tot: 0h4m9s  (31.1%)\rEpoch: 55.7%  lr: 0.034475  loss: 0.013217  eta: 0h8m  tot: 0h4m9s  (31.1%)\rEpoch: 55.8%  lr: 0.034475  loss: 0.013220  eta: 0h8m  tot: 0h4m9s  (31.2%)\rEpoch: 55.9%  lr: 0.034475  loss: 0.013231  eta: 0h8m  tot: 0h4m9s  (31.2%)\rEpoch: 56.0%  lr: 0.034465  loss: 0.013226  eta: 0h8m  tot: 0h4m9s  (31.2%)\rEpoch: 56.1%  lr: 0.034465  loss: 0.013222  eta: 0h8m  tot: 0h4m10s  (31.2%)\rEpoch: 56.2%  lr: 0.034455  loss: 0.013215  eta: 0h8m  tot: 0h4m10s  (31.2%)\rEpoch: 56.3%  lr: 0.034445  loss: 0.013218  eta: 0h8m  tot: 0h4m10s  (31.3%)\rEpoch: 56.4%  lr: 0.034445  loss: 0.013214  eta: 0h8m  tot: 0h4m10s  (31.3%)\rEpoch: 56.4%  lr: 0.034445  loss: 0.013203  eta: 0h8m  tot: 0h4m10s  (31.3%)\rEpoch: 56.5%  lr: 0.034445  loss: 0.013194  eta: 0h8m  tot: 0h4m10s  (31.3%)\rEpoch: 56.6%  lr: 0.034445  loss: 0.013196  eta: 0h8m  tot: 0h4m10s  (31.3%)\rEpoch: 56.7%  lr: 0.034445  loss: 0.013196  eta: 0h8m  tot: 0h4m10s  (31.3%)\rEpoch: 56.8%  lr: 0.034414  loss: 0.013187  eta: 0h8m  tot: 0h4m11s  (31.4%)\rEpoch: 56.9%  lr: 0.034404  loss: 0.013200  eta: 0h8m  tot: 0h4m11s  (31.4%)\rEpoch: 57.0%  lr: 0.034374  loss: 0.013196  eta: 0h8m  tot: 0h4m11s  (31.4%)\rEpoch: 57.1%  lr: 0.034374  loss: 0.013207  eta: 0h8m  tot: 0h4m11s  (31.4%)\rEpoch: 57.2%  lr: 0.034354  loss: 0.013211  eta: 0h8m  tot: 0h4m11s  (31.4%)\rEpoch: 57.3%  lr: 0.034334  loss: 0.013201  eta: 0h8m  tot: 0h4m11s  (31.5%)\rEpoch: 57.3%  lr: 0.034334  loss: 0.013198  eta: 0h8m  tot: 0h4m11s  (31.5%)\rEpoch: 57.4%  lr: 0.034334  loss: 0.013195  eta: 0h8m  tot: 0h4m12s  (31.5%)\rEpoch: 57.5%  lr: 0.034314  loss: 0.013195  eta: 0h8m  tot: 0h4m12s  (31.5%)\rEpoch: 57.6%  lr: 0.034304  loss: 0.013200  eta: 0h8m  tot: 0h4m12s  (31.5%)\rEpoch: 57.7%  lr: 0.034304  loss: 0.013211  eta: 0h8m  tot: 0h4m12s  (31.5%)\rEpoch: 57.8%  lr: 0.034284  loss: 0.013222  eta: 0h8m  tot: 0h4m12s  (31.6%)\rEpoch: 57.9%  lr: 0.034284  loss: 0.013222  eta: 0h8m  tot: 0h4m12s  (31.6%)\rEpoch: 58.0%  lr: 0.034274  loss: 0.013208  eta: 0h8m  tot: 0h4m12s  (31.6%)\rEpoch: 58.1%  lr: 0.034274  loss: 0.013209  eta: 0h8m  tot: 0h4m13s  (31.6%)\rEpoch: 58.2%  lr: 0.034274  loss: 0.013200  eta: 0h8m  tot: 0h4m13s  (31.6%)\rEpoch: 58.2%  lr: 0.034274  loss: 0.013194  eta: 0h8m  tot: 0h4m13s  (31.6%)\rEpoch: 58.3%  lr: 0.034264  loss: 0.013206  eta: 0h8m  tot: 0h4m13s  (31.7%)\rEpoch: 58.4%  lr: 0.034254  loss: 0.013206  eta: 0h8m  tot: 0h4m13s  (31.7%)\rEpoch: 58.5%  lr: 0.034244  loss: 0.013200  eta: 0h8m  tot: 0h4m13s  (31.7%)\rEpoch: 58.6%  lr: 0.034234  loss: 0.013194  eta: 0h8m  tot: 0h4m13s  (31.7%)\rEpoch: 58.7%  lr: 0.034224  loss: 0.013189  eta: 0h8m  tot: 0h4m14s  (31.7%)\rEpoch: 58.8%  lr: 0.034204  loss: 0.013175  eta: 0h8m  tot: 0h4m14s  (31.8%)\rEpoch: 58.9%  lr: 0.034204  loss: 0.013175  eta: 0h8m  tot: 0h4m14s  (31.8%)\rEpoch: 59.0%  lr: 0.034184  loss: 0.013181  eta: 0h8m  tot: 0h4m14s  (31.8%)\rEpoch: 59.1%  lr: 0.034184  loss: 0.013171  eta: 0h8m  tot: 0h4m14s  (31.8%)\rEpoch: 59.1%  lr: 0.034184  loss: 0.013167  eta: 0h8m  tot: 0h4m14s  (31.8%)\rEpoch: 59.2%  lr: 0.034174  loss: 0.013170  eta: 0h8m  tot: 0h4m14s  (31.8%)\rEpoch: 59.3%  lr: 0.034174  loss: 0.013163  eta: 0h8m  tot: 0h4m14s  (31.9%)\rEpoch: 59.4%  lr: 0.034174  loss: 0.013153  eta: 0h8m  tot: 0h4m15s  (31.9%)\rEpoch: 59.5%  lr: 0.034164  loss: 0.013146  eta: 0h8m  tot: 0h4m15s  (31.9%)\rEpoch: 59.6%  lr: 0.034164  loss: 0.013173  eta: 0h8m  tot: 0h4m15s  (31.9%)\rEpoch: 59.7%  lr: 0.034154  loss: 0.013191  eta: 0h8m  tot: 0h4m15s  (31.9%)\rEpoch: 59.8%  lr: 0.034154  loss: 0.013189  eta: 0h8m  tot: 0h4m15s  (32.0%)\rEpoch: 59.9%  lr: 0.034154  loss: 0.013209  eta: 0h8m  tot: 0h4m15s  (32.0%)\rEpoch: 60.0%  lr: 0.034154  loss: 0.013208  eta: 0h8m  tot: 0h4m15s  (32.0%)\rEpoch: 60.0%  lr: 0.034154  loss: 0.013216  eta: 0h8m  tot: 0h4m16s  (32.0%)\rEpoch: 60.1%  lr: 0.034154  loss: 0.013235  eta: 0h8m  tot: 0h4m16s  (32.0%)\rEpoch: 60.2%  lr: 0.034144  loss: 0.013231  eta: 0h8m  tot: 0h4m16s  (32.0%)\rEpoch: 60.3%  lr: 0.034144  loss: 0.013225  eta: 0h8m  tot: 0h4m16s  (32.1%)\rEpoch: 60.4%  lr: 0.034144  loss: 0.013225  eta: 0h8m  tot: 0h4m16s  (32.1%)\rEpoch: 60.5%  lr: 0.034134  loss: 0.013242  eta: 0h8m  tot: 0h4m16s  (32.1%)\rEpoch: 60.6%  lr: 0.034124  loss: 0.013264  eta: 0h8m  tot: 0h4m16s  (32.1%)\rEpoch: 60.7%  lr: 0.034114  loss: 0.013265  eta: 0h8m  tot: 0h4m17s  (32.1%)\rEpoch: 60.8%  lr: 0.034104  loss: 0.013268  eta: 0h8m  tot: 0h4m17s  (32.2%)\rEpoch: 60.9%  lr: 0.034064  loss: 0.013253  eta: 0h8m  tot: 0h4m17s  (32.2%)\rEpoch: 60.9%  lr: 0.034054  loss: 0.013247  eta: 0h8m  tot: 0h4m17s  (32.2%)\rEpoch: 61.0%  lr: 0.034054  loss: 0.013246  eta: 0h8m  tot: 0h4m17s  (32.2%)\rEpoch: 61.1%  lr: 0.034044  loss: 0.013238  eta: 0h8m  tot: 0h4m17s  (32.2%)\rEpoch: 61.2%  lr: 0.034044  loss: 0.013233  eta: 0h8m  tot: 0h4m17s  (32.2%)\rEpoch: 61.3%  lr: 0.034004  loss: 0.013234  eta: 0h8m  tot: 0h4m18s  (32.3%)\rEpoch: 61.4%  lr: 0.033974  loss: 0.013232  eta: 0h8m  tot: 0h4m18s  (32.3%)\rEpoch: 61.5%  lr: 0.033964  loss: 0.013222  eta: 0h8m  tot: 0h4m18s  (32.3%)\rEpoch: 61.6%  lr: 0.033964  loss: 0.013230  eta: 0h8m  tot: 0h4m18s  (32.3%)\rEpoch: 61.7%  lr: 0.033954  loss: 0.013220  eta: 0h8m  tot: 0h4m18s  (32.3%)\rEpoch: 61.8%  lr: 0.033924  loss: 0.013210  eta: 0h8m  tot: 0h4m18s  (32.4%)\rEpoch: 61.8%  lr: 0.033924  loss: 0.013205  eta: 0h8m  tot: 0h4m18s  (32.4%)\rEpoch: 61.9%  lr: 0.033904  loss: 0.013209  eta: 0h8m  tot: 0h4m19s  (32.4%)\rEpoch: 62.0%  lr: 0.033904  loss: 0.013204  eta: 0h8m  tot: 0h4m19s  (32.4%)\rEpoch: 62.1%  lr: 0.033894  loss: 0.013203  eta: 0h8m  tot: 0h4m19s  (32.4%)\rEpoch: 62.2%  lr: 0.033884  loss: 0.013188  eta: 0h8m  tot: 0h4m19s  (32.4%)\rEpoch: 62.3%  lr: 0.033874  loss: 0.013187  eta: 0h8m  tot: 0h4m19s  (32.5%)\rEpoch: 62.4%  lr: 0.033864  loss: 0.013177  eta: 0h8m  tot: 0h4m19s  (32.5%)\rEpoch: 62.5%  lr: 0.033854  loss: 0.013186  eta: 0h8m  tot: 0h4m19s  (32.5%)\rEpoch: 62.6%  lr: 0.033854  loss: 0.013187  eta: 0h8m  tot: 0h4m20s  (32.5%)\rEpoch: 62.7%  lr: 0.033844  loss: 0.013186  eta: 0h8m  tot: 0h4m20s  (32.5%)\rEpoch: 62.7%  lr: 0.033844  loss: 0.013184  eta: 0h8m  tot: 0h4m20s  (32.5%)\rEpoch: 62.8%  lr: 0.033844  loss: 0.013176  eta: 0h8m  tot: 0h4m20s  (32.6%)\rEpoch: 62.9%  lr: 0.033844  loss: 0.013178  eta: 0h8m  tot: 0h4m20s  (32.6%)\rEpoch: 63.0%  lr: 0.033824  loss: 0.013174  eta: 0h8m  tot: 0h4m20s  (32.6%)\rEpoch: 63.1%  lr: 0.033814  loss: 0.013179  eta: 0h8m  tot: 0h4m20s  (32.6%)\rEpoch: 63.2%  lr: 0.033804  loss: 0.013175  eta: 0h8m  tot: 0h4m21s  (32.6%)\rEpoch: 63.3%  lr: 0.033804  loss: 0.013174  eta: 0h8m  tot: 0h4m21s  (32.7%)\rEpoch: 63.4%  lr: 0.033804  loss: 0.013183  eta: 0h8m  tot: 0h4m21s  (32.7%)\rEpoch: 63.5%  lr: 0.033794  loss: 0.013190  eta: 0h8m  tot: 0h4m21s  (32.7%)\rEpoch: 63.6%  lr: 0.033784  loss: 0.013186  eta: 0h8m  tot: 0h4m21s  (32.7%)\rEpoch: 63.6%  lr: 0.033774  loss: 0.013172  eta: 0h8m  tot: 0h4m21s  (32.7%)\rEpoch: 63.7%  lr: 0.033764  loss: 0.013167  eta: 0h8m  tot: 0h4m21s  (32.7%)\rEpoch: 63.8%  lr: 0.033764  loss: 0.013157  eta: 0h8m  tot: 0h4m22s  (32.8%)\rEpoch: 63.9%  lr: 0.033744  loss: 0.013149  eta: 0h8m  tot: 0h4m22s  (32.8%)\rEpoch: 64.0%  lr: 0.033744  loss: 0.013154  eta: 0h8m  tot: 0h4m22s  (32.8%)\rEpoch: 64.1%  lr: 0.033734  loss: 0.013164  eta: 0h8m  tot: 0h4m22s  (32.8%)\rEpoch: 64.2%  lr: 0.033714  loss: 0.013155  eta: 0h8m  tot: 0h4m22s  (32.8%)\rEpoch: 64.3%  lr: 0.033714  loss: 0.013151  eta: 0h8m  tot: 0h4m22s  (32.9%)\rEpoch: 64.4%  lr: 0.033694  loss: 0.013148  eta: 0h8m  tot: 0h4m22s  (32.9%)\rEpoch: 64.5%  lr: 0.033694  loss: 0.013142  eta: 0h8m  tot: 0h4m22s  (32.9%)\rEpoch: 64.5%  lr: 0.033694  loss: 0.013156  eta: 0h8m  tot: 0h4m23s  (32.9%)\rEpoch: 64.6%  lr: 0.033694  loss: 0.013153  eta: 0h8m  tot: 0h4m23s  (32.9%)\rEpoch: 64.7%  lr: 0.033684  loss: 0.013142  eta: 0h8m  tot: 0h4m23s  (32.9%)\rEpoch: 64.8%  lr: 0.033684  loss: 0.013145  eta: 0h8m  tot: 0h4m23s  (33.0%)\rEpoch: 64.9%  lr: 0.033664  loss: 0.013137  eta: 0h8m  tot: 0h4m23s  (33.0%)\rEpoch: 65.0%  lr: 0.033654  loss: 0.013133  eta: 0h8m  tot: 0h4m23s  (33.0%)\rEpoch: 65.1%  lr: 0.033644  loss: 0.013137  eta: 0h8m  tot: 0h4m23s  (33.0%)\rEpoch: 65.2%  lr: 0.033634  loss: 0.013133  eta: 0h8m  tot: 0h4m24s  (33.0%)\rEpoch: 65.3%  lr: 0.033614  loss: 0.013125  eta: 0h8m  tot: 0h4m24s  (33.1%)\rEpoch: 65.4%  lr: 0.033604  loss: 0.013139  eta: 0h8m  tot: 0h4m24s  (33.1%)\rEpoch: 65.4%  lr: 0.033604  loss: 0.013136  eta: 0h8m  tot: 0h4m24s  (33.1%)\rEpoch: 65.5%  lr: 0.033594  loss: 0.013138  eta: 0h8m  tot: 0h4m24s  (33.1%)\rEpoch: 65.6%  lr: 0.033584  loss: 0.013143  eta: 0h8m  tot: 0h4m24s  (33.1%)\rEpoch: 65.7%  lr: 0.033574  loss: 0.013146  eta: 0h8m  tot: 0h4m24s  (33.1%)\rEpoch: 65.8%  lr: 0.033574  loss: 0.013145  eta: 0h8m  tot: 0h4m25s  (33.2%)\rEpoch: 65.9%  lr: 0.033574  loss: 0.013146  eta: 0h8m  tot: 0h4m25s  (33.2%)\rEpoch: 66.0%  lr: 0.033574  loss: 0.013140  eta: 0h8m  tot: 0h4m25s  (33.2%)\rEpoch: 66.1%  lr: 0.033574  loss: 0.013134  eta: 0h8m  tot: 0h4m25s  (33.2%)\rEpoch: 66.2%  lr: 0.033574  loss: 0.013135  eta: 0h8m  tot: 0h4m25s  (33.2%)\rEpoch: 66.3%  lr: 0.033574  loss: 0.013126  eta: 0h8m  tot: 0h4m25s  (33.3%)\rEpoch: 66.3%  lr: 0.033574  loss: 0.013124  eta: 0h8m  tot: 0h4m25s  (33.3%)\rEpoch: 66.4%  lr: 0.033564  loss: 0.013133  eta: 0h8m  tot: 0h4m26s  (33.3%)\rEpoch: 66.5%  lr: 0.033544  loss: 0.013132  eta: 0h8m  tot: 0h4m26s  (33.3%)\rEpoch: 66.6%  lr: 0.033544  loss: 0.013127  eta: 0h8m  tot: 0h4m26s  (33.3%)\rEpoch: 66.7%  lr: 0.033534  loss: 0.013135  eta: 0h8m  tot: 0h4m26s  (33.3%)\rEpoch: 66.8%  lr: 0.033534  loss: 0.013143  eta: 0h8m  tot: 0h4m26s  (33.4%)\rEpoch: 66.9%  lr: 0.033534  loss: 0.013149  eta: 0h8m  tot: 0h4m26s  (33.4%)\rEpoch: 67.0%  lr: 0.033524  loss: 0.013147  eta: 0h8m  tot: 0h4m26s  (33.4%)\rEpoch: 67.1%  lr: 0.033504  loss: 0.013141  eta: 0h8m  tot: 0h4m26s  (33.4%)\rEpoch: 67.2%  lr: 0.033504  loss: 0.013154  eta: 0h8m  tot: 0h4m27s  (33.4%)\rEpoch: 67.2%  lr: 0.033504  loss: 0.013157  eta: 0h8m  tot: 0h4m27s  (33.4%)\rEpoch: 67.3%  lr: 0.033504  loss: 0.013163  eta: 0h8m  tot: 0h4m27s  (33.5%)\rEpoch: 67.4%  lr: 0.033504  loss: 0.013176  eta: 0h8m  tot: 0h4m27s  (33.5%)\rEpoch: 67.5%  lr: 0.033504  loss: 0.013172  eta: 0h8m  tot: 0h4m27s  (33.5%)\rEpoch: 67.6%  lr: 0.033484  loss: 0.013166  eta: 0h8m  tot: 0h4m27s  (33.5%)\rEpoch: 67.7%  lr: 0.033484  loss: 0.013170  eta: 0h8m  tot: 0h4m27s  (33.5%)\rEpoch: 67.8%  lr: 0.033474  loss: 0.013155  eta: 0h8m  tot: 0h4m28s  (33.6%)\rEpoch: 67.9%  lr: 0.033464  loss: 0.013166  eta: 0h8m  tot: 0h4m28s  (33.6%)\rEpoch: 68.0%  lr: 0.033464  loss: 0.013168  eta: 0h8m  tot: 0h4m28s  (33.6%)\rEpoch: 68.1%  lr: 0.033464  loss: 0.013180  eta: 0h8m  tot: 0h4m28s  (33.6%)\rEpoch: 68.1%  lr: 0.033454  loss: 0.013174  eta: 0h8m  tot: 0h4m28s  (33.6%)\rEpoch: 68.2%  lr: 0.033434  loss: 0.013164  eta: 0h8m  tot: 0h4m28s  (33.6%)\rEpoch: 68.3%  lr: 0.033434  loss: 0.013155  eta: 0h8m  tot: 0h4m28s  (33.7%)\rEpoch: 68.4%  lr: 0.033414  loss: 0.013146  eta: 0h8m  tot: 0h4m29s  (33.7%)\rEpoch: 68.5%  lr: 0.033393  loss: 0.013155  eta: 0h8m  tot: 0h4m29s  (33.7%)\rEpoch: 68.6%  lr: 0.033393  loss: 0.013160  eta: 0h8m  tot: 0h4m29s  (33.7%)\rEpoch: 68.7%  lr: 0.033383  loss: 0.013161  eta: 0h8m  tot: 0h4m29s  (33.7%)\rEpoch: 68.8%  lr: 0.033363  loss: 0.013150  eta: 0h8m  tot: 0h4m29s  (33.8%)\rEpoch: 68.9%  lr: 0.033363  loss: 0.013149  eta: 0h8m  tot: 0h4m29s  (33.8%)\rEpoch: 69.0%  lr: 0.033353  loss: 0.013147  eta: 0h8m  tot: 0h4m29s  (33.8%)\rEpoch: 69.0%  lr: 0.033333  loss: 0.013137  eta: 0h8m  tot: 0h4m29s  (33.8%)\rEpoch: 69.1%  lr: 0.033313  loss: 0.013140  eta: 0h8m  tot: 0h4m30s  (33.8%)\rEpoch: 69.2%  lr: 0.033283  loss: 0.013144  eta: 0h8m  tot: 0h4m30s  (33.8%)\rEpoch: 69.3%  lr: 0.033283  loss: 0.013140  eta: 0h8m  tot: 0h4m30s  (33.9%)\rEpoch: 69.4%  lr: 0.033273  loss: 0.013131  eta: 0h8m  tot: 0h4m30s  (33.9%)\rEpoch: 69.5%  lr: 0.033253  loss: 0.013134  eta: 0h8m  tot: 0h4m30s  (33.9%)\rEpoch: 69.6%  lr: 0.033243  loss: 0.013131  eta: 0h8m  tot: 0h4m30s  (33.9%)\rEpoch: 69.7%  lr: 0.033233  loss: 0.013125  eta: 0h8m  tot: 0h4m30s  (33.9%)\rEpoch: 69.8%  lr: 0.033223  loss: 0.013131  eta: 0h8m  tot: 0h4m31s  (34.0%)\rEpoch: 69.9%  lr: 0.033223  loss: 0.013129  eta: 0h8m  tot: 0h4m31s  (34.0%)\rEpoch: 69.9%  lr: 0.033213  loss: 0.013118  eta: 0h8m  tot: 0h4m31s  (34.0%)\rEpoch: 70.0%  lr: 0.033193  loss: 0.013111  eta: 0h8m  tot: 0h4m31s  (34.0%)\rEpoch: 70.1%  lr: 0.033183  loss: 0.013105  eta: 0h8m  tot: 0h4m31s  (34.0%)\rEpoch: 70.2%  lr: 0.033173  loss: 0.013099  eta: 0h8m  tot: 0h4m31s  (34.0%)\rEpoch: 70.3%  lr: 0.033173  loss: 0.013099  eta: 0h8m  tot: 0h4m31s  (34.1%)\rEpoch: 70.4%  lr: 0.033163  loss: 0.013094  eta: 0h8m  tot: 0h4m32s  (34.1%)\rEpoch: 70.5%  lr: 0.033153  loss: 0.013098  eta: 0h8m  tot: 0h4m32s  (34.1%)\rEpoch: 70.6%  lr: 0.033143  loss: 0.013106  eta: 0h8m  tot: 0h4m32s  (34.1%)\rEpoch: 70.7%  lr: 0.033143  loss: 0.013104  eta: 0h8m  tot: 0h4m32s  (34.1%)\rEpoch: 70.8%  lr: 0.033143  loss: 0.013109  eta: 0h8m  tot: 0h4m32s  (34.2%)\rEpoch: 70.8%  lr: 0.033133  loss: 0.013110  eta: 0h8m  tot: 0h4m32s  (34.2%)\rEpoch: 70.9%  lr: 0.033113  loss: 0.013099  eta: 0h8m  tot: 0h4m32s  (34.2%)\rEpoch: 71.0%  lr: 0.033093  loss: 0.013090  eta: 0h8m  tot: 0h4m33s  (34.2%)\rEpoch: 71.1%  lr: 0.033083  loss: 0.013088  eta: 0h8m  tot: 0h4m33s  (34.2%)\rEpoch: 71.2%  lr: 0.033063  loss: 0.013086  eta: 0h8m  tot: 0h4m33s  (34.2%)\rEpoch: 71.3%  lr: 0.033053  loss: 0.013079  eta: 0h8m  tot: 0h4m33s  (34.3%)\rEpoch: 71.4%  lr: 0.033053  loss: 0.013070  eta: 0h8m  tot: 0h4m33s  (34.3%)\rEpoch: 71.5%  lr: 0.033023  loss: 0.013086  eta: 0h8m  tot: 0h4m33s  (34.3%)\rEpoch: 71.6%  lr: 0.033013  loss: 0.013081  eta: 0h8m  tot: 0h4m33s  (34.3%)\rEpoch: 71.7%  lr: 0.032983  loss: 0.013080  eta: 0h8m  tot: 0h4m33s  (34.3%)\rEpoch: 71.7%  lr: 0.032963  loss: 0.013074  eta: 0h8m  tot: 0h4m34s  (34.3%)\rEpoch: 71.8%  lr: 0.032953  loss: 0.013076  eta: 0h8m  tot: 0h4m34s  (34.4%)\rEpoch: 71.9%  lr: 0.032933  loss: 0.013071  eta: 0h8m  tot: 0h4m34s  (34.4%)\rEpoch: 72.0%  lr: 0.032933  loss: 0.013066  eta: 0h8m  tot: 0h4m34s  (34.4%)\rEpoch: 72.1%  lr: 0.032923  loss: 0.013059  eta: 0h8m  tot: 0h4m34s  (34.4%)\rEpoch: 72.2%  lr: 0.032913  loss: 0.013056  eta: 0h8m  tot: 0h4m34s  (34.4%)\rEpoch: 72.3%  lr: 0.032913  loss: 0.013090  eta: 0h8m  tot: 0h4m34s  (34.5%)\rEpoch: 72.4%  lr: 0.032903  loss: 0.013090  eta: 0h8m  tot: 0h4m35s  (34.5%)\rEpoch: 72.5%  lr: 0.032903  loss: 0.013085  eta: 0h8m  tot: 0h4m35s  (34.5%)\rEpoch: 72.6%  lr: 0.032893  loss: 0.013076  eta: 0h8m  tot: 0h4m35s  (34.5%)\rEpoch: 72.6%  lr: 0.032863  loss: 0.013071  eta: 0h8m  tot: 0h4m35s  (34.5%)\rEpoch: 72.7%  lr: 0.032863  loss: 0.013066  eta: 0h8m  tot: 0h4m35s  (34.5%)\rEpoch: 72.8%  lr: 0.032853  loss: 0.013062  eta: 0h8m  tot: 0h4m35s  (34.6%)\rEpoch: 72.9%  lr: 0.032833  loss: 0.013059  eta: 0h8m  tot: 0h4m35s  (34.6%)\rEpoch: 73.0%  lr: 0.032813  loss: 0.013049  eta: 0h8m  tot: 0h4m36s  (34.6%)\rEpoch: 73.1%  lr: 0.032803  loss: 0.013046  eta: 0h8m  tot: 0h4m36s  (34.6%)\rEpoch: 73.2%  lr: 0.032783  loss: 0.013044  eta: 0h8m  tot: 0h4m36s  (34.6%)\rEpoch: 73.3%  lr: 0.032783  loss: 0.013040  eta: 0h8m  tot: 0h4m36s  (34.7%)\rEpoch: 73.4%  lr: 0.032763  loss: 0.013046  eta: 0h8m  tot: 0h4m36s  (34.7%)\rEpoch: 73.5%  lr: 0.032753  loss: 0.013040  eta: 0h8m  tot: 0h4m36s  (34.7%)\rEpoch: 73.5%  lr: 0.032733  loss: 0.013046  eta: 0h8m  tot: 0h4m36s  (34.7%)\rEpoch: 73.6%  lr: 0.032733  loss: 0.013055  eta: 0h8m  tot: 0h4m36s  (34.7%)\rEpoch: 73.7%  lr: 0.032723  loss: 0.013048  eta: 0h8m  tot: 0h4m37s  (34.7%)\rEpoch: 73.8%  lr: 0.032723  loss: 0.013042  eta: 0h8m  tot: 0h4m37s  (34.8%)\rEpoch: 73.9%  lr: 0.032723  loss: 0.013049  eta: 0h8m  tot: 0h4m37s  (34.8%)\rEpoch: 74.0%  lr: 0.032723  loss: 0.013044  eta: 0h8m  tot: 0h4m37s  (34.8%)\rEpoch: 74.1%  lr: 0.032713  loss: 0.013042  eta: 0h8m  tot: 0h4m37s  (34.8%)\rEpoch: 74.2%  lr: 0.032713  loss: 0.013040  eta: 0h8m  tot: 0h4m37s  (34.8%)\rEpoch: 74.3%  lr: 0.032703  loss: 0.013037  eta: 0h8m  tot: 0h4m37s  (34.9%)\rEpoch: 74.4%  lr: 0.032693  loss: 0.013035  eta: 0h8m  tot: 0h4m38s  (34.9%)\rEpoch: 74.4%  lr: 0.032693  loss: 0.013038  eta: 0h8m  tot: 0h4m38s  (34.9%)\rEpoch: 74.5%  lr: 0.032673  loss: 0.013034  eta: 0h8m  tot: 0h4m38s  (34.9%)\rEpoch: 74.6%  lr: 0.032673  loss: 0.013032  eta: 0h8m  tot: 0h4m38s  (34.9%)\rEpoch: 74.7%  lr: 0.032673  loss: 0.013024  eta: 0h8m  tot: 0h4m38s  (34.9%)\rEpoch: 74.8%  lr: 0.032643  loss: 0.013017  eta: 0h8m  tot: 0h4m38s  (35.0%)\rEpoch: 74.9%  lr: 0.032613  loss: 0.013013  eta: 0h8m  tot: 0h4m38s  (35.0%)\rEpoch: 75.0%  lr: 0.032613  loss: 0.013010  eta: 0h8m  tot: 0h4m39s  (35.0%)\rEpoch: 75.1%  lr: 0.032583  loss: 0.013014  eta: 0h8m  tot: 0h4m39s  (35.0%)\rEpoch: 75.2%  lr: 0.032583  loss: 0.013010  eta: 0h8m  tot: 0h4m39s  (35.0%)\rEpoch: 75.3%  lr: 0.032583  loss: 0.013021  eta: 0h8m  tot: 0h4m39s  (35.1%)\rEpoch: 75.3%  lr: 0.032583  loss: 0.013018  eta: 0h8m  tot: 0h4m39s  (35.1%)\rEpoch: 75.4%  lr: 0.032563  loss: 0.013024  eta: 0h8m  tot: 0h4m39s  (35.1%)\rEpoch: 75.5%  lr: 0.032553  loss: 0.013032  eta: 0h8m  tot: 0h4m39s  (35.1%)\rEpoch: 75.6%  lr: 0.032523  loss: 0.013048  eta: 0h8m  tot: 0h4m39s  (35.1%)\rEpoch: 75.7%  lr: 0.032503  loss: 0.013038  eta: 0h8m  tot: 0h4m40s  (35.1%)\rEpoch: 75.8%  lr: 0.032483  loss: 0.013030  eta: 0h8m  tot: 0h4m40s  (35.2%)\rEpoch: 75.9%  lr: 0.032463  loss: 0.013036  eta: 0h8m  tot: 0h4m40s  (35.2%)\rEpoch: 76.0%  lr: 0.032463  loss: 0.013044  eta: 0h8m  tot: 0h4m40s  (35.2%)\rEpoch: 76.1%  lr: 0.032463  loss: 0.013038  eta: 0h8m  tot: 0h4m40s  (35.2%)\rEpoch: 76.2%  lr: 0.032453  loss: 0.013029  eta: 0h8m  tot: 0h4m40s  (35.2%)\rEpoch: 76.2%  lr: 0.032443  loss: 0.013026  eta: 0h8m  tot: 0h4m40s  (35.2%)\rEpoch: 76.3%  lr: 0.032433  loss: 0.013019  eta: 0h8m  tot: 0h4m41s  (35.3%)\rEpoch: 76.4%  lr: 0.032423  loss: 0.013011  eta: 0h8m  tot: 0h4m41s  (35.3%)\rEpoch: 76.5%  lr: 0.032413  loss: 0.013015  eta: 0h8m  tot: 0h4m41s  (35.3%)\rEpoch: 76.6%  lr: 0.032403  loss: 0.013007  eta: 0h8m  tot: 0h4m41s  (35.3%)\rEpoch: 76.7%  lr: 0.032382  loss: 0.013005  eta: 0h8m  tot: 0h4m41s  (35.3%)\rEpoch: 76.8%  lr: 0.032372  loss: 0.013015  eta: 0h8m  tot: 0h4m41s  (35.4%)\rEpoch: 76.9%  lr: 0.032352  loss: 0.013026  eta: 0h8m  tot: 0h4m41s  (35.4%)\rEpoch: 77.0%  lr: 0.032352  loss: 0.013031  eta: 0h8m  tot: 0h4m42s  (35.4%)\rEpoch: 77.1%  lr: 0.032342  loss: 0.013026  eta: 0h8m  tot: 0h4m42s  (35.4%)\rEpoch: 77.1%  lr: 0.032332  loss: 0.013020  eta: 0h8m  tot: 0h4m42s  (35.4%)\rEpoch: 77.2%  lr: 0.032322  loss: 0.013016  eta: 0h8m  tot: 0h4m42s  (35.4%)\rEpoch: 77.3%  lr: 0.032322  loss: 0.013020  eta: 0h8m  tot: 0h4m42s  (35.5%)\rEpoch: 77.4%  lr: 0.032312  loss: 0.013015  eta: 0h8m  tot: 0h4m42s  (35.5%)\rEpoch: 77.5%  lr: 0.032292  loss: 0.013012  eta: 0h8m  tot: 0h4m42s  (35.5%)\rEpoch: 77.6%  lr: 0.032282  loss: 0.013007  eta: 0h8m  tot: 0h4m43s  (35.5%)\rEpoch: 77.7%  lr: 0.032282  loss: 0.013013  eta: 0h8m  tot: 0h4m43s  (35.5%)\rEpoch: 77.8%  lr: 0.032272  loss: 0.013016  eta: 0h8m  tot: 0h4m43s  (35.6%)\rEpoch: 77.9%  lr: 0.032252  loss: 0.013013  eta: 0h8m  tot: 0h4m43s  (35.6%)\rEpoch: 78.0%  lr: 0.032232  loss: 0.013005  eta: 0h8m  tot: 0h4m43s  (35.6%)\rEpoch: 78.0%  lr: 0.032232  loss: 0.013005  eta: 0h8m  tot: 0h4m43s  (35.6%)\rEpoch: 78.1%  lr: 0.032222  loss: 0.013014  eta: 0h8m  tot: 0h4m43s  (35.6%)\rEpoch: 78.2%  lr: 0.032212  loss: 0.013009  eta: 0h8m  tot: 0h4m44s  (35.6%)\rEpoch: 78.3%  lr: 0.032202  loss: 0.013009  eta: 0h8m  tot: 0h4m44s  (35.7%)\rEpoch: 78.4%  lr: 0.032182  loss: 0.013012  eta: 0h8m  tot: 0h4m44s  (35.7%)\rEpoch: 78.5%  lr: 0.032172  loss: 0.013024  eta: 0h8m  tot: 0h4m44s  (35.7%)\rEpoch: 78.6%  lr: 0.032172  loss: 0.013030  eta: 0h8m  tot: 0h4m44s  (35.7%)\rEpoch: 78.7%  lr: 0.032172  loss: 0.013039  eta: 0h8m  tot: 0h4m44s  (35.7%)\rEpoch: 78.8%  lr: 0.032172  loss: 0.013037  eta: 0h8m  tot: 0h4m44s  (35.8%)\rEpoch: 78.9%  lr: 0.032162  loss: 0.013029  eta: 0h8m  tot: 0h4m45s  (35.8%)\rEpoch: 78.9%  lr: 0.032162  loss: 0.013023  eta: 0h8m  tot: 0h4m45s  (35.8%)\rEpoch: 79.0%  lr: 0.032162  loss: 0.013038  eta: 0h8m  tot: 0h4m45s  (35.8%)\rEpoch: 79.1%  lr: 0.032162  loss: 0.013037  eta: 0h8m  tot: 0h4m45s  (35.8%)\rEpoch: 79.2%  lr: 0.032162  loss: 0.013042  eta: 0h8m  tot: 0h4m45s  (35.8%)\rEpoch: 79.3%  lr: 0.032162  loss: 0.013051  eta: 0h8m  tot: 0h4m45s  (35.9%)\rEpoch: 79.4%  lr: 0.032132  loss: 0.013051  eta: 0h8m  tot: 0h4m45s  (35.9%)\rEpoch: 79.5%  lr: 0.032132  loss: 0.013056  eta: 0h8m  tot: 0h4m46s  (35.9%)\rEpoch: 79.6%  lr: 0.032122  loss: 0.013061  eta: 0h8m  tot: 0h4m46s  (35.9%)\rEpoch: 79.7%  lr: 0.032112  loss: 0.013063  eta: 0h8m  tot: 0h4m46s  (35.9%)\rEpoch: 79.8%  lr: 0.032082  loss: 0.013057  eta: 0h8m  tot: 0h4m46s  (36.0%)\rEpoch: 79.9%  lr: 0.032072  loss: 0.013067  eta: 0h8m  tot: 0h4m46s  (36.0%)\rEpoch: 79.9%  lr: 0.032072  loss: 0.013086  eta: 0h8m  tot: 0h4m46s  (36.0%)\rEpoch: 80.0%  lr: 0.032072  loss: 0.013089  eta: 0h8m  tot: 0h4m47s  (36.0%)\rEpoch: 80.1%  lr: 0.032052  loss: 0.013083  eta: 0h8m  tot: 0h4m47s  (36.0%)\rEpoch: 80.2%  lr: 0.032022  loss: 0.013075  eta: 0h8m  tot: 0h4m47s  (36.0%)\rEpoch: 80.3%  lr: 0.032002  loss: 0.013077  eta: 0h8m  tot: 0h4m47s  (36.1%)\rEpoch: 80.4%  lr: 0.031982  loss: 0.013069  eta: 0h8m  tot: 0h4m47s  (36.1%)\rEpoch: 80.5%  lr: 0.031962  loss: 0.013067  eta: 0h8m  tot: 0h4m47s  (36.1%)\rEpoch: 80.6%  lr: 0.031952  loss: 0.013077  eta: 0h8m  tot: 0h4m47s  (36.1%)\rEpoch: 80.7%  lr: 0.031932  loss: 0.013080  eta: 0h8m  tot: 0h4m47s  (36.1%)\rEpoch: 80.8%  lr: 0.031922  loss: 0.013078  eta: 0h8m  tot: 0h4m48s  (36.2%)\rEpoch: 80.8%  lr: 0.031922  loss: 0.013073  eta: 0h8m  tot: 0h4m48s  (36.2%)\rEpoch: 80.9%  lr: 0.031912  loss: 0.013075  eta: 0h8m  tot: 0h4m48s  (36.2%)\rEpoch: 81.0%  lr: 0.031912  loss: 0.013077  eta: 0h8m  tot: 0h4m48s  (36.2%)\rEpoch: 81.1%  lr: 0.031882  loss: 0.013080  eta: 0h8m  tot: 0h4m48s  (36.2%)\rEpoch: 81.2%  lr: 0.031872  loss: 0.013080  eta: 0h8m  tot: 0h4m48s  (36.2%)\rEpoch: 81.3%  lr: 0.031862  loss: 0.013073  eta: 0h8m  tot: 0h4m48s  (36.3%)\rEpoch: 81.4%  lr: 0.031852  loss: 0.013071  eta: 0h8m  tot: 0h4m49s  (36.3%)\rEpoch: 81.5%  lr: 0.031822  loss: 0.013067  eta: 0h8m  tot: 0h4m49s  (36.3%)\rEpoch: 81.6%  lr: 0.031822  loss: 0.013059  eta: 0h8m  tot: 0h4m49s  (36.3%)\rEpoch: 81.7%  lr: 0.031782  loss: 0.013048  eta: 0h8m  tot: 0h4m49s  (36.3%)\rEpoch: 81.7%  lr: 0.031772  loss: 0.013045  eta: 0h8m  tot: 0h4m49s  (36.3%)\rEpoch: 81.8%  lr: 0.031772  loss: 0.013054  eta: 0h8m  tot: 0h4m49s  (36.4%)\rEpoch: 81.9%  lr: 0.031762  loss: 0.013044  eta: 0h8m  tot: 0h4m49s  (36.4%)\rEpoch: 82.0%  lr: 0.031752  loss: 0.013043  eta: 0h8m  tot: 0h4m50s  (36.4%)\rEpoch: 82.1%  lr: 0.031742  loss: 0.013038  eta: 0h8m  tot: 0h4m50s  (36.4%)\rEpoch: 82.2%  lr: 0.031742  loss: 0.013035  eta: 0h8m  tot: 0h4m50s  (36.4%)\rEpoch: 82.3%  lr: 0.031732  loss: 0.013028  eta: 0h8m  tot: 0h4m50s  (36.5%)\rEpoch: 82.4%  lr: 0.031732  loss: 0.013024  eta: 0h8m  tot: 0h4m50s  (36.5%)\rEpoch: 82.5%  lr: 0.031712  loss: 0.013022  eta: 0h8m  tot: 0h4m50s  (36.5%)\rEpoch: 82.6%  lr: 0.031712  loss: 0.013028  eta: 0h8m  tot: 0h4m50s  (36.5%)\rEpoch: 82.6%  lr: 0.031712  loss: 0.013042  eta: 0h8m  tot: 0h4m51s  (36.5%)\rEpoch: 82.7%  lr: 0.031702  loss: 0.013035  eta: 0h8m  tot: 0h4m51s  (36.5%)\rEpoch: 82.8%  lr: 0.031682  loss: 0.013025  eta: 0h8m  tot: 0h4m51s  (36.6%)\rEpoch: 82.9%  lr: 0.031682  loss: 0.013021  eta: 0h8m  tot: 0h4m51s  (36.6%)\rEpoch: 83.0%  lr: 0.031672  loss: 0.013011  eta: 0h8m  tot: 0h4m51s  (36.6%)\rEpoch: 83.1%  lr: 0.031672  loss: 0.013010  eta: 0h8m  tot: 0h4m51s  (36.6%)\rEpoch: 83.2%  lr: 0.031672  loss: 0.013030  eta: 0h8m  tot: 0h4m51s  (36.6%)\rEpoch: 83.3%  lr: 0.031662  loss: 0.013039  eta: 0h8m  tot: 0h4m52s  (36.7%)\rEpoch: 83.4%  lr: 0.031662  loss: 0.013035  eta: 0h8m  tot: 0h4m52s  (36.7%)\rEpoch: 83.5%  lr: 0.031652  loss: 0.013031  eta: 0h8m  tot: 0h4m52s  (36.7%)\rEpoch: 83.5%  lr: 0.031642  loss: 0.013036  eta: 0h8m  tot: 0h4m52s  (36.7%)\rEpoch: 83.6%  lr: 0.031622  loss: 0.013041  eta: 0h8m  tot: 0h4m52s  (36.7%)\rEpoch: 83.7%  lr: 0.031612  loss: 0.013035  eta: 0h8m  tot: 0h4m52s  (36.7%)\rEpoch: 83.8%  lr: 0.031612  loss: 0.013028  eta: 0h8m  tot: 0h4m52s  (36.8%)\rEpoch: 83.9%  lr: 0.031602  loss: 0.013021  eta: 0h8m  tot: 0h4m53s  (36.8%)\rEpoch: 84.0%  lr: 0.031592  loss: 0.013022  eta: 0h8m  tot: 0h4m53s  (36.8%)\rEpoch: 84.1%  lr: 0.031592  loss: 0.013026  eta: 0h8m  tot: 0h4m53s  (36.8%)\rEpoch: 84.2%  lr: 0.031552  loss: 0.013025  eta: 0h8m  tot: 0h4m53s  (36.8%)\rEpoch: 84.3%  lr: 0.031542  loss: 0.013025  eta: 0h8m  tot: 0h4m53s  (36.9%)\rEpoch: 84.4%  lr: 0.031512  loss: 0.013014  eta: 0h8m  tot: 0h4m53s  (36.9%)\rEpoch: 84.4%  lr: 0.031512  loss: 0.013011  eta: 0h8m  tot: 0h4m53s  (36.9%)\rEpoch: 84.5%  lr: 0.031492  loss: 0.013004  eta: 0h8m  tot: 0h4m54s  (36.9%)\rEpoch: 84.6%  lr: 0.031482  loss: 0.013003  eta: 0h8m  tot: 0h4m54s  (36.9%)\rEpoch: 84.7%  lr: 0.031482  loss: 0.013002  eta: 0h8m  tot: 0h4m54s  (36.9%)\rEpoch: 84.8%  lr: 0.031482  loss: 0.012994  eta: 0h8m  tot: 0h4m54s  (37.0%)\rEpoch: 84.9%  lr: 0.031472  loss: 0.013001  eta: 0h8m  tot: 0h4m54s  (37.0%)\rEpoch: 85.0%  lr: 0.031472  loss: 0.012994  eta: 0h8m  tot: 0h4m54s  (37.0%)\rEpoch: 85.1%  lr: 0.031462  loss: 0.012989  eta: 0h8m  tot: 0h4m54s  (37.0%)\rEpoch: 85.2%  lr: 0.031462  loss: 0.012987  eta: 0h8m  tot: 0h4m54s  (37.0%)\rEpoch: 85.3%  lr: 0.031432  loss: 0.012996  eta: 0h8m  tot: 0h4m55s  (37.1%)\rEpoch: 85.3%  lr: 0.031432  loss: 0.012995  eta: 0h8m  tot: 0h4m55s  (37.1%)\rEpoch: 85.4%  lr: 0.031422  loss: 0.012994  eta: 0h8m  tot: 0h4m55s  (37.1%)\rEpoch: 85.5%  lr: 0.031402  loss: 0.012986  eta: 0h8m  tot: 0h4m55s  (37.1%)\rEpoch: 85.6%  lr: 0.031402  loss: 0.012982  eta: 0h8m  tot: 0h4m55s  (37.1%)\rEpoch: 85.7%  lr: 0.031402  loss: 0.012974  eta: 0h8m  tot: 0h4m55s  (37.1%)\rEpoch: 85.8%  lr: 0.031402  loss: 0.012974  eta: 0h8m  tot: 0h4m55s  (37.2%)\rEpoch: 85.9%  lr: 0.031402  loss: 0.012967  eta: 0h8m  tot: 0h4m56s  (37.2%)\rEpoch: 86.0%  lr: 0.031392  loss: 0.012967  eta: 0h8m  tot: 0h4m56s  (37.2%)\rEpoch: 86.1%  lr: 0.031361  loss: 0.012983  eta: 0h7m  tot: 0h4m56s  (37.2%)\rEpoch: 86.2%  lr: 0.031361  loss: 0.012987  eta: 0h7m  tot: 0h4m56s  (37.2%)\rEpoch: 86.2%  lr: 0.031351  loss: 0.012992  eta: 0h7m  tot: 0h4m56s  (37.2%)\rEpoch: 86.3%  lr: 0.031351  loss: 0.012991  eta: 0h7m  tot: 0h4m56s  (37.3%)\rEpoch: 86.4%  lr: 0.031341  loss: 0.012997  eta: 0h7m  tot: 0h4m56s  (37.3%)\rEpoch: 86.5%  lr: 0.031331  loss: 0.013000  eta: 0h7m  tot: 0h4m57s  (37.3%)\rEpoch: 86.6%  lr: 0.031331  loss: 0.013000  eta: 0h7m  tot: 0h4m57s  (37.3%)\rEpoch: 86.7%  lr: 0.031321  loss: 0.013001  eta: 0h7m  tot: 0h4m57s  (37.3%)\rEpoch: 86.8%  lr: 0.031301  loss: 0.013003  eta: 0h7m  tot: 0h4m57s  (37.4%)\rEpoch: 86.9%  lr: 0.031291  loss: 0.013007  eta: 0h7m  tot: 0h4m57s  (37.4%)\rEpoch: 87.0%  lr: 0.031281  loss: 0.013006  eta: 0h7m  tot: 0h4m57s  (37.4%)\rEpoch: 87.1%  lr: 0.031261  loss: 0.013011  eta: 0h7m  tot: 0h4m57s  (37.4%)\rEpoch: 87.1%  lr: 0.031261  loss: 0.013010  eta: 0h7m  tot: 0h4m58s  (37.4%)\rEpoch: 87.2%  lr: 0.031251  loss: 0.013002  eta: 0h7m  tot: 0h4m58s  (37.4%)\rEpoch: 87.3%  lr: 0.031241  loss: 0.012998  eta: 0h7m  tot: 0h4m58s  (37.5%)\rEpoch: 87.4%  lr: 0.031231  loss: 0.012988  eta: 0h7m  tot: 0h4m58s  (37.5%)\rEpoch: 87.5%  lr: 0.031221  loss: 0.012981  eta: 0h7m  tot: 0h4m58s  (37.5%)\rEpoch: 87.6%  lr: 0.031201  loss: 0.012986  eta: 0h7m  tot: 0h4m58s  (37.5%)\rEpoch: 87.7%  lr: 0.031181  loss: 0.012982  eta: 0h7m  tot: 0h4m58s  (37.5%)\rEpoch: 87.8%  lr: 0.031181  loss: 0.012976  eta: 0h7m  tot: 0h4m58s  (37.6%)\rEpoch: 87.9%  lr: 0.031171  loss: 0.012981  eta: 0h7m  tot: 0h4m59s  (37.6%)\rEpoch: 88.0%  lr: 0.031161  loss: 0.012989  eta: 0h7m  tot: 0h4m59s  (37.6%)\rEpoch: 88.0%  lr: 0.031151  loss: 0.012985  eta: 0h7m  tot: 0h4m59s  (37.6%)\rEpoch: 88.1%  lr: 0.031141  loss: 0.012997  eta: 0h7m  tot: 0h4m59s  (37.6%)\rEpoch: 88.2%  lr: 0.031111  loss: 0.012993  eta: 0h7m  tot: 0h4m59s  (37.6%)\rEpoch: 88.3%  lr: 0.031111  loss: 0.012986  eta: 0h7m  tot: 0h4m59s  (37.7%)\rEpoch: 88.4%  lr: 0.031091  loss: 0.012979  eta: 0h7m  tot: 0h4m59s  (37.7%)\rEpoch: 88.5%  lr: 0.031091  loss: 0.012976  eta: 0h7m  tot: 0h5m0s  (37.7%)\rEpoch: 88.6%  lr: 0.031071  loss: 0.012991  eta: 0h7m  tot: 0h5m0s  (37.7%)\rEpoch: 88.7%  lr: 0.031071  loss: 0.012994  eta: 0h7m  tot: 0h5m0s  (37.7%)\rEpoch: 88.8%  lr: 0.031051  loss: 0.013007  eta: 0h7m  tot: 0h5m0s  (37.8%)\rEpoch: 88.9%  lr: 0.031041  loss: 0.013006  eta: 0h7m  tot: 0h5m0s  (37.8%)\rEpoch: 88.9%  lr: 0.031021  loss: 0.013000  eta: 0h7m  tot: 0h5m0s  (37.8%)\rEpoch: 89.0%  lr: 0.031021  loss: 0.013005  eta: 0h7m  tot: 0h5m0s  (37.8%)\rEpoch: 89.1%  lr: 0.030991  loss: 0.013008  eta: 0h7m  tot: 0h5m1s  (37.8%)\rEpoch: 89.2%  lr: 0.030981  loss: 0.013006  eta: 0h7m  tot: 0h5m1s  (37.8%)\rEpoch: 89.3%  lr: 0.030971  loss: 0.012996  eta: 0h7m  tot: 0h5m1s  (37.9%)\rEpoch: 89.4%  lr: 0.030971  loss: 0.012996  eta: 0h7m  tot: 0h5m1s  (37.9%)\rEpoch: 89.5%  lr: 0.030971  loss: 0.012996  eta: 0h7m  tot: 0h5m1s  (37.9%)\rEpoch: 89.6%  lr: 0.030971  loss: 0.013008  eta: 0h7m  tot: 0h5m1s  (37.9%)\rEpoch: 89.7%  lr: 0.030971  loss: 0.012999  eta: 0h7m  tot: 0h5m1s  (37.9%)\rEpoch: 89.8%  lr: 0.030961  loss: 0.012997  eta: 0h7m  tot: 0h5m1s  (38.0%)\rEpoch: 89.8%  lr: 0.030961  loss: 0.012993  eta: 0h7m  tot: 0h5m2s  (38.0%)\rEpoch: 89.9%  lr: 0.030941  loss: 0.012996  eta: 0h7m  tot: 0h5m2s  (38.0%)\rEpoch: 90.0%  lr: 0.030931  loss: 0.013004  eta: 0h7m  tot: 0h5m2s  (38.0%)\rEpoch: 90.1%  lr: 0.030921  loss: 0.013009  eta: 0h7m  tot: 0h5m2s  (38.0%)\rEpoch: 90.2%  lr: 0.030911  loss: 0.013005  eta: 0h7m  tot: 0h5m2s  (38.0%)\rEpoch: 90.3%  lr: 0.030901  loss: 0.012997  eta: 0h7m  tot: 0h5m2s  (38.1%)\rEpoch: 90.4%  lr: 0.030891  loss: 0.013005  eta: 0h7m  tot: 0h5m2s  (38.1%)\rEpoch: 90.5%  lr: 0.030891  loss: 0.012998  eta: 0h7m  tot: 0h5m3s  (38.1%)\rEpoch: 90.6%  lr: 0.030891  loss: 0.012995  eta: 0h7m  tot: 0h5m3s  (38.1%)\rEpoch: 90.7%  lr: 0.030881  loss: 0.012997  eta: 0h7m  tot: 0h5m3s  (38.1%)\rEpoch: 90.7%  lr: 0.030881  loss: 0.012989  eta: 0h7m  tot: 0h5m3s  (38.1%)\rEpoch: 90.8%  lr: 0.030881  loss: 0.012997  eta: 0h7m  tot: 0h5m3s  (38.2%)\rEpoch: 90.9%  lr: 0.030871  loss: 0.012995  eta: 0h7m  tot: 0h5m3s  (38.2%)\rEpoch: 91.0%  lr: 0.030861  loss: 0.012989  eta: 0h7m  tot: 0h5m3s  (38.2%)\rEpoch: 91.1%  lr: 0.030861  loss: 0.012980  eta: 0h7m  tot: 0h5m4s  (38.2%)\rEpoch: 91.2%  lr: 0.030851  loss: 0.012979  eta: 0h7m  tot: 0h5m4s  (38.2%)\rEpoch: 91.3%  lr: 0.030851  loss: 0.012991  eta: 0h7m  tot: 0h5m4s  (38.3%)\rEpoch: 91.4%  lr: 0.030851  loss: 0.012988  eta: 0h7m  tot: 0h5m4s  (38.3%)\rEpoch: 91.5%  lr: 0.030841  loss: 0.012986  eta: 0h7m  tot: 0h5m4s  (38.3%)\rEpoch: 91.6%  lr: 0.030841  loss: 0.012986  eta: 0h7m  tot: 0h5m4s  (38.3%)\rEpoch: 91.6%  lr: 0.030831  loss: 0.012986  eta: 0h7m  tot: 0h5m4s  (38.3%)\rEpoch: 91.7%  lr: 0.030821  loss: 0.012982  eta: 0h7m  tot: 0h5m5s  (38.3%)\rEpoch: 91.8%  lr: 0.030811  loss: 0.012987  eta: 0h7m  tot: 0h5m5s  (38.4%)\rEpoch: 91.9%  lr: 0.030811  loss: 0.012983  eta: 0h7m  tot: 0h5m5s  (38.4%)\rEpoch: 92.0%  lr: 0.030801  loss: 0.012982  eta: 0h7m  tot: 0h5m5s  (38.4%)\rEpoch: 92.1%  lr: 0.030801  loss: 0.012982  eta: 0h7m  tot: 0h5m5s  (38.4%)\rEpoch: 92.2%  lr: 0.030791  loss: 0.012988  eta: 0h7m  tot: 0h5m5s  (38.4%)\rEpoch: 92.3%  lr: 0.030791  loss: 0.012989  eta: 0h7m  tot: 0h5m5s  (38.5%)\rEpoch: 92.4%  lr: 0.030781  loss: 0.012984  eta: 0h7m  tot: 0h5m6s  (38.5%)\rEpoch: 92.5%  lr: 0.030771  loss: 0.012995  eta: 0h7m  tot: 0h5m6s  (38.5%)\rEpoch: 92.5%  lr: 0.030741  loss: 0.012993  eta: 0h7m  tot: 0h5m6s  (38.5%)\rEpoch: 92.6%  lr: 0.030731  loss: 0.012991  eta: 0h7m  tot: 0h5m6s  (38.5%)\rEpoch: 92.7%  lr: 0.030721  loss: 0.012993  eta: 0h7m  tot: 0h5m6s  (38.5%)\rEpoch: 92.8%  lr: 0.030721  loss: 0.013001  eta: 0h7m  tot: 0h5m6s  (38.6%)\rEpoch: 92.9%  lr: 0.030701  loss: 0.013005  eta: 0h7m  tot: 0h5m6s  (38.6%)\rEpoch: 93.0%  lr: 0.030701  loss: 0.013008  eta: 0h7m  tot: 0h5m6s  (38.6%)\rEpoch: 93.1%  lr: 0.030691  loss: 0.013030  eta: 0h7m  tot: 0h5m7s  (38.6%)\rEpoch: 93.2%  lr: 0.030691  loss: 0.013028  eta: 0h7m  tot: 0h5m7s  (38.6%)\rEpoch: 93.3%  lr: 0.030691  loss: 0.013034  eta: 0h7m  tot: 0h5m7s  (38.7%)\rEpoch: 93.4%  lr: 0.030671  loss: 0.013028  eta: 0h7m  tot: 0h5m7s  (38.7%)\rEpoch: 93.4%  lr: 0.030671  loss: 0.013022  eta: 0h7m  tot: 0h5m7s  (38.7%)\rEpoch: 93.5%  lr: 0.030661  loss: 0.013029  eta: 0h7m  tot: 0h5m7s  (38.7%)\rEpoch: 93.6%  lr: 0.030661  loss: 0.013031  eta: 0h7m  tot: 0h5m7s  (38.7%)\rEpoch: 93.7%  lr: 0.030631  loss: 0.013033  eta: 0h7m  tot: 0h5m8s  (38.7%)\rEpoch: 93.8%  lr: 0.030631  loss: 0.013034  eta: 0h7m  tot: 0h5m8s  (38.8%)\rEpoch: 93.9%  lr: 0.030621  loss: 0.013033  eta: 0h7m  tot: 0h5m8s  (38.8%)\rEpoch: 94.0%  lr: 0.030621  loss: 0.013034  eta: 0h7m  tot: 0h5m8s  (38.8%)\rEpoch: 94.1%  lr: 0.030611  loss: 0.013035  eta: 0h7m  tot: 0h5m8s  (38.8%)\rEpoch: 94.2%  lr: 0.030611  loss: 0.013044  eta: 0h7m  tot: 0h5m8s  (38.8%)\rEpoch: 94.3%  lr: 0.030611  loss: 0.013038  eta: 0h7m  tot: 0h5m8s  (38.9%)\rEpoch: 94.3%  lr: 0.030601  loss: 0.013052  eta: 0h7m  tot: 0h5m9s  (38.9%)\rEpoch: 94.4%  lr: 0.030581  loss: 0.013051  eta: 0h7m  tot: 0h5m9s  (38.9%)\rEpoch: 94.5%  lr: 0.030571  loss: 0.013050  eta: 0h7m  tot: 0h5m9s  (38.9%)\rEpoch: 94.6%  lr: 0.030551  loss: 0.013049  eta: 0h7m  tot: 0h5m9s  (38.9%)\rEpoch: 94.7%  lr: 0.030511  loss: 0.013043  eta: 0h7m  tot: 0h5m9s  (38.9%)\rEpoch: 94.8%  lr: 0.030511  loss: 0.013038  eta: 0h7m  tot: 0h5m9s  (39.0%)\rEpoch: 94.9%  lr: 0.030511  loss: 0.013029  eta: 0h7m  tot: 0h5m9s  (39.0%)\rEpoch: 95.0%  lr: 0.030511  loss: 0.013020  eta: 0h7m  tot: 0h5m10s  (39.0%)\rEpoch: 95.1%  lr: 0.030491  loss: 0.013024  eta: 0h7m  tot: 0h5m10s  (39.0%)\rEpoch: 95.2%  lr: 0.030471  loss: 0.013036  eta: 0h7m  tot: 0h5m10s  (39.0%)\rEpoch: 95.2%  lr: 0.030471  loss: 0.013041  eta: 0h7m  tot: 0h5m10s  (39.0%)\rEpoch: 95.3%  lr: 0.030461  loss: 0.013036  eta: 0h7m  tot: 0h5m10s  (39.1%)\rEpoch: 95.4%  lr: 0.030461  loss: 0.013035  eta: 0h7m  tot: 0h5m10s  (39.1%)\rEpoch: 95.5%  lr: 0.030441  loss: 0.013031  eta: 0h7m  tot: 0h5m10s  (39.1%)\rEpoch: 95.6%  lr: 0.030441  loss: 0.013024  eta: 0h7m  tot: 0h5m10s  (39.1%)\rEpoch: 95.7%  lr: 0.030441  loss: 0.013019  eta: 0h7m  tot: 0h5m11s  (39.1%)\rEpoch: 95.8%  lr: 0.030441  loss: 0.013023  eta: 0h7m  tot: 0h5m11s  (39.2%)\rEpoch: 95.9%  lr: 0.030431  loss: 0.013030  eta: 0h7m  tot: 0h5m11s  (39.2%)\rEpoch: 96.0%  lr: 0.030411  loss: 0.013035  eta: 0h7m  tot: 0h5m11s  (39.2%)\rEpoch: 96.1%  lr: 0.030411  loss: 0.013036  eta: 0h7m  tot: 0h5m11s  (39.2%)\rEpoch: 96.1%  lr: 0.030401  loss: 0.013047  eta: 0h7m  tot: 0h5m11s  (39.2%)\rEpoch: 96.2%  lr: 0.030371  loss: 0.013049  eta: 0h7m  tot: 0h5m11s  (39.2%)\rEpoch: 96.3%  lr: 0.030371  loss: 0.013039  eta: 0h7m  tot: 0h5m12s  (39.3%)\rEpoch: 96.4%  lr: 0.030361  loss: 0.013045  eta: 0h7m  tot: 0h5m12s  (39.3%)\rEpoch: 96.5%  lr: 0.030350  loss: 0.013043  eta: 0h7m  tot: 0h5m12s  (39.3%)\rEpoch: 96.6%  lr: 0.030340  loss: 0.013038  eta: 0h7m  tot: 0h5m12s  (39.3%)\rEpoch: 96.7%  lr: 0.030340  loss: 0.013035  eta: 0h7m  tot: 0h5m12s  (39.3%)\rEpoch: 96.8%  lr: 0.030330  loss: 0.013042  eta: 0h7m  tot: 0h5m12s  (39.4%)\rEpoch: 96.9%  lr: 0.030320  loss: 0.013039  eta: 0h7m  tot: 0h5m12s  (39.4%)\rEpoch: 97.0%  lr: 0.030320  loss: 0.013039  eta: 0h7m  tot: 0h5m13s  (39.4%)\rEpoch: 97.0%  lr: 0.030310  loss: 0.013034  eta: 0h7m  tot: 0h5m13s  (39.4%)\rEpoch: 97.1%  lr: 0.030310  loss: 0.013036  eta: 0h7m  tot: 0h5m13s  (39.4%)\rEpoch: 97.2%  lr: 0.030300  loss: 0.013037  eta: 0h7m  tot: 0h5m13s  (39.4%)\rEpoch: 97.3%  lr: 0.030300  loss: 0.013035  eta: 0h7m  tot: 0h5m13s  (39.5%)\rEpoch: 97.4%  lr: 0.030300  loss: 0.013031  eta: 0h7m  tot: 0h5m13s  (39.5%)\rEpoch: 97.5%  lr: 0.030300  loss: 0.013030  eta: 0h7m  tot: 0h5m13s  (39.5%)\rEpoch: 97.6%  lr: 0.030290  loss: 0.013027  eta: 0h7m  tot: 0h5m14s  (39.5%)\rEpoch: 97.7%  lr: 0.030280  loss: 0.013022  eta: 0h7m  tot: 0h5m14s  (39.5%)\rEpoch: 97.8%  lr: 0.030270  loss: 0.013026  eta: 0h7m  tot: 0h5m14s  (39.6%)\rEpoch: 97.9%  lr: 0.030260  loss: 0.013035  eta: 0h7m  tot: 0h5m14s  (39.6%)\rEpoch: 97.9%  lr: 0.030260  loss: 0.013028  eta: 0h7m  tot: 0h5m14s  (39.6%)\rEpoch: 98.0%  lr: 0.030260  loss: 0.013020  eta: 0h7m  tot: 0h5m14s  (39.6%)\rEpoch: 98.1%  lr: 0.030240  loss: 0.013015  eta: 0h7m  tot: 0h5m14s  (39.6%)\rEpoch: 98.2%  lr: 0.030240  loss: 0.013020  eta: 0h7m  tot: 0h5m14s  (39.6%)\rEpoch: 98.3%  lr: 0.030240  loss: 0.013025  eta: 0h7m  tot: 0h5m15s  (39.7%)\rEpoch: 98.4%  lr: 0.030220  loss: 0.013032  eta: 0h7m  tot: 0h5m15s  (39.7%)\rEpoch: 98.5%  lr: 0.030190  loss: 0.013027  eta: 0h7m  tot: 0h5m15s  (39.7%)\rEpoch: 98.6%  lr: 0.030170  loss: 0.013022  eta: 0h7m  tot: 0h5m15s  (39.7%)\rEpoch: 98.7%  lr: 0.030160  loss: 0.013027  eta: 0h7m  tot: 0h5m15s  (39.7%)\rEpoch: 98.8%  lr: 0.030130  loss: 0.013022  eta: 0h7m  tot: 0h5m15s  (39.8%)\rEpoch: 98.8%  lr: 0.030110  loss: 0.013017  eta: 0h7m  tot: 0h5m15s  (39.8%)\rEpoch: 98.9%  lr: 0.030090  loss: 0.013033  eta: 0h7m  tot: 0h5m16s  (39.8%)\rEpoch: 99.0%  lr: 0.030080  loss: 0.013026  eta: 0h7m  tot: 0h5m16s  (39.8%)\rEpoch: 99.1%  lr: 0.030070  loss: 0.013026  eta: 0h7m  tot: 0h5m16s  (39.8%)\rEpoch: 99.2%  lr: 0.030060  loss: 0.013028  eta: 0h7m  tot: 0h5m16s  (39.8%)\rEpoch: 99.3%  lr: 0.030050  loss: 0.013025  eta: 0h7m  tot: 0h5m16s  (39.9%)\rEpoch: 99.4%  lr: 0.030030  loss: 0.013043  eta: 0h7m  tot: 0h5m16s  (39.9%)\rEpoch: 99.5%  lr: 0.030020  loss: 0.013045  eta: 0h7m  tot: 0h5m16s  (39.9%)\rEpoch: 99.6%  lr: 0.030020  loss: 0.013039  eta: 0h7m  tot: 0h5m17s  (39.9%)\rEpoch: 99.7%  lr: 0.030020  loss: 0.013036  eta: 0h7m  tot: 0h5m17s  (39.9%)\rEpoch: 99.7%  lr: 0.030020  loss: 0.013042  eta: 0h7m  tot: 0h5m17s  (39.9%)\rEpoch: 99.8%  lr: 0.030020  loss: 0.013041  eta: 0h7m  tot: 0h5m17s  (40.0%)\rEpoch: 99.9%  lr: 0.030010  loss: 0.013042  eta: 0h7m  tot: 0h5m17s  (40.0%)\rEpoch: 100.0%  lr: 0.030000  loss: 0.013044  eta: 0h7m  tot: 0h5m17s  (40.0%)\rEpoch: 0.1%  lr: 0.030000  loss: 0.007685  eta: 0h9m  tot: 0h5m18s  (40.0%)\rEpoch: 0.2%  lr: 0.029980  loss: 0.012373  eta: 0h9m  tot: 0h5m18s  (40.0%)\rEpoch: 0.3%  lr: 0.029980  loss: 0.013207  eta: 0h8m  tot: 0h5m18s  (40.1%)\rEpoch: 0.4%  lr: 0.029960  loss: 0.014362  eta: 0h8m  tot: 0h5m18s  (40.1%)\rEpoch: 0.4%  lr: 0.029940  loss: 0.015408  eta: 0h8m  tot: 0h5m18s  (40.1%)\rEpoch: 0.5%  lr: 0.029940  loss: 0.013763  eta: 0h8m  tot: 0h5m19s  (40.1%)\rEpoch: 0.6%  lr: 0.029920  loss: 0.014089  eta: 0h8m  tot: 0h5m19s  (40.1%)\rEpoch: 0.7%  lr: 0.029920  loss: 0.013515  eta: 0h8m  tot: 0h5m19s  (40.1%)\rEpoch: 0.8%  lr: 0.029910  loss: 0.012751  eta: 0h7m  tot: 0h5m19s  (40.2%)\rEpoch: 0.9%  lr: 0.029910  loss: 0.012318  eta: 0h7m  tot: 0h5m19s  (40.2%)\rEpoch: 1.0%  lr: 0.029900  loss: 0.011782  eta: 0h8m  tot: 0h5m19s  (40.2%)\rEpoch: 1.1%  lr: 0.029880  loss: 0.011992  eta: 0h8m  tot: 0h5m19s  (40.2%)\rEpoch: 1.2%  lr: 0.029870  loss: 0.011766  eta: 0h7m  tot: 0h5m20s  (40.2%)\rEpoch: 1.3%  lr: 0.029870  loss: 0.011545  eta: 0h7m  tot: 0h5m20s  (40.3%)\rEpoch: 1.3%  lr: 0.029870  loss: 0.011578  eta: 0h7m  tot: 0h5m20s  (40.3%)\rEpoch: 1.4%  lr: 0.029870  loss: 0.011117  eta: 0h7m  tot: 0h5m20s  (40.3%)\rEpoch: 1.5%  lr: 0.029870  loss: 0.010831  eta: 0h7m  tot: 0h5m20s  (40.3%)\rEpoch: 1.6%  lr: 0.029860  loss: 0.010853  eta: 0h7m  tot: 0h5m20s  (40.3%)\rEpoch: 1.7%  lr: 0.029860  loss: 0.010805  eta: 0h7m  tot: 0h5m20s  (40.3%)\rEpoch: 1.8%  lr: 0.029850  loss: 0.010563  eta: 0h7m  tot: 0h5m20s  (40.4%)\rEpoch: 1.9%  lr: 0.029850  loss: 0.010657  eta: 0h7m  tot: 0h5m21s  (40.4%)\rEpoch: 2.0%  lr: 0.029820  loss: 0.010706  eta: 0h7m  tot: 0h5m21s  (40.4%)\rEpoch: 2.1%  lr: 0.029800  loss: 0.010834  eta: 0h7m  tot: 0h5m21s  (40.4%)\rEpoch: 2.2%  lr: 0.029790  loss: 0.010929  eta: 0h7m  tot: 0h5m21s  (40.4%)\rEpoch: 2.2%  lr: 0.029770  loss: 0.010742  eta: 0h7m  tot: 0h5m21s  (40.4%)\rEpoch: 2.3%  lr: 0.029760  loss: 0.011099  eta: 0h7m  tot: 0h5m21s  (40.5%)\rEpoch: 2.4%  lr: 0.029760  loss: 0.011244  eta: 0h7m  tot: 0h5m21s  (40.5%)\rEpoch: 2.5%  lr: 0.029740  loss: 0.011006  eta: 0h7m  tot: 0h5m22s  (40.5%)\rEpoch: 2.6%  lr: 0.029720  loss: 0.010807  eta: 0h7m  tot: 0h5m22s  (40.5%)\rEpoch: 2.7%  lr: 0.029710  loss: 0.010702  eta: 0h7m  tot: 0h5m22s  (40.5%)\rEpoch: 2.8%  lr: 0.029710  loss: 0.010600  eta: 0h7m  tot: 0h5m22s  (40.6%)\rEpoch: 2.9%  lr: 0.029690  loss: 0.010867  eta: 0h7m  tot: 0h5m22s  (40.6%)\rEpoch: 3.0%  lr: 0.029680  loss: 0.010942  eta: 0h7m  tot: 0h5m22s  (40.6%)\rEpoch: 3.1%  lr: 0.029680  loss: 0.010851  eta: 0h7m  tot: 0h5m22s  (40.6%)\rEpoch: 3.1%  lr: 0.029650  loss: 0.010652  eta: 0h7m  tot: 0h5m23s  (40.6%)\rEpoch: 3.2%  lr: 0.029640  loss: 0.010549  eta: 0h7m  tot: 0h5m23s  (40.6%)\rEpoch: 3.3%  lr: 0.029620  loss: 0.010378  eta: 0h7m  tot: 0h5m23s  (40.7%)\rEpoch: 3.4%  lr: 0.029610  loss: 0.010415  eta: 0h7m  tot: 0h5m23s  (40.7%)\rEpoch: 3.5%  lr: 0.029600  loss: 0.010517  eta: 0h7m  tot: 0h5m23s  (40.7%)\rEpoch: 3.6%  lr: 0.029580  loss: 0.010549  eta: 0h7m  tot: 0h5m23s  (40.7%)\rEpoch: 3.7%  lr: 0.029580  loss: 0.010518  eta: 0h7m  tot: 0h5m23s  (40.7%)\rEpoch: 3.8%  lr: 0.029570  loss: 0.010641  eta: 0h7m  tot: 0h5m23s  (40.8%)\rEpoch: 3.9%  lr: 0.029560  loss: 0.010638  eta: 0h7m  tot: 0h5m24s  (40.8%)\rEpoch: 4.0%  lr: 0.029520  loss: 0.010574  eta: 0h7m  tot: 0h5m24s  (40.8%)\rEpoch: 4.1%  lr: 0.029510  loss: 0.010567  eta: 0h7m  tot: 0h5m24s  (40.8%)\rEpoch: 4.1%  lr: 0.029500  loss: 0.010432  eta: 0h7m  tot: 0h5m24s  (40.8%)\rEpoch: 4.2%  lr: 0.029489  loss: 0.010511  eta: 0h7m  tot: 0h5m24s  (40.8%)\rEpoch: 4.3%  lr: 0.029489  loss: 0.010391  eta: 0h7m  tot: 0h5m24s  (40.9%)\rEpoch: 4.4%  lr: 0.029489  loss: 0.010532  eta: 0h7m  tot: 0h5m24s  (40.9%)\rEpoch: 4.5%  lr: 0.029469  loss: 0.010448  eta: 0h7m  tot: 0h5m25s  (40.9%)\rEpoch: 4.6%  lr: 0.029449  loss: 0.010454  eta: 0h7m  tot: 0h5m25s  (40.9%)\rEpoch: 4.7%  lr: 0.029429  loss: 0.010734  eta: 0h7m  tot: 0h5m25s  (40.9%)\rEpoch: 4.8%  lr: 0.029429  loss: 0.010570  eta: 0h7m  tot: 0h5m25s  (41.0%)\rEpoch: 4.9%  lr: 0.029429  loss: 0.010559  eta: 0h7m  tot: 0h5m25s  (41.0%)\rEpoch: 5.0%  lr: 0.029419  loss: 0.010491  eta: 0h7m  tot: 0h5m25s  (41.0%)\rEpoch: 5.0%  lr: 0.029419  loss: 0.010402  eta: 0h7m  tot: 0h5m25s  (41.0%)\rEpoch: 5.1%  lr: 0.029409  loss: 0.010323  eta: 0h7m  tot: 0h5m26s  (41.0%)\rEpoch: 5.2%  lr: 0.029399  loss: 0.010278  eta: 0h7m  tot: 0h5m26s  (41.0%)\rEpoch: 5.3%  lr: 0.029399  loss: 0.010180  eta: 0h7m  tot: 0h5m26s  (41.1%)\rEpoch: 5.4%  lr: 0.029379  loss: 0.010113  eta: 0h7m  tot: 0h5m26s  (41.1%)\rEpoch: 5.5%  lr: 0.029349  loss: 0.010001  eta: 0h7m  tot: 0h5m26s  (41.1%)\rEpoch: 5.6%  lr: 0.029329  loss: 0.009911  eta: 0h7m  tot: 0h5m26s  (41.1%)\rEpoch: 5.7%  lr: 0.029319  loss: 0.009836  eta: 0h7m  tot: 0h5m26s  (41.1%)\rEpoch: 5.8%  lr: 0.029309  loss: 0.009975  eta: 0h7m  tot: 0h5m27s  (41.2%)\rEpoch: 5.9%  lr: 0.029289  loss: 0.010096  eta: 0h7m  tot: 0h5m27s  (41.2%)\rEpoch: 5.9%  lr: 0.029289  loss: 0.010146  eta: 0h7m  tot: 0h5m27s  (41.2%)\rEpoch: 6.0%  lr: 0.029289  loss: 0.010073  eta: 0h7m  tot: 0h5m27s  (41.2%)\rEpoch: 6.1%  lr: 0.029279  loss: 0.010103  eta: 0h7m  tot: 0h5m27s  (41.2%)\rEpoch: 6.2%  lr: 0.029269  loss: 0.010050  eta: 0h7m  tot: 0h5m27s  (41.2%)\rEpoch: 6.3%  lr: 0.029259  loss: 0.010074  eta: 0h7m  tot: 0h5m27s  (41.3%)\rEpoch: 6.4%  lr: 0.029259  loss: 0.010170  eta: 0h7m  tot: 0h5m27s  (41.3%)\rEpoch: 6.5%  lr: 0.029259  loss: 0.010171  eta: 0h7m  tot: 0h5m28s  (41.3%)\rEpoch: 6.6%  lr: 0.029259  loss: 0.010161  eta: 0h7m  tot: 0h5m28s  (41.3%)\rEpoch: 6.7%  lr: 0.029259  loss: 0.010145  eta: 0h7m  tot: 0h5m28s  (41.3%)\rEpoch: 6.8%  lr: 0.029259  loss: 0.010051  eta: 0h7m  tot: 0h5m28s  (41.4%)\rEpoch: 6.8%  lr: 0.029249  loss: 0.010044  eta: 0h7m  tot: 0h5m28s  (41.4%)\rEpoch: 6.9%  lr: 0.029249  loss: 0.010014  eta: 0h7m  tot: 0h5m28s  (41.4%)\rEpoch: 7.0%  lr: 0.029229  loss: 0.010006  eta: 0h7m  tot: 0h5m28s  (41.4%)\rEpoch: 7.1%  lr: 0.029229  loss: 0.009964  eta: 0h7m  tot: 0h5m29s  (41.4%)\rEpoch: 7.2%  lr: 0.029229  loss: 0.009907  eta: 0h7m  tot: 0h5m29s  (41.4%)\rEpoch: 7.3%  lr: 0.029199  loss: 0.009868  eta: 0h7m  tot: 0h5m29s  (41.5%)\rEpoch: 7.4%  lr: 0.029199  loss: 0.009935  eta: 0h7m  tot: 0h5m29s  (41.5%)\rEpoch: 7.5%  lr: 0.029179  loss: 0.009858  eta: 0h7m  tot: 0h5m29s  (41.5%)\rEpoch: 7.6%  lr: 0.029159  loss: 0.009800  eta: 0h7m  tot: 0h5m29s  (41.5%)\rEpoch: 7.7%  lr: 0.029149  loss: 0.009805  eta: 0h7m  tot: 0h5m29s  (41.5%)\rEpoch: 7.7%  lr: 0.029139  loss: 0.009807  eta: 0h7m  tot: 0h5m29s  (41.5%)\rEpoch: 7.8%  lr: 0.029139  loss: 0.009814  eta: 0h7m  tot: 0h5m30s  (41.6%)\rEpoch: 7.9%  lr: 0.029139  loss: 0.009902  eta: 0h7m  tot: 0h5m30s  (41.6%)\rEpoch: 8.0%  lr: 0.029139  loss: 0.009905  eta: 0h7m  tot: 0h5m30s  (41.6%)\rEpoch: 8.1%  lr: 0.029119  loss: 0.009934  eta: 0h7m  tot: 0h5m30s  (41.6%)\rEpoch: 8.2%  lr: 0.029099  loss: 0.009918  eta: 0h7m  tot: 0h5m30s  (41.6%)\rEpoch: 8.3%  lr: 0.029099  loss: 0.009860  eta: 0h7m  tot: 0h5m30s  (41.7%)\rEpoch: 8.4%  lr: 0.029089  loss: 0.009888  eta: 0h7m  tot: 0h5m30s  (41.7%)\rEpoch: 8.5%  lr: 0.029079  loss: 0.009863  eta: 0h7m  tot: 0h5m31s  (41.7%)\rEpoch: 8.6%  lr: 0.029079  loss: 0.009803  eta: 0h7m  tot: 0h5m31s  (41.7%)\rEpoch: 8.6%  lr: 0.029079  loss: 0.009794  eta: 0h7m  tot: 0h5m31s  (41.7%)\rEpoch: 8.7%  lr: 0.029059  loss: 0.009784  eta: 0h7m  tot: 0h5m31s  (41.7%)\rEpoch: 8.8%  lr: 0.029049  loss: 0.009830  eta: 0h7m  tot: 0h5m31s  (41.8%)\rEpoch: 8.9%  lr: 0.029039  loss: 0.009830  eta: 0h7m  tot: 0h5m31s  (41.8%)\rEpoch: 9.0%  lr: 0.029029  loss: 0.009804  eta: 0h7m  tot: 0h5m31s  (41.8%)\rEpoch: 9.1%  lr: 0.029029  loss: 0.009765  eta: 0h7m  tot: 0h5m32s  (41.8%)\rEpoch: 9.2%  lr: 0.029019  loss: 0.009775  eta: 0h7m  tot: 0h5m32s  (41.8%)\rEpoch: 9.3%  lr: 0.029019  loss: 0.009865  eta: 0h7m  tot: 0h5m32s  (41.9%)\rEpoch: 9.4%  lr: 0.028999  loss: 0.009920  eta: 0h7m  tot: 0h5m32s  (41.9%)\rEpoch: 9.5%  lr: 0.028999  loss: 0.009892  eta: 0h7m  tot: 0h5m32s  (41.9%)\rEpoch: 9.5%  lr: 0.028989  loss: 0.009844  eta: 0h7m  tot: 0h5m32s  (41.9%)\rEpoch: 9.6%  lr: 0.028979  loss: 0.009810  eta: 0h7m  tot: 0h5m32s  (41.9%)\rEpoch: 9.7%  lr: 0.028979  loss: 0.009765  eta: 0h7m  tot: 0h5m32s  (41.9%)\rEpoch: 9.8%  lr: 0.028969  loss: 0.009726  eta: 0h7m  tot: 0h5m33s  (42.0%)\rEpoch: 9.9%  lr: 0.028959  loss: 0.009700  eta: 0h7m  tot: 0h5m33s  (42.0%)\rEpoch: 10.0%  lr: 0.028959  loss: 0.009712  eta: 0h7m  tot: 0h5m33s  (42.0%)\rEpoch: 10.1%  lr: 0.028959  loss: 0.009762  eta: 0h7m  tot: 0h5m33s  (42.0%)\rEpoch: 10.2%  lr: 0.028949  loss: 0.009725  eta: 0h7m  tot: 0h5m33s  (42.0%)\rEpoch: 10.3%  lr: 0.028919  loss: 0.009782  eta: 0h7m  tot: 0h5m33s  (42.1%)\rEpoch: 10.4%  lr: 0.028919  loss: 0.009831  eta: 0h7m  tot: 0h5m33s  (42.1%)\rEpoch: 10.4%  lr: 0.028909  loss: 0.009899  eta: 0h7m  tot: 0h5m34s  (42.1%)\rEpoch: 10.5%  lr: 0.028899  loss: 0.009849  eta: 0h7m  tot: 0h5m34s  (42.1%)\rEpoch: 10.6%  lr: 0.028879  loss: 0.009945  eta: 0h7m  tot: 0h5m34s  (42.1%)\rEpoch: 10.7%  lr: 0.028869  loss: 0.009925  eta: 0h7m  tot: 0h5m34s  (42.1%)\rEpoch: 10.8%  lr: 0.028859  loss: 0.009886  eta: 0h7m  tot: 0h5m34s  (42.2%)\rEpoch: 10.9%  lr: 0.028839  loss: 0.009931  eta: 0h7m  tot: 0h5m34s  (42.2%)\rEpoch: 11.0%  lr: 0.028809  loss: 0.009923  eta: 0h7m  tot: 0h5m34s  (42.2%)\rEpoch: 11.1%  lr: 0.028809  loss: 0.009926  eta: 0h7m  tot: 0h5m35s  (42.2%)\rEpoch: 11.2%  lr: 0.028789  loss: 0.009973  eta: 0h7m  tot: 0h5m35s  (42.2%)\rEpoch: 11.3%  lr: 0.028789  loss: 0.009961  eta: 0h7m  tot: 0h5m35s  (42.3%)\rEpoch: 11.3%  lr: 0.028749  loss: 0.009924  eta: 0h7m  tot: 0h5m35s  (42.3%)\rEpoch: 11.4%  lr: 0.028749  loss: 0.009969  eta: 0h7m  tot: 0h5m35s  (42.3%)\rEpoch: 11.5%  lr: 0.028739  loss: 0.009958  eta: 0h7m  tot: 0h5m35s  (42.3%)\rEpoch: 11.6%  lr: 0.028729  loss: 0.009903  eta: 0h7m  tot: 0h5m35s  (42.3%)\rEpoch: 11.7%  lr: 0.028719  loss: 0.009898  eta: 0h7m  tot: 0h5m35s  (42.3%)\rEpoch: 11.8%  lr: 0.028719  loss: 0.009904  eta: 0h7m  tot: 0h5m36s  (42.4%)\rEpoch: 11.9%  lr: 0.028719  loss: 0.009906  eta: 0h7m  tot: 0h5m36s  (42.4%)\rEpoch: 12.0%  lr: 0.028709  loss: 0.009967  eta: 0h7m  tot: 0h5m36s  (42.4%)\rEpoch: 12.1%  lr: 0.028709  loss: 0.009986  eta: 0h7m  tot: 0h5m36s  (42.4%)\rEpoch: 12.2%  lr: 0.028709  loss: 0.009985  eta: 0h7m  tot: 0h5m36s  (42.4%)\rEpoch: 12.2%  lr: 0.028709  loss: 0.010062  eta: 0h7m  tot: 0h5m36s  (42.4%)\rEpoch: 12.3%  lr: 0.028699  loss: 0.010018  eta: 0h7m  tot: 0h5m36s  (42.5%)\rEpoch: 12.4%  lr: 0.028669  loss: 0.010009  eta: 0h7m  tot: 0h5m37s  (42.5%)\rEpoch: 12.5%  lr: 0.028669  loss: 0.010040  eta: 0h7m  tot: 0h5m37s  (42.5%)\rEpoch: 12.6%  lr: 0.028649  loss: 0.009987  eta: 0h7m  tot: 0h5m37s  (42.5%)\rEpoch: 12.7%  lr: 0.028649  loss: 0.010019  eta: 0h7m  tot: 0h5m37s  (42.5%)\rEpoch: 12.8%  lr: 0.028639  loss: 0.009984  eta: 0h7m  tot: 0h5m37s  (42.6%)\rEpoch: 12.9%  lr: 0.028639  loss: 0.010000  eta: 0h7m  tot: 0h5m37s  (42.6%)\rEpoch: 13.0%  lr: 0.028639  loss: 0.009972  eta: 0h7m  tot: 0h5m37s  (42.6%)\rEpoch: 13.1%  lr: 0.028629  loss: 0.009967  eta: 0h7m  tot: 0h5m38s  (42.6%)\rEpoch: 13.1%  lr: 0.028629  loss: 0.009967  eta: 0h7m  tot: 0h5m38s  (42.6%)\rEpoch: 13.2%  lr: 0.028599  loss: 0.009928  eta: 0h7m  tot: 0h5m38s  (42.6%)\rEpoch: 13.3%  lr: 0.028599  loss: 0.009968  eta: 0h7m  tot: 0h5m38s  (42.7%)\rEpoch: 13.4%  lr: 0.028579  loss: 0.009962  eta: 0h7m  tot: 0h5m38s  (42.7%)\rEpoch: 13.5%  lr: 0.028569  loss: 0.009929  eta: 0h7m  tot: 0h5m38s  (42.7%)\rEpoch: 13.6%  lr: 0.028559  loss: 0.009907  eta: 0h7m  tot: 0h5m38s  (42.7%)\rEpoch: 13.7%  lr: 0.028549  loss: 0.009955  eta: 0h7m  tot: 0h5m38s  (42.7%)\rEpoch: 13.8%  lr: 0.028509  loss: 0.009938  eta: 0h7m  tot: 0h5m39s  (42.8%)\rEpoch: 13.9%  lr: 0.028499  loss: 0.009961  eta: 0h7m  tot: 0h5m39s  (42.8%)\rEpoch: 14.0%  lr: 0.028499  loss: 0.009949  eta: 0h7m  tot: 0h5m39s  (42.8%)\rEpoch: 14.0%  lr: 0.028499  loss: 0.009936  eta: 0h7m  tot: 0h5m39s  (42.8%)\rEpoch: 14.1%  lr: 0.028499  loss: 0.009933  eta: 0h7m  tot: 0h5m39s  (42.8%)\rEpoch: 14.2%  lr: 0.028499  loss: 0.009939  eta: 0h7m  tot: 0h5m39s  (42.8%)\rEpoch: 14.3%  lr: 0.028499  loss: 0.009927  eta: 0h7m  tot: 0h5m39s  (42.9%)\rEpoch: 14.4%  lr: 0.028499  loss: 0.009913  eta: 0h7m  tot: 0h5m40s  (42.9%)\rEpoch: 14.5%  lr: 0.028489  loss: 0.009995  eta: 0h7m  tot: 0h5m40s  (42.9%)\rEpoch: 14.6%  lr: 0.028468  loss: 0.009958  eta: 0h7m  tot: 0h5m40s  (42.9%)\rEpoch: 14.7%  lr: 0.028448  loss: 0.009936  eta: 0h7m  tot: 0h5m40s  (42.9%)\rEpoch: 14.8%  lr: 0.028438  loss: 0.009970  eta: 0h7m  tot: 0h5m40s  (43.0%)\rEpoch: 14.9%  lr: 0.028438  loss: 0.009947  eta: 0h7m  tot: 0h5m40s  (43.0%)\rEpoch: 14.9%  lr: 0.028418  loss: 0.009911  eta: 0h7m  tot: 0h5m40s  (43.0%)\rEpoch: 15.0%  lr: 0.028418  loss: 0.009949  eta: 0h7m  tot: 0h5m41s  (43.0%)\rEpoch: 15.1%  lr: 0.028418  loss: 0.009917  eta: 0h7m  tot: 0h5m41s  (43.0%)\rEpoch: 15.2%  lr: 0.028388  loss: 0.009874  eta: 0h7m  tot: 0h5m41s  (43.0%)\rEpoch: 15.3%  lr: 0.028388  loss: 0.009862  eta: 0h7m  tot: 0h5m41s  (43.1%)\rEpoch: 15.4%  lr: 0.028378  loss: 0.009872  eta: 0h7m  tot: 0h5m41s  (43.1%)\rEpoch: 15.5%  lr: 0.028378  loss: 0.009865  eta: 0h7m  tot: 0h5m41s  (43.1%)\rEpoch: 15.6%  lr: 0.028358  loss: 0.009874  eta: 0h7m  tot: 0h5m41s  (43.1%)\rEpoch: 15.7%  lr: 0.028358  loss: 0.009847  eta: 0h7m  tot: 0h5m41s  (43.1%)\rEpoch: 15.8%  lr: 0.028348  loss: 0.009922  eta: 0h7m  tot: 0h5m42s  (43.2%)\rEpoch: 15.8%  lr: 0.028338  loss: 0.009943  eta: 0h7m  tot: 0h5m42s  (43.2%)\rEpoch: 15.9%  lr: 0.028328  loss: 0.009931  eta: 0h7m  tot: 0h5m42s  (43.2%)\rEpoch: 16.0%  lr: 0.028318  loss: 0.009895  eta: 0h7m  tot: 0h5m42s  (43.2%)\rEpoch: 16.1%  lr: 0.028308  loss: 0.009884  eta: 0h7m  tot: 0h5m42s  (43.2%)\rEpoch: 16.2%  lr: 0.028308  loss: 0.009886  eta: 0h7m  tot: 0h5m42s  (43.2%)\rEpoch: 16.3%  lr: 0.028298  loss: 0.009877  eta: 0h7m  tot: 0h5m42s  (43.3%)\rEpoch: 16.4%  lr: 0.028288  loss: 0.009853  eta: 0h7m  tot: 0h5m43s  (43.3%)\rEpoch: 16.5%  lr: 0.028288  loss: 0.009858  eta: 0h7m  tot: 0h5m43s  (43.3%)\rEpoch: 16.6%  lr: 0.028288  loss: 0.009828  eta: 0h7m  tot: 0h5m43s  (43.3%)\rEpoch: 16.7%  lr: 0.028288  loss: 0.009817  eta: 0h7m  tot: 0h5m43s  (43.3%)\rEpoch: 16.7%  lr: 0.028278  loss: 0.009845  eta: 0h7m  tot: 0h5m43s  (43.3%)\rEpoch: 16.8%  lr: 0.028258  loss: 0.009858  eta: 0h7m  tot: 0h5m43s  (43.4%)\rEpoch: 16.9%  lr: 0.028228  loss: 0.009846  eta: 0h7m  tot: 0h5m43s  (43.4%)\rEpoch: 17.0%  lr: 0.028228  loss: 0.009851  eta: 0h7m  tot: 0h5m43s  (43.4%)\rEpoch: 17.1%  lr: 0.028208  loss: 0.009842  eta: 0h7m  tot: 0h5m44s  (43.4%)\rEpoch: 17.2%  lr: 0.028208  loss: 0.009820  eta: 0h7m  tot: 0h5m44s  (43.4%)\rEpoch: 17.3%  lr: 0.028208  loss: 0.009850  eta: 0h7m  tot: 0h5m44s  (43.5%)\rEpoch: 17.4%  lr: 0.028188  loss: 0.009837  eta: 0h7m  tot: 0h5m44s  (43.5%)\rEpoch: 17.5%  lr: 0.028148  loss: 0.009855  eta: 0h7m  tot: 0h5m44s  (43.5%)\rEpoch: 17.6%  lr: 0.028138  loss: 0.009862  eta: 0h7m  tot: 0h5m44s  (43.5%)\rEpoch: 17.6%  lr: 0.028138  loss: 0.009864  eta: 0h7m  tot: 0h5m44s  (43.5%)\rEpoch: 17.7%  lr: 0.028138  loss: 0.009870  eta: 0h7m  tot: 0h5m45s  (43.5%)\rEpoch: 17.8%  lr: 0.028128  loss: 0.009859  eta: 0h7m  tot: 0h5m45s  (43.6%)\rEpoch: 17.9%  lr: 0.028128  loss: 0.009908  eta: 0h7m  tot: 0h5m45s  (43.6%)\rEpoch: 18.0%  lr: 0.028118  loss: 0.009912  eta: 0h7m  tot: 0h5m45s  (43.6%)\rEpoch: 18.1%  lr: 0.028108  loss: 0.009913  eta: 0h7m  tot: 0h5m45s  (43.6%)\rEpoch: 18.2%  lr: 0.028108  loss: 0.009879  eta: 0h7m  tot: 0h5m45s  (43.6%)\rEpoch: 18.3%  lr: 0.028098  loss: 0.009861  eta: 0h7m  tot: 0h5m45s  (43.7%)\rEpoch: 18.4%  lr: 0.028098  loss: 0.009874  eta: 0h7m  tot: 0h5m46s  (43.7%)\rEpoch: 18.5%  lr: 0.028088  loss: 0.009854  eta: 0h7m  tot: 0h5m46s  (43.7%)\rEpoch: 18.5%  lr: 0.028078  loss: 0.009829  eta: 0h7m  tot: 0h5m46s  (43.7%)\rEpoch: 18.6%  lr: 0.028058  loss: 0.009828  eta: 0h7m  tot: 0h5m46s  (43.7%)\rEpoch: 18.7%  lr: 0.028048  loss: 0.009824  eta: 0h7m  tot: 0h5m46s  (43.7%)\rEpoch: 18.8%  lr: 0.028028  loss: 0.009858  eta: 0h7m  tot: 0h5m46s  (43.8%)\rEpoch: 18.9%  lr: 0.028028  loss: 0.009835  eta: 0h7m  tot: 0h5m46s  (43.8%)\rEpoch: 19.0%  lr: 0.028028  loss: 0.009865  eta: 0h7m  tot: 0h5m46s  (43.8%)\rEpoch: 19.1%  lr: 0.028008  loss: 0.009875  eta: 0h7m  tot: 0h5m47s  (43.8%)\rEpoch: 19.2%  lr: 0.028008  loss: 0.009863  eta: 0h7m  tot: 0h5m47s  (43.8%)\rEpoch: 19.3%  lr: 0.027998  loss: 0.009882  eta: 0h7m  tot: 0h5m47s  (43.9%)\rEpoch: 19.4%  lr: 0.027988  loss: 0.009846  eta: 0h7m  tot: 0h5m47s  (43.9%)\rEpoch: 19.4%  lr: 0.027988  loss: 0.009816  eta: 0h7m  tot: 0h5m47s  (43.9%)\rEpoch: 19.5%  lr: 0.027968  loss: 0.009794  eta: 0h7m  tot: 0h5m47s  (43.9%)\rEpoch: 19.6%  lr: 0.027948  loss: 0.009783  eta: 0h7m  tot: 0h5m47s  (43.9%)\rEpoch: 19.7%  lr: 0.027948  loss: 0.009756  eta: 0h7m  tot: 0h5m48s  (43.9%)\rEpoch: 19.8%  lr: 0.027948  loss: 0.009774  eta: 0h7m  tot: 0h5m48s  (44.0%)\rEpoch: 19.9%  lr: 0.027948  loss: 0.009775  eta: 0h7m  tot: 0h5m48s  (44.0%)\rEpoch: 20.0%  lr: 0.027918  loss: 0.009745  eta: 0h7m  tot: 0h5m48s  (44.0%)\rEpoch: 20.1%  lr: 0.027918  loss: 0.009710  eta: 0h7m  tot: 0h5m48s  (44.0%)\rEpoch: 20.2%  lr: 0.027898  loss: 0.009760  eta: 0h7m  tot: 0h5m48s  (44.0%)\rEpoch: 20.3%  lr: 0.027898  loss: 0.009760  eta: 0h7m  tot: 0h5m48s  (44.1%)\rEpoch: 20.3%  lr: 0.027868  loss: 0.009758  eta: 0h7m  tot: 0h5m48s  (44.1%)\rEpoch: 20.4%  lr: 0.027868  loss: 0.009741  eta: 0h7m  tot: 0h5m49s  (44.1%)\rEpoch: 20.5%  lr: 0.027848  loss: 0.009717  eta: 0h7m  tot: 0h5m49s  (44.1%)\rEpoch: 20.6%  lr: 0.027848  loss: 0.009708  eta: 0h7m  tot: 0h5m49s  (44.1%)\rEpoch: 20.7%  lr: 0.027838  loss: 0.009744  eta: 0h7m  tot: 0h5m49s  (44.1%)\rEpoch: 20.8%  lr: 0.027838  loss: 0.009731  eta: 0h7m  tot: 0h5m49s  (44.2%)\rEpoch: 20.9%  lr: 0.027818  loss: 0.009734  eta: 0h7m  tot: 0h5m49s  (44.2%)\rEpoch: 21.0%  lr: 0.027818  loss: 0.009744  eta: 0h7m  tot: 0h5m49s  (44.2%)\rEpoch: 21.1%  lr: 0.027808  loss: 0.009733  eta: 0h7m  tot: 0h5m50s  (44.2%)\rEpoch: 21.2%  lr: 0.027798  loss: 0.009730  eta: 0h7m  tot: 0h5m50s  (44.2%)\rEpoch: 21.2%  lr: 0.027778  loss: 0.009760  eta: 0h7m  tot: 0h5m50s  (44.2%)\rEpoch: 21.3%  lr: 0.027768  loss: 0.009763  eta: 0h7m  tot: 0h5m50s  (44.3%)\rEpoch: 21.4%  lr: 0.027748  loss: 0.009739  eta: 0h7m  tot: 0h5m50s  (44.3%)\rEpoch: 21.5%  lr: 0.027738  loss: 0.009769  eta: 0h7m  tot: 0h5m50s  (44.3%)\rEpoch: 21.6%  lr: 0.027738  loss: 0.009751  eta: 0h7m  tot: 0h5m50s  (44.3%)\rEpoch: 21.7%  lr: 0.027738  loss: 0.009756  eta: 0h7m  tot: 0h5m51s  (44.3%)\rEpoch: 21.8%  lr: 0.027738  loss: 0.009765  eta: 0h7m  tot: 0h5m51s  (44.4%)\rEpoch: 21.9%  lr: 0.027718  loss: 0.009740  eta: 0h7m  tot: 0h5m51s  (44.4%)\rEpoch: 22.0%  lr: 0.027718  loss: 0.009773  eta: 0h7m  tot: 0h5m51s  (44.4%)\rEpoch: 22.1%  lr: 0.027698  loss: 0.009772  eta: 0h7m  tot: 0h5m51s  (44.4%)\rEpoch: 22.1%  lr: 0.027698  loss: 0.009824  eta: 0h7m  tot: 0h5m51s  (44.4%)\rEpoch: 22.2%  lr: 0.027698  loss: 0.009802  eta: 0h7m  tot: 0h5m51s  (44.4%)\rEpoch: 22.3%  lr: 0.027688  loss: 0.009813  eta: 0h7m  tot: 0h5m51s  (44.5%)\rEpoch: 22.4%  lr: 0.027668  loss: 0.009848  eta: 0h7m  tot: 0h5m52s  (44.5%)\rEpoch: 22.5%  lr: 0.027658  loss: 0.009835  eta: 0h7m  tot: 0h5m52s  (44.5%)\rEpoch: 22.6%  lr: 0.027658  loss: 0.009813  eta: 0h6m  tot: 0h5m52s  (44.5%)\rEpoch: 22.7%  lr: 0.027658  loss: 0.009806  eta: 0h6m  tot: 0h5m52s  (44.5%)\rEpoch: 22.8%  lr: 0.027658  loss: 0.009808  eta: 0h6m  tot: 0h5m52s  (44.6%)\rEpoch: 22.9%  lr: 0.027638  loss: 0.009800  eta: 0h6m  tot: 0h5m52s  (44.6%)\rEpoch: 23.0%  lr: 0.027638  loss: 0.009788  eta: 0h6m  tot: 0h5m52s  (44.6%)\rEpoch: 23.0%  lr: 0.027638  loss: 0.009777  eta: 0h6m  tot: 0h5m53s  (44.6%)\rEpoch: 23.1%  lr: 0.027628  loss: 0.009779  eta: 0h6m  tot: 0h5m53s  (44.6%)\rEpoch: 23.2%  lr: 0.027628  loss: 0.009765  eta: 0h6m  tot: 0h5m53s  (44.6%)\rEpoch: 23.3%  lr: 0.027628  loss: 0.009750  eta: 0h6m  tot: 0h5m53s  (44.7%)\rEpoch: 23.4%  lr: 0.027628  loss: 0.009724  eta: 0h6m  tot: 0h5m53s  (44.7%)\rEpoch: 23.5%  lr: 0.027618  loss: 0.009711  eta: 0h6m  tot: 0h5m53s  (44.7%)\rEpoch: 23.6%  lr: 0.027618  loss: 0.009720  eta: 0h6m  tot: 0h5m53s  (44.7%)\rEpoch: 23.7%  lr: 0.027598  loss: 0.009702  eta: 0h6m  tot: 0h5m54s  (44.7%)\rEpoch: 23.8%  lr: 0.027578  loss: 0.009688  eta: 0h6m  tot: 0h5m54s  (44.8%)\rEpoch: 23.9%  lr: 0.027578  loss: 0.009695  eta: 0h6m  tot: 0h5m54s  (44.8%)\rEpoch: 23.9%  lr: 0.027578  loss: 0.009678  eta: 0h6m  tot: 0h5m54s  (44.8%)\rEpoch: 24.0%  lr: 0.027578  loss: 0.009710  eta: 0h6m  tot: 0h5m54s  (44.8%)\rEpoch: 24.1%  lr: 0.027578  loss: 0.009690  eta: 0h6m  tot: 0h5m54s  (44.8%)\rEpoch: 24.2%  lr: 0.027568  loss: 0.009693  eta: 0h6m  tot: 0h5m54s  (44.8%)\rEpoch: 24.3%  lr: 0.027558  loss: 0.009694  eta: 0h6m  tot: 0h5m55s  (44.9%)\rEpoch: 24.4%  lr: 0.027548  loss: 0.009691  eta: 0h6m  tot: 0h5m55s  (44.9%)\rEpoch: 24.5%  lr: 0.027548  loss: 0.009700  eta: 0h6m  tot: 0h5m55s  (44.9%)\rEpoch: 24.6%  lr: 0.027528  loss: 0.009698  eta: 0h6m  tot: 0h5m55s  (44.9%)\rEpoch: 24.7%  lr: 0.027518  loss: 0.009692  eta: 0h6m  tot: 0h5m55s  (44.9%)\rEpoch: 24.8%  lr: 0.027518  loss: 0.009706  eta: 0h6m  tot: 0h5m55s  (45.0%)\rEpoch: 24.8%  lr: 0.027498  loss: 0.009694  eta: 0h6m  tot: 0h5m55s  (45.0%)\rEpoch: 24.9%  lr: 0.027488  loss: 0.009678  eta: 0h6m  tot: 0h5m55s  (45.0%)\rEpoch: 25.0%  lr: 0.027488  loss: 0.009663  eta: 0h6m  tot: 0h5m56s  (45.0%)\rEpoch: 25.1%  lr: 0.027447  loss: 0.009659  eta: 0h6m  tot: 0h5m56s  (45.0%)\rEpoch: 25.2%  lr: 0.027437  loss: 0.009666  eta: 0h6m  tot: 0h5m56s  (45.0%)\rEpoch: 25.3%  lr: 0.027437  loss: 0.009651  eta: 0h6m  tot: 0h5m56s  (45.1%)\rEpoch: 25.4%  lr: 0.027437  loss: 0.009692  eta: 0h6m  tot: 0h5m56s  (45.1%)\rEpoch: 25.5%  lr: 0.027417  loss: 0.009686  eta: 0h6m  tot: 0h5m56s  (45.1%)\rEpoch: 25.6%  lr: 0.027407  loss: 0.009692  eta: 0h6m  tot: 0h5m56s  (45.1%)\rEpoch: 25.7%  lr: 0.027397  loss: 0.009697  eta: 0h6m  tot: 0h5m57s  (45.1%)\rEpoch: 25.7%  lr: 0.027397  loss: 0.009683  eta: 0h6m  tot: 0h5m57s  (45.1%)\rEpoch: 25.8%  lr: 0.027397  loss: 0.009657  eta: 0h6m  tot: 0h5m57s  (45.2%)\rEpoch: 25.9%  lr: 0.027397  loss: 0.009665  eta: 0h6m  tot: 0h5m57s  (45.2%)\rEpoch: 26.0%  lr: 0.027367  loss: 0.009643  eta: 0h6m  tot: 0h5m57s  (45.2%)\rEpoch: 26.1%  lr: 0.027367  loss: 0.009667  eta: 0h6m  tot: 0h5m57s  (45.2%)\rEpoch: 26.2%  lr: 0.027347  loss: 0.009675  eta: 0h6m  tot: 0h5m57s  (45.2%)\rEpoch: 26.3%  lr: 0.027347  loss: 0.009662  eta: 0h6m  tot: 0h5m58s  (45.3%)\rEpoch: 26.4%  lr: 0.027337  loss: 0.009681  eta: 0h6m  tot: 0h5m58s  (45.3%)\rEpoch: 26.5%  lr: 0.027317  loss: 0.009682  eta: 0h6m  tot: 0h5m58s  (45.3%)\rEpoch: 26.6%  lr: 0.027307  loss: 0.009688  eta: 0h6m  tot: 0h5m58s  (45.3%)\rEpoch: 26.6%  lr: 0.027297  loss: 0.009672  eta: 0h6m  tot: 0h5m58s  (45.3%)\rEpoch: 26.7%  lr: 0.027297  loss: 0.009658  eta: 0h6m  tot: 0h5m58s  (45.3%)\rEpoch: 26.8%  lr: 0.027297  loss: 0.009676  eta: 0h6m  tot: 0h5m58s  (45.4%)\rEpoch: 26.9%  lr: 0.027277  loss: 0.009659  eta: 0h6m  tot: 0h5m58s  (45.4%)\rEpoch: 27.0%  lr: 0.027277  loss: 0.009681  eta: 0h6m  tot: 0h5m59s  (45.4%)\rEpoch: 27.1%  lr: 0.027277  loss: 0.009674  eta: 0h6m  tot: 0h5m59s  (45.4%)\rEpoch: 27.2%  lr: 0.027257  loss: 0.009683  eta: 0h6m  tot: 0h5m59s  (45.4%)\rEpoch: 27.3%  lr: 0.027247  loss: 0.009685  eta: 0h6m  tot: 0h5m59s  (45.5%)\rEpoch: 27.4%  lr: 0.027237  loss: 0.009697  eta: 0h6m  tot: 0h5m59s  (45.5%)\rEpoch: 27.5%  lr: 0.027237  loss: 0.009684  eta: 0h6m  tot: 0h5m59s  (45.5%)\rEpoch: 27.5%  lr: 0.027237  loss: 0.009657  eta: 0h6m  tot: 0h5m59s  (45.5%)\rEpoch: 27.6%  lr: 0.027237  loss: 0.009656  eta: 0h6m  tot: 0h6m0s  (45.5%)\rEpoch: 27.7%  lr: 0.027237  loss: 0.009643  eta: 0h6m  tot: 0h6m0s  (45.5%)\rEpoch: 27.8%  lr: 0.027227  loss: 0.009660  eta: 0h6m  tot: 0h6m0s  (45.6%)\rEpoch: 27.9%  lr: 0.027227  loss: 0.009648  eta: 0h6m  tot: 0h6m0s  (45.6%)\rEpoch: 28.0%  lr: 0.027197  loss: 0.009653  eta: 0h6m  tot: 0h6m0s  (45.6%)\rEpoch: 28.1%  lr: 0.027177  loss: 0.009664  eta: 0h6m  tot: 0h6m0s  (45.6%)\rEpoch: 28.2%  lr: 0.027167  loss: 0.009652  eta: 0h6m  tot: 0h6m0s  (45.6%)\rEpoch: 28.3%  lr: 0.027157  loss: 0.009640  eta: 0h6m  tot: 0h6m0s  (45.7%)\rEpoch: 28.4%  lr: 0.027157  loss: 0.009628  eta: 0h6m  tot: 0h6m1s  (45.7%)\rEpoch: 28.4%  lr: 0.027147  loss: 0.009615  eta: 0h6m  tot: 0h6m1s  (45.7%)\rEpoch: 28.5%  lr: 0.027137  loss: 0.009604  eta: 0h6m  tot: 0h6m1s  (45.7%)\rEpoch: 28.6%  lr: 0.027137  loss: 0.009597  eta: 0h6m  tot: 0h6m1s  (45.7%)\rEpoch: 28.7%  lr: 0.027127  loss: 0.009587  eta: 0h6m  tot: 0h6m1s  (45.7%)\rEpoch: 28.8%  lr: 0.027127  loss: 0.009600  eta: 0h6m  tot: 0h6m1s  (45.8%)\rEpoch: 28.9%  lr: 0.027127  loss: 0.009575  eta: 0h6m  tot: 0h6m1s  (45.8%)\rEpoch: 29.0%  lr: 0.027117  loss: 0.009556  eta: 0h6m  tot: 0h6m2s  (45.8%)\rEpoch: 29.1%  lr: 0.027107  loss: 0.009553  eta: 0h6m  tot: 0h6m2s  (45.8%)\rEpoch: 29.2%  lr: 0.027087  loss: 0.009552  eta: 0h6m  tot: 0h6m2s  (45.8%)\rEpoch: 29.3%  lr: 0.027067  loss: 0.009551  eta: 0h6m  tot: 0h6m2s  (45.9%)\rEpoch: 29.3%  lr: 0.027057  loss: 0.009558  eta: 0h6m  tot: 0h6m2s  (45.9%)\rEpoch: 29.4%  lr: 0.027047  loss: 0.009559  eta: 0h6m  tot: 0h6m2s  (45.9%)\rEpoch: 29.5%  lr: 0.027047  loss: 0.009550  eta: 0h6m  tot: 0h6m2s  (45.9%)\rEpoch: 29.6%  lr: 0.027047  loss: 0.009557  eta: 0h6m  tot: 0h6m3s  (45.9%)\rEpoch: 29.7%  lr: 0.027037  loss: 0.009534  eta: 0h6m  tot: 0h6m3s  (45.9%)\rEpoch: 29.8%  lr: 0.027017  loss: 0.009525  eta: 0h6m  tot: 0h6m3s  (46.0%)\rEpoch: 29.9%  lr: 0.027007  loss: 0.009537  eta: 0h6m  tot: 0h6m3s  (46.0%)\rEpoch: 30.0%  lr: 0.027007  loss: 0.009527  eta: 0h6m  tot: 0h6m3s  (46.0%)\rEpoch: 30.1%  lr: 0.027007  loss: 0.009523  eta: 0h6m  tot: 0h6m3s  (46.0%)\rEpoch: 30.2%  lr: 0.026997  loss: 0.009513  eta: 0h6m  tot: 0h6m3s  (46.0%)\rEpoch: 30.2%  lr: 0.026987  loss: 0.009541  eta: 0h6m  tot: 0h6m4s  (46.0%)\rEpoch: 30.3%  lr: 0.026987  loss: 0.009537  eta: 0h6m  tot: 0h6m4s  (46.1%)\rEpoch: 30.4%  lr: 0.026977  loss: 0.009523  eta: 0h6m  tot: 0h6m4s  (46.1%)\rEpoch: 30.5%  lr: 0.026967  loss: 0.009538  eta: 0h6m  tot: 0h6m4s  (46.1%)\rEpoch: 30.6%  lr: 0.026967  loss: 0.009552  eta: 0h6m  tot: 0h6m4s  (46.1%)\rEpoch: 30.7%  lr: 0.026947  loss: 0.009548  eta: 0h6m  tot: 0h6m4s  (46.1%)\rEpoch: 30.8%  lr: 0.026947  loss: 0.009544  eta: 0h6m  tot: 0h6m4s  (46.2%)\rEpoch: 30.9%  lr: 0.026947  loss: 0.009548  eta: 0h6m  tot: 0h6m4s  (46.2%)\rEpoch: 31.0%  lr: 0.026937  loss: 0.009586  eta: 0h6m  tot: 0h6m5s  (46.2%)\rEpoch: 31.1%  lr: 0.026907  loss: 0.009591  eta: 0h6m  tot: 0h6m5s  (46.2%)\rEpoch: 31.1%  lr: 0.026907  loss: 0.009592  eta: 0h6m  tot: 0h6m5s  (46.2%)\rEpoch: 31.2%  lr: 0.026897  loss: 0.009595  eta: 0h6m  tot: 0h6m5s  (46.2%)\rEpoch: 31.3%  lr: 0.026887  loss: 0.009577  eta: 0h6m  tot: 0h6m5s  (46.3%)\rEpoch: 31.4%  lr: 0.026887  loss: 0.009570  eta: 0h6m  tot: 0h6m5s  (46.3%)\rEpoch: 31.5%  lr: 0.026877  loss: 0.009562  eta: 0h6m  tot: 0h6m5s  (46.3%)\rEpoch: 31.6%  lr: 0.026857  loss: 0.009549  eta: 0h6m  tot: 0h6m6s  (46.3%)\rEpoch: 31.7%  lr: 0.026857  loss: 0.009544  eta: 0h6m  tot: 0h6m6s  (46.3%)\rEpoch: 31.8%  lr: 0.026857  loss: 0.009572  eta: 0h6m  tot: 0h6m6s  (46.4%)\rEpoch: 31.9%  lr: 0.026847  loss: 0.009590  eta: 0h6m  tot: 0h6m6s  (46.4%)\rEpoch: 32.0%  lr: 0.026847  loss: 0.009584  eta: 0h6m  tot: 0h6m6s  (46.4%)\rEpoch: 32.0%  lr: 0.026837  loss: 0.009571  eta: 0h6m  tot: 0h6m6s  (46.4%)\rEpoch: 32.1%  lr: 0.026837  loss: 0.009572  eta: 0h6m  tot: 0h6m6s  (46.4%)\rEpoch: 32.2%  lr: 0.026837  loss: 0.009564  eta: 0h6m  tot: 0h6m7s  (46.4%)\rEpoch: 32.3%  lr: 0.026837  loss: 0.009558  eta: 0h6m  tot: 0h6m7s  (46.5%)\rEpoch: 32.4%  lr: 0.026827  loss: 0.009578  eta: 0h6m  tot: 0h6m7s  (46.5%)\rEpoch: 32.5%  lr: 0.026827  loss: 0.009569  eta: 0h6m  tot: 0h6m7s  (46.5%)\rEpoch: 32.6%  lr: 0.026807  loss: 0.009554  eta: 0h6m  tot: 0h6m7s  (46.5%)\rEpoch: 32.7%  lr: 0.026787  loss: 0.009537  eta: 0h6m  tot: 0h6m7s  (46.5%)\rEpoch: 32.8%  lr: 0.026767  loss: 0.009549  eta: 0h6m  tot: 0h6m7s  (46.6%)\rEpoch: 32.9%  lr: 0.026757  loss: 0.009533  eta: 0h6m  tot: 0h6m7s  (46.6%)\rEpoch: 32.9%  lr: 0.026757  loss: 0.009517  eta: 0h6m  tot: 0h6m8s  (46.6%)\rEpoch: 33.0%  lr: 0.026737  loss: 0.009498  eta: 0h6m  tot: 0h6m8s  (46.6%)\rEpoch: 33.1%  lr: 0.026737  loss: 0.009491  eta: 0h6m  tot: 0h6m8s  (46.6%)\rEpoch: 33.2%  lr: 0.026737  loss: 0.009500  eta: 0h6m  tot: 0h6m8s  (46.6%)\rEpoch: 33.3%  lr: 0.026717  loss: 0.009490  eta: 0h6m  tot: 0h6m8s  (46.7%)\rEpoch: 33.4%  lr: 0.026717  loss: 0.009495  eta: 0h6m  tot: 0h6m8s  (46.7%)\rEpoch: 33.5%  lr: 0.026717  loss: 0.009497  eta: 0h6m  tot: 0h6m8s  (46.7%)\rEpoch: 33.6%  lr: 0.026707  loss: 0.009498  eta: 0h6m  tot: 0h6m9s  (46.7%)\rEpoch: 33.7%  lr: 0.026697  loss: 0.009491  eta: 0h6m  tot: 0h6m9s  (46.7%)\rEpoch: 33.8%  lr: 0.026697  loss: 0.009516  eta: 0h6m  tot: 0h6m9s  (46.8%)\rEpoch: 33.8%  lr: 0.026697  loss: 0.009515  eta: 0h6m  tot: 0h6m9s  (46.8%)\rEpoch: 33.9%  lr: 0.026687  loss: 0.009511  eta: 0h6m  tot: 0h6m9s  (46.8%)\rEpoch: 34.0%  lr: 0.026687  loss: 0.009506  eta: 0h6m  tot: 0h6m9s  (46.8%)\rEpoch: 34.1%  lr: 0.026667  loss: 0.009565  eta: 0h6m  tot: 0h6m9s  (46.8%)\rEpoch: 34.2%  lr: 0.026667  loss: 0.009569  eta: 0h6m  tot: 0h6m10s  (46.8%)\rEpoch: 34.3%  lr: 0.026657  loss: 0.009580  eta: 0h6m  tot: 0h6m10s  (46.9%)\rEpoch: 34.4%  lr: 0.026637  loss: 0.009576  eta: 0h6m  tot: 0h6m10s  (46.9%)\rEpoch: 34.5%  lr: 0.026627  loss: 0.009561  eta: 0h6m  tot: 0h6m10s  (46.9%)\rEpoch: 34.6%  lr: 0.026617  loss: 0.009549  eta: 0h6m  tot: 0h6m10s  (46.9%)\rEpoch: 34.7%  lr: 0.026607  loss: 0.009555  eta: 0h6m  tot: 0h6m10s  (46.9%)\rEpoch: 34.7%  lr: 0.026607  loss: 0.009564  eta: 0h6m  tot: 0h6m10s  (46.9%)\rEpoch: 34.8%  lr: 0.026577  loss: 0.009560  eta: 0h6m  tot: 0h6m11s  (47.0%)\rEpoch: 34.9%  lr: 0.026557  loss: 0.009551  eta: 0h6m  tot: 0h6m11s  (47.0%)\rEpoch: 35.0%  lr: 0.026547  loss: 0.009572  eta: 0h6m  tot: 0h6m11s  (47.0%)\rEpoch: 35.1%  lr: 0.026547  loss: 0.009575  eta: 0h6m  tot: 0h6m11s  (47.0%)\rEpoch: 35.2%  lr: 0.026537  loss: 0.009563  eta: 0h6m  tot: 0h6m11s  (47.0%)\rEpoch: 35.3%  lr: 0.026537  loss: 0.009550  eta: 0h6m  tot: 0h6m11s  (47.1%)\rEpoch: 35.4%  lr: 0.026527  loss: 0.009544  eta: 0h6m  tot: 0h6m11s  (47.1%)\rEpoch: 35.5%  lr: 0.026527  loss: 0.009553  eta: 0h6m  tot: 0h6m11s  (47.1%)\rEpoch: 35.6%  lr: 0.026527  loss: 0.009534  eta: 0h6m  tot: 0h6m12s  (47.1%)\rEpoch: 35.6%  lr: 0.026527  loss: 0.009521  eta: 0h6m  tot: 0h6m12s  (47.1%)\rEpoch: 35.7%  lr: 0.026527  loss: 0.009528  eta: 0h6m  tot: 0h6m12s  (47.1%)\rEpoch: 35.8%  lr: 0.026517  loss: 0.009525  eta: 0h6m  tot: 0h6m12s  (47.2%)\rEpoch: 35.9%  lr: 0.026517  loss: 0.009524  eta: 0h6m  tot: 0h6m12s  (47.2%)\rEpoch: 36.0%  lr: 0.026517  loss: 0.009525  eta: 0h6m  tot: 0h6m12s  (47.2%)\rEpoch: 36.1%  lr: 0.026457  loss: 0.009516  eta: 0h6m  tot: 0h6m12s  (47.2%)\rEpoch: 36.2%  lr: 0.026457  loss: 0.009503  eta: 0h6m  tot: 0h6m13s  (47.2%)\rEpoch: 36.3%  lr: 0.026436  loss: 0.009485  eta: 0h6m  tot: 0h6m13s  (47.3%)\rEpoch: 36.4%  lr: 0.026416  loss: 0.009476  eta: 0h6m  tot: 0h6m13s  (47.3%)\rEpoch: 36.5%  lr: 0.026406  loss: 0.009496  eta: 0h6m  tot: 0h6m13s  (47.3%)\rEpoch: 36.5%  lr: 0.026396  loss: 0.009502  eta: 0h6m  tot: 0h6m13s  (47.3%)\rEpoch: 36.6%  lr: 0.026386  loss: 0.009505  eta: 0h6m  tot: 0h6m13s  (47.3%)\rEpoch: 36.7%  lr: 0.026376  loss: 0.009498  eta: 0h6m  tot: 0h6m13s  (47.3%)\rEpoch: 36.8%  lr: 0.026366  loss: 0.009509  eta: 0h6m  tot: 0h6m14s  (47.4%)\rEpoch: 36.9%  lr: 0.026366  loss: 0.009504  eta: 0h6m  tot: 0h6m14s  (47.4%)\rEpoch: 37.0%  lr: 0.026346  loss: 0.009502  eta: 0h6m  tot: 0h6m14s  (47.4%)\rEpoch: 37.1%  lr: 0.026346  loss: 0.009510  eta: 0h6m  tot: 0h6m14s  (47.4%)\rEpoch: 37.2%  lr: 0.026336  loss: 0.009515  eta: 0h6m  tot: 0h6m14s  (47.4%)\rEpoch: 37.3%  lr: 0.026336  loss: 0.009536  eta: 0h6m  tot: 0h6m14s  (47.5%)\rEpoch: 37.4%  lr: 0.026336  loss: 0.009556  eta: 0h6m  tot: 0h6m14s  (47.5%)\rEpoch: 37.4%  lr: 0.026336  loss: 0.009548  eta: 0h6m  tot: 0h6m14s  (47.5%)\rEpoch: 37.5%  lr: 0.026306  loss: 0.009539  eta: 0h6m  tot: 0h6m15s  (47.5%)\rEpoch: 37.6%  lr: 0.026296  loss: 0.009563  eta: 0h6m  tot: 0h6m15s  (47.5%)\rEpoch: 37.7%  lr: 0.026286  loss: 0.009549  eta: 0h6m  tot: 0h6m15s  (47.5%)\rEpoch: 37.8%  lr: 0.026286  loss: 0.009565  eta: 0h6m  tot: 0h6m15s  (47.6%)\rEpoch: 37.9%  lr: 0.026286  loss: 0.009578  eta: 0h6m  tot: 0h6m15s  (47.6%)\rEpoch: 38.0%  lr: 0.026286  loss: 0.009571  eta: 0h6m  tot: 0h6m15s  (47.6%)\rEpoch: 38.1%  lr: 0.026276  loss: 0.009569  eta: 0h6m  tot: 0h6m15s  (47.6%)\rEpoch: 38.2%  lr: 0.026256  loss: 0.009567  eta: 0h6m  tot: 0h6m16s  (47.6%)\rEpoch: 38.3%  lr: 0.026256  loss: 0.009563  eta: 0h6m  tot: 0h6m16s  (47.7%)\rEpoch: 38.3%  lr: 0.026246  loss: 0.009552  eta: 0h6m  tot: 0h6m16s  (47.7%)\rEpoch: 38.4%  lr: 0.026226  loss: 0.009544  eta: 0h6m  tot: 0h6m16s  (47.7%)\rEpoch: 38.5%  lr: 0.026216  loss: 0.009556  eta: 0h6m  tot: 0h6m16s  (47.7%)\rEpoch: 38.6%  lr: 0.026216  loss: 0.009570  eta: 0h6m  tot: 0h6m16s  (47.7%)\rEpoch: 38.7%  lr: 0.026216  loss: 0.009574  eta: 0h6m  tot: 0h6m16s  (47.7%)\rEpoch: 38.8%  lr: 0.026206  loss: 0.009578  eta: 0h6m  tot: 0h6m16s  (47.8%)\rEpoch: 38.9%  lr: 0.026206  loss: 0.009591  eta: 0h6m  tot: 0h6m17s  (47.8%)\rEpoch: 39.0%  lr: 0.026206  loss: 0.009608  eta: 0h6m  tot: 0h6m17s  (47.8%)\rEpoch: 39.1%  lr: 0.026206  loss: 0.009601  eta: 0h6m  tot: 0h6m17s  (47.8%)\rEpoch: 39.2%  lr: 0.026196  loss: 0.009592  eta: 0h6m  tot: 0h6m17s  (47.8%)\rEpoch: 39.2%  lr: 0.026196  loss: 0.009591  eta: 0h6m  tot: 0h6m17s  (47.8%)\rEpoch: 39.3%  lr: 0.026196  loss: 0.009583  eta: 0h6m  tot: 0h6m17s  (47.9%)\rEpoch: 39.4%  lr: 0.026186  loss: 0.009574  eta: 0h6m  tot: 0h6m17s  (47.9%)\rEpoch: 39.5%  lr: 0.026186  loss: 0.009581  eta: 0h6m  tot: 0h6m18s  (47.9%)\rEpoch: 39.6%  lr: 0.026166  loss: 0.009572  eta: 0h6m  tot: 0h6m18s  (47.9%)\rEpoch: 39.7%  lr: 0.026156  loss: 0.009567  eta: 0h6m  tot: 0h6m18s  (47.9%)\rEpoch: 39.8%  lr: 0.026156  loss: 0.009556  eta: 0h6m  tot: 0h6m18s  (48.0%)\rEpoch: 39.9%  lr: 0.026136  loss: 0.009563  eta: 0h6m  tot: 0h6m18s  (48.0%)\rEpoch: 40.0%  lr: 0.026106  loss: 0.009565  eta: 0h6m  tot: 0h6m18s  (48.0%)\rEpoch: 40.1%  lr: 0.026096  loss: 0.009560  eta: 0h6m  tot: 0h6m18s  (48.0%)\rEpoch: 40.1%  lr: 0.026096  loss: 0.009565  eta: 0h6m  tot: 0h6m19s  (48.0%)\rEpoch: 40.2%  lr: 0.026096  loss: 0.009564  eta: 0h6m  tot: 0h6m19s  (48.0%)\rEpoch: 40.3%  lr: 0.026086  loss: 0.009556  eta: 0h6m  tot: 0h6m19s  (48.1%)\rEpoch: 40.4%  lr: 0.026066  loss: 0.009578  eta: 0h6m  tot: 0h6m19s  (48.1%)\rEpoch: 40.5%  lr: 0.026056  loss: 0.009577  eta: 0h6m  tot: 0h6m19s  (48.1%)\rEpoch: 40.6%  lr: 0.026046  loss: 0.009563  eta: 0h6m  tot: 0h6m19s  (48.1%)\rEpoch: 40.7%  lr: 0.026036  loss: 0.009558  eta: 0h6m  tot: 0h6m19s  (48.1%)\rEpoch: 40.8%  lr: 0.026036  loss: 0.009550  eta: 0h6m  tot: 0h6m19s  (48.2%)\rEpoch: 40.9%  lr: 0.026026  loss: 0.009561  eta: 0h6m  tot: 0h6m20s  (48.2%)\rEpoch: 41.0%  lr: 0.026026  loss: 0.009563  eta: 0h6m  tot: 0h6m20s  (48.2%)\rEpoch: 41.0%  lr: 0.026016  loss: 0.009566  eta: 0h6m  tot: 0h6m20s  (48.2%)\rEpoch: 41.1%  lr: 0.026006  loss: 0.009563  eta: 0h6m  tot: 0h6m20s  (48.2%)\rEpoch: 41.2%  lr: 0.026006  loss: 0.009555  eta: 0h6m  tot: 0h6m20s  (48.2%)\rEpoch: 41.3%  lr: 0.025996  loss: 0.009546  eta: 0h6m  tot: 0h6m20s  (48.3%)\rEpoch: 41.4%  lr: 0.025976  loss: 0.009541  eta: 0h6m  tot: 0h6m20s  (48.3%)\rEpoch: 41.5%  lr: 0.025966  loss: 0.009535  eta: 0h6m  tot: 0h6m21s  (48.3%)\rEpoch: 41.6%  lr: 0.025966  loss: 0.009523  eta: 0h6m  tot: 0h6m21s  (48.3%)\rEpoch: 41.7%  lr: 0.025956  loss: 0.009522  eta: 0h6m  tot: 0h6m21s  (48.3%)\rEpoch: 41.8%  lr: 0.025946  loss: 0.009514  eta: 0h6m  tot: 0h6m21s  (48.4%)\rEpoch: 41.9%  lr: 0.025936  loss: 0.009525  eta: 0h6m  tot: 0h6m21s  (48.4%)\rEpoch: 42.0%  lr: 0.025926  loss: 0.009520  eta: 0h6m  tot: 0h6m21s  (48.4%)\rEpoch: 42.0%  lr: 0.025926  loss: 0.009523  eta: 0h6m  tot: 0h6m21s  (48.4%)\rEpoch: 42.1%  lr: 0.025926  loss: 0.009544  eta: 0h6m  tot: 0h6m21s  (48.4%)\rEpoch: 42.2%  lr: 0.025906  loss: 0.009534  eta: 0h6m  tot: 0h6m22s  (48.4%)\rEpoch: 42.3%  lr: 0.025896  loss: 0.009532  eta: 0h6m  tot: 0h6m22s  (48.5%)\rEpoch: 42.4%  lr: 0.025886  loss: 0.009535  eta: 0h6m  tot: 0h6m22s  (48.5%)\rEpoch: 42.5%  lr: 0.025866  loss: 0.009538  eta: 0h6m  tot: 0h6m22s  (48.5%)\rEpoch: 42.6%  lr: 0.025856  loss: 0.009534  eta: 0h6m  tot: 0h6m22s  (48.5%)\rEpoch: 42.7%  lr: 0.025856  loss: 0.009535  eta: 0h6m  tot: 0h6m22s  (48.5%)\rEpoch: 42.8%  lr: 0.025856  loss: 0.009526  eta: 0h6m  tot: 0h6m22s  (48.6%)\rEpoch: 42.9%  lr: 0.025846  loss: 0.009525  eta: 0h6m  tot: 0h6m23s  (48.6%)\rEpoch: 42.9%  lr: 0.025846  loss: 0.009517  eta: 0h6m  tot: 0h6m23s  (48.6%)\rEpoch: 43.0%  lr: 0.025836  loss: 0.009522  eta: 0h6m  tot: 0h6m23s  (48.6%)\rEpoch: 43.1%  lr: 0.025826  loss: 0.009531  eta: 0h6m  tot: 0h6m23s  (48.6%)\rEpoch: 43.2%  lr: 0.025826  loss: 0.009522  eta: 0h6m  tot: 0h6m23s  (48.6%)\rEpoch: 43.3%  lr: 0.025806  loss: 0.009516  eta: 0h6m  tot: 0h6m23s  (48.7%)\rEpoch: 43.4%  lr: 0.025796  loss: 0.009522  eta: 0h6m  tot: 0h6m23s  (48.7%)\rEpoch: 43.5%  lr: 0.025796  loss: 0.009521  eta: 0h6m  tot: 0h6m24s  (48.7%)\rEpoch: 43.6%  lr: 0.025786  loss: 0.009542  eta: 0h6m  tot: 0h6m24s  (48.7%)\rEpoch: 43.7%  lr: 0.025766  loss: 0.009535  eta: 0h6m  tot: 0h6m24s  (48.7%)\rEpoch: 43.8%  lr: 0.025736  loss: 0.009544  eta: 0h6m  tot: 0h6m24s  (48.8%)\rEpoch: 43.8%  lr: 0.025726  loss: 0.009548  eta: 0h6m  tot: 0h6m24s  (48.8%)\rEpoch: 43.9%  lr: 0.025726  loss: 0.009538  eta: 0h6m  tot: 0h6m24s  (48.8%)\rEpoch: 44.0%  lr: 0.025706  loss: 0.009548  eta: 0h6m  tot: 0h6m24s  (48.8%)\rEpoch: 44.1%  lr: 0.025706  loss: 0.009559  eta: 0h6m  tot: 0h6m24s  (48.8%)\rEpoch: 44.2%  lr: 0.025696  loss: 0.009549  eta: 0h6m  tot: 0h6m25s  (48.8%)\rEpoch: 44.3%  lr: 0.025666  loss: 0.009558  eta: 0h6m  tot: 0h6m25s  (48.9%)\rEpoch: 44.4%  lr: 0.025636  loss: 0.009567  eta: 0h6m  tot: 0h6m25s  (48.9%)\rEpoch: 44.5%  lr: 0.025636  loss: 0.009561  eta: 0h6m  tot: 0h6m25s  (48.9%)\rEpoch: 44.6%  lr: 0.025626  loss: 0.009556  eta: 0h6m  tot: 0h6m25s  (48.9%)\rEpoch: 44.7%  lr: 0.025626  loss: 0.009568  eta: 0h6m  tot: 0h6m25s  (48.9%)\rEpoch: 44.7%  lr: 0.025626  loss: 0.009561  eta: 0h6m  tot: 0h6m25s  (48.9%)\rEpoch: 44.8%  lr: 0.025626  loss: 0.009559  eta: 0h6m  tot: 0h6m25s  (49.0%)\rEpoch: 44.9%  lr: 0.025626  loss: 0.009548  eta: 0h6m  tot: 0h6m25s  (49.0%)\rEpoch: 45.0%  lr: 0.025626  loss: 0.009553  eta: 0h6m  tot: 0h6m26s  (49.0%)\rEpoch: 45.1%  lr: 0.025616  loss: 0.009566  eta: 0h6m  tot: 0h6m26s  (49.0%)\rEpoch: 45.2%  lr: 0.025616  loss: 0.009549  eta: 0h6m  tot: 0h6m26s  (49.0%)\rEpoch: 45.3%  lr: 0.025616  loss: 0.009550  eta: 0h6m  tot: 0h6m26s  (49.1%)\rEpoch: 45.4%  lr: 0.025606  loss: 0.009545  eta: 0h6m  tot: 0h6m26s  (49.1%)\rEpoch: 45.5%  lr: 0.025596  loss: 0.009535  eta: 0h6m  tot: 0h6m26s  (49.1%)\rEpoch: 45.6%  lr: 0.025576  loss: 0.009543  eta: 0h6m  tot: 0h6m26s  (49.1%)\rEpoch: 45.6%  lr: 0.025576  loss: 0.009532  eta: 0h6m  tot: 0h6m27s  (49.1%)\rEpoch: 45.7%  lr: 0.025566  loss: 0.009525  eta: 0h6m  tot: 0h6m27s  (49.1%)\rEpoch: 45.8%  lr: 0.025566  loss: 0.009525  eta: 0h6m  tot: 0h6m27s  (49.2%)\rEpoch: 45.9%  lr: 0.025566  loss: 0.009521  eta: 0h6m  tot: 0h6m27s  (49.2%)\rEpoch: 46.0%  lr: 0.025546  loss: 0.009542  eta: 0h6m  tot: 0h6m27s  (49.2%)\rEpoch: 46.1%  lr: 0.025536  loss: 0.009549  eta: 0h6m  tot: 0h6m27s  (49.2%)\rEpoch: 46.2%  lr: 0.025536  loss: 0.009537  eta: 0h6m  tot: 0h6m27s  (49.2%)\rEpoch: 46.3%  lr: 0.025536  loss: 0.009530  eta: 0h6m  tot: 0h6m27s  (49.3%)\rEpoch: 46.4%  lr: 0.025536  loss: 0.009573  eta: 0h6m  tot: 0h6m28s  (49.3%)\rEpoch: 46.5%  lr: 0.025536  loss: 0.009566  eta: 0h6m  tot: 0h6m28s  (49.3%)\rEpoch: 46.5%  lr: 0.025516  loss: 0.009568  eta: 0h6m  tot: 0h6m28s  (49.3%)\rEpoch: 46.6%  lr: 0.025506  loss: 0.009566  eta: 0h6m  tot: 0h6m28s  (49.3%)\rEpoch: 46.7%  lr: 0.025496  loss: 0.009567  eta: 0h6m  tot: 0h6m28s  (49.3%)\rEpoch: 46.8%  lr: 0.025496  loss: 0.009581  eta: 0h6m  tot: 0h6m28s  (49.4%)\rEpoch: 46.9%  lr: 0.025486  loss: 0.009575  eta: 0h6m  tot: 0h6m28s  (49.4%)\rEpoch: 47.0%  lr: 0.025476  loss: 0.009568  eta: 0h6m  tot: 0h6m29s  (49.4%)\rEpoch: 47.1%  lr: 0.025476  loss: 0.009570  eta: 0h6m  tot: 0h6m29s  (49.4%)\rEpoch: 47.2%  lr: 0.025476  loss: 0.009575  eta: 0h6m  tot: 0h6m29s  (49.4%)\rEpoch: 47.3%  lr: 0.025466  loss: 0.009580  eta: 0h6m  tot: 0h6m29s  (49.5%)\rEpoch: 47.4%  lr: 0.025456  loss: 0.009590  eta: 0h6m  tot: 0h6m29s  (49.5%)\rEpoch: 47.4%  lr: 0.025456  loss: 0.009587  eta: 0h6m  tot: 0h6m29s  (49.5%)\rEpoch: 47.5%  lr: 0.025456  loss: 0.009595  eta: 0h6m  tot: 0h6m29s  (49.5%)\rEpoch: 47.6%  lr: 0.025446  loss: 0.009600  eta: 0h6m  tot: 0h6m30s  (49.5%)\rEpoch: 47.7%  lr: 0.025446  loss: 0.009608  eta: 0h6m  tot: 0h6m30s  (49.5%)\rEpoch: 47.8%  lr: 0.025436  loss: 0.009606  eta: 0h6m  tot: 0h6m30s  (49.6%)\rEpoch: 47.9%  lr: 0.025415  loss: 0.009602  eta: 0h6m  tot: 0h6m30s  (49.6%)\rEpoch: 48.0%  lr: 0.025395  loss: 0.009607  eta: 0h6m  tot: 0h6m30s  (49.6%)\rEpoch: 48.1%  lr: 0.025385  loss: 0.009594  eta: 0h6m  tot: 0h6m30s  (49.6%)\rEpoch: 48.2%  lr: 0.025385  loss: 0.009597  eta: 0h6m  tot: 0h6m30s  (49.6%)\rEpoch: 48.3%  lr: 0.025375  loss: 0.009604  eta: 0h6m  tot: 0h6m30s  (49.7%)\rEpoch: 48.3%  lr: 0.025365  loss: 0.009611  eta: 0h6m  tot: 0h6m31s  (49.7%)\rEpoch: 48.4%  lr: 0.025355  loss: 0.009629  eta: 0h6m  tot: 0h6m31s  (49.7%)\rEpoch: 48.5%  lr: 0.025355  loss: 0.009636  eta: 0h6m  tot: 0h6m31s  (49.7%)\rEpoch: 48.6%  lr: 0.025355  loss: 0.009638  eta: 0h6m  tot: 0h6m31s  (49.7%)\rEpoch: 48.7%  lr: 0.025345  loss: 0.009628  eta: 0h6m  tot: 0h6m31s  (49.7%)\rEpoch: 48.8%  lr: 0.025335  loss: 0.009632  eta: 0h6m  tot: 0h6m31s  (49.8%)\rEpoch: 48.9%  lr: 0.025335  loss: 0.009630  eta: 0h6m  tot: 0h6m31s  (49.8%)\rEpoch: 49.0%  lr: 0.025325  loss: 0.009620  eta: 0h6m  tot: 0h6m32s  (49.8%)\rEpoch: 49.1%  lr: 0.025305  loss: 0.009615  eta: 0h6m  tot: 0h6m32s  (49.8%)\rEpoch: 49.2%  lr: 0.025295  loss: 0.009615  eta: 0h6m  tot: 0h6m32s  (49.8%)\rEpoch: 49.2%  lr: 0.025285  loss: 0.009613  eta: 0h6m  tot: 0h6m32s  (49.8%)\rEpoch: 49.3%  lr: 0.025285  loss: 0.009625  eta: 0h6m  tot: 0h6m32s  (49.9%)\rEpoch: 49.4%  lr: 0.025275  loss: 0.009614  eta: 0h6m  tot: 0h6m32s  (49.9%)\rEpoch: 49.5%  lr: 0.025245  loss: 0.009605  eta: 0h6m  tot: 0h6m32s  (49.9%)\rEpoch: 49.6%  lr: 0.025225  loss: 0.009605  eta: 0h6m  tot: 0h6m32s  (49.9%)\rEpoch: 49.7%  lr: 0.025215  loss: 0.009620  eta: 0h6m  tot: 0h6m33s  (49.9%)\rEpoch: 49.8%  lr: 0.025215  loss: 0.009618  eta: 0h6m  tot: 0h6m33s  (50.0%)\rEpoch: 49.9%  lr: 0.025195  loss: 0.009616  eta: 0h6m  tot: 0h6m33s  (50.0%)\rEpoch: 50.0%  lr: 0.025195  loss: 0.009605  eta: 0h6m  tot: 0h6m33s  (50.0%)\rEpoch: 50.1%  lr: 0.025185  loss: 0.009609  eta: 0h6m  tot: 0h6m33s  (50.0%)\rEpoch: 50.1%  lr: 0.025175  loss: 0.009609  eta: 0h6m  tot: 0h6m33s  (50.0%)\rEpoch: 50.2%  lr: 0.025175  loss: 0.009610  eta: 0h6m  tot: 0h6m33s  (50.0%)\rEpoch: 50.3%  lr: 0.025165  loss: 0.009606  eta: 0h6m  tot: 0h6m34s  (50.1%)\rEpoch: 50.4%  lr: 0.025145  loss: 0.009605  eta: 0h6m  tot: 0h6m34s  (50.1%)\rEpoch: 50.5%  lr: 0.025135  loss: 0.009595  eta: 0h6m  tot: 0h6m34s  (50.1%)\rEpoch: 50.6%  lr: 0.025125  loss: 0.009587  eta: 0h6m  tot: 0h6m34s  (50.1%)\rEpoch: 50.7%  lr: 0.025125  loss: 0.009574  eta: 0h6m  tot: 0h6m34s  (50.1%)\rEpoch: 50.8%  lr: 0.025125  loss: 0.009567  eta: 0h6m  tot: 0h6m34s  (50.2%)\rEpoch: 50.9%  lr: 0.025115  loss: 0.009564  eta: 0h6m  tot: 0h6m34s  (50.2%)\rEpoch: 51.0%  lr: 0.025095  loss: 0.009553  eta: 0h6m  tot: 0h6m35s  (50.2%)\rEpoch: 51.0%  lr: 0.025075  loss: 0.009542  eta: 0h6m  tot: 0h6m35s  (50.2%)\rEpoch: 51.1%  lr: 0.025075  loss: 0.009547  eta: 0h6m  tot: 0h6m35s  (50.2%)\rEpoch: 51.2%  lr: 0.025065  loss: 0.009560  eta: 0h6m  tot: 0h6m35s  (50.2%)\rEpoch: 51.3%  lr: 0.025065  loss: 0.009554  eta: 0h6m  tot: 0h6m35s  (50.3%)\rEpoch: 51.4%  lr: 0.025055  loss: 0.009549  eta: 0h6m  tot: 0h6m35s  (50.3%)\rEpoch: 51.5%  lr: 0.025055  loss: 0.009558  eta: 0h6m  tot: 0h6m35s  (50.3%)\rEpoch: 51.6%  lr: 0.025055  loss: 0.009562  eta: 0h6m  tot: 0h6m35s  (50.3%)\rEpoch: 51.7%  lr: 0.025055  loss: 0.009576  eta: 0h6m  tot: 0h6m36s  (50.3%)\rEpoch: 51.8%  lr: 0.025055  loss: 0.009567  eta: 0h6m  tot: 0h6m36s  (50.4%)\rEpoch: 51.9%  lr: 0.025045  loss: 0.009593  eta: 0h6m  tot: 0h6m36s  (50.4%)\rEpoch: 51.9%  lr: 0.025025  loss: 0.009588  eta: 0h6m  tot: 0h6m36s  (50.4%)\rEpoch: 52.0%  lr: 0.025005  loss: 0.009582  eta: 0h6m  tot: 0h6m36s  (50.4%)\rEpoch: 52.1%  lr: 0.024985  loss: 0.009601  eta: 0h6m  tot: 0h6m36s  (50.4%)\rEpoch: 52.2%  lr: 0.024945  loss: 0.009594  eta: 0h6m  tot: 0h6m36s  (50.4%)\rEpoch: 52.3%  lr: 0.024925  loss: 0.009597  eta: 0h6m  tot: 0h6m37s  (50.5%)\rEpoch: 52.4%  lr: 0.024915  loss: 0.009600  eta: 0h6m  tot: 0h6m37s  (50.5%)\rEpoch: 52.5%  lr: 0.024905  loss: 0.009595  eta: 0h6m  tot: 0h6m37s  (50.5%)\rEpoch: 52.6%  lr: 0.024905  loss: 0.009593  eta: 0h6m  tot: 0h6m37s  (50.5%)\rEpoch: 52.7%  lr: 0.024885  loss: 0.009615  eta: 0h6m  tot: 0h6m37s  (50.5%)\rEpoch: 52.8%  lr: 0.024885  loss: 0.009604  eta: 0h6m  tot: 0h6m37s  (50.6%)\rEpoch: 52.8%  lr: 0.024885  loss: 0.009607  eta: 0h6m  tot: 0h6m37s  (50.6%)\rEpoch: 52.9%  lr: 0.024885  loss: 0.009607  eta: 0h6m  tot: 0h6m38s  (50.6%)\rEpoch: 53.0%  lr: 0.024875  loss: 0.009606  eta: 0h6m  tot: 0h6m38s  (50.6%)\rEpoch: 53.1%  lr: 0.024875  loss: 0.009608  eta: 0h6m  tot: 0h6m38s  (50.6%)\rEpoch: 53.2%  lr: 0.024875  loss: 0.009631  eta: 0h6m  tot: 0h6m38s  (50.6%)\rEpoch: 53.3%  lr: 0.024875  loss: 0.009643  eta: 0h6m  tot: 0h6m38s  (50.7%)\rEpoch: 53.4%  lr: 0.024865  loss: 0.009635  eta: 0h6m  tot: 0h6m38s  (50.7%)\rEpoch: 53.5%  lr: 0.024865  loss: 0.009640  eta: 0h6m  tot: 0h6m38s  (50.7%)\rEpoch: 53.6%  lr: 0.024865  loss: 0.009637  eta: 0h6m  tot: 0h6m38s  (50.7%)\rEpoch: 53.7%  lr: 0.024855  loss: 0.009632  eta: 0h6m  tot: 0h6m39s  (50.7%)\rEpoch: 53.7%  lr: 0.024845  loss: 0.009630  eta: 0h6m  tot: 0h6m39s  (50.7%)\rEpoch: 53.8%  lr: 0.024845  loss: 0.009636  eta: 0h6m  tot: 0h6m39s  (50.8%)\rEpoch: 53.9%  lr: 0.024845  loss: 0.009646  eta: 0h6m  tot: 0h6m39s  (50.8%)\rEpoch: 54.0%  lr: 0.024825  loss: 0.009646  eta: 0h6m  tot: 0h6m39s  (50.8%)\rEpoch: 54.1%  lr: 0.024815  loss: 0.009635  eta: 0h6m  tot: 0h6m39s  (50.8%)\rEpoch: 54.2%  lr: 0.024815  loss: 0.009637  eta: 0h6m  tot: 0h6m39s  (50.8%)\rEpoch: 54.3%  lr: 0.024795  loss: 0.009629  eta: 0h6m  tot: 0h6m40s  (50.9%)\rEpoch: 54.4%  lr: 0.024795  loss: 0.009625  eta: 0h6m  tot: 0h6m40s  (50.9%)\rEpoch: 54.5%  lr: 0.024795  loss: 0.009629  eta: 0h6m  tot: 0h6m40s  (50.9%)\rEpoch: 54.6%  lr: 0.024795  loss: 0.009623  eta: 0h6m  tot: 0h6m40s  (50.9%)\rEpoch: 54.6%  lr: 0.024795  loss: 0.009614  eta: 0h6m  tot: 0h6m40s  (50.9%)\rEpoch: 54.7%  lr: 0.024765  loss: 0.009604  eta: 0h6m  tot: 0h6m40s  (50.9%)\rEpoch: 54.8%  lr: 0.024755  loss: 0.009591  eta: 0h6m  tot: 0h6m40s  (51.0%)\rEpoch: 54.9%  lr: 0.024755  loss: 0.009589  eta: 0h6m  tot: 0h6m41s  (51.0%)\rEpoch: 55.0%  lr: 0.024755  loss: 0.009599  eta: 0h6m  tot: 0h6m41s  (51.0%)\rEpoch: 55.1%  lr: 0.024745  loss: 0.009600  eta: 0h6m  tot: 0h6m41s  (51.0%)\rEpoch: 55.2%  lr: 0.024735  loss: 0.009595  eta: 0h6m  tot: 0h6m41s  (51.0%)\rEpoch: 55.3%  lr: 0.024725  loss: 0.009600  eta: 0h6m  tot: 0h6m41s  (51.1%)\rEpoch: 55.4%  lr: 0.024715  loss: 0.009602  eta: 0h6m  tot: 0h6m41s  (51.1%)\rEpoch: 55.5%  lr: 0.024695  loss: 0.009594  eta: 0h6m  tot: 0h6m41s  (51.1%)\rEpoch: 55.5%  lr: 0.024685  loss: 0.009591  eta: 0h6m  tot: 0h6m42s  (51.1%)\rEpoch: 55.6%  lr: 0.024685  loss: 0.009591  eta: 0h6m  tot: 0h6m42s  (51.1%)\rEpoch: 55.7%  lr: 0.024665  loss: 0.009610  eta: 0h6m  tot: 0h6m42s  (51.1%)\rEpoch: 55.8%  lr: 0.024655  loss: 0.009610  eta: 0h6m  tot: 0h6m42s  (51.2%)\rEpoch: 55.9%  lr: 0.024645  loss: 0.009618  eta: 0h6m  tot: 0h6m42s  (51.2%)\rEpoch: 56.0%  lr: 0.024645  loss: 0.009615  eta: 0h6m  tot: 0h6m42s  (51.2%)\rEpoch: 56.1%  lr: 0.024625  loss: 0.009619  eta: 0h6m  tot: 0h6m42s  (51.2%)\rEpoch: 56.2%  lr: 0.024625  loss: 0.009614  eta: 0h6m  tot: 0h6m42s  (51.2%)\rEpoch: 56.3%  lr: 0.024615  loss: 0.009609  eta: 0h6m  tot: 0h6m43s  (51.3%)\rEpoch: 56.4%  lr: 0.024615  loss: 0.009609  eta: 0h6m  tot: 0h6m43s  (51.3%)\rEpoch: 56.4%  lr: 0.024595  loss: 0.009605  eta: 0h6m  tot: 0h6m43s  (51.3%)\rEpoch: 56.5%  lr: 0.024595  loss: 0.009599  eta: 0h6m  tot: 0h6m43s  (51.3%)\rEpoch: 56.6%  lr: 0.024595  loss: 0.009594  eta: 0h6m  tot: 0h6m43s  (51.3%)\rEpoch: 56.7%  lr: 0.024595  loss: 0.009597  eta: 0h6m  tot: 0h6m43s  (51.3%)\rEpoch: 56.8%  lr: 0.024575  loss: 0.009617  eta: 0h6m  tot: 0h6m43s  (51.4%)\rEpoch: 56.9%  lr: 0.024575  loss: 0.009613  eta: 0h6m  tot: 0h6m44s  (51.4%)\rEpoch: 57.0%  lr: 0.024555  loss: 0.009612  eta: 0h6m  tot: 0h6m44s  (51.4%)\rEpoch: 57.1%  lr: 0.024535  loss: 0.009609  eta: 0h6m  tot: 0h6m44s  (51.4%)\rEpoch: 57.2%  lr: 0.024535  loss: 0.009614  eta: 0h6m  tot: 0h6m44s  (51.4%)\rEpoch: 57.3%  lr: 0.024515  loss: 0.009615  eta: 0h6m  tot: 0h6m44s  (51.5%)\rEpoch: 57.3%  lr: 0.024505  loss: 0.009613  eta: 0h6m  tot: 0h6m44s  (51.5%)\rEpoch: 57.4%  lr: 0.024495  loss: 0.009625  eta: 0h6m  tot: 0h6m44s  (51.5%)\rEpoch: 57.5%  lr: 0.024495  loss: 0.009619  eta: 0h6m  tot: 0h6m44s  (51.5%)\rEpoch: 57.6%  lr: 0.024475  loss: 0.009623  eta: 0h6m  tot: 0h6m45s  (51.5%)\rEpoch: 57.7%  lr: 0.024465  loss: 0.009615  eta: 0h6m  tot: 0h6m45s  (51.5%)\rEpoch: 57.8%  lr: 0.024455  loss: 0.009610  eta: 0h6m  tot: 0h6m45s  (51.6%)\rEpoch: 57.9%  lr: 0.024445  loss: 0.009622  eta: 0h6m  tot: 0h6m45s  (51.6%)\rEpoch: 58.0%  lr: 0.024435  loss: 0.009616  eta: 0h6m  tot: 0h6m45s  (51.6%)\rEpoch: 58.1%  lr: 0.024415  loss: 0.009620  eta: 0h6m  tot: 0h6m45s  (51.6%)\rEpoch: 58.2%  lr: 0.024384  loss: 0.009614  eta: 0h6m  tot: 0h6m45s  (51.6%)\rEpoch: 58.2%  lr: 0.024374  loss: 0.009618  eta: 0h6m  tot: 0h6m46s  (51.6%)\rEpoch: 58.3%  lr: 0.024364  loss: 0.009608  eta: 0h6m  tot: 0h6m46s  (51.7%)\rEpoch: 58.4%  lr: 0.024364  loss: 0.009600  eta: 0h6m  tot: 0h6m46s  (51.7%)\rEpoch: 58.5%  lr: 0.024354  loss: 0.009594  eta: 0h6m  tot: 0h6m46s  (51.7%)\rEpoch: 58.6%  lr: 0.024334  loss: 0.009591  eta: 0h6m  tot: 0h6m46s  (51.7%)\rEpoch: 58.7%  lr: 0.024334  loss: 0.009587  eta: 0h6m  tot: 0h6m46s  (51.7%)\rEpoch: 58.8%  lr: 0.024324  loss: 0.009601  eta: 0h6m  tot: 0h6m46s  (51.8%)\rEpoch: 58.9%  lr: 0.024324  loss: 0.009590  eta: 0h6m  tot: 0h6m46s  (51.8%)\rEpoch: 59.0%  lr: 0.024324  loss: 0.009597  eta: 0h6m  tot: 0h6m47s  (51.8%)\rEpoch: 59.1%  lr: 0.024324  loss: 0.009597  eta: 0h6m  tot: 0h6m47s  (51.8%)\rEpoch: 59.1%  lr: 0.024314  loss: 0.009596  eta: 0h6m  tot: 0h6m47s  (51.8%)\rEpoch: 59.2%  lr: 0.024314  loss: 0.009590  eta: 0h6m  tot: 0h6m47s  (51.8%)\rEpoch: 59.3%  lr: 0.024304  loss: 0.009589  eta: 0h6m  tot: 0h6m47s  (51.9%)\rEpoch: 59.4%  lr: 0.024294  loss: 0.009593  eta: 0h6m  tot: 0h6m47s  (51.9%)\rEpoch: 59.5%  lr: 0.024284  loss: 0.009595  eta: 0h6m  tot: 0h6m47s  (51.9%)\rEpoch: 59.6%  lr: 0.024274  loss: 0.009591  eta: 0h6m  tot: 0h6m48s  (51.9%)\rEpoch: 59.7%  lr: 0.024254  loss: 0.009589  eta: 0h6m  tot: 0h6m48s  (51.9%)\rEpoch: 59.8%  lr: 0.024254  loss: 0.009604  eta: 0h6m  tot: 0h6m48s  (52.0%)\rEpoch: 59.9%  lr: 0.024234  loss: 0.009601  eta: 0h6m  tot: 0h6m48s  (52.0%)\rEpoch: 60.0%  lr: 0.024234  loss: 0.009595  eta: 0h6m  tot: 0h6m48s  (52.0%)\rEpoch: 60.0%  lr: 0.024224  loss: 0.009592  eta: 0h6m  tot: 0h6m48s  (52.0%)\rEpoch: 60.1%  lr: 0.024224  loss: 0.009587  eta: 0h6m  tot: 0h6m48s  (52.0%)\rEpoch: 60.2%  lr: 0.024194  loss: 0.009584  eta: 0h6m  tot: 0h6m48s  (52.0%)\rEpoch: 60.3%  lr: 0.024194  loss: 0.009584  eta: 0h6m  tot: 0h6m49s  (52.1%)\rEpoch: 60.4%  lr: 0.024194  loss: 0.009578  eta: 0h6m  tot: 0h6m49s  (52.1%)\rEpoch: 60.5%  lr: 0.024194  loss: 0.009569  eta: 0h6m  tot: 0h6m49s  (52.1%)\rEpoch: 60.6%  lr: 0.024164  loss: 0.009561  eta: 0h6m  tot: 0h6m49s  (52.1%)\rEpoch: 60.7%  lr: 0.024144  loss: 0.009557  eta: 0h6m  tot: 0h6m49s  (52.1%)\rEpoch: 60.8%  lr: 0.024124  loss: 0.009556  eta: 0h6m  tot: 0h6m49s  (52.2%)\rEpoch: 60.9%  lr: 0.024124  loss: 0.009547  eta: 0h6m  tot: 0h6m49s  (52.2%)\rEpoch: 60.9%  lr: 0.024084  loss: 0.009552  eta: 0h6m  tot: 0h6m50s  (52.2%)\rEpoch: 61.0%  lr: 0.024054  loss: 0.009545  eta: 0h6m  tot: 0h6m50s  (52.2%)\rEpoch: 61.1%  lr: 0.024054  loss: 0.009543  eta: 0h5m  tot: 0h6m50s  (52.2%)\rEpoch: 61.2%  lr: 0.024054  loss: 0.009539  eta: 0h5m  tot: 0h6m50s  (52.2%)\rEpoch: 61.3%  lr: 0.024034  loss: 0.009535  eta: 0h5m  tot: 0h6m50s  (52.3%)\rEpoch: 61.4%  lr: 0.024034  loss: 0.009528  eta: 0h5m  tot: 0h6m50s  (52.3%)\rEpoch: 61.5%  lr: 0.024024  loss: 0.009525  eta: 0h5m  tot: 0h6m50s  (52.3%)\rEpoch: 61.6%  lr: 0.024014  loss: 0.009523  eta: 0h5m  tot: 0h6m50s  (52.3%)\rEpoch: 61.7%  lr: 0.024014  loss: 0.009523  eta: 0h5m  tot: 0h6m51s  (52.3%)\rEpoch: 61.8%  lr: 0.024014  loss: 0.009519  eta: 0h5m  tot: 0h6m51s  (52.4%)\rEpoch: 61.8%  lr: 0.024004  loss: 0.009529  eta: 0h5m  tot: 0h6m51s  (52.4%)\rEpoch: 61.9%  lr: 0.023994  loss: 0.009540  eta: 0h5m  tot: 0h6m51s  (52.4%)\rEpoch: 62.0%  lr: 0.023984  loss: 0.009539  eta: 0h5m  tot: 0h6m51s  (52.4%)\rEpoch: 62.1%  lr: 0.023984  loss: 0.009543  eta: 0h5m  tot: 0h6m51s  (52.4%)\rEpoch: 62.2%  lr: 0.023974  loss: 0.009537  eta: 0h5m  tot: 0h6m51s  (52.4%)\rEpoch: 62.3%  lr: 0.023974  loss: 0.009536  eta: 0h5m  tot: 0h6m52s  (52.5%)\rEpoch: 62.4%  lr: 0.023954  loss: 0.009531  eta: 0h5m  tot: 0h6m52s  (52.5%)\rEpoch: 62.5%  lr: 0.023944  loss: 0.009526  eta: 0h5m  tot: 0h6m52s  (52.5%)\rEpoch: 62.6%  lr: 0.023944  loss: 0.009528  eta: 0h5m  tot: 0h6m52s  (52.5%)\rEpoch: 62.7%  lr: 0.023934  loss: 0.009518  eta: 0h5m  tot: 0h6m52s  (52.5%)\rEpoch: 62.7%  lr: 0.023914  loss: 0.009522  eta: 0h5m  tot: 0h6m52s  (52.5%)\rEpoch: 62.8%  lr: 0.023914  loss: 0.009518  eta: 0h5m  tot: 0h6m52s  (52.6%)\rEpoch: 62.9%  lr: 0.023914  loss: 0.009522  eta: 0h5m  tot: 0h6m52s  (52.6%)\rEpoch: 63.0%  lr: 0.023894  loss: 0.009521  eta: 0h5m  tot: 0h6m53s  (52.6%)\rEpoch: 63.1%  lr: 0.023884  loss: 0.009513  eta: 0h5m  tot: 0h6m53s  (52.6%)\rEpoch: 63.2%  lr: 0.023874  loss: 0.009512  eta: 0h5m  tot: 0h6m53s  (52.6%)\rEpoch: 63.3%  lr: 0.023874  loss: 0.009514  eta: 0h5m  tot: 0h6m53s  (52.7%)\rEpoch: 63.4%  lr: 0.023874  loss: 0.009503  eta: 0h5m  tot: 0h6m53s  (52.7%)\rEpoch: 63.5%  lr: 0.023874  loss: 0.009495  eta: 0h5m  tot: 0h6m53s  (52.7%)\rEpoch: 63.6%  lr: 0.023854  loss: 0.009497  eta: 0h5m  tot: 0h6m53s  (52.7%)\rEpoch: 63.6%  lr: 0.023854  loss: 0.009500  eta: 0h5m  tot: 0h6m54s  (52.7%)\rEpoch: 63.7%  lr: 0.023824  loss: 0.009497  eta: 0h5m  tot: 0h6m54s  (52.7%)\rEpoch: 63.8%  lr: 0.023804  loss: 0.009500  eta: 0h5m  tot: 0h6m54s  (52.8%)\rEpoch: 63.9%  lr: 0.023804  loss: 0.009517  eta: 0h5m  tot: 0h6m54s  (52.8%)\rEpoch: 64.0%  lr: 0.023794  loss: 0.009518  eta: 0h5m  tot: 0h6m54s  (52.8%)\rEpoch: 64.1%  lr: 0.023784  loss: 0.009513  eta: 0h5m  tot: 0h6m54s  (52.8%)\rEpoch: 64.2%  lr: 0.023784  loss: 0.009506  eta: 0h5m  tot: 0h6m54s  (52.8%)\rEpoch: 64.3%  lr: 0.023774  loss: 0.009508  eta: 0h5m  tot: 0h6m54s  (52.9%)\rEpoch: 64.4%  lr: 0.023774  loss: 0.009510  eta: 0h5m  tot: 0h6m55s  (52.9%)\rEpoch: 64.5%  lr: 0.023754  loss: 0.009522  eta: 0h5m  tot: 0h6m55s  (52.9%)\rEpoch: 64.5%  lr: 0.023754  loss: 0.009518  eta: 0h5m  tot: 0h6m55s  (52.9%)\rEpoch: 64.6%  lr: 0.023754  loss: 0.009520  eta: 0h5m  tot: 0h6m55s  (52.9%)\rEpoch: 64.7%  lr: 0.023754  loss: 0.009514  eta: 0h5m  tot: 0h6m55s  (52.9%)\rEpoch: 64.8%  lr: 0.023734  loss: 0.009505  eta: 0h5m  tot: 0h6m55s  (53.0%)\rEpoch: 64.9%  lr: 0.023704  loss: 0.009501  eta: 0h5m  tot: 0h6m55s  (53.0%)\rEpoch: 65.0%  lr: 0.023694  loss: 0.009495  eta: 0h5m  tot: 0h6m56s  (53.0%)\rEpoch: 65.1%  lr: 0.023694  loss: 0.009494  eta: 0h5m  tot: 0h6m56s  (53.0%)\rEpoch: 65.2%  lr: 0.023694  loss: 0.009494  eta: 0h5m  tot: 0h6m56s  (53.0%)\rEpoch: 65.3%  lr: 0.023694  loss: 0.009504  eta: 0h5m  tot: 0h6m56s  (53.1%)\rEpoch: 65.4%  lr: 0.023694  loss: 0.009518  eta: 0h5m  tot: 0h6m56s  (53.1%)\rEpoch: 65.4%  lr: 0.023694  loss: 0.009511  eta: 0h5m  tot: 0h6m56s  (53.1%)\rEpoch: 65.5%  lr: 0.023684  loss: 0.009504  eta: 0h5m  tot: 0h6m56s  (53.1%)\rEpoch: 65.6%  lr: 0.023684  loss: 0.009517  eta: 0h5m  tot: 0h6m57s  (53.1%)\rEpoch: 65.7%  lr: 0.023684  loss: 0.009514  eta: 0h5m  tot: 0h6m57s  (53.1%)\rEpoch: 65.8%  lr: 0.023684  loss: 0.009516  eta: 0h5m  tot: 0h6m57s  (53.2%)\rEpoch: 65.9%  lr: 0.023674  loss: 0.009516  eta: 0h5m  tot: 0h6m57s  (53.2%)\rEpoch: 66.0%  lr: 0.023674  loss: 0.009517  eta: 0h5m  tot: 0h6m57s  (53.2%)\rEpoch: 66.1%  lr: 0.023664  loss: 0.009523  eta: 0h5m  tot: 0h6m57s  (53.2%)\rEpoch: 66.2%  lr: 0.023664  loss: 0.009522  eta: 0h5m  tot: 0h6m57s  (53.2%)\rEpoch: 66.3%  lr: 0.023644  loss: 0.009522  eta: 0h5m  tot: 0h6m57s  (53.3%)\rEpoch: 66.3%  lr: 0.023644  loss: 0.009514  eta: 0h5m  tot: 0h6m58s  (53.3%)\rEpoch: 66.4%  lr: 0.023634  loss: 0.009514  eta: 0h5m  tot: 0h6m58s  (53.3%)\rEpoch: 66.5%  lr: 0.023624  loss: 0.009514  eta: 0h5m  tot: 0h6m58s  (53.3%)\rEpoch: 66.6%  lr: 0.023624  loss: 0.009526  eta: 0h5m  tot: 0h6m58s  (53.3%)\rEpoch: 66.7%  lr: 0.023624  loss: 0.009522  eta: 0h5m  tot: 0h6m58s  (53.3%)\rEpoch: 66.8%  lr: 0.023624  loss: 0.009514  eta: 0h5m  tot: 0h6m58s  (53.4%)\rEpoch: 66.9%  lr: 0.023614  loss: 0.009517  eta: 0h5m  tot: 0h6m58s  (53.4%)\rEpoch: 67.0%  lr: 0.023614  loss: 0.009515  eta: 0h5m  tot: 0h6m59s  (53.4%)\rEpoch: 67.1%  lr: 0.023604  loss: 0.009513  eta: 0h5m  tot: 0h6m59s  (53.4%)\rEpoch: 67.2%  lr: 0.023604  loss: 0.009509  eta: 0h5m  tot: 0h6m59s  (53.4%)\rEpoch: 67.2%  lr: 0.023564  loss: 0.009503  eta: 0h5m  tot: 0h6m59s  (53.4%)\rEpoch: 67.3%  lr: 0.023554  loss: 0.009499  eta: 0h5m  tot: 0h6m59s  (53.5%)\rEpoch: 67.4%  lr: 0.023554  loss: 0.009493  eta: 0h5m  tot: 0h6m59s  (53.5%)\rEpoch: 67.5%  lr: 0.023544  loss: 0.009492  eta: 0h5m  tot: 0h6m59s  (53.5%)\rEpoch: 67.6%  lr: 0.023534  loss: 0.009493  eta: 0h5m  tot: 0h6m59s  (53.5%)\rEpoch: 67.7%  lr: 0.023534  loss: 0.009492  eta: 0h5m  tot: 0h7m0s  (53.5%)\rEpoch: 67.8%  lr: 0.023504  loss: 0.009505  eta: 0h5m  tot: 0h7m0s  (53.6%)\rEpoch: 67.9%  lr: 0.023504  loss: 0.009502  eta: 0h5m  tot: 0h7m0s  (53.6%)\rEpoch: 68.0%  lr: 0.023494  loss: 0.009497  eta: 0h5m  tot: 0h7m0s  (53.6%)\rEpoch: 68.1%  lr: 0.023484  loss: 0.009493  eta: 0h5m  tot: 0h7m0s  (53.6%)\rEpoch: 68.1%  lr: 0.023484  loss: 0.009491  eta: 0h5m  tot: 0h7m0s  (53.6%)\rEpoch: 68.2%  lr: 0.023484  loss: 0.009496  eta: 0h5m  tot: 0h7m0s  (53.6%)\rEpoch: 68.3%  lr: 0.023474  loss: 0.009496  eta: 0h5m  tot: 0h7m1s  (53.7%)\rEpoch: 68.4%  lr: 0.023464  loss: 0.009500  eta: 0h5m  tot: 0h7m1s  (53.7%)\rEpoch: 68.5%  lr: 0.023444  loss: 0.009499  eta: 0h5m  tot: 0h7m1s  (53.7%)\rEpoch: 68.6%  lr: 0.023434  loss: 0.009497  eta: 0h5m  tot: 0h7m1s  (53.7%)\rEpoch: 68.7%  lr: 0.023414  loss: 0.009511  eta: 0h5m  tot: 0h7m1s  (53.7%)\rEpoch: 68.8%  lr: 0.023404  loss: 0.009516  eta: 0h5m  tot: 0h7m1s  (53.8%)\rEpoch: 68.9%  lr: 0.023404  loss: 0.009515  eta: 0h5m  tot: 0h7m1s  (53.8%)\rEpoch: 69.0%  lr: 0.023373  loss: 0.009515  eta: 0h5m  tot: 0h7m2s  (53.8%)\rEpoch: 69.0%  lr: 0.023363  loss: 0.009518  eta: 0h5m  tot: 0h7m2s  (53.8%)\rEpoch: 69.1%  lr: 0.023363  loss: 0.009514  eta: 0h5m  tot: 0h7m2s  (53.8%)\rEpoch: 69.2%  lr: 0.023363  loss: 0.009519  eta: 0h5m  tot: 0h7m2s  (53.8%)\rEpoch: 69.3%  lr: 0.023353  loss: 0.009514  eta: 0h5m  tot: 0h7m2s  (53.9%)\rEpoch: 69.4%  lr: 0.023343  loss: 0.009512  eta: 0h5m  tot: 0h7m2s  (53.9%)\rEpoch: 69.5%  lr: 0.023333  loss: 0.009507  eta: 0h5m  tot: 0h7m2s  (53.9%)\rEpoch: 69.6%  lr: 0.023313  loss: 0.009507  eta: 0h5m  tot: 0h7m2s  (53.9%)\rEpoch: 69.7%  lr: 0.023313  loss: 0.009511  eta: 0h5m  tot: 0h7m3s  (53.9%)\rEpoch: 69.8%  lr: 0.023313  loss: 0.009511  eta: 0h5m  tot: 0h7m3s  (54.0%)\rEpoch: 69.9%  lr: 0.023293  loss: 0.009504  eta: 0h5m  tot: 0h7m3s  (54.0%)\rEpoch: 69.9%  lr: 0.023283  loss: 0.009503  eta: 0h5m  tot: 0h7m3s  (54.0%)\rEpoch: 70.0%  lr: 0.023273  loss: 0.009494  eta: 0h5m  tot: 0h7m3s  (54.0%)\rEpoch: 70.1%  lr: 0.023253  loss: 0.009495  eta: 0h5m  tot: 0h7m3s  (54.0%)\rEpoch: 70.2%  lr: 0.023243  loss: 0.009497  eta: 0h5m  tot: 0h7m3s  (54.0%)\rEpoch: 70.3%  lr: 0.023233  loss: 0.009498  eta: 0h5m  tot: 0h7m4s  (54.1%)\rEpoch: 70.4%  lr: 0.023223  loss: 0.009505  eta: 0h5m  tot: 0h7m4s  (54.1%)\rEpoch: 70.5%  lr: 0.023203  loss: 0.009502  eta: 0h5m  tot: 0h7m4s  (54.1%)\rEpoch: 70.6%  lr: 0.023203  loss: 0.009502  eta: 0h5m  tot: 0h7m4s  (54.1%)\rEpoch: 70.7%  lr: 0.023203  loss: 0.009502  eta: 0h5m  tot: 0h7m4s  (54.1%)\rEpoch: 70.8%  lr: 0.023173  loss: 0.009505  eta: 0h5m  tot: 0h7m4s  (54.2%)\rEpoch: 70.8%  lr: 0.023163  loss: 0.009500  eta: 0h5m  tot: 0h7m4s  (54.2%)\rEpoch: 70.9%  lr: 0.023143  loss: 0.009498  eta: 0h5m  tot: 0h7m4s  (54.2%)\rEpoch: 71.0%  lr: 0.023133  loss: 0.009493  eta: 0h5m  tot: 0h7m5s  (54.2%)\rEpoch: 71.1%  lr: 0.023123  loss: 0.009486  eta: 0h5m  tot: 0h7m5s  (54.2%)\rEpoch: 71.2%  lr: 0.023123  loss: 0.009480  eta: 0h5m  tot: 0h7m5s  (54.2%)\rEpoch: 71.3%  lr: 0.023123  loss: 0.009484  eta: 0h5m  tot: 0h7m5s  (54.3%)\rEpoch: 71.4%  lr: 0.023123  loss: 0.009482  eta: 0h5m  tot: 0h7m5s  (54.3%)\rEpoch: 71.5%  lr: 0.023123  loss: 0.009473  eta: 0h5m  tot: 0h7m5s  (54.3%)\rEpoch: 71.6%  lr: 0.023123  loss: 0.009481  eta: 0h5m  tot: 0h7m5s  (54.3%)\rEpoch: 71.7%  lr: 0.023103  loss: 0.009489  eta: 0h5m  tot: 0h7m6s  (54.3%)\rEpoch: 71.7%  lr: 0.023103  loss: 0.009486  eta: 0h5m  tot: 0h7m6s  (54.3%)\rEpoch: 71.8%  lr: 0.023093  loss: 0.009490  eta: 0h5m  tot: 0h7m6s  (54.4%)\rEpoch: 71.9%  lr: 0.023093  loss: 0.009489  eta: 0h5m  tot: 0h7m6s  (54.4%)\rEpoch: 72.0%  lr: 0.023073  loss: 0.009485  eta: 0h5m  tot: 0h7m6s  (54.4%)\rEpoch: 72.1%  lr: 0.023053  loss: 0.009481  eta: 0h5m  tot: 0h7m6s  (54.4%)\rEpoch: 72.2%  lr: 0.023033  loss: 0.009479  eta: 0h5m  tot: 0h7m6s  (54.4%)\rEpoch: 72.3%  lr: 0.023003  loss: 0.009471  eta: 0h5m  tot: 0h7m6s  (54.5%)\rEpoch: 72.4%  lr: 0.022993  loss: 0.009468  eta: 0h5m  tot: 0h7m7s  (54.5%)\rEpoch: 72.5%  lr: 0.022993  loss: 0.009460  eta: 0h5m  tot: 0h7m7s  (54.5%)\rEpoch: 72.6%  lr: 0.022993  loss: 0.009461  eta: 0h5m  tot: 0h7m7s  (54.5%)\rEpoch: 72.6%  lr: 0.022983  loss: 0.009464  eta: 0h5m  tot: 0h7m7s  (54.5%)\rEpoch: 72.7%  lr: 0.022973  loss: 0.009459  eta: 0h5m  tot: 0h7m7s  (54.5%)\rEpoch: 72.8%  lr: 0.022973  loss: 0.009462  eta: 0h5m  tot: 0h7m7s  (54.6%)\rEpoch: 72.9%  lr: 0.022963  loss: 0.009470  eta: 0h5m  tot: 0h7m7s  (54.6%)\rEpoch: 73.0%  lr: 0.022963  loss: 0.009470  eta: 0h5m  tot: 0h7m8s  (54.6%)\rEpoch: 73.1%  lr: 0.022953  loss: 0.009465  eta: 0h5m  tot: 0h7m8s  (54.6%)\rEpoch: 73.2%  lr: 0.022953  loss: 0.009465  eta: 0h5m  tot: 0h7m8s  (54.6%)\rEpoch: 73.3%  lr: 0.022943  loss: 0.009456  eta: 0h5m  tot: 0h7m8s  (54.7%)\rEpoch: 73.4%  lr: 0.022943  loss: 0.009456  eta: 0h5m  tot: 0h7m8s  (54.7%)\rEpoch: 73.5%  lr: 0.022943  loss: 0.009454  eta: 0h5m  tot: 0h7m8s  (54.7%)\rEpoch: 73.5%  lr: 0.022943  loss: 0.009456  eta: 0h5m  tot: 0h7m8s  (54.7%)\rEpoch: 73.6%  lr: 0.022923  loss: 0.009462  eta: 0h5m  tot: 0h7m9s  (54.7%)\rEpoch: 73.7%  lr: 0.022923  loss: 0.009465  eta: 0h5m  tot: 0h7m9s  (54.7%)\rEpoch: 73.8%  lr: 0.022913  loss: 0.009458  eta: 0h5m  tot: 0h7m9s  (54.8%)\rEpoch: 73.9%  lr: 0.022903  loss: 0.009459  eta: 0h5m  tot: 0h7m9s  (54.8%)\rEpoch: 74.0%  lr: 0.022893  loss: 0.009449  eta: 0h5m  tot: 0h7m9s  (54.8%)\rEpoch: 74.1%  lr: 0.022883  loss: 0.009450  eta: 0h5m  tot: 0h7m9s  (54.8%)\rEpoch: 74.2%  lr: 0.022873  loss: 0.009453  eta: 0h5m  tot: 0h7m9s  (54.8%)\rEpoch: 74.3%  lr: 0.022843  loss: 0.009458  eta: 0h5m  tot: 0h7m10s  (54.9%)\rEpoch: 74.4%  lr: 0.022823  loss: 0.009452  eta: 0h5m  tot: 0h7m10s  (54.9%)\rEpoch: 74.4%  lr: 0.022793  loss: 0.009446  eta: 0h5m  tot: 0h7m10s  (54.9%)\rEpoch: 74.5%  lr: 0.022763  loss: 0.009443  eta: 0h5m  tot: 0h7m10s  (54.9%)\rEpoch: 74.6%  lr: 0.022753  loss: 0.009442  eta: 0h5m  tot: 0h7m10s  (54.9%)\rEpoch: 74.7%  lr: 0.022753  loss: 0.009439  eta: 0h5m  tot: 0h7m10s  (54.9%)\rEpoch: 74.8%  lr: 0.022703  loss: 0.009437  eta: 0h5m  tot: 0h7m10s  (55.0%)\rEpoch: 74.9%  lr: 0.022683  loss: 0.009435  eta: 0h5m  tot: 0h7m11s  (55.0%)\rEpoch: 75.0%  lr: 0.022673  loss: 0.009446  eta: 0h5m  tot: 0h7m11s  (55.0%)\rEpoch: 75.1%  lr: 0.022663  loss: 0.009447  eta: 0h5m  tot: 0h7m11s  (55.0%)\rEpoch: 75.2%  lr: 0.022653  loss: 0.009442  eta: 0h5m  tot: 0h7m11s  (55.0%)\rEpoch: 75.3%  lr: 0.022643  loss: 0.009436  eta: 0h5m  tot: 0h7m11s  (55.1%)\rEpoch: 75.3%  lr: 0.022643  loss: 0.009438  eta: 0h5m  tot: 0h7m11s  (55.1%)\rEpoch: 75.4%  lr: 0.022633  loss: 0.009439  eta: 0h5m  tot: 0h7m12s  (55.1%)\rEpoch: 75.5%  lr: 0.022623  loss: 0.009438  eta: 0h5m  tot: 0h7m12s  (55.1%)\rEpoch: 75.6%  lr: 0.022623  loss: 0.009441  eta: 0h5m  tot: 0h7m12s  (55.1%)\rEpoch: 75.7%  lr: 0.022623  loss: 0.009439  eta: 0h5m  tot: 0h7m12s  (55.1%)\rEpoch: 75.8%  lr: 0.022613  loss: 0.009434  eta: 0h5m  tot: 0h7m12s  (55.2%)\rEpoch: 75.9%  lr: 0.022603  loss: 0.009431  eta: 0h5m  tot: 0h7m12s  (55.2%)\rEpoch: 76.0%  lr: 0.022593  loss: 0.009431  eta: 0h5m  tot: 0h7m12s  (55.2%)\rEpoch: 76.1%  lr: 0.022593  loss: 0.009431  eta: 0h5m  tot: 0h7m13s  (55.2%)\rEpoch: 76.2%  lr: 0.022573  loss: 0.009437  eta: 0h5m  tot: 0h7m13s  (55.2%)\rEpoch: 76.2%  lr: 0.022563  loss: 0.009436  eta: 0h5m  tot: 0h7m13s  (55.2%)\rEpoch: 76.3%  lr: 0.022553  loss: 0.009433  eta: 0h5m  tot: 0h7m13s  (55.3%)\rEpoch: 76.4%  lr: 0.022543  loss: 0.009427  eta: 0h5m  tot: 0h7m13s  (55.3%)\rEpoch: 76.5%  lr: 0.022523  loss: 0.009432  eta: 0h5m  tot: 0h7m13s  (55.3%)\rEpoch: 76.6%  lr: 0.022493  loss: 0.009426  eta: 0h5m  tot: 0h7m13s  (55.3%)\rEpoch: 76.7%  lr: 0.022483  loss: 0.009426  eta: 0h5m  tot: 0h7m14s  (55.3%)\rEpoch: 76.8%  lr: 0.022483  loss: 0.009418  eta: 0h5m  tot: 0h7m14s  (55.4%)\rEpoch: 76.9%  lr: 0.022473  loss: 0.009419  eta: 0h5m  tot: 0h7m14s  (55.4%)\rEpoch: 77.0%  lr: 0.022463  loss: 0.009426  eta: 0h5m  tot: 0h7m14s  (55.4%)\rEpoch: 77.1%  lr: 0.022453  loss: 0.009417  eta: 0h5m  tot: 0h7m14s  (55.4%)\rEpoch: 77.1%  lr: 0.022443  loss: 0.009413  eta: 0h5m  tot: 0h7m14s  (55.4%)\rEpoch: 77.2%  lr: 0.022433  loss: 0.009422  eta: 0h5m  tot: 0h7m14s  (55.4%)\rEpoch: 77.3%  lr: 0.022403  loss: 0.009419  eta: 0h5m  tot: 0h7m14s  (55.5%)\rEpoch: 77.4%  lr: 0.022382  loss: 0.009416  eta: 0h5m  tot: 0h7m15s  (55.5%)\rEpoch: 77.5%  lr: 0.022372  loss: 0.009413  eta: 0h5m  tot: 0h7m15s  (55.5%)\rEpoch: 77.6%  lr: 0.022352  loss: 0.009412  eta: 0h5m  tot: 0h7m15s  (55.5%)\rEpoch: 77.7%  lr: 0.022332  loss: 0.009408  eta: 0h5m  tot: 0h7m15s  (55.5%)\rEpoch: 77.8%  lr: 0.022332  loss: 0.009408  eta: 0h5m  tot: 0h7m15s  (55.6%)\rEpoch: 77.9%  lr: 0.022322  loss: 0.009415  eta: 0h5m  tot: 0h7m15s  (55.6%)\rEpoch: 78.0%  lr: 0.022302  loss: 0.009429  eta: 0h5m  tot: 0h7m15s  (55.6%)\rEpoch: 78.0%  lr: 0.022272  loss: 0.009429  eta: 0h5m  tot: 0h7m16s  (55.6%)\rEpoch: 78.1%  lr: 0.022262  loss: 0.009431  eta: 0h5m  tot: 0h7m16s  (55.6%)\rEpoch: 78.2%  lr: 0.022262  loss: 0.009443  eta: 0h5m  tot: 0h7m16s  (55.6%)\rEpoch: 78.3%  lr: 0.022262  loss: 0.009437  eta: 0h5m  tot: 0h7m16s  (55.7%)\rEpoch: 78.4%  lr: 0.022252  loss: 0.009433  eta: 0h5m  tot: 0h7m16s  (55.7%)\rEpoch: 78.5%  lr: 0.022242  loss: 0.009434  eta: 0h5m  tot: 0h7m16s  (55.7%)\rEpoch: 78.6%  lr: 0.022232  loss: 0.009433  eta: 0h5m  tot: 0h7m16s  (55.7%)\rEpoch: 78.7%  lr: 0.022222  loss: 0.009427  eta: 0h5m  tot: 0h7m17s  (55.7%)\rEpoch: 78.8%  lr: 0.022202  loss: 0.009427  eta: 0h5m  tot: 0h7m17s  (55.8%)\rEpoch: 78.9%  lr: 0.022192  loss: 0.009428  eta: 0h5m  tot: 0h7m17s  (55.8%)\rEpoch: 78.9%  lr: 0.022162  loss: 0.009424  eta: 0h5m  tot: 0h7m17s  (55.8%)\rEpoch: 79.0%  lr: 0.022142  loss: 0.009422  eta: 0h5m  tot: 0h7m17s  (55.8%)\rEpoch: 79.1%  lr: 0.022142  loss: 0.009419  eta: 0h5m  tot: 0h7m17s  (55.8%)\rEpoch: 79.2%  lr: 0.022112  loss: 0.009426  eta: 0h5m  tot: 0h7m17s  (55.8%)\rEpoch: 79.3%  lr: 0.022102  loss: 0.009422  eta: 0h5m  tot: 0h7m18s  (55.9%)\rEpoch: 79.4%  lr: 0.022092  loss: 0.009422  eta: 0h5m  tot: 0h7m18s  (55.9%)\rEpoch: 79.5%  lr: 0.022052  loss: 0.009421  eta: 0h5m  tot: 0h7m18s  (55.9%)\rEpoch: 79.6%  lr: 0.022042  loss: 0.009417  eta: 0h5m  tot: 0h7m18s  (55.9%)\rEpoch: 79.7%  lr: 0.022042  loss: 0.009416  eta: 0h5m  tot: 0h7m18s  (55.9%)\rEpoch: 79.8%  lr: 0.022042  loss: 0.009407  eta: 0h5m  tot: 0h7m18s  (56.0%)\rEpoch: 79.9%  lr: 0.022032  loss: 0.009409  eta: 0h5m  tot: 0h7m18s  (56.0%)\rEpoch: 79.9%  lr: 0.022022  loss: 0.009411  eta: 0h5m  tot: 0h7m18s  (56.0%)\rEpoch: 80.0%  lr: 0.022022  loss: 0.009421  eta: 0h5m  tot: 0h7m19s  (56.0%)\rEpoch: 80.1%  lr: 0.022022  loss: 0.009420  eta: 0h5m  tot: 0h7m19s  (56.0%)\rEpoch: 80.2%  lr: 0.022012  loss: 0.009431  eta: 0h5m  tot: 0h7m19s  (56.0%)\rEpoch: 80.3%  lr: 0.022012  loss: 0.009430  eta: 0h5m  tot: 0h7m19s  (56.1%)\rEpoch: 80.4%  lr: 0.022012  loss: 0.009427  eta: 0h5m  tot: 0h7m19s  (56.1%)\rEpoch: 80.5%  lr: 0.022012  loss: 0.009427  eta: 0h5m  tot: 0h7m19s  (56.1%)\rEpoch: 80.6%  lr: 0.021992  loss: 0.009432  eta: 0h5m  tot: 0h7m19s  (56.1%)\rEpoch: 80.7%  lr: 0.021982  loss: 0.009439  eta: 0h5m  tot: 0h7m20s  (56.1%)\rEpoch: 80.8%  lr: 0.021962  loss: 0.009435  eta: 0h5m  tot: 0h7m20s  (56.2%)\rEpoch: 80.8%  lr: 0.021952  loss: 0.009434  eta: 0h5m  tot: 0h7m20s  (56.2%)\rEpoch: 80.9%  lr: 0.021932  loss: 0.009447  eta: 0h5m  tot: 0h7m20s  (56.2%)\rEpoch: 81.0%  lr: 0.021932  loss: 0.009456  eta: 0h5m  tot: 0h7m20s  (56.2%)\rEpoch: 81.1%  lr: 0.021902  loss: 0.009452  eta: 0h5m  tot: 0h7m20s  (56.2%)\rEpoch: 81.2%  lr: 0.021872  loss: 0.009454  eta: 0h5m  tot: 0h7m20s  (56.2%)\rEpoch: 81.3%  lr: 0.021862  loss: 0.009460  eta: 0h5m  tot: 0h7m21s  (56.3%)\rEpoch: 81.4%  lr: 0.021862  loss: 0.009461  eta: 0h5m  tot: 0h7m21s  (56.3%)\rEpoch: 81.5%  lr: 0.021852  loss: 0.009456  eta: 0h5m  tot: 0h7m21s  (56.3%)\rEpoch: 81.6%  lr: 0.021842  loss: 0.009453  eta: 0h5m  tot: 0h7m21s  (56.3%)\rEpoch: 81.7%  lr: 0.021842  loss: 0.009455  eta: 0h5m  tot: 0h7m21s  (56.3%)\rEpoch: 81.7%  lr: 0.021832  loss: 0.009447  eta: 0h5m  tot: 0h7m21s  (56.3%)\rEpoch: 81.8%  lr: 0.021832  loss: 0.009452  eta: 0h5m  tot: 0h7m21s  (56.4%)\rEpoch: 81.9%  lr: 0.021812  loss: 0.009449  eta: 0h5m  tot: 0h7m22s  (56.4%)\rEpoch: 82.0%  lr: 0.021812  loss: 0.009451  eta: 0h5m  tot: 0h7m22s  (56.4%)\rEpoch: 82.1%  lr: 0.021812  loss: 0.009446  eta: 0h5m  tot: 0h7m22s  (56.4%)\rEpoch: 82.2%  lr: 0.021812  loss: 0.009457  eta: 0h5m  tot: 0h7m22s  (56.4%)\rEpoch: 82.3%  lr: 0.021812  loss: 0.009452  eta: 0h5m  tot: 0h7m22s  (56.5%)\rEpoch: 82.4%  lr: 0.021812  loss: 0.009450  eta: 0h5m  tot: 0h7m22s  (56.5%)\rEpoch: 82.5%  lr: 0.021802  loss: 0.009448  eta: 0h5m  tot: 0h7m22s  (56.5%)\rEpoch: 82.6%  lr: 0.021802  loss: 0.009445  eta: 0h5m  tot: 0h7m23s  (56.5%)\rEpoch: 82.6%  lr: 0.021782  loss: 0.009448  eta: 0h5m  tot: 0h7m23s  (56.5%)\rEpoch: 82.7%  lr: 0.021782  loss: 0.009451  eta: 0h5m  tot: 0h7m23s  (56.5%)\rEpoch: 82.8%  lr: 0.021772  loss: 0.009452  eta: 0h5m  tot: 0h7m23s  (56.6%)\rEpoch: 82.9%  lr: 0.021752  loss: 0.009455  eta: 0h5m  tot: 0h7m23s  (56.6%)\rEpoch: 83.0%  lr: 0.021732  loss: 0.009455  eta: 0h5m  tot: 0h7m23s  (56.6%)\rEpoch: 83.1%  lr: 0.021732  loss: 0.009458  eta: 0h5m  tot: 0h7m23s  (56.6%)\rEpoch: 83.2%  lr: 0.021712  loss: 0.009454  eta: 0h5m  tot: 0h7m24s  (56.6%)\rEpoch: 83.3%  lr: 0.021682  loss: 0.009453  eta: 0h5m  tot: 0h7m24s  (56.7%)\rEpoch: 83.4%  lr: 0.021682  loss: 0.009445  eta: 0h5m  tot: 0h7m24s  (56.7%)\rEpoch: 83.5%  lr: 0.021682  loss: 0.009439  eta: 0h5m  tot: 0h7m24s  (56.7%)\rEpoch: 83.5%  lr: 0.021672  loss: 0.009436  eta: 0h5m  tot: 0h7m24s  (56.7%)\rEpoch: 83.6%  lr: 0.021672  loss: 0.009454  eta: 0h5m  tot: 0h7m24s  (56.7%)\rEpoch: 83.7%  lr: 0.021652  loss: 0.009458  eta: 0h5m  tot: 0h7m24s  (56.7%)\rEpoch: 83.8%  lr: 0.021652  loss: 0.009456  eta: 0h5m  tot: 0h7m24s  (56.8%)\rEpoch: 83.9%  lr: 0.021652  loss: 0.009446  eta: 0h5m  tot: 0h7m25s  (56.8%)\rEpoch: 84.0%  lr: 0.021652  loss: 0.009443  eta: 0h5m  tot: 0h7m25s  (56.8%)\rEpoch: 84.1%  lr: 0.021632  loss: 0.009450  eta: 0h5m  tot: 0h7m25s  (56.8%)\rEpoch: 84.2%  lr: 0.021622  loss: 0.009452  eta: 0h5m  tot: 0h7m25s  (56.8%)\rEpoch: 84.3%  lr: 0.021622  loss: 0.009451  eta: 0h5m  tot: 0h7m25s  (56.9%)\rEpoch: 84.4%  lr: 0.021602  loss: 0.009454  eta: 0h5m  tot: 0h7m25s  (56.9%)\rEpoch: 84.4%  lr: 0.021602  loss: 0.009451  eta: 0h5m  tot: 0h7m25s  (56.9%)\rEpoch: 84.5%  lr: 0.021582  loss: 0.009449  eta: 0h5m  tot: 0h7m26s  (56.9%)\rEpoch: 84.6%  lr: 0.021572  loss: 0.009446  eta: 0h5m  tot: 0h7m26s  (56.9%)\rEpoch: 84.7%  lr: 0.021562  loss: 0.009444  eta: 0h5m  tot: 0h7m26s  (56.9%)\rEpoch: 84.8%  lr: 0.021532  loss: 0.009449  eta: 0h5m  tot: 0h7m26s  (57.0%)\rEpoch: 84.9%  lr: 0.021532  loss: 0.009454  eta: 0h5m  tot: 0h7m26s  (57.0%)\rEpoch: 85.0%  lr: 0.021522  loss: 0.009452  eta: 0h5m  tot: 0h7m26s  (57.0%)\rEpoch: 85.1%  lr: 0.021512  loss: 0.009451  eta: 0h5m  tot: 0h7m26s  (57.0%)\rEpoch: 85.2%  lr: 0.021492  loss: 0.009444  eta: 0h5m  tot: 0h7m27s  (57.0%)\rEpoch: 85.3%  lr: 0.021492  loss: 0.009441  eta: 0h5m  tot: 0h7m27s  (57.1%)\rEpoch: 85.3%  lr: 0.021472  loss: 0.009442  eta: 0h5m  tot: 0h7m27s  (57.1%)\rEpoch: 85.4%  lr: 0.021462  loss: 0.009438  eta: 0h5m  tot: 0h7m27s  (57.1%)\rEpoch: 85.5%  lr: 0.021462  loss: 0.009434  eta: 0h5m  tot: 0h7m27s  (57.1%)\rEpoch: 85.6%  lr: 0.021452  loss: 0.009432  eta: 0h5m  tot: 0h7m27s  (57.1%)\rEpoch: 85.7%  lr: 0.021452  loss: 0.009429  eta: 0h5m  tot: 0h7m27s  (57.1%)\rEpoch: 85.8%  lr: 0.021442  loss: 0.009435  eta: 0h5m  tot: 0h7m28s  (57.2%)\rEpoch: 85.9%  lr: 0.021432  loss: 0.009429  eta: 0h5m  tot: 0h7m28s  (57.2%)\rEpoch: 86.0%  lr: 0.021422  loss: 0.009441  eta: 0h5m  tot: 0h7m28s  (57.2%)\rEpoch: 86.1%  lr: 0.021412  loss: 0.009448  eta: 0h5m  tot: 0h7m28s  (57.2%)\rEpoch: 86.2%  lr: 0.021412  loss: 0.009441  eta: 0h5m  tot: 0h7m28s  (57.2%)\rEpoch: 86.2%  lr: 0.021382  loss: 0.009436  eta: 0h5m  tot: 0h7m28s  (57.2%)\rEpoch: 86.3%  lr: 0.021372  loss: 0.009440  eta: 0h5m  tot: 0h7m28s  (57.3%)\rEpoch: 86.4%  lr: 0.021361  loss: 0.009448  eta: 0h5m  tot: 0h7m28s  (57.3%)\rEpoch: 86.5%  lr: 0.021341  loss: 0.009448  eta: 0h5m  tot: 0h7m29s  (57.3%)\rEpoch: 86.6%  lr: 0.021331  loss: 0.009449  eta: 0h5m  tot: 0h7m29s  (57.3%)\rEpoch: 86.7%  lr: 0.021301  loss: 0.009446  eta: 0h5m  tot: 0h7m29s  (57.3%)\rEpoch: 86.8%  lr: 0.021291  loss: 0.009439  eta: 0h5m  tot: 0h7m29s  (57.4%)\rEpoch: 86.9%  lr: 0.021281  loss: 0.009434  eta: 0h5m  tot: 0h7m29s  (57.4%)\rEpoch: 87.0%  lr: 0.021271  loss: 0.009433  eta: 0h5m  tot: 0h7m29s  (57.4%)\rEpoch: 87.1%  lr: 0.021271  loss: 0.009434  eta: 0h5m  tot: 0h7m29s  (57.4%)\rEpoch: 87.1%  lr: 0.021251  loss: 0.009433  eta: 0h5m  tot: 0h7m30s  (57.4%)\rEpoch: 87.2%  lr: 0.021251  loss: 0.009430  eta: 0h5m  tot: 0h7m30s  (57.4%)\rEpoch: 87.3%  lr: 0.021231  loss: 0.009427  eta: 0h5m  tot: 0h7m30s  (57.5%)\rEpoch: 87.4%  lr: 0.021191  loss: 0.009427  eta: 0h5m  tot: 0h7m30s  (57.5%)\rEpoch: 87.5%  lr: 0.021181  loss: 0.009428  eta: 0h5m  tot: 0h7m30s  (57.5%)\rEpoch: 87.6%  lr: 0.021171  loss: 0.009442  eta: 0h5m  tot: 0h7m30s  (57.5%)\rEpoch: 87.7%  lr: 0.021161  loss: 0.009436  eta: 0h5m  tot: 0h7m30s  (57.5%)\rEpoch: 87.8%  lr: 0.021161  loss: 0.009436  eta: 0h5m  tot: 0h7m31s  (57.6%)\rEpoch: 87.9%  lr: 0.021161  loss: 0.009438  eta: 0h5m  tot: 0h7m31s  (57.6%)\rEpoch: 88.0%  lr: 0.021151  loss: 0.009432  eta: 0h5m  tot: 0h7m31s  (57.6%)\rEpoch: 88.0%  lr: 0.021151  loss: 0.009437  eta: 0h5m  tot: 0h7m31s  (57.6%)\rEpoch: 88.1%  lr: 0.021141  loss: 0.009439  eta: 0h5m  tot: 0h7m31s  (57.6%)\rEpoch: 88.2%  lr: 0.021131  loss: 0.009434  eta: 0h5m  tot: 0h7m31s  (57.6%)\rEpoch: 88.3%  lr: 0.021091  loss: 0.009443  eta: 0h5m  tot: 0h7m31s  (57.7%)\rEpoch: 88.4%  lr: 0.021091  loss: 0.009442  eta: 0h5m  tot: 0h7m32s  (57.7%)\rEpoch: 88.5%  lr: 0.021091  loss: 0.009443  eta: 0h5m  tot: 0h7m32s  (57.7%)\rEpoch: 88.6%  lr: 0.021091  loss: 0.009449  eta: 0h5m  tot: 0h7m32s  (57.7%)\rEpoch: 88.7%  lr: 0.021081  loss: 0.009447  eta: 0h5m  tot: 0h7m32s  (57.7%)\rEpoch: 88.8%  lr: 0.021071  loss: 0.009451  eta: 0h5m  tot: 0h7m32s  (57.8%)\rEpoch: 88.9%  lr: 0.021061  loss: 0.009445  eta: 0h5m  tot: 0h7m32s  (57.8%)\rEpoch: 88.9%  lr: 0.021061  loss: 0.009439  eta: 0h5m  tot: 0h7m32s  (57.8%)\rEpoch: 89.0%  lr: 0.021051  loss: 0.009432  eta: 0h5m  tot: 0h7m33s  (57.8%)\rEpoch: 89.1%  lr: 0.021051  loss: 0.009431  eta: 0h5m  tot: 0h7m33s  (57.8%)\rEpoch: 89.2%  lr: 0.021051  loss: 0.009434  eta: 0h5m  tot: 0h7m33s  (57.8%)\rEpoch: 89.3%  lr: 0.021041  loss: 0.009433  eta: 0h5m  tot: 0h7m33s  (57.9%)\rEpoch: 89.4%  lr: 0.021031  loss: 0.009432  eta: 0h5m  tot: 0h7m33s  (57.9%)\rEpoch: 89.5%  lr: 0.021021  loss: 0.009426  eta: 0h5m  tot: 0h7m33s  (57.9%)\rEpoch: 89.6%  lr: 0.021021  loss: 0.009428  eta: 0h5m  tot: 0h7m33s  (57.9%)\rEpoch: 89.7%  lr: 0.021021  loss: 0.009437  eta: 0h5m  tot: 0h7m34s  (57.9%)\rEpoch: 89.8%  lr: 0.021011  loss: 0.009456  eta: 0h5m  tot: 0h7m34s  (58.0%)\rEpoch: 89.8%  lr: 0.021011  loss: 0.009454  eta: 0h5m  tot: 0h7m34s  (58.0%)\rEpoch: 89.9%  lr: 0.021011  loss: 0.009457  eta: 0h5m  tot: 0h7m34s  (58.0%)\rEpoch: 90.0%  lr: 0.021011  loss: 0.009452  eta: 0h5m  tot: 0h7m34s  (58.0%)\rEpoch: 90.1%  lr: 0.021001  loss: 0.009457  eta: 0h5m  tot: 0h7m34s  (58.0%)\rEpoch: 90.2%  lr: 0.021001  loss: 0.009449  eta: 0h5m  tot: 0h7m34s  (58.0%)\rEpoch: 90.3%  lr: 0.020991  loss: 0.009452  eta: 0h5m  tot: 0h7m35s  (58.1%)\rEpoch: 90.4%  lr: 0.020951  loss: 0.009451  eta: 0h5m  tot: 0h7m35s  (58.1%)\rEpoch: 90.5%  lr: 0.020941  loss: 0.009445  eta: 0h5m  tot: 0h7m35s  (58.1%)\rEpoch: 90.6%  lr: 0.020931  loss: 0.009454  eta: 0h5m  tot: 0h7m35s  (58.1%)\rEpoch: 90.7%  lr: 0.020921  loss: 0.009454  eta: 0h5m  tot: 0h7m35s  (58.1%)\rEpoch: 90.7%  lr: 0.020921  loss: 0.009453  eta: 0h5m  tot: 0h7m35s  (58.1%)\rEpoch: 90.8%  lr: 0.020901  loss: 0.009453  eta: 0h5m  tot: 0h7m35s  (58.2%)\rEpoch: 90.9%  lr: 0.020901  loss: 0.009454  eta: 0h5m  tot: 0h7m35s  (58.2%)\rEpoch: 91.0%  lr: 0.020891  loss: 0.009448  eta: 0h5m  tot: 0h7m36s  (58.2%)\rEpoch: 91.1%  lr: 0.020891  loss: 0.009444  eta: 0h5m  tot: 0h7m36s  (58.2%)\rEpoch: 91.2%  lr: 0.020891  loss: 0.009443  eta: 0h5m  tot: 0h7m36s  (58.2%)\rEpoch: 91.3%  lr: 0.020871  loss: 0.009446  eta: 0h5m  tot: 0h7m36s  (58.3%)\rEpoch: 91.4%  lr: 0.020871  loss: 0.009449  eta: 0h5m  tot: 0h7m36s  (58.3%)\rEpoch: 91.5%  lr: 0.020861  loss: 0.009450  eta: 0h5m  tot: 0h7m36s  (58.3%)\rEpoch: 91.6%  lr: 0.020861  loss: 0.009449  eta: 0h5m  tot: 0h7m36s  (58.3%)\rEpoch: 91.6%  lr: 0.020861  loss: 0.009444  eta: 0h5m  tot: 0h7m37s  (58.3%)\rEpoch: 91.7%  lr: 0.020851  loss: 0.009443  eta: 0h5m  tot: 0h7m37s  (58.3%)\rEpoch: 91.8%  lr: 0.020851  loss: 0.009444  eta: 0h5m  tot: 0h7m37s  (58.4%)\rEpoch: 91.9%  lr: 0.020851  loss: 0.009437  eta: 0h5m  tot: 0h7m37s  (58.4%)\rEpoch: 92.0%  lr: 0.020851  loss: 0.009438  eta: 0h5m  tot: 0h7m37s  (58.4%)\rEpoch: 92.1%  lr: 0.020841  loss: 0.009431  eta: 0h5m  tot: 0h7m37s  (58.4%)\rEpoch: 92.2%  lr: 0.020821  loss: 0.009448  eta: 0h5m  tot: 0h7m37s  (58.4%)\rEpoch: 92.3%  lr: 0.020811  loss: 0.009442  eta: 0h5m  tot: 0h7m38s  (58.5%)\rEpoch: 92.4%  lr: 0.020811  loss: 0.009443  eta: 0h5m  tot: 0h7m38s  (58.5%)\rEpoch: 92.5%  lr: 0.020811  loss: 0.009448  eta: 0h5m  tot: 0h7m38s  (58.5%)\rEpoch: 92.5%  lr: 0.020811  loss: 0.009442  eta: 0h5m  tot: 0h7m38s  (58.5%)\rEpoch: 92.6%  lr: 0.020791  loss: 0.009438  eta: 0h5m  tot: 0h7m38s  (58.5%)\rEpoch: 92.7%  lr: 0.020781  loss: 0.009445  eta: 0h5m  tot: 0h7m38s  (58.5%)\rEpoch: 92.8%  lr: 0.020781  loss: 0.009443  eta: 0h5m  tot: 0h7m38s  (58.6%)\rEpoch: 92.9%  lr: 0.020781  loss: 0.009445  eta: 0h5m  tot: 0h7m38s  (58.6%)\rEpoch: 93.0%  lr: 0.020771  loss: 0.009446  eta: 0h5m  tot: 0h7m39s  (58.6%)\rEpoch: 93.1%  lr: 0.020751  loss: 0.009441  eta: 0h5m  tot: 0h7m39s  (58.6%)\rEpoch: 93.2%  lr: 0.020751  loss: 0.009455  eta: 0h5m  tot: 0h7m39s  (58.6%)\rEpoch: 93.3%  lr: 0.020741  loss: 0.009452  eta: 0h5m  tot: 0h7m39s  (58.7%)\rEpoch: 93.4%  lr: 0.020731  loss: 0.009455  eta: 0h5m  tot: 0h7m39s  (58.7%)\rEpoch: 93.4%  lr: 0.020701  loss: 0.009455  eta: 0h5m  tot: 0h7m39s  (58.7%)\rEpoch: 93.5%  lr: 0.020691  loss: 0.009470  eta: 0h5m  tot: 0h7m39s  (58.7%)\rEpoch: 93.6%  lr: 0.020671  loss: 0.009472  eta: 0h5m  tot: 0h7m40s  (58.7%)\rEpoch: 93.7%  lr: 0.020671  loss: 0.009469  eta: 0h5m  tot: 0h7m40s  (58.7%)\rEpoch: 93.8%  lr: 0.020661  loss: 0.009467  eta: 0h5m  tot: 0h7m40s  (58.8%)\rEpoch: 93.9%  lr: 0.020631  loss: 0.009464  eta: 0h5m  tot: 0h7m40s  (58.8%)\rEpoch: 94.0%  lr: 0.020621  loss: 0.009460  eta: 0h5m  tot: 0h7m40s  (58.8%)\rEpoch: 94.1%  lr: 0.020611  loss: 0.009456  eta: 0h5m  tot: 0h7m40s  (58.8%)\rEpoch: 94.2%  lr: 0.020611  loss: 0.009459  eta: 0h5m  tot: 0h7m40s  (58.8%)\rEpoch: 94.3%  lr: 0.020601  loss: 0.009454  eta: 0h5m  tot: 0h7m40s  (58.9%)\rEpoch: 94.3%  lr: 0.020591  loss: 0.009447  eta: 0h5m  tot: 0h7m41s  (58.9%)\rEpoch: 94.4%  lr: 0.020591  loss: 0.009443  eta: 0h5m  tot: 0h7m41s  (58.9%)\rEpoch: 94.5%  lr: 0.020591  loss: 0.009438  eta: 0h5m  tot: 0h7m41s  (58.9%)\rEpoch: 94.6%  lr: 0.020581  loss: 0.009453  eta: 0h5m  tot: 0h7m41s  (58.9%)\rEpoch: 94.7%  lr: 0.020571  loss: 0.009454  eta: 0h5m  tot: 0h7m41s  (58.9%)\rEpoch: 94.8%  lr: 0.020571  loss: 0.009448  eta: 0h5m  tot: 0h7m41s  (59.0%)\rEpoch: 94.9%  lr: 0.020571  loss: 0.009447  eta: 0h5m  tot: 0h7m41s  (59.0%)\rEpoch: 95.0%  lr: 0.020571  loss: 0.009446  eta: 0h5m  tot: 0h7m42s  (59.0%)\rEpoch: 95.1%  lr: 0.020561  loss: 0.009444  eta: 0h5m  tot: 0h7m42s  (59.0%)\rEpoch: 95.2%  lr: 0.020551  loss: 0.009445  eta: 0h5m  tot: 0h7m42s  (59.0%)\rEpoch: 95.2%  lr: 0.020541  loss: 0.009444  eta: 0h5m  tot: 0h7m42s  (59.0%)\rEpoch: 95.3%  lr: 0.020521  loss: 0.009449  eta: 0h5m  tot: 0h7m42s  (59.1%)\rEpoch: 95.4%  lr: 0.020501  loss: 0.009448  eta: 0h5m  tot: 0h7m42s  (59.1%)\rEpoch: 95.5%  lr: 0.020501  loss: 0.009457  eta: 0h5m  tot: 0h7m42s  (59.1%)\rEpoch: 95.6%  lr: 0.020501  loss: 0.009452  eta: 0h5m  tot: 0h7m43s  (59.1%)\rEpoch: 95.7%  lr: 0.020471  loss: 0.009452  eta: 0h5m  tot: 0h7m43s  (59.1%)\rEpoch: 95.8%  lr: 0.020471  loss: 0.009453  eta: 0h5m  tot: 0h7m43s  (59.2%)\rEpoch: 95.9%  lr: 0.020451  loss: 0.009453  eta: 0h5m  tot: 0h7m43s  (59.2%)\rEpoch: 96.0%  lr: 0.020441  loss: 0.009449  eta: 0h5m  tot: 0h7m43s  (59.2%)\rEpoch: 96.1%  lr: 0.020441  loss: 0.009447  eta: 0h5m  tot: 0h7m43s  (59.2%)\rEpoch: 96.1%  lr: 0.020441  loss: 0.009451  eta: 0h5m  tot: 0h7m43s  (59.2%)\rEpoch: 96.2%  lr: 0.020441  loss: 0.009455  eta: 0h5m  tot: 0h7m43s  (59.2%)\rEpoch: 96.3%  lr: 0.020441  loss: 0.009455  eta: 0h5m  tot: 0h7m44s  (59.3%)\rEpoch: 96.4%  lr: 0.020421  loss: 0.009454  eta: 0h5m  tot: 0h7m44s  (59.3%)\rEpoch: 96.5%  lr: 0.020411  loss: 0.009451  eta: 0h5m  tot: 0h7m44s  (59.3%)\rEpoch: 96.6%  lr: 0.020391  loss: 0.009450  eta: 0h5m  tot: 0h7m44s  (59.3%)\rEpoch: 96.7%  lr: 0.020391  loss: 0.009446  eta: 0h5m  tot: 0h7m44s  (59.3%)\rEpoch: 96.8%  lr: 0.020381  loss: 0.009447  eta: 0h5m  tot: 0h7m44s  (59.4%)\rEpoch: 96.9%  lr: 0.020381  loss: 0.009451  eta: 0h5m  tot: 0h7m44s  (59.4%)\rEpoch: 97.0%  lr: 0.020361  loss: 0.009447  eta: 0h5m  tot: 0h7m45s  (59.4%)\rEpoch: 97.0%  lr: 0.020350  loss: 0.009447  eta: 0h5m  tot: 0h7m45s  (59.4%)\rEpoch: 97.1%  lr: 0.020330  loss: 0.009443  eta: 0h5m  tot: 0h7m45s  (59.4%)\rEpoch: 97.2%  lr: 0.020330  loss: 0.009450  eta: 0h5m  tot: 0h7m45s  (59.4%)\rEpoch: 97.3%  lr: 0.020330  loss: 0.009445  eta: 0h5m  tot: 0h7m45s  (59.5%)\rEpoch: 97.4%  lr: 0.020320  loss: 0.009440  eta: 0h5m  tot: 0h7m45s  (59.5%)\rEpoch: 97.5%  lr: 0.020290  loss: 0.009441  eta: 0h5m  tot: 0h7m45s  (59.5%)\rEpoch: 97.6%  lr: 0.020290  loss: 0.009447  eta: 0h5m  tot: 0h7m46s  (59.5%)\rEpoch: 97.7%  lr: 0.020290  loss: 0.009446  eta: 0h5m  tot: 0h7m46s  (59.5%)\rEpoch: 97.8%  lr: 0.020290  loss: 0.009447  eta: 0h5m  tot: 0h7m46s  (59.6%)\rEpoch: 97.9%  lr: 0.020270  loss: 0.009445  eta: 0h5m  tot: 0h7m46s  (59.6%)\rEpoch: 97.9%  lr: 0.020260  loss: 0.009437  eta: 0h5m  tot: 0h7m46s  (59.6%)\rEpoch: 98.0%  lr: 0.020250  loss: 0.009434  eta: 0h5m  tot: 0h7m46s  (59.6%)\rEpoch: 98.1%  lr: 0.020240  loss: 0.009430  eta: 0h5m  tot: 0h7m46s  (59.6%)\rEpoch: 98.2%  lr: 0.020230  loss: 0.009427  eta: 0h5m  tot: 0h7m46s  (59.6%)\rEpoch: 98.3%  lr: 0.020230  loss: 0.009422  eta: 0h5m  tot: 0h7m47s  (59.7%)\rEpoch: 98.4%  lr: 0.020230  loss: 0.009424  eta: 0h5m  tot: 0h7m47s  (59.7%)\rEpoch: 98.5%  lr: 0.020210  loss: 0.009423  eta: 0h5m  tot: 0h7m47s  (59.7%)\rEpoch: 98.6%  lr: 0.020200  loss: 0.009427  eta: 0h5m  tot: 0h7m47s  (59.7%)\rEpoch: 98.7%  lr: 0.020200  loss: 0.009420  eta: 0h5m  tot: 0h7m47s  (59.7%)\rEpoch: 98.8%  lr: 0.020180  loss: 0.009413  eta: 0h5m  tot: 0h7m47s  (59.8%)\rEpoch: 98.8%  lr: 0.020150  loss: 0.009413  eta: 0h5m  tot: 0h7m47s  (59.8%)\rEpoch: 98.9%  lr: 0.020110  loss: 0.009413  eta: 0h5m  tot: 0h7m48s  (59.8%)\rEpoch: 99.0%  lr: 0.020090  loss: 0.009410  eta: 0h5m  tot: 0h7m48s  (59.8%)\rEpoch: 99.1%  lr: 0.020080  loss: 0.009414  eta: 0h5m  tot: 0h7m48s  (59.8%)\rEpoch: 99.2%  lr: 0.020050  loss: 0.009413  eta: 0h5m  tot: 0h7m48s  (59.8%)\rEpoch: 99.3%  lr: 0.020030  loss: 0.009411  eta: 0h5m  tot: 0h7m48s  (59.9%)\rEpoch: 99.4%  lr: 0.020030  loss: 0.009413  eta: 0h5m  tot: 0h7m48s  (59.9%)\rEpoch: 99.5%  lr: 0.020030  loss: 0.009420  eta: 0h5m  tot: 0h7m48s  (59.9%)\rEpoch: 99.6%  lr: 0.020010  loss: 0.009417  eta: 0h5m  tot: 0h7m48s  (59.9%)\rEpoch: 99.7%  lr: 0.020010  loss: 0.009417  eta: 0h5m  tot: 0h7m49s  (59.9%)\rEpoch: 99.7%  lr: 0.020010  loss: 0.009422  eta: 0h5m  tot: 0h7m49s  (59.9%)\rEpoch: 99.8%  lr: 0.020000  loss: 0.009416  eta: 0h5m  tot: 0h7m49s  (60.0%)\rEpoch: 99.9%  lr: 0.020000  loss: 0.009415  eta: 0h5m  tot: 0h7m49s  (60.0%)\rEpoch: 100.0%  lr: 0.020000  loss: 0.009415  eta: 0h5m  tot: 0h7m49s  (60.0%)\rEpoch: 0.1%  lr: 0.020000  loss: 0.001098  eta: <1min   tot: 0h7m49s  (60.0%)\rEpoch: 0.2%  lr: 0.020000  loss: 0.004595  eta: <1min   tot: 0h7m49s  (60.0%)\rEpoch: 0.3%  lr: 0.019990  loss: 0.004189  eta: 0h1m  tot: 0h7m49s  (60.1%)\rEpoch: 0.4%  lr: 0.019990  loss: 0.004767  eta: 0h1m  tot: 0h7m49s  (60.1%)\rEpoch: 0.4%  lr: 0.019980  loss: 0.005435  eta: 0h2m  tot: 0h7m49s  (60.1%)\rEpoch: 0.5%  lr: 0.019960  loss: 0.005007  eta: 0h2m  tot: 0h7m49s  (60.1%)\rEpoch: 0.6%  lr: 0.019940  loss: 0.004643  eta: 0h3m  tot: 0h7m49s  (60.1%)\rEpoch: 0.7%  lr: 0.019920  loss: 0.005800  eta: 0h3m  tot: 0h7m49s  (60.1%)\rEpoch: 0.8%  lr: 0.019920  loss: 0.005842  eta: 0h3m  tot: 0h7m50s  (60.2%)\rEpoch: 0.9%  lr: 0.019910  loss: 0.005500  eta: 0h3m  tot: 0h7m50s  (60.2%)\rEpoch: 1.0%  lr: 0.019890  loss: 0.006118  eta: 0h3m  tot: 0h7m50s  (60.2%)\rEpoch: 1.1%  lr: 0.019880  loss: 0.006166  eta: 0h3m  tot: 0h7m50s  (60.2%)\rEpoch: 1.2%  lr: 0.019850  loss: 0.006485  eta: 0h3m  tot: 0h7m50s  (60.2%)\rEpoch: 1.3%  lr: 0.019840  loss: 0.006939  eta: 0h4m  tot: 0h7m50s  (60.3%)\rEpoch: 1.3%  lr: 0.019840  loss: 0.007172  eta: 0h4m  tot: 0h7m50s  (60.3%)\rEpoch: 1.4%  lr: 0.019840  loss: 0.007173  eta: 0h4m  tot: 0h7m51s  (60.3%)\rEpoch: 1.5%  lr: 0.019840  loss: 0.006953  eta: 0h4m  tot: 0h7m51s  (60.3%)\rEpoch: 1.6%  lr: 0.019840  loss: 0.006847  eta: 0h4m  tot: 0h7m51s  (60.3%)\rEpoch: 1.7%  lr: 0.019830  loss: 0.006617  eta: 0h4m  tot: 0h7m51s  (60.3%)\rEpoch: 1.8%  lr: 0.019830  loss: 0.006625  eta: 0h4m  tot: 0h7m51s  (60.4%)\rEpoch: 1.9%  lr: 0.019830  loss: 0.006709  eta: 0h4m  tot: 0h7m51s  (60.4%)\rEpoch: 2.0%  lr: 0.019830  loss: 0.006606  eta: 0h4m  tot: 0h7m51s  (60.4%)\rEpoch: 2.1%  lr: 0.019830  loss: 0.006567  eta: 0h4m  tot: 0h7m51s  (60.4%)\rEpoch: 2.2%  lr: 0.019830  loss: 0.006553  eta: 0h4m  tot: 0h7m52s  (60.4%)\rEpoch: 2.2%  lr: 0.019820  loss: 0.006423  eta: 0h4m  tot: 0h7m52s  (60.4%)\rEpoch: 2.3%  lr: 0.019820  loss: 0.006223  eta: 0h4m  tot: 0h7m52s  (60.5%)\rEpoch: 2.4%  lr: 0.019820  loss: 0.006064  eta: 0h4m  tot: 0h7m52s  (60.5%)\rEpoch: 2.5%  lr: 0.019820  loss: 0.006101  eta: 0h4m  tot: 0h7m52s  (60.5%)\rEpoch: 2.6%  lr: 0.019800  loss: 0.006202  eta: 0h4m  tot: 0h7m52s  (60.5%)\rEpoch: 2.7%  lr: 0.019790  loss: 0.006146  eta: 0h4m  tot: 0h7m52s  (60.5%)\rEpoch: 2.8%  lr: 0.019790  loss: 0.006166  eta: 0h4m  tot: 0h7m53s  (60.6%)\rEpoch: 2.9%  lr: 0.019780  loss: 0.006132  eta: 0h4m  tot: 0h7m53s  (60.6%)\rEpoch: 3.0%  lr: 0.019780  loss: 0.006023  eta: 0h4m  tot: 0h7m53s  (60.6%)\rEpoch: 3.1%  lr: 0.019770  loss: 0.006284  eta: 0h4m  tot: 0h7m53s  (60.6%)\rEpoch: 3.1%  lr: 0.019750  loss: 0.006249  eta: 0h4m  tot: 0h7m53s  (60.6%)\rEpoch: 3.2%  lr: 0.019750  loss: 0.006271  eta: 0h4m  tot: 0h7m53s  (60.6%)\rEpoch: 3.3%  lr: 0.019740  loss: 0.006371  eta: 0h4m  tot: 0h7m53s  (60.7%)\rEpoch: 3.4%  lr: 0.019730  loss: 0.006452  eta: 0h4m  tot: 0h7m54s  (60.7%)\rEpoch: 3.5%  lr: 0.019700  loss: 0.006683  eta: 0h4m  tot: 0h7m54s  (60.7%)\rEpoch: 3.6%  lr: 0.019680  loss: 0.006727  eta: 0h4m  tot: 0h7m54s  (60.7%)\rEpoch: 3.7%  lr: 0.019670  loss: 0.006616  eta: 0h4m  tot: 0h7m54s  (60.7%)\rEpoch: 3.8%  lr: 0.019670  loss: 0.006729  eta: 0h4m  tot: 0h7m54s  (60.8%)\rEpoch: 3.9%  lr: 0.019660  loss: 0.006800  eta: 0h4m  tot: 0h7m54s  (60.8%)\rEpoch: 4.0%  lr: 0.019650  loss: 0.006782  eta: 0h4m  tot: 0h7m54s  (60.8%)\rEpoch: 4.1%  lr: 0.019630  loss: 0.006692  eta: 0h4m  tot: 0h7m54s  (60.8%)\rEpoch: 4.1%  lr: 0.019630  loss: 0.006778  eta: 0h4m  tot: 0h7m55s  (60.8%)\rEpoch: 4.2%  lr: 0.019630  loss: 0.006744  eta: 0h4m  tot: 0h7m55s  (60.8%)\rEpoch: 4.3%  lr: 0.019630  loss: 0.006852  eta: 0h4m  tot: 0h7m55s  (60.9%)\rEpoch: 4.4%  lr: 0.019630  loss: 0.006834  eta: 0h4m  tot: 0h7m55s  (60.9%)\rEpoch: 4.5%  lr: 0.019610  loss: 0.006836  eta: 0h4m  tot: 0h7m55s  (60.9%)\rEpoch: 4.6%  lr: 0.019580  loss: 0.006913  eta: 0h4m  tot: 0h7m55s  (60.9%)\rEpoch: 4.7%  lr: 0.019570  loss: 0.006978  eta: 0h4m  tot: 0h7m55s  (60.9%)\rEpoch: 4.8%  lr: 0.019560  loss: 0.007038  eta: 0h4m  tot: 0h7m56s  (61.0%)\rEpoch: 4.9%  lr: 0.019540  loss: 0.007002  eta: 0h4m  tot: 0h7m56s  (61.0%)\rEpoch: 5.0%  lr: 0.019520  loss: 0.006909  eta: 0h4m  tot: 0h7m56s  (61.0%)\rEpoch: 5.0%  lr: 0.019510  loss: 0.006880  eta: 0h4m  tot: 0h7m56s  (61.0%)\rEpoch: 5.1%  lr: 0.019489  loss: 0.006879  eta: 0h4m  tot: 0h7m56s  (61.0%)\rEpoch: 5.2%  lr: 0.019479  loss: 0.006994  eta: 0h4m  tot: 0h7m56s  (61.0%)\rEpoch: 5.3%  lr: 0.019479  loss: 0.006958  eta: 0h4m  tot: 0h7m56s  (61.1%)\rEpoch: 5.4%  lr: 0.019479  loss: 0.006996  eta: 0h4m  tot: 0h7m56s  (61.1%)\rEpoch: 5.5%  lr: 0.019469  loss: 0.006930  eta: 0h4m  tot: 0h7m57s  (61.1%)\rEpoch: 5.6%  lr: 0.019469  loss: 0.006910  eta: 0h4m  tot: 0h7m57s  (61.1%)\rEpoch: 5.7%  lr: 0.019469  loss: 0.006910  eta: 0h4m  tot: 0h7m57s  (61.1%)\rEpoch: 5.8%  lr: 0.019459  loss: 0.006862  eta: 0h4m  tot: 0h7m57s  (61.2%)\rEpoch: 5.9%  lr: 0.019449  loss: 0.006828  eta: 0h4m  tot: 0h7m57s  (61.2%)\rEpoch: 5.9%  lr: 0.019449  loss: 0.006796  eta: 0h4m  tot: 0h7m57s  (61.2%)\rEpoch: 6.0%  lr: 0.019449  loss: 0.006785  eta: 0h4m  tot: 0h7m57s  (61.2%)\rEpoch: 6.1%  lr: 0.019449  loss: 0.006811  eta: 0h4m  tot: 0h7m57s  (61.2%)\rEpoch: 6.2%  lr: 0.019429  loss: 0.006775  eta: 0h4m  tot: 0h7m58s  (61.2%)\rEpoch: 6.3%  lr: 0.019419  loss: 0.006731  eta: 0h4m  tot: 0h7m58s  (61.3%)\rEpoch: 6.4%  lr: 0.019379  loss: 0.006705  eta: 0h4m  tot: 0h7m58s  (61.3%)\rEpoch: 6.5%  lr: 0.019379  loss: 0.006659  eta: 0h4m  tot: 0h7m58s  (61.3%)\rEpoch: 6.6%  lr: 0.019379  loss: 0.006609  eta: 0h4m  tot: 0h7m58s  (61.3%)\rEpoch: 6.7%  lr: 0.019379  loss: 0.006567  eta: 0h4m  tot: 0h7m58s  (61.3%)\rEpoch: 6.8%  lr: 0.019359  loss: 0.006602  eta: 0h4m  tot: 0h7m58s  (61.4%)\rEpoch: 6.8%  lr: 0.019329  loss: 0.006603  eta: 0h4m  tot: 0h7m59s  (61.4%)\rEpoch: 6.9%  lr: 0.019329  loss: 0.006677  eta: 0h4m  tot: 0h7m59s  (61.4%)\rEpoch: 7.0%  lr: 0.019329  loss: 0.006704  eta: 0h4m  tot: 0h7m59s  (61.4%)\rEpoch: 7.1%  lr: 0.019309  loss: 0.006696  eta: 0h4m  tot: 0h7m59s  (61.4%)\rEpoch: 7.2%  lr: 0.019309  loss: 0.006690  eta: 0h4m  tot: 0h7m59s  (61.4%)\rEpoch: 7.3%  lr: 0.019299  loss: 0.006683  eta: 0h4m  tot: 0h7m59s  (61.5%)\rEpoch: 7.4%  lr: 0.019269  loss: 0.006687  eta: 0h4m  tot: 0h7m59s  (61.5%)\rEpoch: 7.5%  lr: 0.019259  loss: 0.006654  eta: 0h4m  tot: 0h7m59s  (61.5%)\rEpoch: 7.6%  lr: 0.019259  loss: 0.006629  eta: 0h4m  tot: 0h8m0s  (61.5%)\rEpoch: 7.7%  lr: 0.019239  loss: 0.006577  eta: 0h4m  tot: 0h8m0s  (61.5%)\rEpoch: 7.7%  lr: 0.019239  loss: 0.006591  eta: 0h4m  tot: 0h8m0s  (61.5%)\rEpoch: 7.8%  lr: 0.019239  loss: 0.006631  eta: 0h4m  tot: 0h8m0s  (61.6%)\rEpoch: 7.9%  lr: 0.019229  loss: 0.006596  eta: 0h4m  tot: 0h8m0s  (61.6%)\rEpoch: 8.0%  lr: 0.019229  loss: 0.006542  eta: 0h4m  tot: 0h8m0s  (61.6%)\rEpoch: 8.1%  lr: 0.019229  loss: 0.006538  eta: 0h4m  tot: 0h8m0s  (61.6%)\rEpoch: 8.2%  lr: 0.019199  loss: 0.006486  eta: 0h4m  tot: 0h8m0s  (61.6%)\rEpoch: 8.3%  lr: 0.019189  loss: 0.006497  eta: 0h4m  tot: 0h8m1s  (61.7%)\rEpoch: 8.4%  lr: 0.019189  loss: 0.006576  eta: 0h4m  tot: 0h8m1s  (61.7%)\rEpoch: 8.5%  lr: 0.019189  loss: 0.006593  eta: 0h4m  tot: 0h8m1s  (61.7%)\rEpoch: 8.6%  lr: 0.019179  loss: 0.006702  eta: 0h4m  tot: 0h8m1s  (61.7%)\rEpoch: 8.6%  lr: 0.019169  loss: 0.006740  eta: 0h4m  tot: 0h8m1s  (61.7%)\rEpoch: 8.7%  lr: 0.019149  loss: 0.006761  eta: 0h4m  tot: 0h8m1s  (61.7%)\rEpoch: 8.8%  lr: 0.019129  loss: 0.006791  eta: 0h4m  tot: 0h8m1s  (61.8%)\rEpoch: 8.9%  lr: 0.019109  loss: 0.006857  eta: 0h4m  tot: 0h8m2s  (61.8%)\rEpoch: 9.0%  lr: 0.019079  loss: 0.006920  eta: 0h4m  tot: 0h8m2s  (61.8%)\rEpoch: 9.1%  lr: 0.019079  loss: 0.006961  eta: 0h4m  tot: 0h8m2s  (61.8%)\rEpoch: 9.2%  lr: 0.019059  loss: 0.006930  eta: 0h4m  tot: 0h8m2s  (61.8%)\rEpoch: 9.3%  lr: 0.019049  loss: 0.006883  eta: 0h4m  tot: 0h8m2s  (61.9%)\rEpoch: 9.4%  lr: 0.019039  loss: 0.006893  eta: 0h4m  tot: 0h8m2s  (61.9%)\rEpoch: 9.5%  lr: 0.019039  loss: 0.006865  eta: 0h4m  tot: 0h8m2s  (61.9%)\rEpoch: 9.5%  lr: 0.019009  loss: 0.006850  eta: 0h4m  tot: 0h8m3s  (61.9%)\rEpoch: 9.6%  lr: 0.018989  loss: 0.006878  eta: 0h4m  tot: 0h8m3s  (61.9%)\rEpoch: 9.7%  lr: 0.018979  loss: 0.006867  eta: 0h4m  tot: 0h8m3s  (61.9%)\rEpoch: 9.8%  lr: 0.018969  loss: 0.006876  eta: 0h4m  tot: 0h8m3s  (62.0%)\rEpoch: 9.9%  lr: 0.018949  loss: 0.006860  eta: 0h4m  tot: 0h8m3s  (62.0%)\rEpoch: 10.0%  lr: 0.018949  loss: 0.006828  eta: 0h4m  tot: 0h8m3s  (62.0%)\rEpoch: 10.1%  lr: 0.018939  loss: 0.006798  eta: 0h4m  tot: 0h8m3s  (62.0%)\rEpoch: 10.2%  lr: 0.018929  loss: 0.006784  eta: 0h4m  tot: 0h8m3s  (62.0%)\rEpoch: 10.3%  lr: 0.018909  loss: 0.006762  eta: 0h4m  tot: 0h8m4s  (62.1%)\rEpoch: 10.4%  lr: 0.018909  loss: 0.006734  eta: 0h4m  tot: 0h8m4s  (62.1%)\rEpoch: 10.4%  lr: 0.018899  loss: 0.006722  eta: 0h4m  tot: 0h8m4s  (62.1%)\rEpoch: 10.5%  lr: 0.018889  loss: 0.006781  eta: 0h4m  tot: 0h8m4s  (62.1%)\rEpoch: 10.6%  lr: 0.018879  loss: 0.006855  eta: 0h4m  tot: 0h8m4s  (62.1%)\rEpoch: 10.7%  lr: 0.018879  loss: 0.006849  eta: 0h4m  tot: 0h8m4s  (62.1%)\rEpoch: 10.8%  lr: 0.018869  loss: 0.006842  eta: 0h4m  tot: 0h8m4s  (62.2%)\rEpoch: 10.9%  lr: 0.018869  loss: 0.006834  eta: 0h4m  tot: 0h8m5s  (62.2%)\rEpoch: 11.0%  lr: 0.018869  loss: 0.006808  eta: 0h4m  tot: 0h8m5s  (62.2%)\rEpoch: 11.1%  lr: 0.018849  loss: 0.006803  eta: 0h4m  tot: 0h8m5s  (62.2%)\rEpoch: 11.2%  lr: 0.018829  loss: 0.006802  eta: 0h4m  tot: 0h8m5s  (62.2%)\rEpoch: 11.3%  lr: 0.018819  loss: 0.006842  eta: 0h4m  tot: 0h8m5s  (62.3%)\rEpoch: 11.3%  lr: 0.018799  loss: 0.006824  eta: 0h4m  tot: 0h8m5s  (62.3%)\rEpoch: 11.4%  lr: 0.018789  loss: 0.006876  eta: 0h4m  tot: 0h8m5s  (62.3%)\rEpoch: 11.5%  lr: 0.018779  loss: 0.006856  eta: 0h4m  tot: 0h8m6s  (62.3%)\rEpoch: 11.6%  lr: 0.018779  loss: 0.006845  eta: 0h4m  tot: 0h8m6s  (62.3%)\rEpoch: 11.7%  lr: 0.018739  loss: 0.006826  eta: 0h4m  tot: 0h8m6s  (62.3%)\rEpoch: 11.8%  lr: 0.018729  loss: 0.006799  eta: 0h4m  tot: 0h8m6s  (62.4%)\rEpoch: 11.9%  lr: 0.018729  loss: 0.006780  eta: 0h4m  tot: 0h8m6s  (62.4%)\rEpoch: 12.0%  lr: 0.018729  loss: 0.006763  eta: 0h4m  tot: 0h8m6s  (62.4%)\rEpoch: 12.1%  lr: 0.018729  loss: 0.006759  eta: 0h4m  tot: 0h8m6s  (62.4%)\rEpoch: 12.2%  lr: 0.018709  loss: 0.006758  eta: 0h4m  tot: 0h8m7s  (62.4%)\rEpoch: 12.2%  lr: 0.018709  loss: 0.006835  eta: 0h4m  tot: 0h8m7s  (62.4%)\rEpoch: 12.3%  lr: 0.018679  loss: 0.006844  eta: 0h4m  tot: 0h8m7s  (62.5%)\rEpoch: 12.4%  lr: 0.018669  loss: 0.006838  eta: 0h4m  tot: 0h8m7s  (62.5%)\rEpoch: 12.5%  lr: 0.018669  loss: 0.006820  eta: 0h4m  tot: 0h8m7s  (62.5%)\rEpoch: 12.6%  lr: 0.018669  loss: 0.006847  eta: 0h4m  tot: 0h8m7s  (62.5%)\rEpoch: 12.7%  lr: 0.018669  loss: 0.006824  eta: 0h4m  tot: 0h8m7s  (62.5%)\rEpoch: 12.8%  lr: 0.018669  loss: 0.006815  eta: 0h4m  tot: 0h8m8s  (62.6%)\rEpoch: 12.9%  lr: 0.018669  loss: 0.006810  eta: 0h4m  tot: 0h8m8s  (62.6%)\rEpoch: 13.0%  lr: 0.018649  loss: 0.006823  eta: 0h4m  tot: 0h8m8s  (62.6%)\rEpoch: 13.1%  lr: 0.018649  loss: 0.006802  eta: 0h4m  tot: 0h8m8s  (62.6%)\rEpoch: 13.1%  lr: 0.018639  loss: 0.006809  eta: 0h4m  tot: 0h8m8s  (62.6%)\rEpoch: 13.2%  lr: 0.018639  loss: 0.006803  eta: 0h4m  tot: 0h8m8s  (62.6%)\rEpoch: 13.3%  lr: 0.018639  loss: 0.006791  eta: 0h4m  tot: 0h8m8s  (62.7%)\rEpoch: 13.4%  lr: 0.018629  loss: 0.006829  eta: 0h4m  tot: 0h8m8s  (62.7%)\rEpoch: 13.5%  lr: 0.018629  loss: 0.006849  eta: 0h4m  tot: 0h8m9s  (62.7%)\rEpoch: 13.6%  lr: 0.018619  loss: 0.006837  eta: 0h4m  tot: 0h8m9s  (62.7%)\rEpoch: 13.7%  lr: 0.018619  loss: 0.006828  eta: 0h4m  tot: 0h8m9s  (62.7%)\rEpoch: 13.8%  lr: 0.018619  loss: 0.006800  eta: 0h4m  tot: 0h8m9s  (62.8%)\rEpoch: 13.9%  lr: 0.018589  loss: 0.006795  eta: 0h4m  tot: 0h8m9s  (62.8%)\rEpoch: 14.0%  lr: 0.018579  loss: 0.006786  eta: 0h4m  tot: 0h8m9s  (62.8%)\rEpoch: 14.0%  lr: 0.018569  loss: 0.006802  eta: 0h4m  tot: 0h8m9s  (62.8%)\rEpoch: 14.1%  lr: 0.018559  loss: 0.006871  eta: 0h4m  tot: 0h8m10s  (62.8%)\rEpoch: 14.2%  lr: 0.018549  loss: 0.006882  eta: 0h4m  tot: 0h8m10s  (62.8%)\rEpoch: 14.3%  lr: 0.018539  loss: 0.006905  eta: 0h4m  tot: 0h8m10s  (62.9%)\rEpoch: 14.4%  lr: 0.018529  loss: 0.006939  eta: 0h4m  tot: 0h8m10s  (62.9%)\rEpoch: 14.5%  lr: 0.018529  loss: 0.006923  eta: 0h4m  tot: 0h8m10s  (62.9%)\rEpoch: 14.6%  lr: 0.018529  loss: 0.006909  eta: 0h4m  tot: 0h8m10s  (62.9%)\rEpoch: 14.7%  lr: 0.018529  loss: 0.006910  eta: 0h4m  tot: 0h8m10s  (62.9%)\rEpoch: 14.8%  lr: 0.018529  loss: 0.006931  eta: 0h4m  tot: 0h8m11s  (63.0%)\rEpoch: 14.9%  lr: 0.018519  loss: 0.006916  eta: 0h4m  tot: 0h8m11s  (63.0%)\rEpoch: 14.9%  lr: 0.018509  loss: 0.006949  eta: 0h4m  tot: 0h8m11s  (63.0%)\rEpoch: 15.0%  lr: 0.018499  loss: 0.006989  eta: 0h4m  tot: 0h8m11s  (63.0%)\rEpoch: 15.1%  lr: 0.018479  loss: 0.007008  eta: 0h4m  tot: 0h8m11s  (63.0%)\rEpoch: 15.2%  lr: 0.018479  loss: 0.007054  eta: 0h4m  tot: 0h8m11s  (63.0%)\rEpoch: 15.3%  lr: 0.018479  loss: 0.007060  eta: 0h4m  tot: 0h8m11s  (63.1%)\rEpoch: 15.4%  lr: 0.018479  loss: 0.007043  eta: 0h4m  tot: 0h8m11s  (63.1%)\rEpoch: 15.5%  lr: 0.018468  loss: 0.007115  eta: 0h4m  tot: 0h8m12s  (63.1%)\rEpoch: 15.6%  lr: 0.018468  loss: 0.007094  eta: 0h4m  tot: 0h8m12s  (63.1%)\rEpoch: 15.7%  lr: 0.018448  loss: 0.007063  eta: 0h4m  tot: 0h8m12s  (63.1%)\rEpoch: 15.8%  lr: 0.018428  loss: 0.007056  eta: 0h4m  tot: 0h8m12s  (63.2%)\rEpoch: 15.8%  lr: 0.018418  loss: 0.007029  eta: 0h4m  tot: 0h8m12s  (63.2%)\rEpoch: 15.9%  lr: 0.018408  loss: 0.007001  eta: 0h4m  tot: 0h8m12s  (63.2%)\rEpoch: 16.0%  lr: 0.018388  loss: 0.007034  eta: 0h4m  tot: 0h8m12s  (63.2%)\rEpoch: 16.1%  lr: 0.018378  loss: 0.007053  eta: 0h4m  tot: 0h8m13s  (63.2%)\rEpoch: 16.2%  lr: 0.018368  loss: 0.007076  eta: 0h4m  tot: 0h8m13s  (63.2%)\rEpoch: 16.3%  lr: 0.018368  loss: 0.007092  eta: 0h4m  tot: 0h8m13s  (63.3%)\rEpoch: 16.4%  lr: 0.018358  loss: 0.007103  eta: 0h4m  tot: 0h8m13s  (63.3%)\rEpoch: 16.5%  lr: 0.018348  loss: 0.007075  eta: 0h4m  tot: 0h8m13s  (63.3%)\rEpoch: 16.6%  lr: 0.018348  loss: 0.007067  eta: 0h4m  tot: 0h8m13s  (63.3%)\rEpoch: 16.7%  lr: 0.018348  loss: 0.007070  eta: 0h4m  tot: 0h8m13s  (63.3%)\rEpoch: 16.7%  lr: 0.018328  loss: 0.007069  eta: 0h4m  tot: 0h8m14s  (63.3%)\rEpoch: 16.8%  lr: 0.018318  loss: 0.007053  eta: 0h4m  tot: 0h8m14s  (63.4%)\rEpoch: 16.9%  lr: 0.018318  loss: 0.007051  eta: 0h4m  tot: 0h8m14s  (63.4%)\rEpoch: 17.0%  lr: 0.018288  loss: 0.007042  eta: 0h4m  tot: 0h8m14s  (63.4%)\rEpoch: 17.1%  lr: 0.018278  loss: 0.007034  eta: 0h4m  tot: 0h8m14s  (63.4%)\rEpoch: 17.2%  lr: 0.018258  loss: 0.007046  eta: 0h4m  tot: 0h8m14s  (63.4%)\rEpoch: 17.3%  lr: 0.018248  loss: 0.007096  eta: 0h4m  tot: 0h8m14s  (63.5%)\rEpoch: 17.4%  lr: 0.018228  loss: 0.007081  eta: 0h4m  tot: 0h8m15s  (63.5%)\rEpoch: 17.5%  lr: 0.018228  loss: 0.007082  eta: 0h4m  tot: 0h8m15s  (63.5%)\rEpoch: 17.6%  lr: 0.018218  loss: 0.007120  eta: 0h4m  tot: 0h8m15s  (63.5%)\rEpoch: 17.6%  lr: 0.018218  loss: 0.007128  eta: 0h4m  tot: 0h8m15s  (63.5%)\rEpoch: 17.7%  lr: 0.018218  loss: 0.007129  eta: 0h4m  tot: 0h8m15s  (63.5%)\rEpoch: 17.8%  lr: 0.018198  loss: 0.007161  eta: 0h4m  tot: 0h8m15s  (63.6%)\rEpoch: 17.9%  lr: 0.018188  loss: 0.007167  eta: 0h4m  tot: 0h8m15s  (63.6%)\rEpoch: 18.0%  lr: 0.018178  loss: 0.007173  eta: 0h4m  tot: 0h8m15s  (63.6%)\rEpoch: 18.1%  lr: 0.018168  loss: 0.007183  eta: 0h4m  tot: 0h8m16s  (63.6%)\rEpoch: 18.2%  lr: 0.018158  loss: 0.007184  eta: 0h4m  tot: 0h8m16s  (63.6%)\rEpoch: 18.3%  lr: 0.018148  loss: 0.007169  eta: 0h4m  tot: 0h8m16s  (63.7%)\rEpoch: 18.4%  lr: 0.018138  loss: 0.007153  eta: 0h4m  tot: 0h8m16s  (63.7%)\rEpoch: 18.5%  lr: 0.018128  loss: 0.007192  eta: 0h4m  tot: 0h8m16s  (63.7%)\rEpoch: 18.5%  lr: 0.018128  loss: 0.007172  eta: 0h4m  tot: 0h8m16s  (63.7%)\rEpoch: 18.6%  lr: 0.018108  loss: 0.007176  eta: 0h4m  tot: 0h8m16s  (63.7%)\rEpoch: 18.7%  lr: 0.018088  loss: 0.007189  eta: 0h4m  tot: 0h8m17s  (63.7%)\rEpoch: 18.8%  lr: 0.018088  loss: 0.007204  eta: 0h4m  tot: 0h8m17s  (63.8%)\rEpoch: 18.9%  lr: 0.018088  loss: 0.007190  eta: 0h4m  tot: 0h8m17s  (63.8%)\rEpoch: 19.0%  lr: 0.018088  loss: 0.007210  eta: 0h4m  tot: 0h8m17s  (63.8%)\rEpoch: 19.1%  lr: 0.018078  loss: 0.007228  eta: 0h4m  tot: 0h8m17s  (63.8%)\rEpoch: 19.2%  lr: 0.018058  loss: 0.007231  eta: 0h4m  tot: 0h8m17s  (63.8%)\rEpoch: 19.3%  lr: 0.018048  loss: 0.007272  eta: 0h4m  tot: 0h8m17s  (63.9%)\rEpoch: 19.4%  lr: 0.018038  loss: 0.007274  eta: 0h4m  tot: 0h8m17s  (63.9%)\rEpoch: 19.4%  lr: 0.018028  loss: 0.007271  eta: 0h4m  tot: 0h8m18s  (63.9%)\rEpoch: 19.5%  lr: 0.018028  loss: 0.007270  eta: 0h4m  tot: 0h8m18s  (63.9%)\rEpoch: 19.6%  lr: 0.018008  loss: 0.007262  eta: 0h4m  tot: 0h8m18s  (63.9%)\rEpoch: 19.7%  lr: 0.017998  loss: 0.007260  eta: 0h4m  tot: 0h8m18s  (63.9%)\rEpoch: 19.8%  lr: 0.017988  loss: 0.007270  eta: 0h4m  tot: 0h8m18s  (64.0%)\rEpoch: 19.9%  lr: 0.017978  loss: 0.007289  eta: 0h4m  tot: 0h8m18s  (64.0%)\rEpoch: 20.0%  lr: 0.017978  loss: 0.007283  eta: 0h4m  tot: 0h8m18s  (64.0%)\rEpoch: 20.1%  lr: 0.017978  loss: 0.007323  eta: 0h4m  tot: 0h8m19s  (64.0%)\rEpoch: 20.2%  lr: 0.017978  loss: 0.007326  eta: 0h4m  tot: 0h8m19s  (64.0%)\rEpoch: 20.3%  lr: 0.017968  loss: 0.007347  eta: 0h4m  tot: 0h8m19s  (64.1%)\rEpoch: 20.3%  lr: 0.017948  loss: 0.007331  eta: 0h4m  tot: 0h8m19s  (64.1%)\rEpoch: 20.4%  lr: 0.017948  loss: 0.007327  eta: 0h4m  tot: 0h8m19s  (64.1%)\rEpoch: 20.5%  lr: 0.017948  loss: 0.007334  eta: 0h4m  tot: 0h8m19s  (64.1%)\rEpoch: 20.6%  lr: 0.017928  loss: 0.007318  eta: 0h4m  tot: 0h8m19s  (64.1%)\rEpoch: 20.7%  lr: 0.017908  loss: 0.007301  eta: 0h4m  tot: 0h8m20s  (64.1%)\rEpoch: 20.8%  lr: 0.017908  loss: 0.007284  eta: 0h4m  tot: 0h8m20s  (64.2%)\rEpoch: 20.9%  lr: 0.017888  loss: 0.007280  eta: 0h4m  tot: 0h8m20s  (64.2%)\rEpoch: 21.0%  lr: 0.017858  loss: 0.007304  eta: 0h4m  tot: 0h8m20s  (64.2%)\rEpoch: 21.1%  lr: 0.017848  loss: 0.007293  eta: 0h4m  tot: 0h8m20s  (64.2%)\rEpoch: 21.2%  lr: 0.017848  loss: 0.007328  eta: 0h4m  tot: 0h8m20s  (64.2%)\rEpoch: 21.2%  lr: 0.017818  loss: 0.007321  eta: 0h4m  tot: 0h8m20s  (64.2%)\rEpoch: 21.3%  lr: 0.017818  loss: 0.007332  eta: 0h4m  tot: 0h8m20s  (64.3%)\rEpoch: 21.4%  lr: 0.017818  loss: 0.007341  eta: 0h4m  tot: 0h8m21s  (64.3%)\rEpoch: 21.5%  lr: 0.017808  loss: 0.007353  eta: 0h4m  tot: 0h8m21s  (64.3%)\rEpoch: 21.6%  lr: 0.017808  loss: 0.007327  eta: 0h4m  tot: 0h8m21s  (64.3%)\rEpoch: 21.7%  lr: 0.017808  loss: 0.007320  eta: 0h4m  tot: 0h8m21s  (64.3%)\rEpoch: 21.8%  lr: 0.017798  loss: 0.007294  eta: 0h4m  tot: 0h8m21s  (64.4%)\rEpoch: 21.9%  lr: 0.017768  loss: 0.007283  eta: 0h4m  tot: 0h8m21s  (64.4%)\rEpoch: 22.0%  lr: 0.017748  loss: 0.007303  eta: 0h4m  tot: 0h8m21s  (64.4%)\rEpoch: 22.1%  lr: 0.017748  loss: 0.007307  eta: 0h4m  tot: 0h8m22s  (64.4%)\rEpoch: 22.1%  lr: 0.017728  loss: 0.007330  eta: 0h4m  tot: 0h8m22s  (64.4%)\rEpoch: 22.2%  lr: 0.017708  loss: 0.007344  eta: 0h4m  tot: 0h8m22s  (64.4%)\rEpoch: 22.3%  lr: 0.017688  loss: 0.007333  eta: 0h4m  tot: 0h8m22s  (64.5%)\rEpoch: 22.4%  lr: 0.017688  loss: 0.007337  eta: 0h4m  tot: 0h8m22s  (64.5%)\rEpoch: 22.5%  lr: 0.017668  loss: 0.007334  eta: 0h4m  tot: 0h8m22s  (64.5%)\rEpoch: 22.6%  lr: 0.017668  loss: 0.007358  eta: 0h4m  tot: 0h8m22s  (64.5%)\rEpoch: 22.7%  lr: 0.017668  loss: 0.007362  eta: 0h4m  tot: 0h8m23s  (64.5%)\rEpoch: 22.8%  lr: 0.017638  loss: 0.007376  eta: 0h4m  tot: 0h8m23s  (64.6%)\rEpoch: 22.9%  lr: 0.017638  loss: 0.007365  eta: 0h4m  tot: 0h8m23s  (64.6%)\rEpoch: 23.0%  lr: 0.017638  loss: 0.007350  eta: 0h4m  tot: 0h8m23s  (64.6%)\rEpoch: 23.0%  lr: 0.017608  loss: 0.007386  eta: 0h4m  tot: 0h8m23s  (64.6%)\rEpoch: 23.1%  lr: 0.017588  loss: 0.007384  eta: 0h4m  tot: 0h8m23s  (64.6%)\rEpoch: 23.2%  lr: 0.017558  loss: 0.007375  eta: 0h4m  tot: 0h8m23s  (64.6%)\rEpoch: 23.3%  lr: 0.017558  loss: 0.007422  eta: 0h4m  tot: 0h8m23s  (64.7%)\rEpoch: 23.4%  lr: 0.017558  loss: 0.007422  eta: 0h4m  tot: 0h8m24s  (64.7%)\rEpoch: 23.5%  lr: 0.017558  loss: 0.007419  eta: 0h4m  tot: 0h8m24s  (64.7%)\rEpoch: 23.6%  lr: 0.017548  loss: 0.007436  eta: 0h4m  tot: 0h8m24s  (64.7%)\rEpoch: 23.7%  lr: 0.017518  loss: 0.007438  eta: 0h4m  tot: 0h8m24s  (64.7%)\rEpoch: 23.8%  lr: 0.017508  loss: 0.007424  eta: 0h4m  tot: 0h8m24s  (64.8%)\rEpoch: 23.9%  lr: 0.017478  loss: 0.007440  eta: 0h4m  tot: 0h8m24s  (64.8%)\rEpoch: 23.9%  lr: 0.017478  loss: 0.007452  eta: 0h4m  tot: 0h8m24s  (64.8%)\rEpoch: 24.0%  lr: 0.017468  loss: 0.007454  eta: 0h4m  tot: 0h8m25s  (64.8%)\rEpoch: 24.1%  lr: 0.017437  loss: 0.007469  eta: 0h4m  tot: 0h8m25s  (64.8%)\rEpoch: 24.2%  lr: 0.017417  loss: 0.007480  eta: 0h4m  tot: 0h8m25s  (64.8%)\rEpoch: 24.3%  lr: 0.017407  loss: 0.007489  eta: 0h4m  tot: 0h8m25s  (64.9%)\rEpoch: 24.4%  lr: 0.017367  loss: 0.007483  eta: 0h4m  tot: 0h8m25s  (64.9%)\rEpoch: 24.5%  lr: 0.017367  loss: 0.007470  eta: 0h4m  tot: 0h8m25s  (64.9%)\rEpoch: 24.6%  lr: 0.017367  loss: 0.007474  eta: 0h4m  tot: 0h8m25s  (64.9%)\rEpoch: 24.7%  lr: 0.017347  loss: 0.007463  eta: 0h4m  tot: 0h8m26s  (64.9%)\rEpoch: 24.8%  lr: 0.017337  loss: 0.007470  eta: 0h4m  tot: 0h8m26s  (65.0%)\rEpoch: 24.8%  lr: 0.017337  loss: 0.007471  eta: 0h4m  tot: 0h8m26s  (65.0%)\rEpoch: 24.9%  lr: 0.017327  loss: 0.007486  eta: 0h4m  tot: 0h8m26s  (65.0%)\rEpoch: 25.0%  lr: 0.017327  loss: 0.007471  eta: 0h4m  tot: 0h8m26s  (65.0%)\rEpoch: 25.1%  lr: 0.017327  loss: 0.007493  eta: 0h4m  tot: 0h8m26s  (65.0%)\rEpoch: 25.2%  lr: 0.017327  loss: 0.007495  eta: 0h4m  tot: 0h8m26s  (65.0%)\rEpoch: 25.3%  lr: 0.017317  loss: 0.007502  eta: 0h4m  tot: 0h8m26s  (65.1%)\rEpoch: 25.4%  lr: 0.017317  loss: 0.007496  eta: 0h4m  tot: 0h8m27s  (65.1%)\rEpoch: 25.5%  lr: 0.017317  loss: 0.007482  eta: 0h4m  tot: 0h8m27s  (65.1%)\rEpoch: 25.6%  lr: 0.017317  loss: 0.007494  eta: 0h4m  tot: 0h8m27s  (65.1%)\rEpoch: 25.7%  lr: 0.017287  loss: 0.007482  eta: 0h4m  tot: 0h8m27s  (65.1%)\rEpoch: 25.7%  lr: 0.017277  loss: 0.007481  eta: 0h4m  tot: 0h8m27s  (65.1%)\rEpoch: 25.8%  lr: 0.017267  loss: 0.007470  eta: 0h4m  tot: 0h8m27s  (65.2%)\rEpoch: 25.9%  lr: 0.017257  loss: 0.007458  eta: 0h4m  tot: 0h8m27s  (65.2%)\rEpoch: 26.0%  lr: 0.017257  loss: 0.007449  eta: 0h4m  tot: 0h8m28s  (65.2%)\rEpoch: 26.1%  lr: 0.017257  loss: 0.007439  eta: 0h4m  tot: 0h8m28s  (65.2%)\rEpoch: 26.2%  lr: 0.017247  loss: 0.007446  eta: 0h4m  tot: 0h8m28s  (65.2%)\rEpoch: 26.3%  lr: 0.017247  loss: 0.007436  eta: 0h4m  tot: 0h8m28s  (65.3%)\rEpoch: 26.4%  lr: 0.017247  loss: 0.007427  eta: 0h4m  tot: 0h8m28s  (65.3%)\rEpoch: 26.5%  lr: 0.017247  loss: 0.007435  eta: 0h4m  tot: 0h8m28s  (65.3%)\rEpoch: 26.6%  lr: 0.017247  loss: 0.007434  eta: 0h4m  tot: 0h8m28s  (65.3%)\rEpoch: 26.6%  lr: 0.017227  loss: 0.007432  eta: 0h4m  tot: 0h8m28s  (65.3%)\rEpoch: 26.7%  lr: 0.017217  loss: 0.007430  eta: 0h4m  tot: 0h8m29s  (65.3%)\rEpoch: 26.8%  lr: 0.017217  loss: 0.007418  eta: 0h4m  tot: 0h8m29s  (65.4%)\rEpoch: 26.9%  lr: 0.017197  loss: 0.007423  eta: 0h4m  tot: 0h8m29s  (65.4%)\rEpoch: 27.0%  lr: 0.017197  loss: 0.007441  eta: 0h4m  tot: 0h8m29s  (65.4%)\rEpoch: 27.1%  lr: 0.017187  loss: 0.007431  eta: 0h4m  tot: 0h8m29s  (65.4%)\rEpoch: 27.2%  lr: 0.017177  loss: 0.007421  eta: 0h4m  tot: 0h8m29s  (65.4%)\rEpoch: 27.3%  lr: 0.017157  loss: 0.007426  eta: 0h4m  tot: 0h8m29s  (65.5%)\rEpoch: 27.4%  lr: 0.017147  loss: 0.007428  eta: 0h4m  tot: 0h8m30s  (65.5%)\rEpoch: 27.5%  lr: 0.017137  loss: 0.007428  eta: 0h4m  tot: 0h8m30s  (65.5%)\rEpoch: 27.5%  lr: 0.017127  loss: 0.007417  eta: 0h4m  tot: 0h8m30s  (65.5%)\rEpoch: 27.6%  lr: 0.017127  loss: 0.007419  eta: 0h4m  tot: 0h8m30s  (65.5%)\rEpoch: 27.7%  lr: 0.017127  loss: 0.007415  eta: 0h4m  tot: 0h8m30s  (65.5%)\rEpoch: 27.8%  lr: 0.017127  loss: 0.007405  eta: 0h4m  tot: 0h8m30s  (65.6%)\rEpoch: 27.9%  lr: 0.017127  loss: 0.007396  eta: 0h4m  tot: 0h8m30s  (65.6%)\rEpoch: 28.0%  lr: 0.017117  loss: 0.007389  eta: 0h4m  tot: 0h8m30s  (65.6%)\rEpoch: 28.1%  lr: 0.017117  loss: 0.007394  eta: 0h4m  tot: 0h8m31s  (65.6%)\rEpoch: 28.2%  lr: 0.017117  loss: 0.007387  eta: 0h4m  tot: 0h8m31s  (65.6%)\rEpoch: 28.3%  lr: 0.017117  loss: 0.007378  eta: 0h4m  tot: 0h8m31s  (65.7%)\rEpoch: 28.4%  lr: 0.017117  loss: 0.007359  eta: 0h4m  tot: 0h8m31s  (65.7%)\rEpoch: 28.4%  lr: 0.017107  loss: 0.007342  eta: 0h4m  tot: 0h8m31s  (65.7%)\rEpoch: 28.5%  lr: 0.017107  loss: 0.007343  eta: 0h4m  tot: 0h8m31s  (65.7%)\rEpoch: 28.6%  lr: 0.017097  loss: 0.007327  eta: 0h4m  tot: 0h8m31s  (65.7%)\rEpoch: 28.7%  lr: 0.017067  loss: 0.007357  eta: 0h4m  tot: 0h8m32s  (65.7%)\rEpoch: 28.8%  lr: 0.017047  loss: 0.007338  eta: 0h4m  tot: 0h8m32s  (65.8%)\rEpoch: 28.9%  lr: 0.017047  loss: 0.007352  eta: 0h4m  tot: 0h8m32s  (65.8%)\rEpoch: 29.0%  lr: 0.017037  loss: 0.007347  eta: 0h4m  tot: 0h8m32s  (65.8%)\rEpoch: 29.1%  lr: 0.017027  loss: 0.007343  eta: 0h4m  tot: 0h8m32s  (65.8%)\rEpoch: 29.2%  lr: 0.016997  loss: 0.007342  eta: 0h4m  tot: 0h8m32s  (65.8%)\rEpoch: 29.3%  lr: 0.016987  loss: 0.007328  eta: 0h4m  tot: 0h8m32s  (65.9%)\rEpoch: 29.3%  lr: 0.016977  loss: 0.007329  eta: 0h4m  tot: 0h8m32s  (65.9%)\rEpoch: 29.4%  lr: 0.016977  loss: 0.007323  eta: 0h4m  tot: 0h8m33s  (65.9%)\rEpoch: 29.5%  lr: 0.016947  loss: 0.007317  eta: 0h4m  tot: 0h8m33s  (65.9%)\rEpoch: 29.6%  lr: 0.016937  loss: 0.007377  eta: 0h4m  tot: 0h8m33s  (65.9%)\rEpoch: 29.7%  lr: 0.016937  loss: 0.007367  eta: 0h4m  tot: 0h8m33s  (65.9%)\rEpoch: 29.8%  lr: 0.016927  loss: 0.007367  eta: 0h4m  tot: 0h8m33s  (66.0%)\rEpoch: 29.9%  lr: 0.016927  loss: 0.007359  eta: 0h4m  tot: 0h8m33s  (66.0%)\rEpoch: 30.0%  lr: 0.016927  loss: 0.007350  eta: 0h4m  tot: 0h8m33s  (66.0%)\rEpoch: 30.1%  lr: 0.016917  loss: 0.007365  eta: 0h4m  tot: 0h8m34s  (66.0%)\rEpoch: 30.2%  lr: 0.016917  loss: 0.007352  eta: 0h4m  tot: 0h8m34s  (66.0%)\rEpoch: 30.2%  lr: 0.016917  loss: 0.007342  eta: 0h4m  tot: 0h8m34s  (66.0%)\rEpoch: 30.3%  lr: 0.016887  loss: 0.007343  eta: 0h4m  tot: 0h8m34s  (66.1%)\rEpoch: 30.4%  lr: 0.016877  loss: 0.007346  eta: 0h4m  tot: 0h8m34s  (66.1%)\rEpoch: 30.5%  lr: 0.016877  loss: 0.007351  eta: 0h4m  tot: 0h8m34s  (66.1%)\rEpoch: 30.6%  lr: 0.016867  loss: 0.007352  eta: 0h4m  tot: 0h8m34s  (66.1%)\rEpoch: 30.7%  lr: 0.016867  loss: 0.007353  eta: 0h4m  tot: 0h8m34s  (66.1%)\rEpoch: 30.8%  lr: 0.016857  loss: 0.007366  eta: 0h4m  tot: 0h8m35s  (66.2%)\rEpoch: 30.9%  lr: 0.016827  loss: 0.007366  eta: 0h4m  tot: 0h8m35s  (66.2%)\rEpoch: 31.0%  lr: 0.016827  loss: 0.007370  eta: 0h4m  tot: 0h8m35s  (66.2%)\rEpoch: 31.1%  lr: 0.016827  loss: 0.007361  eta: 0h4m  tot: 0h8m35s  (66.2%)\rEpoch: 31.1%  lr: 0.016807  loss: 0.007355  eta: 0h4m  tot: 0h8m35s  (66.2%)\rEpoch: 31.2%  lr: 0.016807  loss: 0.007345  eta: 0h4m  tot: 0h8m35s  (66.2%)\rEpoch: 31.3%  lr: 0.016807  loss: 0.007349  eta: 0h4m  tot: 0h8m35s  (66.3%)\rEpoch: 31.4%  lr: 0.016787  loss: 0.007345  eta: 0h4m  tot: 0h8m36s  (66.3%)\rEpoch: 31.5%  lr: 0.016777  loss: 0.007341  eta: 0h4m  tot: 0h8m36s  (66.3%)\rEpoch: 31.6%  lr: 0.016767  loss: 0.007332  eta: 0h4m  tot: 0h8m36s  (66.3%)\rEpoch: 31.7%  lr: 0.016757  loss: 0.007346  eta: 0h4m  tot: 0h8m36s  (66.3%)\rEpoch: 31.8%  lr: 0.016747  loss: 0.007360  eta: 0h4m  tot: 0h8m36s  (66.4%)\rEpoch: 31.9%  lr: 0.016747  loss: 0.007368  eta: 0h4m  tot: 0h8m36s  (66.4%)\rEpoch: 32.0%  lr: 0.016747  loss: 0.007377  eta: 0h4m  tot: 0h8m36s  (66.4%)\rEpoch: 32.0%  lr: 0.016747  loss: 0.007372  eta: 0h4m  tot: 0h8m37s  (66.4%)\rEpoch: 32.1%  lr: 0.016717  loss: 0.007396  eta: 0h4m  tot: 0h8m37s  (66.4%)\rEpoch: 32.2%  lr: 0.016717  loss: 0.007413  eta: 0h4m  tot: 0h8m37s  (66.4%)\rEpoch: 32.3%  lr: 0.016717  loss: 0.007408  eta: 0h4m  tot: 0h8m37s  (66.5%)\rEpoch: 32.4%  lr: 0.016697  loss: 0.007402  eta: 0h4m  tot: 0h8m37s  (66.5%)\rEpoch: 32.5%  lr: 0.016697  loss: 0.007399  eta: 0h4m  tot: 0h8m37s  (66.5%)\rEpoch: 32.6%  lr: 0.016697  loss: 0.007418  eta: 0h4m  tot: 0h8m37s  (66.5%)\rEpoch: 32.7%  lr: 0.016697  loss: 0.007434  eta: 0h4m  tot: 0h8m37s  (66.5%)\rEpoch: 32.8%  lr: 0.016687  loss: 0.007440  eta: 0h4m  tot: 0h8m38s  (66.6%)\rEpoch: 32.9%  lr: 0.016667  loss: 0.007432  eta: 0h4m  tot: 0h8m38s  (66.6%)\rEpoch: 32.9%  lr: 0.016657  loss: 0.007433  eta: 0h4m  tot: 0h8m38s  (66.6%)\rEpoch: 33.0%  lr: 0.016647  loss: 0.007436  eta: 0h4m  tot: 0h8m38s  (66.6%)\rEpoch: 33.1%  lr: 0.016647  loss: 0.007445  eta: 0h4m  tot: 0h8m38s  (66.6%)\rEpoch: 33.2%  lr: 0.016627  loss: 0.007443  eta: 0h4m  tot: 0h8m38s  (66.6%)\rEpoch: 33.3%  lr: 0.016627  loss: 0.007446  eta: 0h4m  tot: 0h8m38s  (66.7%)\rEpoch: 33.4%  lr: 0.016617  loss: 0.007451  eta: 0h4m  tot: 0h8m39s  (66.7%)\rEpoch: 33.5%  lr: 0.016597  loss: 0.007440  eta: 0h4m  tot: 0h8m39s  (66.7%)\rEpoch: 33.6%  lr: 0.016577  loss: 0.007432  eta: 0h4m  tot: 0h8m39s  (66.7%)\rEpoch: 33.7%  lr: 0.016547  loss: 0.007425  eta: 0h4m  tot: 0h8m39s  (66.7%)\rEpoch: 33.8%  lr: 0.016547  loss: 0.007431  eta: 0h4m  tot: 0h8m39s  (66.8%)\rEpoch: 33.8%  lr: 0.016527  loss: 0.007417  eta: 0h4m  tot: 0h8m39s  (66.8%)\rEpoch: 33.9%  lr: 0.016507  loss: 0.007419  eta: 0h4m  tot: 0h8m39s  (66.8%)\rEpoch: 34.0%  lr: 0.016487  loss: 0.007410  eta: 0h4m  tot: 0h8m40s  (66.8%)\rEpoch: 34.1%  lr: 0.016487  loss: 0.007406  eta: 0h4m  tot: 0h8m40s  (66.8%)\rEpoch: 34.2%  lr: 0.016487  loss: 0.007418  eta: 0h4m  tot: 0h8m40s  (66.8%)\rEpoch: 34.3%  lr: 0.016477  loss: 0.007414  eta: 0h4m  tot: 0h8m40s  (66.9%)\rEpoch: 34.4%  lr: 0.016477  loss: 0.007419  eta: 0h4m  tot: 0h8m40s  (66.9%)\rEpoch: 34.5%  lr: 0.016457  loss: 0.007433  eta: 0h4m  tot: 0h8m40s  (66.9%)\rEpoch: 34.6%  lr: 0.016447  loss: 0.007426  eta: 0h4m  tot: 0h8m40s  (66.9%)\rEpoch: 34.7%  lr: 0.016436  loss: 0.007443  eta: 0h4m  tot: 0h8m40s  (66.9%)\rEpoch: 34.7%  lr: 0.016406  loss: 0.007452  eta: 0h4m  tot: 0h8m41s  (66.9%)\rEpoch: 34.8%  lr: 0.016406  loss: 0.007447  eta: 0h4m  tot: 0h8m41s  (67.0%)\rEpoch: 34.9%  lr: 0.016386  loss: 0.007439  eta: 0h4m  tot: 0h8m41s  (67.0%)\rEpoch: 35.0%  lr: 0.016376  loss: 0.007463  eta: 0h4m  tot: 0h8m41s  (67.0%)\rEpoch: 35.1%  lr: 0.016366  loss: 0.007449  eta: 0h4m  tot: 0h8m41s  (67.0%)\rEpoch: 35.2%  lr: 0.016366  loss: 0.007456  eta: 0h4m  tot: 0h8m41s  (67.0%)\rEpoch: 35.3%  lr: 0.016366  loss: 0.007455  eta: 0h4m  tot: 0h8m41s  (67.1%)\rEpoch: 35.4%  lr: 0.016366  loss: 0.007446  eta: 0h4m  tot: 0h8m41s  (67.1%)\rEpoch: 35.5%  lr: 0.016356  loss: 0.007442  eta: 0h4m  tot: 0h8m42s  (67.1%)\rEpoch: 35.6%  lr: 0.016346  loss: 0.007459  eta: 0h4m  tot: 0h8m42s  (67.1%)\rEpoch: 35.6%  lr: 0.016336  loss: 0.007450  eta: 0h4m  tot: 0h8m42s  (67.1%)\rEpoch: 35.7%  lr: 0.016316  loss: 0.007453  eta: 0h4m  tot: 0h8m42s  (67.1%)\rEpoch: 35.8%  lr: 0.016306  loss: 0.007449  eta: 0h4m  tot: 0h8m42s  (67.2%)\rEpoch: 35.9%  lr: 0.016306  loss: 0.007442  eta: 0h4m  tot: 0h8m42s  (67.2%)\rEpoch: 36.0%  lr: 0.016296  loss: 0.007433  eta: 0h4m  tot: 0h8m42s  (67.2%)\rEpoch: 36.1%  lr: 0.016286  loss: 0.007434  eta: 0h4m  tot: 0h8m43s  (67.2%)\rEpoch: 36.2%  lr: 0.016276  loss: 0.007419  eta: 0h4m  tot: 0h8m43s  (67.2%)\rEpoch: 36.3%  lr: 0.016276  loss: 0.007416  eta: 0h4m  tot: 0h8m43s  (67.3%)\rEpoch: 36.4%  lr: 0.016256  loss: 0.007410  eta: 0h4m  tot: 0h8m43s  (67.3%)\rEpoch: 36.5%  lr: 0.016256  loss: 0.007412  eta: 0h4m  tot: 0h8m43s  (67.3%)\rEpoch: 36.5%  lr: 0.016226  loss: 0.007399  eta: 0h4m  tot: 0h8m43s  (67.3%)\rEpoch: 36.6%  lr: 0.016206  loss: 0.007403  eta: 0h4m  tot: 0h8m43s  (67.3%)\rEpoch: 36.7%  lr: 0.016206  loss: 0.007390  eta: 0h4m  tot: 0h8m44s  (67.3%)\rEpoch: 36.8%  lr: 0.016206  loss: 0.007388  eta: 0h4m  tot: 0h8m44s  (67.4%)\rEpoch: 36.9%  lr: 0.016206  loss: 0.007386  eta: 0h4m  tot: 0h8m44s  (67.4%)\rEpoch: 37.0%  lr: 0.016196  loss: 0.007388  eta: 0h4m  tot: 0h8m44s  (67.4%)\rEpoch: 37.1%  lr: 0.016186  loss: 0.007400  eta: 0h4m  tot: 0h8m44s  (67.4%)\rEpoch: 37.2%  lr: 0.016166  loss: 0.007395  eta: 0h4m  tot: 0h8m44s  (67.4%)\rEpoch: 37.3%  lr: 0.016156  loss: 0.007388  eta: 0h4m  tot: 0h8m44s  (67.5%)\rEpoch: 37.4%  lr: 0.016156  loss: 0.007408  eta: 0h4m  tot: 0h8m44s  (67.5%)\rEpoch: 37.4%  lr: 0.016156  loss: 0.007414  eta: 0h4m  tot: 0h8m45s  (67.5%)\rEpoch: 37.5%  lr: 0.016156  loss: 0.007407  eta: 0h4m  tot: 0h8m45s  (67.5%)\rEpoch: 37.6%  lr: 0.016146  loss: 0.007406  eta: 0h4m  tot: 0h8m45s  (67.5%)\rEpoch: 37.7%  lr: 0.016136  loss: 0.007410  eta: 0h4m  tot: 0h8m45s  (67.5%)\rEpoch: 37.8%  lr: 0.016136  loss: 0.007403  eta: 0h4m  tot: 0h8m45s  (67.6%)\rEpoch: 37.9%  lr: 0.016126  loss: 0.007413  eta: 0h4m  tot: 0h8m45s  (67.6%)\rEpoch: 38.0%  lr: 0.016126  loss: 0.007414  eta: 0h4m  tot: 0h8m45s  (67.6%)\rEpoch: 38.1%  lr: 0.016116  loss: 0.007409  eta: 0h4m  tot: 0h8m46s  (67.6%)\rEpoch: 38.2%  lr: 0.016106  loss: 0.007399  eta: 0h4m  tot: 0h8m46s  (67.6%)\rEpoch: 38.3%  lr: 0.016106  loss: 0.007398  eta: 0h4m  tot: 0h8m46s  (67.7%)\rEpoch: 38.3%  lr: 0.016106  loss: 0.007399  eta: 0h4m  tot: 0h8m46s  (67.7%)\rEpoch: 38.4%  lr: 0.016106  loss: 0.007388  eta: 0h4m  tot: 0h8m46s  (67.7%)\rEpoch: 38.5%  lr: 0.016106  loss: 0.007384  eta: 0h4m  tot: 0h8m46s  (67.7%)\rEpoch: 38.6%  lr: 0.016086  loss: 0.007400  eta: 0h4m  tot: 0h8m46s  (67.7%)\rEpoch: 38.7%  lr: 0.016076  loss: 0.007389  eta: 0h4m  tot: 0h8m47s  (67.7%)\rEpoch: 38.8%  lr: 0.016046  loss: 0.007417  eta: 0h4m  tot: 0h8m47s  (67.8%)\rEpoch: 38.9%  lr: 0.016036  loss: 0.007418  eta: 0h4m  tot: 0h8m47s  (67.8%)\rEpoch: 39.0%  lr: 0.016016  loss: 0.007416  eta: 0h4m  tot: 0h8m47s  (67.8%)\rEpoch: 39.1%  lr: 0.015996  loss: 0.007411  eta: 0h4m  tot: 0h8m47s  (67.8%)\rEpoch: 39.2%  lr: 0.015986  loss: 0.007432  eta: 0h4m  tot: 0h8m47s  (67.8%)\rEpoch: 39.2%  lr: 0.015976  loss: 0.007437  eta: 0h4m  tot: 0h8m47s  (67.8%)\rEpoch: 39.3%  lr: 0.015976  loss: 0.007442  eta: 0h4m  tot: 0h8m48s  (67.9%)\rEpoch: 39.4%  lr: 0.015976  loss: 0.007433  eta: 0h4m  tot: 0h8m48s  (67.9%)\rEpoch: 39.5%  lr: 0.015976  loss: 0.007425  eta: 0h4m  tot: 0h8m48s  (67.9%)\rEpoch: 39.6%  lr: 0.015976  loss: 0.007422  eta: 0h3m  tot: 0h8m48s  (67.9%)\rEpoch: 39.7%  lr: 0.015966  loss: 0.007409  eta: 0h3m  tot: 0h8m48s  (67.9%)\rEpoch: 39.8%  lr: 0.015956  loss: 0.007403  eta: 0h3m  tot: 0h8m48s  (68.0%)\rEpoch: 39.9%  lr: 0.015956  loss: 0.007403  eta: 0h3m  tot: 0h8m48s  (68.0%)\rEpoch: 40.0%  lr: 0.015936  loss: 0.007411  eta: 0h3m  tot: 0h8m49s  (68.0%)\rEpoch: 40.1%  lr: 0.015936  loss: 0.007409  eta: 0h3m  tot: 0h8m49s  (68.0%)\rEpoch: 40.1%  lr: 0.015926  loss: 0.007410  eta: 0h3m  tot: 0h8m49s  (68.0%)\rEpoch: 40.2%  lr: 0.015926  loss: 0.007411  eta: 0h3m  tot: 0h8m49s  (68.0%)\rEpoch: 40.3%  lr: 0.015916  loss: 0.007406  eta: 0h3m  tot: 0h8m49s  (68.1%)\rEpoch: 40.4%  lr: 0.015916  loss: 0.007400  eta: 0h3m  tot: 0h8m49s  (68.1%)\rEpoch: 40.5%  lr: 0.015906  loss: 0.007385  eta: 0h3m  tot: 0h8m49s  (68.1%)\rEpoch: 40.6%  lr: 0.015906  loss: 0.007384  eta: 0h3m  tot: 0h8m49s  (68.1%)\rEpoch: 40.7%  lr: 0.015906  loss: 0.007398  eta: 0h3m  tot: 0h8m50s  (68.1%)\rEpoch: 40.8%  lr: 0.015906  loss: 0.007402  eta: 0h3m  tot: 0h8m50s  (68.2%)\rEpoch: 40.9%  lr: 0.015906  loss: 0.007420  eta: 0h3m  tot: 0h8m50s  (68.2%)\rEpoch: 41.0%  lr: 0.015906  loss: 0.007407  eta: 0h3m  tot: 0h8m50s  (68.2%)\rEpoch: 41.0%  lr: 0.015906  loss: 0.007407  eta: 0h3m  tot: 0h8m50s  (68.2%)\rEpoch: 41.1%  lr: 0.015886  loss: 0.007400  eta: 0h3m  tot: 0h8m50s  (68.2%)\rEpoch: 41.2%  lr: 0.015866  loss: 0.007392  eta: 0h3m  tot: 0h8m50s  (68.2%)\rEpoch: 41.3%  lr: 0.015866  loss: 0.007392  eta: 0h3m  tot: 0h8m51s  (68.3%)\rEpoch: 41.4%  lr: 0.015866  loss: 0.007400  eta: 0h3m  tot: 0h8m51s  (68.3%)\rEpoch: 41.5%  lr: 0.015866  loss: 0.007405  eta: 0h3m  tot: 0h8m51s  (68.3%)\rEpoch: 41.6%  lr: 0.015866  loss: 0.007409  eta: 0h3m  tot: 0h8m51s  (68.3%)\rEpoch: 41.7%  lr: 0.015846  loss: 0.007395  eta: 0h3m  tot: 0h8m51s  (68.3%)\rEpoch: 41.8%  lr: 0.015836  loss: 0.007411  eta: 0h3m  tot: 0h8m51s  (68.4%)\rEpoch: 41.9%  lr: 0.015826  loss: 0.007436  eta: 0h3m  tot: 0h8m51s  (68.4%)\rEpoch: 42.0%  lr: 0.015806  loss: 0.007435  eta: 0h3m  tot: 0h8m52s  (68.4%)\rEpoch: 42.0%  lr: 0.015796  loss: 0.007437  eta: 0h3m  tot: 0h8m52s  (68.4%)\rEpoch: 42.1%  lr: 0.015796  loss: 0.007441  eta: 0h3m  tot: 0h8m52s  (68.4%)\rEpoch: 42.2%  lr: 0.015776  loss: 0.007439  eta: 0h3m  tot: 0h8m52s  (68.4%)\rEpoch: 42.3%  lr: 0.015776  loss: 0.007432  eta: 0h3m  tot: 0h8m52s  (68.5%)\rEpoch: 42.4%  lr: 0.015766  loss: 0.007447  eta: 0h3m  tot: 0h8m52s  (68.5%)\rEpoch: 42.5%  lr: 0.015766  loss: 0.007475  eta: 0h3m  tot: 0h8m52s  (68.5%)\rEpoch: 42.6%  lr: 0.015766  loss: 0.007479  eta: 0h3m  tot: 0h8m53s  (68.5%)\rEpoch: 42.7%  lr: 0.015766  loss: 0.007470  eta: 0h3m  tot: 0h8m53s  (68.5%)\rEpoch: 42.8%  lr: 0.015756  loss: 0.007486  eta: 0h3m  tot: 0h8m53s  (68.6%)\rEpoch: 42.9%  lr: 0.015746  loss: 0.007501  eta: 0h3m  tot: 0h8m53s  (68.6%)\rEpoch: 42.9%  lr: 0.015746  loss: 0.007492  eta: 0h3m  tot: 0h8m53s  (68.6%)\rEpoch: 43.0%  lr: 0.015716  loss: 0.007486  eta: 0h3m  tot: 0h8m53s  (68.6%)\rEpoch: 43.1%  lr: 0.015706  loss: 0.007477  eta: 0h3m  tot: 0h8m53s  (68.6%)\rEpoch: 43.2%  lr: 0.015696  loss: 0.007479  eta: 0h3m  tot: 0h8m53s  (68.6%)\rEpoch: 43.3%  lr: 0.015676  loss: 0.007484  eta: 0h3m  tot: 0h8m54s  (68.7%)\rEpoch: 43.4%  lr: 0.015676  loss: 0.007477  eta: 0h3m  tot: 0h8m54s  (68.7%)\rEpoch: 43.5%  lr: 0.015676  loss: 0.007477  eta: 0h3m  tot: 0h8m54s  (68.7%)\rEpoch: 43.6%  lr: 0.015646  loss: 0.007481  eta: 0h3m  tot: 0h8m54s  (68.7%)\rEpoch: 43.7%  lr: 0.015646  loss: 0.007498  eta: 0h3m  tot: 0h8m54s  (68.7%)\rEpoch: 43.8%  lr: 0.015646  loss: 0.007502  eta: 0h3m  tot: 0h8m54s  (68.8%)\rEpoch: 43.8%  lr: 0.015636  loss: 0.007514  eta: 0h3m  tot: 0h8m54s  (68.8%)\rEpoch: 43.9%  lr: 0.015626  loss: 0.007511  eta: 0h3m  tot: 0h8m55s  (68.8%)\rEpoch: 44.0%  lr: 0.015626  loss: 0.007505  eta: 0h3m  tot: 0h8m55s  (68.8%)\rEpoch: 44.1%  lr: 0.015616  loss: 0.007507  eta: 0h3m  tot: 0h8m55s  (68.8%)\rEpoch: 44.2%  lr: 0.015606  loss: 0.007506  eta: 0h3m  tot: 0h8m55s  (68.8%)\rEpoch: 44.3%  lr: 0.015606  loss: 0.007501  eta: 0h3m  tot: 0h8m55s  (68.9%)\rEpoch: 44.4%  lr: 0.015586  loss: 0.007507  eta: 0h3m  tot: 0h8m55s  (68.9%)\rEpoch: 44.5%  lr: 0.015576  loss: 0.007507  eta: 0h3m  tot: 0h8m55s  (68.9%)\rEpoch: 44.6%  lr: 0.015546  loss: 0.007507  eta: 0h3m  tot: 0h8m56s  (68.9%)\rEpoch: 44.7%  lr: 0.015526  loss: 0.007504  eta: 0h3m  tot: 0h8m56s  (68.9%)\rEpoch: 44.7%  lr: 0.015516  loss: 0.007507  eta: 0h3m  tot: 0h8m56s  (68.9%)\rEpoch: 44.8%  lr: 0.015516  loss: 0.007508  eta: 0h3m  tot: 0h8m56s  (69.0%)\rEpoch: 44.9%  lr: 0.015516  loss: 0.007504  eta: 0h3m  tot: 0h8m56s  (69.0%)\rEpoch: 45.0%  lr: 0.015516  loss: 0.007533  eta: 0h3m  tot: 0h8m56s  (69.0%)\rEpoch: 45.1%  lr: 0.015506  loss: 0.007539  eta: 0h3m  tot: 0h8m56s  (69.0%)\rEpoch: 45.2%  lr: 0.015506  loss: 0.007532  eta: 0h3m  tot: 0h8m57s  (69.0%)\rEpoch: 45.3%  lr: 0.015506  loss: 0.007558  eta: 0h3m  tot: 0h8m57s  (69.1%)\rEpoch: 45.4%  lr: 0.015506  loss: 0.007569  eta: 0h3m  tot: 0h8m57s  (69.1%)\rEpoch: 45.5%  lr: 0.015506  loss: 0.007560  eta: 0h3m  tot: 0h8m57s  (69.1%)\rEpoch: 45.6%  lr: 0.015506  loss: 0.007548  eta: 0h3m  tot: 0h8m57s  (69.1%)\rEpoch: 45.6%  lr: 0.015506  loss: 0.007556  eta: 0h3m  tot: 0h8m57s  (69.1%)\rEpoch: 45.7%  lr: 0.015476  loss: 0.007553  eta: 0h3m  tot: 0h8m57s  (69.1%)\rEpoch: 45.8%  lr: 0.015456  loss: 0.007570  eta: 0h3m  tot: 0h8m57s  (69.2%)\rEpoch: 45.9%  lr: 0.015415  loss: 0.007579  eta: 0h3m  tot: 0h8m58s  (69.2%)\rEpoch: 46.0%  lr: 0.015395  loss: 0.007567  eta: 0h3m  tot: 0h8m58s  (69.2%)\rEpoch: 46.1%  lr: 0.015375  loss: 0.007564  eta: 0h3m  tot: 0h8m58s  (69.2%)\rEpoch: 46.2%  lr: 0.015375  loss: 0.007554  eta: 0h3m  tot: 0h8m58s  (69.2%)\rEpoch: 46.3%  lr: 0.015365  loss: 0.007558  eta: 0h3m  tot: 0h8m58s  (69.3%)\rEpoch: 46.4%  lr: 0.015365  loss: 0.007560  eta: 0h3m  tot: 0h8m58s  (69.3%)\rEpoch: 46.5%  lr: 0.015365  loss: 0.007552  eta: 0h3m  tot: 0h8m58s  (69.3%)\rEpoch: 46.5%  lr: 0.015355  loss: 0.007561  eta: 0h3m  tot: 0h8m59s  (69.3%)\rEpoch: 46.6%  lr: 0.015355  loss: 0.007571  eta: 0h3m  tot: 0h8m59s  (69.3%)\rEpoch: 46.7%  lr: 0.015345  loss: 0.007578  eta: 0h3m  tot: 0h8m59s  (69.3%)\rEpoch: 46.8%  lr: 0.015325  loss: 0.007567  eta: 0h3m  tot: 0h8m59s  (69.4%)\rEpoch: 46.9%  lr: 0.015295  loss: 0.007556  eta: 0h3m  tot: 0h8m59s  (69.4%)\rEpoch: 47.0%  lr: 0.015275  loss: 0.007555  eta: 0h3m  tot: 0h8m59s  (69.4%)\rEpoch: 47.1%  lr: 0.015275  loss: 0.007549  eta: 0h3m  tot: 0h8m59s  (69.4%)\rEpoch: 47.2%  lr: 0.015275  loss: 0.007544  eta: 0h3m  tot: 0h8m59s  (69.4%)\rEpoch: 47.3%  lr: 0.015265  loss: 0.007543  eta: 0h3m  tot: 0h9m0s  (69.5%)\rEpoch: 47.4%  lr: 0.015255  loss: 0.007534  eta: 0h3m  tot: 0h9m0s  (69.5%)\rEpoch: 47.4%  lr: 0.015255  loss: 0.007527  eta: 0h3m  tot: 0h9m0s  (69.5%)\rEpoch: 47.5%  lr: 0.015255  loss: 0.007527  eta: 0h3m  tot: 0h9m0s  (69.5%)\rEpoch: 47.6%  lr: 0.015225  loss: 0.007521  eta: 0h3m  tot: 0h9m0s  (69.5%)\rEpoch: 47.7%  lr: 0.015225  loss: 0.007514  eta: 0h3m  tot: 0h9m0s  (69.5%)\rEpoch: 47.8%  lr: 0.015225  loss: 0.007513  eta: 0h3m  tot: 0h9m0s  (69.6%)\rEpoch: 47.9%  lr: 0.015225  loss: 0.007511  eta: 0h3m  tot: 0h9m1s  (69.6%)\rEpoch: 48.0%  lr: 0.015225  loss: 0.007508  eta: 0h3m  tot: 0h9m1s  (69.6%)\rEpoch: 48.1%  lr: 0.015205  loss: 0.007504  eta: 0h3m  tot: 0h9m1s  (69.6%)\rEpoch: 48.2%  lr: 0.015195  loss: 0.007504  eta: 0h3m  tot: 0h9m1s  (69.6%)\rEpoch: 48.3%  lr: 0.015195  loss: 0.007512  eta: 0h3m  tot: 0h9m1s  (69.7%)\rEpoch: 48.3%  lr: 0.015195  loss: 0.007508  eta: 0h3m  tot: 0h9m1s  (69.7%)\rEpoch: 48.4%  lr: 0.015195  loss: 0.007515  eta: 0h3m  tot: 0h9m1s  (69.7%)\rEpoch: 48.5%  lr: 0.015185  loss: 0.007511  eta: 0h3m  tot: 0h9m2s  (69.7%)\rEpoch: 48.6%  lr: 0.015175  loss: 0.007514  eta: 0h3m  tot: 0h9m2s  (69.7%)\rEpoch: 48.7%  lr: 0.015165  loss: 0.007515  eta: 0h3m  tot: 0h9m2s  (69.7%)\rEpoch: 48.8%  lr: 0.015155  loss: 0.007513  eta: 0h3m  tot: 0h9m2s  (69.8%)\rEpoch: 48.9%  lr: 0.015155  loss: 0.007539  eta: 0h3m  tot: 0h9m2s  (69.8%)\rEpoch: 49.0%  lr: 0.015155  loss: 0.007532  eta: 0h3m  tot: 0h9m2s  (69.8%)\rEpoch: 49.1%  lr: 0.015155  loss: 0.007525  eta: 0h3m  tot: 0h9m2s  (69.8%)\rEpoch: 49.2%  lr: 0.015145  loss: 0.007525  eta: 0h3m  tot: 0h9m2s  (69.8%)\rEpoch: 49.2%  lr: 0.015135  loss: 0.007514  eta: 0h3m  tot: 0h9m3s  (69.8%)\rEpoch: 49.3%  lr: 0.015135  loss: 0.007510  eta: 0h3m  tot: 0h9m3s  (69.9%)\rEpoch: 49.4%  lr: 0.015135  loss: 0.007518  eta: 0h3m  tot: 0h9m3s  (69.9%)\rEpoch: 49.5%  lr: 0.015115  loss: 0.007530  eta: 0h3m  tot: 0h9m3s  (69.9%)\rEpoch: 49.6%  lr: 0.015105  loss: 0.007533  eta: 0h3m  tot: 0h9m3s  (69.9%)\rEpoch: 49.7%  lr: 0.015105  loss: 0.007537  eta: 0h3m  tot: 0h9m3s  (69.9%)\rEpoch: 49.8%  lr: 0.015105  loss: 0.007542  eta: 0h3m  tot: 0h9m3s  (70.0%)\rEpoch: 49.9%  lr: 0.015095  loss: 0.007532  eta: 0h3m  tot: 0h9m4s  (70.0%)\rEpoch: 50.0%  lr: 0.015085  loss: 0.007524  eta: 0h3m  tot: 0h9m4s  (70.0%)\rEpoch: 50.1%  lr: 0.015075  loss: 0.007527  eta: 0h3m  tot: 0h9m4s  (70.0%)\rEpoch: 50.1%  lr: 0.015065  loss: 0.007532  eta: 0h3m  tot: 0h9m4s  (70.0%)\rEpoch: 50.2%  lr: 0.015065  loss: 0.007537  eta: 0h3m  tot: 0h9m4s  (70.0%)\rEpoch: 50.3%  lr: 0.015065  loss: 0.007540  eta: 0h3m  tot: 0h9m4s  (70.1%)\rEpoch: 50.4%  lr: 0.015065  loss: 0.007537  eta: 0h3m  tot: 0h9m4s  (70.1%)\rEpoch: 50.5%  lr: 0.015065  loss: 0.007546  eta: 0h3m  tot: 0h9m4s  (70.1%)\rEpoch: 50.6%  lr: 0.015055  loss: 0.007543  eta: 0h3m  tot: 0h9m5s  (70.1%)\rEpoch: 50.7%  lr: 0.015055  loss: 0.007532  eta: 0h3m  tot: 0h9m5s  (70.1%)\rEpoch: 50.8%  lr: 0.015055  loss: 0.007521  eta: 0h3m  tot: 0h9m5s  (70.2%)\rEpoch: 50.9%  lr: 0.015035  loss: 0.007513  eta: 0h3m  tot: 0h9m5s  (70.2%)\rEpoch: 51.0%  lr: 0.015035  loss: 0.007512  eta: 0h3m  tot: 0h9m5s  (70.2%)\rEpoch: 51.0%  lr: 0.015025  loss: 0.007523  eta: 0h3m  tot: 0h9m5s  (70.2%)\rEpoch: 51.1%  lr: 0.015025  loss: 0.007517  eta: 0h3m  tot: 0h9m5s  (70.2%)\rEpoch: 51.2%  lr: 0.015025  loss: 0.007517  eta: 0h3m  tot: 0h9m6s  (70.2%)\rEpoch: 51.3%  lr: 0.014995  loss: 0.007531  eta: 0h3m  tot: 0h9m6s  (70.3%)\rEpoch: 51.4%  lr: 0.014985  loss: 0.007529  eta: 0h3m  tot: 0h9m6s  (70.3%)\rEpoch: 51.5%  lr: 0.014975  loss: 0.007522  eta: 0h3m  tot: 0h9m6s  (70.3%)\rEpoch: 51.6%  lr: 0.014965  loss: 0.007518  eta: 0h3m  tot: 0h9m6s  (70.3%)\rEpoch: 51.7%  lr: 0.014965  loss: 0.007522  eta: 0h3m  tot: 0h9m6s  (70.3%)\rEpoch: 51.8%  lr: 0.014955  loss: 0.007525  eta: 0h3m  tot: 0h9m6s  (70.4%)\rEpoch: 51.9%  lr: 0.014955  loss: 0.007524  eta: 0h3m  tot: 0h9m6s  (70.4%)\rEpoch: 51.9%  lr: 0.014945  loss: 0.007524  eta: 0h3m  tot: 0h9m7s  (70.4%)\rEpoch: 52.0%  lr: 0.014935  loss: 0.007518  eta: 0h3m  tot: 0h9m7s  (70.4%)\rEpoch: 52.1%  lr: 0.014925  loss: 0.007513  eta: 0h3m  tot: 0h9m7s  (70.4%)\rEpoch: 52.2%  lr: 0.014905  loss: 0.007510  eta: 0h3m  tot: 0h9m7s  (70.4%)\rEpoch: 52.3%  lr: 0.014895  loss: 0.007505  eta: 0h3m  tot: 0h9m7s  (70.5%)\rEpoch: 52.4%  lr: 0.014865  loss: 0.007506  eta: 0h3m  tot: 0h9m7s  (70.5%)\rEpoch: 52.5%  lr: 0.014855  loss: 0.007503  eta: 0h3m  tot: 0h9m7s  (70.5%)\rEpoch: 52.6%  lr: 0.014855  loss: 0.007498  eta: 0h3m  tot: 0h9m8s  (70.5%)\rEpoch: 52.7%  lr: 0.014855  loss: 0.007492  eta: 0h3m  tot: 0h9m8s  (70.5%)\rEpoch: 52.8%  lr: 0.014855  loss: 0.007484  eta: 0h3m  tot: 0h9m8s  (70.6%)\rEpoch: 52.8%  lr: 0.014855  loss: 0.007495  eta: 0h3m  tot: 0h9m8s  (70.6%)\rEpoch: 52.9%  lr: 0.014845  loss: 0.007503  eta: 0h3m  tot: 0h9m8s  (70.6%)\rEpoch: 53.0%  lr: 0.014835  loss: 0.007503  eta: 0h3m  tot: 0h9m8s  (70.6%)\rEpoch: 53.1%  lr: 0.014835  loss: 0.007496  eta: 0h3m  tot: 0h9m8s  (70.6%)\rEpoch: 53.2%  lr: 0.014815  loss: 0.007495  eta: 0h3m  tot: 0h9m9s  (70.6%)\rEpoch: 53.3%  lr: 0.014815  loss: 0.007493  eta: 0h3m  tot: 0h9m9s  (70.7%)\rEpoch: 53.4%  lr: 0.014805  loss: 0.007493  eta: 0h3m  tot: 0h9m9s  (70.7%)\rEpoch: 53.5%  lr: 0.014785  loss: 0.007494  eta: 0h3m  tot: 0h9m9s  (70.7%)\rEpoch: 53.6%  lr: 0.014755  loss: 0.007502  eta: 0h3m  tot: 0h9m9s  (70.7%)\rEpoch: 53.7%  lr: 0.014725  loss: 0.007533  eta: 0h3m  tot: 0h9m9s  (70.7%)\rEpoch: 53.7%  lr: 0.014725  loss: 0.007524  eta: 0h3m  tot: 0h9m9s  (70.7%)\rEpoch: 53.8%  lr: 0.014715  loss: 0.007527  eta: 0h3m  tot: 0h9m9s  (70.8%)\rEpoch: 53.9%  lr: 0.014695  loss: 0.007532  eta: 0h3m  tot: 0h9m10s  (70.8%)\rEpoch: 54.0%  lr: 0.014685  loss: 0.007525  eta: 0h3m  tot: 0h9m10s  (70.8%)\rEpoch: 54.1%  lr: 0.014675  loss: 0.007535  eta: 0h3m  tot: 0h9m10s  (70.8%)\rEpoch: 54.2%  lr: 0.014655  loss: 0.007526  eta: 0h3m  tot: 0h9m10s  (70.8%)\rEpoch: 54.3%  lr: 0.014645  loss: 0.007540  eta: 0h3m  tot: 0h9m10s  (70.9%)\rEpoch: 54.4%  lr: 0.014625  loss: 0.007533  eta: 0h3m  tot: 0h9m10s  (70.9%)\rEpoch: 54.5%  lr: 0.014615  loss: 0.007524  eta: 0h3m  tot: 0h9m10s  (70.9%)\rEpoch: 54.6%  lr: 0.014575  loss: 0.007547  eta: 0h3m  tot: 0h9m11s  (70.9%)\rEpoch: 54.6%  lr: 0.014575  loss: 0.007547  eta: 0h3m  tot: 0h9m11s  (70.9%)\rEpoch: 54.7%  lr: 0.014565  loss: 0.007570  eta: 0h3m  tot: 0h9m11s  (70.9%)\rEpoch: 54.8%  lr: 0.014555  loss: 0.007576  eta: 0h3m  tot: 0h9m11s  (71.0%)\rEpoch: 54.9%  lr: 0.014555  loss: 0.007571  eta: 0h3m  tot: 0h9m11s  (71.0%)\rEpoch: 55.0%  lr: 0.014545  loss: 0.007568  eta: 0h3m  tot: 0h9m11s  (71.0%)\rEpoch: 55.1%  lr: 0.014545  loss: 0.007565  eta: 0h3m  tot: 0h9m11s  (71.0%)\rEpoch: 55.2%  lr: 0.014525  loss: 0.007572  eta: 0h3m  tot: 0h9m11s  (71.0%)\rEpoch: 55.3%  lr: 0.014525  loss: 0.007567  eta: 0h3m  tot: 0h9m12s  (71.1%)\rEpoch: 55.4%  lr: 0.014495  loss: 0.007562  eta: 0h3m  tot: 0h9m12s  (71.1%)\rEpoch: 55.5%  lr: 0.014475  loss: 0.007580  eta: 0h3m  tot: 0h9m12s  (71.1%)\rEpoch: 55.5%  lr: 0.014455  loss: 0.007578  eta: 0h3m  tot: 0h9m12s  (71.1%)\rEpoch: 55.6%  lr: 0.014455  loss: 0.007599  eta: 0h3m  tot: 0h9m12s  (71.1%)\rEpoch: 55.7%  lr: 0.014455  loss: 0.007600  eta: 0h3m  tot: 0h9m12s  (71.1%)\rEpoch: 55.8%  lr: 0.014445  loss: 0.007605  eta: 0h3m  tot: 0h9m12s  (71.2%)\rEpoch: 55.9%  lr: 0.014435  loss: 0.007604  eta: 0h3m  tot: 0h9m13s  (71.2%)\rEpoch: 56.0%  lr: 0.014425  loss: 0.007603  eta: 0h3m  tot: 0h9m13s  (71.2%)\rEpoch: 56.1%  lr: 0.014425  loss: 0.007604  eta: 0h3m  tot: 0h9m13s  (71.2%)\rEpoch: 56.2%  lr: 0.014425  loss: 0.007603  eta: 0h3m  tot: 0h9m13s  (71.2%)\rEpoch: 56.3%  lr: 0.014425  loss: 0.007597  eta: 0h3m  tot: 0h9m13s  (71.3%)\rEpoch: 56.4%  lr: 0.014425  loss: 0.007599  eta: 0h3m  tot: 0h9m13s  (71.3%)\rEpoch: 56.4%  lr: 0.014425  loss: 0.007596  eta: 0h3m  tot: 0h9m13s  (71.3%)\rEpoch: 56.5%  lr: 0.014415  loss: 0.007594  eta: 0h3m  tot: 0h9m13s  (71.3%)\rEpoch: 56.6%  lr: 0.014394  loss: 0.007594  eta: 0h3m  tot: 0h9m14s  (71.3%)\rEpoch: 56.7%  lr: 0.014374  loss: 0.007593  eta: 0h3m  tot: 0h9m14s  (71.3%)\rEpoch: 56.8%  lr: 0.014354  loss: 0.007591  eta: 0h3m  tot: 0h9m14s  (71.4%)\rEpoch: 56.9%  lr: 0.014334  loss: 0.007604  eta: 0h3m  tot: 0h9m14s  (71.4%)\rEpoch: 57.0%  lr: 0.014334  loss: 0.007598  eta: 0h3m  tot: 0h9m14s  (71.4%)\rEpoch: 57.1%  lr: 0.014324  loss: 0.007611  eta: 0h3m  tot: 0h9m14s  (71.4%)\rEpoch: 57.2%  lr: 0.014314  loss: 0.007615  eta: 0h3m  tot: 0h9m14s  (71.4%)\rEpoch: 57.3%  lr: 0.014304  loss: 0.007617  eta: 0h3m  tot: 0h9m15s  (71.5%)\rEpoch: 57.3%  lr: 0.014304  loss: 0.007614  eta: 0h3m  tot: 0h9m15s  (71.5%)\rEpoch: 57.4%  lr: 0.014284  loss: 0.007615  eta: 0h3m  tot: 0h9m15s  (71.5%)\rEpoch: 57.5%  lr: 0.014274  loss: 0.007623  eta: 0h3m  tot: 0h9m15s  (71.5%)\rEpoch: 57.6%  lr: 0.014264  loss: 0.007631  eta: 0h3m  tot: 0h9m15s  (71.5%)\rEpoch: 57.7%  lr: 0.014264  loss: 0.007626  eta: 0h3m  tot: 0h9m15s  (71.5%)\rEpoch: 57.8%  lr: 0.014254  loss: 0.007622  eta: 0h3m  tot: 0h9m15s  (71.6%)\rEpoch: 57.9%  lr: 0.014254  loss: 0.007618  eta: 0h3m  tot: 0h9m16s  (71.6%)\rEpoch: 58.0%  lr: 0.014254  loss: 0.007613  eta: 0h3m  tot: 0h9m16s  (71.6%)\rEpoch: 58.1%  lr: 0.014254  loss: 0.007615  eta: 0h3m  tot: 0h9m16s  (71.6%)\rEpoch: 58.2%  lr: 0.014254  loss: 0.007623  eta: 0h3m  tot: 0h9m16s  (71.6%)\rEpoch: 58.2%  lr: 0.014244  loss: 0.007613  eta: 0h3m  tot: 0h9m16s  (71.6%)\rEpoch: 58.3%  lr: 0.014244  loss: 0.007616  eta: 0h3m  tot: 0h9m16s  (71.7%)\rEpoch: 58.4%  lr: 0.014234  loss: 0.007615  eta: 0h3m  tot: 0h9m16s  (71.7%)\rEpoch: 58.5%  lr: 0.014224  loss: 0.007609  eta: 0h3m  tot: 0h9m16s  (71.7%)\rEpoch: 58.6%  lr: 0.014214  loss: 0.007610  eta: 0h3m  tot: 0h9m17s  (71.7%)\rEpoch: 58.7%  lr: 0.014194  loss: 0.007613  eta: 0h3m  tot: 0h9m17s  (71.7%)\rEpoch: 58.8%  lr: 0.014194  loss: 0.007606  eta: 0h3m  tot: 0h9m17s  (71.8%)\rEpoch: 58.9%  lr: 0.014184  loss: 0.007605  eta: 0h3m  tot: 0h9m17s  (71.8%)\rEpoch: 59.0%  lr: 0.014154  loss: 0.007609  eta: 0h3m  tot: 0h9m17s  (71.8%)\rEpoch: 59.1%  lr: 0.014154  loss: 0.007607  eta: 0h3m  tot: 0h9m17s  (71.8%)\rEpoch: 59.1%  lr: 0.014144  loss: 0.007599  eta: 0h3m  tot: 0h9m17s  (71.8%)\rEpoch: 59.2%  lr: 0.014134  loss: 0.007605  eta: 0h3m  tot: 0h9m18s  (71.8%)\rEpoch: 59.3%  lr: 0.014104  loss: 0.007602  eta: 0h3m  tot: 0h9m18s  (71.9%)\rEpoch: 59.4%  lr: 0.014104  loss: 0.007604  eta: 0h3m  tot: 0h9m18s  (71.9%)\rEpoch: 59.5%  lr: 0.014084  loss: 0.007601  eta: 0h3m  tot: 0h9m18s  (71.9%)\rEpoch: 59.6%  lr: 0.014064  loss: 0.007594  eta: 0h3m  tot: 0h9m18s  (71.9%)\rEpoch: 59.7%  lr: 0.014064  loss: 0.007596  eta: 0h3m  tot: 0h9m18s  (71.9%)\rEpoch: 59.8%  lr: 0.014064  loss: 0.007606  eta: 0h3m  tot: 0h9m18s  (72.0%)\rEpoch: 59.9%  lr: 0.014064  loss: 0.007607  eta: 0h3m  tot: 0h9m19s  (72.0%)\rEpoch: 60.0%  lr: 0.014044  loss: 0.007615  eta: 0h3m  tot: 0h9m19s  (72.0%)\rEpoch: 60.0%  lr: 0.014034  loss: 0.007609  eta: 0h3m  tot: 0h9m19s  (72.0%)\rEpoch: 60.1%  lr: 0.014014  loss: 0.007601  eta: 0h3m  tot: 0h9m19s  (72.0%)\rEpoch: 60.2%  lr: 0.014014  loss: 0.007600  eta: 0h3m  tot: 0h9m19s  (72.0%)\rEpoch: 60.3%  lr: 0.014014  loss: 0.007604  eta: 0h3m  tot: 0h9m19s  (72.1%)\rEpoch: 60.4%  lr: 0.014014  loss: 0.007602  eta: 0h3m  tot: 0h9m19s  (72.1%)\rEpoch: 60.5%  lr: 0.014004  loss: 0.007596  eta: 0h3m  tot: 0h9m19s  (72.1%)\rEpoch: 60.6%  lr: 0.013984  loss: 0.007593  eta: 0h3m  tot: 0h9m20s  (72.1%)\rEpoch: 60.7%  lr: 0.013974  loss: 0.007589  eta: 0h3m  tot: 0h9m20s  (72.1%)\rEpoch: 60.8%  lr: 0.013964  loss: 0.007588  eta: 0h3m  tot: 0h9m20s  (72.2%)\rEpoch: 60.9%  lr: 0.013954  loss: 0.007588  eta: 0h3m  tot: 0h9m20s  (72.2%)\rEpoch: 60.9%  lr: 0.013934  loss: 0.007602  eta: 0h3m  tot: 0h9m20s  (72.2%)\rEpoch: 61.0%  lr: 0.013934  loss: 0.007608  eta: 0h3m  tot: 0h9m20s  (72.2%)\rEpoch: 61.1%  lr: 0.013934  loss: 0.007606  eta: 0h3m  tot: 0h9m20s  (72.2%)\rEpoch: 61.2%  lr: 0.013934  loss: 0.007599  eta: 0h3m  tot: 0h9m21s  (72.2%)\rEpoch: 61.3%  lr: 0.013914  loss: 0.007592  eta: 0h3m  tot: 0h9m21s  (72.3%)\rEpoch: 61.4%  lr: 0.013904  loss: 0.007589  eta: 0h3m  tot: 0h9m21s  (72.3%)\rEpoch: 61.5%  lr: 0.013904  loss: 0.007586  eta: 0h3m  tot: 0h9m21s  (72.3%)\rEpoch: 61.6%  lr: 0.013904  loss: 0.007582  eta: 0h3m  tot: 0h9m21s  (72.3%)\rEpoch: 61.7%  lr: 0.013904  loss: 0.007581  eta: 0h3m  tot: 0h9m21s  (72.3%)\rEpoch: 61.8%  lr: 0.013894  loss: 0.007579  eta: 0h3m  tot: 0h9m21s  (72.4%)\rEpoch: 61.8%  lr: 0.013894  loss: 0.007584  eta: 0h3m  tot: 0h9m22s  (72.4%)\rEpoch: 61.9%  lr: 0.013874  loss: 0.007587  eta: 0h3m  tot: 0h9m22s  (72.4%)\rEpoch: 62.0%  lr: 0.013854  loss: 0.007584  eta: 0h3m  tot: 0h9m22s  (72.4%)\rEpoch: 62.1%  lr: 0.013844  loss: 0.007577  eta: 0h3m  tot: 0h9m22s  (72.4%)\rEpoch: 62.2%  lr: 0.013834  loss: 0.007580  eta: 0h3m  tot: 0h9m22s  (72.4%)\rEpoch: 62.3%  lr: 0.013834  loss: 0.007581  eta: 0h3m  tot: 0h9m22s  (72.5%)\rEpoch: 62.4%  lr: 0.013824  loss: 0.007583  eta: 0h3m  tot: 0h9m22s  (72.5%)\rEpoch: 62.5%  lr: 0.013824  loss: 0.007588  eta: 0h3m  tot: 0h9m23s  (72.5%)\rEpoch: 62.6%  lr: 0.013824  loss: 0.007590  eta: 0h3m  tot: 0h9m23s  (72.5%)\rEpoch: 62.7%  lr: 0.013814  loss: 0.007587  eta: 0h3m  tot: 0h9m23s  (72.5%)\rEpoch: 62.7%  lr: 0.013814  loss: 0.007589  eta: 0h3m  tot: 0h9m23s  (72.5%)\rEpoch: 62.8%  lr: 0.013814  loss: 0.007591  eta: 0h3m  tot: 0h9m23s  (72.6%)\rEpoch: 62.9%  lr: 0.013814  loss: 0.007594  eta: 0h3m  tot: 0h9m23s  (72.6%)\rEpoch: 63.0%  lr: 0.013804  loss: 0.007608  eta: 0h3m  tot: 0h9m23s  (72.6%)\rEpoch: 63.1%  lr: 0.013804  loss: 0.007621  eta: 0h3m  tot: 0h9m23s  (72.6%)\rEpoch: 63.2%  lr: 0.013804  loss: 0.007623  eta: 0h3m  tot: 0h9m24s  (72.6%)\rEpoch: 63.3%  lr: 0.013784  loss: 0.007617  eta: 0h3m  tot: 0h9m24s  (72.7%)\rEpoch: 63.4%  lr: 0.013754  loss: 0.007614  eta: 0h3m  tot: 0h9m24s  (72.7%)\rEpoch: 63.5%  lr: 0.013754  loss: 0.007611  eta: 0h3m  tot: 0h9m24s  (72.7%)\rEpoch: 63.6%  lr: 0.013754  loss: 0.007604  eta: 0h3m  tot: 0h9m24s  (72.7%)\rEpoch: 63.6%  lr: 0.013744  loss: 0.007605  eta: 0h3m  tot: 0h9m24s  (72.7%)\rEpoch: 63.7%  lr: 0.013734  loss: 0.007604  eta: 0h3m  tot: 0h9m24s  (72.7%)\rEpoch: 63.8%  lr: 0.013734  loss: 0.007605  eta: 0h3m  tot: 0h9m25s  (72.8%)\rEpoch: 63.9%  lr: 0.013734  loss: 0.007599  eta: 0h3m  tot: 0h9m25s  (72.8%)\rEpoch: 64.0%  lr: 0.013724  loss: 0.007596  eta: 0h3m  tot: 0h9m25s  (72.8%)\rEpoch: 64.1%  lr: 0.013694  loss: 0.007596  eta: 0h3m  tot: 0h9m25s  (72.8%)\rEpoch: 64.2%  lr: 0.013684  loss: 0.007611  eta: 0h3m  tot: 0h9m25s  (72.8%)\rEpoch: 64.3%  lr: 0.013654  loss: 0.007610  eta: 0h3m  tot: 0h9m25s  (72.9%)\rEpoch: 64.4%  lr: 0.013644  loss: 0.007611  eta: 0h3m  tot: 0h9m25s  (72.9%)\rEpoch: 64.5%  lr: 0.013634  loss: 0.007608  eta: 0h3m  tot: 0h9m26s  (72.9%)\rEpoch: 64.5%  lr: 0.013634  loss: 0.007603  eta: 0h3m  tot: 0h9m26s  (72.9%)\rEpoch: 64.6%  lr: 0.013624  loss: 0.007605  eta: 0h3m  tot: 0h9m26s  (72.9%)\rEpoch: 64.7%  lr: 0.013624  loss: 0.007600  eta: 0h3m  tot: 0h9m26s  (72.9%)\rEpoch: 64.8%  lr: 0.013604  loss: 0.007598  eta: 0h3m  tot: 0h9m26s  (73.0%)\rEpoch: 64.9%  lr: 0.013594  loss: 0.007597  eta: 0h3m  tot: 0h9m26s  (73.0%)\rEpoch: 65.0%  lr: 0.013584  loss: 0.007600  eta: 0h3m  tot: 0h9m26s  (73.0%)\rEpoch: 65.1%  lr: 0.013564  loss: 0.007609  eta: 0h3m  tot: 0h9m27s  (73.0%)\rEpoch: 65.2%  lr: 0.013564  loss: 0.007603  eta: 0h3m  tot: 0h9m27s  (73.0%)\rEpoch: 65.3%  lr: 0.013564  loss: 0.007601  eta: 0h3m  tot: 0h9m27s  (73.1%)\rEpoch: 65.4%  lr: 0.013554  loss: 0.007599  eta: 0h3m  tot: 0h9m27s  (73.1%)\rEpoch: 65.4%  lr: 0.013544  loss: 0.007601  eta: 0h3m  tot: 0h9m27s  (73.1%)\rEpoch: 65.5%  lr: 0.013544  loss: 0.007604  eta: 0h3m  tot: 0h9m27s  (73.1%)\rEpoch: 65.6%  lr: 0.013544  loss: 0.007610  eta: 0h3m  tot: 0h9m27s  (73.1%)\rEpoch: 65.7%  lr: 0.013544  loss: 0.007609  eta: 0h3m  tot: 0h9m27s  (73.1%)\rEpoch: 65.8%  lr: 0.013544  loss: 0.007603  eta: 0h3m  tot: 0h9m28s  (73.2%)\rEpoch: 65.9%  lr: 0.013534  loss: 0.007599  eta: 0h3m  tot: 0h9m28s  (73.2%)\rEpoch: 66.0%  lr: 0.013524  loss: 0.007612  eta: 0h3m  tot: 0h9m28s  (73.2%)\rEpoch: 66.1%  lr: 0.013524  loss: 0.007616  eta: 0h3m  tot: 0h9m28s  (73.2%)\rEpoch: 66.2%  lr: 0.013524  loss: 0.007614  eta: 0h3m  tot: 0h9m28s  (73.2%)\rEpoch: 66.3%  lr: 0.013524  loss: 0.007614  eta: 0h3m  tot: 0h9m28s  (73.3%)\rEpoch: 66.3%  lr: 0.013514  loss: 0.007622  eta: 0h3m  tot: 0h9m28s  (73.3%)\rEpoch: 66.4%  lr: 0.013514  loss: 0.007623  eta: 0h3m  tot: 0h9m29s  (73.3%)\rEpoch: 66.5%  lr: 0.013504  loss: 0.007631  eta: 0h3m  tot: 0h9m29s  (73.3%)\rEpoch: 66.6%  lr: 0.013504  loss: 0.007636  eta: 0h3m  tot: 0h9m29s  (73.3%)\rEpoch: 66.7%  lr: 0.013484  loss: 0.007642  eta: 0h3m  tot: 0h9m29s  (73.3%)\rEpoch: 66.8%  lr: 0.013484  loss: 0.007654  eta: 0h3m  tot: 0h9m29s  (73.4%)\rEpoch: 66.9%  lr: 0.013484  loss: 0.007657  eta: 0h3m  tot: 0h9m29s  (73.4%)\rEpoch: 67.0%  lr: 0.013474  loss: 0.007656  eta: 0h3m  tot: 0h9m29s  (73.4%)\rEpoch: 67.1%  lr: 0.013464  loss: 0.007652  eta: 0h3m  tot: 0h9m30s  (73.4%)\rEpoch: 67.2%  lr: 0.013464  loss: 0.007658  eta: 0h3m  tot: 0h9m30s  (73.4%)\rEpoch: 67.2%  lr: 0.013454  loss: 0.007657  eta: 0h3m  tot: 0h9m30s  (73.4%)\rEpoch: 67.3%  lr: 0.013444  loss: 0.007657  eta: 0h3m  tot: 0h9m30s  (73.5%)\rEpoch: 67.4%  lr: 0.013434  loss: 0.007656  eta: 0h3m  tot: 0h9m30s  (73.5%)\rEpoch: 67.5%  lr: 0.013414  loss: 0.007669  eta: 0h3m  tot: 0h9m30s  (73.5%)\rEpoch: 67.6%  lr: 0.013404  loss: 0.007667  eta: 0h3m  tot: 0h9m30s  (73.5%)\rEpoch: 67.7%  lr: 0.013393  loss: 0.007679  eta: 0h3m  tot: 0h9m31s  (73.5%)\rEpoch: 67.8%  lr: 0.013373  loss: 0.007672  eta: 0h3m  tot: 0h9m31s  (73.6%)\rEpoch: 67.9%  lr: 0.013363  loss: 0.007674  eta: 0h3m  tot: 0h9m31s  (73.6%)\rEpoch: 68.0%  lr: 0.013363  loss: 0.007673  eta: 0h3m  tot: 0h9m31s  (73.6%)\rEpoch: 68.1%  lr: 0.013363  loss: 0.007675  eta: 0h3m  tot: 0h9m31s  (73.6%)\rEpoch: 68.1%  lr: 0.013353  loss: 0.007677  eta: 0h3m  tot: 0h9m31s  (73.6%)\rEpoch: 68.2%  lr: 0.013343  loss: 0.007682  eta: 0h3m  tot: 0h9m31s  (73.6%)\rEpoch: 68.3%  lr: 0.013333  loss: 0.007682  eta: 0h3m  tot: 0h9m32s  (73.7%)\rEpoch: 68.4%  lr: 0.013323  loss: 0.007677  eta: 0h3m  tot: 0h9m32s  (73.7%)\rEpoch: 68.5%  lr: 0.013323  loss: 0.007672  eta: 0h3m  tot: 0h9m32s  (73.7%)\rEpoch: 68.6%  lr: 0.013303  loss: 0.007664  eta: 0h3m  tot: 0h9m32s  (73.7%)\rEpoch: 68.7%  lr: 0.013253  loss: 0.007664  eta: 0h3m  tot: 0h9m32s  (73.7%)\rEpoch: 68.8%  lr: 0.013243  loss: 0.007672  eta: 0h3m  tot: 0h9m32s  (73.8%)\rEpoch: 68.9%  lr: 0.013233  loss: 0.007678  eta: 0h3m  tot: 0h9m32s  (73.8%)\rEpoch: 69.0%  lr: 0.013233  loss: 0.007680  eta: 0h3m  tot: 0h9m32s  (73.8%)\rEpoch: 69.0%  lr: 0.013203  loss: 0.007678  eta: 0h3m  tot: 0h9m33s  (73.8%)\rEpoch: 69.1%  lr: 0.013183  loss: 0.007688  eta: 0h3m  tot: 0h9m33s  (73.8%)\rEpoch: 69.2%  lr: 0.013173  loss: 0.007682  eta: 0h3m  tot: 0h9m33s  (73.8%)\rEpoch: 69.3%  lr: 0.013153  loss: 0.007678  eta: 0h3m  tot: 0h9m33s  (73.9%)\rEpoch: 69.4%  lr: 0.013133  loss: 0.007695  eta: 0h3m  tot: 0h9m33s  (73.9%)\rEpoch: 69.5%  lr: 0.013133  loss: 0.007699  eta: 0h3m  tot: 0h9m33s  (73.9%)\rEpoch: 69.6%  lr: 0.013133  loss: 0.007697  eta: 0h3m  tot: 0h9m33s  (73.9%)\rEpoch: 69.7%  lr: 0.013133  loss: 0.007699  eta: 0h3m  tot: 0h9m34s  (73.9%)\rEpoch: 69.8%  lr: 0.013133  loss: 0.007698  eta: 0h3m  tot: 0h9m34s  (74.0%)\rEpoch: 69.9%  lr: 0.013133  loss: 0.007694  eta: 0h3m  tot: 0h9m34s  (74.0%)\rEpoch: 69.9%  lr: 0.013123  loss: 0.007694  eta: 0h3m  tot: 0h9m34s  (74.0%)\rEpoch: 70.0%  lr: 0.013083  loss: 0.007696  eta: 0h3m  tot: 0h9m34s  (74.0%)\rEpoch: 70.1%  lr: 0.013063  loss: 0.007699  eta: 0h3m  tot: 0h9m34s  (74.0%)\rEpoch: 70.2%  lr: 0.013063  loss: 0.007702  eta: 0h3m  tot: 0h9m34s  (74.0%)\rEpoch: 70.3%  lr: 0.013063  loss: 0.007702  eta: 0h3m  tot: 0h9m35s  (74.1%)\rEpoch: 70.4%  lr: 0.013053  loss: 0.007698  eta: 0h3m  tot: 0h9m35s  (74.1%)\rEpoch: 70.5%  lr: 0.013033  loss: 0.007697  eta: 0h3m  tot: 0h9m35s  (74.1%)\rEpoch: 70.6%  lr: 0.013023  loss: 0.007693  eta: 0h3m  tot: 0h9m35s  (74.1%)\rEpoch: 70.7%  lr: 0.013023  loss: 0.007690  eta: 0h3m  tot: 0h9m35s  (74.1%)\rEpoch: 70.8%  lr: 0.013003  loss: 0.007688  eta: 0h3m  tot: 0h9m35s  (74.2%)\rEpoch: 70.8%  lr: 0.013003  loss: 0.007685  eta: 0h3m  tot: 0h9m35s  (74.2%)\rEpoch: 70.9%  lr: 0.013003  loss: 0.007687  eta: 0h3m  tot: 0h9m36s  (74.2%)\rEpoch: 71.0%  lr: 0.012963  loss: 0.007693  eta: 0h3m  tot: 0h9m36s  (74.2%)\rEpoch: 71.1%  lr: 0.012963  loss: 0.007686  eta: 0h3m  tot: 0h9m36s  (74.2%)\rEpoch: 71.2%  lr: 0.012943  loss: 0.007678  eta: 0h3m  tot: 0h9m36s  (74.2%)\rEpoch: 71.3%  lr: 0.012913  loss: 0.007672  eta: 0h3m  tot: 0h9m36s  (74.3%)\rEpoch: 71.4%  lr: 0.012893  loss: 0.007670  eta: 0h3m  tot: 0h9m36s  (74.3%)\rEpoch: 71.5%  lr: 0.012893  loss: 0.007665  eta: 0h3m  tot: 0h9m36s  (74.3%)\rEpoch: 71.6%  lr: 0.012853  loss: 0.007665  eta: 0h3m  tot: 0h9m37s  (74.3%)\rEpoch: 71.7%  lr: 0.012853  loss: 0.007658  eta: 0h3m  tot: 0h9m37s  (74.3%)\rEpoch: 71.7%  lr: 0.012833  loss: 0.007653  eta: 0h3m  tot: 0h9m37s  (74.3%)\rEpoch: 71.8%  lr: 0.012823  loss: 0.007648  eta: 0h3m  tot: 0h9m37s  (74.4%)\rEpoch: 71.9%  lr: 0.012823  loss: 0.007650  eta: 0h3m  tot: 0h9m37s  (74.4%)\rEpoch: 72.0%  lr: 0.012823  loss: 0.007659  eta: 0h3m  tot: 0h9m37s  (74.4%)\rEpoch: 72.1%  lr: 0.012803  loss: 0.007656  eta: 0h3m  tot: 0h9m37s  (74.4%)\rEpoch: 72.2%  lr: 0.012803  loss: 0.007666  eta: 0h3m  tot: 0h9m37s  (74.4%)\rEpoch: 72.3%  lr: 0.012803  loss: 0.007658  eta: 0h3m  tot: 0h9m38s  (74.5%)\rEpoch: 72.4%  lr: 0.012803  loss: 0.007657  eta: 0h3m  tot: 0h9m38s  (74.5%)\rEpoch: 72.5%  lr: 0.012773  loss: 0.007668  eta: 0h3m  tot: 0h9m38s  (74.5%)\rEpoch: 72.6%  lr: 0.012773  loss: 0.007668  eta: 0h3m  tot: 0h9m38s  (74.5%)\rEpoch: 72.6%  lr: 0.012773  loss: 0.007669  eta: 0h3m  tot: 0h9m38s  (74.5%)\rEpoch: 72.7%  lr: 0.012773  loss: 0.007666  eta: 0h3m  tot: 0h9m38s  (74.5%)\rEpoch: 72.8%  lr: 0.012773  loss: 0.007664  eta: 0h3m  tot: 0h9m38s  (74.6%)\rEpoch: 72.9%  lr: 0.012763  loss: 0.007659  eta: 0h3m  tot: 0h9m39s  (74.6%)\rEpoch: 73.0%  lr: 0.012743  loss: 0.007665  eta: 0h3m  tot: 0h9m39s  (74.6%)\rEpoch: 73.1%  lr: 0.012733  loss: 0.007673  eta: 0h3m  tot: 0h9m39s  (74.6%)\rEpoch: 73.2%  lr: 0.012733  loss: 0.007674  eta: 0h3m  tot: 0h9m39s  (74.6%)\rEpoch: 73.3%  lr: 0.012713  loss: 0.007672  eta: 0h3m  tot: 0h9m39s  (74.7%)\rEpoch: 73.4%  lr: 0.012693  loss: 0.007673  eta: 0h3m  tot: 0h9m39s  (74.7%)\rEpoch: 73.5%  lr: 0.012683  loss: 0.007670  eta: 0h3m  tot: 0h9m39s  (74.7%)\rEpoch: 73.5%  lr: 0.012673  loss: 0.007664  eta: 0h3m  tot: 0h9m40s  (74.7%)\rEpoch: 73.6%  lr: 0.012673  loss: 0.007664  eta: 0h3m  tot: 0h9m40s  (74.7%)\rEpoch: 73.7%  lr: 0.012673  loss: 0.007659  eta: 0h3m  tot: 0h9m40s  (74.7%)\rEpoch: 73.8%  lr: 0.012653  loss: 0.007655  eta: 0h3m  tot: 0h9m40s  (74.8%)\rEpoch: 73.9%  lr: 0.012643  loss: 0.007657  eta: 0h3m  tot: 0h9m40s  (74.8%)\rEpoch: 74.0%  lr: 0.012643  loss: 0.007657  eta: 0h3m  tot: 0h9m40s  (74.8%)\rEpoch: 74.1%  lr: 0.012643  loss: 0.007656  eta: 0h3m  tot: 0h9m40s  (74.8%)\rEpoch: 74.2%  lr: 0.012643  loss: 0.007666  eta: 0h3m  tot: 0h9m41s  (74.8%)\rEpoch: 74.3%  lr: 0.012643  loss: 0.007661  eta: 0h3m  tot: 0h9m41s  (74.9%)\rEpoch: 74.4%  lr: 0.012633  loss: 0.007655  eta: 0h3m  tot: 0h9m41s  (74.9%)\rEpoch: 74.4%  lr: 0.012633  loss: 0.007661  eta: 0h3m  tot: 0h9m41s  (74.9%)\rEpoch: 74.5%  lr: 0.012633  loss: 0.007657  eta: 0h3m  tot: 0h9m41s  (74.9%)\rEpoch: 74.6%  lr: 0.012623  loss: 0.007654  eta: 0h3m  tot: 0h9m41s  (74.9%)\rEpoch: 74.7%  lr: 0.012613  loss: 0.007648  eta: 0h3m  tot: 0h9m41s  (74.9%)\rEpoch: 74.8%  lr: 0.012593  loss: 0.007646  eta: 0h3m  tot: 0h9m41s  (75.0%)\rEpoch: 74.9%  lr: 0.012593  loss: 0.007655  eta: 0h3m  tot: 0h9m42s  (75.0%)\rEpoch: 75.0%  lr: 0.012553  loss: 0.007653  eta: 0h3m  tot: 0h9m42s  (75.0%)\rEpoch: 75.1%  lr: 0.012543  loss: 0.007649  eta: 0h3m  tot: 0h9m42s  (75.0%)\rEpoch: 75.2%  lr: 0.012543  loss: 0.007652  eta: 0h3m  tot: 0h9m42s  (75.0%)\rEpoch: 75.3%  lr: 0.012543  loss: 0.007665  eta: 0h3m  tot: 0h9m42s  (75.1%)\rEpoch: 75.3%  lr: 0.012533  loss: 0.007661  eta: 0h3m  tot: 0h9m42s  (75.1%)\rEpoch: 75.4%  lr: 0.012523  loss: 0.007660  eta: 0h3m  tot: 0h9m42s  (75.1%)\rEpoch: 75.5%  lr: 0.012503  loss: 0.007657  eta: 0h3m  tot: 0h9m43s  (75.1%)\rEpoch: 75.6%  lr: 0.012503  loss: 0.007659  eta: 0h3m  tot: 0h9m43s  (75.1%)\rEpoch: 75.7%  lr: 0.012473  loss: 0.007659  eta: 0h3m  tot: 0h9m43s  (75.1%)\rEpoch: 75.8%  lr: 0.012453  loss: 0.007659  eta: 0h3m  tot: 0h9m43s  (75.2%)\rEpoch: 75.9%  lr: 0.012453  loss: 0.007660  eta: 0h3m  tot: 0h9m43s  (75.2%)\rEpoch: 76.0%  lr: 0.012443  loss: 0.007658  eta: 0h3m  tot: 0h9m43s  (75.2%)\rEpoch: 76.1%  lr: 0.012423  loss: 0.007663  eta: 0h3m  tot: 0h9m43s  (75.2%)\rEpoch: 76.2%  lr: 0.012403  loss: 0.007667  eta: 0h3m  tot: 0h9m43s  (75.2%)\rEpoch: 76.2%  lr: 0.012403  loss: 0.007672  eta: 0h3m  tot: 0h9m44s  (75.2%)\rEpoch: 76.3%  lr: 0.012382  loss: 0.007670  eta: 0h3m  tot: 0h9m44s  (75.3%)\rEpoch: 76.4%  lr: 0.012382  loss: 0.007671  eta: 0h3m  tot: 0h9m44s  (75.3%)\rEpoch: 76.5%  lr: 0.012382  loss: 0.007673  eta: 0h3m  tot: 0h9m44s  (75.3%)\rEpoch: 76.6%  lr: 0.012362  loss: 0.007672  eta: 0h3m  tot: 0h9m44s  (75.3%)\rEpoch: 76.7%  lr: 0.012342  loss: 0.007677  eta: 0h3m  tot: 0h9m44s  (75.3%)\rEpoch: 76.8%  lr: 0.012322  loss: 0.007677  eta: 0h3m  tot: 0h9m44s  (75.4%)\rEpoch: 76.9%  lr: 0.012322  loss: 0.007676  eta: 0h3m  tot: 0h9m45s  (75.4%)\rEpoch: 77.0%  lr: 0.012322  loss: 0.007679  eta: 0h3m  tot: 0h9m45s  (75.4%)\rEpoch: 77.1%  lr: 0.012322  loss: 0.007674  eta: 0h3m  tot: 0h9m45s  (75.4%)\rEpoch: 77.1%  lr: 0.012322  loss: 0.007674  eta: 0h3m  tot: 0h9m45s  (75.4%)\rEpoch: 77.2%  lr: 0.012302  loss: 0.007682  eta: 0h3m  tot: 0h9m45s  (75.4%)\rEpoch: 77.3%  lr: 0.012282  loss: 0.007680  eta: 0h3m  tot: 0h9m45s  (75.5%)\rEpoch: 77.4%  lr: 0.012282  loss: 0.007680  eta: 0h3m  tot: 0h9m45s  (75.5%)\rEpoch: 77.5%  lr: 0.012252  loss: 0.007679  eta: 0h3m  tot: 0h9m45s  (75.5%)\rEpoch: 77.6%  lr: 0.012252  loss: 0.007678  eta: 0h3m  tot: 0h9m46s  (75.5%)\rEpoch: 77.7%  lr: 0.012242  loss: 0.007676  eta: 0h3m  tot: 0h9m46s  (75.5%)\rEpoch: 77.8%  lr: 0.012242  loss: 0.007671  eta: 0h3m  tot: 0h9m46s  (75.6%)\rEpoch: 77.9%  lr: 0.012242  loss: 0.007674  eta: 0h3m  tot: 0h9m46s  (75.6%)\rEpoch: 78.0%  lr: 0.012242  loss: 0.007670  eta: 0h3m  tot: 0h9m46s  (75.6%)\rEpoch: 78.0%  lr: 0.012222  loss: 0.007670  eta: 0h3m  tot: 0h9m46s  (75.6%)\rEpoch: 78.1%  lr: 0.012212  loss: 0.007669  eta: 0h3m  tot: 0h9m46s  (75.6%)\rEpoch: 78.2%  lr: 0.012172  loss: 0.007673  eta: 0h3m  tot: 0h9m47s  (75.6%)\rEpoch: 78.3%  lr: 0.012172  loss: 0.007679  eta: 0h3m  tot: 0h9m47s  (75.7%)\rEpoch: 78.4%  lr: 0.012172  loss: 0.007675  eta: 0h3m  tot: 0h9m47s  (75.7%)\rEpoch: 78.5%  lr: 0.012172  loss: 0.007669  eta: 0h3m  tot: 0h9m47s  (75.7%)\rEpoch: 78.6%  lr: 0.012172  loss: 0.007668  eta: 0h3m  tot: 0h9m47s  (75.7%)\rEpoch: 78.7%  lr: 0.012172  loss: 0.007663  eta: 0h3m  tot: 0h9m47s  (75.7%)\rEpoch: 78.8%  lr: 0.012162  loss: 0.007667  eta: 0h3m  tot: 0h9m47s  (75.8%)\rEpoch: 78.9%  lr: 0.012162  loss: 0.007664  eta: 0h3m  tot: 0h9m48s  (75.8%)\rEpoch: 78.9%  lr: 0.012152  loss: 0.007666  eta: 0h3m  tot: 0h9m48s  (75.8%)\rEpoch: 79.0%  lr: 0.012122  loss: 0.007668  eta: 0h3m  tot: 0h9m48s  (75.8%)\rEpoch: 79.1%  lr: 0.012122  loss: 0.007662  eta: 0h3m  tot: 0h9m48s  (75.8%)\rEpoch: 79.2%  lr: 0.012122  loss: 0.007660  eta: 0h3m  tot: 0h9m48s  (75.8%)\rEpoch: 79.3%  lr: 0.012122  loss: 0.007653  eta: 0h3m  tot: 0h9m48s  (75.9%)\rEpoch: 79.4%  lr: 0.012112  loss: 0.007654  eta: 0h3m  tot: 0h9m48s  (75.9%)\rEpoch: 79.5%  lr: 0.012112  loss: 0.007651  eta: 0h3m  tot: 0h9m48s  (75.9%)\rEpoch: 79.6%  lr: 0.012112  loss: 0.007650  eta: 0h3m  tot: 0h9m49s  (75.9%)\rEpoch: 79.7%  lr: 0.012112  loss: 0.007662  eta: 0h3m  tot: 0h9m49s  (75.9%)\rEpoch: 79.8%  lr: 0.012112  loss: 0.007659  eta: 0h3m  tot: 0h9m49s  (76.0%)\rEpoch: 79.9%  lr: 0.012102  loss: 0.007660  eta: 0h3m  tot: 0h9m49s  (76.0%)\rEpoch: 79.9%  lr: 0.012092  loss: 0.007659  eta: 0h3m  tot: 0h9m49s  (76.0%)\rEpoch: 80.0%  lr: 0.012092  loss: 0.007659  eta: 0h3m  tot: 0h9m49s  (76.0%)\rEpoch: 80.1%  lr: 0.012082  loss: 0.007658  eta: 0h3m  tot: 0h9m49s  (76.0%)\rEpoch: 80.2%  lr: 0.012052  loss: 0.007659  eta: 0h3m  tot: 0h9m50s  (76.0%)\rEpoch: 80.3%  lr: 0.012042  loss: 0.007655  eta: 0h3m  tot: 0h9m50s  (76.1%)\rEpoch: 80.4%  lr: 0.012022  loss: 0.007659  eta: 0h3m  tot: 0h9m50s  (76.1%)\rEpoch: 80.5%  lr: 0.011992  loss: 0.007661  eta: 0h3m  tot: 0h9m50s  (76.1%)\rEpoch: 80.6%  lr: 0.011992  loss: 0.007658  eta: 0h3m  tot: 0h9m50s  (76.1%)\rEpoch: 80.7%  lr: 0.011982  loss: 0.007658  eta: 0h2m  tot: 0h9m50s  (76.1%)\rEpoch: 80.8%  lr: 0.011982  loss: 0.007658  eta: 0h2m  tot: 0h9m50s  (76.2%)\rEpoch: 80.8%  lr: 0.011972  loss: 0.007654  eta: 0h2m  tot: 0h9m51s  (76.2%)\rEpoch: 80.9%  lr: 0.011972  loss: 0.007650  eta: 0h2m  tot: 0h9m51s  (76.2%)\rEpoch: 81.0%  lr: 0.011952  loss: 0.007647  eta: 0h2m  tot: 0h9m51s  (76.2%)\rEpoch: 81.1%  lr: 0.011942  loss: 0.007649  eta: 0h2m  tot: 0h9m51s  (76.2%)\rEpoch: 81.2%  lr: 0.011932  loss: 0.007646  eta: 0h2m  tot: 0h9m51s  (76.2%)\rEpoch: 81.3%  lr: 0.011922  loss: 0.007643  eta: 0h2m  tot: 0h9m51s  (76.3%)\rEpoch: 81.4%  lr: 0.011892  loss: 0.007649  eta: 0h2m  tot: 0h9m51s  (76.3%)\rEpoch: 81.5%  lr: 0.011882  loss: 0.007646  eta: 0h2m  tot: 0h9m52s  (76.3%)\rEpoch: 81.6%  lr: 0.011882  loss: 0.007653  eta: 0h2m  tot: 0h9m52s  (76.3%)\rEpoch: 81.7%  lr: 0.011852  loss: 0.007654  eta: 0h2m  tot: 0h9m52s  (76.3%)\rEpoch: 81.7%  lr: 0.011842  loss: 0.007660  eta: 0h2m  tot: 0h9m52s  (76.3%)\rEpoch: 81.8%  lr: 0.011842  loss: 0.007656  eta: 0h2m  tot: 0h9m52s  (76.4%)\rEpoch: 81.9%  lr: 0.011822  loss: 0.007656  eta: 0h2m  tot: 0h9m52s  (76.4%)\rEpoch: 82.0%  lr: 0.011812  loss: 0.007660  eta: 0h2m  tot: 0h9m52s  (76.4%)\rEpoch: 82.1%  lr: 0.011802  loss: 0.007657  eta: 0h2m  tot: 0h9m52s  (76.4%)\rEpoch: 82.2%  lr: 0.011792  loss: 0.007657  eta: 0h2m  tot: 0h9m53s  (76.4%)\rEpoch: 82.3%  lr: 0.011792  loss: 0.007654  eta: 0h2m  tot: 0h9m53s  (76.5%)\rEpoch: 82.4%  lr: 0.011792  loss: 0.007651  eta: 0h2m  tot: 0h9m53s  (76.5%)\rEpoch: 82.5%  lr: 0.011792  loss: 0.007655  eta: 0h2m  tot: 0h9m53s  (76.5%)\rEpoch: 82.6%  lr: 0.011792  loss: 0.007655  eta: 0h2m  tot: 0h9m53s  (76.5%)\rEpoch: 82.6%  lr: 0.011782  loss: 0.007652  eta: 0h2m  tot: 0h9m53s  (76.5%)\rEpoch: 82.7%  lr: 0.011762  loss: 0.007656  eta: 0h2m  tot: 0h9m53s  (76.5%)\rEpoch: 82.8%  lr: 0.011762  loss: 0.007660  eta: 0h2m  tot: 0h9m54s  (76.6%)\rEpoch: 82.9%  lr: 0.011762  loss: 0.007658  eta: 0h2m  tot: 0h9m54s  (76.6%)\rEpoch: 83.0%  lr: 0.011742  loss: 0.007665  eta: 0h2m  tot: 0h9m54s  (76.6%)\rEpoch: 83.1%  lr: 0.011742  loss: 0.007661  eta: 0h2m  tot: 0h9m54s  (76.6%)\rEpoch: 83.2%  lr: 0.011702  loss: 0.007660  eta: 0h2m  tot: 0h9m54s  (76.6%)\rEpoch: 83.3%  lr: 0.011702  loss: 0.007661  eta: 0h2m  tot: 0h9m54s  (76.7%)\rEpoch: 83.4%  lr: 0.011702  loss: 0.007673  eta: 0h2m  tot: 0h9m54s  (76.7%)\rEpoch: 83.5%  lr: 0.011702  loss: 0.007669  eta: 0h2m  tot: 0h9m55s  (76.7%)\rEpoch: 83.5%  lr: 0.011702  loss: 0.007663  eta: 0h2m  tot: 0h9m55s  (76.7%)\rEpoch: 83.6%  lr: 0.011682  loss: 0.007662  eta: 0h2m  tot: 0h9m55s  (76.7%)\rEpoch: 83.7%  lr: 0.011642  loss: 0.007657  eta: 0h2m  tot: 0h9m55s  (76.7%)\rEpoch: 83.8%  lr: 0.011642  loss: 0.007655  eta: 0h2m  tot: 0h9m55s  (76.8%)\rEpoch: 83.9%  lr: 0.011632  loss: 0.007651  eta: 0h2m  tot: 0h9m55s  (76.8%)\rEpoch: 84.0%  lr: 0.011622  loss: 0.007654  eta: 0h2m  tot: 0h9m55s  (76.8%)\rEpoch: 84.1%  lr: 0.011622  loss: 0.007653  eta: 0h2m  tot: 0h9m56s  (76.8%)\rEpoch: 84.2%  lr: 0.011612  loss: 0.007651  eta: 0h2m  tot: 0h9m56s  (76.8%)\rEpoch: 84.3%  lr: 0.011612  loss: 0.007647  eta: 0h2m  tot: 0h9m56s  (76.9%)\rEpoch: 84.4%  lr: 0.011612  loss: 0.007647  eta: 0h2m  tot: 0h9m56s  (76.9%)\rEpoch: 84.4%  lr: 0.011602  loss: 0.007649  eta: 0h2m  tot: 0h9m56s  (76.9%)\rEpoch: 84.5%  lr: 0.011602  loss: 0.007646  eta: 0h2m  tot: 0h9m56s  (76.9%)\rEpoch: 84.6%  lr: 0.011602  loss: 0.007653  eta: 0h2m  tot: 0h9m56s  (76.9%)\rEpoch: 84.7%  lr: 0.011582  loss: 0.007656  eta: 0h2m  tot: 0h9m56s  (76.9%)\rEpoch: 84.8%  lr: 0.011572  loss: 0.007659  eta: 0h2m  tot: 0h9m57s  (77.0%)\rEpoch: 84.9%  lr: 0.011562  loss: 0.007659  eta: 0h2m  tot: 0h9m57s  (77.0%)\rEpoch: 85.0%  lr: 0.011552  loss: 0.007658  eta: 0h2m  tot: 0h9m57s  (77.0%)\rEpoch: 85.1%  lr: 0.011532  loss: 0.007656  eta: 0h2m  tot: 0h9m57s  (77.0%)\rEpoch: 85.2%  lr: 0.011512  loss: 0.007654  eta: 0h2m  tot: 0h9m57s  (77.0%)\rEpoch: 85.3%  lr: 0.011482  loss: 0.007656  eta: 0h2m  tot: 0h9m57s  (77.1%)\rEpoch: 85.3%  lr: 0.011482  loss: 0.007661  eta: 0h2m  tot: 0h9m57s  (77.1%)\rEpoch: 85.4%  lr: 0.011482  loss: 0.007659  eta: 0h2m  tot: 0h9m58s  (77.1%)\rEpoch: 85.5%  lr: 0.011472  loss: 0.007656  eta: 0h2m  tot: 0h9m58s  (77.1%)\rEpoch: 85.6%  lr: 0.011472  loss: 0.007659  eta: 0h2m  tot: 0h9m58s  (77.1%)\rEpoch: 85.7%  lr: 0.011452  loss: 0.007658  eta: 0h2m  tot: 0h9m58s  (77.1%)\rEpoch: 85.8%  lr: 0.011442  loss: 0.007664  eta: 0h2m  tot: 0h9m58s  (77.2%)\rEpoch: 85.9%  lr: 0.011442  loss: 0.007669  eta: 0h2m  tot: 0h9m58s  (77.2%)\rEpoch: 86.0%  lr: 0.011422  loss: 0.007671  eta: 0h2m  tot: 0h9m58s  (77.2%)\rEpoch: 86.1%  lr: 0.011402  loss: 0.007677  eta: 0h2m  tot: 0h9m59s  (77.2%)\rEpoch: 86.2%  lr: 0.011402  loss: 0.007671  eta: 0h2m  tot: 0h9m59s  (77.2%)\rEpoch: 86.2%  lr: 0.011392  loss: 0.007668  eta: 0h2m  tot: 0h9m59s  (77.2%)\rEpoch: 86.3%  lr: 0.011382  loss: 0.007678  eta: 0h2m  tot: 0h9m59s  (77.3%)\rEpoch: 86.4%  lr: 0.011372  loss: 0.007684  eta: 0h2m  tot: 0h9m59s  (77.3%)\rEpoch: 86.5%  lr: 0.011372  loss: 0.007682  eta: 0h2m  tot: 0h9m59s  (77.3%)\rEpoch: 86.6%  lr: 0.011341  loss: 0.007684  eta: 0h2m  tot: 0h9m59s  (77.3%)\rEpoch: 86.7%  lr: 0.011341  loss: 0.007681  eta: 0h2m  tot: 0h9m59s  (77.3%)\rEpoch: 86.8%  lr: 0.011341  loss: 0.007684  eta: 0h2m  tot: 0h10m0s  (77.4%)\rEpoch: 86.9%  lr: 0.011331  loss: 0.007680  eta: 0h2m  tot: 0h10m0s  (77.4%)\rEpoch: 87.0%  lr: 0.011311  loss: 0.007679  eta: 0h2m  tot: 0h10m0s  (77.4%)\rEpoch: 87.1%  lr: 0.011301  loss: 0.007679  eta: 0h2m  tot: 0h10m0s  (77.4%)\rEpoch: 87.1%  lr: 0.011291  loss: 0.007680  eta: 0h2m  tot: 0h10m0s  (77.4%)\rEpoch: 87.2%  lr: 0.011271  loss: 0.007676  eta: 0h2m  tot: 0h10m0s  (77.4%)\rEpoch: 87.3%  lr: 0.011261  loss: 0.007672  eta: 0h2m  tot: 0h10m0s  (77.5%)\rEpoch: 87.4%  lr: 0.011261  loss: 0.007668  eta: 0h2m  tot: 0h10m1s  (77.5%)\rEpoch: 87.5%  lr: 0.011241  loss: 0.007665  eta: 0h2m  tot: 0h10m1s  (77.5%)\rEpoch: 87.6%  lr: 0.011231  loss: 0.007663  eta: 0h2m  tot: 0h10m1s  (77.5%)\rEpoch: 87.7%  lr: 0.011231  loss: 0.007659  eta: 0h2m  tot: 0h10m1s  (77.5%)\rEpoch: 87.8%  lr: 0.011221  loss: 0.007656  eta: 0h2m  tot: 0h10m1s  (77.6%)\rEpoch: 87.9%  lr: 0.011221  loss: 0.007655  eta: 0h2m  tot: 0h10m1s  (77.6%)\rEpoch: 88.0%  lr: 0.011201  loss: 0.007652  eta: 0h2m  tot: 0h10m1s  (77.6%)\rEpoch: 88.0%  lr: 0.011191  loss: 0.007649  eta: 0h2m  tot: 0h10m1s  (77.6%)\rEpoch: 88.1%  lr: 0.011181  loss: 0.007647  eta: 0h2m  tot: 0h10m2s  (77.6%)\rEpoch: 88.2%  lr: 0.011171  loss: 0.007648  eta: 0h2m  tot: 0h10m2s  (77.6%)\rEpoch: 88.3%  lr: 0.011171  loss: 0.007643  eta: 0h2m  tot: 0h10m2s  (77.7%)\rEpoch: 88.4%  lr: 0.011161  loss: 0.007638  eta: 0h2m  tot: 0h10m2s  (77.7%)\rEpoch: 88.5%  lr: 0.011151  loss: 0.007631  eta: 0h2m  tot: 0h10m2s  (77.7%)\rEpoch: 88.6%  lr: 0.011141  loss: 0.007631  eta: 0h2m  tot: 0h10m2s  (77.7%)\rEpoch: 88.7%  lr: 0.011131  loss: 0.007635  eta: 0h2m  tot: 0h10m2s  (77.7%)\rEpoch: 88.8%  lr: 0.011121  loss: 0.007637  eta: 0h2m  tot: 0h10m3s  (77.8%)\rEpoch: 88.9%  lr: 0.011091  loss: 0.007639  eta: 0h2m  tot: 0h10m3s  (77.8%)\rEpoch: 88.9%  lr: 0.011091  loss: 0.007641  eta: 0h2m  tot: 0h10m3s  (77.8%)\rEpoch: 89.0%  lr: 0.011081  loss: 0.007639  eta: 0h2m  tot: 0h10m3s  (77.8%)\rEpoch: 89.1%  lr: 0.011081  loss: 0.007632  eta: 0h2m  tot: 0h10m3s  (77.8%)\rEpoch: 89.2%  lr: 0.011081  loss: 0.007629  eta: 0h2m  tot: 0h10m3s  (77.8%)\rEpoch: 89.3%  lr: 0.011081  loss: 0.007624  eta: 0h2m  tot: 0h10m3s  (77.9%)\rEpoch: 89.4%  lr: 0.011071  loss: 0.007621  eta: 0h2m  tot: 0h10m3s  (77.9%)\rEpoch: 89.5%  lr: 0.011061  loss: 0.007616  eta: 0h2m  tot: 0h10m4s  (77.9%)\rEpoch: 89.6%  lr: 0.011061  loss: 0.007618  eta: 0h2m  tot: 0h10m4s  (77.9%)\rEpoch: 89.7%  lr: 0.011061  loss: 0.007620  eta: 0h2m  tot: 0h10m4s  (77.9%)\rEpoch: 89.8%  lr: 0.011061  loss: 0.007615  eta: 0h2m  tot: 0h10m4s  (78.0%)\rEpoch: 89.8%  lr: 0.011031  loss: 0.007611  eta: 0h2m  tot: 0h10m4s  (78.0%)\rEpoch: 89.9%  lr: 0.011021  loss: 0.007611  eta: 0h2m  tot: 0h10m4s  (78.0%)\rEpoch: 90.0%  lr: 0.011021  loss: 0.007607  eta: 0h2m  tot: 0h10m4s  (78.0%)\rEpoch: 90.1%  lr: 0.011021  loss: 0.007608  eta: 0h2m  tot: 0h10m5s  (78.0%)\rEpoch: 90.2%  lr: 0.011021  loss: 0.007606  eta: 0h2m  tot: 0h10m5s  (78.0%)\rEpoch: 90.3%  lr: 0.011001  loss: 0.007602  eta: 0h2m  tot: 0h10m5s  (78.1%)\rEpoch: 90.4%  lr: 0.010971  loss: 0.007607  eta: 0h2m  tot: 0h10m5s  (78.1%)\rEpoch: 90.5%  lr: 0.010961  loss: 0.007605  eta: 0h2m  tot: 0h10m5s  (78.1%)\rEpoch: 90.6%  lr: 0.010931  loss: 0.007604  eta: 0h2m  tot: 0h10m5s  (78.1%)\rEpoch: 90.7%  lr: 0.010931  loss: 0.007604  eta: 0h2m  tot: 0h10m5s  (78.1%)\rEpoch: 90.7%  lr: 0.010931  loss: 0.007600  eta: 0h2m  tot: 0h10m5s  (78.1%)\rEpoch: 90.8%  lr: 0.010931  loss: 0.007604  eta: 0h2m  tot: 0h10m6s  (78.2%)\rEpoch: 90.9%  lr: 0.010931  loss: 0.007607  eta: 0h2m  tot: 0h10m6s  (78.2%)\rEpoch: 91.0%  lr: 0.010931  loss: 0.007603  eta: 0h2m  tot: 0h10m6s  (78.2%)\rEpoch: 91.1%  lr: 0.010921  loss: 0.007599  eta: 0h2m  tot: 0h10m6s  (78.2%)\rEpoch: 91.2%  lr: 0.010901  loss: 0.007603  eta: 0h2m  tot: 0h10m6s  (78.2%)\rEpoch: 91.3%  lr: 0.010891  loss: 0.007600  eta: 0h2m  tot: 0h10m6s  (78.3%)\rEpoch: 91.4%  lr: 0.010871  loss: 0.007601  eta: 0h2m  tot: 0h10m6s  (78.3%)\rEpoch: 91.5%  lr: 0.010861  loss: 0.007600  eta: 0h2m  tot: 0h10m7s  (78.3%)\rEpoch: 91.6%  lr: 0.010831  loss: 0.007609  eta: 0h2m  tot: 0h10m7s  (78.3%)\rEpoch: 91.6%  lr: 0.010811  loss: 0.007606  eta: 0h2m  tot: 0h10m7s  (78.3%)\rEpoch: 91.7%  lr: 0.010811  loss: 0.007609  eta: 0h2m  tot: 0h10m7s  (78.3%)\rEpoch: 91.8%  lr: 0.010811  loss: 0.007614  eta: 0h2m  tot: 0h10m7s  (78.4%)\rEpoch: 91.9%  lr: 0.010811  loss: 0.007608  eta: 0h2m  tot: 0h10m7s  (78.4%)\rEpoch: 92.0%  lr: 0.010791  loss: 0.007604  eta: 0h2m  tot: 0h10m7s  (78.4%)\rEpoch: 92.1%  lr: 0.010781  loss: 0.007603  eta: 0h2m  tot: 0h10m7s  (78.4%)\rEpoch: 92.2%  lr: 0.010781  loss: 0.007607  eta: 0h2m  tot: 0h10m8s  (78.4%)\rEpoch: 92.3%  lr: 0.010781  loss: 0.007603  eta: 0h2m  tot: 0h10m8s  (78.5%)\rEpoch: 92.4%  lr: 0.010771  loss: 0.007604  eta: 0h2m  tot: 0h10m8s  (78.5%)\rEpoch: 92.5%  lr: 0.010761  loss: 0.007615  eta: 0h2m  tot: 0h10m8s  (78.5%)\rEpoch: 92.5%  lr: 0.010751  loss: 0.007612  eta: 0h2m  tot: 0h10m8s  (78.5%)\rEpoch: 92.6%  lr: 0.010731  loss: 0.007609  eta: 0h2m  tot: 0h10m8s  (78.5%)\rEpoch: 92.7%  lr: 0.010711  loss: 0.007610  eta: 0h2m  tot: 0h10m8s  (78.5%)\rEpoch: 92.8%  lr: 0.010711  loss: 0.007610  eta: 0h2m  tot: 0h10m9s  (78.6%)\rEpoch: 92.9%  lr: 0.010701  loss: 0.007615  eta: 0h2m  tot: 0h10m9s  (78.6%)\rEpoch: 93.0%  lr: 0.010701  loss: 0.007621  eta: 0h2m  tot: 0h10m9s  (78.6%)\rEpoch: 93.1%  lr: 0.010681  loss: 0.007616  eta: 0h2m  tot: 0h10m9s  (78.6%)\rEpoch: 93.2%  lr: 0.010671  loss: 0.007611  eta: 0h2m  tot: 0h10m9s  (78.6%)\rEpoch: 93.3%  lr: 0.010661  loss: 0.007614  eta: 0h2m  tot: 0h10m9s  (78.7%)\rEpoch: 93.4%  lr: 0.010651  loss: 0.007625  eta: 0h2m  tot: 0h10m9s  (78.7%)\rEpoch: 93.4%  lr: 0.010651  loss: 0.007625  eta: 0h2m  tot: 0h10m10s  (78.7%)\rEpoch: 93.5%  lr: 0.010631  loss: 0.007625  eta: 0h2m  tot: 0h10m10s  (78.7%)\rEpoch: 93.6%  lr: 0.010621  loss: 0.007626  eta: 0h2m  tot: 0h10m10s  (78.7%)\rEpoch: 93.7%  lr: 0.010621  loss: 0.007626  eta: 0h2m  tot: 0h10m10s  (78.7%)\rEpoch: 93.8%  lr: 0.010611  loss: 0.007630  eta: 0h2m  tot: 0h10m10s  (78.8%)\rEpoch: 93.9%  lr: 0.010601  loss: 0.007631  eta: 0h2m  tot: 0h10m10s  (78.8%)\rEpoch: 94.0%  lr: 0.010571  loss: 0.007638  eta: 0h2m  tot: 0h10m10s  (78.8%)\rEpoch: 94.1%  lr: 0.010571  loss: 0.007662  eta: 0h2m  tot: 0h10m11s  (78.8%)\rEpoch: 94.2%  lr: 0.010571  loss: 0.007663  eta: 0h2m  tot: 0h10m11s  (78.8%)\rEpoch: 94.3%  lr: 0.010571  loss: 0.007675  eta: 0h2m  tot: 0h10m11s  (78.9%)\rEpoch: 94.3%  lr: 0.010571  loss: 0.007678  eta: 0h2m  tot: 0h10m11s  (78.9%)\rEpoch: 94.4%  lr: 0.010551  loss: 0.007684  eta: 0h2m  tot: 0h10m11s  (78.9%)\rEpoch: 94.5%  lr: 0.010541  loss: 0.007685  eta: 0h2m  tot: 0h10m11s  (78.9%)\rEpoch: 94.6%  lr: 0.010521  loss: 0.007686  eta: 0h2m  tot: 0h10m11s  (78.9%)\rEpoch: 94.7%  lr: 0.010521  loss: 0.007689  eta: 0h2m  tot: 0h10m11s  (78.9%)\rEpoch: 94.8%  lr: 0.010521  loss: 0.007690  eta: 0h2m  tot: 0h10m12s  (79.0%)\rEpoch: 94.9%  lr: 0.010521  loss: 0.007689  eta: 0h2m  tot: 0h10m12s  (79.0%)\rEpoch: 95.0%  lr: 0.010511  loss: 0.007690  eta: 0h2m  tot: 0h10m12s  (79.0%)\rEpoch: 95.1%  lr: 0.010491  loss: 0.007692  eta: 0h2m  tot: 0h10m12s  (79.0%)\rEpoch: 95.2%  lr: 0.010471  loss: 0.007687  eta: 0h2m  tot: 0h10m12s  (79.0%)\rEpoch: 95.2%  lr: 0.010451  loss: 0.007688  eta: 0h2m  tot: 0h10m12s  (79.0%)\rEpoch: 95.3%  lr: 0.010451  loss: 0.007692  eta: 0h2m  tot: 0h10m12s  (79.1%)\rEpoch: 95.4%  lr: 0.010441  loss: 0.007694  eta: 0h2m  tot: 0h10m13s  (79.1%)\rEpoch: 95.5%  lr: 0.010421  loss: 0.007697  eta: 0h2m  tot: 0h10m13s  (79.1%)\rEpoch: 95.6%  lr: 0.010411  loss: 0.007696  eta: 0h2m  tot: 0h10m13s  (79.1%)\rEpoch: 95.7%  lr: 0.010411  loss: 0.007696  eta: 0h2m  tot: 0h10m13s  (79.1%)\rEpoch: 95.8%  lr: 0.010371  loss: 0.007700  eta: 0h2m  tot: 0h10m13s  (79.2%)\rEpoch: 95.9%  lr: 0.010371  loss: 0.007707  eta: 0h2m  tot: 0h10m13s  (79.2%)\rEpoch: 96.0%  lr: 0.010361  loss: 0.007718  eta: 0h2m  tot: 0h10m13s  (79.2%)\rEpoch: 96.1%  lr: 0.010340  loss: 0.007714  eta: 0h2m  tot: 0h10m14s  (79.2%)\rEpoch: 96.1%  lr: 0.010330  loss: 0.007726  eta: 0h2m  tot: 0h10m14s  (79.2%)\rEpoch: 96.2%  lr: 0.010310  loss: 0.007730  eta: 0h2m  tot: 0h10m14s  (79.2%)\rEpoch: 96.3%  lr: 0.010290  loss: 0.007727  eta: 0h2m  tot: 0h10m14s  (79.3%)\rEpoch: 96.4%  lr: 0.010280  loss: 0.007724  eta: 0h2m  tot: 0h10m14s  (79.3%)\rEpoch: 96.5%  lr: 0.010260  loss: 0.007726  eta: 0h2m  tot: 0h10m14s  (79.3%)\rEpoch: 96.6%  lr: 0.010250  loss: 0.007723  eta: 0h2m  tot: 0h10m14s  (79.3%)\rEpoch: 96.7%  lr: 0.010250  loss: 0.007722  eta: 0h2m  tot: 0h10m15s  (79.3%)\rEpoch: 96.8%  lr: 0.010230  loss: 0.007725  eta: 0h2m  tot: 0h10m15s  (79.4%)\rEpoch: 96.9%  lr: 0.010210  loss: 0.007723  eta: 0h2m  tot: 0h10m15s  (79.4%)\rEpoch: 97.0%  lr: 0.010210  loss: 0.007719  eta: 0h2m  tot: 0h10m15s  (79.4%)\rEpoch: 97.0%  lr: 0.010210  loss: 0.007718  eta: 0h2m  tot: 0h10m15s  (79.4%)\rEpoch: 97.1%  lr: 0.010200  loss: 0.007715  eta: 0h2m  tot: 0h10m15s  (79.4%)\rEpoch: 97.2%  lr: 0.010200  loss: 0.007711  eta: 0h2m  tot: 0h10m15s  (79.4%)\rEpoch: 97.3%  lr: 0.010200  loss: 0.007707  eta: 0h2m  tot: 0h10m16s  (79.5%)\rEpoch: 97.4%  lr: 0.010200  loss: 0.007703  eta: 0h2m  tot: 0h10m16s  (79.5%)\rEpoch: 97.5%  lr: 0.010190  loss: 0.007701  eta: 0h2m  tot: 0h10m16s  (79.5%)\rEpoch: 97.6%  lr: 0.010190  loss: 0.007701  eta: 0h2m  tot: 0h10m16s  (79.5%)\rEpoch: 97.7%  lr: 0.010180  loss: 0.007703  eta: 0h2m  tot: 0h10m16s  (79.5%)\rEpoch: 97.8%  lr: 0.010150  loss: 0.007703  eta: 0h2m  tot: 0h10m16s  (79.6%)\rEpoch: 97.9%  lr: 0.010140  loss: 0.007702  eta: 0h2m  tot: 0h10m16s  (79.6%)\rEpoch: 97.9%  lr: 0.010140  loss: 0.007697  eta: 0h2m  tot: 0h10m16s  (79.6%)\rEpoch: 98.0%  lr: 0.010130  loss: 0.007697  eta: 0h2m  tot: 0h10m17s  (79.6%)\rEpoch: 98.1%  lr: 0.010130  loss: 0.007697  eta: 0h2m  tot: 0h10m17s  (79.6%)\rEpoch: 98.2%  lr: 0.010120  loss: 0.007693  eta: 0h2m  tot: 0h10m17s  (79.6%)\rEpoch: 98.3%  lr: 0.010120  loss: 0.007696  eta: 0h2m  tot: 0h10m17s  (79.7%)\rEpoch: 98.4%  lr: 0.010100  loss: 0.007692  eta: 0h2m  tot: 0h10m17s  (79.7%)\rEpoch: 98.5%  lr: 0.010100  loss: 0.007688  eta: 0h2m  tot: 0h10m17s  (79.7%)\rEpoch: 98.6%  lr: 0.010100  loss: 0.007693  eta: 0h2m  tot: 0h10m17s  (79.7%)\rEpoch: 98.7%  lr: 0.010090  loss: 0.007690  eta: 0h2m  tot: 0h10m18s  (79.7%)\rEpoch: 98.8%  lr: 0.010090  loss: 0.007690  eta: 0h2m  tot: 0h10m18s  (79.8%)\rEpoch: 98.8%  lr: 0.010090  loss: 0.007687  eta: 0h2m  tot: 0h10m18s  (79.8%)\rEpoch: 98.9%  lr: 0.010070  loss: 0.007686  eta: 0h2m  tot: 0h10m18s  (79.8%)\rEpoch: 99.0%  lr: 0.010060  loss: 0.007694  eta: 0h2m  tot: 0h10m18s  (79.8%)\rEpoch: 99.1%  lr: 0.010060  loss: 0.007693  eta: 0h2m  tot: 0h10m18s  (79.8%)\rEpoch: 99.2%  lr: 0.010050  loss: 0.007714  eta: 0h2m  tot: 0h10m18s  (79.8%)\rEpoch: 99.3%  lr: 0.010030  loss: 0.007713  eta: 0h2m  tot: 0h10m19s  (79.9%)\rEpoch: 99.4%  lr: 0.010030  loss: 0.007714  eta: 0h2m  tot: 0h10m19s  (79.9%)\rEpoch: 99.5%  lr: 0.010020  loss: 0.007718  eta: 0h2m  tot: 0h10m19s  (79.9%)\rEpoch: 99.6%  lr: 0.010020  loss: 0.007720  eta: 0h2m  tot: 0h10m19s  (79.9%)\rEpoch: 99.7%  lr: 0.010010  loss: 0.007725  eta: 0h2m  tot: 0h10m19s  (79.9%)\rEpoch: 99.7%  lr: 0.010000  loss: 0.007725  eta: 0h2m  tot: 0h10m19s  (79.9%)\rEpoch: 99.8%  lr: 0.010000  loss: 0.007727  eta: 0h2m  tot: 0h10m19s  (80.0%)\rEpoch: 99.9%  lr: 0.010000  loss: 0.007726  eta: 0h2m  tot: 0h10m19s  (80.0%)\rEpoch: 100.0%  lr: 0.010000  loss: 0.007721  eta: 0h2m  tot: 0h10m19s  (80.0%)\rEpoch: 0.1%  lr: 0.009990  loss: 0.014104  eta: 0h3m  tot: 0h10m20s  (80.0%)\rEpoch: 0.2%  lr: 0.009980  loss: 0.013235  eta: 0h3m  tot: 0h10m20s  (80.0%)\rEpoch: 0.3%  lr: 0.009970  loss: 0.009314  eta: 0h2m  tot: 0h10m20s  (80.1%)\rEpoch: 0.4%  lr: 0.009950  loss: 0.007709  eta: 0h2m  tot: 0h10m20s  (80.1%)\rEpoch: 0.4%  lr: 0.009950  loss: 0.007505  eta: 0h2m  tot: 0h10m20s  (80.1%)\rEpoch: 0.5%  lr: 0.009930  loss: 0.007827  eta: 0h2m  tot: 0h10m20s  (80.1%)\rEpoch: 0.6%  lr: 0.009920  loss: 0.007609  eta: 0h2m  tot: 0h10m20s  (80.1%)\rEpoch: 0.7%  lr: 0.009910  loss: 0.007011  eta: 0h2m  tot: 0h10m21s  (80.1%)\rEpoch: 0.8%  lr: 0.009910  loss: 0.006819  eta: 0h2m  tot: 0h10m21s  (80.2%)\rEpoch: 0.9%  lr: 0.009900  loss: 0.006545  eta: 0h2m  tot: 0h10m21s  (80.2%)\rEpoch: 1.0%  lr: 0.009900  loss: 0.006475  eta: 0h2m  tot: 0h10m21s  (80.2%)\rEpoch: 1.1%  lr: 0.009890  loss: 0.006347  eta: 0h2m  tot: 0h10m21s  (80.2%)\rEpoch: 1.2%  lr: 0.009870  loss: 0.006083  eta: 0h2m  tot: 0h10m21s  (80.2%)\rEpoch: 1.3%  lr: 0.009870  loss: 0.005804  eta: 0h2m  tot: 0h10m21s  (80.3%)\rEpoch: 1.3%  lr: 0.009850  loss: 0.005869  eta: 0h2m  tot: 0h10m22s  (80.3%)\rEpoch: 1.4%  lr: 0.009840  loss: 0.005952  eta: 0h2m  tot: 0h10m22s  (80.3%)\rEpoch: 1.5%  lr: 0.009830  loss: 0.005786  eta: 0h2m  tot: 0h10m22s  (80.3%)\rEpoch: 1.6%  lr: 0.009820  loss: 0.005630  eta: 0h2m  tot: 0h10m22s  (80.3%)\rEpoch: 1.7%  lr: 0.009810  loss: 0.005712  eta: 0h2m  tot: 0h10m22s  (80.3%)\rEpoch: 1.8%  lr: 0.009810  loss: 0.005608  eta: 0h2m  tot: 0h10m22s  (80.4%)\rEpoch: 1.9%  lr: 0.009810  loss: 0.005695  eta: 0h2m  tot: 0h10m22s  (80.4%)\rEpoch: 2.0%  lr: 0.009810  loss: 0.005950  eta: 0h2m  tot: 0h10m23s  (80.4%)\rEpoch: 2.1%  lr: 0.009790  loss: 0.005949  eta: 0h2m  tot: 0h10m23s  (80.4%)\rEpoch: 2.2%  lr: 0.009780  loss: 0.006510  eta: 0h2m  tot: 0h10m23s  (80.4%)\rEpoch: 2.2%  lr: 0.009770  loss: 0.006673  eta: 0h2m  tot: 0h10m23s  (80.4%)\rEpoch: 2.3%  lr: 0.009770  loss: 0.006528  eta: 0h2m  tot: 0h10m23s  (80.5%)\rEpoch: 2.4%  lr: 0.009770  loss: 0.006569  eta: 0h2m  tot: 0h10m23s  (80.5%)\rEpoch: 2.5%  lr: 0.009770  loss: 0.006483  eta: 0h2m  tot: 0h10m23s  (80.5%)\rEpoch: 2.6%  lr: 0.009770  loss: 0.006548  eta: 0h2m  tot: 0h10m23s  (80.5%)\rEpoch: 2.7%  lr: 0.009750  loss: 0.006525  eta: 0h2m  tot: 0h10m24s  (80.5%)\rEpoch: 2.8%  lr: 0.009750  loss: 0.006421  eta: 0h2m  tot: 0h10m24s  (80.6%)\rEpoch: 2.9%  lr: 0.009740  loss: 0.006371  eta: 0h2m  tot: 0h10m24s  (80.6%)\rEpoch: 3.0%  lr: 0.009720  loss: 0.006271  eta: 0h2m  tot: 0h10m24s  (80.6%)\rEpoch: 3.1%  lr: 0.009720  loss: 0.006309  eta: 0h2m  tot: 0h10m24s  (80.6%)\rEpoch: 3.1%  lr: 0.009710  loss: 0.006335  eta: 0h2m  tot: 0h10m24s  (80.6%)\rEpoch: 3.2%  lr: 0.009700  loss: 0.006305  eta: 0h2m  tot: 0h10m24s  (80.6%)\rEpoch: 3.3%  lr: 0.009700  loss: 0.006290  eta: 0h2m  tot: 0h10m25s  (80.7%)\rEpoch: 3.4%  lr: 0.009700  loss: 0.006235  eta: 0h2m  tot: 0h10m25s  (80.7%)\rEpoch: 3.5%  lr: 0.009700  loss: 0.006135  eta: 0h2m  tot: 0h10m25s  (80.7%)\rEpoch: 3.6%  lr: 0.009680  loss: 0.006053  eta: 0h2m  tot: 0h10m25s  (80.7%)\rEpoch: 3.7%  lr: 0.009670  loss: 0.005940  eta: 0h2m  tot: 0h10m25s  (80.7%)\rEpoch: 3.8%  lr: 0.009650  loss: 0.006031  eta: 0h2m  tot: 0h10m25s  (80.8%)\rEpoch: 3.9%  lr: 0.009640  loss: 0.005928  eta: 0h2m  tot: 0h10m25s  (80.8%)\rEpoch: 4.0%  lr: 0.009640  loss: 0.005985  eta: 0h2m  tot: 0h10m25s  (80.8%)\rEpoch: 4.1%  lr: 0.009640  loss: 0.005900  eta: 0h2m  tot: 0h10m26s  (80.8%)\rEpoch: 4.1%  lr: 0.009630  loss: 0.005944  eta: 0h2m  tot: 0h10m26s  (80.8%)\rEpoch: 4.2%  lr: 0.009620  loss: 0.005977  eta: 0h2m  tot: 0h10m26s  (80.8%)\rEpoch: 4.3%  lr: 0.009600  loss: 0.005971  eta: 0h2m  tot: 0h10m26s  (80.9%)\rEpoch: 4.4%  lr: 0.009590  loss: 0.006002  eta: 0h2m  tot: 0h10m26s  (80.9%)\rEpoch: 4.5%  lr: 0.009590  loss: 0.006137  eta: 0h2m  tot: 0h10m26s  (80.9%)\rEpoch: 4.6%  lr: 0.009580  loss: 0.006248  eta: 0h2m  tot: 0h10m26s  (80.9%)\rEpoch: 4.7%  lr: 0.009560  loss: 0.006301  eta: 0h2m  tot: 0h10m27s  (80.9%)\rEpoch: 4.8%  lr: 0.009560  loss: 0.006284  eta: 0h2m  tot: 0h10m27s  (81.0%)\rEpoch: 4.9%  lr: 0.009520  loss: 0.006294  eta: 0h2m  tot: 0h10m27s  (81.0%)\rEpoch: 5.0%  lr: 0.009510  loss: 0.006449  eta: 0h2m  tot: 0h10m27s  (81.0%)\rEpoch: 5.0%  lr: 0.009510  loss: 0.006536  eta: 0h2m  tot: 0h10m27s  (81.0%)\rEpoch: 5.1%  lr: 0.009479  loss: 0.006612  eta: 0h2m  tot: 0h10m27s  (81.0%)\rEpoch: 5.2%  lr: 0.009459  loss: 0.006614  eta: 0h2m  tot: 0h10m27s  (81.0%)\rEpoch: 5.3%  lr: 0.009449  loss: 0.006590  eta: 0h2m  tot: 0h10m27s  (81.1%)\rEpoch: 5.4%  lr: 0.009449  loss: 0.006575  eta: 0h2m  tot: 0h10m28s  (81.1%)\rEpoch: 5.5%  lr: 0.009439  loss: 0.006525  eta: 0h2m  tot: 0h10m28s  (81.1%)\rEpoch: 5.6%  lr: 0.009409  loss: 0.006450  eta: 0h2m  tot: 0h10m28s  (81.1%)\rEpoch: 5.7%  lr: 0.009379  loss: 0.006493  eta: 0h2m  tot: 0h10m28s  (81.1%)\rEpoch: 5.8%  lr: 0.009359  loss: 0.006467  eta: 0h2m  tot: 0h10m28s  (81.2%)\rEpoch: 5.9%  lr: 0.009349  loss: 0.006486  eta: 0h2m  tot: 0h10m28s  (81.2%)\rEpoch: 5.9%  lr: 0.009349  loss: 0.006579  eta: 0h2m  tot: 0h10m28s  (81.2%)\rEpoch: 6.0%  lr: 0.009349  loss: 0.006659  eta: 0h2m  tot: 0h10m29s  (81.2%)\rEpoch: 6.1%  lr: 0.009339  loss: 0.006681  eta: 0h2m  tot: 0h10m29s  (81.2%)\rEpoch: 6.2%  lr: 0.009329  loss: 0.006741  eta: 0h2m  tot: 0h10m29s  (81.2%)\rEpoch: 6.3%  lr: 0.009329  loss: 0.006731  eta: 0h2m  tot: 0h10m29s  (81.3%)\rEpoch: 6.4%  lr: 0.009329  loss: 0.006832  eta: 0h2m  tot: 0h10m29s  (81.3%)\rEpoch: 6.5%  lr: 0.009319  loss: 0.006858  eta: 0h2m  tot: 0h10m29s  (81.3%)\rEpoch: 6.6%  lr: 0.009309  loss: 0.006909  eta: 0h2m  tot: 0h10m29s  (81.3%)\rEpoch: 6.7%  lr: 0.009299  loss: 0.006978  eta: 0h2m  tot: 0h10m29s  (81.3%)\rEpoch: 6.8%  lr: 0.009259  loss: 0.006935  eta: 0h2m  tot: 0h10m30s  (81.4%)\rEpoch: 6.8%  lr: 0.009239  loss: 0.007050  eta: 0h2m  tot: 0h10m30s  (81.4%)\rEpoch: 6.9%  lr: 0.009239  loss: 0.006999  eta: 0h2m  tot: 0h10m30s  (81.4%)\rEpoch: 7.0%  lr: 0.009229  loss: 0.007050  eta: 0h2m  tot: 0h10m30s  (81.4%)\rEpoch: 7.1%  lr: 0.009219  loss: 0.007031  eta: 0h2m  tot: 0h10m30s  (81.4%)\rEpoch: 7.2%  lr: 0.009219  loss: 0.007083  eta: 0h2m  tot: 0h10m30s  (81.4%)\rEpoch: 7.3%  lr: 0.009219  loss: 0.007062  eta: 0h2m  tot: 0h10m30s  (81.5%)\rEpoch: 7.4%  lr: 0.009199  loss: 0.007041  eta: 0h2m  tot: 0h10m31s  (81.5%)\rEpoch: 7.5%  lr: 0.009189  loss: 0.006999  eta: 0h2m  tot: 0h10m31s  (81.5%)\rEpoch: 7.6%  lr: 0.009159  loss: 0.007019  eta: 0h2m  tot: 0h10m31s  (81.5%)\rEpoch: 7.7%  lr: 0.009129  loss: 0.007004  eta: 0h2m  tot: 0h10m31s  (81.5%)\rEpoch: 7.7%  lr: 0.009129  loss: 0.006990  eta: 0h2m  tot: 0h10m31s  (81.5%)\rEpoch: 7.8%  lr: 0.009109  loss: 0.007046  eta: 0h2m  tot: 0h10m31s  (81.6%)\rEpoch: 7.9%  lr: 0.009109  loss: 0.006994  eta: 0h2m  tot: 0h10m31s  (81.6%)\rEpoch: 8.0%  lr: 0.009099  loss: 0.006974  eta: 0h2m  tot: 0h10m32s  (81.6%)\rEpoch: 8.1%  lr: 0.009099  loss: 0.006945  eta: 0h2m  tot: 0h10m32s  (81.6%)\rEpoch: 8.2%  lr: 0.009099  loss: 0.007003  eta: 0h2m  tot: 0h10m32s  (81.6%)\rEpoch: 8.3%  lr: 0.009099  loss: 0.007063  eta: 0h2m  tot: 0h10m32s  (81.7%)\rEpoch: 8.4%  lr: 0.009079  loss: 0.007026  eta: 0h2m  tot: 0h10m32s  (81.7%)\rEpoch: 8.5%  lr: 0.009059  loss: 0.007019  eta: 0h2m  tot: 0h10m32s  (81.7%)\rEpoch: 8.6%  lr: 0.009049  loss: 0.006998  eta: 0h2m  tot: 0h10m32s  (81.7%)\rEpoch: 8.6%  lr: 0.009039  loss: 0.006960  eta: 0h2m  tot: 0h10m32s  (81.7%)\rEpoch: 8.7%  lr: 0.009039  loss: 0.006894  eta: 0h2m  tot: 0h10m33s  (81.7%)\rEpoch: 8.8%  lr: 0.009039  loss: 0.006859  eta: 0h2m  tot: 0h10m33s  (81.8%)\rEpoch: 8.9%  lr: 0.009029  loss: 0.006824  eta: 0h2m  tot: 0h10m33s  (81.8%)\rEpoch: 9.0%  lr: 0.009029  loss: 0.006770  eta: 0h2m  tot: 0h10m33s  (81.8%)\rEpoch: 9.1%  lr: 0.009009  loss: 0.006814  eta: 0h2m  tot: 0h10m33s  (81.8%)\rEpoch: 9.2%  lr: 0.008999  loss: 0.006760  eta: 0h2m  tot: 0h10m33s  (81.8%)\rEpoch: 9.3%  lr: 0.008979  loss: 0.006809  eta: 0h2m  tot: 0h10m33s  (81.9%)\rEpoch: 9.4%  lr: 0.008979  loss: 0.006807  eta: 0h2m  tot: 0h10m33s  (81.9%)\rEpoch: 9.5%  lr: 0.008979  loss: 0.006808  eta: 0h2m  tot: 0h10m34s  (81.9%)\rEpoch: 9.5%  lr: 0.008959  loss: 0.006854  eta: 0h2m  tot: 0h10m34s  (81.9%)\rEpoch: 9.6%  lr: 0.008939  loss: 0.006843  eta: 0h2m  tot: 0h10m34s  (81.9%)\rEpoch: 9.7%  lr: 0.008929  loss: 0.006863  eta: 0h2m  tot: 0h10m34s  (81.9%)\rEpoch: 9.8%  lr: 0.008919  loss: 0.006886  eta: 0h2m  tot: 0h10m34s  (82.0%)\rEpoch: 9.9%  lr: 0.008909  loss: 0.006870  eta: 0h2m  tot: 0h10m34s  (82.0%)\rEpoch: 10.0%  lr: 0.008879  loss: 0.006841  eta: 0h2m  tot: 0h10m34s  (82.0%)\rEpoch: 10.1%  lr: 0.008879  loss: 0.006808  eta: 0h2m  tot: 0h10m35s  (82.0%)\rEpoch: 10.2%  lr: 0.008859  loss: 0.006842  eta: 0h2m  tot: 0h10m35s  (82.0%)\rEpoch: 10.3%  lr: 0.008849  loss: 0.006850  eta: 0h2m  tot: 0h10m35s  (82.1%)\rEpoch: 10.4%  lr: 0.008849  loss: 0.006897  eta: 0h2m  tot: 0h10m35s  (82.1%)\rEpoch: 10.4%  lr: 0.008839  loss: 0.006881  eta: 0h2m  tot: 0h10m35s  (82.1%)\rEpoch: 10.5%  lr: 0.008829  loss: 0.006857  eta: 0h2m  tot: 0h10m35s  (82.1%)\rEpoch: 10.6%  lr: 0.008829  loss: 0.006881  eta: 0h2m  tot: 0h10m35s  (82.1%)\rEpoch: 10.7%  lr: 0.008829  loss: 0.006833  eta: 0h2m  tot: 0h10m35s  (82.1%)\rEpoch: 10.8%  lr: 0.008809  loss: 0.006853  eta: 0h2m  tot: 0h10m36s  (82.2%)\rEpoch: 10.9%  lr: 0.008789  loss: 0.006835  eta: 0h2m  tot: 0h10m36s  (82.2%)\rEpoch: 11.0%  lr: 0.008779  loss: 0.006913  eta: 0h2m  tot: 0h10m36s  (82.2%)\rEpoch: 11.1%  lr: 0.008759  loss: 0.006952  eta: 0h2m  tot: 0h10m36s  (82.2%)\rEpoch: 11.2%  lr: 0.008729  loss: 0.007015  eta: 0h2m  tot: 0h10m36s  (82.2%)\rEpoch: 11.3%  lr: 0.008699  loss: 0.006980  eta: 0h2m  tot: 0h10m36s  (82.3%)\rEpoch: 11.3%  lr: 0.008689  loss: 0.006964  eta: 0h2m  tot: 0h10m36s  (82.3%)\rEpoch: 11.4%  lr: 0.008689  loss: 0.006945  eta: 0h2m  tot: 0h10m36s  (82.3%)\rEpoch: 11.5%  lr: 0.008689  loss: 0.006943  eta: 0h2m  tot: 0h10m37s  (82.3%)\rEpoch: 11.6%  lr: 0.008689  loss: 0.006916  eta: 0h2m  tot: 0h10m37s  (82.3%)\rEpoch: 11.7%  lr: 0.008689  loss: 0.006891  eta: 0h2m  tot: 0h10m37s  (82.3%)\rEpoch: 11.8%  lr: 0.008689  loss: 0.006933  eta: 0h2m  tot: 0h10m37s  (82.4%)\rEpoch: 11.9%  lr: 0.008689  loss: 0.007001  eta: 0h2m  tot: 0h10m37s  (82.4%)\rEpoch: 12.0%  lr: 0.008679  loss: 0.006999  eta: 0h2m  tot: 0h10m37s  (82.4%)\rEpoch: 12.1%  lr: 0.008679  loss: 0.006997  eta: 0h2m  tot: 0h10m37s  (82.4%)\rEpoch: 12.2%  lr: 0.008679  loss: 0.006989  eta: 0h2m  tot: 0h10m38s  (82.4%)\rEpoch: 12.2%  lr: 0.008669  loss: 0.006988  eta: 0h2m  tot: 0h10m38s  (82.4%)\rEpoch: 12.3%  lr: 0.008649  loss: 0.006966  eta: 0h2m  tot: 0h10m38s  (82.5%)\rEpoch: 12.4%  lr: 0.008629  loss: 0.006971  eta: 0h2m  tot: 0h10m38s  (82.5%)\rEpoch: 12.5%  lr: 0.008619  loss: 0.006949  eta: 0h2m  tot: 0h10m38s  (82.5%)\rEpoch: 12.6%  lr: 0.008599  loss: 0.006933  eta: 0h2m  tot: 0h10m38s  (82.5%)\rEpoch: 12.7%  lr: 0.008579  loss: 0.006905  eta: 0h2m  tot: 0h10m38s  (82.5%)\rEpoch: 12.8%  lr: 0.008579  loss: 0.006915  eta: 0h2m  tot: 0h10m38s  (82.6%)\rEpoch: 12.9%  lr: 0.008579  loss: 0.006947  eta: 0h2m  tot: 0h10m39s  (82.6%)\rEpoch: 13.0%  lr: 0.008569  loss: 0.006953  eta: 0h2m  tot: 0h10m39s  (82.6%)\rEpoch: 13.1%  lr: 0.008569  loss: 0.006972  eta: 0h2m  tot: 0h10m39s  (82.6%)\rEpoch: 13.1%  lr: 0.008559  loss: 0.007016  eta: 0h2m  tot: 0h10m39s  (82.6%)\rEpoch: 13.2%  lr: 0.008549  loss: 0.007003  eta: 0h2m  tot: 0h10m39s  (82.6%)\rEpoch: 13.3%  lr: 0.008539  loss: 0.007051  eta: 0h2m  tot: 0h10m39s  (82.7%)\rEpoch: 13.4%  lr: 0.008529  loss: 0.007036  eta: 0h2m  tot: 0h10m39s  (82.7%)\rEpoch: 13.5%  lr: 0.008519  loss: 0.007040  eta: 0h2m  tot: 0h10m40s  (82.7%)\rEpoch: 13.6%  lr: 0.008509  loss: 0.007042  eta: 0h2m  tot: 0h10m40s  (82.7%)\rEpoch: 13.7%  lr: 0.008499  loss: 0.007032  eta: 0h2m  tot: 0h10m40s  (82.7%)\rEpoch: 13.8%  lr: 0.008499  loss: 0.007032  eta: 0h2m  tot: 0h10m40s  (82.8%)\rEpoch: 13.9%  lr: 0.008489  loss: 0.006994  eta: 0h2m  tot: 0h10m40s  (82.8%)\rEpoch: 14.0%  lr: 0.008489  loss: 0.007002  eta: 0h2m  tot: 0h10m40s  (82.8%)\rEpoch: 14.0%  lr: 0.008479  loss: 0.007035  eta: 0h2m  tot: 0h10m40s  (82.8%)\rEpoch: 14.1%  lr: 0.008479  loss: 0.007043  eta: 0h2m  tot: 0h10m40s  (82.8%)\rEpoch: 14.2%  lr: 0.008479  loss: 0.007065  eta: 0h2m  tot: 0h10m41s  (82.8%)\rEpoch: 14.3%  lr: 0.008479  loss: 0.007089  eta: 0h2m  tot: 0h10m41s  (82.9%)\rEpoch: 14.4%  lr: 0.008468  loss: 0.007076  eta: 0h2m  tot: 0h10m41s  (82.9%)\rEpoch: 14.5%  lr: 0.008448  loss: 0.007053  eta: 0h2m  tot: 0h10m41s  (82.9%)\rEpoch: 14.6%  lr: 0.008448  loss: 0.007054  eta: 0h2m  tot: 0h10m41s  (82.9%)\rEpoch: 14.7%  lr: 0.008448  loss: 0.007038  eta: 0h2m  tot: 0h10m41s  (82.9%)\rEpoch: 14.8%  lr: 0.008448  loss: 0.007021  eta: 0h2m  tot: 0h10m41s  (83.0%)\rEpoch: 14.9%  lr: 0.008448  loss: 0.006993  eta: 0h2m  tot: 0h10m42s  (83.0%)\rEpoch: 14.9%  lr: 0.008428  loss: 0.006986  eta: 0h2m  tot: 0h10m42s  (83.0%)\rEpoch: 15.0%  lr: 0.008418  loss: 0.006967  eta: 0h2m  tot: 0h10m42s  (83.0%)\rEpoch: 15.1%  lr: 0.008418  loss: 0.006967  eta: 0h2m  tot: 0h10m42s  (83.0%)\rEpoch: 15.2%  lr: 0.008408  loss: 0.007015  eta: 0h2m  tot: 0h10m42s  (83.0%)\rEpoch: 15.3%  lr: 0.008388  loss: 0.006985  eta: 0h2m  tot: 0h10m42s  (83.1%)\rEpoch: 15.4%  lr: 0.008378  loss: 0.006966  eta: 0h2m  tot: 0h10m42s  (83.1%)\rEpoch: 15.5%  lr: 0.008368  loss: 0.006983  eta: 0h2m  tot: 0h10m42s  (83.1%)\rEpoch: 15.6%  lr: 0.008338  loss: 0.007015  eta: 0h2m  tot: 0h10m43s  (83.1%)\rEpoch: 15.7%  lr: 0.008328  loss: 0.006990  eta: 0h2m  tot: 0h10m43s  (83.1%)\rEpoch: 15.8%  lr: 0.008298  loss: 0.006969  eta: 0h2m  tot: 0h10m43s  (83.2%)\rEpoch: 15.8%  lr: 0.008278  loss: 0.006984  eta: 0h2m  tot: 0h10m43s  (83.2%)\rEpoch: 15.9%  lr: 0.008278  loss: 0.006970  eta: 0h2m  tot: 0h10m43s  (83.2%)\rEpoch: 16.0%  lr: 0.008258  loss: 0.006978  eta: 0h2m  tot: 0h10m43s  (83.2%)\rEpoch: 16.1%  lr: 0.008258  loss: 0.006980  eta: 0h2m  tot: 0h10m43s  (83.2%)\rEpoch: 16.2%  lr: 0.008248  loss: 0.006949  eta: 0h2m  tot: 0h10m44s  (83.2%)\rEpoch: 16.3%  lr: 0.008248  loss: 0.006959  eta: 0h2m  tot: 0h10m44s  (83.3%)\rEpoch: 16.4%  lr: 0.008238  loss: 0.006967  eta: 0h2m  tot: 0h10m44s  (83.3%)\rEpoch: 16.5%  lr: 0.008228  loss: 0.006967  eta: 0h2m  tot: 0h10m44s  (83.3%)\rEpoch: 16.6%  lr: 0.008208  loss: 0.006965  eta: 0h2m  tot: 0h10m44s  (83.3%)\rEpoch: 16.7%  lr: 0.008208  loss: 0.006970  eta: 0h2m  tot: 0h10m44s  (83.3%)\rEpoch: 16.7%  lr: 0.008198  loss: 0.006963  eta: 0h2m  tot: 0h10m44s  (83.3%)\rEpoch: 16.8%  lr: 0.008158  loss: 0.006966  eta: 0h2m  tot: 0h10m44s  (83.4%)\rEpoch: 16.9%  lr: 0.008138  loss: 0.006986  eta: 0h2m  tot: 0h10m45s  (83.4%)\rEpoch: 17.0%  lr: 0.008128  loss: 0.006976  eta: 0h2m  tot: 0h10m45s  (83.4%)\rEpoch: 17.1%  lr: 0.008118  loss: 0.006991  eta: 0h2m  tot: 0h10m45s  (83.4%)\rEpoch: 17.2%  lr: 0.008108  loss: 0.006991  eta: 0h2m  tot: 0h10m45s  (83.4%)\rEpoch: 17.3%  lr: 0.008098  loss: 0.006988  eta: 0h2m  tot: 0h10m45s  (83.5%)\rEpoch: 17.4%  lr: 0.008088  loss: 0.006974  eta: 0h2m  tot: 0h10m45s  (83.5%)\rEpoch: 17.5%  lr: 0.008088  loss: 0.006947  eta: 0h2m  tot: 0h10m45s  (83.5%)\rEpoch: 17.6%  lr: 0.008088  loss: 0.006984  eta: 0h2m  tot: 0h10m46s  (83.5%)\rEpoch: 17.6%  lr: 0.008078  loss: 0.006973  eta: 0h2m  tot: 0h10m46s  (83.5%)\rEpoch: 17.7%  lr: 0.008078  loss: 0.006967  eta: 0h2m  tot: 0h10m46s  (83.5%)\rEpoch: 17.8%  lr: 0.008068  loss: 0.006938  eta: 0h2m  tot: 0h10m46s  (83.6%)\rEpoch: 17.9%  lr: 0.008058  loss: 0.006968  eta: 0h2m  tot: 0h10m46s  (83.6%)\rEpoch: 18.0%  lr: 0.008048  loss: 0.006955  eta: 0h2m  tot: 0h10m46s  (83.6%)\rEpoch: 18.1%  lr: 0.008018  loss: 0.006947  eta: 0h2m  tot: 0h10m46s  (83.6%)\rEpoch: 18.2%  lr: 0.008008  loss: 0.006924  eta: 0h2m  tot: 0h10m46s  (83.6%)\rEpoch: 18.3%  lr: 0.007998  loss: 0.006937  eta: 0h2m  tot: 0h10m47s  (83.7%)\rEpoch: 18.4%  lr: 0.007998  loss: 0.006918  eta: 0h2m  tot: 0h10m47s  (83.7%)\rEpoch: 18.5%  lr: 0.007998  loss: 0.006912  eta: 0h2m  tot: 0h10m47s  (83.7%)\rEpoch: 18.5%  lr: 0.007988  loss: 0.006899  eta: 0h2m  tot: 0h10m47s  (83.7%)\rEpoch: 18.6%  lr: 0.007988  loss: 0.006901  eta: 0h2m  tot: 0h10m47s  (83.7%)\rEpoch: 18.7%  lr: 0.007968  loss: 0.006904  eta: 0h2m  tot: 0h10m47s  (83.7%)\rEpoch: 18.8%  lr: 0.007968  loss: 0.006903  eta: 0h2m  tot: 0h10m47s  (83.8%)\rEpoch: 18.9%  lr: 0.007948  loss: 0.006905  eta: 0h2m  tot: 0h10m48s  (83.8%)\rEpoch: 19.0%  lr: 0.007928  loss: 0.006919  eta: 0h2m  tot: 0h10m48s  (83.8%)\rEpoch: 19.1%  lr: 0.007918  loss: 0.006927  eta: 0h2m  tot: 0h10m48s  (83.8%)\rEpoch: 19.2%  lr: 0.007908  loss: 0.006919  eta: 0h2m  tot: 0h10m48s  (83.8%)\rEpoch: 19.3%  lr: 0.007888  loss: 0.006939  eta: 0h2m  tot: 0h10m48s  (83.9%)\rEpoch: 19.4%  lr: 0.007878  loss: 0.006919  eta: 0h2m  tot: 0h10m48s  (83.9%)\rEpoch: 19.4%  lr: 0.007878  loss: 0.006907  eta: 0h1m  tot: 0h10m48s  (83.9%)\rEpoch: 19.5%  lr: 0.007868  loss: 0.006922  eta: 0h1m  tot: 0h10m48s  (83.9%)\rEpoch: 19.6%  lr: 0.007858  loss: 0.006929  eta: 0h1m  tot: 0h10m49s  (83.9%)\rEpoch: 19.7%  lr: 0.007848  loss: 0.006931  eta: 0h1m  tot: 0h10m49s  (83.9%)\rEpoch: 19.8%  lr: 0.007828  loss: 0.006927  eta: 0h1m  tot: 0h10m49s  (84.0%)\rEpoch: 19.9%  lr: 0.007828  loss: 0.006919  eta: 0h1m  tot: 0h10m49s  (84.0%)\rEpoch: 20.0%  lr: 0.007818  loss: 0.006928  eta: 0h1m  tot: 0h10m49s  (84.0%)\rEpoch: 20.1%  lr: 0.007818  loss: 0.006914  eta: 0h1m  tot: 0h10m49s  (84.0%)\rEpoch: 20.2%  lr: 0.007798  loss: 0.006924  eta: 0h1m  tot: 0h10m49s  (84.0%)\rEpoch: 20.3%  lr: 0.007798  loss: 0.006922  eta: 0h1m  tot: 0h10m50s  (84.1%)\rEpoch: 20.3%  lr: 0.007798  loss: 0.006934  eta: 0h1m  tot: 0h10m50s  (84.1%)\rEpoch: 20.4%  lr: 0.007768  loss: 0.006920  eta: 0h1m  tot: 0h10m50s  (84.1%)\rEpoch: 20.5%  lr: 0.007748  loss: 0.006972  eta: 0h1m  tot: 0h10m50s  (84.1%)\rEpoch: 20.6%  lr: 0.007738  loss: 0.006973  eta: 0h1m  tot: 0h10m50s  (84.1%)\rEpoch: 20.7%  lr: 0.007718  loss: 0.006954  eta: 0h1m  tot: 0h10m50s  (84.1%)\rEpoch: 20.8%  lr: 0.007698  loss: 0.006941  eta: 0h1m  tot: 0h10m50s  (84.2%)\rEpoch: 20.9%  lr: 0.007678  loss: 0.006940  eta: 0h1m  tot: 0h10m50s  (84.2%)\rEpoch: 21.0%  lr: 0.007678  loss: 0.006978  eta: 0h1m  tot: 0h10m51s  (84.2%)\rEpoch: 21.1%  lr: 0.007668  loss: 0.006977  eta: 0h1m  tot: 0h10m51s  (84.2%)\rEpoch: 21.2%  lr: 0.007668  loss: 0.006962  eta: 0h1m  tot: 0h10m51s  (84.2%)\rEpoch: 21.2%  lr: 0.007668  loss: 0.006974  eta: 0h1m  tot: 0h10m51s  (84.2%)\rEpoch: 21.3%  lr: 0.007668  loss: 0.006952  eta: 0h1m  tot: 0h10m51s  (84.3%)\rEpoch: 21.4%  lr: 0.007658  loss: 0.006950  eta: 0h1m  tot: 0h10m51s  (84.3%)\rEpoch: 21.5%  lr: 0.007638  loss: 0.006950  eta: 0h1m  tot: 0h10m51s  (84.3%)\rEpoch: 21.6%  lr: 0.007628  loss: 0.006945  eta: 0h1m  tot: 0h10m52s  (84.3%)\rEpoch: 21.7%  lr: 0.007608  loss: 0.006954  eta: 0h1m  tot: 0h10m52s  (84.3%)\rEpoch: 21.8%  lr: 0.007608  loss: 0.006966  eta: 0h1m  tot: 0h10m52s  (84.4%)\rEpoch: 21.9%  lr: 0.007598  loss: 0.006964  eta: 0h1m  tot: 0h10m52s  (84.4%)\rEpoch: 22.0%  lr: 0.007598  loss: 0.006984  eta: 0h1m  tot: 0h10m52s  (84.4%)\rEpoch: 22.1%  lr: 0.007598  loss: 0.006968  eta: 0h1m  tot: 0h10m52s  (84.4%)\rEpoch: 22.1%  lr: 0.007598  loss: 0.006974  eta: 0h1m  tot: 0h10m52s  (84.4%)\rEpoch: 22.2%  lr: 0.007588  loss: 0.006965  eta: 0h1m  tot: 0h10m53s  (84.4%)\rEpoch: 22.3%  lr: 0.007578  loss: 0.006954  eta: 0h1m  tot: 0h10m53s  (84.5%)\rEpoch: 22.4%  lr: 0.007548  loss: 0.006971  eta: 0h1m  tot: 0h10m53s  (84.5%)\rEpoch: 22.5%  lr: 0.007538  loss: 0.006956  eta: 0h1m  tot: 0h10m53s  (84.5%)\rEpoch: 22.6%  lr: 0.007508  loss: 0.006952  eta: 0h1m  tot: 0h10m53s  (84.5%)\rEpoch: 22.7%  lr: 0.007508  loss: 0.006945  eta: 0h1m  tot: 0h10m53s  (84.5%)\rEpoch: 22.8%  lr: 0.007488  loss: 0.006942  eta: 0h1m  tot: 0h10m53s  (84.6%)\rEpoch: 22.9%  lr: 0.007488  loss: 0.006929  eta: 0h1m  tot: 0h10m54s  (84.6%)\rEpoch: 23.0%  lr: 0.007468  loss: 0.006939  eta: 0h1m  tot: 0h10m54s  (84.6%)\rEpoch: 23.0%  lr: 0.007468  loss: 0.006958  eta: 0h1m  tot: 0h10m54s  (84.6%)\rEpoch: 23.1%  lr: 0.007457  loss: 0.006948  eta: 0h1m  tot: 0h10m54s  (84.6%)\rEpoch: 23.2%  lr: 0.007437  loss: 0.006938  eta: 0h1m  tot: 0h10m54s  (84.6%)\rEpoch: 23.3%  lr: 0.007437  loss: 0.006967  eta: 0h1m  tot: 0h10m54s  (84.7%)\rEpoch: 23.4%  lr: 0.007417  loss: 0.006961  eta: 0h1m  tot: 0h10m54s  (84.7%)\rEpoch: 23.5%  lr: 0.007417  loss: 0.006978  eta: 0h1m  tot: 0h10m54s  (84.7%)\rEpoch: 23.6%  lr: 0.007417  loss: 0.006969  eta: 0h1m  tot: 0h10m55s  (84.7%)\rEpoch: 23.7%  lr: 0.007407  loss: 0.006962  eta: 0h1m  tot: 0h10m55s  (84.7%)\rEpoch: 23.8%  lr: 0.007387  loss: 0.006961  eta: 0h1m  tot: 0h10m55s  (84.8%)\rEpoch: 23.9%  lr: 0.007387  loss: 0.006999  eta: 0h1m  tot: 0h10m55s  (84.8%)\rEpoch: 23.9%  lr: 0.007377  loss: 0.007004  eta: 0h1m  tot: 0h10m55s  (84.8%)\rEpoch: 24.0%  lr: 0.007367  loss: 0.007001  eta: 0h1m  tot: 0h10m55s  (84.8%)\rEpoch: 24.1%  lr: 0.007357  loss: 0.006991  eta: 0h1m  tot: 0h10m55s  (84.8%)\rEpoch: 24.2%  lr: 0.007337  loss: 0.007044  eta: 0h1m  tot: 0h10m56s  (84.8%)\rEpoch: 24.3%  lr: 0.007317  loss: 0.007080  eta: 0h1m  tot: 0h10m56s  (84.9%)\rEpoch: 24.4%  lr: 0.007297  loss: 0.007069  eta: 0h1m  tot: 0h10m56s  (84.9%)\rEpoch: 24.5%  lr: 0.007297  loss: 0.007074  eta: 0h1m  tot: 0h10m56s  (84.9%)\rEpoch: 24.6%  lr: 0.007277  loss: 0.007056  eta: 0h1m  tot: 0h10m56s  (84.9%)\rEpoch: 24.7%  lr: 0.007267  loss: 0.007061  eta: 0h1m  tot: 0h10m56s  (84.9%)\rEpoch: 24.8%  lr: 0.007257  loss: 0.007063  eta: 0h1m  tot: 0h10m56s  (85.0%)\rEpoch: 24.8%  lr: 0.007227  loss: 0.007106  eta: 0h1m  tot: 0h10m56s  (85.0%)\rEpoch: 24.9%  lr: 0.007227  loss: 0.007116  eta: 0h1m  tot: 0h10m57s  (85.0%)\rEpoch: 25.0%  lr: 0.007227  loss: 0.007125  eta: 0h1m  tot: 0h10m57s  (85.0%)\rEpoch: 25.1%  lr: 0.007227  loss: 0.007130  eta: 0h1m  tot: 0h10m57s  (85.0%)\rEpoch: 25.2%  lr: 0.007217  loss: 0.007135  eta: 0h1m  tot: 0h10m57s  (85.0%)\rEpoch: 25.3%  lr: 0.007217  loss: 0.007147  eta: 0h1m  tot: 0h10m57s  (85.1%)\rEpoch: 25.4%  lr: 0.007207  loss: 0.007136  eta: 0h1m  tot: 0h10m57s  (85.1%)\rEpoch: 25.5%  lr: 0.007177  loss: 0.007117  eta: 0h1m  tot: 0h10m57s  (85.1%)\rEpoch: 25.6%  lr: 0.007177  loss: 0.007106  eta: 0h1m  tot: 0h10m58s  (85.1%)\rEpoch: 25.7%  lr: 0.007157  loss: 0.007097  eta: 0h1m  tot: 0h10m58s  (85.1%)\rEpoch: 25.7%  lr: 0.007147  loss: 0.007091  eta: 0h1m  tot: 0h10m58s  (85.1%)\rEpoch: 25.8%  lr: 0.007117  loss: 0.007080  eta: 0h1m  tot: 0h10m58s  (85.2%)\rEpoch: 25.9%  lr: 0.007097  loss: 0.007062  eta: 0h1m  tot: 0h10m58s  (85.2%)\rEpoch: 26.0%  lr: 0.007087  loss: 0.007093  eta: 0h1m  tot: 0h10m58s  (85.2%)\rEpoch: 26.1%  lr: 0.007077  loss: 0.007074  eta: 0h1m  tot: 0h10m58s  (85.2%)\rEpoch: 26.2%  lr: 0.007077  loss: 0.007075  eta: 0h1m  tot: 0h10m58s  (85.2%)\rEpoch: 26.3%  lr: 0.007067  loss: 0.007068  eta: 0h1m  tot: 0h10m59s  (85.3%)\rEpoch: 26.4%  lr: 0.007057  loss: 0.007092  eta: 0h1m  tot: 0h10m59s  (85.3%)\rEpoch: 26.5%  lr: 0.007037  loss: 0.007091  eta: 0h1m  tot: 0h10m59s  (85.3%)\rEpoch: 26.6%  lr: 0.007027  loss: 0.007086  eta: 0h1m  tot: 0h10m59s  (85.3%)\rEpoch: 26.6%  lr: 0.007027  loss: 0.007100  eta: 0h1m  tot: 0h10m59s  (85.3%)\rEpoch: 26.7%  lr: 0.007007  loss: 0.007099  eta: 0h1m  tot: 0h10m59s  (85.3%)\rEpoch: 26.8%  lr: 0.006997  loss: 0.007100  eta: 0h1m  tot: 0h10m59s  (85.4%)\rEpoch: 26.9%  lr: 0.006997  loss: 0.007127  eta: 0h1m  tot: 0h11m0s  (85.4%)\rEpoch: 27.0%  lr: 0.006977  loss: 0.007120  eta: 0h1m  tot: 0h11m0s  (85.4%)\rEpoch: 27.1%  lr: 0.006957  loss: 0.007155  eta: 0h1m  tot: 0h11m0s  (85.4%)\rEpoch: 27.2%  lr: 0.006957  loss: 0.007164  eta: 0h1m  tot: 0h11m0s  (85.4%)\rEpoch: 27.3%  lr: 0.006937  loss: 0.007167  eta: 0h1m  tot: 0h11m0s  (85.5%)\rEpoch: 27.4%  lr: 0.006937  loss: 0.007162  eta: 0h1m  tot: 0h11m0s  (85.5%)\rEpoch: 27.5%  lr: 0.006907  loss: 0.007151  eta: 0h1m  tot: 0h11m0s  (85.5%)\rEpoch: 27.5%  lr: 0.006887  loss: 0.007138  eta: 0h1m  tot: 0h11m0s  (85.5%)\rEpoch: 27.6%  lr: 0.006887  loss: 0.007155  eta: 0h1m  tot: 0h11m1s  (85.5%)\rEpoch: 27.7%  lr: 0.006877  loss: 0.007147  eta: 0h1m  tot: 0h11m1s  (85.5%)\rEpoch: 27.8%  lr: 0.006867  loss: 0.007159  eta: 0h1m  tot: 0h11m1s  (85.6%)\rEpoch: 27.9%  lr: 0.006837  loss: 0.007155  eta: 0h1m  tot: 0h11m1s  (85.6%)\rEpoch: 28.0%  lr: 0.006837  loss: 0.007143  eta: 0h1m  tot: 0h11m1s  (85.6%)\rEpoch: 28.1%  lr: 0.006837  loss: 0.007141  eta: 0h1m  tot: 0h11m1s  (85.6%)\rEpoch: 28.2%  lr: 0.006827  loss: 0.007128  eta: 0h1m  tot: 0h11m1s  (85.6%)\rEpoch: 28.3%  lr: 0.006817  loss: 0.007128  eta: 0h1m  tot: 0h11m1s  (85.7%)\rEpoch: 28.4%  lr: 0.006807  loss: 0.007122  eta: 0h1m  tot: 0h11m2s  (85.7%)\rEpoch: 28.4%  lr: 0.006777  loss: 0.007130  eta: 0h1m  tot: 0h11m2s  (85.7%)\rEpoch: 28.5%  lr: 0.006767  loss: 0.007112  eta: 0h1m  tot: 0h11m2s  (85.7%)\rEpoch: 28.6%  lr: 0.006757  loss: 0.007138  eta: 0h1m  tot: 0h11m2s  (85.7%)\rEpoch: 28.7%  lr: 0.006737  loss: 0.007130  eta: 0h1m  tot: 0h11m2s  (85.7%)\rEpoch: 28.8%  lr: 0.006737  loss: 0.007120  eta: 0h1m  tot: 0h11m2s  (85.8%)\rEpoch: 28.9%  lr: 0.006737  loss: 0.007111  eta: 0h1m  tot: 0h11m2s  (85.8%)\rEpoch: 29.0%  lr: 0.006717  loss: 0.007105  eta: 0h1m  tot: 0h11m3s  (85.8%)\rEpoch: 29.1%  lr: 0.006707  loss: 0.007117  eta: 0h1m  tot: 0h11m3s  (85.8%)\rEpoch: 29.2%  lr: 0.006707  loss: 0.007108  eta: 0h1m  tot: 0h11m3s  (85.8%)\rEpoch: 29.3%  lr: 0.006707  loss: 0.007105  eta: 0h1m  tot: 0h11m3s  (85.9%)\rEpoch: 29.3%  lr: 0.006687  loss: 0.007108  eta: 0h1m  tot: 0h11m3s  (85.9%)\rEpoch: 29.4%  lr: 0.006667  loss: 0.007099  eta: 0h1m  tot: 0h11m3s  (85.9%)\rEpoch: 29.5%  lr: 0.006647  loss: 0.007104  eta: 0h1m  tot: 0h11m3s  (85.9%)\rEpoch: 29.6%  lr: 0.006647  loss: 0.007099  eta: 0h1m  tot: 0h11m3s  (85.9%)\rEpoch: 29.7%  lr: 0.006637  loss: 0.007091  eta: 0h1m  tot: 0h11m4s  (85.9%)\rEpoch: 29.8%  lr: 0.006637  loss: 0.007080  eta: 0h1m  tot: 0h11m4s  (86.0%)\rEpoch: 29.9%  lr: 0.006637  loss: 0.007084  eta: 0h1m  tot: 0h11m4s  (86.0%)\rEpoch: 30.0%  lr: 0.006637  loss: 0.007074  eta: 0h1m  tot: 0h11m4s  (86.0%)\rEpoch: 30.1%  lr: 0.006627  loss: 0.007070  eta: 0h1m  tot: 0h11m4s  (86.0%)\rEpoch: 30.2%  lr: 0.006627  loss: 0.007091  eta: 0h1m  tot: 0h11m4s  (86.0%)\rEpoch: 30.2%  lr: 0.006617  loss: 0.007086  eta: 0h1m  tot: 0h11m4s  (86.0%)\rEpoch: 30.3%  lr: 0.006617  loss: 0.007080  eta: 0h1m  tot: 0h11m5s  (86.1%)\rEpoch: 30.4%  lr: 0.006617  loss: 0.007083  eta: 0h1m  tot: 0h11m5s  (86.1%)\rEpoch: 30.5%  lr: 0.006597  loss: 0.007077  eta: 0h1m  tot: 0h11m5s  (86.1%)\rEpoch: 30.6%  lr: 0.006587  loss: 0.007062  eta: 0h1m  tot: 0h11m5s  (86.1%)\rEpoch: 30.7%  lr: 0.006577  loss: 0.007058  eta: 0h1m  tot: 0h11m5s  (86.1%)\rEpoch: 30.8%  lr: 0.006577  loss: 0.007052  eta: 0h1m  tot: 0h11m5s  (86.2%)\rEpoch: 30.9%  lr: 0.006577  loss: 0.007043  eta: 0h1m  tot: 0h11m5s  (86.2%)\rEpoch: 31.0%  lr: 0.006567  loss: 0.007063  eta: 0h1m  tot: 0h11m5s  (86.2%)\rEpoch: 31.1%  lr: 0.006567  loss: 0.007053  eta: 0h1m  tot: 0h11m6s  (86.2%)\rEpoch: 31.1%  lr: 0.006557  loss: 0.007050  eta: 0h1m  tot: 0h11m6s  (86.2%)\rEpoch: 31.2%  lr: 0.006557  loss: 0.007046  eta: 0h1m  tot: 0h11m6s  (86.2%)\rEpoch: 31.3%  lr: 0.006557  loss: 0.007063  eta: 0h1m  tot: 0h11m6s  (86.3%)\rEpoch: 31.4%  lr: 0.006557  loss: 0.007073  eta: 0h1m  tot: 0h11m6s  (86.3%)\rEpoch: 31.5%  lr: 0.006557  loss: 0.007070  eta: 0h1m  tot: 0h11m6s  (86.3%)\rEpoch: 31.6%  lr: 0.006547  loss: 0.007078  eta: 0h1m  tot: 0h11m6s  (86.3%)\rEpoch: 31.7%  lr: 0.006537  loss: 0.007070  eta: 0h1m  tot: 0h11m7s  (86.3%)\rEpoch: 31.8%  lr: 0.006527  loss: 0.007077  eta: 0h1m  tot: 0h11m7s  (86.4%)\rEpoch: 31.9%  lr: 0.006507  loss: 0.007078  eta: 0h1m  tot: 0h11m7s  (86.4%)\rEpoch: 32.0%  lr: 0.006507  loss: 0.007070  eta: 0h1m  tot: 0h11m7s  (86.4%)\rEpoch: 32.0%  lr: 0.006507  loss: 0.007071  eta: 0h1m  tot: 0h11m7s  (86.4%)\rEpoch: 32.1%  lr: 0.006497  loss: 0.007063  eta: 0h1m  tot: 0h11m7s  (86.4%)\rEpoch: 32.2%  lr: 0.006477  loss: 0.007056  eta: 0h1m  tot: 0h11m7s  (86.4%)\rEpoch: 32.3%  lr: 0.006477  loss: 0.007059  eta: 0h1m  tot: 0h11m7s  (86.5%)\rEpoch: 32.4%  lr: 0.006477  loss: 0.007048  eta: 0h1m  tot: 0h11m8s  (86.5%)\rEpoch: 32.5%  lr: 0.006477  loss: 0.007050  eta: 0h1m  tot: 0h11m8s  (86.5%)\rEpoch: 32.6%  lr: 0.006477  loss: 0.007049  eta: 0h1m  tot: 0h11m8s  (86.5%)\rEpoch: 32.7%  lr: 0.006477  loss: 0.007048  eta: 0h1m  tot: 0h11m8s  (86.5%)\rEpoch: 32.8%  lr: 0.006457  loss: 0.007058  eta: 0h1m  tot: 0h11m8s  (86.6%)\rEpoch: 32.9%  lr: 0.006457  loss: 0.007069  eta: 0h1m  tot: 0h11m8s  (86.6%)\rEpoch: 32.9%  lr: 0.006457  loss: 0.007055  eta: 0h1m  tot: 0h11m8s  (86.6%)\rEpoch: 33.0%  lr: 0.006457  loss: 0.007055  eta: 0h1m  tot: 0h11m9s  (86.6%)\rEpoch: 33.1%  lr: 0.006447  loss: 0.007054  eta: 0h1m  tot: 0h11m9s  (86.6%)\rEpoch: 33.2%  lr: 0.006426  loss: 0.007045  eta: 0h1m  tot: 0h11m9s  (86.6%)\rEpoch: 33.3%  lr: 0.006426  loss: 0.007047  eta: 0h1m  tot: 0h11m9s  (86.7%)\rEpoch: 33.4%  lr: 0.006416  loss: 0.007038  eta: 0h1m  tot: 0h11m9s  (86.7%)\rEpoch: 33.5%  lr: 0.006396  loss: 0.007033  eta: 0h1m  tot: 0h11m9s  (86.7%)\rEpoch: 33.6%  lr: 0.006396  loss: 0.007027  eta: 0h1m  tot: 0h11m9s  (86.7%)\rEpoch: 33.7%  lr: 0.006386  loss: 0.007020  eta: 0h1m  tot: 0h11m9s  (86.7%)\rEpoch: 33.8%  lr: 0.006356  loss: 0.007026  eta: 0h1m  tot: 0h11m10s  (86.8%)\rEpoch: 33.8%  lr: 0.006356  loss: 0.007025  eta: 0h1m  tot: 0h11m10s  (86.8%)\rEpoch: 33.9%  lr: 0.006346  loss: 0.007025  eta: 0h1m  tot: 0h11m10s  (86.8%)\rEpoch: 34.0%  lr: 0.006346  loss: 0.007012  eta: 0h1m  tot: 0h11m10s  (86.8%)\rEpoch: 34.1%  lr: 0.006336  loss: 0.007015  eta: 0h1m  tot: 0h11m10s  (86.8%)\rEpoch: 34.2%  lr: 0.006316  loss: 0.007024  eta: 0h1m  tot: 0h11m10s  (86.8%)\rEpoch: 34.3%  lr: 0.006316  loss: 0.007011  eta: 0h1m  tot: 0h11m10s  (86.9%)\rEpoch: 34.4%  lr: 0.006316  loss: 0.007027  eta: 0h1m  tot: 0h11m10s  (86.9%)\rEpoch: 34.5%  lr: 0.006306  loss: 0.007032  eta: 0h1m  tot: 0h11m11s  (86.9%)\rEpoch: 34.6%  lr: 0.006306  loss: 0.007032  eta: 0h1m  tot: 0h11m11s  (86.9%)\rEpoch: 34.7%  lr: 0.006306  loss: 0.007044  eta: 0h1m  tot: 0h11m11s  (86.9%)\rEpoch: 34.7%  lr: 0.006296  loss: 0.007036  eta: 0h1m  tot: 0h11m11s  (86.9%)\rEpoch: 34.8%  lr: 0.006276  loss: 0.007027  eta: 0h1m  tot: 0h11m11s  (87.0%)\rEpoch: 34.9%  lr: 0.006276  loss: 0.007025  eta: 0h1m  tot: 0h11m11s  (87.0%)\rEpoch: 35.0%  lr: 0.006276  loss: 0.007026  eta: 0h1m  tot: 0h11m11s  (87.0%)\rEpoch: 35.1%  lr: 0.006276  loss: 0.007018  eta: 0h1m  tot: 0h11m12s  (87.0%)\rEpoch: 35.2%  lr: 0.006236  loss: 0.007014  eta: 0h1m  tot: 0h11m12s  (87.0%)\rEpoch: 35.3%  lr: 0.006236  loss: 0.007022  eta: 0h1m  tot: 0h11m12s  (87.1%)\rEpoch: 35.4%  lr: 0.006206  loss: 0.007055  eta: 0h1m  tot: 0h11m12s  (87.1%)\rEpoch: 35.5%  lr: 0.006186  loss: 0.007068  eta: 0h1m  tot: 0h11m12s  (87.1%)\rEpoch: 35.6%  lr: 0.006186  loss: 0.007072  eta: 0h1m  tot: 0h11m12s  (87.1%)\rEpoch: 35.6%  lr: 0.006166  loss: 0.007071  eta: 0h1m  tot: 0h11m12s  (87.1%)\rEpoch: 35.7%  lr: 0.006166  loss: 0.007061  eta: 0h1m  tot: 0h11m12s  (87.1%)\rEpoch: 35.8%  lr: 0.006166  loss: 0.007052  eta: 0h1m  tot: 0h11m13s  (87.2%)\rEpoch: 35.9%  lr: 0.006166  loss: 0.007050  eta: 0h1m  tot: 0h11m13s  (87.2%)\rEpoch: 36.0%  lr: 0.006156  loss: 0.007052  eta: 0h1m  tot: 0h11m13s  (87.2%)\rEpoch: 36.1%  lr: 0.006156  loss: 0.007064  eta: 0h1m  tot: 0h11m13s  (87.2%)\rEpoch: 36.2%  lr: 0.006146  loss: 0.007055  eta: 0h1m  tot: 0h11m13s  (87.2%)\rEpoch: 36.3%  lr: 0.006136  loss: 0.007054  eta: 0h1m  tot: 0h11m13s  (87.3%)\rEpoch: 36.4%  lr: 0.006106  loss: 0.007056  eta: 0h1m  tot: 0h11m13s  (87.3%)\rEpoch: 36.5%  lr: 0.006106  loss: 0.007049  eta: 0h1m  tot: 0h11m14s  (87.3%)\rEpoch: 36.5%  lr: 0.006096  loss: 0.007061  eta: 0h1m  tot: 0h11m14s  (87.3%)\rEpoch: 36.6%  lr: 0.006086  loss: 0.007055  eta: 0h1m  tot: 0h11m14s  (87.3%)\rEpoch: 36.7%  lr: 0.006076  loss: 0.007056  eta: 0h1m  tot: 0h11m14s  (87.3%)\rEpoch: 36.8%  lr: 0.006066  loss: 0.007050  eta: 0h1m  tot: 0h11m14s  (87.4%)\rEpoch: 36.9%  lr: 0.006066  loss: 0.007049  eta: 0h1m  tot: 0h11m14s  (87.4%)\rEpoch: 37.0%  lr: 0.006066  loss: 0.007046  eta: 0h1m  tot: 0h11m14s  (87.4%)\rEpoch: 37.1%  lr: 0.006046  loss: 0.007047  eta: 0h1m  tot: 0h11m14s  (87.4%)\rEpoch: 37.2%  lr: 0.006036  loss: 0.007045  eta: 0h1m  tot: 0h11m15s  (87.4%)\rEpoch: 37.3%  lr: 0.006036  loss: 0.007044  eta: 0h1m  tot: 0h11m15s  (87.5%)\rEpoch: 37.4%  lr: 0.006016  loss: 0.007038  eta: 0h1m  tot: 0h11m15s  (87.5%)\rEpoch: 37.4%  lr: 0.006006  loss: 0.007030  eta: 0h1m  tot: 0h11m15s  (87.5%)\rEpoch: 37.5%  lr: 0.006006  loss: 0.007023  eta: 0h1m  tot: 0h11m15s  (87.5%)\rEpoch: 37.6%  lr: 0.005996  loss: 0.007011  eta: 0h1m  tot: 0h11m15s  (87.5%)\rEpoch: 37.7%  lr: 0.005986  loss: 0.007004  eta: 0h1m  tot: 0h11m15s  (87.5%)\rEpoch: 37.8%  lr: 0.005986  loss: 0.006998  eta: 0h1m  tot: 0h11m15s  (87.6%)\rEpoch: 37.9%  lr: 0.005976  loss: 0.006991  eta: 0h1m  tot: 0h11m16s  (87.6%)\rEpoch: 38.0%  lr: 0.005976  loss: 0.006997  eta: 0h1m  tot: 0h11m16s  (87.6%)\rEpoch: 38.1%  lr: 0.005966  loss: 0.007013  eta: 0h1m  tot: 0h11m16s  (87.6%)\rEpoch: 38.2%  lr: 0.005956  loss: 0.007029  eta: 0h1m  tot: 0h11m16s  (87.6%)\rEpoch: 38.3%  lr: 0.005936  loss: 0.007055  eta: 0h1m  tot: 0h11m16s  (87.7%)\rEpoch: 38.3%  lr: 0.005936  loss: 0.007051  eta: 0h1m  tot: 0h11m16s  (87.7%)\rEpoch: 38.4%  lr: 0.005926  loss: 0.007040  eta: 0h1m  tot: 0h11m16s  (87.7%)\rEpoch: 38.5%  lr: 0.005916  loss: 0.007029  eta: 0h1m  tot: 0h11m17s  (87.7%)\rEpoch: 38.6%  lr: 0.005916  loss: 0.007022  eta: 0h1m  tot: 0h11m17s  (87.7%)\rEpoch: 38.7%  lr: 0.005886  loss: 0.007011  eta: 0h1m  tot: 0h11m17s  (87.7%)\rEpoch: 38.8%  lr: 0.005876  loss: 0.007007  eta: 0h1m  tot: 0h11m17s  (87.8%)\rEpoch: 38.9%  lr: 0.005876  loss: 0.006997  eta: 0h1m  tot: 0h11m17s  (87.8%)\rEpoch: 39.0%  lr: 0.005866  loss: 0.006997  eta: 0h1m  tot: 0h11m17s  (87.8%)\rEpoch: 39.1%  lr: 0.005856  loss: 0.006990  eta: 0h1m  tot: 0h11m17s  (87.8%)\rEpoch: 39.2%  lr: 0.005856  loss: 0.006984  eta: 0h1m  tot: 0h11m17s  (87.8%)\rEpoch: 39.2%  lr: 0.005846  loss: 0.006978  eta: 0h1m  tot: 0h11m18s  (87.8%)\rEpoch: 39.3%  lr: 0.005836  loss: 0.006969  eta: 0h1m  tot: 0h11m18s  (87.9%)\rEpoch: 39.4%  lr: 0.005836  loss: 0.006968  eta: 0h1m  tot: 0h11m18s  (87.9%)\rEpoch: 39.5%  lr: 0.005836  loss: 0.006997  eta: 0h1m  tot: 0h11m18s  (87.9%)\rEpoch: 39.6%  lr: 0.005826  loss: 0.006984  eta: 0h1m  tot: 0h11m18s  (87.9%)\rEpoch: 39.7%  lr: 0.005806  loss: 0.006987  eta: 0h1m  tot: 0h11m18s  (87.9%)\rEpoch: 39.8%  lr: 0.005806  loss: 0.006978  eta: 0h1m  tot: 0h11m18s  (88.0%)\rEpoch: 39.9%  lr: 0.005796  loss: 0.006967  eta: 0h1m  tot: 0h11m19s  (88.0%)\rEpoch: 40.0%  lr: 0.005786  loss: 0.006976  eta: 0h1m  tot: 0h11m19s  (88.0%)\rEpoch: 40.1%  lr: 0.005756  loss: 0.006975  eta: 0h1m  tot: 0h11m19s  (88.0%)\rEpoch: 40.1%  lr: 0.005746  loss: 0.006973  eta: 0h1m  tot: 0h11m19s  (88.0%)\rEpoch: 40.2%  lr: 0.005746  loss: 0.006972  eta: 0h1m  tot: 0h11m19s  (88.0%)\rEpoch: 40.3%  lr: 0.005736  loss: 0.006974  eta: 0h1m  tot: 0h11m19s  (88.1%)\rEpoch: 40.4%  lr: 0.005736  loss: 0.006969  eta: 0h1m  tot: 0h11m19s  (88.1%)\rEpoch: 40.5%  lr: 0.005736  loss: 0.006961  eta: 0h1m  tot: 0h11m19s  (88.1%)\rEpoch: 40.6%  lr: 0.005726  loss: 0.006973  eta: 0h1m  tot: 0h11m20s  (88.1%)\rEpoch: 40.7%  lr: 0.005726  loss: 0.006977  eta: 0h1m  tot: 0h11m20s  (88.1%)\rEpoch: 40.8%  lr: 0.005726  loss: 0.006981  eta: 0h1m  tot: 0h11m20s  (88.2%)\rEpoch: 40.9%  lr: 0.005726  loss: 0.006986  eta: 0h1m  tot: 0h11m20s  (88.2%)\rEpoch: 41.0%  lr: 0.005716  loss: 0.006978  eta: 0h1m  tot: 0h11m20s  (88.2%)\rEpoch: 41.0%  lr: 0.005706  loss: 0.006976  eta: 0h1m  tot: 0h11m20s  (88.2%)\rEpoch: 41.1%  lr: 0.005706  loss: 0.006962  eta: 0h1m  tot: 0h11m20s  (88.2%)\rEpoch: 41.2%  lr: 0.005706  loss: 0.006971  eta: 0h1m  tot: 0h11m21s  (88.2%)\rEpoch: 41.3%  lr: 0.005706  loss: 0.006961  eta: 0h1m  tot: 0h11m21s  (88.3%)\rEpoch: 41.4%  lr: 0.005696  loss: 0.006968  eta: 0h1m  tot: 0h11m21s  (88.3%)\rEpoch: 41.5%  lr: 0.005656  loss: 0.006968  eta: 0h1m  tot: 0h11m21s  (88.3%)\rEpoch: 41.6%  lr: 0.005656  loss: 0.006959  eta: 0h1m  tot: 0h11m21s  (88.3%)\rEpoch: 41.7%  lr: 0.005646  loss: 0.006974  eta: 0h1m  tot: 0h11m21s  (88.3%)\rEpoch: 41.8%  lr: 0.005636  loss: 0.006966  eta: 0h1m  tot: 0h11m21s  (88.4%)\rEpoch: 41.9%  lr: 0.005636  loss: 0.006967  eta: 0h1m  tot: 0h11m21s  (88.4%)\rEpoch: 42.0%  lr: 0.005636  loss: 0.006975  eta: 0h1m  tot: 0h11m22s  (88.4%)\rEpoch: 42.0%  lr: 0.005626  loss: 0.006967  eta: 0h1m  tot: 0h11m22s  (88.4%)\rEpoch: 42.1%  lr: 0.005626  loss: 0.006960  eta: 0h1m  tot: 0h11m22s  (88.4%)\rEpoch: 42.2%  lr: 0.005626  loss: 0.006957  eta: 0h1m  tot: 0h11m22s  (88.4%)\rEpoch: 42.3%  lr: 0.005616  loss: 0.006964  eta: 0h1m  tot: 0h11m22s  (88.5%)\rEpoch: 42.4%  lr: 0.005596  loss: 0.006999  eta: 0h1m  tot: 0h11m22s  (88.5%)\rEpoch: 42.5%  lr: 0.005566  loss: 0.007002  eta: 0h1m  tot: 0h11m22s  (88.5%)\rEpoch: 42.6%  lr: 0.005556  loss: 0.007005  eta: 0h1m  tot: 0h11m23s  (88.5%)\rEpoch: 42.7%  lr: 0.005556  loss: 0.007004  eta: 0h1m  tot: 0h11m23s  (88.5%)\rEpoch: 42.8%  lr: 0.005546  loss: 0.006996  eta: 0h1m  tot: 0h11m23s  (88.6%)\rEpoch: 42.9%  lr: 0.005526  loss: 0.006992  eta: 0h1m  tot: 0h11m23s  (88.6%)\rEpoch: 42.9%  lr: 0.005516  loss: 0.006987  eta: 0h1m  tot: 0h11m23s  (88.6%)\rEpoch: 43.0%  lr: 0.005506  loss: 0.006995  eta: 0h1m  tot: 0h11m23s  (88.6%)\rEpoch: 43.1%  lr: 0.005486  loss: 0.007000  eta: 0h1m  tot: 0h11m23s  (88.6%)\rEpoch: 43.2%  lr: 0.005476  loss: 0.006996  eta: 0h1m  tot: 0h11m24s  (88.6%)\rEpoch: 43.3%  lr: 0.005476  loss: 0.007002  eta: 0h1m  tot: 0h11m24s  (88.7%)\rEpoch: 43.4%  lr: 0.005466  loss: 0.006995  eta: 0h1m  tot: 0h11m24s  (88.7%)\rEpoch: 43.5%  lr: 0.005466  loss: 0.006994  eta: 0h1m  tot: 0h11m24s  (88.7%)\rEpoch: 43.6%  lr: 0.005466  loss: 0.006995  eta: 0h1m  tot: 0h11m24s  (88.7%)\rEpoch: 43.7%  lr: 0.005456  loss: 0.006990  eta: 0h1m  tot: 0h11m24s  (88.7%)\rEpoch: 43.8%  lr: 0.005446  loss: 0.006982  eta: 0h1m  tot: 0h11m24s  (88.8%)\rEpoch: 43.8%  lr: 0.005446  loss: 0.006985  eta: 0h1m  tot: 0h11m24s  (88.8%)\rEpoch: 43.9%  lr: 0.005425  loss: 0.006993  eta: 0h1m  tot: 0h11m25s  (88.8%)\rEpoch: 44.0%  lr: 0.005415  loss: 0.006992  eta: 0h1m  tot: 0h11m25s  (88.8%)\rEpoch: 44.1%  lr: 0.005405  loss: 0.006988  eta: 0h1m  tot: 0h11m25s  (88.8%)\rEpoch: 44.2%  lr: 0.005395  loss: 0.006994  eta: 0h1m  tot: 0h11m25s  (88.8%)\rEpoch: 44.3%  lr: 0.005375  loss: 0.006984  eta: 0h1m  tot: 0h11m25s  (88.9%)\rEpoch: 44.4%  lr: 0.005375  loss: 0.006980  eta: 0h1m  tot: 0h11m25s  (88.9%)\rEpoch: 44.5%  lr: 0.005365  loss: 0.006976  eta: 0h1m  tot: 0h11m25s  (88.9%)\rEpoch: 44.6%  lr: 0.005365  loss: 0.006976  eta: 0h1m  tot: 0h11m25s  (88.9%)\rEpoch: 44.7%  lr: 0.005365  loss: 0.006971  eta: 0h1m  tot: 0h11m26s  (88.9%)\rEpoch: 44.7%  lr: 0.005365  loss: 0.006959  eta: 0h1m  tot: 0h11m26s  (88.9%)\rEpoch: 44.8%  lr: 0.005345  loss: 0.006953  eta: 0h1m  tot: 0h11m26s  (89.0%)\rEpoch: 44.9%  lr: 0.005345  loss: 0.006975  eta: 0h1m  tot: 0h11m26s  (89.0%)\rEpoch: 45.0%  lr: 0.005325  loss: 0.006966  eta: 0h1m  tot: 0h11m26s  (89.0%)\rEpoch: 45.1%  lr: 0.005315  loss: 0.006962  eta: 0h1m  tot: 0h11m26s  (89.0%)\rEpoch: 45.2%  lr: 0.005295  loss: 0.006954  eta: 0h1m  tot: 0h11m26s  (89.0%)\rEpoch: 45.3%  lr: 0.005295  loss: 0.006945  eta: 0h1m  tot: 0h11m27s  (89.1%)\rEpoch: 45.4%  lr: 0.005265  loss: 0.006941  eta: 0h1m  tot: 0h11m27s  (89.1%)\rEpoch: 45.5%  lr: 0.005255  loss: 0.006948  eta: 0h1m  tot: 0h11m27s  (89.1%)\rEpoch: 45.6%  lr: 0.005235  loss: 0.006954  eta: 0h1m  tot: 0h11m27s  (89.1%)\rEpoch: 45.6%  lr: 0.005225  loss: 0.006953  eta: 0h1m  tot: 0h11m27s  (89.1%)\rEpoch: 45.7%  lr: 0.005205  loss: 0.006960  eta: 0h1m  tot: 0h11m27s  (89.1%)\rEpoch: 45.8%  lr: 0.005205  loss: 0.006955  eta: 0h1m  tot: 0h11m27s  (89.2%)\rEpoch: 45.9%  lr: 0.005205  loss: 0.006947  eta: 0h1m  tot: 0h11m28s  (89.2%)\rEpoch: 46.0%  lr: 0.005205  loss: 0.006975  eta: 0h1m  tot: 0h11m28s  (89.2%)\rEpoch: 46.1%  lr: 0.005205  loss: 0.006973  eta: 0h1m  tot: 0h11m28s  (89.2%)\rEpoch: 46.2%  lr: 0.005205  loss: 0.006971  eta: 0h1m  tot: 0h11m28s  (89.2%)\rEpoch: 46.3%  lr: 0.005185  loss: 0.006966  eta: 0h1m  tot: 0h11m28s  (89.3%)\rEpoch: 46.4%  lr: 0.005175  loss: 0.006967  eta: 0h1m  tot: 0h11m28s  (89.3%)\rEpoch: 46.5%  lr: 0.005165  loss: 0.006976  eta: 0h1m  tot: 0h11m28s  (89.3%)\rEpoch: 46.5%  lr: 0.005155  loss: 0.006988  eta: 0h1m  tot: 0h11m28s  (89.3%)\rEpoch: 46.6%  lr: 0.005145  loss: 0.006989  eta: 0h1m  tot: 0h11m29s  (89.3%)\rEpoch: 46.7%  lr: 0.005145  loss: 0.007007  eta: 0h1m  tot: 0h11m29s  (89.3%)\rEpoch: 46.8%  lr: 0.005125  loss: 0.007007  eta: 0h1m  tot: 0h11m29s  (89.4%)\rEpoch: 46.9%  lr: 0.005115  loss: 0.007004  eta: 0h1m  tot: 0h11m29s  (89.4%)\rEpoch: 47.0%  lr: 0.005115  loss: 0.007014  eta: 0h1m  tot: 0h11m29s  (89.4%)\rEpoch: 47.1%  lr: 0.005105  loss: 0.007016  eta: 0h1m  tot: 0h11m29s  (89.4%)\rEpoch: 47.2%  lr: 0.005105  loss: 0.007028  eta: 0h1m  tot: 0h11m29s  (89.4%)\rEpoch: 47.3%  lr: 0.005095  loss: 0.007033  eta: 0h1m  tot: 0h11m30s  (89.5%)\rEpoch: 47.4%  lr: 0.005075  loss: 0.007028  eta: 0h1m  tot: 0h11m30s  (89.5%)\rEpoch: 47.4%  lr: 0.005065  loss: 0.007032  eta: 0h1m  tot: 0h11m30s  (89.5%)\rEpoch: 47.5%  lr: 0.005055  loss: 0.007033  eta: 0h1m  tot: 0h11m30s  (89.5%)\rEpoch: 47.6%  lr: 0.005055  loss: 0.007027  eta: 0h1m  tot: 0h11m30s  (89.5%)\rEpoch: 47.7%  lr: 0.005055  loss: 0.007027  eta: 0h1m  tot: 0h11m30s  (89.5%)\rEpoch: 47.8%  lr: 0.005055  loss: 0.007029  eta: 0h1m  tot: 0h11m30s  (89.6%)\rEpoch: 47.9%  lr: 0.005035  loss: 0.007020  eta: 0h1m  tot: 0h11m31s  (89.6%)\rEpoch: 48.0%  lr: 0.005035  loss: 0.007021  eta: 0h1m  tot: 0h11m31s  (89.6%)\rEpoch: 48.1%  lr: 0.005025  loss: 0.007018  eta: 0h1m  tot: 0h11m31s  (89.6%)\rEpoch: 48.2%  lr: 0.004985  loss: 0.007011  eta: 0h1m  tot: 0h11m31s  (89.6%)\rEpoch: 48.3%  lr: 0.004965  loss: 0.007008  eta: 0h1m  tot: 0h11m31s  (89.7%)\rEpoch: 48.3%  lr: 0.004935  loss: 0.006997  eta: 0h1m  tot: 0h11m31s  (89.7%)\rEpoch: 48.4%  lr: 0.004935  loss: 0.006996  eta: 0h1m  tot: 0h11m31s  (89.7%)\rEpoch: 48.5%  lr: 0.004925  loss: 0.006995  eta: 0h1m  tot: 0h11m31s  (89.7%)\rEpoch: 48.6%  lr: 0.004925  loss: 0.006992  eta: 0h1m  tot: 0h11m32s  (89.7%)\rEpoch: 48.7%  lr: 0.004925  loss: 0.006987  eta: 0h1m  tot: 0h11m32s  (89.7%)\rEpoch: 48.8%  lr: 0.004915  loss: 0.006997  eta: 0h1m  tot: 0h11m32s  (89.8%)\rEpoch: 48.9%  lr: 0.004915  loss: 0.007004  eta: 0h1m  tot: 0h11m32s  (89.8%)\rEpoch: 49.0%  lr: 0.004915  loss: 0.006999  eta: 0h1m  tot: 0h11m32s  (89.8%)\rEpoch: 49.1%  lr: 0.004915  loss: 0.006997  eta: 0h1m  tot: 0h11m32s  (89.8%)\rEpoch: 49.2%  lr: 0.004895  loss: 0.006992  eta: 0h1m  tot: 0h11m32s  (89.8%)\rEpoch: 49.2%  lr: 0.004895  loss: 0.007004  eta: 0h1m  tot: 0h11m33s  (89.8%)\rEpoch: 49.3%  lr: 0.004895  loss: 0.006995  eta: 0h1m  tot: 0h11m33s  (89.9%)\rEpoch: 49.4%  lr: 0.004875  loss: 0.006993  eta: 0h1m  tot: 0h11m33s  (89.9%)\rEpoch: 49.5%  lr: 0.004865  loss: 0.006990  eta: 0h1m  tot: 0h11m33s  (89.9%)\rEpoch: 49.6%  lr: 0.004855  loss: 0.006991  eta: 0h1m  tot: 0h11m33s  (89.9%)\rEpoch: 49.7%  lr: 0.004845  loss: 0.006993  eta: 0h1m  tot: 0h11m33s  (89.9%)\rEpoch: 49.8%  lr: 0.004835  loss: 0.007010  eta: 0h1m  tot: 0h11m33s  (90.0%)\rEpoch: 49.9%  lr: 0.004825  loss: 0.007013  eta: 0h1m  tot: 0h11m34s  (90.0%)\rEpoch: 50.0%  lr: 0.004805  loss: 0.007005  eta: 0h1m  tot: 0h11m34s  (90.0%)\rEpoch: 50.1%  lr: 0.004795  loss: 0.007009  eta: 0h1m  tot: 0h11m34s  (90.0%)\rEpoch: 50.1%  lr: 0.004785  loss: 0.007006  eta: 0h1m  tot: 0h11m34s  (90.0%)\rEpoch: 50.2%  lr: 0.004765  loss: 0.007013  eta: 0h1m  tot: 0h11m34s  (90.0%)\rEpoch: 50.3%  lr: 0.004755  loss: 0.007010  eta: 0h1m  tot: 0h11m34s  (90.1%)\rEpoch: 50.4%  lr: 0.004735  loss: 0.007008  eta: 0h1m  tot: 0h11m34s  (90.1%)\rEpoch: 50.5%  lr: 0.004715  loss: 0.007013  eta: 0h1m  tot: 0h11m34s  (90.1%)\rEpoch: 50.6%  lr: 0.004715  loss: 0.007020  eta: 0h1m  tot: 0h11m35s  (90.1%)\rEpoch: 50.7%  lr: 0.004695  loss: 0.007013  eta: 0h1m  tot: 0h11m35s  (90.1%)\rEpoch: 50.8%  lr: 0.004685  loss: 0.007005  eta: 0h1m  tot: 0h11m35s  (90.2%)\rEpoch: 50.9%  lr: 0.004675  loss: 0.007000  eta: 0h1m  tot: 0h11m35s  (90.2%)\rEpoch: 51.0%  lr: 0.004655  loss: 0.007010  eta: 0h1m  tot: 0h11m35s  (90.2%)\rEpoch: 51.0%  lr: 0.004655  loss: 0.007015  eta: 0h1m  tot: 0h11m35s  (90.2%)\rEpoch: 51.1%  lr: 0.004645  loss: 0.007020  eta: 0h1m  tot: 0h11m35s  (90.2%)\rEpoch: 51.2%  lr: 0.004645  loss: 0.007022  eta: 0h1m  tot: 0h11m36s  (90.2%)\rEpoch: 51.3%  lr: 0.004645  loss: 0.007023  eta: 0h1m  tot: 0h11m36s  (90.3%)\rEpoch: 51.4%  lr: 0.004645  loss: 0.007041  eta: 0h1m  tot: 0h11m36s  (90.3%)\rEpoch: 51.5%  lr: 0.004645  loss: 0.007037  eta: 0h1m  tot: 0h11m36s  (90.3%)\rEpoch: 51.6%  lr: 0.004645  loss: 0.007051  eta: 0h1m  tot: 0h11m36s  (90.3%)\rEpoch: 51.7%  lr: 0.004645  loss: 0.007051  eta: 0h1m  tot: 0h11m36s  (90.3%)\rEpoch: 51.8%  lr: 0.004635  loss: 0.007060  eta: 0h1m  tot: 0h11m36s  (90.4%)\rEpoch: 51.9%  lr: 0.004615  loss: 0.007073  eta: 0h1m  tot: 0h11m37s  (90.4%)\rEpoch: 51.9%  lr: 0.004605  loss: 0.007070  eta: 0h1m  tot: 0h11m37s  (90.4%)\rEpoch: 52.0%  lr: 0.004605  loss: 0.007069  eta: 0h1m  tot: 0h11m37s  (90.4%)\rEpoch: 52.1%  lr: 0.004595  loss: 0.007065  eta: 0h1m  tot: 0h11m37s  (90.4%)\rEpoch: 52.2%  lr: 0.004555  loss: 0.007059  eta: 0h1m  tot: 0h11m37s  (90.4%)\rEpoch: 52.3%  lr: 0.004545  loss: 0.007059  eta: 0h1m  tot: 0h11m37s  (90.5%)\rEpoch: 52.4%  lr: 0.004535  loss: 0.007056  eta: 0h1m  tot: 0h11m37s  (90.5%)\rEpoch: 52.5%  lr: 0.004525  loss: 0.007053  eta: 0h1m  tot: 0h11m37s  (90.5%)\rEpoch: 52.6%  lr: 0.004515  loss: 0.007054  eta: 0h1m  tot: 0h11m38s  (90.5%)\rEpoch: 52.7%  lr: 0.004485  loss: 0.007055  eta: 0h1m  tot: 0h11m38s  (90.5%)\rEpoch: 52.8%  lr: 0.004475  loss: 0.007049  eta: 0h1m  tot: 0h11m38s  (90.6%)\rEpoch: 52.8%  lr: 0.004475  loss: 0.007046  eta: 0h1m  tot: 0h11m38s  (90.6%)\rEpoch: 52.9%  lr: 0.004475  loss: 0.007052  eta: 0h1m  tot: 0h11m38s  (90.6%)\rEpoch: 53.0%  lr: 0.004465  loss: 0.007049  eta: 0h1m  tot: 0h11m38s  (90.6%)\rEpoch: 53.1%  lr: 0.004465  loss: 0.007047  eta: 0h1m  tot: 0h11m38s  (90.6%)\rEpoch: 53.2%  lr: 0.004455  loss: 0.007046  eta: 0h1m  tot: 0h11m38s  (90.6%)\rEpoch: 53.3%  lr: 0.004455  loss: 0.007040  eta: 0h1m  tot: 0h11m39s  (90.7%)\rEpoch: 53.4%  lr: 0.004445  loss: 0.007032  eta: 0h1m  tot: 0h11m39s  (90.7%)\rEpoch: 53.5%  lr: 0.004445  loss: 0.007027  eta: 0h1m  tot: 0h11m39s  (90.7%)\rEpoch: 53.6%  lr: 0.004445  loss: 0.007037  eta: 0h1m  tot: 0h11m39s  (90.7%)\rEpoch: 53.7%  lr: 0.004445  loss: 0.007045  eta: 0h1m  tot: 0h11m39s  (90.7%)\rEpoch: 53.7%  lr: 0.004435  loss: 0.007039  eta: 0h1m  tot: 0h11m39s  (90.7%)\rEpoch: 53.8%  lr: 0.004435  loss: 0.007036  eta: 0h1m  tot: 0h11m39s  (90.8%)\rEpoch: 53.9%  lr: 0.004425  loss: 0.007031  eta: 0h1m  tot: 0h11m40s  (90.8%)\rEpoch: 54.0%  lr: 0.004425  loss: 0.007027  eta: 0h1m  tot: 0h11m40s  (90.8%)\rEpoch: 54.1%  lr: 0.004425  loss: 0.007024  eta: 0h1m  tot: 0h11m40s  (90.8%)\rEpoch: 54.2%  lr: 0.004415  loss: 0.007021  eta: 0h1m  tot: 0h11m40s  (90.8%)\rEpoch: 54.3%  lr: 0.004384  loss: 0.007012  eta: 0h1m  tot: 0h11m40s  (90.9%)\rEpoch: 54.4%  lr: 0.004344  loss: 0.007021  eta: 0h1m  tot: 0h11m40s  (90.9%)\rEpoch: 54.5%  lr: 0.004334  loss: 0.007016  eta: 0h1m  tot: 0h11m40s  (90.9%)\rEpoch: 54.6%  lr: 0.004314  loss: 0.007032  eta: 0h1m  tot: 0h11m41s  (90.9%)\rEpoch: 54.6%  lr: 0.004304  loss: 0.007037  eta: 0h1m  tot: 0h11m41s  (90.9%)\rEpoch: 54.7%  lr: 0.004304  loss: 0.007029  eta: 0h1m  tot: 0h11m41s  (90.9%)\rEpoch: 54.8%  lr: 0.004294  loss: 0.007023  eta: 0h1m  tot: 0h11m41s  (91.0%)\rEpoch: 54.9%  lr: 0.004294  loss: 0.007026  eta: 0h1m  tot: 0h11m41s  (91.0%)\rEpoch: 55.0%  lr: 0.004284  loss: 0.007027  eta: 0h1m  tot: 0h11m41s  (91.0%)\rEpoch: 55.1%  lr: 0.004274  loss: 0.007036  eta: 0h1m  tot: 0h11m41s  (91.0%)\rEpoch: 55.2%  lr: 0.004264  loss: 0.007036  eta: 0h1m  tot: 0h11m41s  (91.0%)\rEpoch: 55.3%  lr: 0.004254  loss: 0.007033  eta: 0h1m  tot: 0h11m42s  (91.1%)\rEpoch: 55.4%  lr: 0.004234  loss: 0.007030  eta: 0h1m  tot: 0h11m42s  (91.1%)\rEpoch: 55.5%  lr: 0.004224  loss: 0.007029  eta: 0h1m  tot: 0h11m42s  (91.1%)\rEpoch: 55.5%  lr: 0.004204  loss: 0.007032  eta: 0h1m  tot: 0h11m42s  (91.1%)\rEpoch: 55.6%  lr: 0.004204  loss: 0.007032  eta: 0h1m  tot: 0h11m42s  (91.1%)\rEpoch: 55.7%  lr: 0.004174  loss: 0.007030  eta: 0h1m  tot: 0h11m42s  (91.1%)\rEpoch: 55.8%  lr: 0.004174  loss: 0.007029  eta: 0h1m  tot: 0h11m42s  (91.2%)\rEpoch: 55.9%  lr: 0.004164  loss: 0.007024  eta: 0h1m  tot: 0h11m42s  (91.2%)\rEpoch: 56.0%  lr: 0.004164  loss: 0.007026  eta: 0h1m  tot: 0h11m43s  (91.2%)\rEpoch: 56.1%  lr: 0.004164  loss: 0.007023  eta: 0h1m  tot: 0h11m43s  (91.2%)\rEpoch: 56.2%  lr: 0.004154  loss: 0.007018  eta: 0h1m  tot: 0h11m43s  (91.2%)\rEpoch: 56.3%  lr: 0.004144  loss: 0.007029  eta: 0h1m  tot: 0h11m43s  (91.3%)\rEpoch: 56.4%  lr: 0.004144  loss: 0.007030  eta: 0h1m  tot: 0h11m43s  (91.3%)\rEpoch: 56.4%  lr: 0.004134  loss: 0.007041  eta: 0h1m  tot: 0h11m43s  (91.3%)\rEpoch: 56.5%  lr: 0.004094  loss: 0.007037  eta: 0h1m  tot: 0h11m43s  (91.3%)\rEpoch: 56.6%  lr: 0.004084  loss: 0.007031  eta: 0h1m  tot: 0h11m44s  (91.3%)\rEpoch: 56.7%  lr: 0.004064  loss: 0.007041  eta: 0h1m  tot: 0h11m44s  (91.3%)\rEpoch: 56.8%  lr: 0.004064  loss: 0.007041  eta: 0h1m  tot: 0h11m44s  (91.4%)\rEpoch: 56.9%  lr: 0.004064  loss: 0.007045  eta: 0h1m  tot: 0h11m44s  (91.4%)\rEpoch: 57.0%  lr: 0.004064  loss: 0.007035  eta: 0h1m  tot: 0h11m44s  (91.4%)\rEpoch: 57.1%  lr: 0.004064  loss: 0.007039  eta: 0h1m  tot: 0h11m44s  (91.4%)\rEpoch: 57.2%  lr: 0.004054  loss: 0.007037  eta: 0h1m  tot: 0h11m44s  (91.4%)\rEpoch: 57.3%  lr: 0.004024  loss: 0.007031  eta: 0h1m  tot: 0h11m45s  (91.5%)\rEpoch: 57.3%  lr: 0.004024  loss: 0.007036  eta: 0h1m  tot: 0h11m45s  (91.5%)\rEpoch: 57.4%  lr: 0.004024  loss: 0.007032  eta: 0h1m  tot: 0h11m45s  (91.5%)\rEpoch: 57.5%  lr: 0.004024  loss: 0.007028  eta: 0h1m  tot: 0h11m45s  (91.5%)\rEpoch: 57.6%  lr: 0.004014  loss: 0.007028  eta: 0h1m  tot: 0h11m45s  (91.5%)\rEpoch: 57.7%  lr: 0.004014  loss: 0.007029  eta: 0h1m  tot: 0h11m45s  (91.5%)\rEpoch: 57.8%  lr: 0.004004  loss: 0.007039  eta: 0h1m  tot: 0h11m45s  (91.6%)\rEpoch: 57.9%  lr: 0.003984  loss: 0.007032  eta: 0h1m  tot: 0h11m45s  (91.6%)\rEpoch: 58.0%  lr: 0.003974  loss: 0.007045  eta: 0h1m  tot: 0h11m46s  (91.6%)\rEpoch: 58.1%  lr: 0.003974  loss: 0.007042  eta: 0h1m  tot: 0h11m46s  (91.6%)\rEpoch: 58.2%  lr: 0.003974  loss: 0.007039  eta: 0h1m  tot: 0h11m46s  (91.6%)\rEpoch: 58.2%  lr: 0.003974  loss: 0.007032  eta: 0h1m  tot: 0h11m46s  (91.6%)\rEpoch: 58.3%  lr: 0.003954  loss: 0.007040  eta: 0h1m  tot: 0h11m46s  (91.7%)\rEpoch: 58.4%  lr: 0.003944  loss: 0.007031  eta: 0h1m  tot: 0h11m46s  (91.7%)\rEpoch: 58.5%  lr: 0.003944  loss: 0.007031  eta: 0h1m  tot: 0h11m46s  (91.7%)\rEpoch: 58.6%  lr: 0.003934  loss: 0.007035  eta: 0h1m  tot: 0h11m47s  (91.7%)\rEpoch: 58.7%  lr: 0.003934  loss: 0.007034  eta: 0h1m  tot: 0h11m47s  (91.7%)\rEpoch: 58.8%  lr: 0.003914  loss: 0.007038  eta: 0h1m  tot: 0h11m47s  (91.8%)\rEpoch: 58.9%  lr: 0.003914  loss: 0.007044  eta: 0h1m  tot: 0h11m47s  (91.8%)\rEpoch: 59.0%  lr: 0.003904  loss: 0.007036  eta: 0h1m  tot: 0h11m47s  (91.8%)\rEpoch: 59.1%  lr: 0.003894  loss: 0.007032  eta: 0h1m  tot: 0h11m47s  (91.8%)\rEpoch: 59.1%  lr: 0.003864  loss: 0.007029  eta: 0h1m  tot: 0h11m47s  (91.8%)\rEpoch: 59.2%  lr: 0.003864  loss: 0.007046  eta: 0h1m  tot: 0h11m47s  (91.8%)\rEpoch: 59.3%  lr: 0.003864  loss: 0.007039  eta: 0h1m  tot: 0h11m48s  (91.9%)\rEpoch: 59.4%  lr: 0.003854  loss: 0.007042  eta: 0h1m  tot: 0h11m48s  (91.9%)\rEpoch: 59.5%  lr: 0.003844  loss: 0.007037  eta: 0h1m  tot: 0h11m48s  (91.9%)\rEpoch: 59.6%  lr: 0.003834  loss: 0.007036  eta: 0h1m  tot: 0h11m48s  (91.9%)\rEpoch: 59.7%  lr: 0.003834  loss: 0.007028  eta: <1min   tot: 0h11m48s  (91.9%)\rEpoch: 59.8%  lr: 0.003834  loss: 0.007025  eta: <1min   tot: 0h11m48s  (92.0%)\rEpoch: 59.9%  lr: 0.003824  loss: 0.007028  eta: <1min   tot: 0h11m48s  (92.0%)\rEpoch: 60.0%  lr: 0.003814  loss: 0.007030  eta: <1min   tot: 0h11m49s  (92.0%)\rEpoch: 60.0%  lr: 0.003784  loss: 0.007022  eta: <1min   tot: 0h11m49s  (92.0%)\rEpoch: 60.1%  lr: 0.003754  loss: 0.007025  eta: <1min   tot: 0h11m49s  (92.0%)\rEpoch: 60.2%  lr: 0.003744  loss: 0.007022  eta: <1min   tot: 0h11m49s  (92.0%)\rEpoch: 60.3%  lr: 0.003724  loss: 0.007019  eta: <1min   tot: 0h11m49s  (92.1%)\rEpoch: 60.4%  lr: 0.003714  loss: 0.007011  eta: <1min   tot: 0h11m49s  (92.1%)\rEpoch: 60.5%  lr: 0.003714  loss: 0.007004  eta: <1min   tot: 0h11m49s  (92.1%)\rEpoch: 60.6%  lr: 0.003674  loss: 0.007002  eta: <1min   tot: 0h11m49s  (92.1%)\rEpoch: 60.7%  lr: 0.003674  loss: 0.006997  eta: <1min   tot: 0h11m50s  (92.1%)\rEpoch: 60.8%  lr: 0.003664  loss: 0.006994  eta: <1min   tot: 0h11m50s  (92.2%)\rEpoch: 60.9%  lr: 0.003654  loss: 0.006989  eta: <1min   tot: 0h11m50s  (92.2%)\rEpoch: 60.9%  lr: 0.003624  loss: 0.006994  eta: <1min   tot: 0h11m50s  (92.2%)\rEpoch: 61.0%  lr: 0.003604  loss: 0.006990  eta: <1min   tot: 0h11m50s  (92.2%)\rEpoch: 61.1%  lr: 0.003584  loss: 0.006987  eta: <1min   tot: 0h11m50s  (92.2%)\rEpoch: 61.2%  lr: 0.003554  loss: 0.006988  eta: <1min   tot: 0h11m50s  (92.2%)\rEpoch: 61.3%  lr: 0.003544  loss: 0.006987  eta: <1min   tot: 0h11m50s  (92.3%)\rEpoch: 61.4%  lr: 0.003544  loss: 0.006984  eta: <1min   tot: 0h11m51s  (92.3%)\rEpoch: 61.5%  lr: 0.003534  loss: 0.006982  eta: <1min   tot: 0h11m51s  (92.3%)\rEpoch: 61.6%  lr: 0.003524  loss: 0.006983  eta: <1min   tot: 0h11m51s  (92.3%)\rEpoch: 61.7%  lr: 0.003524  loss: 0.006987  eta: <1min   tot: 0h11m51s  (92.3%)\rEpoch: 61.8%  lr: 0.003524  loss: 0.006985  eta: <1min   tot: 0h11m51s  (92.4%)\rEpoch: 61.8%  lr: 0.003514  loss: 0.006986  eta: <1min   tot: 0h11m51s  (92.4%)\rEpoch: 61.9%  lr: 0.003514  loss: 0.006985  eta: <1min   tot: 0h11m51s  (92.4%)\rEpoch: 62.0%  lr: 0.003514  loss: 0.006978  eta: <1min   tot: 0h11m52s  (92.4%)\rEpoch: 62.1%  lr: 0.003514  loss: 0.007000  eta: <1min   tot: 0h11m52s  (92.4%)\rEpoch: 62.2%  lr: 0.003514  loss: 0.006994  eta: <1min   tot: 0h11m52s  (92.4%)\rEpoch: 62.3%  lr: 0.003514  loss: 0.006990  eta: <1min   tot: 0h11m52s  (92.5%)\rEpoch: 62.4%  lr: 0.003504  loss: 0.006990  eta: <1min   tot: 0h11m52s  (92.5%)\rEpoch: 62.5%  lr: 0.003494  loss: 0.006991  eta: <1min   tot: 0h11m52s  (92.5%)\rEpoch: 62.6%  lr: 0.003484  loss: 0.007006  eta: <1min   tot: 0h11m52s  (92.5%)\rEpoch: 62.7%  lr: 0.003464  loss: 0.007003  eta: <1min   tot: 0h11m52s  (92.5%)\rEpoch: 62.7%  lr: 0.003454  loss: 0.006997  eta: <1min   tot: 0h11m53s  (92.5%)\rEpoch: 62.8%  lr: 0.003444  loss: 0.006989  eta: <1min   tot: 0h11m53s  (92.6%)\rEpoch: 62.9%  lr: 0.003434  loss: 0.006989  eta: <1min   tot: 0h11m53s  (92.6%)\rEpoch: 63.0%  lr: 0.003424  loss: 0.006986  eta: <1min   tot: 0h11m53s  (92.6%)\rEpoch: 63.1%  lr: 0.003393  loss: 0.006977  eta: <1min   tot: 0h11m53s  (92.6%)\rEpoch: 63.2%  lr: 0.003393  loss: 0.006976  eta: <1min   tot: 0h11m53s  (92.6%)\rEpoch: 63.3%  lr: 0.003373  loss: 0.006980  eta: <1min   tot: 0h11m53s  (92.7%)\rEpoch: 63.4%  lr: 0.003373  loss: 0.006979  eta: <1min   tot: 0h11m54s  (92.7%)\rEpoch: 63.5%  lr: 0.003363  loss: 0.006976  eta: <1min   tot: 0h11m54s  (92.7%)\rEpoch: 63.6%  lr: 0.003353  loss: 0.006976  eta: <1min   tot: 0h11m54s  (92.7%)\rEpoch: 63.6%  lr: 0.003343  loss: 0.006991  eta: <1min   tot: 0h11m54s  (92.7%)\rEpoch: 63.7%  lr: 0.003333  loss: 0.006986  eta: <1min   tot: 0h11m54s  (92.7%)\rEpoch: 63.8%  lr: 0.003313  loss: 0.006989  eta: <1min   tot: 0h11m54s  (92.8%)\rEpoch: 63.9%  lr: 0.003303  loss: 0.006988  eta: <1min   tot: 0h11m54s  (92.8%)\rEpoch: 64.0%  lr: 0.003303  loss: 0.006983  eta: <1min   tot: 0h11m55s  (92.8%)\rEpoch: 64.1%  lr: 0.003303  loss: 0.006987  eta: <1min   tot: 0h11m55s  (92.8%)\rEpoch: 64.2%  lr: 0.003303  loss: 0.006988  eta: <1min   tot: 0h11m55s  (92.8%)\rEpoch: 64.3%  lr: 0.003293  loss: 0.006984  eta: <1min   tot: 0h11m55s  (92.9%)\rEpoch: 64.4%  lr: 0.003293  loss: 0.006982  eta: <1min   tot: 0h11m55s  (92.9%)\rEpoch: 64.5%  lr: 0.003283  loss: 0.006986  eta: <1min   tot: 0h11m55s  (92.9%)\rEpoch: 64.5%  lr: 0.003253  loss: 0.006985  eta: <1min   tot: 0h11m55s  (92.9%)\rEpoch: 64.6%  lr: 0.003233  loss: 0.006995  eta: <1min   tot: 0h11m55s  (92.9%)\rEpoch: 64.7%  lr: 0.003223  loss: 0.006990  eta: <1min   tot: 0h11m56s  (92.9%)\rEpoch: 64.8%  lr: 0.003193  loss: 0.006997  eta: <1min   tot: 0h11m56s  (93.0%)\rEpoch: 64.9%  lr: 0.003193  loss: 0.006997  eta: <1min   tot: 0h11m56s  (93.0%)\rEpoch: 65.0%  lr: 0.003193  loss: 0.006996  eta: <1min   tot: 0h11m56s  (93.0%)\rEpoch: 65.1%  lr: 0.003193  loss: 0.006992  eta: <1min   tot: 0h11m56s  (93.0%)\rEpoch: 65.2%  lr: 0.003183  loss: 0.006988  eta: <1min   tot: 0h11m56s  (93.0%)\rEpoch: 65.3%  lr: 0.003183  loss: 0.006982  eta: <1min   tot: 0h11m56s  (93.1%)\rEpoch: 65.4%  lr: 0.003163  loss: 0.006980  eta: <1min   tot: 0h11m57s  (93.1%)\rEpoch: 65.4%  lr: 0.003133  loss: 0.006985  eta: <1min   tot: 0h11m57s  (93.1%)\rEpoch: 65.5%  lr: 0.003113  loss: 0.006987  eta: <1min   tot: 0h11m57s  (93.1%)\rEpoch: 65.6%  lr: 0.003113  loss: 0.006984  eta: <1min   tot: 0h11m57s  (93.1%)\rEpoch: 65.7%  lr: 0.003093  loss: 0.006998  eta: <1min   tot: 0h11m57s  (93.1%)\rEpoch: 65.8%  lr: 0.003093  loss: 0.006994  eta: <1min   tot: 0h11m57s  (93.2%)\rEpoch: 65.9%  lr: 0.003083  loss: 0.006986  eta: <1min   tot: 0h11m57s  (93.2%)\rEpoch: 66.0%  lr: 0.003083  loss: 0.006986  eta: <1min   tot: 0h11m57s  (93.2%)\rEpoch: 66.1%  lr: 0.003033  loss: 0.006986  eta: <1min   tot: 0h11m58s  (93.2%)\rEpoch: 66.2%  lr: 0.003033  loss: 0.006986  eta: <1min   tot: 0h11m58s  (93.2%)\rEpoch: 66.3%  lr: 0.003023  loss: 0.006990  eta: <1min   tot: 0h11m58s  (93.3%)\rEpoch: 66.3%  lr: 0.003023  loss: 0.006992  eta: <1min   tot: 0h11m58s  (93.3%)\rEpoch: 66.4%  lr: 0.003013  loss: 0.007010  eta: <1min   tot: 0h11m58s  (93.3%)\rEpoch: 66.5%  lr: 0.002993  loss: 0.007010  eta: <1min   tot: 0h11m58s  (93.3%)\rEpoch: 66.6%  lr: 0.002993  loss: 0.007008  eta: <1min   tot: 0h11m58s  (93.3%)\rEpoch: 66.7%  lr: 0.002993  loss: 0.007007  eta: <1min   tot: 0h11m58s  (93.3%)\rEpoch: 66.8%  lr: 0.002973  loss: 0.007009  eta: <1min   tot: 0h11m59s  (93.4%)\rEpoch: 66.9%  lr: 0.002963  loss: 0.007007  eta: <1min   tot: 0h11m59s  (93.4%)\rEpoch: 67.0%  lr: 0.002953  loss: 0.007006  eta: <1min   tot: 0h11m59s  (93.4%)\rEpoch: 67.1%  lr: 0.002953  loss: 0.007003  eta: <1min   tot: 0h11m59s  (93.4%)\rEpoch: 67.2%  lr: 0.002953  loss: 0.007006  eta: <1min   tot: 0h11m59s  (93.4%)\rEpoch: 67.2%  lr: 0.002943  loss: 0.007010  eta: <1min   tot: 0h11m59s  (93.4%)\rEpoch: 67.3%  lr: 0.002943  loss: 0.007014  eta: <1min   tot: 0h11m59s  (93.5%)\rEpoch: 67.4%  lr: 0.002933  loss: 0.007020  eta: <1min   tot: 0h12m0s  (93.5%)\rEpoch: 67.5%  lr: 0.002913  loss: 0.007016  eta: <1min   tot: 0h12m0s  (93.5%)\rEpoch: 67.6%  lr: 0.002883  loss: 0.007015  eta: <1min   tot: 0h12m0s  (93.5%)\rEpoch: 67.7%  lr: 0.002883  loss: 0.007012  eta: <1min   tot: 0h12m0s  (93.5%)\rEpoch: 67.8%  lr: 0.002873  loss: 0.007012  eta: <1min   tot: 0h12m0s  (93.6%)\rEpoch: 67.9%  lr: 0.002833  loss: 0.007016  eta: <1min   tot: 0h12m0s  (93.6%)\rEpoch: 68.0%  lr: 0.002803  loss: 0.007011  eta: <1min   tot: 0h12m0s  (93.6%)\rEpoch: 68.1%  lr: 0.002793  loss: 0.007013  eta: <1min   tot: 0h12m1s  (93.6%)\rEpoch: 68.1%  lr: 0.002783  loss: 0.007010  eta: <1min   tot: 0h12m1s  (93.6%)\rEpoch: 68.2%  lr: 0.002743  loss: 0.007009  eta: <1min   tot: 0h12m1s  (93.6%)\rEpoch: 68.3%  lr: 0.002743  loss: 0.007010  eta: <1min   tot: 0h12m1s  (93.7%)\rEpoch: 68.4%  lr: 0.002713  loss: 0.007005  eta: <1min   tot: 0h12m1s  (93.7%)\rEpoch: 68.5%  lr: 0.002703  loss: 0.007005  eta: <1min   tot: 0h12m1s  (93.7%)\rEpoch: 68.6%  lr: 0.002693  loss: 0.007005  eta: <1min   tot: 0h12m1s  (93.7%)\rEpoch: 68.7%  lr: 0.002683  loss: 0.007005  eta: <1min   tot: 0h12m1s  (93.7%)\rEpoch: 68.8%  lr: 0.002683  loss: 0.007003  eta: <1min   tot: 0h12m2s  (93.8%)\rEpoch: 68.9%  lr: 0.002683  loss: 0.006999  eta: <1min   tot: 0h12m2s  (93.8%)\rEpoch: 69.0%  lr: 0.002683  loss: 0.006994  eta: <1min   tot: 0h12m2s  (93.8%)\rEpoch: 69.0%  lr: 0.002673  loss: 0.006997  eta: <1min   tot: 0h12m2s  (93.8%)\rEpoch: 69.1%  lr: 0.002673  loss: 0.006990  eta: <1min   tot: 0h12m2s  (93.8%)\rEpoch: 69.2%  lr: 0.002673  loss: 0.006989  eta: <1min   tot: 0h12m2s  (93.8%)\rEpoch: 69.3%  lr: 0.002673  loss: 0.006994  eta: <1min   tot: 0h12m2s  (93.9%)\rEpoch: 69.4%  lr: 0.002653  loss: 0.006991  eta: <1min   tot: 0h12m3s  (93.9%)\rEpoch: 69.5%  lr: 0.002653  loss: 0.006996  eta: <1min   tot: 0h12m3s  (93.9%)\rEpoch: 69.6%  lr: 0.002653  loss: 0.006999  eta: <1min   tot: 0h12m3s  (93.9%)\rEpoch: 69.7%  lr: 0.002653  loss: 0.006997  eta: <1min   tot: 0h12m3s  (93.9%)\rEpoch: 69.8%  lr: 0.002653  loss: 0.006998  eta: <1min   tot: 0h12m3s  (94.0%)\rEpoch: 69.9%  lr: 0.002643  loss: 0.006993  eta: <1min   tot: 0h12m3s  (94.0%)\rEpoch: 69.9%  lr: 0.002633  loss: 0.006997  eta: <1min   tot: 0h12m3s  (94.0%)\rEpoch: 70.0%  lr: 0.002623  loss: 0.006999  eta: <1min   tot: 0h12m3s  (94.0%)\rEpoch: 70.1%  lr: 0.002623  loss: 0.007006  eta: <1min   tot: 0h12m4s  (94.0%)\rEpoch: 70.2%  lr: 0.002603  loss: 0.007002  eta: <1min   tot: 0h12m4s  (94.0%)\rEpoch: 70.3%  lr: 0.002603  loss: 0.007001  eta: <1min   tot: 0h12m4s  (94.1%)\rEpoch: 70.4%  lr: 0.002573  loss: 0.006995  eta: <1min   tot: 0h12m4s  (94.1%)\rEpoch: 70.5%  lr: 0.002543  loss: 0.006991  eta: <1min   tot: 0h12m4s  (94.1%)\rEpoch: 70.6%  lr: 0.002523  loss: 0.006990  eta: <1min   tot: 0h12m4s  (94.1%)\rEpoch: 70.7%  lr: 0.002523  loss: 0.006989  eta: <1min   tot: 0h12m4s  (94.1%)\rEpoch: 70.8%  lr: 0.002523  loss: 0.006985  eta: <1min   tot: 0h12m5s  (94.2%)\rEpoch: 70.8%  lr: 0.002513  loss: 0.006991  eta: <1min   tot: 0h12m5s  (94.2%)\rEpoch: 70.9%  lr: 0.002503  loss: 0.006990  eta: <1min   tot: 0h12m5s  (94.2%)\rEpoch: 71.0%  lr: 0.002483  loss: 0.006985  eta: <1min   tot: 0h12m5s  (94.2%)\rEpoch: 71.1%  lr: 0.002483  loss: 0.006983  eta: <1min   tot: 0h12m5s  (94.2%)\rEpoch: 71.2%  lr: 0.002473  loss: 0.006982  eta: <1min   tot: 0h12m5s  (94.2%)\rEpoch: 71.3%  lr: 0.002473  loss: 0.006978  eta: <1min   tot: 0h12m5s  (94.3%)\rEpoch: 71.4%  lr: 0.002473  loss: 0.006976  eta: <1min   tot: 0h12m5s  (94.3%)\rEpoch: 71.5%  lr: 0.002473  loss: 0.006979  eta: <1min   tot: 0h12m6s  (94.3%)\rEpoch: 71.6%  lr: 0.002463  loss: 0.006979  eta: <1min   tot: 0h12m6s  (94.3%)\rEpoch: 71.7%  lr: 0.002463  loss: 0.006986  eta: <1min   tot: 0h12m6s  (94.3%)\rEpoch: 71.7%  lr: 0.002453  loss: 0.006988  eta: <1min   tot: 0h12m6s  (94.3%)\rEpoch: 71.8%  lr: 0.002443  loss: 0.006983  eta: <1min   tot: 0h12m6s  (94.4%)\rEpoch: 71.9%  lr: 0.002433  loss: 0.006990  eta: <1min   tot: 0h12m6s  (94.4%)\rEpoch: 72.0%  lr: 0.002392  loss: 0.006983  eta: <1min   tot: 0h12m6s  (94.4%)\rEpoch: 72.1%  lr: 0.002392  loss: 0.006985  eta: <1min   tot: 0h12m7s  (94.4%)\rEpoch: 72.2%  lr: 0.002382  loss: 0.006989  eta: <1min   tot: 0h12m7s  (94.4%)\rEpoch: 72.3%  lr: 0.002382  loss: 0.006985  eta: <1min   tot: 0h12m7s  (94.5%)\rEpoch: 72.4%  lr: 0.002372  loss: 0.006980  eta: <1min   tot: 0h12m7s  (94.5%)\rEpoch: 72.5%  lr: 0.002372  loss: 0.006984  eta: <1min   tot: 0h12m7s  (94.5%)\rEpoch: 72.6%  lr: 0.002372  loss: 0.006980  eta: <1min   tot: 0h12m7s  (94.5%)\rEpoch: 72.6%  lr: 0.002372  loss: 0.006976  eta: <1min   tot: 0h12m7s  (94.5%)\rEpoch: 72.7%  lr: 0.002362  loss: 0.006973  eta: <1min   tot: 0h12m8s  (94.5%)\rEpoch: 72.8%  lr: 0.002362  loss: 0.006969  eta: <1min   tot: 0h12m8s  (94.6%)\rEpoch: 72.9%  lr: 0.002332  loss: 0.006968  eta: <1min   tot: 0h12m8s  (94.6%)\rEpoch: 73.0%  lr: 0.002322  loss: 0.006972  eta: <1min   tot: 0h12m8s  (94.6%)\rEpoch: 73.1%  lr: 0.002312  loss: 0.006977  eta: <1min   tot: 0h12m8s  (94.6%)\rEpoch: 73.2%  lr: 0.002292  loss: 0.006975  eta: <1min   tot: 0h12m8s  (94.6%)\rEpoch: 73.3%  lr: 0.002292  loss: 0.006970  eta: <1min   tot: 0h12m8s  (94.7%)\rEpoch: 73.4%  lr: 0.002282  loss: 0.006972  eta: <1min   tot: 0h12m8s  (94.7%)\rEpoch: 73.5%  lr: 0.002282  loss: 0.006969  eta: <1min   tot: 0h12m9s  (94.7%)\rEpoch: 73.5%  lr: 0.002282  loss: 0.006970  eta: <1min   tot: 0h12m9s  (94.7%)\rEpoch: 73.6%  lr: 0.002282  loss: 0.006968  eta: <1min   tot: 0h12m9s  (94.7%)\rEpoch: 73.7%  lr: 0.002282  loss: 0.006966  eta: <1min   tot: 0h12m9s  (94.7%)\rEpoch: 73.8%  lr: 0.002282  loss: 0.006959  eta: <1min   tot: 0h12m9s  (94.8%)\rEpoch: 73.9%  lr: 0.002262  loss: 0.006956  eta: <1min   tot: 0h12m9s  (94.8%)\rEpoch: 74.0%  lr: 0.002252  loss: 0.006954  eta: <1min   tot: 0h12m9s  (94.8%)\rEpoch: 74.1%  lr: 0.002252  loss: 0.006946  eta: <1min   tot: 0h12m9s  (94.8%)\rEpoch: 74.2%  lr: 0.002252  loss: 0.006943  eta: <1min   tot: 0h12m10s  (94.8%)\rEpoch: 74.3%  lr: 0.002242  loss: 0.006936  eta: <1min   tot: 0h12m10s  (94.9%)\rEpoch: 74.4%  lr: 0.002232  loss: 0.006929  eta: <1min   tot: 0h12m10s  (94.9%)\rEpoch: 74.4%  lr: 0.002222  loss: 0.006931  eta: <1min   tot: 0h12m10s  (94.9%)\rEpoch: 74.5%  lr: 0.002202  loss: 0.006931  eta: <1min   tot: 0h12m10s  (94.9%)\rEpoch: 74.6%  lr: 0.002192  loss: 0.006932  eta: <1min   tot: 0h12m10s  (94.9%)\rEpoch: 74.7%  lr: 0.002182  loss: 0.006940  eta: <1min   tot: 0h12m10s  (94.9%)\rEpoch: 74.8%  lr: 0.002182  loss: 0.006944  eta: <1min   tot: 0h12m11s  (95.0%)\rEpoch: 74.9%  lr: 0.002182  loss: 0.006941  eta: <1min   tot: 0h12m11s  (95.0%)\rEpoch: 75.0%  lr: 0.002182  loss: 0.006942  eta: <1min   tot: 0h12m11s  (95.0%)\rEpoch: 75.1%  lr: 0.002182  loss: 0.006944  eta: <1min   tot: 0h12m11s  (95.0%)\rEpoch: 75.2%  lr: 0.002162  loss: 0.006954  eta: <1min   tot: 0h12m11s  (95.0%)\rEpoch: 75.3%  lr: 0.002152  loss: 0.006951  eta: <1min   tot: 0h12m11s  (95.1%)\rEpoch: 75.3%  lr: 0.002152  loss: 0.006959  eta: <1min   tot: 0h12m11s  (95.1%)\rEpoch: 75.4%  lr: 0.002152  loss: 0.006962  eta: <1min   tot: 0h12m11s  (95.1%)\rEpoch: 75.5%  lr: 0.002152  loss: 0.006956  eta: <1min   tot: 0h12m12s  (95.1%)\rEpoch: 75.6%  lr: 0.002132  loss: 0.006962  eta: <1min   tot: 0h12m12s  (95.1%)\rEpoch: 75.7%  lr: 0.002122  loss: 0.006964  eta: <1min   tot: 0h12m12s  (95.1%)\rEpoch: 75.8%  lr: 0.002122  loss: 0.006963  eta: <1min   tot: 0h12m12s  (95.2%)\rEpoch: 75.9%  lr: 0.002112  loss: 0.006960  eta: <1min   tot: 0h12m12s  (95.2%)\rEpoch: 76.0%  lr: 0.002102  loss: 0.006958  eta: <1min   tot: 0h12m12s  (95.2%)\rEpoch: 76.1%  lr: 0.002102  loss: 0.006961  eta: <1min   tot: 0h12m12s  (95.2%)\rEpoch: 76.2%  lr: 0.002102  loss: 0.006957  eta: <1min   tot: 0h12m13s  (95.2%)\rEpoch: 76.2%  lr: 0.002102  loss: 0.006961  eta: <1min   tot: 0h12m13s  (95.2%)\rEpoch: 76.3%  lr: 0.002092  loss: 0.006962  eta: <1min   tot: 0h12m13s  (95.3%)\rEpoch: 76.4%  lr: 0.002082  loss: 0.006961  eta: <1min   tot: 0h12m13s  (95.3%)\rEpoch: 76.5%  lr: 0.002072  loss: 0.006968  eta: <1min   tot: 0h12m13s  (95.3%)\rEpoch: 76.6%  lr: 0.002052  loss: 0.006962  eta: <1min   tot: 0h12m13s  (95.3%)\rEpoch: 76.7%  lr: 0.002052  loss: 0.006959  eta: <1min   tot: 0h12m13s  (95.3%)\rEpoch: 76.8%  lr: 0.002052  loss: 0.006966  eta: <1min   tot: 0h12m13s  (95.4%)\rEpoch: 76.9%  lr: 0.002042  loss: 0.006966  eta: <1min   tot: 0h12m14s  (95.4%)\rEpoch: 77.0%  lr: 0.002042  loss: 0.006962  eta: <1min   tot: 0h12m14s  (95.4%)\rEpoch: 77.1%  lr: 0.002042  loss: 0.006964  eta: <1min   tot: 0h12m14s  (95.4%)\rEpoch: 77.1%  lr: 0.002032  loss: 0.006966  eta: <1min   tot: 0h12m14s  (95.4%)\rEpoch: 77.2%  lr: 0.002032  loss: 0.006971  eta: <1min   tot: 0h12m14s  (95.4%)\rEpoch: 77.3%  lr: 0.002022  loss: 0.006968  eta: <1min   tot: 0h12m14s  (95.5%)\rEpoch: 77.4%  lr: 0.002012  loss: 0.006968  eta: <1min   tot: 0h12m14s  (95.5%)\rEpoch: 77.5%  lr: 0.001992  loss: 0.006966  eta: <1min   tot: 0h12m15s  (95.5%)\rEpoch: 77.6%  lr: 0.001992  loss: 0.006959  eta: <1min   tot: 0h12m15s  (95.5%)\rEpoch: 77.7%  lr: 0.001992  loss: 0.006957  eta: <1min   tot: 0h12m15s  (95.5%)\rEpoch: 77.8%  lr: 0.001972  loss: 0.006958  eta: <1min   tot: 0h12m15s  (95.6%)\rEpoch: 77.9%  lr: 0.001962  loss: 0.006953  eta: <1min   tot: 0h12m15s  (95.6%)\rEpoch: 78.0%  lr: 0.001952  loss: 0.006952  eta: <1min   tot: 0h12m15s  (95.6%)\rEpoch: 78.0%  lr: 0.001942  loss: 0.006948  eta: <1min   tot: 0h12m16s  (95.6%)\rEpoch: 78.1%  lr: 0.001922  loss: 0.006950  eta: <1min   tot: 0h12m16s  (95.6%)\rEpoch: 78.2%  lr: 0.001912  loss: 0.006946  eta: <1min   tot: 0h12m16s  (95.6%)\rEpoch: 78.3%  lr: 0.001892  loss: 0.006948  eta: <1min   tot: 0h12m16s  (95.7%)\rEpoch: 78.4%  lr: 0.001862  loss: 0.006946  eta: <1min   tot: 0h12m16s  (95.7%)\rEpoch: 78.5%  lr: 0.001842  loss: 0.006949  eta: <1min   tot: 0h12m16s  (95.7%)\rEpoch: 78.6%  lr: 0.001832  loss: 0.006949  eta: <1min   tot: 0h12m16s  (95.7%)\rEpoch: 78.7%  lr: 0.001832  loss: 0.006945  eta: <1min   tot: 0h12m17s  (95.7%)\rEpoch: 78.8%  lr: 0.001822  loss: 0.006940  eta: <1min   tot: 0h12m17s  (95.8%)\rEpoch: 78.9%  lr: 0.001812  loss: 0.006943  eta: <1min   tot: 0h12m17s  (95.8%)\rEpoch: 78.9%  lr: 0.001802  loss: 0.006941  eta: <1min   tot: 0h12m17s  (95.8%)\rEpoch: 79.0%  lr: 0.001772  loss: 0.006944  eta: <1min   tot: 0h12m17s  (95.8%)\rEpoch: 79.1%  lr: 0.001772  loss: 0.006953  eta: <1min   tot: 0h12m17s  (95.8%)\rEpoch: 79.2%  lr: 0.001772  loss: 0.006950  eta: <1min   tot: 0h12m18s  (95.8%)\rEpoch: 79.3%  lr: 0.001752  loss: 0.006943  eta: <1min   tot: 0h12m18s  (95.9%)\rEpoch: 79.4%  lr: 0.001742  loss: 0.006942  eta: <1min   tot: 0h12m18s  (95.9%)\rEpoch: 79.5%  lr: 0.001722  loss: 0.006938  eta: <1min   tot: 0h12m18s  (95.9%)\rEpoch: 79.6%  lr: 0.001722  loss: 0.006947  eta: <1min   tot: 0h12m18s  (95.9%)\rEpoch: 79.7%  lr: 0.001722  loss: 0.006948  eta: <1min   tot: 0h12m18s  (95.9%)\rEpoch: 79.8%  lr: 0.001712  loss: 0.006948  eta: <1min   tot: 0h12m18s  (96.0%)\rEpoch: 79.9%  lr: 0.001712  loss: 0.006957  eta: <1min   tot: 0h12m19s  (96.0%)\rEpoch: 79.9%  lr: 0.001702  loss: 0.006952  eta: <1min   tot: 0h12m19s  (96.0%)\rEpoch: 80.0%  lr: 0.001692  loss: 0.006950  eta: <1min   tot: 0h12m19s  (96.0%)\rEpoch: 80.1%  lr: 0.001692  loss: 0.006947  eta: <1min   tot: 0h12m19s  (96.0%)\rEpoch: 80.2%  lr: 0.001692  loss: 0.006945  eta: <1min   tot: 0h12m19s  (96.0%)\rEpoch: 80.3%  lr: 0.001682  loss: 0.006940  eta: <1min   tot: 0h12m19s  (96.1%)\rEpoch: 80.4%  lr: 0.001682  loss: 0.006938  eta: <1min   tot: 0h12m19s  (96.1%)\rEpoch: 80.5%  lr: 0.001672  loss: 0.006934  eta: <1min   tot: 0h12m19s  (96.1%)\rEpoch: 80.6%  lr: 0.001662  loss: 0.006933  eta: <1min   tot: 0h12m20s  (96.1%)\rEpoch: 80.7%  lr: 0.001652  loss: 0.006930  eta: <1min   tot: 0h12m20s  (96.1%)\rEpoch: 80.8%  lr: 0.001652  loss: 0.006933  eta: <1min   tot: 0h12m20s  (96.2%)\rEpoch: 80.8%  lr: 0.001622  loss: 0.006941  eta: <1min   tot: 0h12m20s  (96.2%)\rEpoch: 80.9%  lr: 0.001612  loss: 0.006937  eta: <1min   tot: 0h12m20s  (96.2%)\rEpoch: 81.0%  lr: 0.001612  loss: 0.006938  eta: <1min   tot: 0h12m20s  (96.2%)\rEpoch: 81.1%  lr: 0.001612  loss: 0.006936  eta: <1min   tot: 0h12m20s  (96.2%)\rEpoch: 81.2%  lr: 0.001592  loss: 0.006933  eta: <1min   tot: 0h12m21s  (96.2%)\rEpoch: 81.3%  lr: 0.001592  loss: 0.006936  eta: <1min   tot: 0h12m21s  (96.3%)\rEpoch: 81.4%  lr: 0.001572  loss: 0.006933  eta: <1min   tot: 0h12m21s  (96.3%)\rEpoch: 81.5%  lr: 0.001572  loss: 0.006937  eta: <1min   tot: 0h12m21s  (96.3%)\rEpoch: 81.6%  lr: 0.001562  loss: 0.006936  eta: <1min   tot: 0h12m21s  (96.3%)\rEpoch: 81.7%  lr: 0.001552  loss: 0.006938  eta: <1min   tot: 0h12m21s  (96.3%)\rEpoch: 81.7%  lr: 0.001552  loss: 0.006934  eta: <1min   tot: 0h12m21s  (96.3%)\rEpoch: 81.8%  lr: 0.001542  loss: 0.006937  eta: <1min   tot: 0h12m22s  (96.4%)\rEpoch: 81.9%  lr: 0.001532  loss: 0.006934  eta: <1min   tot: 0h12m22s  (96.4%)\rEpoch: 82.0%  lr: 0.001522  loss: 0.006932  eta: <1min   tot: 0h12m22s  (96.4%)\rEpoch: 82.1%  lr: 0.001522  loss: 0.006948  eta: <1min   tot: 0h12m22s  (96.4%)\rEpoch: 82.2%  lr: 0.001502  loss: 0.006947  eta: <1min   tot: 0h12m22s  (96.4%)\rEpoch: 82.3%  lr: 0.001502  loss: 0.006940  eta: <1min   tot: 0h12m22s  (96.5%)\rEpoch: 82.4%  lr: 0.001502  loss: 0.006940  eta: <1min   tot: 0h12m22s  (96.5%)\rEpoch: 82.5%  lr: 0.001492  loss: 0.006934  eta: <1min   tot: 0h12m23s  (96.5%)\rEpoch: 82.6%  lr: 0.001492  loss: 0.006932  eta: <1min   tot: 0h12m23s  (96.5%)\rEpoch: 82.6%  lr: 0.001482  loss: 0.006930  eta: <1min   tot: 0h12m23s  (96.5%)\rEpoch: 82.7%  lr: 0.001472  loss: 0.006930  eta: <1min   tot: 0h12m23s  (96.5%)\rEpoch: 82.8%  lr: 0.001462  loss: 0.006926  eta: <1min   tot: 0h12m23s  (96.6%)\rEpoch: 82.9%  lr: 0.001442  loss: 0.006930  eta: <1min   tot: 0h12m23s  (96.6%)\rEpoch: 83.0%  lr: 0.001442  loss: 0.006931  eta: <1min   tot: 0h12m23s  (96.6%)\rEpoch: 83.1%  lr: 0.001442  loss: 0.006928  eta: <1min   tot: 0h12m24s  (96.6%)\rEpoch: 83.2%  lr: 0.001442  loss: 0.006924  eta: <1min   tot: 0h12m24s  (96.6%)\rEpoch: 83.3%  lr: 0.001442  loss: 0.006926  eta: <1min   tot: 0h12m24s  (96.7%)\rEpoch: 83.4%  lr: 0.001432  loss: 0.006921  eta: <1min   tot: 0h12m24s  (96.7%)\rEpoch: 83.5%  lr: 0.001432  loss: 0.006921  eta: <1min   tot: 0h12m24s  (96.7%)\rEpoch: 83.5%  lr: 0.001432  loss: 0.006917  eta: <1min   tot: 0h12m24s  (96.7%)\rEpoch: 83.6%  lr: 0.001422  loss: 0.006916  eta: <1min   tot: 0h12m24s  (96.7%)\rEpoch: 83.7%  lr: 0.001422  loss: 0.006911  eta: <1min   tot: 0h12m25s  (96.7%)\rEpoch: 83.8%  lr: 0.001401  loss: 0.006905  eta: <1min   tot: 0h12m25s  (96.8%)\rEpoch: 83.9%  lr: 0.001401  loss: 0.006901  eta: <1min   tot: 0h12m25s  (96.8%)\rEpoch: 84.0%  lr: 0.001401  loss: 0.006900  eta: <1min   tot: 0h12m25s  (96.8%)\rEpoch: 84.1%  lr: 0.001391  loss: 0.006907  eta: <1min   tot: 0h12m25s  (96.8%)\rEpoch: 84.2%  lr: 0.001371  loss: 0.006908  eta: <1min   tot: 0h12m25s  (96.8%)\rEpoch: 84.3%  lr: 0.001351  loss: 0.006904  eta: <1min   tot: 0h12m25s  (96.9%)\rEpoch: 84.4%  lr: 0.001351  loss: 0.006917  eta: <1min   tot: 0h12m25s  (96.9%)\rEpoch: 84.4%  lr: 0.001341  loss: 0.006927  eta: <1min   tot: 0h12m26s  (96.9%)\rEpoch: 84.5%  lr: 0.001341  loss: 0.006931  eta: <1min   tot: 0h12m26s  (96.9%)\rEpoch: 84.6%  lr: 0.001341  loss: 0.006931  eta: <1min   tot: 0h12m26s  (96.9%)\rEpoch: 84.7%  lr: 0.001331  loss: 0.006931  eta: <1min   tot: 0h12m26s  (96.9%)\rEpoch: 84.8%  lr: 0.001331  loss: 0.006928  eta: <1min   tot: 0h12m26s  (97.0%)\rEpoch: 84.9%  lr: 0.001321  loss: 0.006932  eta: <1min   tot: 0h12m26s  (97.0%)\rEpoch: 85.0%  lr: 0.001311  loss: 0.006939  eta: <1min   tot: 0h12m26s  (97.0%)\rEpoch: 85.1%  lr: 0.001311  loss: 0.006940  eta: <1min   tot: 0h12m27s  (97.0%)\rEpoch: 85.2%  lr: 0.001311  loss: 0.006938  eta: <1min   tot: 0h12m27s  (97.0%)\rEpoch: 85.3%  lr: 0.001311  loss: 0.006935  eta: <1min   tot: 0h12m27s  (97.1%)\rEpoch: 85.3%  lr: 0.001311  loss: 0.006932  eta: <1min   tot: 0h12m27s  (97.1%)\rEpoch: 85.4%  lr: 0.001311  loss: 0.006933  eta: <1min   tot: 0h12m27s  (97.1%)\rEpoch: 85.5%  lr: 0.001301  loss: 0.006934  eta: <1min   tot: 0h12m27s  (97.1%)\rEpoch: 85.6%  lr: 0.001301  loss: 0.006933  eta: <1min   tot: 0h12m27s  (97.1%)\rEpoch: 85.7%  lr: 0.001281  loss: 0.006930  eta: <1min   tot: 0h12m28s  (97.1%)\rEpoch: 85.8%  lr: 0.001271  loss: 0.006929  eta: <1min   tot: 0h12m28s  (97.2%)\rEpoch: 85.9%  lr: 0.001271  loss: 0.006926  eta: <1min   tot: 0h12m28s  (97.2%)\rEpoch: 86.0%  lr: 0.001261  loss: 0.006928  eta: <1min   tot: 0h12m28s  (97.2%)\rEpoch: 86.1%  lr: 0.001261  loss: 0.006929  eta: <1min   tot: 0h12m28s  (97.2%)\rEpoch: 86.2%  lr: 0.001251  loss: 0.006932  eta: <1min   tot: 0h12m28s  (97.2%)\rEpoch: 86.2%  lr: 0.001251  loss: 0.006929  eta: <1min   tot: 0h12m28s  (97.2%)\rEpoch: 86.3%  lr: 0.001251  loss: 0.006932  eta: <1min   tot: 0h12m28s  (97.3%)\rEpoch: 86.4%  lr: 0.001231  loss: 0.006930  eta: <1min   tot: 0h12m29s  (97.3%)\rEpoch: 86.5%  lr: 0.001221  loss: 0.006932  eta: <1min   tot: 0h12m29s  (97.3%)\rEpoch: 86.6%  lr: 0.001221  loss: 0.006930  eta: <1min   tot: 0h12m29s  (97.3%)\rEpoch: 86.7%  lr: 0.001221  loss: 0.006931  eta: <1min   tot: 0h12m29s  (97.3%)\rEpoch: 86.8%  lr: 0.001221  loss: 0.006932  eta: <1min   tot: 0h12m29s  (97.4%)\rEpoch: 86.9%  lr: 0.001221  loss: 0.006941  eta: <1min   tot: 0h12m29s  (97.4%)\rEpoch: 87.0%  lr: 0.001221  loss: 0.006946  eta: <1min   tot: 0h12m29s  (97.4%)\rEpoch: 87.1%  lr: 0.001221  loss: 0.006942  eta: <1min   tot: 0h12m30s  (97.4%)\rEpoch: 87.1%  lr: 0.001191  loss: 0.006942  eta: <1min   tot: 0h12m30s  (97.4%)\rEpoch: 87.2%  lr: 0.001171  loss: 0.006941  eta: <1min   tot: 0h12m30s  (97.4%)\rEpoch: 87.3%  lr: 0.001171  loss: 0.006937  eta: <1min   tot: 0h12m30s  (97.5%)\rEpoch: 87.4%  lr: 0.001171  loss: 0.006938  eta: <1min   tot: 0h12m30s  (97.5%)\rEpoch: 87.5%  lr: 0.001141  loss: 0.006934  eta: <1min   tot: 0h12m30s  (97.5%)\rEpoch: 87.6%  lr: 0.001141  loss: 0.006935  eta: <1min   tot: 0h12m30s  (97.5%)\rEpoch: 87.7%  lr: 0.001131  loss: 0.006948  eta: <1min   tot: 0h12m31s  (97.5%)\rEpoch: 87.8%  lr: 0.001111  loss: 0.006943  eta: <1min   tot: 0h12m31s  (97.6%)\rEpoch: 87.9%  lr: 0.001101  loss: 0.006950  eta: <1min   tot: 0h12m31s  (97.6%)\rEpoch: 88.0%  lr: 0.001101  loss: 0.006946  eta: <1min   tot: 0h12m31s  (97.6%)\rEpoch: 88.0%  lr: 0.001091  loss: 0.006945  eta: <1min   tot: 0h12m31s  (97.6%)\rEpoch: 88.1%  lr: 0.001071  loss: 0.006950  eta: <1min   tot: 0h12m31s  (97.6%)\rEpoch: 88.2%  lr: 0.001061  loss: 0.006951  eta: <1min   tot: 0h12m31s  (97.6%)\rEpoch: 88.3%  lr: 0.001031  loss: 0.006954  eta: <1min   tot: 0h12m32s  (97.7%)\rEpoch: 88.4%  lr: 0.001021  loss: 0.006954  eta: <1min   tot: 0h12m32s  (97.7%)\rEpoch: 88.5%  lr: 0.001001  loss: 0.006952  eta: <1min   tot: 0h12m32s  (97.7%)\rEpoch: 88.6%  lr: 0.000981  loss: 0.006952  eta: <1min   tot: 0h12m32s  (97.7%)\rEpoch: 88.7%  lr: 0.000971  loss: 0.006955  eta: <1min   tot: 0h12m32s  (97.7%)\rEpoch: 88.8%  lr: 0.000971  loss: 0.006958  eta: <1min   tot: 0h12m32s  (97.8%)\rEpoch: 88.9%  lr: 0.000961  loss: 0.006970  eta: <1min   tot: 0h12m32s  (97.8%)\rEpoch: 88.9%  lr: 0.000961  loss: 0.006966  eta: <1min   tot: 0h12m33s  (97.8%)\rEpoch: 89.0%  lr: 0.000941  loss: 0.006963  eta: <1min   tot: 0h12m33s  (97.8%)\rEpoch: 89.1%  lr: 0.000941  loss: 0.006965  eta: <1min   tot: 0h12m33s  (97.8%)\rEpoch: 89.2%  lr: 0.000941  loss: 0.006961  eta: <1min   tot: 0h12m33s  (97.8%)\rEpoch: 89.3%  lr: 0.000941  loss: 0.006959  eta: <1min   tot: 0h12m33s  (97.9%)\rEpoch: 89.4%  lr: 0.000941  loss: 0.006954  eta: <1min   tot: 0h12m33s  (97.9%)\rEpoch: 89.5%  lr: 0.000911  loss: 0.006951  eta: <1min   tot: 0h12m33s  (97.9%)\rEpoch: 89.6%  lr: 0.000911  loss: 0.006950  eta: <1min   tot: 0h12m33s  (97.9%)\rEpoch: 89.7%  lr: 0.000901  loss: 0.006960  eta: <1min   tot: 0h12m34s  (97.9%)\rEpoch: 89.8%  lr: 0.000901  loss: 0.006959  eta: <1min   tot: 0h12m34s  (98.0%)\rEpoch: 89.8%  lr: 0.000901  loss: 0.006959  eta: <1min   tot: 0h12m34s  (98.0%)\rEpoch: 89.9%  lr: 0.000901  loss: 0.006964  eta: <1min   tot: 0h12m34s  (98.0%)\rEpoch: 90.0%  lr: 0.000891  loss: 0.006960  eta: <1min   tot: 0h12m34s  (98.0%)\rEpoch: 90.1%  lr: 0.000881  loss: 0.006961  eta: <1min   tot: 0h12m34s  (98.0%)\rEpoch: 90.2%  lr: 0.000871  loss: 0.006958  eta: <1min   tot: 0h12m34s  (98.0%)\rEpoch: 90.3%  lr: 0.000871  loss: 0.006957  eta: <1min   tot: 0h12m35s  (98.1%)\rEpoch: 90.4%  lr: 0.000861  loss: 0.006957  eta: <1min   tot: 0h12m35s  (98.1%)\rEpoch: 90.5%  lr: 0.000841  loss: 0.006960  eta: <1min   tot: 0h12m35s  (98.1%)\rEpoch: 90.6%  lr: 0.000821  loss: 0.006959  eta: <1min   tot: 0h12m35s  (98.1%)\rEpoch: 90.7%  lr: 0.000811  loss: 0.006957  eta: <1min   tot: 0h12m35s  (98.1%)\rEpoch: 90.7%  lr: 0.000801  loss: 0.006955  eta: <1min   tot: 0h12m35s  (98.1%)\rEpoch: 90.8%  lr: 0.000791  loss: 0.006959  eta: <1min   tot: 0h12m35s  (98.2%)\rEpoch: 90.9%  lr: 0.000771  loss: 0.006954  eta: <1min   tot: 0h12m36s  (98.2%)\rEpoch: 91.0%  lr: 0.000761  loss: 0.006952  eta: <1min   tot: 0h12m36s  (98.2%)\rEpoch: 91.1%  lr: 0.000761  loss: 0.006948  eta: <1min   tot: 0h12m36s  (98.2%)\rEpoch: 91.2%  lr: 0.000751  loss: 0.006965  eta: <1min   tot: 0h12m36s  (98.2%)\rEpoch: 91.3%  lr: 0.000741  loss: 0.006961  eta: <1min   tot: 0h12m36s  (98.3%)\rEpoch: 91.4%  lr: 0.000741  loss: 0.006962  eta: <1min   tot: 0h12m36s  (98.3%)\rEpoch: 91.5%  lr: 0.000721  loss: 0.006957  eta: <1min   tot: 0h12m36s  (98.3%)\rEpoch: 91.6%  lr: 0.000721  loss: 0.006956  eta: <1min   tot: 0h12m37s  (98.3%)\rEpoch: 91.6%  lr: 0.000711  loss: 0.006954  eta: <1min   tot: 0h12m37s  (98.3%)\rEpoch: 91.7%  lr: 0.000701  loss: 0.006951  eta: <1min   tot: 0h12m37s  (98.3%)\rEpoch: 91.8%  lr: 0.000691  loss: 0.006950  eta: <1min   tot: 0h12m37s  (98.4%)\rEpoch: 91.9%  lr: 0.000681  loss: 0.006950  eta: <1min   tot: 0h12m37s  (98.4%)\rEpoch: 92.0%  lr: 0.000671  loss: 0.006951  eta: <1min   tot: 0h12m37s  (98.4%)\rEpoch: 92.1%  lr: 0.000671  loss: 0.006952  eta: <1min   tot: 0h12m37s  (98.4%)\rEpoch: 92.2%  lr: 0.000671  loss: 0.006950  eta: <1min   tot: 0h12m37s  (98.4%)\rEpoch: 92.3%  lr: 0.000671  loss: 0.006949  eta: <1min   tot: 0h12m38s  (98.5%)\rEpoch: 92.4%  lr: 0.000661  loss: 0.006947  eta: <1min   tot: 0h12m38s  (98.5%)\rEpoch: 92.5%  lr: 0.000651  loss: 0.006946  eta: <1min   tot: 0h12m38s  (98.5%)\rEpoch: 92.5%  lr: 0.000651  loss: 0.006941  eta: <1min   tot: 0h12m38s  (98.5%)\rEpoch: 92.6%  lr: 0.000631  loss: 0.006937  eta: <1min   tot: 0h12m38s  (98.5%)\rEpoch: 92.7%  lr: 0.000621  loss: 0.006936  eta: <1min   tot: 0h12m38s  (98.5%)\rEpoch: 92.8%  lr: 0.000611  loss: 0.006946  eta: <1min   tot: 0h12m38s  (98.6%)\rEpoch: 92.9%  lr: 0.000611  loss: 0.006942  eta: <1min   tot: 0h12m39s  (98.6%)\rEpoch: 93.0%  lr: 0.000611  loss: 0.006937  eta: <1min   tot: 0h12m39s  (98.6%)\rEpoch: 93.1%  lr: 0.000611  loss: 0.006935  eta: <1min   tot: 0h12m39s  (98.6%)\rEpoch: 93.2%  lr: 0.000591  loss: 0.006937  eta: <1min   tot: 0h12m39s  (98.6%)\rEpoch: 93.3%  lr: 0.000591  loss: 0.006932  eta: <1min   tot: 0h12m39s  (98.7%)\rEpoch: 93.4%  lr: 0.000591  loss: 0.006939  eta: <1min   tot: 0h12m39s  (98.7%)\rEpoch: 93.4%  lr: 0.000591  loss: 0.006938  eta: <1min   tot: 0h12m39s  (98.7%)\rEpoch: 93.5%  lr: 0.000591  loss: 0.006934  eta: <1min   tot: 0h12m40s  (98.7%)\rEpoch: 93.6%  lr: 0.000571  loss: 0.006932  eta: <1min   tot: 0h12m40s  (98.7%)\rEpoch: 93.7%  lr: 0.000571  loss: 0.006931  eta: <1min   tot: 0h12m40s  (98.7%)\rEpoch: 93.8%  lr: 0.000561  loss: 0.006930  eta: <1min   tot: 0h12m40s  (98.8%)\rEpoch: 93.9%  lr: 0.000551  loss: 0.006930  eta: <1min   tot: 0h12m40s  (98.8%)\rEpoch: 94.0%  lr: 0.000531  loss: 0.006929  eta: <1min   tot: 0h12m40s  (98.8%)\rEpoch: 94.1%  lr: 0.000511  loss: 0.006931  eta: <1min   tot: 0h12m40s  (98.8%)\rEpoch: 94.2%  lr: 0.000511  loss: 0.006925  eta: <1min   tot: 0h12m41s  (98.8%)\rEpoch: 94.3%  lr: 0.000511  loss: 0.006926  eta: <1min   tot: 0h12m41s  (98.9%)\rEpoch: 94.3%  lr: 0.000511  loss: 0.006925  eta: <1min   tot: 0h12m41s  (98.9%)\rEpoch: 94.4%  lr: 0.000501  loss: 0.006924  eta: <1min   tot: 0h12m41s  (98.9%)\rEpoch: 94.5%  lr: 0.000481  loss: 0.006938  eta: <1min   tot: 0h12m41s  (98.9%)\rEpoch: 94.6%  lr: 0.000461  loss: 0.006934  eta: <1min   tot: 0h12m41s  (98.9%)\rEpoch: 94.7%  lr: 0.000461  loss: 0.006932  eta: <1min   tot: 0h12m41s  (98.9%)\rEpoch: 94.8%  lr: 0.000461  loss: 0.006931  eta: <1min   tot: 0h12m42s  (99.0%)\rEpoch: 94.9%  lr: 0.000461  loss: 0.006927  eta: <1min   tot: 0h12m42s  (99.0%)\rEpoch: 95.0%  lr: 0.000441  loss: 0.006927  eta: <1min   tot: 0h12m42s  (99.0%)\rEpoch: 95.1%  lr: 0.000441  loss: 0.006928  eta: <1min   tot: 0h12m42s  (99.0%)\rEpoch: 95.2%  lr: 0.000441  loss: 0.006929  eta: <1min   tot: 0h12m42s  (99.0%)\rEpoch: 95.2%  lr: 0.000431  loss: 0.006931  eta: <1min   tot: 0h12m42s  (99.0%)\rEpoch: 95.3%  lr: 0.000431  loss: 0.006932  eta: <1min   tot: 0h12m42s  (99.1%)\rEpoch: 95.4%  lr: 0.000410  loss: 0.006931  eta: <1min   tot: 0h12m42s  (99.1%)\rEpoch: 95.5%  lr: 0.000390  loss: 0.006928  eta: <1min   tot: 0h12m43s  (99.1%)\rEpoch: 95.6%  lr: 0.000370  loss: 0.006922  eta: <1min   tot: 0h12m43s  (99.1%)\rEpoch: 95.7%  lr: 0.000370  loss: 0.006930  eta: <1min   tot: 0h12m43s  (99.1%)\rEpoch: 95.8%  lr: 0.000360  loss: 0.006929  eta: <1min   tot: 0h12m43s  (99.2%)\rEpoch: 95.9%  lr: 0.000360  loss: 0.006929  eta: <1min   tot: 0h12m43s  (99.2%)\rEpoch: 96.0%  lr: 0.000350  loss: 0.006929  eta: <1min   tot: 0h12m43s  (99.2%)\rEpoch: 96.1%  lr: 0.000330  loss: 0.006933  eta: <1min   tot: 0h12m43s  (99.2%)\rEpoch: 96.1%  lr: 0.000320  loss: 0.006931  eta: <1min   tot: 0h12m44s  (99.2%)\rEpoch: 96.2%  lr: 0.000310  loss: 0.006943  eta: <1min   tot: 0h12m44s  (99.2%)\rEpoch: 96.3%  lr: 0.000310  loss: 0.006938  eta: <1min   tot: 0h12m44s  (99.3%)\rEpoch: 96.4%  lr: 0.000310  loss: 0.006939  eta: <1min   tot: 0h12m44s  (99.3%)\rEpoch: 96.5%  lr: 0.000300  loss: 0.006941  eta: <1min   tot: 0h12m44s  (99.3%)\rEpoch: 96.6%  lr: 0.000290  loss: 0.006938  eta: <1min   tot: 0h12m44s  (99.3%)\rEpoch: 96.7%  lr: 0.000290  loss: 0.006939  eta: <1min   tot: 0h12m44s  (99.3%)\rEpoch: 96.8%  lr: 0.000270  loss: 0.006939  eta: <1min   tot: 0h12m45s  (99.4%)\rEpoch: 96.9%  lr: 0.000270  loss: 0.006941  eta: <1min   tot: 0h12m45s  (99.4%)\rEpoch: 97.0%  lr: 0.000250  loss: 0.006945  eta: <1min   tot: 0h12m45s  (99.4%)\rEpoch: 97.0%  lr: 0.000250  loss: 0.006954  eta: <1min   tot: 0h12m45s  (99.4%)\rEpoch: 97.1%  lr: 0.000250  loss: 0.006954  eta: <1min   tot: 0h12m45s  (99.4%)\rEpoch: 97.2%  lr: 0.000230  loss: 0.006952  eta: <1min   tot: 0h12m45s  (99.4%)\rEpoch: 97.3%  lr: 0.000200  loss: 0.006951  eta: <1min   tot: 0h12m45s  (99.5%)\rEpoch: 97.4%  lr: 0.000190  loss: 0.006957  eta: <1min   tot: 0h12m46s  (99.5%)\rEpoch: 97.5%  lr: 0.000190  loss: 0.006955  eta: <1min   tot: 0h12m46s  (99.5%)\rEpoch: 97.6%  lr: 0.000180  loss: 0.006952  eta: <1min   tot: 0h12m46s  (99.5%)\rEpoch: 97.7%  lr: 0.000170  loss: 0.006955  eta: <1min   tot: 0h12m46s  (99.5%)\rEpoch: 97.8%  lr: 0.000170  loss: 0.006955  eta: <1min   tot: 0h12m46s  (99.6%)\rEpoch: 97.9%  lr: 0.000170  loss: 0.006960  eta: <1min   tot: 0h12m46s  (99.6%)\rEpoch: 97.9%  lr: 0.000160  loss: 0.006958  eta: <1min   tot: 0h12m46s  (99.6%)\rEpoch: 98.0%  lr: 0.000140  loss: 0.006956  eta: <1min   tot: 0h12m47s  (99.6%)\rEpoch: 98.1%  lr: 0.000140  loss: 0.006954  eta: <1min   tot: 0h12m47s  (99.6%)\rEpoch: 98.2%  lr: 0.000120  loss: 0.006953  eta: <1min   tot: 0h12m47s  (99.6%)\rEpoch: 98.3%  lr: 0.000120  loss: 0.006950  eta: <1min   tot: 0h12m47s  (99.7%)\rEpoch: 98.4%  lr: 0.000110  loss: 0.006951  eta: <1min   tot: 0h12m47s  (99.7%)\rEpoch: 98.5%  lr: 0.000110  loss: 0.006952  eta: <1min   tot: 0h12m47s  (99.7%)\rEpoch: 98.6%  lr: 0.000090  loss: 0.006950  eta: <1min   tot: 0h12m47s  (99.7%)\rEpoch: 98.7%  lr: 0.000080  loss: 0.006945  eta: <1min   tot: 0h12m48s  (99.7%)\rEpoch: 98.8%  lr: 0.000080  loss: 0.006947  eta: <1min   tot: 0h12m48s  (99.8%)\rEpoch: 98.8%  lr: 0.000070  loss: 0.006942  eta: <1min   tot: 0h12m48s  (99.8%)\rEpoch: 98.9%  lr: 0.000060  loss: 0.006945  eta: <1min   tot: 0h12m48s  (99.8%)\rEpoch: 99.0%  lr: 0.000050  loss: 0.006941  eta: <1min   tot: 0h12m48s  (99.8%)\rEpoch: 99.1%  lr: 0.000040  loss: 0.006937  eta: <1min   tot: 0h12m48s  (99.8%)\rEpoch: 99.2%  lr: 0.000040  loss: 0.006941  eta: <1min   tot: 0h12m48s  (99.8%)\rEpoch: 99.3%  lr: 0.000040  loss: 0.006939  eta: <1min   tot: 0h12m48s  (99.9%)\rEpoch: 99.4%  lr: 0.000030  loss: 0.006934  eta: <1min   tot: 0h12m49s  (99.9%)\rEpoch: 99.5%  lr: 0.000010  loss: 0.006931  eta: <1min   tot: 0h12m49s  (99.9%)\rEpoch: 99.6%  lr: 0.000000  loss: 0.006930  eta: <1min   tot: 0h12m49s  (99.9%)\rEpoch: 99.7%  lr: 0.000000  loss: 0.006930  eta: <1min   tot: 0h12m49s  (99.9%)\rEpoch: 99.7%  lr: 0.000000  loss: 0.006932  eta: <1min   tot: 0h12m49s  (99.9%)\rEpoch: 99.8%  lr: 0.000000  loss: 0.006934  eta: <1min   tot: 0h12m49s  (100.0%)\rEpoch: 99.9%  lr: 0.000000  loss: 0.006929  eta: <1min   tot: 0h12m49s  (100.0%)\rEpoch: 100.0%  lr: 0.000000  loss: 0.006924  eta: <1min   tot: 0h12m49s  (100.0%)"
          ],
          "name": "stderr"
        }
      ]
    },
    {
      "cell_type": "markdown",
      "metadata": {
        "collapsed": true,
        "id": "ca-KT4DvDkdv",
        "colab_type": "text"
      },
      "source": [
        "And now we can compare the new embeddings with the previous ones. You can find trained word vectors in the file *[model_file_name].tsv*. Upload the embeddings from StarSpace into a dict. "
      ]
    },
    {
      "cell_type": "code",
      "metadata": {
        "id": "x3b5A-i2Dkdw",
        "colab_type": "code",
        "colab": {}
      },
      "source": [
        "starspace_embeddings = {}\n",
        "for line in open('./sodd.tsv'):\n",
        "  word, *vec = line.strip().split()\n",
        "  vf = []\n",
        "  for v in vec:\n",
        "    vf.append(float(v))\n",
        "  starspace_embeddings[word] = np.array(vf)######### YOUR CODE HERE #############"
      ],
      "execution_count": 0,
      "outputs": []
    },
    {
      "cell_type": "code",
      "metadata": {
        "id": "hqKytFs1Dkdy",
        "colab_type": "code",
        "colab": {}
      },
      "source": [
        "ss_prepared_ranking = []\n",
        "for line in prepared_validation:\n",
        "    q, *ex = line\n",
        "    ranks = rank_candidates(q, ex, starspace_embeddings, 100)\n",
        "    ss_prepared_ranking.append([r[0] for r in ranks].index(0) + 1)"
      ],
      "execution_count": 0,
      "outputs": []
    },
    {
      "cell_type": "code",
      "metadata": {
        "id": "WqZYJoxwDkd0",
        "colab_type": "code",
        "colab": {
          "base_uri": "https://localhost:8080/",
          "height": 121
        },
        "outputId": "10fead51-1d57-4ec0-e08a-447ff1533484"
      },
      "source": [
        "for k in [1, 5, 10, 100, 500, 1000]:\n",
        "    print(\"DCG@%4d: %.3f | Hits@%4d: %.3f\" % (k, dcg_score(ss_prepared_ranking, k), \n",
        "                                               k, hits_count(ss_prepared_ranking, k)))"
      ],
      "execution_count": 46,
      "outputs": [
        {
          "output_type": "stream",
          "text": [
            "DCG@   1: 0.518 | Hits@   1: 0.518\n",
            "DCG@   5: 0.615 | Hits@   5: 0.697\n",
            "DCG@  10: 0.634 | Hits@  10: 0.756\n",
            "DCG@ 100: 0.665 | Hits@ 100: 0.904\n",
            "DCG@ 500: 0.675 | Hits@ 500: 0.980\n",
            "DCG@1000: 0.677 | Hits@1000: 1.000\n"
          ],
          "name": "stdout"
        }
      ]
    },
    {
      "cell_type": "markdown",
      "metadata": {
        "id": "lQV1_vDKDkd4",
        "colab_type": "text"
      },
      "source": [
        "Due to training for the particular task with the supervised data, you should expect to obtain a higher quality than for the previous approach. In additiion, despite the fact that StarSpace's trained vectors have a smaller dimension than word2vec's, it provides better results in this task."
      ]
    },
    {
      "cell_type": "markdown",
      "metadata": {
        "id": "k_Th1Ue-Dkd4",
        "colab_type": "text"
      },
      "source": [
        "**Task 5 (StarSpaceRanks).** For each question from prepared *test.tsv* submit the ranks of the candidates for trained representation."
      ]
    },
    {
      "cell_type": "code",
      "metadata": {
        "id": "MKvH06qQDkd5",
        "colab_type": "code",
        "colab": {
          "base_uri": "https://localhost:8080/",
          "height": 54
        },
        "outputId": "0c82947b-1dd4-4bc4-e8c5-2648efbe7cb8"
      },
      "source": [
        "starspace_ranks_results = []\n",
        "prepared_test_data = \"./data/tp_t.tsv\"######### YOUR CODE HERE #############\n",
        "for line in open(prepared_test_data):\n",
        "    q, *ex = line.strip().split('\\t')\n",
        "    ranks = rank_candidates(q, ex, starspace_embeddings, 100)\n",
        "    ranked_candidates = [r[0] for r in ranks]\n",
        "    starspace_ranks_results.append([ranked_candidates.index(i) + 1 for i in range(len(ranked_candidates))])\n",
        "    \n",
        "grader.submit_tag('StarSpaceRanks', matrix_to_string(starspace_ranks_results))"
      ],
      "execution_count": 47,
      "outputs": [
        {
          "output_type": "stream",
          "text": [
            "Current answer for task StarSpaceRanks is: 86\t24\t87\t15\t18\t78\t69\t54\t32\t84\t67\t21\t14\t46\t97\t63\t13\t42\t8\t95\t25\t43\t29\t50\t66\t58\t68\t92\t96\t1\t41\t81\t70\t49\t...\n"
          ],
          "name": "stdout"
        }
      ]
    },
    {
      "cell_type": "markdown",
      "metadata": {
        "id": "iqGeb1auDkd7",
        "colab_type": "text"
      },
      "source": [
        "Please, **don't remove** the file with these embeddings because you will need them in the final project."
      ]
    },
    {
      "cell_type": "markdown",
      "metadata": {
        "id": "W5be5OKQDkd7",
        "colab_type": "text"
      },
      "source": [
        "### Authorization & Submission\n",
        "To submit assignment parts to Cousera platform, please, enter your e-mail and token into variables below. You can generate token on this programming assignment page. <b>Note:</b> Token expires 30 minutes after generation."
      ]
    },
    {
      "cell_type": "code",
      "metadata": {
        "id": "3gXNlBL9Dkd8",
        "colab_type": "code",
        "colab": {
          "base_uri": "https://localhost:8080/",
          "height": 662
        },
        "outputId": "9729e954-609c-4fa4-d95f-640b6061463a"
      },
      "source": [
        "STUDENT_EMAIL = \"lvcruzq@gmail.com\"# EMAIL \n",
        "STUDENT_TOKEN = \"fRIquraOVMCw1b3g\"# TOKEN \n",
        "grader.status()"
      ],
      "execution_count": 48,
      "outputs": [
        {
          "output_type": "stream",
          "text": [
            "You want to submit these parts:\n",
            "Task Question2Vec: 0.17364501953125\n",
            "-0.258544921875\n",
            "0.4145050048828125\n",
            "0.767333984375\n",
            "0.21875\n",
            "-0.6561279296875\n",
            "0.120849...\n",
            "Task HitsCount: 1.0\n",
            "0.5\n",
            "1.0\n",
            "0.5\n",
            "1.0\n",
            "0.3333333333333333\n",
            "0.6666666666666666\n",
            "1.0\n",
            "0.1\n",
            "0.2\n",
            "0.3\n",
            "0.4\n",
            "0.5\n",
            "0.6\n",
            "0.7\n",
            "0.8\n",
            "0.9\n",
            "1....\n",
            "Task DCGScore: 1.0\n",
            "0.5\n",
            "0.8154648767857288\n",
            "0.5\n",
            "0.8154648767857288\n",
            "0.3333333333333333\n",
            "0.5436432511904858\n",
            "0.7103099178...\n",
            "Task W2VTokenizedRanks: 95\t94\t7\t9\t64\t37\t32\t93\t24\t100\t98\t17\t60\t6\t97\t49\t70\t38\t42\t96\t30\t21\t2\t65\t67\t45\t27\t26\t57\t62\t11\t88\t56\t66\t7...\n",
            "Task StarSpaceRanks: 86\t24\t87\t15\t18\t78\t69\t54\t32\t84\t67\t21\t14\t46\t97\t63\t13\t42\t8\t95\t25\t43\t29\t50\t66\t58\t68\t92\t96\t1\t41\t81\t70\t49\t...\n"
          ],
          "name": "stdout"
        }
      ]
    },
    {
      "cell_type": "markdown",
      "metadata": {
        "id": "RwTW4NOCDkd-",
        "colab_type": "text"
      },
      "source": [
        "If you want to submit these answers, run cell below"
      ]
    },
    {
      "cell_type": "code",
      "metadata": {
        "id": "jkC29S7nDkd-",
        "colab_type": "code",
        "colab": {
          "base_uri": "https://localhost:8080/",
          "height": 34
        },
        "outputId": "5d1bbef7-8ec0-4c0b-f010-67dd2801bb46"
      },
      "source": [
        "grader.submit(STUDENT_EMAIL, STUDENT_TOKEN)"
      ],
      "execution_count": 49,
      "outputs": [
        {
          "output_type": "stream",
          "text": [
            "Submitted to Coursera platform. See results on assignment page!\n"
          ],
          "name": "stdout"
        }
      ]
    },
    {
      "cell_type": "code",
      "metadata": {
        "id": "W0g9UIATv7FV",
        "colab_type": "code",
        "colab": {}
      },
      "source": [
        ""
      ],
      "execution_count": 0,
      "outputs": []
    }
  ]
}