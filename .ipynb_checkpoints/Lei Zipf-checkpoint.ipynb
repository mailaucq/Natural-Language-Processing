{
 "cells": [
  {
   "cell_type": "code",
   "execution_count": 57,
   "metadata": {},
   "outputs": [],
   "source": [
    "from collections import Counter\n",
    "from nltk.tokenize import RegexpTokenizer\n",
    "\n",
    "def words(text):\n",
    "    tokenizer = RegexpTokenizer(r'\\w+')\n",
    "    return tokenizer.tokenize(text)\n",
    "\n",
    "def count_words(text):\n",
    "    wds = words(text)\n",
    "    wordsfrequency = []\n",
    "    for x in wds:\n",
    "        wordsfrequency.append(x.lower())\n",
    "    word_dict = Counter(wordsfrequency)\n",
    "    return word_dict"
   ]
  },
  {
   "cell_type": "code",
   "execution_count": 49,
   "metadata": {},
   "outputs": [
    {
     "name": "stdout",
     "output_type": "stream",
     "text": [
      "287\n"
     ]
    }
   ],
   "source": [
    "from nltk.corpus import PlaintextCorpusReader\n",
    "from nltk.stem import WordNetLemmatizer\n",
    "import string\n",
    "\n",
    "my_corpus = PlaintextCorpusReader('lerolero', '.*')\n",
    "ids = my_corpus.fileids()\n",
    "lemmatizer = WordNetLemmatizer()\n",
    "words_list = []\n",
    "for idx in ids:\n",
    "    words = [lemmatizer.lemmatize(w).lower() for w in my_corpus.words(idx) if w not in string.punctuation]\n",
    "    words_list.append((idx, words))\n",
    "word_dict = Counter(words_list[0][1])\n",
    "print(len(word_dict.values()))"
   ]
  },
  {
   "cell_type": "code",
   "execution_count": 67,
   "metadata": {},
   "outputs": [
    {
     "name": "stdout",
     "output_type": "stream",
     "text": [
      "238\n"
     ]
    }
   ],
   "source": [
    "import re\n",
    "f = open('lerolero/lerolero.txt', 'r')\n",
    "text = f.read()\n",
    "f.close()\n",
    "words = re.findall(r'(\\b[A-Za-z][a-z]{2,9}\\b)', text)\n",
    "frequency = {}\n",
    "for word in words:\n",
    "    count = frequency.get(word,0)\n",
    "    frequency[word] = count + 1\n",
    "lists = sorted(frequency.items(), key=lambda x: x[1], reverse=True) # sorted by key, return a list of tuples\n",
    "print(len(lists))"
   ]
  },
  {
   "cell_type": "code",
   "execution_count": 70,
   "metadata": {},
   "outputs": [
    {
     "name": "stdout",
     "output_type": "stream",
     "text": [
      "['das', 'dos', 'que', 'ncia', 'para', 'nos', 'uma', 'import', 'processo', 'mais', 'como', 'com', 'vari', 'vez', 'percep', 'atingir', 'ncias', 'Percebemos', 'por', 'veis', 'cada', 'alcance', 'geral', 'estrat', 'excel', 'envolvidas', 'informa', 'entre', 'gicos', 'estende', 'Gostaria', 'objetivos', 'entanto', 'prazo', 'passar', 'formas', 'capacidade', 'estruturas', 'ressaltar', 'mobilidade', 'vidas', 'todo', 'enfatizar', 'analisar', 'diversas', 'certifica', 'promove', 'consolida', 'empenho', 'efetuados', 'Assim', 'equaliza', 'podemos', 'clara', 'estudos', 'determina', 'correntes', 'capitais', 'comunica', 'lidar', 'verifica', 'auxiliam', 'qual', 'atual', 'pensamento', 'Por', 'longo', 'impacto', 'mesmo', 'atividade', 'parte', 'divulga', 'constante', 'deve', 'desafia', 'modifica', 'esquecer', 'oferece', 'inovadora', 'agilidade', 'consequ', 'diversos', 'forma', 'quadros', 'decis', 'tudo', 'assim', 'respeito', 'retorno', 'Desta', 'obriga', 'lise', 'reciclagem', 'participa', 'posi', 'obstante', 'maneira', 'sobre', 'ndices', 'aprecia', 'mudan', 'Ainda', 'condi', 'militantes', 'estrutura', 'correta', 'Acima', 'organiza', 'sistema', 'consumo', 'vai', 'existem', 'esperado', 'verticais', 'paradigmas', 'cio', 'assume', 'demonstrou', 'fazemos', 'consulta', 'ria', 'previs', 'equipes', 'funcionais', 'prefer', 'participar', 'cnica', 'expans', 'atitudes', 'ainda', 'estimula', 'aos', 'gest', 'afeta', 'padroniza', 'ponderadas', 'global', 'papel', 'essencial', 'Todas', 'atribui', 'Pensando', 'composi', 'aponta', 'ado', 'vel', 'estas', 'modos', 'cen', 'lado', 'renova', 'vis', 'opera', 'maximiza', 'posturas', 'quest', 'execu', 'sentido', 'modo', 'outro', 'moderniza', 'ter', 'nua', 'comerciais', 'aqui', 'adotados', 'qualifica', 'ticas', 'causa', 'novo', 'vislumbrar', 'exige', 'costumes', 'amigos', 'processual', 'consenso', 'conta', 'defini', 'considerar', 'pontos', 'precis', 'melhor', 'fluxo', 'desafiador', 'modelo', 'acarreta', 'claro', 'reformula', 'cumpre', 'cria', 'cotidiana', 'facilita', 'auxilia', 'prepara', 'imparcial', 'rela', 'rcio', 'dirigentes', 'talvez', 'propostas', 'suas', 'estrutural', 'nossa', 'prova', 'Neste', 'melhoria', 'levar', 'metas', 'sempre', 'faz', 'cont', 'pol', 'mundo', 'formula', 'rio', 'julgamento', 'levantam', 'surgimento', 'transa', 'mercados', 'virtual', 'nas', 'setorial', 'indireto', 'mundiais', 'temos', 'exigidas', 'reavalia', 'Podemos', 'pelo', 'amento', 'Caros', 'mente', 'tica', 'pode', 'revolu', 'venha', 'programa']\n"
     ]
    },
    {
     "data": {
      "image/png": "[encoded data removed]",
      "text/plain": [
       "<matplotlib.figure.Figure at 0x7f4e50c38ed0>"
      ]
     },
     "metadata": {},
     "output_type": "display_data"
    }
   ],
   "source": [
    "# -*- coding: utf-8 -*-\n",
    "import matplotlib.pylab as plt\n",
    "#plt.rc('font', family='Arial')\n",
    "my_xticks, y = zip(*lists) # unpack a list of pairs into two tuples\n",
    "my_xticks = [t for t in my_xticks]\n",
    "print(my_xticks)\n",
    "x = range(len(my_xticks))\n",
    "plt.xticks(x[:20], my_xticks[:20],rotation=45)\n",
    "plt.plot(x[:20], y[:20])\n",
    "plt.show()"
   ]
  },
  {
   "cell_type": "code",
   "execution_count": 71,
   "metadata": {},
   "outputs": [
    {
     "data": {
      "image/png": "[encoded data removed]",
      "text/plain": [
       "<matplotlib.figure.Figure at 0x7f4e506d1c90>"
      ]
     },
     "metadata": {},
     "output_type": "display_data"
    }
   ],
   "source": [
    "plt.plot(x, y)\n",
    "plt.show()"
   ]
  },
  {
   "cell_type": "code",
   "execution_count": null,
   "metadata": {},
   "outputs": [],
   "source": []
  }
 ],
 "metadata": {
  "kernelspec": {
   "display_name": "vnv",
   "language": "python",
   "name": "vnv"
  },
  "language_info": {
   "codemirror_mode": {
    "name": "ipython",
    "version": 2
   },
   "file_extension": ".py",
   "mimetype": "text/x-python",
   "name": "python",
   "nbconvert_exporter": "python",
   "pygments_lexer": "ipython2",
   "version": "2.7.12"
  }
 },
 "nbformat": 4,
 "nbformat_minor": 2
}
